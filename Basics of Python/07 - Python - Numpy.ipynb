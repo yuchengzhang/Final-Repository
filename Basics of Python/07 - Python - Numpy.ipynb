{
 "metadata": {
  "name": ""
 },
 "nbformat": 3,
 "nbformat_minor": 0,
 "worksheets": [
  {
   "cells": [
    {
     "cell_type": "markdown",
     "metadata": {},
     "source": [
      "**Definition:** A *multidimensional array* $A$ of *dimension* $d$ is a collection of individual data points indexed by $n$ numbers: i.e., an individual data point is denoted by \n",
      "\n",
      "$$A[i_1, i_2, \\dots, i_d]$$\n",
      "\n",
      "where $i_l = 1,\\dots, n_l$ is the index corresponding to the $l$ axis, and where $n_l$ is the number of data points stored along the $l$ axis. \n",
      "\n",
      "The *shape* of an array is the tuple\n",
      "\n",
      "$$(n_1,\\dots,n_d).$$"
     ]
    },
    {
     "cell_type": "markdown",
     "metadata": {},
     "source": [
      "**Remark 1:** The dimension above is different from the notion of dimension in linear algebra, which is the number of entries in the array (i.e. $n_1n_2\\dots n_d$).\n",
      "\n",
      "**Remark 2:** The dimension in the definition above emphasis the fact that a multidimensional array of dimension $d$ can be geometrically regarded as a $d$ dimensinal cube of numbers sitting in $\\mathbb R^d$."
     ]
    },
    {
     "cell_type": "markdown",
     "metadata": {},
     "source": [
      "\n",
      "![data cube 2](http://www.oracle.com/ocom/groups/public/%40otn/documents/digitalasset/105005.gif)\n",
      "\n"
     ]
    },
    {
     "cell_type": "heading",
     "level": 2,
     "metadata": {},
     "source": [
      "Nested list representation"
     ]
    },
    {
     "cell_type": "heading",
     "level": 3,
     "metadata": {},
     "source": [
      "1D array of numerical observations"
     ]
    },
    {
     "cell_type": "markdown",
     "metadata": {},
     "source": [
      "Construct a list by enumerating its elements"
     ]
    },
    {
     "cell_type": "code",
     "collapsed": false,
     "input": [
      "a = [1, 3, 4, 5, 6]"
     ],
     "language": "python",
     "metadata": {},
     "outputs": [],
     "prompt_number": 5
    },
    {
     "cell_type": "markdown",
     "metadata": {},
     "source": [
      "Construct a list by comprehension"
     ]
    },
    {
     "cell_type": "code",
     "collapsed": false,
     "input": [
      "b = [x**2 for x in range(100)]"
     ],
     "language": "python",
     "metadata": {},
     "outputs": [],
     "prompt_number": 6
    },
    {
     "cell_type": "heading",
     "level": 3,
     "metadata": {},
     "source": [
      "2D array (or matrix)"
     ]
    },
    {
     "cell_type": "code",
     "collapsed": false,
     "input": [
      "A = [ [1, 2, 3], [4, 5, 6] ]\n",
      "A"
     ],
     "language": "python",
     "metadata": {},
     "outputs": [
      {
       "metadata": {},
       "output_type": "pyout",
       "prompt_number": 7,
       "text": [
        "[[1, 2, 3], [4, 5, 6]]"
       ]
      }
     ],
     "prompt_number": 7
    },
    {
     "cell_type": "code",
     "collapsed": false,
     "input": [
      "A[0]"
     ],
     "language": "python",
     "metadata": {},
     "outputs": [
      {
       "metadata": {},
       "output_type": "pyout",
       "prompt_number": 8,
       "text": [
        "[1, 2, 3]"
       ]
      }
     ],
     "prompt_number": 8
    },
    {
     "cell_type": "code",
     "collapsed": false,
     "input": [
      "A[0][1]"
     ],
     "language": "python",
     "metadata": {},
     "outputs": [
      {
       "metadata": {},
       "output_type": "pyout",
       "prompt_number": 9,
       "text": [
        "2"
       ]
      }
     ],
     "prompt_number": 9
    },
    {
     "cell_type": "heading",
     "level": 3,
     "metadata": {},
     "source": [
      "3D arrays"
     ]
    },
    {
     "cell_type": "markdown",
     "metadata": {},
     "source": [
      "Nest one more level of list"
     ]
    },
    {
     "cell_type": "markdown",
     "metadata": {},
     "source": [
      "**Shortcomings:**\n",
      "\n",
      "* indexing\n",
      "* methods act on the first level\n",
      "* speed for big data\n",
      "* basic arithmetic and statistic operation missing"
     ]
    },
    {
     "cell_type": "code",
     "collapsed": false,
     "input": [],
     "language": "python",
     "metadata": {},
     "outputs": [],
     "prompt_number": 9
    },
    {
     "cell_type": "heading",
     "level": 2,
     "metadata": {},
     "source": [
      "Numpy multidimensional arrays"
     ]
    },
    {
     "cell_type": "heading",
     "level": 3,
     "metadata": {},
     "source": [
      "Constructor"
     ]
    },
    {
     "cell_type": "code",
     "collapsed": false,
     "input": [
      "from numpy import array"
     ],
     "language": "python",
     "metadata": {},
     "outputs": [],
     "prompt_number": 10
    },
    {
     "cell_type": "markdown",
     "metadata": {},
     "source": [
      "To instanciate an numpy array, you may pass to its constructor a representation of your multidimensional array in terms of nested lists."
     ]
    },
    {
     "cell_type": "code",
     "collapsed": false,
     "input": [
      "Arr = array(A)\n",
      "print Arr\n",
      "print '\\n'\n",
      "print A"
     ],
     "language": "python",
     "metadata": {},
     "outputs": [
      {
       "output_type": "stream",
       "stream": "stdout",
       "text": [
        "[[1 2 3]\n",
        " [4 5 6]]\n",
        "\n",
        "\n",
        "[[1, 2, 3], [4, 5, 6]]\n"
       ]
      }
     ],
     "prompt_number": 11
    },
    {
     "cell_type": "markdown",
     "metadata": {},
     "source": [
      "Numpy construct 2D arrays from nested lists $[a_1,\\dots, a_m]$, where $a_i=[a_{i1},\\dots, a_{in}]$ by interpreting the list elements $a_i$ as the **rows** of the resulting 2D array: this is the *row-major* convention. (R will follow the *column-major* convention). "
     ]
    },
    {
     "cell_type": "markdown",
     "metadata": {},
     "source": [
      "The array constructor has several optional argument customizing the behaviour of the array object that it creates. The most important for us is the <code>dtype</code> argument, which can take among many possible values the two following ones:\n",
      "\n",
      "* <code>float64</code> for real numbers\n",
      "* <code>int64</code> for integers"
     ]
    },
    {
     "cell_type": "code",
     "collapsed": false,
     "input": [
      "a = [[1,2,3], [4,5,6]]\n",
      "A = array(a, dtype = \"float64\")\n",
      "A"
     ],
     "language": "python",
     "metadata": {},
     "outputs": [
      {
       "metadata": {},
       "output_type": "pyout",
       "prompt_number": 23,
       "text": [
        "array([[ 1.,  2.,  3.],\n",
        "       [ 4.,  5.,  6.]])"
       ]
      }
     ],
     "prompt_number": 23
    },
    {
     "cell_type": "markdown",
     "metadata": {},
     "source": [
      "**Remarks:** If one tries to assign (using the bracket opearator) a new value to an array component\n",
      "\n",
      "    A[i,j] = val\n",
      "    \n",
      "python will try to convert <code>val</code> to an object of the <code>dtype</code> class (whose name isstored as an attribute of the array object:\n",
      "\n",
      "    A.dtype"
     ]
    },
    {
     "cell_type": "heading",
     "level": 3,
     "metadata": {},
     "source": [
      "Operations and methods"
     ]
    },
    {
     "cell_type": "code",
     "collapsed": false,
     "input": [
      "b = [1.9, 2, 4, 9, 0, 4, 2, 9]\n",
      "\n",
      "B = array(b)\n",
      "\n",
      "B.shape"
     ],
     "language": "python",
     "metadata": {},
     "outputs": [
      {
       "metadata": {},
       "output_type": "pyout",
       "prompt_number": 28,
       "text": [
        "(8,)"
       ]
      }
     ],
     "prompt_number": 28
    },
    {
     "cell_type": "markdown",
     "metadata": {},
     "source": [
      "**Caution:** The <code>reshape</code> methode returns an new array with desired shape, but does not modify the original array! "
     ]
    },
    {
     "cell_type": "code",
     "collapsed": false,
     "input": [
      "C = B.reshape((2, 4))\n"
     ],
     "language": "python",
     "metadata": {},
     "outputs": [],
     "prompt_number": 35
    },
    {
     "cell_type": "code",
     "collapsed": false,
     "input": [
      "Barr = Arr.reshape((1,6))\n",
      "Barr"
     ],
     "language": "python",
     "metadata": {},
     "outputs": [
      {
       "metadata": {},
       "output_type": "pyout",
       "prompt_number": 28,
       "text": [
        "array([[1, 2, 3, 4, 5, 6]])"
       ]
      }
     ],
     "prompt_number": 28
    },
    {
     "cell_type": "code",
     "collapsed": false,
     "input": [
      "Arr.reshape((3,2))"
     ],
     "language": "python",
     "metadata": {},
     "outputs": [
      {
       "metadata": {},
       "output_type": "pyout",
       "prompt_number": 25,
       "text": [
        "array([[1, 2],\n",
        "       [3, 4],\n",
        "       [5, 6]])"
       ]
      }
     ],
     "prompt_number": 25
    },
    {
     "cell_type": "code",
     "collapsed": false,
     "input": [
      "C = array([x**2 for x in range(25)]).reshape((5,5))"
     ],
     "language": "python",
     "metadata": {},
     "outputs": [],
     "prompt_number": 34
    },
    {
     "cell_type": "code",
     "collapsed": false,
     "input": [
      "C"
     ],
     "language": "python",
     "metadata": {},
     "outputs": [
      {
       "metadata": {},
       "output_type": "pyout",
       "prompt_number": 33,
       "text": [
        "(5, 5)"
       ]
      }
     ],
     "prompt_number": 33
    },
    {
     "cell_type": "heading",
     "level": 3,
     "metadata": {},
     "source": [
      "Subsetting and indexing"
     ]
    },
    {
     "cell_type": "heading",
     "level": 3,
     "metadata": {},
     "source": [
      "Scalar indexing (or subsetting)"
     ]
    },
    {
     "cell_type": "code",
     "collapsed": false,
     "input": [
      "from numpy import linspace"
     ],
     "language": "python",
     "metadata": {},
     "outputs": [],
     "prompt_number": 46
    },
    {
     "cell_type": "code",
     "collapsed": false,
     "input": [
      "A = linspace(0, 100, 100)\n",
      "A.size\n",
      "\n",
      "A.reshape((10,10))"
     ],
     "language": "python",
     "metadata": {},
     "outputs": [
      {
       "metadata": {},
       "output_type": "pyout",
       "prompt_number": 51,
       "text": [
        "array([[   0.        ,    1.01010101,    2.02020202,    3.03030303,\n",
        "           4.04040404,    5.05050505,    6.06060606,    7.07070707,\n",
        "           8.08080808,    9.09090909],\n",
        "       [  10.1010101 ,   11.11111111,   12.12121212,   13.13131313,\n",
        "          14.14141414,   15.15151515,   16.16161616,   17.17171717,\n",
        "          18.18181818,   19.19191919],\n",
        "       [  20.2020202 ,   21.21212121,   22.22222222,   23.23232323,\n",
        "          24.24242424,   25.25252525,   26.26262626,   27.27272727,\n",
        "          28.28282828,   29.29292929],\n",
        "       [  30.3030303 ,   31.31313131,   32.32323232,   33.33333333,\n",
        "          34.34343434,   35.35353535,   36.36363636,   37.37373737,\n",
        "          38.38383838,   39.39393939],\n",
        "       [  40.4040404 ,   41.41414141,   42.42424242,   43.43434343,\n",
        "          44.44444444,   45.45454545,   46.46464646,   47.47474747,\n",
        "          48.48484848,   49.49494949],\n",
        "       [  50.50505051,   51.51515152,   52.52525253,   53.53535354,\n",
        "          54.54545455,   55.55555556,   56.56565657,   57.57575758,\n",
        "          58.58585859,   59.5959596 ],\n",
        "       [  60.60606061,   61.61616162,   62.62626263,   63.63636364,\n",
        "          64.64646465,   65.65656566,   66.66666667,   67.67676768,\n",
        "          68.68686869,   69.6969697 ],\n",
        "       [  70.70707071,   71.71717172,   72.72727273,   73.73737374,\n",
        "          74.74747475,   75.75757576,   76.76767677,   77.77777778,\n",
        "          78.78787879,   79.7979798 ],\n",
        "       [  80.80808081,   81.81818182,   82.82828283,   83.83838384,\n",
        "          84.84848485,   85.85858586,   86.86868687,   87.87878788,\n",
        "          88.88888889,   89.8989899 ],\n",
        "       [  90.90909091,   91.91919192,   92.92929293,   93.93939394,\n",
        "          94.94949495,   95.95959596,   96.96969697,   97.97979798,\n",
        "          98.98989899,  100.        ]])"
       ]
      }
     ],
     "prompt_number": 51
    },
    {
     "cell_type": "heading",
     "level": 4,
     "metadata": {},
     "source": [
      "Logical indexing"
     ]
    },
    {
     "cell_type": "code",
     "collapsed": false,
     "input": [
      "A = array(range(25)).reshape((5, 5))\n",
      "A"
     ],
     "language": "python",
     "metadata": {},
     "outputs": [
      {
       "metadata": {},
       "output_type": "pyout",
       "prompt_number": 45,
       "text": [
        "array([[ 0,  1,  2,  3,  4],\n",
        "       [ 5,  6,  7,  8,  9],\n",
        "       [10, 11, 12, 13, 14],\n",
        "       [15, 16, 17, 18, 19],\n",
        "       [20, 21, 22, 23, 24]])"
       ]
      }
     ],
     "prompt_number": 45
    },
    {
     "cell_type": "code",
     "collapsed": false,
     "input": [
      "Ind = A < 10"
     ],
     "language": "python",
     "metadata": {},
     "outputs": [],
     "prompt_number": 48
    },
    {
     "cell_type": "code",
     "collapsed": false,
     "input": [
      "A[Ind]"
     ],
     "language": "python",
     "metadata": {},
     "outputs": [
      {
       "metadata": {},
       "output_type": "pyout",
       "prompt_number": 49,
       "text": [
        "array([0, 1, 2, 3, 4, 5, 6, 7, 8, 9])"
       ]
      }
     ],
     "prompt_number": 49
    },
    {
     "cell_type": "heading",
     "level": 4,
     "metadata": {},
     "source": [
      "Slices"
     ]
    },
    {
     "cell_type": "code",
     "collapsed": false,
     "input": [
      "A[2,3]"
     ],
     "language": "python",
     "metadata": {},
     "outputs": [
      {
       "metadata": {},
       "output_type": "pyout",
       "prompt_number": 50,
       "text": [
        "13"
       ]
      }
     ],
     "prompt_number": 50
    },
    {
     "cell_type": "code",
     "collapsed": false,
     "input": [
      "A"
     ],
     "language": "python",
     "metadata": {},
     "outputs": [
      {
       "metadata": {},
       "output_type": "pyout",
       "prompt_number": 51,
       "text": [
        "array([[ 0,  1,  2,  3,  4],\n",
        "       [ 5,  6,  7,  8,  9],\n",
        "       [10, 11, 12, 13, 14],\n",
        "       [15, 16, 17, 18, 19],\n",
        "       [20, 21, 22, 23, 24]])"
       ]
      }
     ],
     "prompt_number": 51
    },
    {
     "cell_type": "code",
     "collapsed": false,
     "input": [
      "A[0:2, 1:4]"
     ],
     "language": "python",
     "metadata": {},
     "outputs": [
      {
       "metadata": {},
       "output_type": "pyout",
       "prompt_number": 52,
       "text": [
        "array([[1, 2, 3],\n",
        "       [6, 7, 8]])"
       ]
      }
     ],
     "prompt_number": 52
    },
    {
     "cell_type": "code",
     "collapsed": false,
     "input": [
      "A[0:5:2, 0:5:2]"
     ],
     "language": "python",
     "metadata": {},
     "outputs": [
      {
       "metadata": {},
       "output_type": "pyout",
       "prompt_number": 53,
       "text": [
        "array([[ 0,  2,  4],\n",
        "       [10, 12, 14],\n",
        "       [20, 22, 24]])"
       ]
      }
     ],
     "prompt_number": 53
    },
    {
     "cell_type": "heading",
     "level": 2,
     "metadata": {},
     "source": [
      "Vectorized computation"
     ]
    },
    {
     "cell_type": "code",
     "collapsed": false,
     "input": [
      "A = array(range(25)).reshape((5,5))\n",
      "B = array([x**2 for x in range(25)]).reshape((5,5))"
     ],
     "language": "python",
     "metadata": {},
     "outputs": [],
     "prompt_number": 54
    },
    {
     "cell_type": "heading",
     "level": 4,
     "metadata": {},
     "source": [
      "Term by term sum"
     ]
    },
    {
     "cell_type": "code",
     "collapsed": false,
     "input": [
      "A + B"
     ],
     "language": "python",
     "metadata": {},
     "outputs": [
      {
       "metadata": {},
       "output_type": "pyout",
       "prompt_number": 55,
       "text": [
        "array([[  0,   2,   6,  12,  20],\n",
        "       [ 30,  42,  56,  72,  90],\n",
        "       [110, 132, 156, 182, 210],\n",
        "       [240, 272, 306, 342, 380],\n",
        "       [420, 462, 506, 552, 600]])"
       ]
      }
     ],
     "prompt_number": 55
    },
    {
     "cell_type": "heading",
     "level": 4,
     "metadata": {},
     "source": [
      "Term by term multiplication"
     ]
    },
    {
     "cell_type": "code",
     "collapsed": false,
     "input": [
      "A * B"
     ],
     "language": "python",
     "metadata": {},
     "outputs": [
      {
       "metadata": {},
       "output_type": "pyout",
       "prompt_number": 56,
       "text": [
        "array([[    0,     1,     8,    27,    64],\n",
        "       [  125,   216,   343,   512,   729],\n",
        "       [ 1000,  1331,  1728,  2197,  2744],\n",
        "       [ 3375,  4096,  4913,  5832,  6859],\n",
        "       [ 8000,  9261, 10648, 12167, 13824]])"
       ]
      }
     ],
     "prompt_number": 56
    },
    {
     "cell_type": "heading",
     "level": 4,
     "metadata": {},
     "source": [
      "Apply math functions on the matrix as whole"
     ]
    },
    {
     "cell_type": "code",
     "collapsed": false,
     "input": [
      "from numpy import cos, exp"
     ],
     "language": "python",
     "metadata": {},
     "outputs": [],
     "prompt_number": 58
    },
    {
     "cell_type": "code",
     "collapsed": false,
     "input": [
      "cos(A) * exp(B) - A / 3.0"
     ],
     "language": "python",
     "metadata": {},
     "outputs": [
      {
       "metadata": {},
       "output_type": "pyout",
       "prompt_number": 62,
       "text": [
        "array([[  1.00000000e+000,   1.13536061e+000,  -2.33875141e+001,\n",
        "         -8.02299229e+003,  -5.80835079e+006],\n",
        "       [  2.04250671e+010,   4.13951643e+015,   1.43795288e+021,\n",
        "         -9.07214402e+026,  -1.37225084e+035],\n",
        "       [ -2.25552256e+043,   1.56896799e+050,   2.91522907e+062,\n",
        "          2.25729649e+073,   1.80969420e+084],\n",
        "       [ -3.95269810e+097,  -1.44743303e+111,  -8.92680071e+124,\n",
        "          3.39753879e+140,   5.96176056e+156],\n",
        "       [  2.13078812e+173,  -1.82992151e+191,  -1.57947308e+210,\n",
        "         -2.94016740e+229,   6.04186125e+249]])"
       ]
      }
     ],
     "prompt_number": 62
    }
   ],
   "metadata": {}
  }
 ]
}