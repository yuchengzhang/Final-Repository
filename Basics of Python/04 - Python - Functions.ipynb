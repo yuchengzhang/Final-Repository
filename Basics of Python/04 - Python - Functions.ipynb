{
 "metadata": {
  "name": ""
 },
 "nbformat": 3,
 "nbformat_minor": 0,
 "worksheets": [
  {
   "cells": [
    {
     "cell_type": "heading",
     "level": 1,
     "metadata": {},
     "source": [
      "Functions"
     ]
    },
    {
     "cell_type": "heading",
     "level": 3,
     "metadata": {},
     "source": [
      "Function definition"
     ]
    },
    {
     "cell_type": "markdown",
     "metadata": {},
     "source": [
      "**Definition:** A function in Python is the programmatic realization of the idea of a math function $f:A \\rightarrow B$, that is, a rule that tells you how to associate any value $a$ in an *input set* a *unique value* $b$ in an *output set*.\n",
      "\n",
      "**Example:** Consider the math function $f:\\mathbb R\\rightarrow \\mathbb R$ given by \n",
      "\n",
      "$$f(x) = \\cos(x) e^{-\\frac{x^2}{5}}.$$"
     ]
    },
    {
     "cell_type": "code",
     "collapsed": false,
     "input": [
      "from math import exp, cos\n"
     ],
     "language": "python",
     "metadata": {},
     "outputs": [],
     "prompt_number": 11
    },
    {
     "cell_type": "markdown",
     "metadata": {},
     "source": [
      "In Python, one way to define a function is by using the following construct:\n",
      "    \n",
      "    def function_name(arg1, arg2, arg3):\n",
      "        instruction 1\n",
      "        instruction 2\n",
      "        instruction 3\n",
      "        return z\n",
      "        \n",
      "The **input** of the function $f$ is the argements arg1, arg2, arg3, and the **output** of $f$ is **whatever comes after the keyword** <code>return</code>. \n",
      "\n",
      "**Remark:** If not the function does not have a <code>return</code> instruction, then **nothing is returned!!!!**"
     ]
    },
    {
     "cell_type": "code",
     "collapsed": false,
     "input": [
      "def f(x):\n",
      "    z = cos(x) * exp(-(x**2/5.0))\n",
      "    return z"
     ],
     "language": "python",
     "metadata": {},
     "outputs": [],
     "prompt_number": 27
    },
    {
     "cell_type": "code",
     "collapsed": false,
     "input": [
      "def g(x):\n",
      "    return cos(x)**2 + exp(x)"
     ],
     "language": "python",
     "metadata": {},
     "outputs": [],
     "prompt_number": 31
    },
    {
     "cell_type": "heading",
     "level": 3,
     "metadata": {},
     "source": [
      "Function call"
     ]
    },
    {
     "cell_type": "markdown",
     "metadata": {},
     "source": [
      "A **function call** is an expression of the form\n",
      "\n",
      "    function_name(val1, val2, val3)\n",
      "    \n",
      "where now <code>val1, val2, val3</code> are concrete values and not *parameters*. The interpreter evaluates a function call by **replacing the function call by the function output.**"
     ]
    },
    {
     "cell_type": "code",
     "collapsed": false,
     "input": [
      "z = g(6)\n",
      "y = f(4)"
     ],
     "language": "python",
     "metadata": {},
     "outputs": [
      {
       "output_type": "stream",
       "stream": "stdout",
       "text": [
        "404.350720472\n",
        "-0.0266439546028\n"
       ]
      }
     ],
     "prompt_number": 24
    },
    {
     "cell_type": "code",
     "collapsed": false,
     "input": [
      "y"
     ],
     "language": "python",
     "metadata": {},
     "outputs": [],
     "prompt_number": 25
    },
    {
     "cell_type": "code",
     "collapsed": false,
     "input": [
      "z"
     ],
     "language": "python",
     "metadata": {},
     "outputs": [],
     "prompt_number": 26
    },
    {
     "cell_type": "heading",
     "level": 3,
     "metadata": {},
     "source": [
      "Function Compostion"
     ]
    },
    {
     "cell_type": "markdown",
     "metadata": {},
     "source": [
      "In math, if you have two functions $f:A\\rightarrow B$ and $g:B\\rightarrow C$, you can compose these functions by appliying first $f$ to and element $a\\in A$ and then the second function $g$ to the output $f(a)\\in B$. The result is a *new function* called the *composition*: $g \\circ f(a):= g(f(a))$ yielding the function $g\\circ f:A \\rightarrow C$. "
     ]
    },
    {
     "cell_type": "markdown",
     "metadata": {},
     "source": [
      "In Python (and in any other programming languages), one composes function the same way:"
     ]
    },
    {
     "cell_type": "code",
     "collapsed": false,
     "input": [
      "f(g(g(f(3))))"
     ],
     "language": "python",
     "metadata": {},
     "outputs": [
      {
       "metadata": {},
       "output_type": "pyout",
       "prompt_number": 32,
       "text": [
        "0.00040507051471082436"
       ]
      }
     ],
     "prompt_number": 32
    },
    {
     "cell_type": "heading",
     "level": 2,
     "metadata": {},
     "source": [
      "Print and return"
     ]
    },
    {
     "cell_type": "code",
     "collapsed": false,
     "input": [
      "def noReturnFct(x,y):\n",
      "    print x + y\n",
      "    return 'My grandma'"
     ],
     "language": "python",
     "metadata": {},
     "outputs": [],
     "prompt_number": 36
    },
    {
     "cell_type": "code",
     "collapsed": false,
     "input": [
      "z = noReturnFct(8,9)"
     ],
     "language": "python",
     "metadata": {},
     "outputs": [
      {
       "output_type": "stream",
       "stream": "stdout",
       "text": [
        "17\n"
       ]
      }
     ],
     "prompt_number": 37
    },
    {
     "cell_type": "code",
     "collapsed": false,
     "input": [
      "z"
     ],
     "language": "python",
     "metadata": {},
     "outputs": [
      {
       "metadata": {},
       "output_type": "pyout",
       "prompt_number": 38,
       "text": [
        "'My grandma'"
       ]
      }
     ],
     "prompt_number": 38
    },
    {
     "cell_type": "code",
     "collapsed": false,
     "input": [],
     "language": "python",
     "metadata": {},
     "outputs": []
    },
    {
     "cell_type": "heading",
     "level": 2,
     "metadata": {},
     "source": [
      "Main parameter and options"
     ]
    },
    {
     "cell_type": "markdown",
     "metadata": {},
     "source": [
      "We can separate the parameter of function in two types:\n",
      "\n",
      "* main parameters, that are required for the function to work: it's the **INPUT**\n",
      "\n",
      "* optional parameter, that are not required, and that customize the function behaviour: they are the **OPTIONS**\n",
      "\n",
      "*Remark:* Optional parameter are not required because they have **default values**\n",
      "\n",
      "    f(x, option1=value1, option2=value2, etc.)\n",
      "\n",
      "If the function call is as follows:\n",
      "\n",
      "    f(4)\n",
      "    \n",
      "then, behind the scene, Python calls the function with the default arguments\n",
      "\n",
      "    f(4, value1, value2)"
     ]
    },
    {
     "cell_type": "code",
     "collapsed": false,
     "input": [
      "from math import exp\n",
      "\n",
      "def f(x, mu=1):\n",
      "    return mu**x * exp(mu * x)"
     ],
     "language": "python",
     "metadata": {},
     "outputs": [],
     "prompt_number": 3
    },
    {
     "cell_type": "markdown",
     "metadata": {},
     "source": [
      "The function above represent the family of functions\n",
      "\n",
      "$$ f_\\mu (x) = \\mu^x\\exp(\\mu x),$$\n",
      "\n",
      "where $x$ is the function input and $\\mu$ is the family parameter. "
     ]
    },
    {
     "cell_type": "code",
     "collapsed": false,
     "input": [
      "f(4)"
     ],
     "language": "python",
     "metadata": {},
     "outputs": [
      {
       "metadata": {},
       "output_type": "pyout",
       "prompt_number": 4,
       "text": [
        "54.598150033144236"
       ]
      }
     ],
     "prompt_number": 4
    },
    {
     "cell_type": "code",
     "collapsed": false,
     "input": [
      "f(4, mu=3)"
     ],
     "language": "python",
     "metadata": {},
     "outputs": [
      {
       "metadata": {},
       "output_type": "pyout",
       "prompt_number": 5,
       "text": [
        "13183138.104939317"
       ]
      }
     ],
     "prompt_number": 5
    },
    {
     "cell_type": "code",
     "collapsed": false,
     "input": [
      "f(mu=3, 4)"
     ],
     "language": "python",
     "metadata": {},
     "outputs": [
      {
       "ename": "SyntaxError",
       "evalue": "non-keyword arg after keyword arg (<ipython-input-6-a6e77dadcf33>, line 1)",
       "output_type": "pyerr",
       "traceback": [
        "\u001b[0;36m  File \u001b[0;32m\"<ipython-input-6-a6e77dadcf33>\"\u001b[0;36m, line \u001b[0;32m1\u001b[0m\n\u001b[0;31m    f(mu=3, 4)\u001b[0m\n\u001b[0;31mSyntaxError\u001b[0m\u001b[0;31m:\u001b[0m non-keyword arg after keyword arg\n"
       ]
      }
     ],
     "prompt_number": 6
    },
    {
     "cell_type": "code",
     "collapsed": false,
     "input": [
      "f(mu=3, x=4)"
     ],
     "language": "python",
     "metadata": {},
     "outputs": [
      {
       "metadata": {},
       "output_type": "pyout",
       "prompt_number": 7,
       "text": [
        "13183138.104939317"
       ]
      }
     ],
     "prompt_number": 7
    }
   ],
   "metadata": {}
  }
 ]
}