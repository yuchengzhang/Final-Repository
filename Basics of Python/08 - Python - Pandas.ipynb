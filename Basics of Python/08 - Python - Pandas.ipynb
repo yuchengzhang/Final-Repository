{
 "metadata": {
  "name": ""
 },
 "nbformat": 3,
 "nbformat_minor": 0,
 "worksheets": [
  {
   "cells": [
    {
     "cell_type": "markdown",
     "metadata": {
      "slideshow": {
       "slide_type": "slide"
      }
     },
     "source": [
      "**Pandas** is one of the main Python packages for **data analysis**, along with \n",
      "\n",
      "* **Numpy**: numerical array manipulations\n",
      "* **Scipy**: more sophisticated math classes (such as probability distributions, etc.)\n",
      "\n",
      "Pandas is based on Numpy arrays and provides two main classes:\n",
      "\n",
      "    Series\n",
      "    DataFrame\n",
      "    \n",
      "Roughly, both classes contain a <code>Numpy array</code> has one of their attributes:\n",
      "\n",
      "* a 1D array for <code>Series</code>\n",
      "\n",
      "* a 2D array for <code>DataFrame</code>\n",
      "\n",
      "Both classes provides additional functionality to plain <code>Numpy arrays</code> in order to facilitate the analysis of **inhomogeneous labelled data**. "
     ]
    },
    {
     "cell_type": "heading",
     "level": 2,
     "metadata": {
      "slideshow": {
       "slide_type": "slide"
      }
     },
     "source": [
      "Pandas Series"
     ]
    },
    {
     "cell_type": "markdown",
     "metadata": {
      "slideshow": {
       "slide_type": "fragment"
      }
     },
     "source": [
      "**Definition:** A Pandas <code>Series</code> is the programmatic embodiement of a **data line**, i.e. a **labelled sequence of data points**:\n",
      "\n",
      "\n",
      "$$x_{i_1},x_{i_2},\\dots, x_{i_n}$$\n",
      "\n",
      "\n",
      "If the labels $i_1,\\dots, i_n$ correspond to \n",
      "\n",
      "* *unique ID of individuals from a population* $\\Omega=\\{1,\\dots,N\\}$, and the data points correspond to the *value of some characteristic* $X:\\Omega\\rightarrow \\mathbb R$ for these individuals, the data line is called a **population sample** (of observations): $x_{i_l} = X(i_l).$\n",
      "\n",
      "\n",
      "* *instant in times* $i_1 < i_2 <\\cdots < i_n$ and the data points correspond to the value of the characteristic $X$ of a single fixed individual $\\omega\\in \\Omega$ but at different moment in times, the data line is called a **time series**: $x_{i_l} = X_{t=i_l}(\\omega).$"
     ]
    },
    {
     "cell_type": "markdown",
     "metadata": {
      "slideshow": {
       "slide_type": "slide"
      }
     },
     "source": [
      "The Series class is imported from the module pandas as follows:"
     ]
    },
    {
     "cell_type": "code",
     "collapsed": false,
     "input": [
      "from pandas import Series"
     ],
     "language": "python",
     "metadata": {
      "slideshow": {
       "slide_type": "fragment"
      }
     },
     "outputs": [],
     "prompt_number": 1
    },
    {
     "cell_type": "markdown",
     "metadata": {
      "slideshow": {
       "slide_type": "fragment"
      }
     },
     "source": [
      "The Series constructor takes the following arguments (which are all set to <code>None</code> by default:\n",
      "\n",
      "    Series(data=None, index=None, dtype=None, name=None, copy=False)\n",
      "    \n",
      "where \n",
      "\n",
      "* <code>data</code> is any array like object containing the **data points**\n",
      "* <code>index</code> is any array-like object containing the **labels (or indices)**\n",
      "* <code>dtype</code> is the type of the datapoints, such as <code>float64</code> or <code>int64</code>\n",
      "* <code>copy</code> is a *flag* telling the class constructor whether to internally copy the data or not\n",
      "    "
     ]
    },
    {
     "cell_type": "markdown",
     "metadata": {
      "slideshow": {
       "slide_type": "slide"
      }
     },
     "source": [
      "If nothing is passed to the class constructor, except for the data argument, the constructor will try to infer everthing from the data. \n",
      "\n",
      "For instance, one can pass a dictionary to the <code>Series</code> constructor:"
     ]
    },
    {
     "cell_type": "code",
     "collapsed": false,
     "input": [
      "data = {'Luc':32, 'Bob':24, 'Lucy':89}\n",
      "\n",
      "dataLine = Series(data)\n",
      "dataLine"
     ],
     "language": "python",
     "metadata": {
      "slideshow": {
       "slide_type": "fragment"
      }
     },
     "outputs": [
      {
       "metadata": {},
       "output_type": "pyout",
       "prompt_number": 2,
       "text": [
        "Bob     24\n",
        "Luc     32\n",
        "Lucy    89\n",
        "dtype: int64"
       ]
      }
     ],
     "prompt_number": 2
    },
    {
     "cell_type": "markdown",
     "metadata": {
      "slideshow": {
       "slide_type": "fragment"
      }
     },
     "source": [
      "**Exercise:** Explore the method of the class <code>Series</code> for yourself, and figure out the ones that may be the most useful to you (Recall that auto-completion with key tab can help you greatly with this exploration)."
     ]
    },
    {
     "cell_type": "code",
     "collapsed": false,
     "input": [
      "dataMena = dataLine.mean()\n",
      "dataStd = dataLine.std()\n",
      "summary = dataLine.describe()\n",
      "#dataLine.values\n",
      "type(summary)\n",
      "print(summary)"
     ],
     "language": "python",
     "metadata": {
      "slideshow": {
       "slide_type": "fragment"
      }
     },
     "outputs": [
      {
       "output_type": "stream",
       "stream": "stdout",
       "text": [
        "count     3.000000\n",
        "mean     48.333333\n",
        "std      35.444793\n",
        "min      24.000000\n",
        "25%      28.000000\n",
        "50%      32.000000\n",
        "75%      60.500000\n",
        "max      89.000000\n",
        "dtype: float64\n"
       ]
      }
     ],
     "prompt_number": 3
    },
    {
     "cell_type": "heading",
     "level": 2,
     "metadata": {
      "slideshow": {
       "slide_type": "slide"
      }
     },
     "source": [
      "Pandas DataFrame"
     ]
    },
    {
     "cell_type": "markdown",
     "metadata": {
      "slideshow": {
       "slide_type": "fragment"
      }
     },
     "source": [
      "**Definition:** A Pandas `DataFrame` is the programmatic embodiement of a **data table**, i.e., a 2D array of values with rows and columns explicitely **labelled**. Usually, \n",
      "\n",
      "* the *row labels*, say $i_1,\\dots, i_n$ correspond to a sample of the unique individual IDs in a population $\\Omega = \\{1,\\dots, N\\}$\n",
      "\n",
      "\n",
      "* the *column labels* correspond to the name $X,Y,Z$ of some characteristics $X,Y,Z:\\Omega\\rightarrow\\mathbb R$ of our population $\\Omega$\n",
      "\n",
      "\n",
      "* The actual *values* in the data tables are the values of these characteristics for the sampled individuals. "
     ]
    },
    {
     "cell_type": "markdown",
     "metadata": {
      "slideshow": {
       "slide_type": "slide"
      }
     },
     "source": [
      "One imports the `DataFrame` as follows"
     ]
    },
    {
     "cell_type": "code",
     "collapsed": false,
     "input": [
      "from pandas import DataFrame"
     ],
     "language": "python",
     "metadata": {
      "slideshow": {
       "slide_type": "fragment"
      }
     },
     "outputs": [],
     "prompt_number": 4
    },
    {
     "cell_type": "markdown",
     "metadata": {
      "slideshow": {
       "slide_type": "fragment"
      }
     },
     "source": [
      "The <code>DataFrame</code> constructor is almost the same as the one of the <code>Series</code> class"
     ]
    },
    {
     "cell_type": "markdown",
     "metadata": {
      "slideshow": {
       "slide_type": "fragment"
      }
     },
     "source": [
      "```\n",
      "DataFrame(data=None, index=None, columns=None, dtype=None, copy=False)\n",
      "```"
     ]
    },
    {
     "cell_type": "markdown",
     "metadata": {
      "slideshow": {
       "slide_type": "fragment"
      }
     },
     "source": [
      "except that\n",
      "\n",
      "* there is a <code>columns</code> argument to hold the column names (in any array-like container)\n",
      "\n",
      "\n",
      "* the <code>data</code> argument takes in any 2D container, such as a 2D Numpy <code>array</code>, a list or a dictionary of series, 1D arrays, lists, or dictionaries:"
     ]
    },
    {
     "cell_type": "code",
     "collapsed": false,
     "input": [
      "characteristics = ['X','Y','Z']\n",
      "individuals     = ['i1','i2','i3','i4']\n",
      "values          = [[19, 12, 1],\n",
      "                   [23, 45, 0],\n",
      "                   [45, 14, 1],\n",
      "                   [23, 17, 1]]\n",
      "\n",
      "data_table = DataFrame(values, index=individuals, columns=characteristics)\n",
      "data_table"
     ],
     "language": "python",
     "metadata": {
      "slideshow": {
       "slide_type": "slide"
      }
     },
     "outputs": [
      {
       "html": [
        "<div style=\"max-height:1000px;max-width:1500px;overflow:auto;\">\n",
        "<table border=\"1\" class=\"dataframe\">\n",
        "  <thead>\n",
        "    <tr style=\"text-align: right;\">\n",
        "      <th></th>\n",
        "      <th>X</th>\n",
        "      <th>Y</th>\n",
        "      <th>Z</th>\n",
        "    </tr>\n",
        "  </thead>\n",
        "  <tbody>\n",
        "    <tr>\n",
        "      <th>i1</th>\n",
        "      <td> 19</td>\n",
        "      <td> 12</td>\n",
        "      <td> 1</td>\n",
        "    </tr>\n",
        "    <tr>\n",
        "      <th>i2</th>\n",
        "      <td> 23</td>\n",
        "      <td> 45</td>\n",
        "      <td> 0</td>\n",
        "    </tr>\n",
        "    <tr>\n",
        "      <th>i3</th>\n",
        "      <td> 45</td>\n",
        "      <td> 14</td>\n",
        "      <td> 1</td>\n",
        "    </tr>\n",
        "    <tr>\n",
        "      <th>i4</th>\n",
        "      <td> 23</td>\n",
        "      <td> 17</td>\n",
        "      <td> 1</td>\n",
        "    </tr>\n",
        "  </tbody>\n",
        "</table>\n",
        "</div>"
       ],
       "metadata": {},
       "output_type": "pyout",
       "prompt_number": 5,
       "text": [
        "     X   Y  Z\n",
        "i1  19  12  1\n",
        "i2  23  45  0\n",
        "i3  45  14  1\n",
        "i4  23  17  1"
       ]
      }
     ],
     "prompt_number": 5
    },
    {
     "cell_type": "markdown",
     "metadata": {
      "slideshow": {
       "slide_type": "slide"
      }
     },
     "source": [
      "Since Pandas, as Numpy, uses the *row-major* convention, data frame constructed by passing a list of characteristics values (meant to be columns), instead of a list of characteristics for all the individuals (meant to be rows) will be constructed the other way round:"
     ]
    },
    {
     "cell_type": "code",
     "collapsed": false,
     "input": [
      "ages    = Series([10,67,22], index=['Bob', 'Luc', 'Ted'], name='Age')\n",
      "weights = Series([44,60,80], index=['Bob', 'Luc', 'Ted'], name='Weight')\n",
      "\n",
      "guys = DataFrame([ages, weights])\n",
      "guys\n"
     ],
     "language": "python",
     "metadata": {
      "slideshow": {
       "slide_type": "fragment"
      }
     },
     "outputs": [
      {
       "html": [
        "<div style=\"max-height:1000px;max-width:1500px;overflow:auto;\">\n",
        "<table border=\"1\" class=\"dataframe\">\n",
        "  <thead>\n",
        "    <tr style=\"text-align: right;\">\n",
        "      <th></th>\n",
        "      <th>Bob</th>\n",
        "      <th>Luc</th>\n",
        "      <th>Ted</th>\n",
        "    </tr>\n",
        "  </thead>\n",
        "  <tbody>\n",
        "    <tr>\n",
        "      <th>Age</th>\n",
        "      <td> 10</td>\n",
        "      <td> 67</td>\n",
        "      <td> 22</td>\n",
        "    </tr>\n",
        "    <tr>\n",
        "      <th>Weight</th>\n",
        "      <td> 44</td>\n",
        "      <td> 60</td>\n",
        "      <td> 80</td>\n",
        "    </tr>\n",
        "  </tbody>\n",
        "</table>\n",
        "</div>"
       ],
       "metadata": {},
       "output_type": "pyout",
       "prompt_number": 7,
       "text": [
        "        Bob  Luc  Ted\n",
        "Age      10   67   22\n",
        "Weight   44   60   80"
       ]
      }
     ],
     "prompt_number": 7
    },
    {
     "cell_type": "markdown",
     "metadata": {
      "slideshow": {
       "slide_type": "fragment"
      }
     },
     "source": [
      "Fortunately, we can always use the `tranpose method` to get what we want:"
     ]
    },
    {
     "cell_type": "code",
     "collapsed": false,
     "input": [
      "guys.transpose()\n"
     ],
     "language": "python",
     "metadata": {
      "slideshow": {
       "slide_type": "fragment"
      }
     },
     "outputs": [
      {
       "html": [
        "<div style=\"max-height:1000px;max-width:1500px;overflow:auto;\">\n",
        "<table border=\"1\" class=\"dataframe\">\n",
        "  <thead>\n",
        "    <tr style=\"text-align: right;\">\n",
        "      <th></th>\n",
        "      <th>Age</th>\n",
        "      <th>Weight</th>\n",
        "    </tr>\n",
        "  </thead>\n",
        "  <tbody>\n",
        "    <tr>\n",
        "      <th>Bob</th>\n",
        "      <td> 10</td>\n",
        "      <td> 44</td>\n",
        "    </tr>\n",
        "    <tr>\n",
        "      <th>Luc</th>\n",
        "      <td> 67</td>\n",
        "      <td> 60</td>\n",
        "    </tr>\n",
        "    <tr>\n",
        "      <th>Ted</th>\n",
        "      <td> 22</td>\n",
        "      <td> 80</td>\n",
        "    </tr>\n",
        "  </tbody>\n",
        "</table>\n",
        "</div>"
       ],
       "metadata": {},
       "output_type": "pyout",
       "prompt_number": 10,
       "text": [
        "     Age  Weight\n",
        "Bob   10      44\n",
        "Luc   67      60\n",
        "Ted   22      80"
       ]
      }
     ],
     "prompt_number": 10
    },
    {
     "cell_type": "markdown",
     "metadata": {
      "slideshow": {
       "slide_type": "fragment"
      }
     },
     "source": [
      "**Exercise:** Explore the DataFrame methods using tab completion, and find out the ones you think will be the most useful to you."
     ]
    },
    {
     "cell_type": "code",
     "collapsed": false,
     "input": [],
     "language": "python",
     "metadata": {
      "slideshow": {
       "slide_type": "fragment"
      }
     },
     "outputs": []
    },
    {
     "cell_type": "heading",
     "level": 2,
     "metadata": {
      "slideshow": {
       "slide_type": "slide"
      }
     },
     "source": [
      "Learning Pandas on data analysis example"
     ]
    },
    {
     "cell_type": "markdown",
     "metadata": {
      "slideshow": {
       "slide_type": "fragment"
      }
     },
     "source": [
      "The following data analysis example is drawn from chapter 9 of \n",
      "\n",
      "* [Python for Data Analysis](http://proquest.safaribooksonline.com/book/programming/python/9781449323592), by Wes McKinney, Springer (2012)\n",
      "\n",
      "which is the reference text for data analysis using Python, and whose author [Wes McKinney](http://blog.wesmckinney.com/) is the creator of the [pandas package](http://pandas.pydata.org/)."
     ]
    },
    {
     "cell_type": "markdown",
     "metadata": {
      "slideshow": {
       "slide_type": "slide"
      }
     },
     "source": [
      "The data concerning the campaign donation for the 2012 Presidential election are available for scrutiny and analysis here:\n",
      "\n",
      "* [2012 Presidential Campaign Finance](http://www.fec.gov/disclosurep/PDownload.do)"
     ]
    },
    {
     "cell_type": "markdown",
     "metadata": {
      "slideshow": {
       "slide_type": "fragment"
      }
     },
     "source": [
      "The data is in the form of a data table where:\n",
      "\n",
      "* rows = a campaign donors\n",
      "* columns = attributes/characteristics of the donation as describe below\n",
      "\n",
      "\n",
      "\n",
      "\n",
      "<iframe src='ftp://ftp.fec.gov/FEC/Presidential_Map/2012/DATA_DICTIONARIES/CONTRIBUTOR_FORMAT.txt' width=600 height=500></iframe>"
     ]
    },
    {
     "cell_type": "heading",
     "level": 2,
     "metadata": {
      "slideshow": {
       "slide_type": "slide"
      }
     },
     "source": [
      "Loading the data"
     ]
    },
    {
     "cell_type": "code",
     "collapsed": false,
     "input": [
      "from pandas import read_csv"
     ],
     "language": "python",
     "metadata": {
      "slideshow": {
       "slide_type": "fragment"
      }
     },
     "outputs": [],
     "prompt_number": 11
    },
    {
     "cell_type": "code",
     "collapsed": false,
     "input": [
      "data = read_csv('../data/P00000001-ALL.csv')"
     ],
     "language": "python",
     "metadata": {
      "slideshow": {
       "slide_type": "fragment"
      }
     },
     "outputs": [],
     "prompt_number": 12
    },
    {
     "cell_type": "code",
     "collapsed": false,
     "input": [
      "data.ix[0:5,0:5]"
     ],
     "language": "python",
     "metadata": {
      "slideshow": {
       "slide_type": "fragment"
      }
     },
     "outputs": [
      {
       "html": [
        "<div style=\"max-height:1000px;max-width:1500px;overflow:auto;\">\n",
        "<table border=\"1\" class=\"dataframe\">\n",
        "  <thead>\n",
        "    <tr style=\"text-align: right;\">\n",
        "      <th></th>\n",
        "      <th>cmte_id</th>\n",
        "      <th>cand_id</th>\n",
        "      <th>cand_nm</th>\n",
        "      <th>contbr_nm</th>\n",
        "      <th>contbr_city</th>\n",
        "    </tr>\n",
        "  </thead>\n",
        "  <tbody>\n",
        "    <tr>\n",
        "      <th>0</th>\n",
        "      <td> C00410118</td>\n",
        "      <td> P20002978</td>\n",
        "      <td> Bachmann, Michelle</td>\n",
        "      <td>    HARVEY, WILLIAM</td>\n",
        "      <td>             MOBILE</td>\n",
        "    </tr>\n",
        "    <tr>\n",
        "      <th>1</th>\n",
        "      <td> C00410118</td>\n",
        "      <td> P20002978</td>\n",
        "      <td> Bachmann, Michelle</td>\n",
        "      <td>    HARVEY, WILLIAM</td>\n",
        "      <td>             MOBILE</td>\n",
        "    </tr>\n",
        "    <tr>\n",
        "      <th>2</th>\n",
        "      <td> C00410118</td>\n",
        "      <td> P20002978</td>\n",
        "      <td> Bachmann, Michelle</td>\n",
        "      <td>      SMITH, LANIER</td>\n",
        "      <td>             LANETT</td>\n",
        "    </tr>\n",
        "    <tr>\n",
        "      <th>3</th>\n",
        "      <td> C00410118</td>\n",
        "      <td> P20002978</td>\n",
        "      <td> Bachmann, Michelle</td>\n",
        "      <td>   BLEVINS, DARONDA</td>\n",
        "      <td>            PIGGOTT</td>\n",
        "    </tr>\n",
        "    <tr>\n",
        "      <th>4</th>\n",
        "      <td> C00410118</td>\n",
        "      <td> P20002978</td>\n",
        "      <td> Bachmann, Michelle</td>\n",
        "      <td> WARDENBURG, HAROLD</td>\n",
        "      <td> HOT SPRINGS NATION</td>\n",
        "    </tr>\n",
        "    <tr>\n",
        "      <th>5</th>\n",
        "      <td> C00410118</td>\n",
        "      <td> P20002978</td>\n",
        "      <td> Bachmann, Michelle</td>\n",
        "      <td>     BECKMAN, JAMES</td>\n",
        "      <td>         SPRINGDALE</td>\n",
        "    </tr>\n",
        "  </tbody>\n",
        "</table>\n",
        "</div>"
       ],
       "metadata": {},
       "output_type": "pyout",
       "prompt_number": 13,
       "text": [
        "     cmte_id    cand_id             cand_nm           contbr_nm         contbr_city\n",
        "0  C00410118  P20002978  Bachmann, Michelle     HARVEY, WILLIAM              MOBILE\n",
        "1  C00410118  P20002978  Bachmann, Michelle     HARVEY, WILLIAM              MOBILE\n",
        "2  C00410118  P20002978  Bachmann, Michelle       SMITH, LANIER              LANETT\n",
        "3  C00410118  P20002978  Bachmann, Michelle    BLEVINS, DARONDA             PIGGOTT\n",
        "4  C00410118  P20002978  Bachmann, Michelle  WARDENBURG, HAROLD  HOT SPRINGS NATION\n",
        "5  C00410118  P20002978  Bachmann, Michelle      BECKMAN, JAMES          SPRINGDALE"
       ]
      }
     ],
     "prompt_number": 13
    },
    {
     "cell_type": "code",
     "collapsed": false,
     "input": [
      "data.shape"
     ],
     "language": "python",
     "metadata": {
      "slideshow": {
       "slide_type": "fragment"
      }
     },
     "outputs": [
      {
       "metadata": {},
       "output_type": "pyout",
       "prompt_number": 14,
       "text": [
        "(1001731, 16)"
       ]
      }
     ],
     "prompt_number": 14
    },
    {
     "cell_type": "code",
     "collapsed": false,
     "input": [
      "row_number = data.shape[0]"
     ],
     "language": "python",
     "metadata": {
      "slideshow": {
       "slide_type": "fragment"
      }
     },
     "outputs": [],
     "prompt_number": 15
    },
    {
     "cell_type": "code",
     "collapsed": false,
     "input": [
      "data.info"
     ],
     "language": "python",
     "metadata": {
      "slideshow": {
       "slide_type": "fragment"
      }
     },
     "outputs": [
      {
       "metadata": {},
       "output_type": "pyout",
       "prompt_number": 16,
       "text": [
        "<bound method DataFrame.info of <class 'pandas.core.frame.DataFrame'>\n",
        "Int64Index: 1001731 entries, 0 to 1001730\n",
        "Data columns (total 16 columns):\n",
        "cmte_id              1001731  non-null values\n",
        "cand_id              1001731  non-null values\n",
        "cand_nm              1001731  non-null values\n",
        "contbr_nm            1001731  non-null values\n",
        "contbr_city          1001716  non-null values\n",
        "contbr_st            1001727  non-null values\n",
        "contbr_zip           1001620  non-null values\n",
        "contbr_employer      994314  non-null values\n",
        "contbr_occupation    994433  non-null values\n",
        "contb_receipt_amt    1001731  non-null values\n",
        "contb_receipt_dt     1001731  non-null values\n",
        "receipt_desc         14166  non-null values\n",
        "memo_cd              92482  non-null values\n",
        "memo_text            97770  non-null values\n",
        "form_tp              1001731  non-null values\n",
        "file_num             1001731  non-null values\n",
        "dtypes: float64(1), int64(1), object(14)>"
       ]
      }
     ],
     "prompt_number": 16
    },
    {
     "cell_type": "code",
     "collapsed": false,
     "input": [],
     "language": "python",
     "metadata": {
      "slideshow": {
       "slide_type": "fragment"
      }
     },
     "outputs": []
    },
    {
     "cell_type": "heading",
     "level": 2,
     "metadata": {
      "slideshow": {
       "slide_type": "slide"
      }
     },
     "source": [
      "Exploring and preparing the data"
     ]
    },
    {
     "cell_type": "code",
     "collapsed": false,
     "input": [
      "from random import randint\n",
      "\n",
      "i = randint(0,row_number)\n",
      "\n",
      "print data.ix[i,:]"
     ],
     "language": "python",
     "metadata": {
      "slideshow": {
       "slide_type": "fragment"
      }
     },
     "outputs": [
      {
       "output_type": "stream",
       "stream": "stdout",
       "text": [
        "cmte_id                   C00495820\n",
        "cand_id                   P80000748\n",
        "cand_nm                   Paul, Ron\n",
        "contbr_nm            O'NEILL, JAMES\n",
        "contbr_city            MIDDLE POINT\n",
        "contbr_st                        OH\n",
        "contbr_zip                458639539\n",
        "contbr_employer           REQUESTED\n",
        "contbr_occupation         REQUESTED\n",
        "contb_receipt_amt               300\n",
        "contb_receipt_dt          29-AUG-11\n",
        "receipt_desc                    NaN\n",
        "memo_cd                         NaN\n",
        "memo_text                       NaN\n",
        "form_tp                       SA17A\n",
        "file_num                     779225\n",
        "Name: 810293, dtype: object\n"
       ]
      }
     ],
     "prompt_number": 47
    },
    {
     "cell_type": "code",
     "collapsed": false,
     "input": [],
     "language": "python",
     "metadata": {
      "slideshow": {
       "slide_type": "fragment"
      }
     },
     "outputs": []
    },
    {
     "cell_type": "heading",
     "level": 3,
     "metadata": {
      "slideshow": {
       "slide_type": "slide"
      }
     },
     "source": [
      "Adding party information"
     ]
    },
    {
     "cell_type": "code",
     "collapsed": false,
     "input": [
      "candidates = data.cand_nm.unique()\n",
      "candidates"
     ],
     "language": "python",
     "metadata": {
      "slideshow": {
       "slide_type": "fragment"
      }
     },
     "outputs": [
      {
       "metadata": {},
       "output_type": "pyout",
       "prompt_number": 53,
       "text": [
        "array([Bachmann, Michelle, Romney, Mitt, Obama, Barack,\n",
        "       Roemer, Charles E. 'Buddy' III, Pawlenty, Timothy,\n",
        "       Johnson, Gary Earl, Paul, Ron, Santorum, Rick, Cain, Herman,\n",
        "       Gingrich, Newt, McCotter, Thaddeus G, Huntsman, Jon, Perry, Rick], dtype=object)"
       ]
      }
     ],
     "prompt_number": 53
    },
    {
     "cell_type": "code",
     "collapsed": false,
     "input": [
      "parties = {\"Bachmann, Michelle\":\"Republican\",\n",
      "           \"Cain, Herman\":\"Republican\",\n",
      "           \"Gingrich, Newt\":\"Republican\",\n",
      "           \"Huntsman, Jon\":\"Republican\",\n",
      "           \"Johnson, Gary, Earl\":\"Republican\",\n",
      "           \"McCotter, Thaddeus G\":\"Republican\",\n",
      "           \"Obama, Barack\":\"Democrat\",\n",
      "           \"Paul, Ron\":\"Republican\",\n",
      "           \"Pawlenty, Timothy\":\"Republican\",\n",
      "           \"Perry, Rick\":\"Republican\",\n",
      "           \"Roemer, Charles, E. 'Buddy' III\":\"Republican\",\n",
      "           \"Romney, Mitt\":\"Republican\",\n",
      "           \"Santorum, Rick\":\"Republican\",\n",
      "           \"Stein, Jill\":\"Republican\"}\n",
      "\n",
      "parties[data.cand_nm[800]]"
     ],
     "language": "python",
     "metadata": {
      "slideshow": {
       "slide_type": "fragment"
      }
     },
     "outputs": [
      {
       "metadata": {},
       "output_type": "pyout",
       "prompt_number": 57,
       "text": [
        "'Republican'"
       ]
      }
     ],
     "prompt_number": 57
    },
    {
     "cell_type": "code",
     "collapsed": false,
     "input": [
      "from random import sample\n",
      "\n",
      "sample_size = 6\n",
      "rows        = sample(range(0, row_number), sample_size)\n",
      "sample = data.ix[rows, ['contb_receipt_amt', 'contbr_nm', 'cand_nm']]\n",
      "\n",
      "sample['contbr_pt'] = sample.cand_nm.map(parties)\n",
      "\n",
      "sample.columns = ['Amount contributed', 'Contributor Name', 'Candidate Contributed to','Party Contributed To']\n",
      "\n",
      "sample"
     ],
     "language": "python",
     "metadata": {
      "slideshow": {
       "slide_type": "fragment"
      }
     },
     "outputs": [
      {
       "html": [
        "<div style=\"max-height:1000px;max-width:1500px;overflow:auto;\">\n",
        "<table border=\"1\" class=\"dataframe\">\n",
        "  <thead>\n",
        "    <tr style=\"text-align: right;\">\n",
        "      <th></th>\n",
        "      <th>Amount contributed</th>\n",
        "      <th>Contributor Name</th>\n",
        "      <th>Candidate Contributed to</th>\n",
        "      <th>Party Contributed To</th>\n",
        "    </tr>\n",
        "  </thead>\n",
        "  <tbody>\n",
        "    <tr>\n",
        "      <th>794790</th>\n",
        "      <td>  100.00</td>\n",
        "      <td>    FREEMAN, ERIK D.</td>\n",
        "      <td>      Paul, Ron</td>\n",
        "      <td> Republican</td>\n",
        "    </tr>\n",
        "    <tr>\n",
        "      <th>830929</th>\n",
        "      <td>  100.00</td>\n",
        "      <td> KAISER, HENRY W MR.</td>\n",
        "      <td>      Paul, Ron</td>\n",
        "      <td> Republican</td>\n",
        "    </tr>\n",
        "    <tr>\n",
        "      <th>926770</th>\n",
        "      <td>  300.00</td>\n",
        "      <td>      GREIG, CELESTE</td>\n",
        "      <td> Gingrich, Newt</td>\n",
        "      <td> Republican</td>\n",
        "    </tr>\n",
        "    <tr>\n",
        "      <th>848723</th>\n",
        "      <td>   20.12</td>\n",
        "      <td>        BOYD, EDWARD</td>\n",
        "      <td>      Paul, Ron</td>\n",
        "      <td> Republican</td>\n",
        "    </tr>\n",
        "    <tr>\n",
        "      <th>628019</th>\n",
        "      <td>  380.00</td>\n",
        "      <td>     KILLION, MARTHA</td>\n",
        "      <td>  Obama, Barack</td>\n",
        "      <td>   Democrat</td>\n",
        "    </tr>\n",
        "    <tr>\n",
        "      <th>69486 </th>\n",
        "      <td> 2500.00</td>\n",
        "      <td>  VIOLA, VINCENT MR.</td>\n",
        "      <td>   Romney, Mitt</td>\n",
        "      <td> Republican</td>\n",
        "    </tr>\n",
        "  </tbody>\n",
        "</table>\n",
        "</div>"
       ],
       "metadata": {},
       "output_type": "pyout",
       "prompt_number": 84,
       "text": [
        "        Amount contributed     Contributor Name Candidate Contributed to  \\\n",
        "794790              100.00     FREEMAN, ERIK D.                Paul, Ron   \n",
        "830929              100.00  KAISER, HENRY W MR.                Paul, Ron   \n",
        "926770              300.00       GREIG, CELESTE           Gingrich, Newt   \n",
        "848723               20.12         BOYD, EDWARD                Paul, Ron   \n",
        "628019              380.00      KILLION, MARTHA            Obama, Barack   \n",
        "69486              2500.00   VIOLA, VINCENT MR.             Romney, Mitt   \n",
        "\n",
        "       Party Contributed To  \n",
        "794790           Republican  \n",
        "830929           Republican  \n",
        "926770           Republican  \n",
        "848723           Republican  \n",
        "628019             Democrat  \n",
        "69486            Republican  "
       ]
      }
     ],
     "prompt_number": 84
    },
    {
     "cell_type": "code",
     "collapsed": false,
     "input": [
      "data['contbr_pt'] = data.cand_nm.map(parties)\n",
      "\n",
      "\n",
      "data[['contbr_nm', 'cand_nm', 'contbr_pt']].head()"
     ],
     "language": "python",
     "metadata": {
      "slideshow": {
       "slide_type": "fragment"
      }
     },
     "outputs": [
      {
       "html": [
        "<div style=\"max-height:1000px;max-width:1500px;overflow:auto;\">\n",
        "<table border=\"1\" class=\"dataframe\">\n",
        "  <thead>\n",
        "    <tr style=\"text-align: right;\">\n",
        "      <th></th>\n",
        "      <th>contbr_nm</th>\n",
        "      <th>cand_nm</th>\n",
        "      <th>contbr_pt</th>\n",
        "    </tr>\n",
        "  </thead>\n",
        "  <tbody>\n",
        "    <tr>\n",
        "      <th>0</th>\n",
        "      <td>    HARVEY, WILLIAM</td>\n",
        "      <td> Bachmann, Michelle</td>\n",
        "      <td> Republican</td>\n",
        "    </tr>\n",
        "    <tr>\n",
        "      <th>1</th>\n",
        "      <td>    HARVEY, WILLIAM</td>\n",
        "      <td> Bachmann, Michelle</td>\n",
        "      <td> Republican</td>\n",
        "    </tr>\n",
        "    <tr>\n",
        "      <th>2</th>\n",
        "      <td>      SMITH, LANIER</td>\n",
        "      <td> Bachmann, Michelle</td>\n",
        "      <td> Republican</td>\n",
        "    </tr>\n",
        "    <tr>\n",
        "      <th>3</th>\n",
        "      <td>   BLEVINS, DARONDA</td>\n",
        "      <td> Bachmann, Michelle</td>\n",
        "      <td> Republican</td>\n",
        "    </tr>\n",
        "    <tr>\n",
        "      <th>4</th>\n",
        "      <td> WARDENBURG, HAROLD</td>\n",
        "      <td> Bachmann, Michelle</td>\n",
        "      <td> Republican</td>\n",
        "    </tr>\n",
        "  </tbody>\n",
        "</table>\n",
        "</div>"
       ],
       "metadata": {},
       "output_type": "pyout",
       "prompt_number": 86,
       "text": [
        "            contbr_nm             cand_nm   contbr_pt\n",
        "0     HARVEY, WILLIAM  Bachmann, Michelle  Republican\n",
        "1     HARVEY, WILLIAM  Bachmann, Michelle  Republican\n",
        "2       SMITH, LANIER  Bachmann, Michelle  Republican\n",
        "3    BLEVINS, DARONDA  Bachmann, Michelle  Republican\n",
        "4  WARDENBURG, HAROLD  Bachmann, Michelle  Republican"
       ]
      }
     ],
     "prompt_number": 86
    },
    {
     "cell_type": "code",
     "collapsed": false,
     "input": [
      "data.contbr_pt.value_counts()"
     ],
     "language": "python",
     "metadata": {
      "slideshow": {
       "slide_type": "fragment"
      }
     },
     "outputs": [
      {
       "metadata": {},
       "output_type": "pyout",
       "prompt_number": 87,
       "text": [
        "Democrat      593746\n",
        "Republican    400831\n",
        "dtype: int64"
       ]
      }
     ],
     "prompt_number": 87
    },
    {
     "cell_type": "code",
     "collapsed": false,
     "input": [],
     "language": "python",
     "metadata": {
      "slideshow": {
       "slide_type": "fragment"
      }
     },
     "outputs": []
    },
    {
     "cell_type": "heading",
     "level": 3,
     "metadata": {
      "slideshow": {
       "slide_type": "slide"
      }
     },
     "source": [
      "Removing refund entries"
     ]
    },
    {
     "cell_type": "code",
     "collapsed": false,
     "input": [
      "not_refund_rows = data.contb_receipt_amt > 0\n",
      "not_refund_rows.value_counts()\n",
      "\n",
      "not_refund_rows[:10]"
     ],
     "language": "python",
     "metadata": {
      "slideshow": {
       "slide_type": "fragment"
      }
     },
     "outputs": [
      {
       "metadata": {},
       "output_type": "pyout",
       "prompt_number": 89,
       "text": [
        "0    True\n",
        "1    True\n",
        "2    True\n",
        "3    True\n",
        "4    True\n",
        "5    True\n",
        "6    True\n",
        "7    True\n",
        "8    True\n",
        "9    True\n",
        "Name: contb_receipt_amt, dtype: bool"
       ]
      }
     ],
     "prompt_number": 89
    },
    {
     "cell_type": "code",
     "collapsed": false,
     "input": [
      "donnors = data[not_refund_rows]\n"
     ],
     "language": "python",
     "metadata": {
      "slideshow": {
       "slide_type": "fragment"
      }
     },
     "outputs": [],
     "prompt_number": 90
    },
    {
     "cell_type": "heading",
     "level": 3,
     "metadata": {
      "slideshow": {
       "slide_type": "fragment"
      }
     },
     "source": [
      "Keeping only donnors to the two mains candidates"
     ]
    },
    {
     "cell_type": "code",
     "collapsed": false,
     "input": [
      "donnors = donnors[donnors.cand_nm.isin(['Obama, Barack', 'Romney, Mitt'])]\n",
      "\n",
      "donnors.contbr_pt.value_counts()"
     ],
     "language": "python",
     "metadata": {
      "slideshow": {
       "slide_type": "fragment"
      }
     },
     "outputs": [
      {
       "metadata": {},
       "output_type": "pyout",
       "prompt_number": 91,
       "text": [
        "Democrat      589127\n",
        "Republican    105155\n",
        "dtype: int64"
       ]
      }
     ],
     "prompt_number": 91
    },
    {
     "cell_type": "heading",
     "level": 3,
     "metadata": {
      "slideshow": {
       "slide_type": "slide"
      }
     },
     "source": [
      "Cleaning the occupation column"
     ]
    },
    {
     "cell_type": "code",
     "collapsed": false,
     "input": [
      "occupations = donnors.contbr_occupation.value_counts()"
     ],
     "language": "python",
     "metadata": {
      "slideshow": {
       "slide_type": "fragment"
      }
     },
     "outputs": [],
     "prompt_number": 92
    },
    {
     "cell_type": "code",
     "collapsed": false,
     "input": [
      "occupations[:20]"
     ],
     "language": "python",
     "metadata": {
      "slideshow": {
       "slide_type": "slide"
      }
     },
     "outputs": [
      {
       "metadata": {},
       "output_type": "pyout",
       "prompt_number": 94,
       "text": [
        "RETIRED                                   177473\n",
        "ATTORNEY                                   30133\n",
        "INFORMATION REQUESTED                      24747\n",
        "HOMEMAKER                                  19626\n",
        "PHYSICIAN                                  17206\n",
        "INFORMATION REQUESTED PER BEST EFFORTS     12545\n",
        "PROFESSOR                                  11804\n",
        "TEACHER                                    11512\n",
        "CONSULTANT                                 10061\n",
        "NOT EMPLOYED                                9696\n",
        "LAWYER                                      7438\n",
        "ENGINEER                                    6107\n",
        "PRESIDENT                                   4864\n",
        "MANAGER                                     4745\n",
        "WRITER                                      4439\n",
        "SELF-EMPLOYED                               3763\n",
        "SALES                                       3697\n",
        "EXECUTIVE                                   3609\n",
        "OWNER                                       3408\n",
        "EDUCATOR                                    3360\n",
        "dtype: int64"
       ]
      }
     ],
     "prompt_number": 94
    },
    {
     "cell_type": "code",
     "collapsed": false,
     "input": [
      "occ_mapping = {'INFORMATION REQUESTED PER BEST EFFORTS':'NOT PROVIDED',\n",
      "               'INFORMATION REQUESTED':'NOT PROVIDED',\n",
      "               'INFORMATION REQUESTED (BEST EFFORTS)':'NOT PROVIDED',\n",
      "               'C.E.O.': 'CEO'}"
     ],
     "language": "python",
     "metadata": {
      "slideshow": {
       "slide_type": "fragment"
      }
     },
     "outputs": [],
     "prompt_number": 95
    },
    {
     "cell_type": "code",
     "collapsed": false,
     "input": [
      "def f(x):\n",
      "    return occ_mapping.get(x, x)\n",
      "\n",
      "donnors.contbr_occupation = donnors.contbr_occupation.map(f)"
     ],
     "language": "python",
     "metadata": {
      "slideshow": {
       "slide_type": "fragment"
      }
     },
     "outputs": [],
     "prompt_number": 96
    },
    {
     "cell_type": "heading",
     "level": 3,
     "metadata": {
      "slideshow": {
       "slide_type": "slide"
      }
     },
     "source": [
      "Cleaning the employer columns"
     ]
    },
    {
     "cell_type": "code",
     "collapsed": false,
     "input": [
      "donnors.contbr_employer.value_counts()"
     ],
     "language": "python",
     "metadata": {
      "slideshow": {
       "slide_type": "slide"
      }
     },
     "outputs": [
      {
       "metadata": {},
       "output_type": "pyout",
       "prompt_number": 97,
       "text": [
        "RETIRED                                   173287\n",
        "SELF-EMPLOYED                              79638\n",
        "NOT EMPLOYED                               45727\n",
        "INFORMATION REQUESTED                      25524\n",
        "INFORMATION REQUESTED PER BEST EFFORTS     13104\n",
        "HOMEMAKER                                  12081\n",
        "OBAMA FOR AMERICA                           1741\n",
        "STUDENT                                     1417\n",
        "SELF                                        1228\n",
        "DISABLED                                    1096\n",
        "IBM                                         1027\n",
        "REFUSED                                      854\n",
        "KAISER PERMANENTE                            828\n",
        "AT&T                                         796\n",
        "US ARMY                                      680\n",
        "...\n",
        "MEYER BROOKS DEMMA & BLOHM               1\n",
        "BATES MEMORIAL BAPTIST                   1\n",
        "WEISSMAN, NOWACK, CURRY & WILCO, P.C.    1\n",
        "NELSEN THOMPSON PEGUE & THORNTON         1\n",
        "NET ACCESS                               1\n",
        "HUFFER & HUFFER                          1\n",
        "PHILANTHROPY                             1\n",
        "HRM                                      1\n",
        "SOUTHERN ILLINOIS UNIV - EDWARDSVILLE    1\n",
        "NWCS                                     1\n",
        "PEERLESS NETWORK                         1\n",
        "LEADERSHIP INCENTER                      1\n",
        "U OF DENVER                              1\n",
        "DOUGLAS CO. PUBLIC DEFENDER              1\n",
        "LAW OFFICE OF MARDI HARRISON             1\n",
        "Length: 93117, dtype: int64"
       ]
      }
     ],
     "prompt_number": 97
    },
    {
     "cell_type": "code",
     "collapsed": false,
     "input": [
      "emp_mapping = {'INFORMATION REQUESTED PER BEST EFFORTS':'NOT PROVIDED',\n",
      "               'INFORMATION REQUESTED':'NOT PROVIDED',\n",
      "               'SELF' : 'SELF-EMPLOYED',\n",
      "               'SELF EMPLOYED':'SELF-EMPLOYED'}"
     ],
     "language": "python",
     "metadata": {
      "slideshow": {
       "slide_type": "fragment"
      }
     },
     "outputs": [],
     "prompt_number": 98
    },
    {
     "cell_type": "code",
     "collapsed": false,
     "input": [
      "def g(x):\n",
      "    return emp_mapping.get(x, x) \n",
      "\n",
      "donnors.contbr_employer = donnors.contbr_employer.map(g)"
     ],
     "language": "python",
     "metadata": {
      "slideshow": {
       "slide_type": "fragment"
      }
     },
     "outputs": [],
     "prompt_number": 99
    },
    {
     "cell_type": "heading",
     "level": 2,
     "metadata": {
      "slideshow": {
       "slide_type": "slide"
      }
     },
     "source": [
      "Visualizing and analysing the data"
     ]
    },
    {
     "cell_type": "code",
     "collapsed": false,
     "input": [
      "donnors.contbr_pt.value_counts()"
     ],
     "language": "python",
     "metadata": {
      "slideshow": {
       "slide_type": "fragment"
      }
     },
     "outputs": [
      {
       "metadata": {},
       "output_type": "pyout",
       "prompt_number": 100,
       "text": [
        "Democrat      589127\n",
        "Republican    105155\n",
        "dtype: int64"
       ]
      }
     ],
     "prompt_number": 100
    },
    {
     "cell_type": "code",
     "collapsed": false,
     "input": [
      "by_occupation = donnors.pivot_table('contb_receipt_amt', \n",
      "                                    rows='contbr_occupation',\n",
      "                                    cols='contbr_pt', \n",
      "                                    aggfunc='sum')"
     ],
     "language": "python",
     "metadata": {
      "slideshow": {
       "slide_type": "fragment"
      }
     },
     "outputs": [],
     "prompt_number": 101
    },
    {
     "cell_type": "code",
     "collapsed": false,
     "input": [
      "over_2mm = by_occupation[by_occupation.sum(1) > 2000000]"
     ],
     "language": "python",
     "metadata": {
      "slideshow": {
       "slide_type": "fragment"
      }
     },
     "outputs": [],
     "prompt_number": 102
    },
    {
     "cell_type": "code",
     "collapsed": false,
     "input": [
      "over_2mm"
     ],
     "language": "python",
     "metadata": {
      "slideshow": {
       "slide_type": "fragment"
      }
     },
     "outputs": [
      {
       "html": [
        "<div style=\"max-height:1000px;max-width:1500px;overflow:auto;\">\n",
        "<table border=\"1\" class=\"dataframe\">\n",
        "  <thead>\n",
        "    <tr style=\"text-align: right;\">\n",
        "      <th>contbr_pt</th>\n",
        "      <th>Democrat</th>\n",
        "      <th>Republican</th>\n",
        "    </tr>\n",
        "    <tr>\n",
        "      <th>contbr_occupation</th>\n",
        "      <th></th>\n",
        "      <th></th>\n",
        "    </tr>\n",
        "  </thead>\n",
        "  <tbody>\n",
        "    <tr>\n",
        "      <th>ATTORNEY</th>\n",
        "      <td> 11141982.97</td>\n",
        "      <td>  5364718.82</td>\n",
        "    </tr>\n",
        "    <tr>\n",
        "      <th>CEO</th>\n",
        "      <td>  2074974.79</td>\n",
        "      <td>  2324297.03</td>\n",
        "    </tr>\n",
        "    <tr>\n",
        "      <th>CONSULTANT</th>\n",
        "      <td>  2459912.71</td>\n",
        "      <td>  1424894.01</td>\n",
        "    </tr>\n",
        "    <tr>\n",
        "      <th>EXECUTIVE</th>\n",
        "      <td>  1355161.05</td>\n",
        "      <td>  2300947.03</td>\n",
        "    </tr>\n",
        "    <tr>\n",
        "      <th>HOMEMAKER</th>\n",
        "      <td>  4248875.80</td>\n",
        "      <td>  8147446.22</td>\n",
        "    </tr>\n",
        "    <tr>\n",
        "      <th>INVESTOR</th>\n",
        "      <td>   884133.00</td>\n",
        "      <td>  1537595.12</td>\n",
        "    </tr>\n",
        "    <tr>\n",
        "      <th>LAWYER</th>\n",
        "      <td>  3160478.87</td>\n",
        "      <td>     7705.20</td>\n",
        "    </tr>\n",
        "    <tr>\n",
        "      <th>NOT PROVIDED</th>\n",
        "      <td>  4866973.96</td>\n",
        "      <td> 11396894.84</td>\n",
        "    </tr>\n",
        "    <tr>\n",
        "      <th>PHYSICIAN</th>\n",
        "      <td>  3735124.94</td>\n",
        "      <td>  1368023.96</td>\n",
        "    </tr>\n",
        "    <tr>\n",
        "      <th>PRESIDENT</th>\n",
        "      <td>  1878509.95</td>\n",
        "      <td>  2491244.89</td>\n",
        "    </tr>\n",
        "    <tr>\n",
        "      <th>PROFESSOR</th>\n",
        "      <td>  2165071.08</td>\n",
        "      <td>   161362.12</td>\n",
        "    </tr>\n",
        "    <tr>\n",
        "      <th>RETIRED</th>\n",
        "      <td> 25305116.38</td>\n",
        "      <td> 11508473.59</td>\n",
        "    </tr>\n",
        "  </tbody>\n",
        "</table>\n",
        "</div>"
       ],
       "metadata": {},
       "output_type": "pyout",
       "prompt_number": 103,
       "text": [
        "contbr_pt             Democrat   Republican\n",
        "contbr_occupation                          \n",
        "ATTORNEY           11141982.97   5364718.82\n",
        "CEO                 2074974.79   2324297.03\n",
        "CONSULTANT          2459912.71   1424894.01\n",
        "EXECUTIVE           1355161.05   2300947.03\n",
        "HOMEMAKER           4248875.80   8147446.22\n",
        "INVESTOR             884133.00   1537595.12\n",
        "LAWYER              3160478.87      7705.20\n",
        "NOT PROVIDED        4866973.96  11396894.84\n",
        "PHYSICIAN           3735124.94   1368023.96\n",
        "PRESIDENT           1878509.95   2491244.89\n",
        "PROFESSOR           2165071.08    161362.12\n",
        "RETIRED            25305116.38  11508473.59"
       ]
      }
     ],
     "prompt_number": 103
    },
    {
     "cell_type": "code",
     "collapsed": false,
     "input": [
      "%matplotlib inline"
     ],
     "language": "python",
     "metadata": {
      "slideshow": {
       "slide_type": "slide"
      }
     },
     "outputs": [],
     "prompt_number": 104
    },
    {
     "cell_type": "code",
     "collapsed": false,
     "input": [
      "over_2mm.plot(kind='barh');"
     ],
     "language": "python",
     "metadata": {
      "slideshow": {
       "slide_type": "fragment"
      }
     },
     "outputs": [
      {
       "metadata": {},
       "output_type": "display_data",
       "png": "[encoded data removed]",
       "text": [
        "<matplotlib.figure.Figure at 0xd306ed0>"
       ]
      }
     ],
     "prompt_number": 105
    },
    {
     "cell_type": "code",
     "collapsed": false,
     "input": [],
     "language": "python",
     "metadata": {
      "slideshow": {
       "slide_type": "fragment"
      }
     },
     "outputs": []
    }
   ],
   "metadata": {}
  }
 ]
}