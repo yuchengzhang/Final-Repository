{
 "metadata": {
  "name": ""
 },
 "nbformat": 3,
 "nbformat_minor": 0,
 "worksheets": [
  {
   "cells": [
    {
     "cell_type": "heading",
     "level": 1,
     "metadata": {},
     "source": [
      "Scripts"
     ]
    },
    {
     "cell_type": "markdown",
     "metadata": {},
     "source": [
      "**Definition:** A *script* is a collection of instructions written in a given interpreted programming language such as Bash, Python, or R) and gathered in a text file.  If given a script, the corresponding interpreter (such as the Bash interpreter, the Python interpreter, or the R interpreter) will execute all the instructions contained in the script in order from the first line to the last line. In other words, a script is a *program* that is written in an interpreted programming language (as opposed to *compiled* programming language such as C, C++, and Java)."
     ]
    },
    {
     "cell_type": "markdown",
     "metadata": {},
     "source": [
      "Usually, one choose a *text editor* (such as vi, emacs, gedit, notepad, etc. ) to write a script. Then one invoke the interpreter on the script by typing the interpreter name on the command line, followed by the path indicating where the script file is located. For instance:\n",
      "\n",
      "    bash MyScript.sh\n",
      "    python MyScript.py\n",
      "    Rscript MyScript.R\n",
      "    \n",
      "In this notebook, we will also learn how to use the ipython notebook as an editor to write your script from it, and how to run them  from within the notebook.\n",
      "\n",
      "**Remark:** The file extension .sh, .py, .R etc. in the script file names above are just conventions; it is not needed by the interpreter in order to execute the script. It's just nice, since you know the programming language just by looking at the file name."
     ]
    },
    {
     "cell_type": "heading",
     "level": 2,
     "metadata": {},
     "source": [
      "The notebook as an editor"
     ]
    },
    {
     "cell_type": "heading",
     "level": 3,
     "metadata": {},
     "source": [
      "The notebook editor"
     ]
    },
    {
     "cell_type": "markdown",
     "metadata": {},
     "source": [
      "The notebook editor is called by using the magic command\n",
      "\n",
      "    %%file filename\n",
      "\n",
      "at the beginning of a code cell. "
     ]
    },
    {
     "cell_type": "code",
     "collapsed": false,
     "input": [
      "%%file MyScript.py\n",
      "\n",
      "print 'Hellow world'"
     ],
     "language": "python",
     "metadata": {},
     "outputs": [
      {
       "output_type": "stream",
       "stream": "stdout",
       "text": [
        "Writing MyScript.py\n"
       ]
      }
     ],
     "prompt_number": 1
    },
    {
     "cell_type": "heading",
     "level": 3,
     "metadata": {},
     "source": [
      "Running the script from the notebook"
     ]
    },
    {
     "cell_type": "markdown",
     "metadata": {},
     "source": [
      "Two solutions:\n",
      "\n",
      "*Solution 1* involve using a bash cell:"
     ]
    },
    {
     "cell_type": "code",
     "collapsed": false,
     "input": [
      "%%bash\n",
      "\n",
      "python MyScript.py"
     ],
     "language": "python",
     "metadata": {},
     "outputs": [
      {
       "output_type": "stream",
       "stream": "stdout",
       "text": [
        "Hellow world\n"
       ]
      }
     ],
     "prompt_number": 2
    },
    {
     "cell_type": "markdown",
     "metadata": {},
     "source": [
      "*Solution 2:* Use the magic command\n",
      "\n",
      "    %run"
     ]
    },
    {
     "cell_type": "code",
     "collapsed": false,
     "input": [
      "%run MyScript.py"
     ],
     "language": "python",
     "metadata": {},
     "outputs": [
      {
       "output_type": "stream",
       "stream": "stdout",
       "text": [
        "Hellow world\n"
       ]
      }
     ],
     "prompt_number": 3
    },
    {
     "cell_type": "heading",
     "level": 2,
     "metadata": {},
     "source": [
      "Script input and output"
     ]
    },
    {
     "cell_type": "markdown",
     "metadata": {},
     "source": [
      "A script can be seen as one of the programming embodiments of the mathematical idea of a mathematical function; that is, a recipe $f$, denoted in math using the expressive arrow symbologism $f:A\\rightarrow B$, that knows how to transform any element $a\\in A$ from an input set $A$ into an output element $f(b)\\in B$ belonging to an output set $B$. (Later on, we will see that there is a also a notion of function in Python, which can be used withing scripts, and which can be regarded as mini-scripts withing scripts). \n",
      "\n",
      "The main difference between mathematical functions and their programmatic embodiements is that in programming the input set can be split into different \"physical\" components. For instance, a script can take its arguements from a default place called the *standard input*, as well as from files stored on the file system (or the internet) and command parameters. Here is a drawing summarizing the various input and output source for a script:\n",
      "\n"
     ]
    },
    {
     "cell_type": "markdown",
     "metadata": {},
     "source": [
      "![Input and Output Sources](https://docs.google.com/drawings/d/1XAy4oynhK8Sj4jr5kDSGtYzqLJk_tRizUhipw-0cqV8/pub?w=960&amp;h=720)"
     ]
    },
    {
     "cell_type": "heading",
     "level": 3,
     "metadata": {},
     "source": [
      "Input from command parameters"
     ]
    },
    {
     "cell_type": "markdown",
     "metadata": {},
     "source": [
      "Import the <code>argv</code> predifined list from the module <code>sys</code>:\n",
      "\n",
      "    from sys import argv\n",
      "    \n",
      "Then unpack the command arguments as in the example above."
     ]
    },
    {
     "cell_type": "code",
     "collapsed": false,
     "input": [
      "%%file MyScript.py\n",
      "\n",
      "from sys import argv\n",
      "\n",
      "arg0, arg1, arg2, arg3, arg4, arg6 = argv\n",
      "\n",
      "print arg3\n"
     ],
     "language": "python",
     "metadata": {},
     "outputs": [
      {
       "output_type": "stream",
       "stream": "stdout",
       "text": [
        "Overwriting MyScript.py\n"
       ]
      }
     ],
     "prompt_number": 21
    },
    {
     "cell_type": "heading",
     "level": 3,
     "metadata": {},
     "source": [
      "Input and output from files "
     ]
    },
    {
     "cell_type": "code",
     "collapsed": false,
     "input": [
      "%%bash\n",
      "\n",
      "echo 'Hello I am the data in the file!' > inputData.txt\n"
     ],
     "language": "python",
     "metadata": {},
     "outputs": [],
     "prompt_number": 26
    },
    {
     "cell_type": "code",
     "collapsed": false,
     "input": [
      "%%file FileInPutOutPutEx.py\n",
      "\n",
      "inputFile = open('inputData.txt')\n",
      "\n",
      "data = inputFile.read()\n",
      "\n",
      "outputFile = open('output.txt', 'w')\n",
      "\n",
      "outputFile.write(data)\n",
      "\n",
      "outputFile.close()\n"
     ],
     "language": "python",
     "metadata": {},
     "outputs": [
      {
       "output_type": "stream",
       "stream": "stdout",
       "text": [
        "Overwriting FileInPutOutPutEx.py\n"
       ]
      }
     ],
     "prompt_number": 36
    },
    {
     "cell_type": "code",
     "collapsed": false,
     "input": [
      "%run FileInPutOutPutEx.py"
     ],
     "language": "python",
     "metadata": {},
     "outputs": [],
     "prompt_number": 37
    },
    {
     "cell_type": "heading",
     "level": 3,
     "metadata": {},
     "source": [
      "Standard input, output, and error streams: stdin, stdout, stderror"
     ]
    },
    {
     "cell_type": "code",
     "collapsed": false,
     "input": [
      "%%file stdExample.py\n",
      "\n",
      "from sys import stdin, stdout, stderr\n",
      "\n",
      "stdout.write('Hello')\n",
      "\n",
      "stderr.write('Aie! Aie! Aie! Big catastroph! Deadly mistake')\n",
      "\n",
      "stdout"
     ],
     "language": "python",
     "metadata": {},
     "outputs": [
      {
       "output_type": "stream",
       "stream": "stdout",
       "text": [
        "Overwriting stdExample.py\n"
       ]
      }
     ],
     "prompt_number": 52
    },
    {
     "cell_type": "code",
     "collapsed": false,
     "input": [
      "%run stdExample.py"
     ],
     "language": "python",
     "metadata": {},
     "outputs": [
      {
       "output_type": "stream",
       "stream": "stdout",
       "text": [
        "Hello"
       ]
      },
      {
       "output_type": "stream",
       "stream": "stderr",
       "text": [
        "Aie! Aie! Aie! Big catastroph! Deadly mistake"
       ]
      }
     ],
     "prompt_number": 53
    },
    {
     "cell_type": "code",
     "collapsed": false,
     "input": [],
     "language": "python",
     "metadata": {},
     "outputs": []
    }
   ],
   "metadata": {}
  }
 ]
}