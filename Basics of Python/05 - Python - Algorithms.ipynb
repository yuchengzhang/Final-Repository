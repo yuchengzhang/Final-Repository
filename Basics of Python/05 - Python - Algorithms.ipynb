{
 "metadata": {
  "name": ""
 },
 "nbformat": 3,
 "nbformat_minor": 0,
 "worksheets": [
  {
   "cells": [
    {
     "cell_type": "heading",
     "level": 1,
     "metadata": {},
     "source": [
      "Algorithms"
     ]
    },
    {
     "cell_type": "markdown",
     "metadata": {},
     "source": [
      "**Definition:** An *algorithm* is a concrete way (think a concrete recipe) to implement a function, i.e, to link a given input to a desired output."
     ]
    },
    {
     "cell_type": "markdown",
     "metadata": {},
     "source": [
      "**Remark:** You may have different algorithms implementing the same function. Some may be better than other in terms of the the output precision, execution speed, easiness of implementation, readability, etc..."
     ]
    },
    {
     "cell_type": "markdown",
     "metadata": {},
     "source": [
      "In programming, you have essentially two main tools to implement an algorithms:\n",
      "\n",
      "* **branching mechanisms**, which constitute the logical brain of the algorithm\n",
      "* **looping mechanisms**, which constitute the algorithm muscles"
     ]
    },
    {
     "cell_type": "heading",
     "level": 2,
     "metadata": {},
     "source": [
      "Branching mechanisms (Brain)"
     ]
    },
    {
     "cell_type": "heading",
     "level": 3,
     "metadata": {},
     "source": [
      "Implementing a simple choice depending on a logical condition"
     ]
    },
    {
     "cell_type": "code",
     "collapsed": false,
     "input": [
      "def guessWhatIamThinking(x):\n",
      "    if x > 8:\n",
      "        print 'You win!'\n",
      "    else:\n",
      "        print 'you loose'"
     ],
     "language": "python",
     "metadata": {},
     "outputs": []
    },
    {
     "cell_type": "code",
     "collapsed": false,
     "input": [
      "guessWhatIamThinking(10)"
     ],
     "language": "python",
     "metadata": {},
     "outputs": []
    },
    {
     "cell_type": "heading",
     "level": 3,
     "metadata": {},
     "source": [
      "Implementing a cascading series of options"
     ]
    },
    {
     "cell_type": "code",
     "collapsed": false,
     "input": [
      "def parseOptions(option):\n",
      "    \n",
      "    if option == 'a':\n",
      "        print 'the option a has been chosen'\n",
      "    elif option == 'b':\n",
      "        print 'the chosen option is b'\n",
      "    elif option == 'c':\n",
      "        print 'the chosen option is c'\n",
      "    else:\n",
      "        print 'No options has been choosen'\n",
      "        \n",
      "        \n",
      "parseOptions('c')"
     ],
     "language": "python",
     "metadata": {},
     "outputs": []
    },
    {
     "cell_type": "heading",
     "level": 2,
     "metadata": {},
     "source": [
      "Looping mechanisms (Muscles)"
     ]
    },
    {
     "cell_type": "heading",
     "level": 3,
     "metadata": {},
     "source": [
      "Looping over the integers"
     ]
    },
    {
     "cell_type": "code",
     "collapsed": false,
     "input": [
      "tdef startGame(numberOfPlay):\n",
      "    for i in range(numberOfPlay):\n",
      "        userInput = float(raw_input('What I am thinking? '))\n",
      "        guessWhatIamThinking(userInput)\n",
      "    print 'Game Over'"
     ],
     "language": "python",
     "metadata": {},
     "outputs": []
    },
    {
     "cell_type": "code",
     "collapsed": false,
     "input": [
      "startGame(5)"
     ],
     "language": "python",
     "metadata": {},
     "outputs": []
    },
    {
     "cell_type": "heading",
     "level": 3,
     "metadata": {},
     "source": [
      "Looping over string letters"
     ]
    },
    {
     "cell_type": "code",
     "collapsed": false,
     "input": [
      "def nucleotideCount(DNA):\n",
      "    numA = 0; numC = 0; numG = 0; numT =0\n",
      "    for nucleotide in DNA:\n",
      "        if nucleotide == 'A':\n",
      "            numA = numA + 1 \n",
      "        elif nucleotide == 'C':\n",
      "            numC = numC + 1\n",
      "        elif nucleotide == 'T':\n",
      "            numT = numT + 1\n",
      "        elif nucleotide == 'G':\n",
      "            numG = numG + 1\n",
      "        else:\n",
      "            print \"\"\"An unfortunate mutation has occurred, \n",
      "            or this DNA is not of terrestrial origin\"\"\"\n",
      "            \n",
      "    print 'Number of A is ', numA\n",
      "    print 'Number of C is ', numC\n",
      "    print 'Number of G is ', numG\n",
      "    print 'Number of T is ', numT\n",
      "\n",
      "    "
     ],
     "language": "python",
     "metadata": {},
     "outputs": []
    },
    {
     "cell_type": "code",
     "collapsed": false,
     "input": [
      "dna = 'AACCGGTT'\n",
      "nucleotideCount(dna)"
     ],
     "language": "python",
     "metadata": {},
     "outputs": []
    },
    {
     "cell_type": "heading",
     "level": 3,
     "metadata": {},
     "source": [
      "Looping over lists"
     ]
    },
    {
     "cell_type": "code",
     "collapsed": false,
     "input": [
      "myList = ['hello', 34, 8.34, True, True and False]\n"
     ],
     "language": "python",
     "metadata": {},
     "outputs": []
    },
    {
     "cell_type": "code",
     "collapsed": false,
     "input": [
      "def listType(aList):\n",
      "    \n",
      "    for item in aList:\n",
      "        print(type(item))"
     ],
     "language": "python",
     "metadata": {},
     "outputs": []
    },
    {
     "cell_type": "code",
     "collapsed": false,
     "input": [
      "listType(myList)"
     ],
     "language": "python",
     "metadata": {},
     "outputs": []
    },
    {
     "cell_type": "heading",
     "level": 3,
     "metadata": {},
     "source": [
      "Conditinal looping"
     ]
    },
    {
     "cell_type": "code",
     "collapsed": false,
     "input": [
      "def sumFirstInteger(n):\n",
      "    counter = 0; result = 0\n",
      "    \n",
      "    while counter <= n:\n",
      "        result  = result + counter\n",
      "        counter = counter + 1\n",
      "        \n",
      "    return result\n",
      "        "
     ],
     "language": "python",
     "metadata": {},
     "outputs": []
    },
    {
     "cell_type": "code",
     "collapsed": false,
     "input": [
      "mySum = sumFirstInteger(13)\n",
      "mySum"
     ],
     "language": "python",
     "metadata": {},
     "outputs": []
    },
    {
     "cell_type": "code",
     "collapsed": false,
     "input": [
      "def greetMe():\n",
      "    \n",
      "    while True:\n",
      "        \n",
      "        userInput = raw_input(\"What's your name? \\n>\")\n",
      "        \n",
      "        if userInput == 'quit':\n",
      "            break\n",
      "        else:\n",
      "            print 'Hello ', userInput\n",
      "\n",
      "        \n",
      "        "
     ],
     "language": "python",
     "metadata": {},
     "outputs": [],
     "prompt_number": 10
    },
    {
     "cell_type": "code",
     "collapsed": false,
     "input": [
      "greetMe()"
     ],
     "language": "python",
     "metadata": {},
     "outputs": [
      {
       "name": "stdout",
       "output_type": "stream",
       "stream": "stdout",
       "text": [
        "What's your name? \n",
        ">Antoine\n"
       ]
      },
      {
       "output_type": "stream",
       "stream": "stdout",
       "text": [
        "Hello  Antoine\n"
       ]
      },
      {
       "name": "stdout",
       "output_type": "stream",
       "stream": "stdout",
       "text": [
        "What's your name? \n",
        ">quit\n"
       ]
      }
     ],
     "prompt_number": 11
    },
    {
     "cell_type": "heading",
     "level": 2,
     "metadata": {},
     "source": [
      "Data structures and algorithms"
     ]
    },
    {
     "cell_type": "heading",
     "level": 3,
     "metadata": {},
     "source": [
      "Lists"
     ]
    },
    {
     "cell_type": "markdown",
     "metadata": {},
     "source": [
      "**Definition:** A list is a *ordered* sequence of possibly *inhomogeneous* elements. Python lists are the programmatic embodiement of the mathematical notion of $n$-tuple:\n",
      "\n",
      "$$a = (a_1, a_2, \\dots, a_n)\\in A_1 \\times A_2 \\times \\cdots \\times A_n,$$\n",
      "\n",
      "where the $i^{th}$ element belongs to the set $A_i$ (the sets being $A_i$s potentially disticts). \n",
      "\n",
      "In Python, one can use the same notation as in math, in which case the list elements won't be able to be modified after having been assigned. In the Python lingo, these constant lists are also called *tuples*. "
     ]
    },
    {
     "cell_type": "code",
     "collapsed": false,
     "input": [
      "a = ('Bob', 32, True)\n",
      "a"
     ],
     "language": "python",
     "metadata": {},
     "outputs": [
      {
       "metadata": {},
       "output_type": "pyout",
       "prompt_number": 4,
       "text": [
        "('Bob', 32, True)"
       ]
      }
     ],
     "prompt_number": 4
    },
    {
     "cell_type": "markdown",
     "metadata": {},
     "source": [
      "To create *mutable* list (i.e. a list whose elements can be further modified), Python uses *square brackets* instead of parenthesis:"
     ]
    },
    {
     "cell_type": "code",
     "collapsed": false,
     "input": [
      "b = ['Marcel', 12, False]\n",
      "b"
     ],
     "language": "python",
     "metadata": {},
     "outputs": [
      {
       "metadata": {},
       "output_type": "pyout",
       "prompt_number": 3,
       "text": [
        "['Marcel', 12, False]"
       ]
      }
     ],
     "prompt_number": 3
    },
    {
     "cell_type": "markdown",
     "metadata": {},
     "source": [
      "In math, one uses the *subscript* notation $a_i$ to denote the $i^{th}$ element of a list $a$. Instead of that notation, Python uses the *square bracket operator* (caution: in Python indices start at zero):"
     ]
    },
    {
     "cell_type": "code",
     "collapsed": false,
     "input": [
      "a[2]"
     ],
     "language": "python",
     "metadata": {},
     "outputs": [
      {
       "metadata": {},
       "output_type": "pyout",
       "prompt_number": 9,
       "text": [
        "True"
       ]
      }
     ],
     "prompt_number": 9
    },
    {
     "cell_type": "code",
     "collapsed": false,
     "input": [
      "b[3]"
     ],
     "language": "python",
     "metadata": {},
     "outputs": [
      {
       "ename": "IndexError",
       "evalue": "list index out of range",
       "output_type": "pyerr",
       "traceback": [
        "\u001b[0;31m---------------------------------------------------------------------------\u001b[0m\n\u001b[0;31mIndexError\u001b[0m                                Traceback (most recent call last)",
        "\u001b[0;32m<ipython-input-10-0a402005bccb>\u001b[0m in \u001b[0;36m<module>\u001b[0;34m()\u001b[0m\n\u001b[0;32m----> 1\u001b[0;31m \u001b[0mb\u001b[0m\u001b[0;34m[\u001b[0m\u001b[0;36m3\u001b[0m\u001b[0;34m]\u001b[0m\u001b[0;34m\u001b[0m\u001b[0m\n\u001b[0m",
        "\u001b[0;31mIndexError\u001b[0m: list index out of range"
       ]
      }
     ],
     "prompt_number": 10
    },
    {
     "cell_type": "markdown",
     "metadata": {},
     "source": [
      "Observed that elements from a Python tuple can be retrived but not reassigned, as opposed to Python lists, which is why Python list are called *mutable* and Python tuples are called *immutable*:"
     ]
    },
    {
     "cell_type": "code",
     "collapsed": false,
     "input": [
      "b[2] = False"
     ],
     "language": "python",
     "metadata": {},
     "outputs": [],
     "prompt_number": 8
    },
    {
     "cell_type": "code",
     "collapsed": false,
     "input": [],
     "language": "python",
     "metadata": {},
     "outputs": []
    },
    {
     "cell_type": "code",
     "collapsed": false,
     "input": [],
     "language": "python",
     "metadata": {},
     "outputs": []
    },
    {
     "cell_type": "markdown",
     "metadata": {},
     "source": [
      "Algorithmically, one may be interseted in lists for various reasons:\n",
      "\n",
      "* looping over elements (as we have already seen)\n",
      "\n",
      "* retrieving *sublists* of a given lists\n",
      "\n",
      "* sorting the list elements according to a particular criterium\n",
      "\n"
     ]
    },
    {
     "cell_type": "markdown",
     "metadata": {},
     "source": [
      "**Sublists**"
     ]
    },
    {
     "cell_type": "markdown",
     "metadata": {},
     "source": [
      "One retrieves from a given Python's list, say <code>my_list</code>, a sublist of consecutive indices by indicating the **sublist range or \"slice\":**\n",
      "<pre><code>my_list[3:6]</code></pre>\n",
      "returns the sublist\n",
      "<pre><code>[my_list[3], my_list[4], my_list[5]]</code></pre>"
     ]
    },
    {
     "cell_type": "code",
     "collapsed": false,
     "input": [],
     "language": "python",
     "metadata": {},
     "outputs": []
    },
    {
     "cell_type": "markdown",
     "metadata": {},
     "source": [
      "The function <code>len(my_list)</code> returns the **length** of my_list"
     ]
    },
    {
     "cell_type": "code",
     "collapsed": false,
     "input": [],
     "language": "python",
     "metadata": {},
     "outputs": []
    },
    {
     "cell_type": "markdown",
     "metadata": {},
     "source": [
      "* The range $[m:n]$ is **open-ended**: element $m$ is included but not the element $n$\n",
      "* $[:n]$ is a shorthand for $[0:n]$\n",
      "* $[m:]$ is a shorthand for $[m:n]$ where $n$ is the list lenght\n",
      "* Negative numbers can also be used to indicate positions and ranges:\n",
      " * <code> my_list[-1] </code> is the last element of the list\n",
      " * <code> my_list[-2] </code> is the element before the last element, etc.\n",
      " * etc."
     ]
    },
    {
     "cell_type": "markdown",
     "metadata": {},
     "source": [
      "**Sorting**"
     ]
    },
    {
     "cell_type": "heading",
     "level": 3,
     "metadata": {},
     "source": [
      "Dictionaries"
     ]
    },
    {
     "cell_type": "code",
     "collapsed": false,
     "input": [],
     "language": "python",
     "metadata": {},
     "outputs": []
    },
    {
     "cell_type": "heading",
     "level": 3,
     "metadata": {},
     "source": [
      "Sets"
     ]
    },
    {
     "cell_type": "code",
     "collapsed": false,
     "input": [],
     "language": "python",
     "metadata": {},
     "outputs": []
    }
   ],
   "metadata": {}
  }
 ]
}