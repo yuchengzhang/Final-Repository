{
 "metadata": {
  "name": ""
 },
 "nbformat": 3,
 "nbformat_minor": 0,
 "worksheets": [
  {
   "cells": [
    {
     "cell_type": "heading",
     "level": 1,
     "metadata": {},
     "source": [
      "Homework 9 - R - Vectors and types"
     ]
    },
    {
     "cell_type": "code",
     "collapsed": false,
     "input": [
      "%load_ext rmagic"
     ],
     "language": "python",
     "metadata": {
      "slideshow": {
       "slide_type": "fragment"
      }
     },
     "outputs": [],
     "prompt_number": 2
    },
    {
     "cell_type": "markdown",
     "metadata": {},
     "source": [
      "**Exercise 1**\n",
      "\n",
      "Create the vectors, store each of them in a variable of your convenience, and print these variables:\n",
      "\n",
      "* $(1,2,3,\\dots, 19, 20)$"
     ]
    },
    {
     "cell_type": "code",
     "collapsed": false,
     "input": [
      "%%R\n",
      "\n",
      "x = 1:20\n",
      "\n",
      "print(x)"
     ],
     "language": "python",
     "metadata": {},
     "outputs": [
      {
       "metadata": {},
       "output_type": "display_data",
       "text": [
        " [1]  1  2  3  4  5  6  7  8  9 10 11 12 13 14 15 16 17 18 19 20\n"
       ]
      }
     ],
     "prompt_number": 3
    },
    {
     "cell_type": "markdown",
     "metadata": {},
     "source": [
      "* $(20, 10,\\dots, 2, 1)$"
     ]
    },
    {
     "cell_type": "code",
     "collapsed": false,
     "input": [
      "%%R\n",
      "\n",
      "x = 20:1\n",
      "\n",
      "print(x)"
     ],
     "language": "python",
     "metadata": {},
     "outputs": [
      {
       "metadata": {},
       "output_type": "display_data",
       "text": [
        " [1] 20 19 18 17 16 15 14 13 12 11 10  9  8  7  6  5  4  3  2  1\n"
       ]
      }
     ],
     "prompt_number": 4
    },
    {
     "cell_type": "markdown",
     "metadata": {},
     "source": [
      "* $(1, 2, 3, \\dots, 19, 20, 19, 18, \\dots, 2, 1)$"
     ]
    },
    {
     "cell_type": "code",
     "collapsed": false,
     "input": [
      "%%R\n",
      "\n",
      "x = 1:20\n",
      "y = c(x, rev(x[-20]))\n",
      "\n",
      "print(y)"
     ],
     "language": "python",
     "metadata": {},
     "outputs": [
      {
       "metadata": {},
       "output_type": "display_data",
       "text": [
        " [1]  1  2  3  4  5  6  7  8  9 10 11 12 13 14 15 16 17 18 19 20 19 18 17 16 15\n",
        "[26] 14 13 12 11 10  9  8  7  6  5  4  3  2  1\n"
       ]
      }
     ],
     "prompt_number": 16
    },
    {
     "cell_type": "markdown",
     "metadata": {},
     "source": [
      "* $(4, 6, 3)$ "
     ]
    },
    {
     "cell_type": "code",
     "collapsed": false,
     "input": [
      "%%R\n",
      "\n",
      "x = c(4, 6, 3)\n",
      "\n",
      "print(x)"
     ],
     "language": "python",
     "metadata": {},
     "outputs": [
      {
       "metadata": {},
       "output_type": "display_data",
       "text": [
        "[1] 4 6 3\n"
       ]
      }
     ],
     "prompt_number": 17
    },
    {
     "cell_type": "markdown",
     "metadata": {},
     "source": [
      "Look at the online help for the function [rep](http://stat.ethz.ch/R-manual/R-devel/library/base/html/rep.html), and repeat the previous question the following vectors:\n",
      "\n",
      "* $(4, 6, 3, 4, 6, 3,\\dots, 4, 6, 3)$ where 4 appears 10 times"
     ]
    },
    {
     "cell_type": "code",
     "collapsed": false,
     "input": [
      "%%R\n",
      "\n",
      "x = c(4, 6, 3)\n",
      "y = rep(x, 10)\n",
      "\n",
      "print(y)"
     ],
     "language": "python",
     "metadata": {},
     "outputs": [
      {
       "metadata": {},
       "output_type": "display_data",
       "text": [
        " [1] 4 6 3 4 6 3 4 6 3 4 6 3 4 6 3 4 6 3 4 6 3 4 6 3 4 6 3 4 6 3\n"
       ]
      }
     ],
     "prompt_number": 20
    },
    {
     "cell_type": "markdown",
     "metadata": {},
     "source": [
      "* $(4, 6, 3, 4, 6, 3,\\dots, 4, 6, 3, 4)$ where 4 appears 11 times, and 6 appears 10 times, and 3 appears 10 times"
     ]
    },
    {
     "cell_type": "code",
     "collapsed": false,
     "input": [
      "%%R\n",
      "\n",
      "x = c(4, 6, 3)\n",
      "y = rep(x, times=11, length.out=31)\n",
      "\n",
      "print(y)"
     ],
     "language": "python",
     "metadata": {},
     "outputs": [
      {
       "metadata": {},
       "output_type": "display_data",
       "text": [
        " [1] 4 6 3 4 6 3 4 6 3 4 6 3 4 6 3 4 6 3 4 6 3 4 6 3 4 6 3 4 6 3 4\n"
       ]
      }
     ],
     "prompt_number": 23
    },
    {
     "cell_type": "markdown",
     "metadata": {},
     "source": [
      "* $(4, 4,\\dots, 4, 6, 6, \\dots, 6, 3, 3, \\dots, 3)$  where 4 appears 10 times, 6 appears 20 times, and 3 appears 30 times"
     ]
    },
    {
     "cell_type": "code",
     "collapsed": false,
     "input": [
      "%%R\n",
      "\n",
      "x = c(rep(4, 10), rep(6, 20), rep(3, 30))\n",
      "\n",
      "# or rep(c(4, 6, 3), c(10, 20, 30))\n",
      "\n",
      "print(x)"
     ],
     "language": "python",
     "metadata": {},
     "outputs": [
      {
       "metadata": {},
       "output_type": "display_data",
       "text": [
        " [1] 4 4 4 4 4 4 4 4 4 4 6 6 6 6 6 6 6 6 6 6 6 6 6 6 6 6 6 6 6 6 3 3 3 3 3 3 3 3\n",
        "[39] 3 3 3 3 3 3 3 3 3 3 3 3 3 3 3 3 3 3 3 3 3 3\n"
       ]
      }
     ],
     "prompt_number": 25
    },
    {
     "cell_type": "markdown",
     "metadata": {},
     "source": [
      "**Exercise 2**\n",
      "\n",
      "Create a vector of the values $e^x\\cos(x)$ at $x=3, 3.1, 3.2, \\dots, 6$."
     ]
    },
    {
     "cell_type": "code",
     "collapsed": false,
     "input": [
      "%%R\n",
      "\n",
      "x = seq(from=3, to=6, by=.1)\n",
      "y = exp(x) * cos(x)\n",
      "\n",
      "print(y)"
     ],
     "language": "python",
     "metadata": {},
     "outputs": [
      {
       "metadata": {},
       "output_type": "display_data",
       "text": [
        " [1] -19.884531 -22.178753 -24.490697 -26.773182 -28.969238 -31.011186\n",
        " [7] -32.819775 -34.303360 -35.357194 -35.862834 -35.687732 -34.685042\n",
        "[13] -32.693695 -29.538816 -25.032529 -18.975233 -11.157417  -1.362099\n",
        "[19]  10.632038  25.046705  42.099201  61.996630  84.929067 111.061586\n",
        "[25] 140.525075 173.405776 209.733494 249.468441 292.486707 338.564378\n",
        "[31] 387.360340\n"
       ]
      }
     ],
     "prompt_number": 29
    },
    {
     "cell_type": "markdown",
     "metadata": {},
     "source": [
      "**Exercise 3**\n",
      "\n",
      "Create vectors containing the values:\n",
      "\n",
      "*  $(0.1^30.2^1, 0.1^60.2^4, \\dots, 0.1^{36}0.2^{34})$"
     ]
    },
    {
     "cell_type": "code",
     "collapsed": false,
     "input": [
      "%%R\n",
      "\n",
      "x = rep(0.1, 11)\n",
      "y = rep(0.2, 11)\n",
      "\n",
      "a = seq(from=3, to=36, by=3)\n",
      "b = seq(from=1, to=34, by=3)\n",
      "\n",
      "z = (x^a) * (y^b)\n",
      "\n",
      "print(z)"
     ],
     "language": "python",
     "metadata": {},
     "outputs": [
      {
       "metadata": {},
       "output_type": "display_data",
       "text": [
        " [1] 2.000000e-04 1.600000e-09 1.280000e-14 1.024000e-19 8.192000e-25\n",
        " [6] 6.553600e-30 5.242880e-35 4.194304e-40 3.355443e-45 2.684355e-50\n",
        "[11] 2.147484e-55 1.717987e-60\n"
       ]
      }
     ],
     "prompt_number": 32
    },
    {
     "cell_type": "markdown",
     "metadata": {},
     "source": [
      "*  $(2,  \\frac{2^2}2, \\frac{2^3}3,\\dots, \\frac{2^{25}}{25})$"
     ]
    },
    {
     "cell_type": "code",
     "collapsed": false,
     "input": [
      "%%R\n",
      "\n",
      "x = 2^(1:25) / (1:25)\n",
      "\n",
      "print(x)"
     ],
     "language": "python",
     "metadata": {},
     "outputs": [
      {
       "metadata": {},
       "output_type": "display_data",
       "text": [
        " [1] 2.000000e+00 2.000000e+00 2.666667e+00 4.000000e+00 6.400000e+00\n",
        " [6] 1.066667e+01 1.828571e+01 3.200000e+01 5.688889e+01 1.024000e+02\n",
        "[11] 1.861818e+02 3.413333e+02 6.301538e+02 1.170286e+03 2.184533e+03\n",
        "[16] 4.096000e+03 7.710118e+03 1.456356e+04 2.759411e+04 5.242880e+04\n",
        "[21] 9.986438e+04 1.906502e+05 3.647221e+05 6.990507e+05 1.342177e+06\n"
       ]
      }
     ],
     "prompt_number": 35
    },
    {
     "cell_type": "markdown",
     "metadata": {},
     "source": [
      "**Execise 4**\n",
      "\n",
      "Calculate the following sums:\n",
      "\n",
      "* $$\\sum_{i=10}^{100}(i^3 + 4i^2)$$"
     ]
    },
    {
     "cell_type": "code",
     "collapsed": false,
     "input": [
      "%%R\n",
      "\n",
      "i = 10:100\n",
      "x = sum((i^3) + (4*(i^2)))\n",
      "\n",
      "print(x)"
     ],
     "language": "python",
     "metadata": {},
     "outputs": [
      {
       "metadata": {},
       "output_type": "display_data",
       "text": [
        "[1] 26852735\n"
       ]
      }
     ],
     "prompt_number": 36
    },
    {
     "cell_type": "markdown",
     "metadata": {},
     "source": [
      "* $$\\sum_{i=1}^{25}\\left(\\frac{2^i}i + \\frac{3^i}{i^2}\\right)$$"
     ]
    },
    {
     "cell_type": "code",
     "collapsed": false,
     "input": [
      "%%R\n",
      "\n",
      "i = 1:25\n",
      "x = sum( ((2^i)/i) + ((3^i)/(i^2)) ) \n",
      "        \n",
      "print(x)\n",
      "\n",
      "\n",
      "\n"
     ],
     "language": "python",
     "metadata": {},
     "outputs": [
      {
       "metadata": {},
       "output_type": "display_data",
       "text": [
        "[1] 2129170437\n"
       ]
      }
     ],
     "prompt_number": 42
    },
    {
     "cell_type": "markdown",
     "metadata": {},
     "source": [
      "**Exercise 5**\n",
      "\n",
      "Use the function <code>paste</code> to create the following character vectors of length $30$:\n",
      "\n",
      "* ('label 1', 'label 2',..., 'label 30')"
     ]
    },
    {
     "cell_type": "code",
     "collapsed": false,
     "input": [
      "%%R\n",
      "\n",
      "lb = rep(\"label\", 30)\n",
      "x = paste(lb, 1:30, sep=' ')\n",
      "\n",
      "print(x)"
     ],
     "language": "python",
     "metadata": {},
     "outputs": [
      {
       "metadata": {},
       "output_type": "display_data",
       "text": [
        " [1] \"label 1\"  \"label 2\"  \"label 3\"  \"label 4\"  \"label 5\"  \"label 6\" \n",
        " [7] \"label 7\"  \"label 8\"  \"label 9\"  \"label 10\" \"label 11\" \"label 12\"\n",
        "[13] \"label 13\" \"label 14\" \"label 15\" \"label 16\" \"label 17\" \"label 18\"\n",
        "[19] \"label 19\" \"label 20\" \"label 21\" \"label 22\" \"label 23\" \"label 24\"\n",
        "[25] \"label 25\" \"label 26\" \"label 27\" \"label 28\" \"label 29\" \"label 30\"\n"
       ]
      }
     ],
     "prompt_number": 48
    },
    {
     "cell_type": "markdown",
     "metadata": {},
     "source": [
      "* ('fn1', 'fn2', ..., 'fn30')"
     ]
    },
    {
     "cell_type": "code",
     "collapsed": false,
     "input": [
      "%%R\n",
      "\n",
      "x = paste(\"fn\", 1:30, sep='')\n",
      "\n",
      "print(x)\n"
     ],
     "language": "python",
     "metadata": {},
     "outputs": [
      {
       "metadata": {},
       "output_type": "display_data",
       "text": [
        " [1] \"fn1\"  \"fn2\"  \"fn3\"  \"fn4\"  \"fn5\"  \"fn6\"  \"fn7\"  \"fn8\"  \"fn9\"  \"fn10\"\n",
        "[11] \"fn11\" \"fn12\" \"fn13\" \"fn14\" \"fn15\" \"fn16\" \"fn17\" \"fn18\" \"fn19\" \"fn20\"\n",
        "[21] \"fn21\" \"fn22\" \"fn23\" \"fn24\" \"fn25\" \"fn26\" \"fn27\" \"fn28\" \"fn29\" \"fn30\"\n"
       ]
      }
     ],
     "prompt_number": 51
    },
    {
     "cell_type": "markdown",
     "metadata": {},
     "source": [
      "**Exercise 6**\n",
      "\n",
      "Let's construct the following vectors \n",
      "\n",
      "$$x=(x_1,\\dots,x_{250})\\qquad\\textrm{and}\\qquad y=(y_1,\\dots,y_{250})$$\n",
      "\n",
      "\n",
      "of random integers in the range $0, 1, \\dots, 999$, using the random number generator function <code>sample</code>:"
     ]
    },
    {
     "cell_type": "code",
     "collapsed": false,
     "input": [
      "%%R\n",
      "\n",
      "n = 250\n",
      "x = sample(0:999, size=n, replace=TRUE)\n",
      "y = sample(0:999, size=n, replace=TRUE)\n",
      "\n",
      "print(x)\n",
      "print(y)"
     ],
     "language": "python",
     "metadata": {},
     "outputs": [
      {
       "metadata": {},
       "output_type": "display_data",
       "text": [
        "  [1] 479 349  39 407 818 731 468 824 208 777 331 198 349 930 761 367 741 199\n",
        " [19]  29 635 969 372 120   8 885 839 236 898 837 866 586 137 851 873 668 228\n",
        " [37] 929 135 484 384 758 434 911 406 132 651 116 350 702 823 179 896  16 122\n",
        " [55] 271 990 752 196 458  79 656 591 290  43  68 840 772 767 453 756 148 574\n",
        " [73] 993 449 974 535 618 692 965 470 736 621 883 993 698 799 321 716 431 741\n",
        " [91] 354 754 383 508 343 967 114 165 757 216 347 502 691 837 717 336  92 926\n",
        "[109] 432 201 402 821 302 611 796 530 338 781 423 458 524 868 126 975 730 943\n",
        "[127] 155 698 862  82 246 457 589 970 292 591 928 595 356 434 824 418 904 505\n",
        "[145] 533 643 844 367 855 891 767 133 438 445 364 967 744 666 856 664 810 629\n",
        "[163] 284 953 243 525 996 631 294 452 246 769 705 745 190 130 666 787 637 780\n",
        "[181] 160 435 778 191  90 705 411 727 211 266 843 959 760  67 783 784 734 305\n",
        "[199] 902 413 610 701 804 770 268 268 883 840 767 997 320   7 639 767 780 386\n",
        "[217]  27 666 236   4  95 274 199 406 480 841 463 345 718 338  14 258 806 399\n",
        "[235] 534 490  58 900 304 150 975 533 658 222 207 147 446 561 594 761\n",
        "  [1] 134 498 454 377 671 833 789 497 941 326 418 979 837 514 600 463 158  12\n",
        " [19]  82 594 659 213 400 597 196 875 878 106 708 330 982 358  59 667 828 104\n",
        " [37] 813 963  99 367 243 689 857 130 167 365  78 985 690 376 461 349 186 379\n",
        " [55] 825 202 241 805 585 517 386  69 471 848 900 121 847 338 488 939 505 613\n",
        " [73] 460 557  87 527 288 750 289 452  57 533 121 112 992 949 530 692 477 300\n",
        " [91] 980 203 525 808 559 989 709 923 640 114 632 477 739 865 129 460  74 549\n",
        "[109] 363 269 406 163 624 240 282 845 471 114 315 710 876  91  72 174 994 202\n",
        "[127] 545  52 786 900 326 344  96 304 554 441 371 398 550 222 782 976 257 797\n",
        "[145] 826 453 331 422 245 283 937 134 414 905 983 445 571  22 714 125 152 461\n",
        "[163]  68 236 280 844 802 880 968 955 443 930 430 116 771  78 631  14 189 434\n",
        "[181] 899  35 763 520 160 314 380 856 126  28 554 897 863 126 601 354 466 847\n",
        "[199] 753 424 161 267 806 880 959 419 885 112 318 604 684 615 511 787  23  69\n",
        "[217] 840  78 996 146 400 416 671 161 204 667 393 114 394 321 533 775 207 517\n",
        "[235] 896 444 904 521  48 913 615 315 391 703 924 343 453 352 930 979\n"
       ]
      }
     ],
     "prompt_number": 56
    },
    {
     "cell_type": "markdown",
     "metadata": {},
     "source": [
      "You can find [here](http://stat.ethz.ch/R-manual/R-devel/library/base/html/sample.html) a description of the function <code>sample</code>."
     ]
    },
    {
     "cell_type": "markdown",
     "metadata": {},
     "source": [
      "Let $n$ be the length of the vectors $x$ and $y$ (i.e. $n=250$). From $x$ and $y$, create now the vectors:\n",
      "\n",
      "* $(y_2 - x_1, \\dots, y_n - x_{n-1})$"
     ]
    },
    {
     "cell_type": "code",
     "collapsed": false,
     "input": [
      "%%R\n",
      "\n",
      "z = y[2:n] - x[1:(n-1)]\n",
      "\n",
      "print(z)"
     ],
     "language": "python",
     "metadata": {},
     "outputs": [
      {
       "metadata": {},
       "output_type": "display_data",
       "text": [
        "  [1]   19  105  338  264   15   58   29  117  118 -359  648  639  165 -330 -298\n",
        " [16] -209 -729 -117  565   24 -756   28  477  188  -10   39 -130 -190 -507  116\n",
        " [31] -228  -78 -184  -45 -564  585   34  -36 -117 -141  -69  423 -781 -239  233\n",
        " [46] -573  869  340 -326 -362  170 -710  363  703  -69 -749   53  389   59  307\n",
        " [61] -587 -120  558  857   53    7 -434 -279  486 -251  465 -114 -436 -362 -447\n",
        " [76] -247  132 -403 -513 -413 -203 -500 -771   -1  251 -269  371 -239 -131  239\n",
        " [91] -151 -229  425   51  646 -258  809  475 -643  416  130  237  174 -708 -257\n",
        "[106] -262  457 -563 -163  205 -239 -197  -62 -329   49  -59 -224 -466  287  418\n",
        "[121] -433 -796   48   19 -528 -398 -103   88   38  244   98 -361 -285 -416  149\n",
        "[136] -220 -530  -45 -134  348  152 -161 -107  321  -80 -312 -422 -122 -572   46\n",
        "[151] -633  281  467  538   81 -396 -722   48 -731 -512 -349 -561  -48 -673  601\n",
        "[166]  277 -116  337  661   -9  684 -339 -589   26 -112  501 -652 -598 -203  119\n",
        "[181] -125  328 -258  -31  224 -325  445 -601 -183  288   54  -96 -634  534 -429\n",
        "[196] -318  113  448 -478 -252 -343  105   76  189  151  617 -771 -522 -163 -313\n",
        "[211]  295  504  148 -744 -711  454   51  330  -90  396  321  397  -38 -202  187\n",
        "[226] -448 -349   49 -397  195  761  -51 -289  497  -90  414  463 -852  609  465\n",
        "[241] -660 -142   45  702  136  306  -94  369  385\n"
       ]
      }
     ],
     "prompt_number": 58
    },
    {
     "cell_type": "markdown",
     "metadata": {},
     "source": [
      "* $\\left(\\frac{\\sin(y_1)}{\\cos(x_2)},\\dots, \\frac{\\sin(y_{n-1})}{\\cos(x_n)}\\right)$"
     ]
    },
    {
     "cell_type": "code",
     "collapsed": false,
     "input": [
      "%%R\n",
      "\n",
      "sines = sin(y[1:(n-1)])\n",
      "cosines = cos(x[2:n])\n",
      "\n",
      "tan = sines/cosines\n",
      "\n",
      "print(tan)"
     ],
     "language": "python",
     "metadata": {},
     "outputs": [
      {
       "metadata": {},
       "output_type": "display_data",
       "text": [
        "  [1] -9.226828e-01  3.744122e+00  6.129324e+00  2.365525e-02  1.759429e+00\n",
        "  [6]  4.621432e-01 -7.170070e-01  7.411499e-01  1.923206e+00  1.564561e+00\n",
        " [11]  1.679180e-01  9.617376e-01  9.764720e-01 -1.265991e+00 -5.235693e-02\n",
        " [16] -1.013187e+00 -1.687406e+00  7.172883e-01  3.398278e-01 -1.312621e+00\n",
        " [21] -2.435844e+00 -7.219164e-01  5.848242e+00  1.624672e-01 -9.576352e-01\n",
        " [26] -1.074675e+00 -1.133502e+00 -3.130181e+00 -1.927734e+00  1.425969e+00\n",
        " [31]  2.897792e+00  1.514258e-01  6.810602e-01 -2.079310e+00  4.225429e+00\n",
        " [36] -5.249952e-01 -6.253881e-01  1.013982e+00 -1.335771e+00 -8.382271e-01\n",
        " [41] -9.933611e-01 -8.382926e-01 -8.206014e-01 -9.314192e-01  6.167631e-01\n",
        " [46] -5.599535e-01 -1.812123e+00  6.833581e+00 -9.172570e-01  8.387393e-01\n",
        " [51] -9.106761e-01  2.917994e-01  6.945625e-01  1.331711e+00 -1.025712e+00\n",
        " [56] -2.016399e+00  2.292083e+00  8.735136e-01 -6.876205e-01 -1.179781e+00\n",
        " [61]  4.351452e-01 -2.040877e-01 -4.262771e-01 -5.179988e-01 -2.717068e+00\n",
        " [66]  1.482908e+00 -1.047401e+00 -1.173469e+00  2.010448e+00 -3.505805e-01\n",
        " [71] -1.166928e+00 -3.925276e-01 -1.001110e+00 -8.110121e-01 -1.373276e+00\n",
        " [76]  1.131121e+00 -1.295686e+00 -8.640800e-01 -8.139319e-02 -5.867916e-01\n",
        " [81]  8.548413e-01  8.977474e-01  1.032658e+00 -1.054720e+00 -1.326548e+00\n",
        " [86]  2.790031e-01  8.343338e-01 -9.110931e-01 -5.451521e-01  1.850277e+00\n",
        " [91] -1.760144e-01  9.695575e-01 -5.862043e-01  6.795515e-01 -2.466507e-01\n",
        " [96]  9.136630e-01  1.268431e+01  5.922568e-01  1.077811e+00  5.396159e+00\n",
        "[101] -6.480831e-01 -5.043796e-01 -2.856985e+00 -1.158489e+00  1.956828e-01\n",
        "[106] -1.549287e+00  1.372018e+00  2.265316e+01 -9.912541e-01 -9.305758e-01\n",
        "[111]  1.333855e+00 -3.864984e-01  2.322486e+01 -2.464389e+00  1.130727e+00\n",
        "[116]  3.208979e-01  7.656013e-01 -1.783357e+00  9.525517e-01 -7.550110e-05\n",
        "[121]  7.981087e-01  1.122768e-01  5.665792e-01 -2.295098e+00  1.097333e+00\n",
        "[126] -1.655342e+00 -1.182479e+00  2.748358e+00  5.961573e-01  1.729362e+00\n",
        "[131]  6.534456e+00  2.057450e+01 -1.346946e+00 -6.797907e-01  9.497701e-01\n",
        "[136] -2.764217e+00 -8.838978e-01 -1.539503e+00 -2.449715e-01  1.402725e+00\n",
        "[141] -2.573965e-01  1.208172e+00  8.199340e-01 -1.713958e+00 -4.569198e-01\n",
        "[146] -1.236104e+00  1.073140e+00  9.679809e-01 -1.260142e-01  2.821083e-01\n",
        "[151]  1.457145e+00 -3.550645e+00 -1.420919e+00  2.409211e-01  3.821892e-01\n",
        "[156]  1.053477e+00 -6.961452e-01 -1.054991e-01  1.751448e+00 -7.143745e-01\n",
        "[161]  1.201729e+00  2.353190e+00  1.969621e+00  8.146472e-01  4.134498e-01\n",
        "[166] -8.918006e-01  8.699842e-01  1.343141e+00  4.104067e-01 -7.652348e-02\n",
        "[171]  4.594420e-02  3.119090e-01 -4.290896e-01  3.569184e+00  2.630428e+00\n",
        "[176]  5.140585e-01 -1.430818e+01 -1.345507e+00  7.632069e-01 -4.552340e-01\n",
        "[181]  4.380053e+00 -9.727066e-01 -4.925019e-01  2.226856e+00  7.737020e-01\n",
        "[186]  1.858723e-01 -4.809861e-01 -1.143884e+00 -6.467834e-01  5.474837e-01\n",
        "[191] -1.284654e+00 -1.033353e+00 -1.557381e+00 -4.482646e-01 -4.754878e+00\n",
        "[196]  1.983470e+00 -8.959628e-01  1.008157e+00  6.980611e+00  1.330818e-01\n",
        "[201]  7.709402e-01  3.648182e-02 -1.032741e+00 -6.085491e-01  1.276412e+00\n",
        "[206]  9.412015e-01  2.181431e+00 -9.890593e-01  1.462434e+00  8.046694e-01\n",
        "[211] -1.011430e+00  2.211308e+00  9.799185e-01  1.578338e+00  9.250792e-01\n",
        "[216]  3.929119e-01 -9.302729e-01 -5.535816e-01  1.757451e-01  1.364702e+00\n",
        "[221]  1.095604e+00 -2.048501e+00  1.298659e+00  8.916825e-01  3.459438e-01\n",
        "[226] -2.215310e+00 -3.532376e-01 -5.392842e+00 -3.502290e+00  3.869526e+00\n",
        "[231] -9.485749e-01 -4.580841e+00  3.383582e-01  9.808982e-01 -6.044351e-01\n",
        "[236] -7.216679e+00 -1.060194e+01  6.511477e-01 -1.098683e+00  2.083266e+00\n",
        "[241] -1.424958e+00 -4.573297e+00 -2.004013e+00 -6.981038e-01 -4.579989e-01\n",
        "[246] -5.396362e-01 -2.562142e+00 -1.452790e-01  1.191984e-01\n"
       ]
      }
     ],
     "prompt_number": 59
    },
    {
     "cell_type": "markdown",
     "metadata": {},
     "source": [
      "* $(x_1 + 2x_2 - x_3,\\dots, x_2 + 2x_3 -x_4, \\dots, x_{n-2} + 2x_{n-1}- x_n)$"
     ]
    },
    {
     "cell_type": "code",
     "collapsed": false,
     "input": [
      "%%R\n",
      "\n",
      "one = 1:(n-2)\n",
      "two = 2:(n-1)\n",
      "three = 3:n\n",
      "\n",
      "result = x[one] + (2 * x[two]) - x[three]\n",
      "\n",
      "print(result)"
     ],
     "language": "python",
     "metadata": {},
     "outputs": [
      {
       "metadata": {},
       "output_type": "display_data",
       "text": [
        "  [1] 1138   20   35 1312 1812  843 1908  463 1431 1241  378  -34 1448 2085  754\n",
        " [16] 1650 1110 -378  330 2201 1593  604 -749  939 2327  413 1195 1706 1983 1901\n",
        " [31]    9  966 1929 1981  195 1951  715  719  494 1466  715 1850 1591   19 1318\n",
        " [46]  533  114  931 2169  285 1955  806  -11 -326 1499 2298  686 1033  -40  800\n",
        " [61] 1548 1128  308 -661  976 1617 1853  917 1817  478  303 2111  917 1862 1426\n",
        " [76] 1079 1037 2152 1169 1321 1095 1394 2171 1590 1975  725 1322  837 1559  695\n",
        " [91] 1479 1012 1056  227 2163 1030 -313 1463  842  408  660 1047 1648 1935 1297\n",
        "[106] -406 1512 1589  432  184 1742  814  728 1673 1518  425 1477 1169  815  638\n",
        "[121] 2134  145 1346 1492 2461  555  689 2340  780  117  571  665 2237  963  546\n",
        "[136] 1852 1762  873  400 1664  756 1721 1381  928  975 1964  723 1186 1870 2292\n",
        "[151]  595  564  964  206 1554 1789 1220 1714 1374 1655 1784  244 1947  914  297\n",
        "[166] 1886 1964  767  952  175 1079 1434 2005  995 -216  675 1603 1281 2037  665\n",
        "[181]  252 1800 1070 -334 1089  800 1654  883 -100  993 2001 2412  111  849 1617\n",
        "[196] 1947  442 1696 1118  932 1208 1539 2076 1038  -79 1194 1796 1377 2441 1630\n",
        "[211] -305  518 1393 1941 1525 -226 1123 1134  149  -80  444  266  531  525 1699\n",
        "[226] 1422  435 1443 1380  108 -276 1471 1070  977 1456 -294 1554 1358 -371 1567\n",
        "[241] 1383 1627  895  489   55  478  974  988\n"
       ]
      }
     ],
     "prompt_number": 61
    },
    {
     "cell_type": "markdown",
     "metadata": {},
     "source": [
      "Then calculate\n",
      "\n",
      "$$\\sum_{i=1}^{n-1}\\frac{e^{-x_{i+1}}}{x_i+10}$$"
     ]
    },
    {
     "cell_type": "code",
     "collapsed": false,
     "input": [
      "%%R\n",
      "\n",
      "top = 2:n\n",
      "bot = 1:(n-1)\n",
      "\n",
      "result = sum( exp(-x[top]) / (x[bot] + 10) )\n",
      "\n",
      "print(result)"
     ],
     "language": "python",
     "metadata": {},
     "outputs": [
      {
       "metadata": {},
       "output_type": "display_data",
       "text": [
        "[1] 7.980009e-05\n"
       ]
      }
     ],
     "prompt_number": 65
    },
    {
     "cell_type": "markdown",
     "metadata": {},
     "source": [
      "**Exercise 7**\n",
      "\n",
      "This question uses the vectors $x$ and $y$ created in the previous question and the functions \n",
      "[sort](http://stat.ethz.ch/R-manual/R-devel/library/base/html/sort.html),\n",
      "[order](http://stat.ethz.ch/R-manual/R-devel/library/base/html/order.html),\n",
      "[mean](http://stat.ethz.ch/R-manual/R-devel/library/base/html/mean.html),\n",
      "[sqrt](http://stat.ethz.ch/R-manual/R-devel/library/base/html/MathFun.html),\n",
      "[sum](http://stat.ethz.ch/R-manual/R-devel/library/base/html/sum.html),\n",
      "[abs](http://stat.ethz.ch/R-manual/R-devel/library/base/html/MathFun.html).\n",
      "\n",
      "\n",
      "* Pick out the values in $x$ which are > 600"
     ]
    },
    {
     "cell_type": "code",
     "collapsed": false,
     "input": [
      "%%R\n",
      "\n",
      "result = x[ x > 600]\n",
      "\n",
      "print(result)"
     ],
     "language": "python",
     "metadata": {},
     "outputs": [
      {
       "metadata": {},
       "output_type": "display_data",
       "text": [
        "  [1] 818 731 824 777 930 761 741 635 969 885 839 898 837 866 851 873 668 929\n",
        " [19] 758 911 651 702 823 896 990 752 656 840 772 767 756 993 974 618 692 965\n",
        " [37] 736 621 883 993 698 799 716 741 754 967 757 691 837 717 926 821 611 796\n",
        " [55] 781 868 975 730 943 698 862 970 928 824 904 643 844 855 891 767 967 744\n",
        " [73] 666 856 664 810 629 953 996 631 769 705 745 666 787 637 780 778 705 727\n",
        " [91] 843 959 760 783 784 734 902 610 701 804 770 883 840 767 997 639 767 780\n",
        "[109] 666 841 718 806 900 975 658 761\n"
       ]
      }
     ],
     "prompt_number": 66
    },
    {
     "cell_type": "markdown",
     "metadata": {},
     "source": [
      "* What are the index positions in $y$ of the values which are > 600?"
     ]
    },
    {
     "cell_type": "code",
     "collapsed": false,
     "input": [
      "%%R\n",
      "\n",
      "ind = which(y > 600)\n",
      "\n",
      "print(ind)"
     ],
     "language": "python",
     "metadata": {},
     "outputs": [
      {
       "metadata": {},
       "output_type": "display_data",
       "text": [
        " [1]   5   6   7   9  12  13  21  26  27  29  31  34  35  37  38  42  43  48  49\n",
        "[20]  55  58  64  65  67  70  72  78  85  86  88  91  94  96  97  98  99 101 103\n",
        "[39] 104 113 116 120 121 125 129 130 141 142 144 145 151 154 155 159 166 167 168\n",
        "[58] 169 170 172 175 177 181 183 188 192 193 195 198 199 203 204 205 207 210 211\n",
        "[77] 212 214 217 219 223 226 232 235 237 240 241 244 245 249 250\n"
       ]
      }
     ],
     "prompt_number": 70
    },
    {
     "cell_type": "markdown",
     "metadata": {},
     "source": [
      "* What are the values in $x$ which correspond to the values in $y$ which are > 600? (By correspond, we mean at the same index positions.)"
     ]
    },
    {
     "cell_type": "code",
     "collapsed": false,
     "input": [
      "%%R\n",
      "\n",
      "corr = x[which(y > 600)]\n",
      "\n",
      "print(corr)"
     ],
     "language": "python",
     "metadata": {},
     "outputs": [
      {
       "metadata": {},
       "output_type": "display_data",
       "text": [
        " [1] 818 731 468 208 198 349 969 839 236 837 586 873 668 929 135 434 911 350 702\n",
        "[20] 271 196  43  68 772 756 574 692 698 799 716 354 508 967 114 165 757 347 691\n",
        "[39] 837 302 530 458 524 730 862  82 824 418 505 533 767 445 364 856 525 996 631\n",
        "[58] 294 452 769 190 666 160 778 727 959 760 783 305 902 804 770 268 883 997 320\n",
        "[77]   7 767  27 236 199 841 258 534  58 150 975 222 207 594 761\n"
       ]
      }
     ],
     "prompt_number": 95
    },
    {
     "cell_type": "markdown",
     "metadata": {},
     "source": [
      "* Create the vector $\\left(|x_1 - \\bar{x}|^{\\frac12}, |x_2 - \\bar{x}|^{\\frac12}, \\dots, |x_3 - \\bar{x}|^{\\frac12}\\right)$, where $\\bar{x}$ denotes the mean of the vector $x=(x_1,\\dots, x_n)$."
     ]
    },
    {
     "cell_type": "code",
     "collapsed": false,
     "input": [
      "%%R\n",
      "\n",
      "avg = mean(x)\n",
      "\n",
      "result = abs(x - avg)^(0.5)\n",
      "\n",
      "print(result)"
     ],
     "language": "python",
     "metadata": {},
     "outputs": [
      {
       "metadata": {},
       "output_type": "display_data",
       "text": [
        "  [1]  7.561746 13.681374 22.297533 11.365738 16.787495 13.957794  8.257118\n",
        "  [8] 16.965259 18.115739 15.518376 14.324106 18.389671 13.681374 19.844899\n",
        " [15] 14.993999 13.006921 14.311534 18.362462 22.520657  9.940825 20.804326\n",
        " [22] 12.813274 20.400490 22.982167 18.676723 17.401724 17.325703 19.021567\n",
        " [29] 17.344163 18.160947  7.058328 19.979489 17.743168 18.352656 11.481289\n",
        " [36] 17.555056 19.819687 20.029478  7.223573 12.336126 14.893623 10.108412\n",
        " [43] 19.360269 11.409645 20.104228 10.715409 20.498293 13.644779 12.877111\n",
        " [50] 16.935761 18.899206 18.968922 22.807455 20.351413 16.284348 21.303051\n",
        " [57] 14.690813 18.443969  8.841945 21.381768 10.946232  7.404053 15.690124\n",
        " [64] 22.207656 21.637468 17.430433 15.356432 15.192761  9.120307 14.826328\n",
        " [71] 19.702284  6.149797 21.373348  9.337023 20.924149  1.086278  9.045441\n",
        " [78] 12.482788 20.707969  8.135109 14.135770  9.209777 18.623104 21.373348\n",
        " [85] 12.720849 16.211724 14.669015 13.409698 10.255730 14.311534 13.497407\n",
        " [92] 14.758726 12.376591  5.308484 13.898921 20.756204 20.547019 19.266032\n",
        " [99] 14.860013 17.893574 13.754272  5.846366 12.442669 17.344163 13.446933\n",
        "[106] 14.148498 21.075578 19.743860 10.206860 18.307922 11.583609 16.876611\n",
        "[113] 15.302941  8.649855 16.118933  2.485961 14.077642 15.646725 10.638609\n",
        "[120]  8.841945  3.489986 18.215927 20.252901 20.948031 13.921925 20.169779\n",
        "[127] 19.523832 12.720849 18.050485 21.311499 17.034671  8.898314  7.267737\n",
        "[134] 20.828346 15.626260  7.404053 19.794444  7.669420 13.423114 10.108412\n",
        "[141] 16.965259 10.871063 19.178634  5.583905  1.783255 10.335376 17.544800\n",
        "[148] 13.006921 17.855531 18.836666 15.192761 20.079343  9.908582  9.548822\n",
        "[155] 13.121738 20.756204 14.415963 11.393858 17.883512 11.305751 16.547507\n",
        "[162]  9.634314 15.880176 20.416170 17.122500  3.343651 21.443414  9.737556\n",
        "[169] 15.562134  9.174966 17.034671 15.258440 12.993075 14.450606 18.605913\n",
        "[176] 20.153908 11.393858 15.837298 10.040916 15.614737 19.395360 10.058827\n",
        "[183] 15.550563 18.579020 21.122973 12.993075 11.188387 13.813761 18.032748\n",
        "[190] 16.437153 17.516278 20.562587 14.960615 21.660563 15.710506 15.742300\n",
        "[197] 14.064850 15.204605 19.126422 11.098649  8.591857 12.838224 16.365207\n",
        "[204] 15.291174 16.376202 16.376202 18.623104 17.430433 15.192761 21.466718\n",
        "[211] 14.703061 23.003913 10.140020 15.192761 15.614737 12.254795 22.565017\n",
        "[218] 11.393858 17.325703 23.069027 21.004285 16.191973 18.362462 11.409645\n",
        "[225]  7.495332 17.459095  8.554531 13.826786 13.484065 14.077642 22.851258\n",
        "[232] 16.678729 16.426199 11.712387  1.476482  6.795587 21.867327 19.074066\n",
        "[239] 15.237454 19.651463 20.948031  1.783255 11.037210 17.725123 18.143318\n",
        "[246] 19.727646  9.496315  4.981967  7.603946 14.993999\n"
       ]
      }
     ],
     "prompt_number": 98
    },
    {
     "cell_type": "markdown",
     "metadata": {},
     "source": [
      "* How many values in $y$ are within 200 of the maximum value of the terms in $y$?"
     ]
    },
    {
     "cell_type": "code",
     "collapsed": false,
     "input": [
      "%%R\n",
      "\n",
      "y_max = max(y)\n",
      "\n",
      "result = sum(abs(y - y_max) < 200)\n",
      "\n",
      "print(result)"
     ],
     "language": "python",
     "metadata": {},
     "outputs": [
      {
       "metadata": {},
       "output_type": "display_data",
       "text": [
        "[1] 58\n"
       ]
      }
     ],
     "prompt_number": 108
    },
    {
     "cell_type": "markdown",
     "metadata": {},
     "source": [
      "* How many numbers in $x$ are divisible by 2? (Note that the modulo operator is denoted <code>%%</code>.)"
     ]
    },
    {
     "cell_type": "code",
     "collapsed": false,
     "input": [
      "%%R\n",
      "\n",
      "result = sum( x %% 2 == 0)\n",
      "\n",
      "print(result)\n"
     ],
     "language": "python",
     "metadata": {},
     "outputs": [
      {
       "metadata": {},
       "output_type": "display_data",
       "text": [
        "[1] 133\n"
       ]
      }
     ],
     "prompt_number": 107
    },
    {
     "cell_type": "markdown",
     "metadata": {},
     "source": [
      "* Sort the numbers in the vector $x$ in the order of increasing values in $y$."
     ]
    },
    {
     "cell_type": "markdown",
     "metadata": {},
     "source": [
      "**Solution:** The function <code>order(x)</code> returns an integer vector of the same length as <code>x</code> with the positions of the elments of <code>x</code> sorted in ascenting order."
     ]
    },
    {
     "cell_type": "code",
     "collapsed": false,
     "input": [
      "%%R\n",
      "\n",
      "result = x[order(y)]\n",
      "\n",
      "print(result)"
     ],
     "language": "python",
     "metadata": {},
     "outputs": [
      {
       "metadata": {},
       "output_type": "display_data",
       "text": [
        "  [1] 199 787 666 780 266 435 304 698 736 851 284 591 386 126  92 116 130 666\n",
        " [19]  29 974 868 589 484 228 898 993 840 216 781 345 745 840 883 664 211  67\n",
        " [37] 717 406 479 133   4 810 741  90 610 406 821 132 975  16 637 885 990 943\n",
        " [55] 754 480 806 372 434 953 611 752 758 855 904 701 201 243 796 891 618 965\n",
        " [73] 741 970 705 423 533 767 338 777 246 866 844 767 147 457 896 561 784 137\n",
        " [91] 432 651 384 928 823 407 122 411 656 658 463 718 595 120  95 402 438 274\n",
        "[109] 331 268 367 413 705 780 591 246 490 967 470 643 446  39 993 336 179 629\n",
        "[127] 367 734 290 338 431 502 453 824 349 148 639 930  79 399 191 900 383 535\n",
        "[145] 321 621  14 155 926 356 292 843 449 343 744 458 635   8 761 783 997 574\n",
        "[163]   7 975 302 666 347 757 969 873 841 818 199 320 434 702 716 222 837 114\n",
        "[181] 458 856 691 692 902 778 190 258 824 862 767 468 505 996 196 804 508 929\n",
        "[199] 271 533 668 731 349  27 525 530 772 305  43 727 911 760 837 839 524 236\n",
        "[217] 631 770 883 534 959 160  68  82  58 445 150 165 207 769 594 767 756 208\n",
        "[235] 799 452 268 135 294 418 198 761 354 586 364 350 967 698 730 236\n"
       ]
      }
     ],
     "prompt_number": 112
    },
    {
     "cell_type": "markdown",
     "metadata": {},
     "source": [
      "* Pick out the elements in $y$ at index positions $1, 4, 7, 10, 13, \\dots$ "
     ]
    },
    {
     "cell_type": "code",
     "collapsed": false,
     "input": [
      "%%R\n",
      "\n",
      "ind = seq(from=1, to=250, by=3)\n",
      "result = y[ind]\n",
      "\n",
      "print(result)\n"
     ],
     "language": "python",
     "metadata": {},
     "outputs": [
      {
       "metadata": {},
       "output_type": "display_data",
       "text": [
        " [1] 134 377 789 326 837 463  82 213 196 106 982 667 813 367 857 365 690 349 825\n",
        "[20] 805 386 848 847 939 460 527 289 533 992 692 980 808 709 114 739 460 363 163\n",
        "[39] 282 114 876 174 545 900  96 441 550 976 826 422 937 905 571 125  68 844 968\n",
        "[58] 930 771  14 899 520 380  28 863 354 753 267 959 112 684 787 840 146 671 667\n",
        "[77] 394 775 896 521 615 703 453 979\n"
       ]
      }
     ],
     "prompt_number": 118
    },
    {
     "cell_type": "markdown",
     "metadata": {},
     "source": [
      "**Exercise 8**\n",
      "\n",
      "* By using the function [cumprod](http://stat.ethz.ch/R-manual/R-devel/library/base/html/cumsum.html) or otherwise, calculate\n",
      "\n",
      "$$1 + \\frac23 + \\left(\\frac23\\frac45\\right) + \\left(\\frac23\\frac45\\frac67\\right) + \\left(\\frac23\\frac45\\frac67\\dots\\frac{38}{39}\\right) $$"
     ]
    },
    {
     "cell_type": "code",
     "collapsed": false,
     "input": [
      "%%R\n",
      "\n",
      "top = seq(from=2, to=38, by=2)\n",
      "bottom = seq(from=3,to=39, by=2)\n",
      "\n",
      "new = cumprod((top/bottom))\n",
      "result = 1 + sum(new)\n",
      "\n",
      "print(result)\n"
     ],
     "language": "python",
     "metadata": {},
     "outputs": [
      {
       "metadata": {},
       "output_type": "display_data",
       "text": [
        "[1] 5.976346\n",
        "[1] 6.976346\n"
       ]
      }
     ],
     "prompt_number": 125
    },
    {
     "cell_type": "code",
     "collapsed": false,
     "input": [],
     "language": "python",
     "metadata": {},
     "outputs": []
    }
   ],
   "metadata": {}
  }
 ]
}