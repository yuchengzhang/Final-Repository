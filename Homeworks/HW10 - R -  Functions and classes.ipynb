{
 "metadata": {
  "name": ""
 },
 "nbformat": 3,
 "nbformat_minor": 0,
 "worksheets": [
  {
   "cells": [
    {
     "cell_type": "heading",
     "level": 1,
     "metadata": {},
     "source": [
      "Homework 10 - R - Functions and classes"
     ]
    },
    {
     "cell_type": "code",
     "collapsed": false,
     "input": [
      "%load_ext rmagic"
     ],
     "language": "python",
     "metadata": {
      "slideshow": {
       "slide_type": "fragment"
      }
     },
     "outputs": [],
     "prompt_number": 1
    },
    {
     "cell_type": "markdown",
     "metadata": {},
     "source": [
      "**Exercise 1**\n",
      "\n",
      "Write three functions with names <code>tmpFn1(x)</code>, <code>tmpFn2(x)</code>, and <code>tmpFn3(x,n)</code> such that if $x$ is the vector $x=(x_1,\\dots, x_n)$, then \n",
      "\n",
      "* <code>tmpFn1(x)</code> returns the vector $(x_1, x_2^2, \\dots, x_n^n)$\n"
     ]
    },
    {
     "cell_type": "code",
     "collapsed": false,
     "input": [
      "%%R \n",
      "\n",
      "x = rep(2, 10)\n",
      "\n",
      "tmpFn1 = function(x){ \n",
      "                  n = length(x)\n",
      "                  powers = 1:n\n",
      "                  return(x^powers)\n",
      "                    }\n",
      "\n",
      "print(tmpFn1(x))"
     ],
     "language": "python",
     "metadata": {},
     "outputs": [
      {
       "metadata": {},
       "output_type": "display_data",
       "text": [
        " [1]    2    4    8   16   32   64  128  256  512 1024\n"
       ]
      }
     ],
     "prompt_number": 5
    },
    {
     "cell_type": "markdown",
     "metadata": {},
     "source": [
      "* <code>tmpFn2(x)</code> returns the vector $\\left(x_1, \\frac{x_2^2}2, \\dots, \\frac{x_n^n}n\\right)$"
     ]
    },
    {
     "cell_type": "code",
     "collapsed": false,
     "input": [
      "%%R\n",
      "\n",
      "tmpFn2 = function(x){\n",
      "                     n = length(x)\n",
      "                     powers = 1:n\n",
      "                     return((x^powers)/powers)}\n",
      "\n",
      "print(tmpFn2(x))\n"
     ],
     "language": "python",
     "metadata": {},
     "outputs": [
      {
       "metadata": {},
       "output_type": "display_data",
       "text": [
        " [1]   2.000000   2.000000   2.666667   4.000000   6.400000  10.666667\n",
        " [7]  18.285714  32.000000  56.888889 102.400000\n"
       ]
      }
     ],
     "prompt_number": 6
    },
    {
     "cell_type": "markdown",
     "metadata": {},
     "source": [
      "Now suppose that $x$ is a single number and $n$ is a positive integer. Write a function <code>tmpFn2(x, n)</code> with two arguments such that"
     ]
    },
    {
     "cell_type": "markdown",
     "metadata": {},
     "source": [
      "* <code>tmpFn3(x, n)</code> returns the value $1+\\frac x1 + \\frac{x^2}2 + \\dots + \\frac{x^n}n$"
     ]
    },
    {
     "cell_type": "code",
     "collapsed": false,
     "input": [
      "%%R\n",
      "\n",
      "tmpFn3 = function(x, n){\n",
      "                        pow = 1:n\n",
      "                        result = sum( (x^pow)/pow )\n",
      "                        return(result+1)}\n",
      "\n",
      "\n",
      "print(tmpFn3(2,4))\n"
     ],
     "language": "python",
     "metadata": {},
     "outputs": [
      {
       "metadata": {},
       "output_type": "display_data",
       "text": [
        "[1] 11.66667\n"
       ]
      }
     ],
     "prompt_number": 29
    },
    {
     "cell_type": "markdown",
     "metadata": {},
     "source": [
      "**Exercise 2**\n",
      "\n",
      "Write a function <code>tmpFn(x)</code> such that if $x$ is the vector $x=(x_1,\\dots, x_n)$ then <code>tmpFn(x)</code> returns the vector of **moving averages**:\n",
      "\n",
      "$$\\left(\\frac{x_1+x_2+x_3}3,\\,\\frac{x_2+x_3+x_4}3,\\dots,\\,\\frac{x_{n-2}+x_{n-1}+x_n}3\\right)$$"
     ]
    },
    {
     "cell_type": "markdown",
     "metadata": {},
     "source": [
      "**Solution:** A simple solution can be achieved by regarding the vector above as the sum of three vectors\n",
      "\n",
      "$$(x_1,\\dots, x_{n-2}) + (x_2,\\dots, x_{n-1}) + (x_3,\\dots, x_n)$$\n",
      "\n",
      "multiplied by a factor $1/3$."
     ]
    },
    {
     "cell_type": "code",
     "collapsed": false,
     "input": [
      "%%R\n",
      "\n",
      "tmpFn = function(x){\n",
      "                    n = length(x)\n",
      "                    x1 = x[1:(n-2)]\n",
      "                    x2 = x[2:(n-1)]\n",
      "                    x3 = x[3:n]\n",
      "                    return((x1 + x2 + x3)/3)}\n",
      "\n",
      "print(tmpFn(rnorm(10)))"
     ],
     "language": "python",
     "metadata": {},
     "outputs": [
      {
       "metadata": {},
       "output_type": "display_data",
       "text": [
        "[1]  0.4377026  0.5788969  0.9637707  0.3453365 -0.1283113 -0.2803011 -0.5960097\n",
        "[8] -0.6631391\n"
       ]
      }
     ],
     "prompt_number": 30
    },
    {
     "cell_type": "markdown",
     "metadata": {},
     "source": [
      "**Exercise 3**\n",
      "\n",
      "Consider the function\n",
      "\n",
      "$$\n",
      "\\begin{eqnarray}\n",
      "f(x) & = & \\left\\{\n",
      "\\begin{array}\n",
      "ax^2 + 2x + 3 & \\textrm{if}\\quad x < 0\\\\\n",
      "x +3  & \\textrm{if}\\quad 0\\leq x < 2\\\\\n",
      "x^2 + 4x -7 & \\textrm{if}\\quad 2\\leq x\n",
      "\\end{array}\n",
      "\\right.\n",
      "\\end{eqnarray}\n",
      "$$\n",
      "\n",
      "* Write a function <code>tmpFn</code> which takes a numeric vector <code>xVal</code> as input, and returns a vector containing the values of the function $f$ above evaluated at the numbers $x$ contained in the vector <code>xVal</code>."
     ]
    },
    {
     "cell_type": "code",
     "collapsed": false,
     "input": [
      "%%R\n",
      "\n",
      "tmpFn = function(x){\n",
      "                    less = x < 0\n",
      "                    betweens = (x >= 0) & (x < 2)\n",
      "                    greater = x >= 2\n",
      "                                             \n",
      "                    x[less] = (x[less]^2) + (2*x[less]) + 3\n",
      "                    x[betweens] = x[betweens] + 3\n",
      "                    x[greater] = (x[greater]^2) + (4*x[greater]) - 7\n",
      "                    return(x)}\n",
      "\n",
      "tmpFn2 = function(x){ifelse(x < 0, x^2 + 2*x + 3, ifelse(x >= 2, x^2 + 4*x - 7, x + 3))}\n",
      "\n",
      "x = rnorm(20, mean=0, sd=10)\n",
      "print(tmpFn(x))\n",
      "print(tmpFn2(x))\n",
      "\n"
     ],
     "language": "python",
     "metadata": {},
     "outputs": [
      {
       "metadata": {},
       "output_type": "display_data",
       "text": [
        " [1]   2.621800   3.399085 284.481344   3.692062   3.765571   2.061099\n",
        " [7] 228.888787  20.750575   6.921376  93.699738   4.081805  36.157889\n",
        "[13] 339.240653 230.338577  92.093393 113.626059  65.071017 182.763056\n",
        "[19]  10.958568 164.626073\n",
        " [1]   2.621800   3.399085 284.481344   3.692062   3.765571   2.061099\n",
        " [7] 228.888787  20.750575   6.921376  93.699738   4.081805  36.157889\n",
        "[13] 339.240653 230.338577  92.093393 113.626059  65.071017 182.763056\n",
        "[19]  10.958568 164.626073\n"
       ]
      }
     ],
     "prompt_number": 40
    },
    {
     "cell_type": "markdown",
     "metadata": {},
     "source": [
      "**Exercise 4**\n",
      "\n",
      "Suppose an angle $\\theta$ is given as a positive real number of degrees. We can associate a quadrant number to angle values in the following way:\n",
      "\n",
      "* if $0\\leq \\theta < 90$ then $\\theta$ is in **quadrant 1**\n",
      "* if $90\\leq \\theta < 180$ then $\\theta$ is in **quadrant 2**\n",
      "* if $180\\leq \\theta < 270$ then $\\theta$ is in **quadrant 3**\n",
      "* if $270\\leq \\theta < 360$ then $\\theta$ is in **quadrant 4**\n",
      "\n",
      "Write a function <code>quadrant(theta)</code> which returns the quadrant of the angle $\\theta$.\n"
     ]
    },
    {
     "cell_type": "code",
     "collapsed": false,
     "input": [
      "%%R\n",
      "\n",
      "quadrant = function(theta){\n",
      "                          quad = ((theta %% 360) %/% 90) + 1\n",
      "                          return(sprintf(\"quadrant %d\", quad))}\n",
      "\n",
      "print(quadrant(380))"
     ],
     "language": "python",
     "metadata": {},
     "outputs": [
      {
       "metadata": {},
       "output_type": "display_data",
       "text": [
        "[1] \"quadrant 1\"\n"
       ]
      }
     ],
     "prompt_number": 53
    },
    {
     "cell_type": "markdown",
     "metadata": {},
     "source": [
      "**Exercise 5**"
     ]
    },
    {
     "cell_type": "markdown",
     "metadata": {},
     "source": [
      "**Zeller\u2019s congruence** is the formula:\n",
      "\n",
      "$$f(d,y,c,m) =([2.6m - 0.2] + d + y + [y/4] + [c/4] - 2c)\\mod 7 $$\n",
      "\n",
      "where $[x]$ denotes the integer part of $x$; for example $[7.5] = 7$.\n",
      "\n",
      "Zeller\u2019s congruence returns the **day of the week** $f(d, y, c, m)$ given:\n",
      "\n",
      "* $d$ = the day of the month,\n",
      "* $y$ = the year in the century\n",
      "* $c$ = the \ufb01rst 2 digits of the year (the century number)\n",
      "* $m$ = the month number (**where January is month 11 of the preceding year, February is month 12 of the preceding year, March is month 1**, etc.)\n",
      "\n",
      "\n",
      "For example, the date \n",
      "\n",
      "* 7/21/1963 has $m = 5$, $d = 21$, $c = 19$, $y = 63$\n",
      "\n",
      "* 2/21/1963 has $m = 12$, $d = 21$, $c = 19$, and $y = 62$.\n",
      "\n",
      "\n",
      "* Write a function <code>weekday(day,month,year)</code> which returns the day of the week when given the numerical inputs of the day, month and year.\n",
      "\n",
      "\n",
      "Note that the value of 1 for $f$ denotes Sunday, 2 denotes Monday, etc."
     ]
    },
    {
     "cell_type": "code",
     "collapsed": false,
     "input": [
      "%%R\n",
      "\n",
      "weekday = function(day, month, year){\n",
      "                   d = day\n",
      "                   y = year %% 100\n",
      "                   c = year %/% 100\n",
      "                   if(month == 1){\n",
      "                      m = 11}\n",
      "                   else if(month == 2){\n",
      "                      m = 12}\n",
      "                   else{\n",
      "                      m = month - 2}\n",
      "                       \n",
      "                   day_func = (floor(2.6*m - 0.2) + d + y + floor(y/4) + floor(c/4) - (2*c)) %% 7\n",
      "                   day = c('Sunday', 'Monday', 'Tuesday', 'Wednesday', 'Thursday', 'Friday', 'Saturday')\n",
      "                    \n",
      "                   return(day[day_func + 1])}\n",
      "\n",
      "print(weekday(16, 4, 2014))\n",
      "    "
     ],
     "language": "python",
     "metadata": {},
     "outputs": [
      {
       "metadata": {},
       "output_type": "display_data",
       "text": [
        "[1] \"Wednesday\"\n"
       ]
      }
     ],
     "prompt_number": 58
    },
    {
     "cell_type": "markdown",
     "metadata": {},
     "source": [
      "* Does your function work if the input parameters day, month and year are vectors with the same length and with valid entries?"
     ]
    },
    {
     "cell_type": "markdown",
     "metadata": {},
     "source": [
      "**Solution:** Yes, since the operations used in the body of <code>weekday</code> are vectorized. See below:"
     ]
    },
    {
     "cell_type": "code",
     "collapsed": false,
     "input": [
      "%%R\n",
      "\n",
      "days   = 8:19\n",
      "months = rep(12, length(days))\n",
      "years  = rep(2013,length(days))\n",
      "\n",
      "print(weekday(days, months, years))\n"
     ],
     "language": "python",
     "metadata": {},
     "outputs": [
      {
       "metadata": {},
       "output_type": "display_data",
       "text": [
        " [1] \"Sunday\"    \"Monday\"    \"Tuesday\"   \"Wednesday\" \"Thursday\"  \"Friday\"   \n",
        " [7] \"Saturday\"  \"Sunday\"    \"Monday\"    \"Tuesday\"   \"Wednesday\" \"Thursday\" \n"
       ]
      }
     ],
     "prompt_number": 59
    },
    {
     "cell_type": "markdown",
     "metadata": {},
     "source": [
      "**Exercise 6**\n",
      "\n",
      "Write a class called <code>employee</code> that has the following attributes\n",
      "\n",
      "* <code>name</code> = employee's name\n",
      "* <code>nhours</code> = number of hours worked per day\n",
      "* <code>ndays</code> = number of days worked per month\n",
      "* <code>hourlywage</code> = the amount of money earned in one hour of work\n",
      "\n",
      "You should write:\n",
      "\n",
      "* the **class contructor** that creates the class instances\n",
      "\n",
      "* a **method** <code>print.employee</code> that displays the employee information nicely formated in a data table (use the function <code>sprintf</code> for that).\n",
      "\n",
      "* a **method** <code>earnings.employee</code> that computes the employee monthly salary\n",
      "\n",
      "* a **generic function** <code>earnings</code> corresponding to the previous method"
     ]
    },
    {
     "cell_type": "code",
     "collapsed": false,
     "input": [
      "%%R\n",
      "\n",
      "employee = function(name='', nhours=0, ndays=0, hourlywage=0){\n",
      "                        employee_object = list(name=name, nhours=nhours, ndays=ndays, hourlywage=hourlywage)\n",
      "                        class(employee_object) = \"employee\"\n",
      "                        return(employee_object)}\n",
      "\n",
      "Bob = employee(name='Bob', nhours=10, ndays=8, hourlywage=20)\n",
      "\n",
      "earnings.employee = function(object){return(object$nhours * object$ndays * object$hourlywage)}\n",
      "earnings = function(object){UseMethod('earnings', object)}\n",
      "\n",
      "print(earnings(Bob))\n",
      "\n",
      "tabletop.employee = function(object){\n",
      "               format = '%-10s\\t%-10s\\t%-10s\\t%s'\n",
      "               output = sprintf(format, \"Name\", \"Hours\", \"Days\", \"Wage\")\n",
      "               cat(output, '\\n')}\n",
      "\n",
      "tabledata.employee = function(object){\n",
      "               format = '%-10s\\t%-10d\\t%-10d\\t%d'\n",
      "               output = sprintf(format, object$name, object$nhours, object$ndays, object$hourlywage)\n",
      "               cat(output, '\\n')}\n",
      "\n",
      "print.employee = function(object){\n",
      "                        tabletop.employee(object)\n",
      "                        tabledata.employee(object)}\n",
      "\n",
      "print(Bob)\n",
      "                                 "
     ],
     "language": "python",
     "metadata": {},
     "outputs": [
      {
       "metadata": {},
       "output_type": "display_data",
       "text": [
        "[1] 1600\n",
        "Name      \tHours     \tDays      \tWage \n",
        "Bob       \t10        \t8         \t20 \n"
       ]
      }
     ],
     "prompt_number": 106
    },
    {
     "cell_type": "markdown",
     "metadata": {},
     "source": [
      "**Exercise 7**\n",
      "\n",
      "Write a class <code>company</code> that has the following attribues:\n",
      "\n",
      "* <code>name</code> = company name\n",
      "* <code>roster</code> = a list of the company's employees\n",
      "* <code>benefits</code> = the total amount of money that the company earned\n",
      "\n",
      "* Write the **class constructor** allowing you to create an object in the following way, given that the variable <code>employees</code> contains a **list** of employees:\n",
      "\n",
      "    CISCO = company(name='CISCO', roster=employees, benefits=500000)\n",
      "    "
     ]
    },
    {
     "cell_type": "code",
     "collapsed": false,
     "input": [
      "%%R\n",
      "\n",
      "company = function(name, roster, benefits){\n",
      "                   company_object = list(name=name, roster=employees, benefits=as.numeric(benefits))\n",
      "                   class(company_object) = \"Company\"\n",
      "                  \n",
      "                   return(company_object)}\n",
      "\n",
      "employees = list(employee(name='Bob', nhours=10, ndays=8, hourlywage=10),\n",
      "                 employee(name='Bill', nhours=12, ndays=6, hourlywage=15),\n",
      "                 employee(name='Bubba', nhours=8, ndays=5, hourlywage=30),\n",
      "                 employee(name='Beau', nhours=9, ndays=7, hourlywage=23))\n",
      "\n",
      "CISCO = company(name='CISCO', roster=employees, benefits=500000)"
     ],
     "language": "python",
     "metadata": {},
     "outputs": [],
     "prompt_number": 120
    },
    {
     "cell_type": "markdown",
     "metadata": {},
     "source": [
      "* Write a class method <code>print.company</code> that displays nicely the employee roster in the form of a data table: the rows should be indexed by the employee names, while the column names should be the employee attribute names. Then invoke the generic method <code>print</code> on the object <code>CISCO</code> you have constructed above:"
     ]
    },
    {
     "cell_type": "code",
     "collapsed": false,
     "input": [
      "%%R\n",
      "\n",
      "print.Company = function(object){\n",
      "                         tabletop.employee(employee())\n",
      "                         lapply(object$roster, tabledata.employee)\n",
      "                         }\n",
      "                        \n",
      "                         \n",
      "print(CISCO)"
     ],
     "language": "python",
     "metadata": {},
     "outputs": [
      {
       "metadata": {},
       "output_type": "display_data",
       "text": [
        "Name      \tHours     \tDays      \tWage \n",
        "Bob       \t10        \t8         \t10 \n",
        "Bill      \t12        \t6         \t15 \n",
        "Bubba     \t8         \t5         \t30 \n",
        "Beau      \t9         \t7         \t23 \n"
       ]
      }
     ],
     "prompt_number": 119
    },
    {
     "cell_type": "markdown",
     "metadata": {},
     "source": [
      "* Write a class method <code>earnings.company</code> that returns the company profit: i.e.,\n",
      "\n",
      "profits = company benefits - amount paid to all the employees in a year"
     ]
    },
    {
     "cell_type": "code",
     "collapsed": false,
     "input": [
      "%%R\n",
      "\n",
      "earnings.Company = function(object){\n",
      "                            liability = function(object){return(earnings(object))}\n",
      "                            owed = sum(unlist(lapply(object$roster, liability)))\n",
      "                            return(object$benefits - owed)}\n"
     ],
     "language": "python",
     "metadata": {},
     "outputs": [],
     "prompt_number": 125
    },
    {
     "cell_type": "markdown",
     "metadata": {},
     "source": [
      "* Invoke the generic function <code>earnings</code> that you wrote in the previous exercise on the object <code>CISCO</code>:"
     ]
    },
    {
     "cell_type": "code",
     "collapsed": false,
     "input": [
      "%%R\n",
      "\n",
      "print(earnings(CISCO))"
     ],
     "language": "python",
     "metadata": {},
     "outputs": [
      {
       "metadata": {},
       "output_type": "display_data",
       "text": [
        "[1] 495471\n"
       ]
      }
     ],
     "prompt_number": 126
    },
    {
     "cell_type": "markdown",
     "metadata": {},
     "source": [
      "**Exercise 8**\n",
      "\n",
      "* Write a class of your own choosing. Try to make it so nice and useful, that you want to brag about it all the time and to everybody!\n"
     ]
    },
    {
     "cell_type": "code",
     "collapsed": false,
     "input": [
      "%%R\n",
      "\n",
      "shape = function(type='', length=0, width=0, radius=0, height=0){\n",
      "                      if(length==width){type = \"Square\"}\n",
      "    \n",
      "                      object = list(type=type, length=length, width=width, radius=radius, height=height)\n",
      "                      class(object) = \"shape\"\n",
      "    \n",
      "                      return(object)}\n",
      "\n",
      "shapes = list(shape(type=\"Square\", length=4),\n",
      "              shape(type=\"Circle\", radius=1),\n",
      "              shape(type=\"Triangle\", width=6, height=6),\n",
      "              shape(type=\"Rectangle\", length=5, width=7))"
     ],
     "language": "python",
     "metadata": {},
     "outputs": [],
     "prompt_number": 173
    },
    {
     "cell_type": "code",
     "collapsed": false,
     "input": [
      "%%R\n",
      "\n",
      "print.shape = function(object){\n",
      "                       type = object$type\n",
      "                       if(type==\"Circle\"){\n",
      "                           data = sprintf(\"This is a %s with radius %f.\", object$type, object$radius)\n",
      "                           return(cat(data, '\\n'))}\n",
      "    \n",
      "                       else if(type==\"Square\"){\n",
      "                           data = sprintf(\"This is a %s with sides of length %f.\", object$type, object$length)\n",
      "                           return(cat(data, '\\n'))}\n",
      "                           \n",
      "                       else if(type==\"Triangle\"){\n",
      "                           data = sprintf(\"This is a %s with width %f and height %f.\", object$type, object$width, object$height)\n",
      "                           return(cat(data, '\\n'))}\n",
      "                           \n",
      "                       else{\n",
      "                           data = sprintf(\"This is a %s with width %f and length %f.\", object$type, object$length, object$width)\n",
      "                           return(cat(data, '\\n'))}\n",
      "                           }\n",
      "                           \n",
      "\n",
      "lapply(shapes, print)"
     ],
     "language": "python",
     "metadata": {},
     "outputs": [
      {
       "metadata": {},
       "output_type": "display_data",
       "text": [
        "This is a Square with sides of length 4.000000. \n",
        "This is a Circle with radius 1.000000. \n",
        "This is a Triangle with width 6.000000 and height 6.000000. \n",
        "This is a Rectangle with width 5.000000 and length 7.000000. \n"
       ]
      }
     ],
     "prompt_number": 155
    },
    {
     "cell_type": "code",
     "collapsed": false,
     "input": [
      "%%R\n",
      "\n",
      "area.shape = function(object){\n",
      "                      type = object$type\n",
      "    \n",
      "                      if(type==\"Circle\"){\n",
      "                          return((object$radius^2) * pi)}\n",
      "    \n",
      "                      else if(type==\"Square\"){\n",
      "                          return((object$length^2))}\n",
      "                          \n",
      "                      else if(type==\"Rectangle\"){\n",
      "                          return((object$length * object$width))}\n",
      "                          \n",
      "                      else{\n",
      "                          return(object$width * object$height * 0.5)}\n",
      "                      }\n",
      "                          \n",
      "area = function(object){UseMethod('area', object)}\n",
      "                          \n",
      "print(sapply(shapes, area))"
     ],
     "language": "python",
     "metadata": {},
     "outputs": [
      {
       "metadata": {},
       "output_type": "display_data",
       "text": [
        "[1] 16.000000  3.141593 18.000000 35.000000\n"
       ]
      }
     ],
     "prompt_number": 160
    },
    {
     "cell_type": "code",
     "collapsed": false,
     "input": [
      "%%R\n",
      "\n",
      "perimeter.shape = function(object){\n",
      "                      type = object$type\n",
      "    \n",
      "                      if(type==\"Circle\"){\n",
      "                          return(object$radius * 2 * pi)}\n",
      "    \n",
      "                      else if(type==\"Square\"){\n",
      "                          return(object$length * 4)}\n",
      "                          \n",
      "                      else if(type==\"Rectangle\"){\n",
      "                          return(2 * (object$length + object$width))}\n",
      "                          \n",
      "                      else{\n",
      "                          sprintf(\"Needs more information.\")}\n",
      "                      }\n",
      "                          \n",
      "perimeter = function(object){UseMethod('perimeter', object)}\n",
      "                          \n",
      "print(sapply(shapes, perimeter))"
     ],
     "language": "python",
     "metadata": {},
     "outputs": [
      {
       "metadata": {},
       "output_type": "display_data",
       "text": [
        "[1] \"16\"                      \"6.28318530717959\"       \n",
        "[3] \"Needs more information.\" \"24\"                     \n"
       ]
      }
     ],
     "prompt_number": 172
    },
    {
     "cell_type": "code",
     "collapsed": false,
     "input": [],
     "language": "python",
     "metadata": {},
     "outputs": []
    }
   ],
   "metadata": {}
  }
 ]
}