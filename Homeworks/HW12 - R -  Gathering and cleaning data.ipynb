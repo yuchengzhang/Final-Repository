{
 "metadata": {
  "name": ""
 },
 "nbformat": 3,
 "nbformat_minor": 0,
 "worksheets": [
  {
   "cells": [
    {
     "cell_type": "heading",
     "level": 1,
     "metadata": {},
     "source": [
      "Homework 12 - R - Gathering and cleaning data"
     ]
    },
    {
     "cell_type": "code",
     "collapsed": false,
     "input": [
      "%load_ext rmagic\n",
      "%R rm()"
     ],
     "language": "python",
     "metadata": {
      "slideshow": {
       "slide_type": "fragment"
      }
     },
     "outputs": [],
     "prompt_number": 2
    },
    {
     "cell_type": "heading",
     "level": 2,
     "metadata": {},
     "source": [
      "1. Cleaning up values and labels of a messy data frame"
     ]
    },
    {
     "cell_type": "markdown",
     "metadata": {},
     "source": [
      "The following cell will write a csv in your working directory with name <code>messy_data.csv</code> file.\n",
      "\n",
      "In this exercise, you'll have to clean the messy data contained in this file.\n",
      "\n",
      "Now run the next cell to write the data on your computer:"
     ]
    },
    {
     "cell_type": "code",
     "collapsed": false,
     "input": [
      "%%file messy_data.csv\n",
      "id.var1,email.var2,size.var3,sex.var4\n",
      "12 C Bob Roux,<barbu> bar@ratoo.com,1.8 m,Male\n",
      "34 F Trib Marchal,<tribal> kar.boo@birma.org,1.56 m,M\n",
      "54 D Tran Culobouille,tranicule@flight.edu,1.67 m,Female\n",
      "45 E Emilian Vertigo,emilian.truss@myhaoo.com,1.99 (m),f\n",
      "88 E Verges Arnold,verges@lawers.com <frivol>,(m) 1.44,m\n",
      "45 C Rantanplan Figueira,rantanplan@luckyluke.org,(m) 1.99,Male\n",
      "66 W  Bobby Benedict,Beny.BOBBY88@cluso.com,(m) 1.55,female"
     ],
     "language": "python",
     "metadata": {},
     "outputs": [
      {
       "output_type": "stream",
       "stream": "stdout",
       "text": [
        "Writing messy_data.csv\n"
       ]
      }
     ],
     "prompt_number": 5
    },
    {
     "cell_type": "markdown",
     "metadata": {},
     "source": [
      "Let us read this data into a data frame and display it:"
     ]
    },
    {
     "cell_type": "code",
     "collapsed": false,
     "input": [
      "%%R\n",
      "\n",
      "df = read.csv(\"messy_data.csv\", header=TRUE, stringsAsFactors=FALSE)\n",
      "print(df)"
     ],
     "language": "python",
     "metadata": {},
     "outputs": [
      {
       "metadata": {},
       "output_type": "display_data",
       "text": [
        "                   id.var1                 email.var2 size.var3 sex.var4\n",
        "1            12 C Bob Roux      <barbu> bar@ratoo.com     1.8 m     Male\n",
        "2        34 F Trib Marchal <tribal> kar.boo@birma.org    1.56 m        M\n",
        "3    54 D Tran Culobouille       tranicule@flight.edu    1.67 m   Female\n",
        "4     45 E Emilian Vertigo   emilian.truss@myhaoo.com  1.99 (m)        f\n",
        "5       88 E Verges Arnold verges@lawers.com <frivol>  (m) 1.44        m\n",
        "6 45 C Rantanplan Figueira   rantanplan@luckyluke.org  (m) 1.99     Male\n",
        "7     66 W  Bobby Benedict     Beny.BOBBY88@cluso.com  (m) 1.55   female\n"
       ]
      }
     ],
     "prompt_number": 75
    },
    {
     "cell_type": "markdown",
     "metadata": {},
     "source": [
      "There is a series of problems with the data contained in this data frame:\n",
      "\n",
      "* The **column labels** have a non-infomative part \".varx\" that we want to remove\n",
      "\n",
      "\n",
      "* The **first column** contains two sort of information: the id and the name. We'd like to split this column into two columns, each containing a part of this information\n",
      "\n",
      "\n",
      "* The **second column** contains emails plus some junk \"<...>\" that we'd like to remove\n",
      "\n",
      "\n",
      "* The **third column** have numbers together with units in various formats. We need to remove the unit information so that R can intepret the column values as numbers\n",
      "\n",
      "\n",
      "* The **last column** as the categorical variable \"sex\" but the two categories are represented with various names (e.g. \"f\", \"Female\", and \"F\" for female). We need to have only one name per category."
     ]
    },
    {
     "cell_type": "markdown",
     "metadata": {},
     "source": [
      "R offers [several function](http://stat.ethz.ch/R-manual/R-devel/library/base/html/grep.html) for **pattern matching and replacement** with **regular expressions**.\n",
      "\n",
      "The one we will use for this exercise is the analog of the <code>sed</code> command we encountered in Unix:\n",
      "\n",
      "The function\n",
      "\n",
      "    sub(pattern_to_match, replacement, x)\n",
      "that\n",
      "\n",
      "* takes **regular expressions** in first two arguments, and a **character vector** in its third argument\n",
      "* return the a **character vectors** made out of <code>x</code> where the <code>patter_to_match</code> has been replaced by <code>replacement</code> for each element in the character vector <code>x</code>\n",
      "\n",
      "**REMARK:** The function to escape a character in the pattern argument of <code>sub</code>, you'll need to use the backslash twice (i.e. <code>\\\\\\\\.</code> instead of <code>\\\\.</code> to have a **literal period** instead of the regular expression pattern meaning \"matching any character\").\n",
      "\n",
      "**ADVICE:** A simple way to use that function is to find the **regular expressions corresponding to junk information** and **replace them by the empty string**. To avoid writing out too complicated regular expression, one can **call several time <code>sub</code> with simpler patters**, each time removing a particular piece of the junk information:\n",
      "\n",
      "    clean.values = sub(junk_pattern_2, '', sub(junk_pattern_1, '', messy.values))"
     ]
    },
    {
     "cell_type": "markdown",
     "metadata": {},
     "source": [
      "**EXERCISE: Retrieve the column labels using the command <code>names(df)</code> and clean them by removing the trailing part \".varx\". Place back the cleaned labels into the data frame, using the command <code> name(df) = clean.labels</code> where the variable <code>clean.labels</code> contains the column names that you stripped out from their junk trailing part.**"
     ]
    },
    {
     "cell_type": "code",
     "collapsed": false,
     "input": [
      "%%R\n",
      "\n",
      "messy_labels = names(df)\n",
      "clean.labels = sub('\\\\.var.', '', messy_labels)\n",
      "\n",
      "names(df) = clean.labels"
     ],
     "language": "python",
     "metadata": {},
     "outputs": [],
     "prompt_number": 76
    },
    {
     "cell_type": "markdown",
     "metadata": {},
     "source": [
      "**EXERCISE: Split the first column in the data frame <code>df</code> into a column \"id\" containing the id and a column \"name\" containing the name. For instance, the first entry of \"id\" should be \"12C\" (the space between \"12\" and \"C\" should be removed) and the first entry of \"names\" should be \"Bob Roux\". Reorder the data frame columns, so that we have: id, name, email, size, sex**"
     ]
    },
    {
     "cell_type": "code",
     "collapsed": false,
     "input": [
      "%%R #construct the clean names and clean ids here\n",
      "\n",
      "id_1 = sub(' *[A-z][a-z]+ [A-z][a-z]+', '', df$id)\n",
      "id_clean = sub(' ', '', id_1)\n",
      "\n",
      "name = sub('[0-9]+', '', df$id)\n",
      "name_clean = sub(' [A-Z]{1} *', '', name)"
     ],
     "language": "python",
     "metadata": {},
     "outputs": [],
     "prompt_number": 80
    },
    {
     "cell_type": "code",
     "collapsed": false,
     "input": [
      "%%R #update the data frame here\n",
      "\n",
      "df$name = name_clean\n",
      "df$id = id_clean\n",
      "df = data.frame(df[, c('id', 'name', 'email', 'size', 'sex')])\n",
      "\n",
      "print(df)"
     ],
     "language": "python",
     "metadata": {},
     "outputs": [
      {
       "metadata": {},
       "output_type": "display_data",
       "text": [
        "   id                name                      email     size    sex\n",
        "1 12C            Bob Roux      <barbu> bar@ratoo.com    1.8 m   Male\n",
        "2 34F        Trib Marchal <tribal> kar.boo@birma.org   1.56 m      M\n",
        "3 54D    Tran Culobouille       tranicule@flight.edu   1.67 m Female\n",
        "4 45E     Emilian Vertigo   emilian.truss@myhaoo.com 1.99 (m)      f\n",
        "5 88E       Verges Arnold verges@lawers.com <frivol> (m) 1.44      m\n",
        "6 45C Rantanplan Figueira   rantanplan@luckyluke.org (m) 1.99   Male\n",
        "7 66W      Bobby Benedict     Beny.BOBBY88@cluso.com (m) 1.55 female\n"
       ]
      }
     ],
     "prompt_number": 81
    },
    {
     "cell_type": "markdown",
     "metadata": {},
     "source": [
      "**EXERCISE: Remove the \"<...>\" part and the trailing spaces from the \"email\" column.**"
     ]
    },
    {
     "cell_type": "code",
     "collapsed": false,
     "input": [
      "%%R\n",
      "\n",
      "email_clean = sub(' *<.+> *', '', df$email)\n",
      "\n",
      "df$email = email_clean\n",
      "\n",
      "print(df)"
     ],
     "language": "python",
     "metadata": {},
     "outputs": [
      {
       "metadata": {},
       "output_type": "display_data",
       "text": [
        "   id                name                    email     size    sex\n",
        "1 12C            Bob Roux            bar@ratoo.com    1.8 m   Male\n",
        "2 34F        Trib Marchal        kar.boo@birma.org   1.56 m      M\n",
        "3 54D    Tran Culobouille     tranicule@flight.edu   1.67 m Female\n",
        "4 45E     Emilian Vertigo emilian.truss@myhaoo.com 1.99 (m)      f\n",
        "5 88E       Verges Arnold        verges@lawers.com (m) 1.44      m\n",
        "6 45C Rantanplan Figueira rantanplan@luckyluke.org (m) 1.99   Male\n",
        "7 66W      Bobby Benedict   Beny.BOBBY88@cluso.com (m) 1.55 female\n"
       ]
      }
     ],
     "prompt_number": 84
    },
    {
     "cell_type": "markdown",
     "metadata": {},
     "source": [
      "**EXERCISE: Keep only the numerical information in the \"size\" column and put it back into the data frame a numeric vector using the conversion funciton <code>as.numeric(x)</code>**\n",
      "\n",
      "**Hint:** The following call\n",
      "\n",
      "    sub('(pattern1)|(pattern2)', repl, x)\n",
      "will replace **either** <code>pattern1</code> **or** <code>pattern2</code> by <code>repl</code>. Remember also that  to escape a special character with <code>sub</code> one should use the backslash twice. "
     ]
    },
    {
     "cell_type": "code",
     "collapsed": false,
     "input": [
      "%%R\n",
      "\n",
      "size_clean = sub('( *m *)|( *\\\\(m\\\\) *)', '', df$size)\n",
      "size_clean = as.numeric(size_clean)\n",
      "\n",
      "df$size = size_clean\n",
      "\n",
      "print(df)"
     ],
     "language": "python",
     "metadata": {},
     "outputs": [
      {
       "metadata": {},
       "output_type": "display_data",
       "text": [
        "   id                name                    email size    sex\n",
        "1 12C            Bob Roux            bar@ratoo.com 1.80   Male\n",
        "2 34F        Trib Marchal        kar.boo@birma.org 1.56      M\n",
        "3 54D    Tran Culobouille     tranicule@flight.edu 1.67 Female\n",
        "4 45E     Emilian Vertigo emilian.truss@myhaoo.com 1.99      f\n",
        "5 88E       Verges Arnold        verges@lawers.com 1.44      m\n",
        "6 45C Rantanplan Figueira rantanplan@luckyluke.org 1.99   Male\n",
        "7 66W      Bobby Benedict   Beny.BOBBY88@cluso.com 1.55 female\n"
       ]
      }
     ],
     "prompt_number": 90
    },
    {
     "cell_type": "markdown",
     "metadata": {},
     "source": [
      "**EXERCISE: Keep only one name by category in the column \"sex\", and place this column back into the data frame as a <code>factor</code>.**"
     ]
    },
    {
     "cell_type": "code",
     "collapsed": false,
     "input": [
      "%%R\n",
      "\n",
      "male = sub('(M$)|(m$)', 'Male', df$sex)\n",
      "sex_clean = sub('(female)|(f$)', 'Female', male)\n",
      "\n",
      "df$sex = sex_clean\n",
      "\n",
      "print(df)"
     ],
     "language": "python",
     "metadata": {},
     "outputs": [
      {
       "metadata": {},
       "output_type": "display_data",
       "text": [
        "   id                name                    email size    sex\n",
        "1 12C            Bob Roux            bar@ratoo.com 1.80   Male\n",
        "2 34F        Trib Marchal        kar.boo@birma.org 1.56   Male\n",
        "3 54D    Tran Culobouille     tranicule@flight.edu 1.67 Female\n",
        "4 45E     Emilian Vertigo emilian.truss@myhaoo.com 1.99 Female\n",
        "5 88E       Verges Arnold        verges@lawers.com 1.44   Male\n",
        "6 45C Rantanplan Figueira rantanplan@luckyluke.org 1.99   Male\n",
        "7 66W      Bobby Benedict   Beny.BOBBY88@cluso.com 1.55 Female\n"
       ]
      }
     ],
     "prompt_number": 111
    },
    {
     "cell_type": "heading",
     "level": 2,
     "metadata": {},
     "source": [
      "**2. Gathering data from HTML pages (webscrapping)**"
     ]
    },
    {
     "cell_type": "markdown",
     "metadata": {},
     "source": [
      "In this exercise, we will use regular expressions to scrap data out of the webpage located at the following url:\n",
      "\n"
     ]
    },
    {
     "cell_type": "code",
     "collapsed": false,
     "input": [
      "url = 'http://www.calbears.com/SportSelect.dbml?SPSID=749481&SPID=126525&DB_OEM_ID=30100&Q_SEASON=2011'"
     ],
     "language": "python",
     "metadata": {},
     "outputs": [],
     "prompt_number": 117
    },
    {
     "cell_type": "markdown",
     "metadata": {},
     "source": [
      "The next lines of Python code display the webpage in the notebook (don't worry about the syntax):"
     ]
    },
    {
     "cell_type": "code",
     "collapsed": false,
     "input": [
      "from IPython.display import HTML; HTML('<iframe src=' + url + ' width=700 height=350></iframe>')"
     ],
     "language": "python",
     "metadata": {},
     "outputs": [
      {
       "html": [
        "<iframe src=http://www.calbears.com/SportSelect.dbml?SPSID=749481&SPID=126525&DB_OEM_ID=30100&Q_SEASON=2011 width=700 height=350></iframe>"
       ],
       "metadata": {},
       "output_type": "pyout",
       "prompt_number": 113,
       "text": [
        "<IPython.core.display.HTML at 0x57bab90>"
       ]
      }
     ],
     "prompt_number": 113
    },
    {
     "cell_type": "markdown",
     "metadata": {},
     "source": [
      "The webpage contains a table indicating **match dates**,  **opponent teams**,  **match locations**, and  **match outcomes**. The goal of the exercise will be to extract this data from the raw HTML page and to load this tabular data into a data frame. \n",
      "\n",
      "The HTML format is very close to XML. The main difference is that the tags are not chosen at the convenience of the programmer, but are a fixed convention used to indicate to the browser how to display the information. \n",
      "\n",
      "Similarly to XML documents, HTML documents have a first line indicating that the document is an HTML document, with possibly some information on which HTML dialect is used. (The HTML standard has evolved so there are several versions of it, with slight differences, as between Python 2.7 and Python 3 for example.) Then comes the actual **document node** with an <code>html</code> tag enclosing the whole document. Then comes the **header**, enclosed by the <code>head</code> tag. The header contains **meta-data** about the document, such as the document title, the document author, etc. The header is then followed by the document **body** enclosed by the <code>body</code> tag, which contains the actual document data:\n",
      "\n",
      "    <!doctype html>\n",
      "    <html>\n",
      "       <head>\n",
      "          <title>My first HTML document</title>\n",
      "       </head>\n",
      "       <body>\n",
      "          the document body\n",
      "       </body>  \n",
      "    </html>\n",
      "\n",
      "The browser interprets the tags in the document body and displays the information correspondingly. \n",
      "\n",
      "For instance, a **table** in HTML is created using the tag <code>table</code>. A table has also a **header** part, enclosed within the <code>thead</code> tag and a **body** part, enclosed withing the <code>tbody</code> tag. In the table header, the actual column labels are created using the **table header tag** <code>th</code>. Within the table body, a row is created using the **table row tag** <code>tr</code>. A **table cell** within a table row is created using the **table data tag** <code>td</code>, enclosing the actual data in the table cell. \n",
      "\n",
      "Of course, as in XML, tags can have various attributes allowing for a finer control over the rendering of the table; for now, we can forget about these attributes. \n",
      "\n",
      "You can type HTML code directly in a markdown cell in the iPython notebook. The HTML will be rendered as in a browser. To see the code of the table in the next markdown cell, you can simply double click on it:"
     ]
    },
    {
     "cell_type": "markdown",
     "metadata": {},
     "source": [
      "<table>   \n",
      "    <thead>\n",
      "        <th>Student</th>\n",
      "        <th>Score</th>\n",
      "    </thead>\n",
      "\n",
      "    <tbody>\n",
      "        <tr>\n",
      "            <td>Bob Ducolax</td>\n",
      "            <td>88</td>\n",
      "        </tr>\n",
      "    </tbody>\n",
      "</table>"
     ]
    },
    {
     "cell_type": "markdown",
     "metadata": {},
     "source": [
      "The code for the table above is the following (observe that the additional identation prevents the markdown cell to interprete the HTML code, which is convenient to display HTML source code):\n",
      "\n",
      "    <table>   \n",
      "        <thead>\n",
      "            <th>Student</th>\n",
      "            <th>Score</th>\n",
      "        </thead>\n",
      "\n",
      "        <tbody>\n",
      "            <tr>\n",
      "                <td>Bob Ducolax</td>\n",
      "                <td>88</td>\n",
      "            </tr>\n",
      "        </tbody>\n",
      "    </table>"
     ]
    },
    {
     "cell_type": "markdown",
     "metadata": {},
     "source": [
      "<tbody>\n",
      "    <tr class=\"odd home\">\n",
      "\t\t<td class=\"date\">\n",
      "\t\t\tFri, Feb 17\n",
      "\t\t</td>\n",
      "\n",
      "\t\t<td class=\"opponent\">\n",
      "\t\t\tPacific\n",
      "\t\t</td>\n",
      "\t\t\n",
      "\t\t<td class=\"location hidden-phone\">\n",
      "\t\t\tBerkeley, Calif.\n",
      "\t\t</td>\n",
      "\n",
      "\t\t<td class=\"time-location visible-phone\">\n",
      "\t\t\tBerkeley, Calif.\n",
      "\t\t</td>\n",
      "\t\t\t\t\n",
      "\t\t<td class=\"results\">\n",
      "\t\t\t<a TITLE=\"View Article\" HREF=\"/ViewArticle.dbml?ATCLID=207758697&DB_OEM_ID=30100\">9&nbsp;-&nbsp;1(W) </a> \n",
      "               etc.\n",
      "\t</tr>\n",
      "    \n",
      "    etc.\n",
      "</tbody>"
     ]
    },
    {
     "cell_type": "markdown",
     "metadata": {},
     "source": [
      "Now let us read the HTML file located at the url above into a R list, using the <code>read.lines</code> function as illustrated below:"
     ]
    },
    {
     "cell_type": "code",
     "collapsed": false,
     "input": [
      "%%R -i url\n",
      "\n",
      "htmlPage = readLines(url)"
     ],
     "language": "python",
     "metadata": {},
     "outputs": [],
     "prompt_number": 125
    },
    {
     "cell_type": "markdown",
     "metadata": {},
     "source": [
      "Firefox, as most browsers, allows you to see directly the HTML source code of a given page (select in the Firefox menu bar: Tools $\\rightarrow$ Web Developer $\\rightarrow$ Page Source).\n",
      "\n",
      "A direct inspection of the **HTML source code**  shows that the data we want to extract is always of the same form, enclosed by a **table row tag**. For instance, the first line of the data table diplayed above in the browser is located between line 639 and line 675 of the HTML source. To access this portion of the HTML source code, one needs just to print the corresponding list elements:"
     ]
    },
    {
     "cell_type": "code",
     "collapsed": false,
     "input": [
      "%%R\n",
      "\n",
      "row = htmlPage[1044:1100]\n",
      "print(row)"
     ],
     "language": "python",
     "metadata": {},
     "outputs": [
      {
       "metadata": {},
       "output_type": "display_data",
       "text": [
        " [1] \"\\t<!-- START LIVESCORE -->\"                                                                                                                  \n",
        " [2] \"\\t\"                                                                                                                                          \n",
        " [3] \"\\t\\t\\t\\t</td>\"                                                                                                                               \n",
        " [4] \"\\t\\t\\t\\t\"                                                                                                                                    \n",
        " [5] \"\\t\\t\\t\\t<td class=\\\"media hidden-phone visible-phone-landscape\\\">\"                                                                           \n",
        " [6] \"\"                                                                                                                                            \n",
        " [7] \"\\t\\t\\t\\t\\t<A TARGET=\\\"_STATS\\\" TITLE=\\\"Stats\\\" HREF=\\\"http://www.nmnathletics.com/ViewContent.dbml?DB_OEM_ID=30100&CONTENT_ID=719858\\\">Stats\"\n",
        " [8] \"\\t\\t\\t\\t\\t\\t</a>\"                                                                                                                            \n",
        " [9] \"\\t\\t\\t\\t\\t\"                                                                                                                                  \n",
        "[10] \"\\t\\t\\t\\t</td>\"                                                                                                                               \n",
        "[11] \"\\t\\t\\t</tr>\"                                                                                                                                 \n",
        "[12] \"\\t\\t\\t\"                                                                                                                                      \n",
        "[13] \"\\t\\t\\t<tr class=\\\"odd\\\">\"                                                                                                                    \n",
        "[14] \"\\t\\t\\t\\t<td class=\\\"date\\\">\"                                                                                                                 \n",
        "[15] \"\\t\\t\\t\\t\\tSat,<div class='date_nowrap' > Feb 25</div>\"                                                                                       \n",
        "[16] \"\\t\\t\\t\\t</td>\"                                                                                                                               \n",
        "[17] \"\"                                                                                                                                            \n",
        "[18] \"\\t\\t\\t\\t\"                                                                                                                                    \n",
        "[19] \"\\t\\t\\t\\t\\t<td class=\\\"opponent\\\">\"                                                                                                           \n",
        "[20] \"\\t\\t\\t\\t\\t\\tLong Beach State\"                                                                                                                \n",
        "[21] \"\\t\\t\\t\\t\\t</td>\"                                                                                                                             \n",
        "[22] \"\\t\\t\\t\\t\"                                                                                                                                    \n",
        "[23] \"\"                                                                                                                                            \n",
        "[24] \"\\t\\t\\t\\t<td class=\\\"location hidden-phone\\\">\"                                                                                                \n",
        "[25] \"\\t\\t\\t\\t\\tat Long Beach, Calif.\"                                                                                                             \n",
        "[26] \"\\t\\t\\t\\t</td>\"                                                                                                                               \n",
        "[27] \"\"                                                                                                                                            \n",
        "[28] \"\\t\\t\\t\\t\"                                                                                                                                    \n",
        "[29] \"\"                                                                                                                                            \n",
        "[30] \"\\t\\t\\t\\t<td class=\\\"time-location visible-phone\\\">\"                                                                                          \n",
        "[31] \"\\t\\t\\t\\t\\tat Long Beach, Calif.\"                                                                                                             \n",
        "[32] \"\\t\\t\\t\\t</td>\"                                                                                                                               \n",
        "[33] \"\"                                                                                                                                            \n",
        "[34] \"\\t\\t\\t\\t\"                                                                                                                                    \n",
        "[35] \"\\t\\t\\t\\t<td class=\\\"results\\\">\"                                                                                                              \n",
        "[36] \"\\t\\t\\t\\t\\t<A TITLE=\\\"View Article\\\" HREF=\\\"/ViewArticle.dbml?ATCLID=207743876&DB_OEM_ID=30100\\\">W, 2-1 (10)\"                                 \n",
        "[37] \"\\t\\t\\t\\t\\t\\t\\t\\t</a>\"                                                                                                                        \n",
        "[38] \"\\t\\t\\t\\t\\t\\t\\t\"                                                                                                                              \n",
        "[39] \"\\t<!-- START LIVESCORE -->\"                                                                                                                  \n",
        "[40] \"\\t\"                                                                                                                                          \n",
        "[41] \"\\t\\t\\t\\t</td>\"                                                                                                                               \n",
        "[42] \"\\t\\t\\t\\t\"                                                                                                                                    \n",
        "[43] \"\\t\\t\\t\\t<td class=\\\"media hidden-phone visible-phone-landscape\\\">\"                                                                           \n",
        "[44] \"\"                                                                                                                                            \n",
        "[45] \"\\t\\t\\t\\t\\t<A TARGET=\\\"_STATS\\\" TITLE=\\\"Stats\\\" HREF=\\\"http://www.nmnathletics.com/ViewContent.dbml?DB_OEM_ID=30100&CONTENT_ID=719859\\\">Stats\"\n",
        "[46] \"\\t\\t\\t\\t\\t\\t</a>\"                                                                                                                            \n",
        "[47] \"\\t\\t\\t\\t\\t\"                                                                                                                                  \n",
        "[48] \"\\t\\t\\t\\t</td>\"                                                                                                                               \n",
        "[49] \"\\t\\t\\t</tr>\"                                                                                                                                 \n",
        "[50] \"\\t\\t\\t\"                                                                                                                                      \n",
        "[51] \"\\t\\t\\t<tr class=\\\"even\\\">\"                                                                                                                   \n",
        "[52] \"\\t\\t\\t\\t<td class=\\\"date\\\">\"                                                                                                                 \n",
        "[53] \"\\t\\t\\t\\t\\tSun,<div class='date_nowrap' > Feb 26</div>\"                                                                                       \n",
        "[54] \"\\t\\t\\t\\t</td>\"                                                                                                                               \n",
        "[55] \"\"                                                                                                                                            \n",
        "[56] \"\\t\\t\\t\\t\"                                                                                                                                    \n",
        "[57] \"\\t\\t\\t\\t\\t<td class=\\\"opponent\\\">\"                                                                                                           \n"
       ]
      }
     ],
     "prompt_number": 121
    },
    {
     "cell_type": "markdown",
     "metadata": {},
     "source": [
      "The output is not so pleasant (in part due to the fact that the <code>print</code> command does not interpret the tabs), but we can notice the following patterns:\n",
      "\n",
      "* The **date** is always located **one line** below the tag\n",
      "\n",
      "        <td class=\"date\">\n",
      "         \\t\\t\\t\\t\\tFri, Feb 17\n",
      "         \n",
      "* The **oponent** is always located **one line** below the tag\n",
      "\n",
      "        <td class=\"opponent\">\n",
      "        \\t\\t\\t\\t\\tPacific\n",
      "        \n",
      "* The **location** is always located **one line** below the tag\n",
      "\n",
      "\t\t<td class=\"time-location visible-phone\">\n",
      "\t\t\\t\\t\\t\\t\\tBerkeley, Calif.\n",
      "\n",
      "* The **match outcome** is always located **one line** below the tag\n",
      "\n",
      "\t\t<td class=\"results\">\n",
      "\t\t\\t\\t\\t\\t\\t<A TITLE=\"View Article\" HREF=\"/ViewArticle.dbml?ATCLID=207758697&DB_OEM_ID=30100\">9&nbsp;-&nbsp;1(W)\n",
      "\n",
      "For the match outcome the data is contained in the poorly formated string\n",
      "\n",
      "        9&nbsp;-&nbsp;1(W)\n",
      "which means that Cal won (that's what the \"(W)\" stands for) and that the score was 9-1. \n",
      "\n",
      "We see that some processing will be in order here: removing the two strings \n",
      "\n",
      "    &nbsp;\n",
      "will suffice for our purpose."
     ]
    },
    {
     "cell_type": "markdown",
     "metadata": {},
     "source": [
      "The command \n",
      "\n",
      "    grep(pattern, x)\n",
      "will return a integer vector containing the elements in the character vector <code>x</code> matching the <code>pattern</code>. "
     ]
    },
    {
     "cell_type": "code",
     "collapsed": false,
     "input": [
      "%%R\n",
      "\n",
      "indices = grep('opponent', htmlPage)\n",
      "print(indices)"
     ],
     "language": "python",
     "metadata": {},
     "outputs": [
      {
       "metadata": {},
       "output_type": "display_data",
       "text": [
        " [1]  814  821  878  910  948  986 1024 1062 1100 1138 1176 1214 1252 1286 1324\n",
        "[16] 1362 1400 1438 1476 1511 1546 1585 1624 1662 1700 1738 1776 1814 1852 1890\n",
        "[31] 1928 1967 2005 2044 2082 2120 2159 2198 2237 2275 2314 2353 2392 2431 2470\n",
        "[46] 2509 2548 2587 2626 2665 2704 2743 2781 2820 2859 2898 2937 2976\n"
       ]
      }
     ],
     "prompt_number": 122
    },
    {
     "cell_type": "markdown",
     "metadata": {},
     "source": [
      "**EXERCISE: Write a function <code>htmlValues(tag, html, offset)</code> that returns a character vector containing all the lines located at <code>offset</code> (this is an integer) from the lines in the html document (represented as a list of lines passed to the function as the <code>html</code> argument) matching the string passed in the <code>tag</code> argument. For instance, after running the following line of code**\n",
      "\n",
      "    x = htmlValues(tag ='<td class=\"date\">', html=htmlPage, offset=1)\n",
      "    \n",
      "**the variable <code>x</code> should contain all the lines located right after the lines containing the given tag (here: offset=1 means that we collect all the line at distance 1 from the tag lines).**"
     ]
    },
    {
     "cell_type": "code",
     "collapsed": false,
     "input": [
      "%%R\n",
      "\n",
      "htmlValues = function(tag, html, offset){\n",
      "                      indices = grep(tag, html)\n",
      "                      return(html[indices + offset])\n",
      "                     }\n"
     ],
     "language": "python",
     "metadata": {},
     "outputs": [],
     "prompt_number": 129
    },
    {
     "cell_type": "markdown",
     "metadata": {},
     "source": [
      "**EXERCISE: Using the function <code>htmlValues</code> that you just wrote, store in the variables <code>dates</code>, <code>opponents</code>, <code>locations</code>, and <code>results</code> character vectors containing all the lines from the list <code>htmlPage</code> with, respectively, the information concerning the dates, opponents, locations, and results. Make sure that all the vectors are of the same length.**"
     ]
    },
    {
     "cell_type": "code",
     "collapsed": false,
     "input": [
      "%%R\n",
      "\n",
      "dates = htmlValues(tag='<td class=\"date\">', html=htmlPage, offset=1)\n",
      "opponents = htmlValues(tag='<td class=\"opponent\">', html=htmlPage, offset=1)\n",
      "locations = htmlValues(tag='<td class=\"time-location visible-phone\">', html=htmlPage, offset=1)\n",
      "results = htmlValues(tag='<td class=\"results\">', html=htmlPage, offset=1)\n",
      "\n",
      "print(length(dates))\n",
      "print(length(opponents))\n",
      "print(length(locations))\n",
      "print(length(results))"
     ],
     "language": "python",
     "metadata": {},
     "outputs": [
      {
       "metadata": {},
       "output_type": "display_data",
       "text": [
        "[1] 55\n",
        "[1] 55\n",
        "[1] 55\n",
        "[1] 55\n"
       ]
      }
     ],
     "prompt_number": 164
    },
    {
     "cell_type": "markdown",
     "metadata": {},
     "source": [
      "**EXERCISE: Write a function <code>rm.tabs(x)</code> that returns a character vector obtained from the character vector <code>x</code> by stripping all the tabs in each of its elements.**"
     ]
    },
    {
     "cell_type": "code",
     "collapsed": false,
     "input": [
      "%%R\n",
      "\n",
      "rm.tabs = function(x){return(gsub('\\t', '', x))}\n",
      "\n",
      "print(head(rm.tabs(dates)))"
     ],
     "language": "python",
     "metadata": {},
     "outputs": [
      {
       "metadata": {},
       "output_type": "display_data",
       "text": [
        "[1] \"Fri,<div class='date_nowrap' > Feb 17</div>\"\n",
        "[2] \"Sat,<div class='date_nowrap' > Feb 18</div>\"\n",
        "[3] \"Sun,<div class='date_nowrap' > Feb 19</div>\"\n",
        "[4] \"Fri,<div class='date_nowrap' > Feb 24</div>\"\n",
        "[5] \"Sat,<div class='date_nowrap' > Feb 25</div>\"\n",
        "[6] \"Sun,<div class='date_nowrap' > Feb 26</div>\"\n"
       ]
      }
     ],
     "prompt_number": 165
    },
    {
     "cell_type": "markdown",
     "metadata": {},
     "source": [
      "**EXERCISE: Clean the dates values stored in the variable <code>dates</code> using the <code>rm.tabs(x)</code> function you just wrote. Notice that the first element of this vector is not a value but a label. Remove it. Then using the date conversion function <code>as.Date</code> convert the string representing the dates into actual R dates objects. Store the result of this cleaning into the variable <code>dates.clean</code>.**\n",
      "\n",
      "Please first read [this page](http://www.statmethods.net/input/dates.html) on date formatting. Then observe that the year information is missing from the string representing our dates. By the default, <code>as.Date</code> will substitute to this missing information the current year. Since the baseball data are from 2012, you'll first need to add this year information to the character vector before passing it to <code>as.Date</code>. Use the function <code>paste</code> for that. "
     ]
    },
    {
     "cell_type": "code",
     "collapsed": false,
     "input": [
      "%%R\n",
      "\n",
      "dates_1 = rm.tabs(dates)\n",
      "dates_2 = paste(dates_1, \"2012\", sep=' ')\n",
      "dates_3 = sub(\"<div class='date_nowrap' >\", '', dates_2)\n",
      "dates_4 = sub(\"</div>\", '', dates_3)\n",
      "\n",
      "dates.clean = as.Date(dates_4, \"%a, %b %d %Y\")\n",
      "print(head(dates.clean))"
     ],
     "language": "python",
     "metadata": {},
     "outputs": [
      {
       "metadata": {},
       "output_type": "display_data",
       "text": [
        "[1] \"2012-02-17\" \"2012-02-18\" \"2012-02-19\" \"2012-02-24\" \"2012-02-25\"\n",
        "[6] \"2012-02-26\"\n"
       ]
      }
     ],
     "prompt_number": 228
    },
    {
     "cell_type": "markdown",
     "metadata": {},
     "source": [
      "In the exercises below, you may want to use the function \n",
      "\n",
      "    sub(pattern, '', x)\n",
      "    \n",
      "to strip out junk parts of a character vector <code>x</code>. \n",
      "\n",
      "<code>pattern</code> should match the junk parts of the strings, that you'll replace with the empty string. \n",
      "\n",
      "You may, at times, want to make repeated calls to <code>sub</code> with different regular expression in order to remove all the junk. "
     ]
    },
    {
     "cell_type": "markdown",
     "metadata": {},
     "source": [
      "**EXERCISE: Print the character vector <code>opponents</code>. Remove the tabs, the trailing spaces and stars, as well as its first element (which you'll verify is a label and not a value) and store the character vector that results into the variable <code>opponents.clean</code>, which you'll print to check that you are left only with clean opponent values.**"
     ]
    },
    {
     "cell_type": "code",
     "collapsed": false,
     "input": [
      "%%R\n",
      "\n",
      "opponents.clean = gsub(' *\\\\* *', '', rm.tabs(opponents))\n",
      "\n",
      "print(opponents.clean)"
     ],
     "language": "python",
     "metadata": {},
     "outputs": [
      {
       "metadata": {},
       "output_type": "display_data",
       "text": [
        " [1] \"Pacific\"          \"Pacific\"          \"Pacific\"          \"Long Beach State\"\n",
        " [5] \"Long Beach State\" \"Long Beach State\" \"San Francisco\"    \"Lehigh\"          \n",
        " [9] \"Lehigh\"           \"Lehigh\"           \"Creighton\"        \"Nebraska\"        \n",
        "[13] \"Nebraska\"         \"Nebraska\"         \"Nebraska\"         \"Oregon State\"    \n",
        "[17] \"Oregon State\"     \"Oregon State\"     \"Oregon State\"     \"San Francisco\"   \n",
        "[21] \"Arizona State\"    \"Arizona State\"    \"Arizona State\"    \"Fresno State\"    \n",
        "[25] \"Texas\"            \"Texas\"            \"Texas\"            \"USC\"             \n",
        "[29] \"USC\"              \"USC\"              \"Stanford\"         \"Santa Clara\"     \n",
        "[33] \"Washington\"       \"Washington\"       \"Washington\"       \"Santa Clara\"     \n",
        "[37] \"Utah\"             \"Utah\"             \"Utah\"             \"Oregon\"          \n",
        "[41] \"Oregon\"           \"Oregon\"           \"Washington State\" \"Washington State\"\n",
        "[45] \"Washington State\" \"Arizona\"          \"Arizona\"          \"Arizona\"         \n",
        "[49] \"Washington State\" \"UCLA\"             \"UCLA\"             \"UCLA\"            \n",
        "[53] \"Stanford\"         \"Stanford\"         \"Stanford\"        \n"
       ]
      }
     ],
     "prompt_number": 234
    },
    {
     "cell_type": "markdown",
     "metadata": {},
     "source": [
      "**EXERCISE: Print the vector <code>locations</code> and do the necessary to obtain a character vector with only clean location values, which you'll store into the variable <code>locations.clean</code>. Then separate the location data into two vectors: one containing the town, which you'll store into the <code>town</code> variable, and another one containing only the states, which you'll store into the variable <code>states</code>. For instance the first entry of <code>locations.clean</code> should be <code>\"Stockton, Calif.\"</code>, the first entry of <code>town</code> should be <code>\"Stockton\"</code>, and the first entry of <code>states</code> should be <code>\"Calif.\"</code>. Print <code>town</code> and <code>states</code> to make sure you are left only with clean town and state values.**"
     ]
    },
    {
     "cell_type": "code",
     "collapsed": false,
     "input": [
      "%%R\n",
      "\n",
      "locations.clean = sub('at ', '', rm.tabs(locations))\n",
      "\n",
      "town = sub(', .+\\\\.', '', locations.clean)\n",
      "states = sub('.+, ', '', locations.clean)\n",
      "\n",
      "print(town)\n",
      "print(states)"
     ],
     "language": "python",
     "metadata": {},
     "outputs": [
      {
       "metadata": {},
       "output_type": "display_data",
       "text": [
        " [1] \"Berkeley\"          \"Stockton\"          \"Berkeley\"         \n",
        " [4] \"Long Beach\"        \"Long Beach\"        \"Long Beach\"       \n",
        " [7] \"Berkeley\"          \"Berkeley\"          \"Berkeley\"         \n",
        "[10] \"Berkeley\"          \"Berkeley\"          \"Lincoln\"          \n",
        "[13] \"Lincoln\"           \"Lincoln\"           \"Lincoln\"          \n",
        "[16] \"Berkeley\"          \"Berkeley\"          \"Berkeley\"         \n",
        "[19] \"Berkeley\"          \"San Francisco\"     \"Tempe\"            \n",
        "[22] \"Tempe\"             \"Tempe\"             \"Fresno\"           \n",
        "[25] \"Round Rock, Texas\" \"Round Rock, Texas\" \"Round Rock, Texas\"\n",
        "[28] \"Los Angeles\"       \"Los Angeles\"       \"Los Angeles\"      \n",
        "[31] \"Berkeley\"          \"Santa Clara\"       \"Berkeley\"         \n",
        "[34] \"Berkeley\"          \"Berkeley\"          \"Berkeley\"         \n",
        "[37] \"Berkeley\"          \"Berkeley\"          \"Berkeley\"         \n",
        "[40] \"Eugene\"            \"Eugene\"            \"Eugene\"           \n",
        "[43] \"Pullman\"           \"Pullman\"           \"Pullman\"          \n",
        "[46] \"Berkeley\"          \"Berkeley\"          \"Berkeley\"         \n",
        "[49] \"Berkeley\"          \"Berkeley\"          \"Berkeley\"         \n",
        "[52] \"Berkeley\"          \"Stanford\"          \"Stanford\"         \n",
        "[55] \"Stanford\"         \n",
        " [1] \"Calif.\" \"Calif.\" \"Calif.\" \"Calif.\" \"Calif.\" \"Calif.\" \"Calif.\" \"Calif.\"\n",
        " [9] \"Calif.\" \"Calif.\" \"Calif.\" \"Neb.\"   \"Neb.\"   \"Neb.\"   \"Neb.\"   \"Calif.\"\n",
        "[17] \"Calif.\" \"Calif.\" \"Calif.\" \"Calif.\" \"Ariz.\"  \"Ariz.\"  \"Ariz.\"  \"Calif.\"\n",
        "[25] \"Texas\"  \"Texas\"  \"Texas\"  \"Calif.\" \"Calif.\" \"Calif.\" \"Calif.\" \"Calif.\"\n",
        "[33] \"Calif.\" \"Calif.\" \"Calif.\" \"Calif.\" \"Calif.\" \"Calif.\" \"Calif.\" \"Ore.\"  \n",
        "[41] \"Ore.\"   \"Ore.\"   \"Wash.\"  \"Wash.\"  \"Wash.\"  \"Calif.\" \"Calif.\" \"Calif.\"\n",
        "[49] \"Calif.\" \"Calif.\" \"Calif.\" \"Calif.\" \"Calif.\" \"Calif.\" \"Calif.\"\n"
       ]
      }
     ],
     "prompt_number": 193
    },
    {
     "cell_type": "markdown",
     "metadata": {},
     "source": [
      "**EXERCISE: Clean the <code>results</code> vector so that you are left only with clean result values of the form <code>9-1 (W)</code>. Postponed matches and missing scores must be replaced by NA. Store the clean result values into the variable <code>results.temp</code>**\n",
      "\n",
      "**IMPORTANT HINT:** Remember that if <code>ind</code> is a integer vector of indices, then <code>x[ind] = NA</code> will set the elements in <code>x</code> corresponding to these indices to <code>NA</code>, while <code>x[-ind] = NA</code> will set the elements **whose indices are not in the integer vector <code>ind</code>** to <code>NA</code>."
     ]
    },
    {
     "cell_type": "code",
     "collapsed": false,
     "input": [
      "%%R\n",
      "\n",
      "results_1 = rm.tabs(results)\n",
      "results_2 = sub('<.*>', '', results_1)\n",
      "results.temp = sub(' \\\\(.*\\\\)', '', results_2)\n",
      "\n",
      "ind = grep('[0-9]-[0-9]', results.temp)\n",
      "results.temp[-ind] = NA\n",
      "\n",
      "print(results.temp)\n"
     ],
     "language": "python",
     "metadata": {},
     "outputs": [
      {
       "metadata": {},
       "output_type": "display_data",
       "text": [
        " [1] \"9-1\"  \"6-3\"  \"9-3\"  \"7-4\"  \"2-1\"  \"2-1\"  \"5-3\"  \"9-3\"  \"10-0\" NA    \n",
        "[11] \"7-5\"  \"11-8\" \"12-5\" \"4-0\"  \"9-5\"  NA     \"9-2\"  \"4-1\"  \"13-5\" \"4-3\" \n",
        "[21] \"5-1\"  \"3-2\"  \"9-6\"  \"7-6\"  \"13-3\" \"12-2\" \"6-5\"  \"5-4\"  \"2-1\"  \"3-2\" \n",
        "[31] \"19-6\" \"8-5\"  \"7-6\"  \"5-2\"  \"5-3\"  \"4-0\"  \"9-4\"  \"9-0\"  \"5-2\"  \"4-1\" \n",
        "[41] \"3-2\"  \"7-1\"  \"10-4\" \"9-4\"  \"8-0\"  \"3-1\"  \"4-1\"  \"7-4\"  \"13-8\" \"7-2\" \n",
        "[51] \"8-5\"  \"6-5\"  \"5-4\"  \"15-5\" \"5-3\" \n"
       ]
      }
     ],
     "prompt_number": 316
    },
    {
     "cell_type": "markdown",
     "metadata": {},
     "source": [
      "**EXERCISE: Using <code>results.temp</code> create a factor named <code>outcomes.clean</code> with two categories: 'W' if Cal has won and'L' if Cal has lost. In case of missing values (NA) in <code>result.temp</code>, the corresponding elements in <code>outcomes.clean</code> should also be NA. Print <code>outcome</code> to check that the wins and losses match those in <code>result.temp</code>. **\n",
      "\n",
      "**Hint:** Use <code>rep</code> to create a initial vector containing only 'W' and modify it appropriately using <code>grep</code> and the bracket operator. Then deal with missing values using the function <code>is.na</code> together with the bracket operator and logical indexing. \n",
      "\n",
      "Please first read [this page](http://www.statmethods.net/input/missingdata.html) on missing values."
     ]
    },
    {
     "cell_type": "code",
     "collapsed": false,
     "input": [
      "%%R\n",
      "\n",
      "results.cat = sub(', [0-9]+-[0-9]+', '', results.temp)\n",
      "outcomes.clean = factor(results.cat, levels=c('W', 'L'))\n",
      "\n",
      "print(outcomes.clean)\n",
      "\n"
     ],
     "language": "python",
     "metadata": {},
     "outputs": [
      {
       "metadata": {},
       "output_type": "display_data",
       "text": [
        " [1] W    W    W    L    W    L    W    W    W    <NA> W    W    L    W    L   \n",
        "[16] <NA> L    L    L    W    L    W    L    W    L    W    W    W    L    L   \n",
        "[31] L    L    W    W    L    W    W    W    W    L    L    L    L    W    W   \n",
        "[46] L    L    L    W    L    L    W    W    W    L   \n",
        "Levels: W L\n"
       ]
      }
     ],
     "prompt_number": 224
    },
    {
     "cell_type": "markdown",
     "metadata": {},
     "source": [
      "**EXERCISE: Strip the elements in <code>results.temp</code> from the trailing \"(W)\" and \"(L)\" so that you are left with clean result values of the form \"9-1\" (the string \"Postponed\" can be left alone).**"
     ]
    },
    {
     "cell_type": "code",
     "collapsed": false,
     "input": [
      "%%R\n",
      "\n",
      "results.clean = sub('., ', '', results.temp)\n",
      "\n",
      "print(results.clean)"
     ],
     "language": "python",
     "metadata": {},
     "outputs": [
      {
       "metadata": {},
       "output_type": "display_data",
       "text": [
        " [1] \"9-1\"  \"6-3\"  \"9-3\"  \"7-4\"  \"2-1\"  \"2-1\"  \"5-3\"  \"9-3\"  \"10-0\" NA    \n",
        "[11] \"7-5\"  \"11-8\" \"12-5\" \"4-0\"  \"9-5\"  NA     \"9-2\"  \"4-1\"  \"13-5\" \"4-3\" \n",
        "[21] \"5-1\"  \"3-2\"  \"9-6\"  \"7-6\"  \"13-3\" \"12-2\" \"6-5\"  \"5-4\"  \"2-1\"  \"3-2\" \n",
        "[31] \"19-6\" \"8-5\"  \"7-6\"  \"5-2\"  \"5-3\"  \"4-0\"  \"9-4\"  \"9-0\"  \"5-2\"  \"4-1\" \n",
        "[41] \"3-2\"  \"7-1\"  \"10-4\" \"9-4\"  \"8-0\"  \"3-1\"  \"4-1\"  \"7-4\"  \"13-8\" \"7-2\" \n",
        "[51] \"8-5\"  \"6-5\"  \"5-4\"  \"15-5\" \"5-3\" \n"
       ]
      }
     ],
     "prompt_number": 226
    },
    {
     "cell_type": "markdown",
     "metadata": {},
     "source": [
      "**EXERCISE: Create a data frame <code>baseball</code> containing the columns Opponent, Date, Outcome, Result, Town, State, using the clean values for these variables that you extracted from the raw HTML file. Display the first entries of this data frame. Congratulations!**"
     ]
    },
    {
     "cell_type": "code",
     "collapsed": false,
     "input": [
      "%%R\n",
      "\n",
      "baseball = data.frame(Opponent=opponents.clean, Date=dates.clean, Outcome=outcomes.clean, Result=results.clean,\n",
      "                      Town=town, State=states)\n",
      "\n",
      "print(head(baseball))"
     ],
     "language": "python",
     "metadata": {},
     "outputs": [
      {
       "metadata": {},
       "output_type": "display_data",
       "text": [
        "          Opponent       Date Outcome Result       Town  State\n",
        "1          Pacific 2012-02-17       W    9-1   Berkeley Calif.\n",
        "2          Pacific 2012-02-18       W    6-3   Stockton Calif.\n",
        "3          Pacific 2012-02-19       W    9-3   Berkeley Calif.\n",
        "4 Long Beach State 2012-02-24       L    7-4 Long Beach Calif.\n",
        "5 Long Beach State 2012-02-25       W    2-1 Long Beach Calif.\n",
        "6 Long Beach State 2012-02-26       L    2-1 Long Beach Calif.\n"
       ]
      }
     ],
     "prompt_number": 312
    },
    {
     "cell_type": "markdown",
     "metadata": {},
     "source": [
      "**EXERCISE: Replace the column <code>Result</code> in our <code>baseball</code> data frame by two additional columns: the first one, named <code>CScore</code>, will contain the Cal score and the second, named <code>OScore</code> will contain the opponent score. Then do a summary statistics as well as a box plot of this two new variables (you may want to create a new data frame containing these two variables and pass it to <code>summary</code> and <code>boxplot</code>. Then identify the outlier matches for variables.** \n",
      "\n",
      "You may want to read the page on [missing values](http://www.statmethods.net/input/missingdata.html) again to see how to perform computations on numeric vectors with missing values.\n",
      "\n",
      "**IMPORTANT:** To drop a colum, say <code>X</code>, from a data frame <code>df</code>, we can simply set the column variable to <code>NULL</code>:\n",
      "\n",
      "    df$X = NULL"
     ]
    },
    {
     "cell_type": "code",
     "collapsed": false,
     "input": [
      "%%R\n",
      "\n",
      "\n",
      "results = as.character(baseball$Result)\n",
      "\n",
      "cal_score = as.numeric(sub('-[0-9]+', '', results))\n",
      "opp_score = as.numeric(sub('[0-9]+-', '', results))\n",
      "\n",
      "\n",
      "baseball$CScore = cal_score\n",
      "baseball$OScore = opp_score\n",
      "baseball$Result = NULL\n",
      "\n",
      "print(baseball)"
     ],
     "language": "python",
     "metadata": {},
     "outputs": [
      {
       "metadata": {},
       "output_type": "display_data",
       "text": [
        "           Opponent       Date Outcome              Town  State CScore OScore\n",
        "1           Pacific 2012-02-17       W          Berkeley Calif.      9      1\n",
        "2           Pacific 2012-02-18       W          Stockton Calif.      6      3\n",
        "3           Pacific 2012-02-19       W          Berkeley Calif.      9      3\n",
        "4  Long Beach State 2012-02-24       L        Long Beach Calif.      7      4\n",
        "5  Long Beach State 2012-02-25       W        Long Beach Calif.      2      1\n",
        "6  Long Beach State 2012-02-26       L        Long Beach Calif.      2      1\n",
        "7     San Francisco 2012-02-28       W          Berkeley Calif.      5      3\n",
        "8            Lehigh 2012-03-03       W          Berkeley Calif.      9      3\n",
        "9            Lehigh 2012-03-04       W          Berkeley Calif.     10      0\n",
        "10           Lehigh 2012-03-04    <NA>          Berkeley Calif.     NA     NA\n",
        "11        Creighton 2012-03-06       W          Berkeley Calif.      7      5\n",
        "12         Nebraska 2012-03-09       W           Lincoln   Neb.     11      8\n",
        "13         Nebraska 2012-03-10       L           Lincoln   Neb.     12      5\n",
        "14         Nebraska 2012-03-11       W           Lincoln   Neb.      4      0\n",
        "15         Nebraska 2012-03-12       L           Lincoln   Neb.      9      5\n",
        "16     Oregon State 2012-03-16    <NA>          Berkeley Calif.     NA     NA\n",
        "17     Oregon State 2012-03-17       L          Berkeley Calif.      9      2\n",
        "18     Oregon State 2012-03-17       L          Berkeley Calif.      4      1\n",
        "19     Oregon State 2012-03-18       L          Berkeley Calif.     13      5\n",
        "20    San Francisco 2012-03-20       W     San Francisco Calif.      4      3\n",
        "21    Arizona State 2012-03-23       L             Tempe  Ariz.      5      1\n",
        "22    Arizona State 2012-03-24       W             Tempe  Ariz.      3      2\n",
        "23    Arizona State 2012-03-25       L             Tempe  Ariz.      9      6\n",
        "24     Fresno State 2012-03-27       W            Fresno Calif.      7      6\n",
        "25            Texas 2012-03-30       L Round Rock, Texas  Texas     13      3\n",
        "26            Texas 2012-03-31       W Round Rock, Texas  Texas     12      2\n",
        "27            Texas 2012-04-01       W Round Rock, Texas  Texas      6      5\n",
        "28              USC 2012-04-05       W       Los Angeles Calif.      5      4\n",
        "29              USC 2012-04-06       L       Los Angeles Calif.      2      1\n",
        "30              USC 2012-04-07       L       Los Angeles Calif.      3      2\n",
        "31         Stanford 2012-04-09       L          Berkeley Calif.     19      6\n",
        "32      Santa Clara 2012-04-11       L       Santa Clara Calif.      8      5\n",
        "33       Washington 2012-04-13       W          Berkeley Calif.      7      6\n",
        "34       Washington 2012-04-14       W          Berkeley Calif.      5      2\n",
        "35       Washington 2012-04-15       L          Berkeley Calif.      5      3\n",
        "36      Santa Clara 2012-04-17       W          Berkeley Calif.      4      0\n",
        "37             Utah 2012-04-20       W          Berkeley Calif.      9      4\n",
        "38             Utah 2012-04-21       W          Berkeley Calif.      9      0\n",
        "39             Utah 2012-04-22       W          Berkeley Calif.      5      2\n",
        "40           Oregon 2012-04-27       L            Eugene   Ore.      4      1\n",
        "41           Oregon 2012-04-28       L            Eugene   Ore.      3      2\n",
        "42           Oregon 2012-04-29       L            Eugene   Ore.      7      1\n",
        "43 Washington State 2012-05-04       L           Pullman  Wash.     10      4\n",
        "44 Washington State 2012-05-05       W           Pullman  Wash.      9      4\n",
        "45 Washington State 2012-05-06       W           Pullman  Wash.      8      0\n",
        "46          Arizona 2012-05-11       L          Berkeley Calif.      3      1\n",
        "47          Arizona 2012-05-12       L          Berkeley Calif.      4      1\n",
        "48          Arizona 2012-05-13       L          Berkeley Calif.      7      4\n",
        "49 Washington State 2012-05-14       W          Berkeley Calif.     13      8\n",
        "50             UCLA 2012-05-18       L          Berkeley Calif.      7      2\n",
        "51             UCLA 2012-05-19       L          Berkeley Calif.      8      5\n",
        "52             UCLA 2012-05-20       W          Berkeley Calif.      6      5\n",
        "53         Stanford 2012-05-25       W          Stanford Calif.      5      4\n",
        "54         Stanford 2012-05-26       W          Stanford Calif.     15      5\n",
        "55         Stanford 2012-05-27       L          Stanford Calif.      5      3\n"
       ]
      }
     ],
     "prompt_number": 313
    },
    {
     "cell_type": "code",
     "collapsed": false,
     "input": [
      "%%R \n",
      "\n",
      "scores = data.frame(CScore=baseball$CScore, OScore=baseball$OScore)\n",
      "\n",
      "stats = summary(scores, na.rm=TRUE)\n",
      "\n",
      "print(stats)\n",
      "boxplot(scores)"
     ],
     "language": "python",
     "metadata": {},
     "outputs": [
      {
       "metadata": {},
       "output_type": "display_data",
       "text": [
        "     CScore           OScore     \n",
        " Min.   : 2.000   Min.   :0.000  \n",
        " 1st Qu.: 5.000   1st Qu.:1.000  \n",
        " Median : 7.000   Median :3.000  \n",
        " Mean   : 7.208   Mean   :3.075  \n",
        " 3rd Qu.: 9.000   3rd Qu.:5.000  \n",
        " Max.   :19.000   Max.   :8.000  \n",
        " NA's   :2        NA's   :2      \n"
       ]
      },
      {
       "metadata": {},
       "output_type": "display_data",
       "png": "[encoded data removed]"
      }
     ],
     "prompt_number": 314
    },
    {
     "cell_type": "code",
     "collapsed": false,
     "input": [
      "%%R\n",
      "\n",
      "cal_ind = which(baseball$CScore > 15)\n",
      "opp_ind = which(baseball$OScore > 11)\n",
      "\n",
      "cal_outliers = baseball[cal_ind, ]\n",
      "opp_outliers = baseball[opp_ind, ]\n",
      "\n",
      "print(cal_outliers)\n",
      "cat('\\n')\n",
      "print(opp_outliers)"
     ],
     "language": "python",
     "metadata": {},
     "outputs": [
      {
       "metadata": {},
       "output_type": "display_data",
       "text": [
        "   Opponent       Date Outcome     Town  State CScore OScore\n",
        "31 Stanford 2012-04-09       L Berkeley Calif.     19      6\n",
        "\n",
        "[1] Opponent Date     Outcome  Town     State    CScore   OScore  \n",
        "<0 rows> (or 0-length row.names)\n"
       ]
      }
     ],
     "prompt_number": 307
    },
    {
     "cell_type": "code",
     "collapsed": false,
     "input": [],
     "language": "python",
     "metadata": {},
     "outputs": [],
     "prompt_number": 307
    },
    {
     "cell_type": "code",
     "collapsed": false,
     "input": [],
     "language": "python",
     "metadata": {},
     "outputs": []
    }
   ],
   "metadata": {}
  }
 ]
}