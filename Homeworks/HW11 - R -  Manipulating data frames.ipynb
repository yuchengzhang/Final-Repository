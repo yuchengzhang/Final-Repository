{
 "metadata": {
  "name": ""
 },
 "nbformat": 3,
 "nbformat_minor": 0,
 "worksheets": [
  {
   "cells": [
    {
     "cell_type": "heading",
     "level": 1,
     "metadata": {},
     "source": [
      "Homework 11 - R - Manipulating data frames"
     ]
    },
    {
     "cell_type": "code",
     "collapsed": false,
     "input": [
      "%load_ext rmagic"
     ],
     "language": "python",
     "metadata": {
      "slideshow": {
       "slide_type": "fragment"
      }
     },
     "outputs": [],
     "prompt_number": 1
    },
    {
     "cell_type": "markdown",
     "metadata": {},
     "source": [
      "In this homework assignment, you'll learn how to simulate data in order to create the ideal data frame for analysis. \n",
      "\n",
      "I encourage you, for your class project, to simulate (in the <code>NB3_data_analysis.pynb</code> notebook) the ideal data frame on which you'll perform your analysis and visualizations.\n",
      "\n",
      "This way, the part of your team in charge of data analysis and visualization will be able to start the analysis, while the other part of the team, in charge of gathering and cleaning the data, is working on creating this ideal data frames from real data.\n",
      "\n",
      "One by-product of doing so is that you'll be able to see how the real data deviates from the simulated one, pointing you possibly to interesting features in the real data. "
     ]
    },
    {
     "cell_type": "heading",
     "level": 2,
     "metadata": {},
     "source": [
      "1. Simulating categorical variables"
     ]
    },
    {
     "cell_type": "heading",
     "level": 3,
     "metadata": {},
     "source": [
      "[The sample function](http://stat.ethz.ch/R-manual/R-devel/library/base/html/sample.html)"
     ]
    },
    {
     "cell_type": "markdown",
     "metadata": {},
     "source": [
      "The function  used to generate vector samples, which can be used to simulate variables. One invokes the function as follows\n",
      "\n",
      "    sample(X, size, prob, replace=True)\n",
      "    \n",
      "where\n",
      "\n",
      "* <code>X</code> is a vector of values to be chosen from\n",
      "* <code>size</code> is the number of observations we want\n",
      "* <code>prob</code> is a vector of probabilities specifying the probability of picking the corresponding value in the vector <code>x</code>\n",
      "* <code>replace</code> is a Boolean argument which doesn't matter right now "
     ]
    },
    {
     "cell_type": "markdown",
     "metadata": {},
     "source": [
      "**EXERCISE: Simulate a categorical variable <code>temp</code> with values \"Cold\", \"Warm\", \"Hot\" such that these values appear in the simulated vector with frequencies 0.2, 0.5, and 0.3 respectively. Display the first values of this variable:**"
     ]
    },
    {
     "cell_type": "code",
     "collapsed": false,
     "input": [
      "%%R\n",
      "\n",
      "temp = sample(c(\"Cold\", \"Warm\", \"Hot\"), size=10000, prob=c(0.2, 0.5, 0.3), replace=TRUE)\n",
      "\n",
      "print(head(temp))\n"
     ],
     "language": "python",
     "metadata": {},
     "outputs": [
      {
       "metadata": {},
       "output_type": "display_data",
       "text": [
        "[1] \"Warm\" \"Warm\" \"Hot\"  \"Hot\"  \"Cold\" \"Hot\" \n"
       ]
      }
     ],
     "prompt_number": 9
    },
    {
     "cell_type": "heading",
     "level": 3,
     "metadata": {},
     "source": [
      "[The table function](http://stat.ethz.ch/R-manual/R-devel/library/base/html/table.html)"
     ]
    },
    {
     "cell_type": "markdown",
     "metadata": {},
     "source": [
      "The function \n",
      "    \n",
      "    occ = table(X)\n",
      "takes a vector <code>X</code> and returns a data frame containing the number of occurences for each values in <code>X</code>. This function can be further combined with the function\n",
      "\n",
      "    prop.table(occ)\n",
      "    \n",
      "with will display a data frame with the **frequencies** instead of the number of **occurences**."
     ]
    },
    {
     "cell_type": "markdown",
     "metadata": {},
     "source": [
      "**EXERCISE: Display the occurence frequencies of 'Cold', 'Warm', and 'Hot' in <code>temp</code> and verify that they correspond to the value you speficy in the <code>prob</code> argument of <code>sample</code>**"
     ]
    },
    {
     "cell_type": "code",
     "collapsed": false,
     "input": [
      "%%R\n",
      "\n",
      "occ = table(temp)\n",
      "freq = prop.table(occ)\n",
      "\n",
      "print(freq)"
     ],
     "language": "python",
     "metadata": {},
     "outputs": [
      {
       "metadata": {},
       "output_type": "display_data",
       "text": [
        "temp\n",
        "  Cold    Hot   Warm \n",
        "0.2042 0.3010 0.4948 \n"
       ]
      }
     ],
     "prompt_number": 20
    },
    {
     "cell_type": "heading",
     "level": 3,
     "metadata": {},
     "source": [
      "[The barplot function](http://stat.ethz.ch/R-manual/R-devel/library/graphics/html/barplot.html)"
     ]
    },
    {
     "cell_type": "markdown",
     "metadata": {},
     "source": [
      "The function \n",
      "\n",
      "    barplot(X, main='a title')\n",
      "will plot the values contained in the variable <code>X</code> as vertical bars an use the labels of the elements in <code>X</code> as legend. The plot title can be specified through the <code>main</code>, present for most of the R plotting functions."
     ]
    },
    {
     "cell_type": "markdown",
     "metadata": {},
     "source": [
      "**EXERCISE: Display a barplot of the occurence frequencies of 'Cold', 'Warm', and 'Hot' in <code>temp</code> and use \"Temp frequencies\" as title for your plot:**"
     ]
    },
    {
     "cell_type": "code",
     "collapsed": false,
     "input": [
      "%%R\n",
      "\n",
      "barplot(freq, main=\"Temp Frequencies\")"
     ],
     "language": "python",
     "metadata": {},
     "outputs": [
      {
       "metadata": {},
       "output_type": "display_data",
       "png": "[encoded data removed]"
      }
     ],
     "prompt_number": 21
    },
    {
     "cell_type": "heading",
     "level": 3,
     "metadata": {},
     "source": [
      "[The factor class](http://stat.ethz.ch/R-manual/R-devel/library/base/html/factor.html)"
     ]
    },
    {
     "cell_type": "markdown",
     "metadata": {},
     "source": [
      "The class <code>factor</code> also described [here](http://www.stat.berkeley.edu/classes/s133/factors.html) is used in R to represent **categorical variables**. The class constructor\n",
      "\n",
      "    factor(X, levels=values, ordered=TRUE)\n",
      "    \n",
      "takes \n",
      "\n",
      "* a vector <code>X</code> containing the **values** of our categorical variable\n",
      "\n",
      "* a vector <code>levels</code> containing the **category names**\n",
      "\n",
      "* a Boolean argument <code>ordered</code> specifying whether the **categories** are **ordered or not** (e.g. 'Cold', 'Warm', and 'Hot' are ordered, but 'Male' and 'Female' are not)\n",
      "\n",
      "and returns a **factor** representing the categorical variable. \n",
      "\n",
      "**EXERCISE: Create an ordered categorical variable <code>T</code> out of the character vector <code>Temp</code>. Then display a barplot of the number of occurences of \"Cold\", \"Warm\", and \"Hot\".**\n",
      "\n",
      "**Remark:** You'll observe that the barplot preserves the order in which you specify the category names in the <code>levels</code> argument of the <code>factor</code> constructor."
     ]
    },
    {
     "cell_type": "code",
     "collapsed": false,
     "input": [
      "%%R\n",
      "\n",
      "T = factor(temp, levels=c(\"Cold\", \"Warm\", \"Hot\"), ordered=TRUE)\n",
      "\n",
      "some = summary(T)\n",
      "barplot(some, main=\"Temp Frequencies\")"
     ],
     "language": "python",
     "metadata": {},
     "outputs": [
      {
       "metadata": {},
       "output_type": "display_data",
       "png": "[encoded data removed]"
      }
     ],
     "prompt_number": 35
    },
    {
     "cell_type": "heading",
     "level": 3,
     "metadata": {},
     "source": [
      "[The paste function](http://stat.ethz.ch/R-manual/R-devel/library/base/html/paste.html)"
     ]
    },
    {
     "cell_type": "markdown",
     "metadata": {},
     "source": [
      "Simulating a data frame will most probably involve **generating character vectors for row or column names**. For that task, use the function\n",
      "\n",
      "    paste(v1, v2, v3, etc., sep='_')\n",
      "    \n",
      "that takes an argument <code>sep</code> containing the separator to use and a collection of vectors\n",
      "\n",
      "$$v_1 = (a,\\, b,\\, c, \\dots), \\quad v_2 = (x,\\, y,\\, z,\\dots),\\quad v_3 = (k,\\, l,\\, m,\\dots)$$\n",
      "\n",
      "and returns the _**element-wise concatenated character vector**_\n",
      "\n",
      "\n",
      "$$\\Big(\\textrm{'a_x_k'},\\, \\textrm{'b_y_l'},\\, \\textrm{'c_z_m'}, \\dots\\Big).$$\n",
      "\n",
      "\n",
      "**RECYCLING:** If the vectors $v_1, v_2,$ and $v_3$ are not of the same size, the vectors of smallest lenght will be **recycled** into vectors length equal to the maximal length by repeating the elements in a cycle. For instance:\n",
      "Before concatenation of the two vectors\n",
      "     \n",
      "     (1, 2, 3, 4, 5)\n",
      "     (x, y)\n",
      "<code>paste</code> will first recycle the smallest vector and then preform an element-wise concatenation of the vectors     \n",
      "    \n",
      "     (1, 2, 3, 4, 5)\n",
      "     (x, y, x, y, x)\n",
      "resulting into the vector\n",
      "\n",
      "    ('1_x', '2_y', '3_y', '4_y', 'x_5')\n",
      "in case the separator was chosen to be '_'."
     ]
    },
    {
     "cell_type": "markdown",
     "metadata": {},
     "source": [
      "**EXERCISE: Construct a character vector of 100 elements of the form \"Student 1\", \"Student 2\", ..., \"Student 100\" and display the last entries**\n",
      "\n",
      "**Hint:** Recall that <code>n:m</code> generates a integer vector containing the integer from <code>n</code> to <code>m</code>."
     ]
    },
    {
     "cell_type": "code",
     "collapsed": false,
     "input": [
      "%%R\n",
      "\n",
      "student = paste(\"Student\", 1:100, sep=' ')\n",
      "print(head(student))"
     ],
     "language": "python",
     "metadata": {},
     "outputs": [
      {
       "metadata": {},
       "output_type": "display_data",
       "text": [
        "[1] \"Student 1\" \"Student 2\" \"Student 3\" \"Student 4\" \"Student 5\" \"Student 6\"\n"
       ]
      }
     ],
     "prompt_number": 38
    },
    {
     "cell_type": "heading",
     "level": 3,
     "metadata": {},
     "source": [
      "The built-in vectors <code>letters</code> and <code>LETTERS</code>"
     ]
    },
    {
     "cell_type": "markdown",
     "metadata": {},
     "source": [
      "R has two convenient built-in character vectors\n",
      "\n",
      "    letters\n",
      "    LETTERS\n",
      "containing the alphabet letters in lower-case for the former and in upper-case for the later. \n",
      "\n",
      "One can use them to generate dummy names."
     ]
    },
    {
     "cell_type": "markdown",
     "metadata": {},
     "source": [
      "**EXERCISE: Using paste, construct a character vector <code>letter_order</code> containing the strings** \n",
      "\n",
      "    \"A -> letter 1\"\n",
      "    \"B -> letter 2\"\n",
      "    ...\n",
      "    \"Z -> letter 26\".\n",
      "\n",
      "**Then create a character vector <code>voyels</code> containing only the voyels and a character vector <code>consonants</code> containing only the consonants.**"
     ]
    },
    {
     "cell_type": "code",
     "collapsed": false,
     "input": [
      "%%R\n",
      "\n",
      "letter_order = paste(LETTERS, 1:26, sep=' -> letter ')\n",
      "print(letter_order)\n",
      "\n",
      "vowels = c(\"A\", \"E\", \"I\", \"O\", \"U\")\n",
      "print(vowels)\n",
      "\n",
      "consonants = LETTERS[which(LETTERS != vowels)]\n",
      "print(consonants)\n"
     ],
     "language": "python",
     "metadata": {},
     "outputs": [
      {
       "metadata": {},
       "output_type": "display_data",
       "text": [
        " [1] \"A -> letter 1\"  \"B -> letter 2\"  \"C -> letter 3\"  \"D -> letter 4\" \n",
        " [5] \"E -> letter 5\"  \"F -> letter 6\"  \"G -> letter 7\"  \"H -> letter 8\" \n",
        " [9] \"I -> letter 9\"  \"J -> letter 10\" \"K -> letter 11\" \"L -> letter 12\"\n",
        "[13] \"M -> letter 13\" \"N -> letter 14\" \"O -> letter 15\" \"P -> letter 16\"\n",
        "[17] \"Q -> letter 17\" \"R -> letter 18\" \"S -> letter 19\" \"T -> letter 20\"\n",
        "[21] \"U -> letter 21\" \"V -> letter 22\" \"W -> letter 23\" \"X -> letter 24\"\n",
        "[25] \"Y -> letter 25\" \"Z -> letter 26\"\n",
        "[1] \"A\" \"E\" \"I\" \"O\" \"U\"\n",
        " [1] \"B\" \"C\" \"D\" \"E\" \"F\" \"G\" \"H\" \"I\" \"J\" \"K\" \"L\" \"M\" \"N\" \"O\" \"P\" \"Q\" \"R\" \"S\" \"T\"\n",
        "[20] \"U\" \"V\" \"W\" \"X\" \"Y\" \"Z\"\n"
       ]
      }
     ],
     "prompt_number": 50
    },
    {
     "cell_type": "markdown",
     "metadata": {},
     "source": [
      "**EXERCISE (harder): Write a function <code>create.names(n)</code> that takes a positive integer $n$ and returns a character vector with $n$ randomly generated names of form CVV where C stands for a consonant and V for a voyel, as in for instance, \"GEU\", HAE\", \"ZOA\", etc. \n",
      "Then use this function to create a list of 1000 randomly generated names of the form**\n",
      "\n",
      "    \"CAA KEU GUU\"\n",
      "    \"NEU DOA ZUA\"\n",
      "    \"LAI VEU ZUI\"\n",
      "    etc.\n",
      "\n",
      "**Hint: For this exercise, you'll need to use both <code>sample</code> and <code>paste</code>.**"
     ]
    },
    {
     "cell_type": "code",
     "collapsed": false,
     "input": [
      "%%R\n",
      "\n",
      "create.names = function(n){\n",
      "    \n",
      "    first = sample(consonants, n, replace=TRUE)\n",
      "    second = sample(vowels, n, replace=TRUE)\n",
      "    third = sample(vowels, n, replace=TRUE)\n",
      "    return(paste(first, second, third, sep=''))\n",
      "    }\n",
      "\n",
      "first = create.names(1000)\n",
      "middle = create.names(1000)\n",
      "last = create.names(1000)\n",
      "\n",
      "sim_names = paste(first, middle, last, sep=' ')\n",
      "\n",
      "write.csv(file=\"names.csv\", x=names, row.names=FALSE)"
     ],
     "language": "python",
     "metadata": {},
     "outputs": [],
     "prompt_number": 74
    },
    {
     "cell_type": "markdown",
     "metadata": {},
     "source": [
      "**Exercise: Create a data frame containing 1000 simulated observation about a population of individual with columns**\n",
      "\n",
      "    name country sex occupation\n",
      "    \n",
      "**where you'll simulate the names using the <code>create.names</code> function of the previous exercise (or, in case you didn't succeed in implementing this function, just forget about this column). Here are the values you'll use for the three categorical variables above:**\n",
      "\n",
      "    country values: 'US', 'Italy', 'France', 'Brazil', 'China', 'Japan', 'Bolivia', 'Canada', 'Australia'\n",
      "    sex values: 'M', 'F'\n",
      "    occupation: 'Programmer', 'Teacher', 'CEO', 'Manager', 'Researcher', 'Unemployed', 'Lawyer', 'Student'\n",
      "\n",
      "**Once done write this data in your working directory using <code>write.csv</code>.**\n",
      "\n",
      "\n",
      "    \n",
      "\n",
      "    "
     ]
    },
    {
     "cell_type": "code",
     "collapsed": false,
     "input": [
      "%%R\n",
      "\n",
      "countries = c('US', 'Italy', 'France', 'Brazil', 'China', 'Japan', 'Bolivia', 'Canada', 'Australia')\n",
      "sex = c('M', 'F')\n",
      "occupations = c('Programmer', 'Teacher', 'CEO', 'Manager', 'Researcher', 'Unemployed', 'Lawyer', 'Student')\n",
      "\n",
      "sim_country = sample(countries, 1000, replace=TRUE)\n",
      "sim_sex = sample(sex, 1000, replace=TRUE)\n",
      "sim_occupation = sample(occupations, 1000, replace=TRUE)\n",
      "\n",
      "\n",
      "sim_lives = data.frame(sim_names, sim_country, sim_sex, sim_occupation)\n",
      "\n",
      "colnames(sim_lives) = c(\"Name\", \"Country\", \"Sex\", \"Occupation\")\n",
      "\n",
      "print(head(sim_lives))"
     ],
     "language": "python",
     "metadata": {},
     "outputs": [
      {
       "metadata": {},
       "output_type": "display_data",
       "text": [
        "         Name   Country Sex Occupation\n",
        "1 NIO MIA JUA Australia   F Unemployed\n",
        "2 DIO UOE MAO    Canada   M    Manager\n",
        "3 QIA JIU HEE    Canada   F     Lawyer\n",
        "4 FEA WEI CAI    Brazil   M        CEO\n",
        "5 UEA EOI EUU        US   M Researcher\n",
        "6 QUI QUU SEA    France   F Unemployed\n"
       ]
      }
     ],
     "prompt_number": 75
    },
    {
     "cell_type": "code",
     "collapsed": false,
     "input": [
      "%%R\n",
      "\n",
      "write.csv(file=\"sim_lives.csv\", sim_lives, row.names=FALSE)"
     ],
     "language": "python",
     "metadata": {},
     "outputs": [],
     "prompt_number": 76
    },
    {
     "cell_type": "code",
     "collapsed": false,
     "input": [
      "%%R\n",
      "\n",
      "lives = read.csv(\"sim_lives.csv\")\n",
      "\n",
      "print(head(lives))"
     ],
     "language": "python",
     "metadata": {},
     "outputs": [
      {
       "metadata": {},
       "output_type": "display_data",
       "text": [
        "         Name   Country Sex Occupation\n",
        "1 NIO MIA JUA Australia   F Unemployed\n",
        "2 DIO UOE MAO    Canada   M    Manager\n",
        "3 QIA JIU HEE    Canada   F     Lawyer\n",
        "4 FEA WEI CAI    Brazil   M        CEO\n",
        "5 UEA EOI EUU        US   M Researcher\n",
        "6 QUI QUU SEA    France   F Unemployed\n"
       ]
      }
     ],
     "prompt_number": 78
    },
    {
     "cell_type": "heading",
     "level": 2,
     "metadata": {},
     "source": [
      "2. Simulating quantitative variables"
     ]
    },
    {
     "cell_type": "heading",
     "level": 3,
     "metadata": {},
     "source": [
      "[The rnorm function](http://stat.ethz.ch/R-manual/R-patched/library/stats/html/Normal.html)"
     ]
    },
    {
     "cell_type": "markdown",
     "metadata": {},
     "source": [
      "The function\n",
      "\n",
      "    rnorm(n, mean, sd)\n",
      "returns a numeric vector with $n$ real numbers **normally distributed** around <code>mean</code> and with standard deviation <code>sd</code>.\n",
      "\n",
      "This function is very useful to simulated quatitative variables. If the variable to be simulated, takes values only in a given range $[a,b]$, one can set the simulated values past the range to the range values:\n",
      "\n",
      "    X = rnorm(100, mean=50, sd=20)\n",
      "    X[X < a] = a\n",
      "    X[X > b] = b\n"
     ]
    },
    {
     "cell_type": "markdown",
     "metadata": {},
     "source": [
      "**EXERCISE: Write a function <code>create.grades(n, score.max)</code> that returns a numeric vector of $n$ grades between 0 and <code>score.max</code>. The mean (resp. standard deviation) of this vector should be a number between 40 and 70 (resp. 10 and 30) randomly generated each time the function is called. Generate a few grade samples and display their histogram to make sure that your function works**\n",
      "\n",
      "**Hint:** To simplify chose the mean and standard deviation to be natural numbers that you'll obtain using the <code>sample</code> function. "
     ]
    },
    {
     "cell_type": "code",
     "collapsed": false,
     "input": [
      "%%R\n",
      "\n",
      "create.grades = function(n, score.max){\n",
      "                         mean = sample(40:70, 1)\n",
      "                         SD = sample(10:30, 1)\n",
      "                         grades = rnorm(n, mean=mean, sd=SD)\n",
      "                         grades[grades < 0] = 0\n",
      "                         grades[grades > score.max] = score.max\n",
      "                         return(grades)\n",
      "                         }\n",
      "\n",
      "sim_grades = create.grades(10000, 100)\n",
      "hist(sim_grades)"
     ],
     "language": "python",
     "metadata": {},
     "outputs": [
      {
       "metadata": {},
       "output_type": "display_data",
       "png": "[encoded data removed]"
      }
     ],
     "prompt_number": 84
    },
    {
     "cell_type": "heading",
     "level": 3,
     "metadata": {},
     "source": [
      "[The function runif](http://stat.ethz.ch/R-manual/R-devel/library/stats/html/Uniform.html)"
     ]
    },
    {
     "cell_type": "markdown",
     "metadata": {},
     "source": [
      "The function \n",
      "\n",
      "    runif(n, min, max)\n",
      "return a numeric vector of $n$ real numbers **uniformally choosen** between <code>min</code> and <code>max</code>.\n",
      "\n",
      "This function is very useful to generated random numbers in a certain range. "
     ]
    },
    {
     "cell_type": "markdown",
     "metadata": {},
     "source": [
      "**EXERCISE: Write a function <code>create.categories(n, categ)</code> that returns a character vector with $n$ values taken from the categories specified in the character vector argument <code>categ</code>. The frequencies in which each of the categories in <code>categ</code> appears should be at each call of the function created randomly.**\n",
      "\n",
      "**Hint:** Write a _helper_ function <code>create.prob(n)</code> that returns a probability vector of length $n$ (i.e. the numbers in this vector should be between 0 and 1, and add up to 1). The function <code>diff</code> that returns the vector of differences of a given vector can be useful here."
     ]
    },
    {
     "cell_type": "code",
     "collapsed": false,
     "input": [
      "%%R\n",
      "\n",
      "create.prob = function(n){\n",
      "                         cuts = sort(c(0, runif(n-1, 0, 1), 1))\n",
      "                         probs = diff(cuts)\n",
      "                         return(probs)}\n",
      "\n",
      "create.categories = function(n, categ){\n",
      "                             probs = create.prob(length(categ))\n",
      "                             rVec = sample(categ, size=n, prob=probs, replace=TRUE)\n",
      "                             return(rVec)\n",
      "                             }\n",
      "\n",
      "p = create.prob(100)\n",
      "print(sum(p))"
     ],
     "language": "python",
     "metadata": {},
     "outputs": [
      {
       "metadata": {},
       "output_type": "display_data",
       "text": [
        "[1] 1\n"
       ]
      }
     ],
     "prompt_number": 97
    },
    {
     "cell_type": "markdown",
     "metadata": {},
     "source": [
      "**EXERCISE: Create a simulated data frame <code>grades</code> containing the midterm, final, and homework grades of 200 students with names simulated using the <code>create.names</code> function your wrote previously. You'll add a column containing simulated values for the student majors (STAT, MATH, ECON, BIOL) and the student sections (s001, s002, s003).**"
     ]
    },
    {
     "cell_type": "code",
     "collapsed": false,
     "input": [
      "%%R\n",
      "\n",
      "sim_names = paste(create.names(200), create.names(200), create.names(200), sep=' ')\n",
      "midterm = create.grades(200, 100)\n",
      "final = create.grades(200, 120)\n",
      "homework = create.grades(200, 80)\n",
      "sim_majors = create.categories(200, c('STAT', 'MATH', 'ECON', 'BIOL'))\n",
      "sections = create.categories(200, c('s001', 's002', 's003'))"
     ],
     "language": "python",
     "metadata": {},
     "outputs": [],
     "prompt_number": 102
    },
    {
     "cell_type": "code",
     "collapsed": false,
     "input": [
      "%%R\n",
      "\n",
      "grade_frame = data.frame(name=sim_names, midterm=midterm, final=final, homework=homework, major=sim_majors, section=sections)\n",
      "\n",
      "print(head(grade_frame))"
     ],
     "language": "python",
     "metadata": {},
     "outputs": [
      {
       "metadata": {},
       "output_type": "display_data",
       "text": [
        "         name  midterm    final homework major section\n",
        "1 RUA PIO DIU 45.36497 51.94968 22.58955  STAT    s001\n",
        "2 WII GIU FOU 51.32361 56.13208 53.85220  STAT    s003\n",
        "3 JEE LOA COE 56.07529 66.02628 35.39798  STAT    s003\n",
        "4 OOA MAU YEI 31.82639 45.53920 26.18149  BIOL    s003\n",
        "5 EOI CUU GOO 48.38659 31.13423 64.56298  STAT    s003\n",
        "6 HAE JEU SUE 39.43974 53.85497 27.62986  STAT    s003\n"
       ]
      }
     ],
     "prompt_number": 108
    },
    {
     "cell_type": "code",
     "collapsed": false,
     "input": [
      "%%R\n",
      "\n",
      "write.csv(file='sim_grades.csv', x=grade_frame, row.names=FALSE)"
     ],
     "language": "python",
     "metadata": {},
     "outputs": [],
     "prompt_number": 109
    },
    {
     "cell_type": "code",
     "collapsed": false,
     "input": [
      "%%R\n",
      "\n",
      "grade = read.csv('sim_grades.csv')\n",
      "\n",
      "print(head(grade))"
     ],
     "language": "python",
     "metadata": {},
     "outputs": [
      {
       "metadata": {},
       "output_type": "display_data",
       "text": [
        "         name  midterm    final homework major section\n",
        "1 RUA PIO DIU 45.36497 51.94968 22.58955  STAT    s001\n",
        "2 WII GIU FOU 51.32361 56.13208 53.85220  STAT    s003\n",
        "3 JEE LOA COE 56.07529 66.02628 35.39798  STAT    s003\n",
        "4 OOA MAU YEI 31.82639 45.53920 26.18149  BIOL    s003\n",
        "5 EOI CUU GOO 48.38659 31.13423 64.56298  STAT    s003\n",
        "6 HAE JEU SUE 39.43974 53.85497 27.62986  STAT    s003\n"
       ]
      }
     ],
     "prompt_number": 111
    },
    {
     "cell_type": "code",
     "collapsed": false,
     "input": [],
     "language": "python",
     "metadata": {},
     "outputs": [],
     "prompt_number": 111
    },
    {
     "cell_type": "code",
     "collapsed": false,
     "input": [],
     "language": "python",
     "metadata": {},
     "outputs": []
    }
   ],
   "metadata": {}
  }
 ]
}