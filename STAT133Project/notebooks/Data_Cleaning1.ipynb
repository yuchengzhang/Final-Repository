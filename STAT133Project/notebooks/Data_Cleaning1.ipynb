{
 "metadata": {
  "name": ""
 },
 "nbformat": 3,
 "nbformat_minor": 0,
 "worksheets": [
  {
   "cells": [
    {
     "cell_type": "markdown",
     "metadata": {},
     "source": [
      "In this notebook, you'll\n",
      "\n",
      "* **load the raw data into R or Pandas dataframe** from the <code>./data/raw</code> directory using the functions and classes (written during the data gathering phase) in the <code>./script</code> directory\n",
      "\n",
      "\n",
      "* **perform visual exploration** on your data variables to detect anomalies, errors, outliers, interesting features etc.\n",
      "\n",
      "\n",
      "\n",
      "* **clean categorical and quantitative variables** (by removing observations and variables with too many missing values, by consolidating categorical variables, by selecting an appropriate subset of variables and observations for later analysis, etc.)\n",
      "\n",
      "\n",
      "* **save the cleaned data** into csv files in the <code>./data/cleaned</code> directory\n",
      "\n",
      "\n",
      "* **save interesting graphics** you obtained during visual exploration into the <code>./visualiation</code> directory"
     ]
    },
    {
     "cell_type": "markdown",
     "metadata": {},
     "source": [
      "##Team members responsible for this notebook:\n",
      "\n",
      "List the team members contributing to this notebook, along with their responsabilities:\n",
      "\n",
      "* team member 1 **Yucheng Zhang**: team member 1 **removed rows without gene names, averaged duplicate rows, reindexed so that row names are gene names, then saved as a csv file**\n",
      "\n",
      "\n",
      "\n",
      "I advise you to work at least in pairs for each project notebook, as you did for the homework assignments. Of course, all team members may participate to each notebook. "
     ]
    },
    {
     "cell_type": "heading",
     "level": 2,
     "metadata": {},
     "source": [
      "Example"
     ]
    },
    {
     "cell_type": "markdown",
     "metadata": {},
     "source": [
      "Here I'll load the plant data in xml format into a R data frame using the \n",
      "\n",
      "    create_df_from_plant_xml(file)\n",
      "    \n",
      "function contained in the R script \n",
      "\n",
      "        ./script/plant_df-R"
     ]
    },
    {
     "cell_type": "code",
     "collapsed": false,
     "input": [
      "%load_ext rmagic"
     ],
     "language": "python",
     "metadata": {},
     "outputs": [
      {
       "output_type": "stream",
       "stream": "stdout",
       "text": [
        "The rmagic extension is already loaded. To reload it, use:\n",
        "  %reload_ext rmagic\n"
       ]
      }
     ],
     "prompt_number": 4
    },
    {
     "cell_type": "markdown",
     "metadata": {},
     "source": [
      "To load the function into a R cell, one needs to use the\n",
      "\n",
      "    source(R_script_file)\n",
      "command in R, which works in a similar way as the \n",
      "\n",
      "    import module\n",
      "command in Python:"
     ]
    },
    {
     "cell_type": "code",
     "collapsed": false,
     "input": [
      "%%R \n",
      "\n",
      "source('./script/plant_df-R')"
     ],
     "language": "python",
     "metadata": {},
     "outputs": [],
     "prompt_number": 5
    },
    {
     "cell_type": "markdown",
     "metadata": {},
     "source": [
      "Now, we can create a data frame directly from the XML file using the functin contained in the scrip above.\n",
      "\n",
      "If you wish to perform the cleaning using Pandas data frames instead of R data frames, one make the R data frame available to Python cells by using the R magic command:\n",
      "\n",
      "    %%R -d df_name\n",
      "\n",
      "To know more on how to pass variables back and forth between R and Python cells, please have a look at the notebook [here](http://nbviewer.ipython.org/url/github.com/ipython/ipython/raw/master/examples/notebooks/R%20Magics.ipynb)."
     ]
    },
    {
     "cell_type": "code",
     "collapsed": false,
     "input": [
      "%%R -d data\n",
      "\n",
      "library(XML)\n",
      "\n",
      "data = create_df_from_plant_xml('./data/raw/plant.xml')\n"
     ],
     "language": "python",
     "metadata": {},
     "outputs": [],
     "prompt_number": 7
    },
    {
     "cell_type": "markdown",
     "metadata": {},
     "source": [
      "Now let's load our data into a Pandas data frame:"
     ]
    },
    {
     "cell_type": "code",
     "collapsed": false,
     "input": [
      "from pandas import DataFrame\n",
      "\n",
      "df = DataFrame(data)\n",
      "df.head()"
     ],
     "language": "python",
     "metadata": {},
     "outputs": [
      {
       "html": [
        "<div style=\"max-height:1000px;max-width:1500px;overflow:auto;\">\n",
        "<table border=\"1\" class=\"dataframe\">\n",
        "  <thead>\n",
        "    <tr style=\"text-align: right;\">\n",
        "      <th></th>\n",
        "      <th>COMMON</th>\n",
        "      <th>BOTANICAL</th>\n",
        "      <th>ZONE</th>\n",
        "      <th>LIGHT</th>\n",
        "      <th>PRICE</th>\n",
        "      <th>AVAILABILITY</th>\n",
        "    </tr>\n",
        "  </thead>\n",
        "  <tbody>\n",
        "    <tr>\n",
        "      <th>0</th>\n",
        "      <td>           Bloodroot</td>\n",
        "      <td> Sanguinaria canadensis</td>\n",
        "      <td> 4</td>\n",
        "      <td> Mostly Shady</td>\n",
        "      <td> $2.44</td>\n",
        "      <td> 031599</td>\n",
        "    </tr>\n",
        "    <tr>\n",
        "      <th>1</th>\n",
        "      <td>           Columbine</td>\n",
        "      <td>   Aquilegia canadensis</td>\n",
        "      <td> 3</td>\n",
        "      <td> Mostly Shady</td>\n",
        "      <td> $9.37</td>\n",
        "      <td> 030699</td>\n",
        "    </tr>\n",
        "    <tr>\n",
        "      <th>2</th>\n",
        "      <td>      Marsh Marigold</td>\n",
        "      <td>       Caltha palustris</td>\n",
        "      <td> 4</td>\n",
        "      <td> Mostly Sunny</td>\n",
        "      <td> $6.81</td>\n",
        "      <td> 051799</td>\n",
        "    </tr>\n",
        "    <tr>\n",
        "      <th>3</th>\n",
        "      <td>             Cowslip</td>\n",
        "      <td>       Caltha palustris</td>\n",
        "      <td> 4</td>\n",
        "      <td> Mostly Shady</td>\n",
        "      <td> $9.90</td>\n",
        "      <td> 030699</td>\n",
        "    </tr>\n",
        "    <tr>\n",
        "      <th>4</th>\n",
        "      <td> Dutchman's-Breeches</td>\n",
        "      <td>    Dicentra cucullaria</td>\n",
        "      <td> 3</td>\n",
        "      <td> Mostly Shady</td>\n",
        "      <td> $6.44</td>\n",
        "      <td> 012099</td>\n",
        "    </tr>\n",
        "  </tbody>\n",
        "</table>\n",
        "</div>"
       ],
       "metadata": {},
       "output_type": "pyout",
       "prompt_number": 8,
       "text": [
        "                COMMON               BOTANICAL ZONE         LIGHT  PRICE AVAILABILITY\n",
        "0            Bloodroot  Sanguinaria canadensis    4  Mostly Shady  $2.44       031599\n",
        "1            Columbine    Aquilegia canadensis    3  Mostly Shady  $9.37       030699\n",
        "2       Marsh Marigold        Caltha palustris    4  Mostly Sunny  $6.81       051799\n",
        "3              Cowslip        Caltha palustris    4  Mostly Shady  $9.90       030699\n",
        "4  Dutchman's-Breeches     Dicentra cucullaria    3  Mostly Shady  $6.44       012099"
       ]
      }
     ],
     "prompt_number": 8
    },
    {
     "cell_type": "markdown",
     "metadata": {},
     "source": [
      "The actual data cleaning can now begins!"
     ]
    },
    {
     "cell_type": "heading",
     "level": 2,
     "metadata": {},
     "source": [
      "Data Cleaning\n"
     ]
    },
    {
     "cell_type": "code",
     "collapsed": false,
     "input": [
      "%load_ext rmagic"
     ],
     "language": "python",
     "metadata": {},
     "outputs": [
      {
       "output_type": "stream",
       "stream": "stdout",
       "text": [
        "The rmagic extension is already loaded. To reload it, use:\n",
        "  %reload_ext rmagic\n"
       ]
      }
     ],
     "prompt_number": 28
    },
    {
     "cell_type": "markdown",
     "metadata": {},
     "source": [
      "Getting a feel for the data by looking at the structure of the dataframe. The end goal is to have the columns be the 76 subjects of the study, and unique genes as row names. "
     ]
    },
    {
     "cell_type": "code",
     "collapsed": false,
     "input": [
      "%%R\n",
      "\n",
      "\n",
      "bio_data = read.csv('~/Desktop/src/TCFSProject/data/raw/MedulloBlastomaData.csv', header = TRUE, stringsAsFactors=FALSE)\n",
      "print(head(bio_data))"
     ],
     "language": "python",
     "metadata": {},
     "outputs": [
      {
       "metadata": {},
       "output_type": "display_data",
       "text": [
        "     ID_REF IDENTIFIER GSM918603 GSM918641 GSM918580 GSM918593 GSM918625\n",
        "1 1007_s_at       DDR1   6.76088   7.64798   7.60080   7.72551   7.16511\n",
        "2   1053_at       RFC2   6.73530   6.20294   5.97406   6.62420   6.16395\n",
        "3    117_at      HSPA6   4.32546   4.46130   5.36270   4.85359   5.05752\n",
        "4    121_at       PAX8   5.80061   5.31861   5.78598   5.92265   5.44199\n",
        "5 1255_g_at     GUCA1A   3.21487   3.21888   3.32863   3.77963   4.30136\n",
        "6   1294_at       UBA7   5.06890   5.55180   6.13340   4.88658   4.86445\n",
        "  GSM918638 GSM918642 GSM918643 GSM918619 GSM918621 GSM918582 GSM918649\n",
        "1   6.79950   6.91909   6.64144   7.93787   7.46043   7.54550   7.46691\n",
        "2   6.44857   6.60232   6.55365   6.50772   6.48234   6.17877   6.05819\n",
        "3   3.61092   4.13035   4.30676   4.58802   5.21385   5.79088   4.56331\n",
        "4   5.77269   5.80814   5.41120   5.59248   5.85993   6.21800   5.99396\n",
        "5   3.71357   3.71601   5.01396   4.02535   3.53223   4.61413   4.59915\n",
        "6   5.16536   4.95018   4.66815   5.46764   5.34996   5.67710   5.82275\n",
        "  GSM918651 GSM918607 GSM918609 GSM918608 GSM918606 GSM918620 GSM918628\n",
        "1   7.75074   6.87760   7.77674   6.94534   7.67359   7.46250   9.29046\n",
        "2   6.54161   6.37707   6.77696   6.31536   6.10099   6.17337   5.42319\n",
        "3   4.16356   4.79744   4.71492   4.72562   4.45318   4.44500   6.16563\n",
        "4   6.11545   6.02320   5.79788   5.61568   5.79636   5.79271   6.18683\n",
        "5   4.04480   3.48738   4.58497   3.24649   3.96272   4.33860   3.90399\n",
        "6   5.55412   5.92532   5.62690   5.56643   5.56414   5.35753   7.06527\n",
        "  GSM918586 GSM918594 GSM918600 GSM918601 GSM918612 GSM918614 GSM918629\n",
        "1   7.79235   6.89942   6.17066   7.30250   7.28756   6.78060   6.71998\n",
        "2   6.57953   6.59687   6.69010   6.35819   6.73459   6.83098   7.31342\n",
        "3   4.90750   4.83390   5.28523   4.15418   5.10169   4.94947   4.41763\n",
        "4   6.21241   6.01859   5.89495   5.74652   5.90536   5.78044   5.66677\n",
        "5   3.15274   4.61611   3.61631   5.14691   6.03763   5.41566   3.92197\n",
        "6   5.47269   5.13815   5.33417   4.80729   5.25227   4.42004   5.10957\n",
        "  GSM918587 GSM918588 GSM918589 GSM918611 GSM918624 GSM918637 GSM918639\n",
        "1   8.26003   7.33289   7.12898   7.72771   7.56076   6.94235   7.40889\n",
        "2   7.08087   6.64275   6.01200   6.20436   6.79593   6.02562   6.56456\n",
        "3   5.77362   6.09807   4.79496   4.41522   5.18347   4.53045   5.07330\n",
        "4   6.28283   6.11036   5.91862   6.06146   5.37851   5.36971   5.89743\n",
        "5   3.40453   4.48300   6.73673   6.07993   5.07829   4.33205   5.86873\n",
        "6   6.11080   5.41699   4.93303   4.94164   4.98907   5.04665   5.06638\n",
        "  GSM918640 GSM918636 GSM918590 GSM918610 GSM918615 GSM918616 GSM918632\n",
        "1   6.75624   7.53652   7.68327   7.22052   7.76798   6.94042   6.74205\n",
        "2   6.33541   6.33700   5.88249   6.27023   6.52986   6.28395   6.29101\n",
        "3   3.99268   3.50856   4.82270   3.81110   5.87409   4.60817   3.60005\n",
        "4   5.58086   5.86221   5.73269   5.82452   6.07626   6.02611   5.21058\n",
        "5   5.46806   6.17607   3.78191   3.37759   4.38328   4.95371   5.30827\n",
        "6   5.38220   4.70320   5.56260   5.01993   5.00797   5.05433   5.29531\n",
        "  GSM918647 GSM918578 GSM918579 GSM918581 GSM918584 GSM918591 GSM918592\n",
        "1   7.64979   7.59594   7.80665   7.40141   7.99686   7.45720   7.56221\n",
        "2   6.60678   6.14440   6.19154   5.90781   6.88336   6.57758   5.84122\n",
        "3   3.61362   4.82431   5.24439   4.80566   4.53582   3.48431   4.93807\n",
        "4   5.86164   5.67092   5.62149   5.97838   5.76988   5.84644   5.82777\n",
        "5   4.25986   4.14155   3.41773   4.21804   3.53515   3.97029   3.44362\n",
        "6   5.70511   5.48935   5.70478   5.43677   5.55102   4.99991   5.57215\n",
        "  GSM918597 GSM918598 GSM918599 GSM918604 GSM918605 GSM918613 GSM918623\n",
        "1   6.84705   6.98878   7.34769   7.48184   7.67020   7.65809   7.17832\n",
        "2   6.32131   6.13794   6.11699   6.58369   6.27495   6.95978   5.87493\n",
        "3   4.28772   4.46706   3.51750   4.78415   4.86522   4.72028   5.14283\n",
        "4   5.93039   5.95012   5.68731   5.96743   5.74236   5.38816   5.28015\n",
        "5   4.06732   3.97594   5.74268   4.56017   4.67189   4.78248   4.16976\n",
        "6   5.35470   5.76707   5.42978   5.17615   5.13756   5.26786   5.15213\n",
        "  GSM918626 GSM918627 GSM918633 GSM918634 GSM918635 GSM918645 GSM918646\n",
        "1   7.38790   7.02438   7.07369   7.28592   6.94630   7.80503   7.75130\n",
        "2   6.29674   6.14804   7.04882   6.53161   6.22496   6.61767   6.37264\n",
        "3   5.25854   4.74145   3.91601   4.42245   4.99991   4.49870   3.31782\n",
        "4   5.17953   5.87549   5.78628   5.41254   5.22036   5.66087   5.98015\n",
        "5   7.48099   4.99315   4.34510   4.61809   3.46261   4.65205   5.87465\n",
        "6   5.99147   5.28219   5.06386   5.06449   4.76217   4.97673   5.42803\n",
        "  GSM918648 GSM918650 GSM918652 GSM918653 GSM918622 GSM918583 GSM918585\n",
        "1   7.33080   7.50064   7.66767   7.75773   6.38604   7.60310   7.82520\n",
        "2   5.76676   6.38873   6.60611   6.89315   6.60841   6.05279   6.28301\n",
        "3   4.06732   4.13677   4.42963   3.75654   4.25561   4.05178   4.76303\n",
        "4   5.93859   5.98419   5.43677   6.09086   5.77113   5.59953   5.27811\n",
        "5   3.91202   4.17285   4.93087   3.67630   5.26165   3.65325   3.68387\n",
        "6   5.17728   4.11251   5.23218   5.92586   5.01396   5.15791   5.65249\n",
        "  GSM918595 GSM918596 GSM918602 GSM918617 GSM918630 GSM918631 GSM918618\n",
        "1   7.34923   7.69298   7.49109   7.12761   7.15618   7.43296   8.03226\n",
        "2   6.80128   6.38503   6.90635   6.00660   6.60678   5.92985   6.27363\n",
        "3   4.36310   5.04857   4.78332   4.80402   4.44030   3.60550   6.57368\n",
        "4   5.99246   5.66053   6.20577   5.83860   5.62329   5.23111   5.81771\n",
        "5   3.38439   3.71844   6.07810   4.06217   4.37198   3.21487   6.16374\n",
        "6   5.65913   5.75542   5.43066   5.60580   4.85203   5.07705   5.67915\n",
        "  GSM918644\n",
        "1   8.10259\n",
        "2   6.66300\n",
        "3   3.52930\n",
        "4   5.59546\n",
        "5   6.87078\n",
        "6   4.93159\n"
       ]
      }
     ],
     "prompt_number": 29
    },
    {
     "cell_type": "markdown",
     "metadata": {},
     "source": [
      "Figuring out if there are any missing values in the data."
     ]
    },
    {
     "cell_type": "code",
     "collapsed": false,
     "input": [
      "%%R\n",
      "\n",
      "print(sum(which(bio_data == NA)))"
     ],
     "language": "python",
     "metadata": {},
     "outputs": [
      {
       "metadata": {},
       "output_type": "display_data",
       "text": [
        "[1] 0\n"
       ]
      }
     ],
     "prompt_number": 30
    },
    {
     "cell_type": "markdown",
     "metadata": {},
     "source": [
      "Some row entries of the raw data don't have gene names. They either have #NAME?, a repeated ID_REF, or a date as their entry in the IDENTIFIER column, which is a column corresponding to gene names. Because we need gene names to run our analysis we removed all the rows that have #NAME?, a repeated ID_REF, or a date in the IDENTIFIER column.\n",
      "\n",
      "All gene names start with a capital letter, so we just set all entries in IDENTIFIER that didn't begin with a capital letter to #NAME?, and then removed all the rows that had #NAME? in the IDENTIFIER column."
     ]
    },
    {
     "cell_type": "code",
     "collapsed": false,
     "input": [
      "%%R\n",
      "\n",
      "gene_names = bio_data$IDENTIFIER\n",
      "\n",
      "for(thing in gene_names){\n",
      "    if(!(substr(thing, 1, 1) %in% LETTERS)){\n",
      "        gene_names[which(gene_names %in% thing)] = \"#NAME?\"}}"
     ],
     "language": "python",
     "metadata": {},
     "outputs": [],
     "prompt_number": 36
    },
    {
     "cell_type": "code",
     "collapsed": false,
     "input": [
      "%%R\n",
      "\n",
      "known_index = gene_names != \"#NAME?\"\n",
      "bio_data_known = bio_data[known_index, ]\n",
      "known_gene_names = bio_data_known$IDENTIFIER\n",
      "\n",
      "print(head(bio_data_known))"
     ],
     "language": "python",
     "metadata": {},
     "outputs": [
      {
       "metadata": {},
       "output_type": "display_data",
       "text": [
        "     ID_REF IDENTIFIER GSM918603 GSM918641 GSM918580 GSM918593 GSM918625\n",
        "1 1007_s_at       DDR1   6.76088   7.64798   7.60080   7.72551   7.16511\n",
        "2   1053_at       RFC2   6.73530   6.20294   5.97406   6.62420   6.16395\n",
        "3    117_at      HSPA6   4.32546   4.46130   5.36270   4.85359   5.05752\n",
        "4    121_at       PAX8   5.80061   5.31861   5.78598   5.92265   5.44199\n",
        "5 1255_g_at     GUCA1A   3.21487   3.21888   3.32863   3.77963   4.30136\n",
        "6   1294_at       UBA7   5.06890   5.55180   6.13340   4.88658   4.86445\n",
        "  GSM918638 GSM918642 GSM918643 GSM918619 GSM918621 GSM918582 GSM918649\n",
        "1   6.79950   6.91909   6.64144   7.93787   7.46043   7.54550   7.46691\n",
        "2   6.44857   6.60232   6.55365   6.50772   6.48234   6.17877   6.05819\n",
        "3   3.61092   4.13035   4.30676   4.58802   5.21385   5.79088   4.56331\n",
        "4   5.77269   5.80814   5.41120   5.59248   5.85993   6.21800   5.99396\n",
        "5   3.71357   3.71601   5.01396   4.02535   3.53223   4.61413   4.59915\n",
        "6   5.16536   4.95018   4.66815   5.46764   5.34996   5.67710   5.82275\n",
        "  GSM918651 GSM918607 GSM918609 GSM918608 GSM918606 GSM918620 GSM918628\n",
        "1   7.75074   6.87760   7.77674   6.94534   7.67359   7.46250   9.29046\n",
        "2   6.54161   6.37707   6.77696   6.31536   6.10099   6.17337   5.42319\n",
        "3   4.16356   4.79744   4.71492   4.72562   4.45318   4.44500   6.16563\n",
        "4   6.11545   6.02320   5.79788   5.61568   5.79636   5.79271   6.18683\n",
        "5   4.04480   3.48738   4.58497   3.24649   3.96272   4.33860   3.90399\n",
        "6   5.55412   5.92532   5.62690   5.56643   5.56414   5.35753   7.06527\n",
        "  GSM918586 GSM918594 GSM918600 GSM918601 GSM918612 GSM918614 GSM918629\n",
        "1   7.79235   6.89942   6.17066   7.30250   7.28756   6.78060   6.71998\n",
        "2   6.57953   6.59687   6.69010   6.35819   6.73459   6.83098   7.31342\n",
        "3   4.90750   4.83390   5.28523   4.15418   5.10169   4.94947   4.41763\n",
        "4   6.21241   6.01859   5.89495   5.74652   5.90536   5.78044   5.66677\n",
        "5   3.15274   4.61611   3.61631   5.14691   6.03763   5.41566   3.92197\n",
        "6   5.47269   5.13815   5.33417   4.80729   5.25227   4.42004   5.10957\n",
        "  GSM918587 GSM918588 GSM918589 GSM918611 GSM918624 GSM918637 GSM918639\n",
        "1   8.26003   7.33289   7.12898   7.72771   7.56076   6.94235   7.40889\n",
        "2   7.08087   6.64275   6.01200   6.20436   6.79593   6.02562   6.56456\n",
        "3   5.77362   6.09807   4.79496   4.41522   5.18347   4.53045   5.07330\n",
        "4   6.28283   6.11036   5.91862   6.06146   5.37851   5.36971   5.89743\n",
        "5   3.40453   4.48300   6.73673   6.07993   5.07829   4.33205   5.86873\n",
        "6   6.11080   5.41699   4.93303   4.94164   4.98907   5.04665   5.06638\n",
        "  GSM918640 GSM918636 GSM918590 GSM918610 GSM918615 GSM918616 GSM918632\n",
        "1   6.75624   7.53652   7.68327   7.22052   7.76798   6.94042   6.74205\n",
        "2   6.33541   6.33700   5.88249   6.27023   6.52986   6.28395   6.29101\n",
        "3   3.99268   3.50856   4.82270   3.81110   5.87409   4.60817   3.60005\n",
        "4   5.58086   5.86221   5.73269   5.82452   6.07626   6.02611   5.21058\n",
        "5   5.46806   6.17607   3.78191   3.37759   4.38328   4.95371   5.30827\n",
        "6   5.38220   4.70320   5.56260   5.01993   5.00797   5.05433   5.29531\n",
        "  GSM918647 GSM918578 GSM918579 GSM918581 GSM918584 GSM918591 GSM918592\n",
        "1   7.64979   7.59594   7.80665   7.40141   7.99686   7.45720   7.56221\n",
        "2   6.60678   6.14440   6.19154   5.90781   6.88336   6.57758   5.84122\n",
        "3   3.61362   4.82431   5.24439   4.80566   4.53582   3.48431   4.93807\n",
        "4   5.86164   5.67092   5.62149   5.97838   5.76988   5.84644   5.82777\n",
        "5   4.25986   4.14155   3.41773   4.21804   3.53515   3.97029   3.44362\n",
        "6   5.70511   5.48935   5.70478   5.43677   5.55102   4.99991   5.57215\n",
        "  GSM918597 GSM918598 GSM918599 GSM918604 GSM918605 GSM918613 GSM918623\n",
        "1   6.84705   6.98878   7.34769   7.48184   7.67020   7.65809   7.17832\n",
        "2   6.32131   6.13794   6.11699   6.58369   6.27495   6.95978   5.87493\n",
        "3   4.28772   4.46706   3.51750   4.78415   4.86522   4.72028   5.14283\n",
        "4   5.93039   5.95012   5.68731   5.96743   5.74236   5.38816   5.28015\n",
        "5   4.06732   3.97594   5.74268   4.56017   4.67189   4.78248   4.16976\n",
        "6   5.35470   5.76707   5.42978   5.17615   5.13756   5.26786   5.15213\n",
        "  GSM918626 GSM918627 GSM918633 GSM918634 GSM918635 GSM918645 GSM918646\n",
        "1   7.38790   7.02438   7.07369   7.28592   6.94630   7.80503   7.75130\n",
        "2   6.29674   6.14804   7.04882   6.53161   6.22496   6.61767   6.37264\n",
        "3   5.25854   4.74145   3.91601   4.42245   4.99991   4.49870   3.31782\n",
        "4   5.17953   5.87549   5.78628   5.41254   5.22036   5.66087   5.98015\n",
        "5   7.48099   4.99315   4.34510   4.61809   3.46261   4.65205   5.87465\n",
        "6   5.99147   5.28219   5.06386   5.06449   4.76217   4.97673   5.42803\n",
        "  GSM918648 GSM918650 GSM918652 GSM918653 GSM918622 GSM918583 GSM918585\n",
        "1   7.33080   7.50064   7.66767   7.75773   6.38604   7.60310   7.82520\n",
        "2   5.76676   6.38873   6.60611   6.89315   6.60841   6.05279   6.28301\n",
        "3   4.06732   4.13677   4.42963   3.75654   4.25561   4.05178   4.76303\n",
        "4   5.93859   5.98419   5.43677   6.09086   5.77113   5.59953   5.27811\n",
        "5   3.91202   4.17285   4.93087   3.67630   5.26165   3.65325   3.68387\n",
        "6   5.17728   4.11251   5.23218   5.92586   5.01396   5.15791   5.65249\n",
        "  GSM918595 GSM918596 GSM918602 GSM918617 GSM918630 GSM918631 GSM918618\n",
        "1   7.34923   7.69298   7.49109   7.12761   7.15618   7.43296   8.03226\n",
        "2   6.80128   6.38503   6.90635   6.00660   6.60678   5.92985   6.27363\n",
        "3   4.36310   5.04857   4.78332   4.80402   4.44030   3.60550   6.57368\n",
        "4   5.99246   5.66053   6.20577   5.83860   5.62329   5.23111   5.81771\n",
        "5   3.38439   3.71844   6.07810   4.06217   4.37198   3.21487   6.16374\n",
        "6   5.65913   5.75542   5.43066   5.60580   4.85203   5.07705   5.67915\n",
        "  GSM918644\n",
        "1   8.10259\n",
        "2   6.66300\n",
        "3   3.52930\n",
        "4   5.59546\n",
        "5   6.87078\n",
        "6   4.93159\n"
       ]
      }
     ],
     "prompt_number": 37
    },
    {
     "cell_type": "markdown",
     "metadata": {},
     "source": [
      "There are many repeated rows of genes in the data corresponding to multiple measurements of gene expression per gene. We only need one measurement of gene expression per gene because we want to be able to use the individual genes as row names. To this end, we used ddply to average repeated rows over the IDENTIFIER column. "
     ]
    },
    {
     "cell_type": "code",
     "collapsed": false,
     "input": [
      "%%R\n",
      "\n",
      "install.packages(\"plyr\")"
     ],
     "language": "python",
     "metadata": {},
     "outputs": [
      {
       "metadata": {},
       "output_type": "display_data",
       "text": [
        "Installing package into \u2018/home/oski/R/x86_64-pc-linux-gnu-library/3.0\u2019\n",
        "(as \u2018lib\u2019 is unspecified)\n",
        "--- Please select a CRAN mirror for use in this session ---\n",
        "trying URL 'http://cran.stat.ucla.edu/src/contrib/plyr_1.8.1.tar.gz'\n",
        "Content type 'application/x-tar' length 393233 bytes (384 Kb)\n",
        "opened URL\n",
        "==================================================\n",
        "downloaded 384 Kb\n",
        "\n",
        "\n",
        "The downloaded source packages are in\n",
        "\t\u2018/tmp/RtmppGZyW2/downloaded_packages\u2019\n"
       ]
      }
     ],
     "prompt_number": 12
    },
    {
     "cell_type": "code",
     "collapsed": false,
     "input": [
      "%%R\n",
      "\n",
      "library(plyr)\n",
      "\n",
      "cleaned_bio_data = ddply(bio_data_known, 'IDENTIFIER', numcolwise(mean))"
     ],
     "language": "python",
     "metadata": {},
     "outputs": [],
     "prompt_number": 44
    },
    {
     "cell_type": "markdown",
     "metadata": {},
     "source": [
      "Checking to make sure the number of unique known_gene_names and the amount of genes in the cleaned_bio_data match up."
     ]
    },
    {
     "cell_type": "code",
     "collapsed": false,
     "input": [
      "%%R\n",
      "\n",
      "print(length(unique(known_gene_names)))\n",
      "print(length(cleaned_bio_data$IDENTIFIER))"
     ],
     "language": "python",
     "metadata": {},
     "outputs": [
      {
       "metadata": {},
       "output_type": "display_data",
       "text": [
        "[1] 29822\n",
        "[1] 29822\n"
       ]
      }
     ],
     "prompt_number": 45
    },
    {
     "cell_type": "code",
     "collapsed": false,
     "input": [
      "%%R\n",
      "\n",
      "row.names(cleaned_bio_data) = cleaned_bio_data$IDENTIFIER\n",
      "cleaned_bio_data$IDENTIFIER = NULL\n",
      "\n",
      "print(head(cleaned_bio_data))"
     ],
     "language": "python",
     "metadata": {},
     "outputs": [
      {
       "metadata": {},
       "output_type": "display_data",
       "text": [
        "         GSM918603 GSM918641 GSM918580 GSM918593 GSM918625 GSM918638 GSM918642\n",
        "A1BG       5.38862  5.161920  5.883320  4.741450  5.467640  5.015950   5.00126\n",
        "A1BG-AS1   3.48124  4.576770  4.055260  4.943780  3.637590  3.561050   4.61710\n",
        "A1CF       4.51961  4.168210  3.642840  3.627000  4.665320  3.303220   4.69227\n",
        "A2M        5.66213  6.408995  6.680650  6.107475  6.145230  5.819145   5.86573\n",
        "A2M-AS1    5.90563  6.589750  6.113020  5.544000  5.816810  4.712230   6.62420\n",
        "A2ML1      4.02744  3.748935  3.523845  4.339390  3.616035  4.023295   3.33172\n",
        "         GSM918643 GSM918619 GSM918621 GSM918582 GSM918649 GSM918651 GSM918607\n",
        "A1BG      5.113790  5.047290  4.809740   4.58599  5.514640  3.772760  4.836280\n",
        "A1BG-AS1  3.459470  4.149460  3.648060   3.55535  3.906000  3.960810  3.835140\n",
        "A1CF      3.756540  4.470500  4.547540   4.86599  4.036010  4.658710  4.603170\n",
        "A2M       6.034095  6.291430  6.267945   6.55948  6.876095  6.554890  6.859325\n",
        "A2M-AS1   5.892750  6.244750  5.006630   5.52545  4.903050  5.185710  5.347580\n",
        "A2ML1     3.352600  3.868305  3.699790   3.98684  4.211580  3.626945  3.556760\n",
        "         GSM918609 GSM918608 GSM918606 GSM918620 GSM918628 GSM918586 GSM918594\n",
        "A1BG      5.834520   5.42009  5.388620  5.740110  4.087660  5.339460  4.649190\n",
        "A1BG-AS1  3.881560   3.51453  4.853590  3.706230  3.713570  3.883620  3.532230\n",
        "A1CF      4.162000   4.19419  4.048300  3.198670  4.637640  5.091290  3.806660\n",
        "A2M       5.812165   5.78276  6.352305  6.238145  6.965125  6.411215  6.453175\n",
        "A2M-AS1   6.534660   5.86986  5.752570  5.851340  5.645090  5.227360  5.451900\n",
        "A2ML1     3.633360   3.50334  3.369980  4.388845  5.030790  3.722810  3.911225\n",
        "         GSM918600 GSM918601 GSM918612 GSM918614 GSM918629 GSM918587 GSM918588\n",
        "A1BG      5.441990  5.032400   5.29129  5.738510  5.363170  4.739700  5.445010\n",
        "A1BG-AS1  3.549620  3.538060   4.49312  4.063890  3.381000  3.671230  3.735290\n",
        "A1CF      4.271090  4.916330   4.48976  4.428430  3.526360  4.355430  4.947340\n",
        "A2M       6.305115  5.985075   6.39635  6.396645  6.319135  6.672965  5.572915\n",
        "A2M-AS1   5.704450  6.214810   6.29693  5.016620  4.763030  5.126340  5.029130\n",
        "A2ML1     3.326765  3.907910   3.36330  3.974800  3.418880  3.828440  3.352650\n",
        "         GSM918589 GSM918611 GSM918624 GSM918637 GSM918639 GSM918640 GSM918636\n",
        "A1BG       4.31882  5.029780  5.196280   5.31025  5.365510  5.309260  5.566050\n",
        "A1BG-AS1   3.51750  4.747540  3.660990   3.62167  3.797730  4.738830  4.760460\n",
        "A1CF       4.79827  4.261270  4.602170   3.47816  4.687670  4.651100  4.359270\n",
        "A2M        6.24348  6.089425  6.300705   6.13316  5.432285  6.221115  5.759840\n",
        "A2M-AS1    5.38358  6.096720  5.552960   4.96564  5.260610  5.268370  5.680170\n",
        "A2ML1      4.34103  4.258195  4.080070   3.88903  3.986260  4.410280  4.355045\n",
        "         GSM918590 GSM918610 GSM918615 GSM918616 GSM918632 GSM918647 GSM918578\n",
        "A1BG      4.241330  4.478470  4.620060   3.24649  4.859810  4.432010  3.763520\n",
        "A1BG-AS1  3.490430  3.696350  3.535150   3.25810  3.508560  4.312140  3.742420\n",
        "A1CF      3.835140  3.555350  4.900820   4.53475  3.933780  4.881290  5.696090\n",
        "A2M       6.809445  6.078910  6.120705   6.15613  6.328835  6.684555  6.305610\n",
        "A2M-AS1   6.098970  6.249780  5.708440   6.48479  5.359880  5.748120  6.091760\n",
        "A2ML1     4.283070  3.687025  4.296960   4.06151  3.774625  3.882280  3.604455\n",
        "         GSM918579 GSM918581 GSM918584 GSM918591 GSM918592 GSM918597 GSM918598\n",
        "A1BG      4.513050  4.302710  4.541160  4.658710  4.146300  4.848900  4.320150\n",
        "A1BG-AS1  4.805660  3.797730  3.799970  3.161250  3.230800  4.616110  3.427520\n",
        "A1CF      5.038900  5.128720  4.476200  3.417730  4.388260  4.794960  4.943070\n",
        "A2M       6.521145  6.517335  6.399805  6.155550  6.422035  6.144260  6.380915\n",
        "A2M-AS1   5.672290  6.311550  6.490120  7.138630  6.596190  5.574430  6.718170\n",
        "A2ML1     4.899130  3.682620  4.385615  3.886775  4.033430  3.870375  3.889795\n",
        "         GSM918599 GSM918604 GSM918605 GSM918613 GSM918623 GSM918626 GSM918627\n",
        "A1BG      5.104130  5.266310  4.566430   5.15733  4.278050  4.496470   4.79331\n",
        "A1BG-AS1  4.251350  3.558200  3.832980   3.55249  3.427520  3.335770   3.60005\n",
        "A1CF      4.756170  4.710430  4.328100   4.61809  4.647270  4.896350   4.06044\n",
        "A2M       6.185625  6.589515  6.216545   5.96928  6.118570  6.887835   6.28827\n",
        "A2M-AS1   5.803630  5.862210  6.131440   4.95934  5.666080  6.135560   5.37667\n",
        "A2ML1     3.829135  3.863920  3.643130   4.01756  3.977845  3.639310   3.98638\n",
        "         GSM918633 GSM918634 GSM918635 GSM918645 GSM918646 GSM918648 GSM918650\n",
        "A1BG      4.949470  4.387010  3.784190  3.826460  4.766440  4.320150   3.75887\n",
        "A1BG-AS1  3.555350  4.302710  3.462610  3.404530  4.382030  4.804020   4.37198\n",
        "A1CF      4.355430  4.291830  4.674700  4.665320  4.613140  4.673760   3.45632\n",
        "A2M       6.313190  5.740795  5.957420  6.179395  6.299815  6.145545   5.46778\n",
        "A2M-AS1   5.375740  5.796360  5.648620  6.139020  5.728480  6.081310   6.05091\n",
        "A2ML1     4.045435  3.669265  3.559135  3.194245  3.928840  3.970305   4.29585\n",
        "         GSM918652 GSM918653 GSM918622 GSM918583 GSM918585 GSM918595 GSM918596\n",
        "A1BG      4.143140   5.16421   4.46130  4.201700   4.58497  5.066380  4.460140\n",
        "A1BG-AS1  3.854390   3.64806   3.71844  3.988980   4.00003  3.987130  3.621670\n",
        "A1CF      3.987130   4.19720   3.54385  3.370740   4.87214  5.098650  4.784990\n",
        "A2M       5.937640   6.23624   6.18886  5.930440   6.46480  6.698960  6.417335\n",
        "A2M-AS1   5.396800   5.72522   5.11799  6.394260   5.75859  5.961010  5.936480\n",
        "A2ML1     3.520385   5.08009   3.85272  3.390465   3.57821  4.443975  3.631170\n",
        "         GSM918602 GSM918617 GSM918630 GSM918631 GSM918618 GSM918644\n",
        "A1BG      5.162500  4.748400  3.864930   3.30689   4.59310  5.338980\n",
        "A1BG-AS1  3.404530  3.605500  3.781910   3.23868   3.56105  4.055260\n",
        "A1CF      4.481870  4.048300  3.493470   3.50856   4.47050  4.768990\n",
        "A2M       6.013685  6.261455  5.901245   6.24647   6.87579  6.477845\n",
        "A2M-AS1   6.778560  5.394540  5.813530   5.15791   6.59496  5.771440\n",
        "A2ML1     3.669725  4.275100  3.374090   3.74687   4.24547  3.686955\n"
       ]
      }
     ],
     "prompt_number": 40
    },
    {
     "cell_type": "markdown",
     "metadata": {},
     "source": [
      "We put the cleaned data into a .csv file and saved it to the /data/cleaned directory. "
     ]
    },
    {
     "cell_type": "code",
     "collapsed": false,
     "input": [
      "%%R\n",
      "\n",
      "write.csv(cleaned_bio_data, file=\"cleaned_bio_data.csv\")"
     ],
     "language": "python",
     "metadata": {},
     "outputs": [],
     "prompt_number": 41
    },
    {
     "cell_type": "code",
     "collapsed": false,
     "input": [
      "%%bash\n",
      "\n",
      "mv cleaned_bio_data.csv ~/Desktop/src/TCFSProject/data/cleaned"
     ],
     "language": "python",
     "metadata": {},
     "outputs": [],
     "prompt_number": 42
    },
    {
     "cell_type": "code",
     "collapsed": false,
     "input": [],
     "language": "python",
     "metadata": {},
     "outputs": []
    }
   ],
   "metadata": {}
  }
 ]
}