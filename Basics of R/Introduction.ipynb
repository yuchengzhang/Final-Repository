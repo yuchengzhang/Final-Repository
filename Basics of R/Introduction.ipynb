{
 "metadata": {
  "name": ""
 },
 "nbformat": 3,
 "nbformat_minor": 0,
 "worksheets": [
  {
   "cells": [
    {
     "cell_type": "heading",
     "level": 1,
     "metadata": {},
     "source": [
      "Introduction"
     ]
    }
   ],
   "metadata": {}
  }
 ]
}