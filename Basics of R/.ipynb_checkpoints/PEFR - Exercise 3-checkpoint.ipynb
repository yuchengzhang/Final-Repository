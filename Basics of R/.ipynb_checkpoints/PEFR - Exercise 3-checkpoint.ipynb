{
 "metadata": {
  "name": ""
 },
 "nbformat": 3,
 "nbformat_minor": 0,
 "worksheets": [
  {
   "cells": [
    {
     "cell_type": "code",
     "collapsed": false,
     "input": [
      "%load_ext rmagic"
     ],
     "language": "python",
     "metadata": {},
     "outputs": [],
     "prompt_number": 1
    },
    {
     "cell_type": "code",
     "collapsed": false,
     "input": [
      "%%R\n",
      "\n",
      "# 1 \n",
      "\n",
      "# a\n",
      "tmpFn1 = function(xVec){\n",
      "                new_vec = 1:length(xVec)\n",
      "                return(x^new_vec)}\n",
      "\n",
      "tmpFn2 = function(xVec){\n",
      "                new_vec = 1:length(xVec)\n",
      "                return((x^new_vec)/new_vec)}\n",
      "\n",
      "# b\n",
      "tmpFn3 = function(x, n){\n",
      "                xVec = rep(x, n)\n",
      "                new_vec = 1:n\n",
      "                return(1 + (sum(xVec^new_vec)/new_vec))}\n"
     ],
     "language": "python",
     "metadata": {},
     "outputs": [],
     "prompt_number": 2
    },
    {
     "cell_type": "code",
     "collapsed": false,
     "input": [
      "%%R\n",
      "\n",
      "# 2\n",
      "\n",
      "tmpFn = function(xVec){\n",
      "                len = length(xVec)\n",
      "                x1 = xVec[-c(len-1, len)]\n",
      "                x2 = xVec[-c(1, len)]\n",
      "                x3 = xVec[-c(1, 2)]\n",
      "                return((x1 + x2 + x3) / 3)}\n",
      "                "
     ],
     "language": "python",
     "metadata": {},
     "outputs": [],
     "prompt_number": 3
    },
    {
     "cell_type": "code",
     "collapsed": false,
     "input": [
      "%%R\n",
      "\n",
      "# 3\n",
      "\n",
      "tmpFn = function(xVec){\n",
      "                x1 = xVec[which(xVec < 0)] \n",
      "                x2 = xVec[which(xVec >= 0 & xVec < 2)]\n",
      "                x3 = xVec[which(xVec >= 2)]\n",
      "                # or ifelse(x < 0, x^2 + 2*x + 3, ifelse(x < 2, x+3, x^2 + 4*x - 7))\n",
      "                return(c( x1^2 + 2*x1 + 3, x2 + 3, x3^2 + 4*x3 - 7))} \n",
      "\n",
      "curve(tmpFn, from=-3, to=3)\n",
      "# or tmp = seq(-3, 3, len=100)\n",
      "#    plot(tmp, tmpFn(tmp), type=\"l\")\n"
     ],
     "language": "python",
     "metadata": {},
     "outputs": [
      {
       "metadata": {},
       "output_type": "display_data",
       "png": "[encoded data removed]"
      }
     ],
     "prompt_number": 4
    },
    {
     "cell_type": "code",
     "collapsed": false,
     "input": [
      "%%R\n",
      "\n",
      "# 4\n",
      "\n",
      "odd_doubler = function(mat){\n",
      "                       mat[which(mat %% 2 != 0)] = mat[which(mat %% 2 != 0)] * 2\n",
      "                       return(mat)}\n",
      "\n",
      "mat1 = matrix(c(1, 5, -2, 1, 2, -1, 3, 6, -3), nrow=3, ncol=3)\n",
      "print(odd_doubler(mat1))"
     ],
     "language": "python",
     "metadata": {},
     "outputs": [
      {
       "metadata": {},
       "output_type": "display_data",
       "text": [
        "     [,1] [,2] [,3]\n",
        "[1,]    2    2    6\n",
        "[2,]   10    2    6\n",
        "[3,]   -2   -2   -6\n"
       ]
      }
     ],
     "prompt_number": 5
    },
    {
     "cell_type": "code",
     "collapsed": false,
     "input": [
      "%%R\n",
      "\n",
      "# 5\n",
      "\n",
      "tmpFn = function(n, k){\n",
      "                 mat = diag(k, nrow=n, ncol=n)\n",
      "                 other = abs(row(mat)- col(mat))\n",
      "                 other[other != 1] = 0\n",
      "                 return(mat + other)}\n",
      "\n",
      "print(tmpFn(5, 2))"
     ],
     "language": "python",
     "metadata": {},
     "outputs": [
      {
       "metadata": {},
       "output_type": "display_data",
       "text": [
        "     [,1] [,2] [,3] [,4] [,5]\n",
        "[1,]    2    1    0    0    0\n",
        "[2,]    1    2    1    0    0\n",
        "[3,]    0    1    2    1    0\n",
        "[4,]    0    0    1    2    1\n",
        "[5,]    0    0    0    1    2\n"
       ]
      }
     ],
     "prompt_number": 6
    },
    {
     "cell_type": "code",
     "collapsed": false,
     "input": [
      "%%R\n",
      "\n",
      "# 6\n",
      "\n",
      "quadrant = function(alpha){\n",
      "                    # or return(1 + ((alpha %% 360) %/% 90))\n",
      "                    if(alpha >= 0 & alpha < 90){\n",
      "                        return('quadrant 1')}\n",
      "                    else if(alpha >= 90 & alpha < 180){\n",
      "                        return('quadrant 2')}\n",
      "                    else if(alpha >= 180 & alpha < 270){\n",
      "                        return('quadrant 3')}\n",
      "                    else{\n",
      "                        return('quadrant 4')}}\n",
      "                        \n",
      "print(quadrant(180))\n",
      "                        \n"
     ],
     "language": "python",
     "metadata": {},
     "outputs": [
      {
       "metadata": {},
       "output_type": "display_data",
       "text": [
        "[1] \"quadrant 3\"\n"
       ]
      }
     ],
     "prompt_number": 7
    },
    {
     "cell_type": "code",
     "collapsed": false,
     "input": [
      "%%R\n",
      "\n",
      "# 7\n",
      "\n",
      "# a\n",
      "\n",
      "weekday = function(day, month, year){\n",
      "                   month = month - 2\n",
      "                   if(month <= 0){\n",
      "                      if(month==0)\n",
      "                      {m=12\n",
      "                       year = year - 1}\n",
      "                      else\n",
      "                      {m=11\n",
      "                       year = year - 1}\n",
      "                      } \n",
      "                   else{\n",
      "                      m = month}\n",
      "                   k = day\n",
      "                   c = year %/% 100\n",
      "                   y = year %% 100\n",
      "                   num = (floor(2.6 * m - 0.2) + k + y + (y %/% 4) + (c %/% 4) - (2*c)) %% 7\n",
      "                   return(c('Sunday', 'Monday', 'Tuesday', 'Wednesday', 'Thursday', 'Friday', 'Saturday')[(num + 1)])\n",
      "                   }\n",
      "                   \n",
      "# b\n",
      "weekday = function(day, month, year){\n",
      "                   flag = month <= 2\n",
      "                   year = year - flag\n",
      "                   m = month - 2 + (12 * flag)\n",
      "                   k = day\n",
      "                   c = year %/% 100\n",
      "                   y = year %% 100\n",
      "                   num = (floor(2.6 * m - 0.2) + k + y + (y %/% 4) + (c %/% 4) - (2*c)) %% 7\n",
      "                   return(c('Sunday', 'Monday', 'Tuesday', 'Wednesday', 'Thursday', 'Friday', 'Saturday')[(num + 1)])\n",
      "                   }\n",
      "                   \n",
      "print(c( weekday(27,2,1997), weekday(18,2,1940), weekday(21,1,1963) ))"
     ],
     "language": "python",
     "metadata": {},
     "outputs": [
      {
       "metadata": {},
       "output_type": "display_data",
       "text": [
        "[1] \"Thursday\" \"Sunday\"   \"Monday\"  \n"
       ]
      }
     ],
     "prompt_number": 8
    },
    {
     "cell_type": "code",
     "collapsed": false,
     "input": [
      "%%R\n",
      "\n",
      "# 8\n",
      "\n",
      "# a\n",
      "testloop = function(n){\n",
      "                    vec = rep(NA, n-1)\n",
      "                    vec[1] = 1\n",
      "                    vec[2] = 2\n",
      "                    for(i in 3:(n-1)){\n",
      "                        vec[i] = vec[i-1] + (2 / vec[i-1])}\n",
      "                    return(vec)}\n",
      "\n",
      "# b\n",
      "testloop2 = function(yVec){\n",
      "                     j = seq(along=yVec) # along, take the length from the length of this argument \n",
      "                     return(sum(exp(j)))}\n",
      "                     "
     ],
     "language": "python",
     "metadata": {},
     "outputs": [],
     "prompt_number": 9
    },
    {
     "cell_type": "code",
     "collapsed": false,
     "input": [
      "%%R\n",
      "\n",
      "# 9\n",
      "\n",
      "# a\n",
      "\n",
      "quadmap = function(start, rho, niter){\n",
      "                   vec = rep(NA, niter-1)\n",
      "                   vec[1] = start\n",
      "                   r = rho\n",
      "                   for(i in 2:(niter-1)){\n",
      "                       vec[i] = r * vec[i-1] * (1 - vec[i-1])}\n",
      "                   return(vec)}\n",
      "\n",
      "tmp <- quadmap(start=0.95, rho=2, niter=500)\n",
      "plot(tmp, type=\"l\")\n",
      "\n",
      "# b \n",
      "\n",
      "quad_iter = function(start, rho){\n",
      "                     count = 1\n",
      "                     xcurr = start\n",
      "                     xnext = rho * xcurr * (1- xcurr)\n",
      "                     while(abs(xcurr-xnext) > 0.02){\n",
      "                         xcurr = xnext\n",
      "                         xnext = rho * xcurr * (1- xcurr)\n",
      "                         count = count + 1}\n",
      "                     return(count)}\n",
      "\n",
      "print(quad_iter(0.95, 2.99))"
     ],
     "language": "python",
     "metadata": {},
     "outputs": [
      {
       "metadata": {},
       "output_type": "display_data",
       "text": [
        "[1] 84\n"
       ]
      },
      {
       "metadata": {},
       "output_type": "display_data",
       "png": "[encoded data removed]"
      }
     ],
     "prompt_number": 10
    },
    {
     "cell_type": "code",
     "collapsed": false,
     "input": [
      "%%R\n",
      "\n",
      "# 10 \n",
      "\n",
      "# a\n",
      "\n",
      "tmpFn = function(xVec){\n",
      "                 n = length(xVec)\n",
      "                 avg = mean(xVec)\n",
      "                 denom = sum((xVec - avg)^2)\n",
      "                 r1_numer = sum( (xVec[-1] - avg)*(xVec[-n] - avg) )\n",
      "                 r2_numer = sum( (xVec[-c(1, 2)] - avg)*(xVec[-c(n-1, n)] - avg) )\n",
      "                 r1 = r1_numer / denom\n",
      "                 r2 = r2_numer / denom\n",
      "                 return(list(r1=r1, r2=r2))}\n",
      "                 \n",
      "              \n",
      "vec = seq(2, 56, by=3)\n",
      "print(tmpFn(vec))\n",
      "\n",
      "# b \n",
      "\n",
      "tmpFn2 = function(xVec, k){\n",
      "                  n = length(xVec)\n",
      "                  avg = mean(xVec)\n",
      "                  denom = sum((xVec-avg)^2)\n",
      "                  reVec = rep(NA, k)\n",
      "                  for(j in 1:k){\n",
      "                      numer = sum( (xVec[(j+1):n] - avg)*(xVec[1:(n-j)] - avg) )\n",
      "                      reVec[j] = numer / denom}\n",
      "    \n",
      "                  # or xc = xVec - mean(xVec)\n",
      "                  #    tmpFn = function(j){ sum( xc[(j+1):n] * xc[1:(n-j)] )/denom }\n",
      "                  #    c(1, sapply(1:k, tmpFn))\n",
      "\n",
      "                  return(reVec)}\n",
      "\n",
      "\n",
      "# http://www.statmethods.net/advstats/matrix.html"
     ],
     "language": "python",
     "metadata": {},
     "outputs": [
      {
       "metadata": {},
       "output_type": "display_data",
       "text": [
        "$r1\n",
        "[1] 0.8421053\n",
        "\n",
        "$r2\n",
        "[1] 0.6859649\n",
        "\n"
       ]
      }
     ],
     "prompt_number": 11
    },
    {
     "cell_type": "code",
     "collapsed": false,
     "input": [],
     "language": "python",
     "metadata": {},
     "outputs": [],
     "prompt_number": 11
    }
   ],
   "metadata": {}
  }
 ]
}