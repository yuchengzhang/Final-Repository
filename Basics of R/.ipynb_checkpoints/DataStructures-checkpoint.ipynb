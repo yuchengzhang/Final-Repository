{
 "metadata": {
  "name": ""
 },
 "nbformat": 3,
 "nbformat_minor": 0,
 "worksheets": [
  {
   "cells": [
    {
     "cell_type": "heading",
     "level": 1,
     "metadata": {},
     "source": [
      "Basic Data Structures"
     ]
    },
    {
     "cell_type": "code",
     "collapsed": false,
     "input": [
      "%load_ext rmagic"
     ],
     "language": "python",
     "metadata": {},
     "outputs": [],
     "prompt_number": 1
    },
    {
     "cell_type": "heading",
     "level": 3,
     "metadata": {},
     "source": [
      "Lists"
     ]
    },
    {
     "cell_type": "markdown",
     "metadata": {},
     "source": [
      "**Definition:** A list is a *ordered* sequence of possibly *inhomogeneous* elements. Python lists are the programmatic embodiement of the mathematical notion of $n$-tuple:\n",
      "\n",
      "$$a = (a_1, a_2, \\dots, a_n)\\in A_1 \\times A_2 \\times \\cdots \\times A_n,$$\n",
      "\n",
      "where the $i^{th}$ element belongs to the set $A_i$ (the sets being $A_i$s potentially disticts). \n",
      "\n",
      "In Python, one can use the same notation as in math, in which case the list elements won't be able to be modified after having been assigned. In the Python lingo, these constant lists are also called *tuples*. "
     ]
    },
    {
     "cell_type": "code",
     "collapsed": false,
     "input": [
      "%%R\n",
      "\n",
      "bob = list(Name='Bob', Age=32, Friends=c('Luc', 'Mathieux', 'Sophie'))\n",
      "print(bob) \n",
      "\n",
      "# list can hold elements of different types \n",
      "# R lists resemble python dictionaries "
     ],
     "language": "python",
     "metadata": {},
     "outputs": [
      {
       "metadata": {},
       "output_type": "display_data",
       "text": [
        "$Name\n",
        "[1] \"Bob\"\n",
        "\n",
        "$Age\n",
        "[1] 32\n",
        "\n",
        "$Friends\n",
        "[1] \"Luc\"      \"Mathieux\" \"Sophie\"  \n",
        "\n"
       ]
      }
     ],
     "prompt_number": 2
    },
    {
     "cell_type": "heading",
     "level": 2,
     "metadata": {},
     "source": [
      "Retrieving values from a list "
     ]
    },
    {
     "cell_type": "markdown",
     "metadata": {},
     "source": [
      "Retrieving values of list's elements by keys"
     ]
    },
    {
     "cell_type": "code",
     "collapsed": false,
     "input": [
      "%%R\n",
      "\n",
      "# need to use double bracket to access elements of a list\n",
      "bobName = bob[['Name']]\n",
      "print(bobName)"
     ],
     "language": "python",
     "metadata": {},
     "outputs": [
      {
       "metadata": {},
       "output_type": "display_data",
       "text": [
        "[1] \"Bob\"\n"
       ]
      }
     ],
     "prompt_number": 6
    },
    {
     "cell_type": "markdown",
     "metadata": {},
     "source": [
      "Remark:"
     ]
    },
    {
     "cell_type": "code",
     "collapsed": false,
     "input": [
      "%%R\n",
      "\n",
      "x = bob['Name']\n",
      "print(x)\n",
      "print(x$Name)\n",
      "\n",
      "# returns list of one element with value bob"
     ],
     "language": "python",
     "metadata": {},
     "outputs": [
      {
       "metadata": {},
       "output_type": "display_data",
       "text": [
        "$Name\n",
        "[1] \"Bob\"\n",
        "\n",
        "[1] \"Bob\"\n"
       ]
      }
     ],
     "prompt_number": 9
    },
    {
     "cell_type": "heading",
     "level": 2,
     "metadata": {},
     "source": [
      "Dollar sign operator"
     ]
    },
    {
     "cell_type": "code",
     "collapsed": false,
     "input": [
      "%%R\n",
      "\n",
      "age = bob$Age\n",
      "friends = bob$Friends\n",
      "\n",
      "print(age)\n",
      "print(friends)"
     ],
     "language": "python",
     "metadata": {},
     "outputs": [
      {
       "metadata": {},
       "output_type": "display_data",
       "text": [
        "[1] 32\n",
        "[1] \"Luc\"      \"Mathieux\" \"Sophie\"  \n"
       ]
      }
     ],
     "prompt_number": 12
    },
    {
     "cell_type": "heading",
     "level": 2,
     "metadata": {},
     "source": [
      "Sublists"
     ]
    },
    {
     "cell_type": "code",
     "collapsed": false,
     "input": [
      "%%R\n",
      "\n",
      "ind = c(1, 3)\n",
      "ind = c(-2) # retrieve all elements except element with index 2\n",
      "ind = c('Name', 'Age')\n",
      "\n",
      "print(bob[ind])"
     ],
     "language": "python",
     "metadata": {},
     "outputs": [
      {
       "metadata": {},
       "output_type": "display_data",
       "text": [
        "$Name\n",
        "[1] \"Bob\"\n",
        "\n",
        "$Age\n",
        "[1] 32\n",
        "\n"
       ]
      }
     ],
     "prompt_number": 13
    },
    {
     "cell_type": "markdown",
     "metadata": {},
     "source": [
      "To create *mutable* list (i.e. a list whose elements can be further modified), Python uses *square brackets* instead of parenthesis:"
     ]
    },
    {
     "cell_type": "code",
     "collapsed": false,
     "input": [],
     "language": "python",
     "metadata": {},
     "outputs": []
    },
    {
     "cell_type": "markdown",
     "metadata": {},
     "source": [
      "In math, one uses the *subscript* notation $a_i$ to denote the $i^{th}$ element of a list $a$. Instead of that notation, Python uses the *square bracket operator* (caution: in Python indices start at zero):"
     ]
    },
    {
     "cell_type": "code",
     "collapsed": false,
     "input": [],
     "language": "python",
     "metadata": {},
     "outputs": []
    },
    {
     "cell_type": "code",
     "collapsed": false,
     "input": [],
     "language": "python",
     "metadata": {},
     "outputs": []
    },
    {
     "cell_type": "markdown",
     "metadata": {},
     "source": [
      "Observed that elements from a Python tuple can be retrived but not reassigned, as opposed to Python lists, which is why Python list are called *mutable* and Python tuples are called *immutable*:"
     ]
    },
    {
     "cell_type": "code",
     "collapsed": false,
     "input": [],
     "language": "python",
     "metadata": {},
     "outputs": []
    },
    {
     "cell_type": "code",
     "collapsed": false,
     "input": [],
     "language": "python",
     "metadata": {},
     "outputs": []
    },
    {
     "cell_type": "code",
     "collapsed": false,
     "input": [],
     "language": "python",
     "metadata": {},
     "outputs": []
    },
    {
     "cell_type": "markdown",
     "metadata": {},
     "source": [
      "Algorithmically, one may be interseted in lists for various reasons:\n",
      "\n",
      "* looping over elements (as we have already seen)\n",
      "\n",
      "* retrieving *sublists* of a given lists\n",
      "\n",
      "* sorting the list elements according to a particular criterium\n",
      "\n"
     ]
    },
    {
     "cell_type": "markdown",
     "metadata": {},
     "source": [
      "**Sublists**"
     ]
    },
    {
     "cell_type": "markdown",
     "metadata": {},
     "source": [
      "One retrieves from a given Python's list, say <code>my_list</code>, a sublist of consecutive indices by indicating the **sublist range or \"slice\":**\n",
      "<pre><code>my_list[3:6]</code></pre>\n",
      "returns the sublist\n",
      "<pre><code>[my_list[3], my_list[4], my_list[5]]</code></pre>"
     ]
    },
    {
     "cell_type": "code",
     "collapsed": false,
     "input": [],
     "language": "python",
     "metadata": {},
     "outputs": []
    },
    {
     "cell_type": "markdown",
     "metadata": {},
     "source": [
      "The function <code>len(my_list)</code> returns the **length** of my_list"
     ]
    },
    {
     "cell_type": "code",
     "collapsed": false,
     "input": [],
     "language": "python",
     "metadata": {},
     "outputs": []
    },
    {
     "cell_type": "markdown",
     "metadata": {},
     "source": [
      "* The range $[m:n]$ is **open-ended**: element $m$ is included but not the element $n$\n",
      "* $[:n]$ is a shorthand for $[0:n]$\n",
      "* $[m:]$ is a shorthand for $[m:n]$ where $n$ is the list lenght\n",
      "* Negative numbers can also be used to indicate positions and ranges:\n",
      " * <code> my_list[-1] </code> is the last element of the list\n",
      " * <code> my_list[-2] </code> is the element before the last element, etc.\n",
      " * etc."
     ]
    },
    {
     "cell_type": "markdown",
     "metadata": {},
     "source": [
      "**Sorting**"
     ]
    },
    {
     "cell_type": "heading",
     "level": 3,
     "metadata": {},
     "source": [
      "Dictionaries"
     ]
    },
    {
     "cell_type": "code",
     "collapsed": false,
     "input": [],
     "language": "python",
     "metadata": {},
     "outputs": []
    },
    {
     "cell_type": "heading",
     "level": 3,
     "metadata": {},
     "source": [
      "Sets"
     ]
    },
    {
     "cell_type": "code",
     "collapsed": false,
     "input": [],
     "language": "python",
     "metadata": {},
     "outputs": []
    }
   ],
   "metadata": {}
  }
 ]
}