{
 "metadata": {
  "name": ""
 },
 "nbformat": 3,
 "nbformat_minor": 0,
 "worksheets": [
  {
   "cells": [
    {
     "cell_type": "markdown",
     "metadata": {
      "slideshow": {
       "slide_type": "fragment"
      }
     },
     "source": [
      "**Lecture outline:**\n",
      "\n",
      "* The **food** of Mr. R: **VARIABLES**\n",
      "\n",
      "\n",
      "* The **muscles** of Mr. R: **LOOPING MECHANISMS**\n",
      "\n",
      "\n",
      "* The **brain** of Mr. R: **BRANCHING MECHANISMS**\n",
      "\n",
      "\n",
      "* The **hands** of Mr. R: **FUNCTIONS**\n",
      "\n",
      "\n"
     ]
    },
    {
     "cell_type": "heading",
     "level": 2,
     "metadata": {
      "slideshow": {
       "slide_type": "slide"
      }
     },
     "source": [
      "Using R in iPython notebooks"
     ]
    },
    {
     "cell_type": "markdown",
     "metadata": {
      "slideshow": {
       "slide_type": "fragment"
      }
     },
     "source": [
      "To use R in the notebook simply, you need to:\n",
      "\n",
      "(1) have R installed on your computer\n",
      "\n",
      "(2) have the Python module <code>rpy2</code> installed\n",
      "\n",
      "(2) invoke the following magic command:"
     ]
    },
    {
     "cell_type": "code",
     "collapsed": false,
     "input": [
      "%load_ext rmagic "
     ],
     "language": "python",
     "metadata": {
      "slideshow": {
       "slide_type": "fragment"
      }
     },
     "outputs": [
      {
       "output_type": "stream",
       "stream": "stdout",
       "text": [
        "The rmagic extension is already loaded. To reload it, use:\n",
        "  %reload_ext rmagic\n"
       ]
      }
     ],
     "prompt_number": 41
    },
    {
     "cell_type": "markdown",
     "metadata": {
      "slideshow": {
       "slide_type": "slide"
      }
     },
     "source": [
      "Then type in the **magic command**\n",
      "\n",
      "    %%R\n",
      "at the beginning of the cell:"
     ]
    },
    {
     "cell_type": "code",
     "collapsed": false,
     "input": [
      "%%R\n",
      "\n",
      "x = c(1,2,3,4)\n",
      "y = c('a','b','c','d')\n",
      "\n",
      "xy = data.frame(x,y)\n",
      "colnames(xy) = c('X', 'Y')\n",
      "print(xy)"
     ],
     "language": "python",
     "metadata": {
      "slideshow": {
       "slide_type": "fragment"
      }
     },
     "outputs": [
      {
       "metadata": {},
       "output_type": "display_data",
       "text": [
        "  X Y\n",
        "1 1 a\n",
        "2 2 b\n",
        "3 3 c\n",
        "4 4 d\n"
       ]
      }
     ],
     "prompt_number": 42
    },
    {
     "cell_type": "heading",
     "level": 2,
     "metadata": {
      "slideshow": {
       "slide_type": "slide"
      }
     },
     "source": [
      "The **food** of Mr. R: **VARIABLES**"
     ]
    },
    {
     "cell_type": "heading",
     "level": 3,
     "metadata": {},
     "source": [
      "Variable assignment and basic types"
     ]
    },
    {
     "cell_type": "markdown",
     "metadata": {},
     "source": [
      "\n",
      "As in Python, there are **basic types** in R reprensenting the usual things:\n",
      "\n",
      "* numbers\n",
      "* strings\n",
      "* Boolean \n",
      "\n",
      "\n",
      "To **retrieve the type** of a variable <code>x</code> use the function:\n",
      "\n",
      "    typeof(x) \n",
      "\n",
      "(This is the R-equivalent of the <code>type</code> function in Python.)\n",
      "\n",
      "To **print a variable** <code>x</code>, use the R command\n",
      "\n",
      "    print(x)"
     ]
    },
    {
     "cell_type": "code",
     "collapsed": false,
     "input": [
      "%%R\n",
      "\n",
      "x = 3\n",
      "y = 'Hello'\n",
      "z = TRUE\n",
      "\n",
      "print(typeof(x))\n",
      "print(typeof(y))\n",
      "print(typeof(z))"
     ],
     "language": "python",
     "metadata": {
      "slideshow": {
       "slide_type": "fragment"
      }
     },
     "outputs": [
      {
       "metadata": {},
       "output_type": "display_data",
       "text": [
        "[1] \"double\"\n",
        "[1] \"character\"\n",
        "[1] \"logical\"\n"
       ]
      }
     ],
     "prompt_number": 43
    },
    {
     "cell_type": "markdown",
     "metadata": {
      "slideshow": {
       "slide_type": "fragment"
      }
     },
     "source": [
      "**Variable assignments** have the same syntax as in Python:\n",
      "\n",
      "    variable = value\n",
      "Although, R provides also the **arrow syntax** for that same purpose:\n",
      "\n",
      "    variable <- value\n",
      "    value -> variable\n",
      "(We will use the Python-like syntax for variable assignments.)"
     ]
    },
    {
     "cell_type": "code",
     "collapsed": false,
     "input": [
      "%%R\n",
      "#Python-like variable assignment syntax works in R\n",
      "x = 'Hello'\n",
      "\n",
      "#Arrow syntax\n",
      "\n",
      "y <- 'Bonjour'\n",
      "\n",
      "'Guten tag' -> z\n",
      "\n",
      "print(x); print(y); print(z)"
     ],
     "language": "python",
     "metadata": {
      "slideshow": {
       "slide_type": "fragment"
      }
     },
     "outputs": [
      {
       "metadata": {},
       "output_type": "display_data",
       "text": [
        "[1] \"Hello\"\n",
        "[1] \"Bonjour\"\n",
        "[1] \"Guten tag\"\n"
       ]
      }
     ],
     "prompt_number": 44
    },
    {
     "cell_type": "heading",
     "level": 3,
     "metadata": {
      "slideshow": {
       "slide_type": "slide"
      }
     },
     "source": [
      "Operations on basic types: Boolean, Numbers, and Strings"
     ]
    },
    {
     "cell_type": "heading",
     "level": 4,
     "metadata": {
      "slideshow": {
       "slide_type": "slide"
      }
     },
     "source": [
      "Boolean: values and operations"
     ]
    },
    {
     "cell_type": "markdown",
     "metadata": {
      "slideshow": {
       "slide_type": "slide"
      }
     },
     "source": [
      "In R, the class representing the Boolean type is called <code>logical</code>.\n",
      "\n",
      "As usual, it has only **two possible values**:\n",
      "\n",
      "    TRUE and FALSE\n",
      "which can be abbreviated to\n",
      "\n",
      "    T and F\n",
      "\n",
      ">**Difference with Python:** \n",
      "In R, the Boolean values are all **upper-cases** (instead of <code>True</code> and <code>False</code>)."
     ]
    },
    {
     "cell_type": "code",
     "collapsed": false,
     "input": [
      "%%R\n",
      "a = TRUE; b = FALSE\n",
      "c = T; d = F\n",
      "\n",
      "print(typeof(a)); print(typeof(b))\n",
      "print(a); print(b)\n",
      "print(c); print(typeof(d))"
     ],
     "language": "python",
     "metadata": {
      "slideshow": {
       "slide_type": "fragment"
      }
     },
     "outputs": [
      {
       "metadata": {},
       "output_type": "display_data",
       "text": [
        "[1] \"logical\"\n",
        "[1] \"logical\"\n",
        "[1] TRUE\n",
        "[1] FALSE\n",
        "[1] TRUE\n",
        "[1] \"double\"\n"
       ]
      }
     ],
     "prompt_number": 45
    },
    {
     "cell_type": "markdown",
     "metadata": {
      "slideshow": {
       "slide_type": "slide"
      }
     },
     "source": [
      "Here is the R-syntax for the **usual operations on Booleans**:"
     ]
    },
    {
     "cell_type": "code",
     "collapsed": false,
     "input": [
      "%%R\n",
      "\n",
      "a = TRUE; b = FALSE\n",
      "\n",
      "print(a & b) # & = Python's 'and'\n",
      "print(a | b) # | = Python's 'or'\n",
      "print(!a)    # ! = Python's 'not'\n",
      "\n",
      "\n",
      "print( a | (!b & a))"
     ],
     "language": "python",
     "metadata": {
      "slideshow": {
       "slide_type": "fragment"
      }
     },
     "outputs": [
      {
       "metadata": {},
       "output_type": "display_data",
       "text": [
        "[1] FALSE\n",
        "[1] TRUE\n",
        "[1] FALSE\n",
        "[1] TRUE\n"
       ]
      }
     ],
     "prompt_number": 46
    },
    {
     "cell_type": "code",
     "collapsed": false,
     "input": [
      "a = 2; b = 3\n",
      "\n",
      "print(a == b)\n",
      "print(a <= b)\n",
      "print(a >= b)\n",
      "print(a < b)\n",
      "print(a > b)"
     ],
     "language": "python",
     "metadata": {
      "slideshow": {
       "slide_type": "fragment"
      }
     },
     "outputs": [
      {
       "output_type": "stream",
       "stream": "stdout",
       "text": [
        "False\n",
        "True\n",
        "False\n",
        "True\n",
        "False\n"
       ]
      }
     ],
     "prompt_number": 47
    },
    {
     "cell_type": "heading",
     "level": 4,
     "metadata": {
      "slideshow": {
       "slide_type": "slide"
      }
     },
     "source": [
      "Numbers: The <code>integer</code> and <code>double</code> types"
     ]
    },
    {
     "cell_type": "markdown",
     "metadata": {
      "slideshow": {
       "slide_type": "slide"
      }
     },
     "source": [
      "As Python, R has two types to represent numbers:\n",
      "\n",
      "* <code>integer</code> to represent **natural numbers**\n",
      "\n",
      "\n",
      "* <code>double</code> to represent **real numbers**"
     ]
    },
    {
     "cell_type": "code",
     "collapsed": false,
     "input": [
      "%%R\n",
      "a = 3\n",
      "b = 4.5\n",
      "\n",
      "print(typeof(a))\n",
      "print(typeof(b))"
     ],
     "language": "python",
     "metadata": {
      "slideshow": {
       "slide_type": "fragment"
      }
     },
     "outputs": [
      {
       "metadata": {},
       "output_type": "display_data",
       "text": [
        "[1] \"double\"\n",
        "[1] \"double\"\n"
       ]
      }
     ],
     "prompt_number": 48
    },
    {
     "cell_type": "markdown",
     "metadata": {
      "slideshow": {
       "slide_type": "fragment"
      }
     },
     "source": [
      "> **Differences with Python:** \n",
      ">\n",
      "> * R interprets any number passed to the R interpreter as a real number\n",
      ">\n",
      ">\n",
      "> * Python interprets a number as areal number only if it has a **period**.\n",
      "\n",
      "To differenciate between this types, one should use the **conversion operators**:\n",
      "\n",
      "    as.integer(x)\n",
      "    as.double(x)"
     ]
    },
    {
     "cell_type": "code",
     "collapsed": false,
     "input": [
      "%%R\n",
      "\n",
      "a = as.integer(2)\n",
      "print(typeof(a))\n",
      "\n",
      "b = as.double(a)\n",
      "print(typeof(b))"
     ],
     "language": "python",
     "metadata": {
      "slideshow": {
       "slide_type": "fragment"
      }
     },
     "outputs": [
      {
       "metadata": {},
       "output_type": "display_data",
       "text": [
        "[1] \"integer\"\n",
        "[1] \"double\"\n"
       ]
      }
     ],
     "prompt_number": 49
    },
    {
     "cell_type": "heading",
     "level": 4,
     "metadata": {
      "slideshow": {
       "slide_type": "slide"
      }
     },
     "source": [
      "Numbers: operations"
     ]
    },
    {
     "cell_type": "code",
     "collapsed": false,
     "input": [
      "%%R\n",
      "a = 2; b = 3; c = 3.4\n",
      "\n",
      "print(a+b)\n",
      "print(a*b)\n",
      "print(a^b)   # The power syntax is different than in Python: a**b\n",
      "print(a/b)\n",
      "print(b%%a)  # The modulo syntax is diffenrent than that of Python: b%a\n",
      "print(c%/%b) # Integer division"
     ],
     "language": "python",
     "metadata": {
      "slideshow": {
       "slide_type": "fragment"
      }
     },
     "outputs": [
      {
       "metadata": {},
       "output_type": "display_data",
       "text": [
        "[1] 5\n",
        "[1] 6\n",
        "[1] 8\n",
        "[1] 0.6666667\n",
        "[1] 1\n",
        "[1] 1\n"
       ]
      }
     ],
     "prompt_number": 50
    },
    {
     "cell_type": "heading",
     "level": 4,
     "metadata": {
      "slideshow": {
       "slide_type": "slide"
      }
     },
     "source": [
      "Strings: The <code>character</code> type"
     ]
    },
    {
     "cell_type": "markdown",
     "metadata": {
      "slideshow": {
       "slide_type": "fragment"
      }
     },
     "source": [
      "As in Python, one **creates strings using quotes** (double or singles):"
     ]
    },
    {
     "cell_type": "code",
     "collapsed": false,
     "input": [
      "%%R\n",
      "a = 'hello'\n",
      "\n",
      "b = \"hello\"\n",
      "\n",
      "c = \"hello! I'am good!\"\n",
      "\n",
      "print(a); print(b); print(c)\n",
      "\n",
      "print(typeof(a))"
     ],
     "language": "python",
     "metadata": {
      "slideshow": {
       "slide_type": "fragment"
      }
     },
     "outputs": [
      {
       "metadata": {},
       "output_type": "display_data",
       "text": [
        "[1] \"hello\"\n",
        "[1] \"hello\"\n",
        "[1] \"hello! I'am good!\"\n",
        "[1] \"character\"\n"
       ]
      }
     ],
     "prompt_number": 51
    },
    {
     "cell_type": "markdown",
     "metadata": {
      "slideshow": {
       "slide_type": "fragment"
      }
     },
     "source": [
      "**Newlines** and **escape characters** in general are used the **same way as in Python**.\n",
      "\n",
      ">**Differences with Python:** \n",
      ">\n",
      ">The R <code>print(x)</code> function does **not** print the **escape characters**.\n",
      "\n",
      "The R function \n",
      "\n",
      "    cat(x,y,z,etc.)\n",
      "**prints the escape characters**.\n",
      "\n",
      "It behaves very much like the Python (version 2.7) print function:\n",
      "\n",
      "    print x,y,z,etc.\n",
      "    \n"
     ]
    },
    {
     "cell_type": "code",
     "collapsed": false,
     "input": [
      "%%R\n",
      "\n",
      "x = 'One\\nTwo\\nThree\\nFour\\n'\n",
      "\n",
      "print(x)\n",
      "cat(x)\n",
      "cat('I need', 3,'pairs of gloves for my', 4, 'hands')"
     ],
     "language": "python",
     "metadata": {
      "slideshow": {
       "slide_type": "fragment"
      }
     },
     "outputs": [
      {
       "metadata": {},
       "output_type": "display_data",
       "text": [
        "[1] \"One\\nTwo\\nThree\\nFour\\n\"\n",
        "One\n",
        "Two\n",
        "Three\n",
        "Four\n",
        "I need 3 pairs of gloves for my 4 hands"
       ]
      }
     ],
     "prompt_number": 52
    },
    {
     "cell_type": "heading",
     "level": 4,
     "metadata": {
      "slideshow": {
       "slide_type": "slide"
      }
     },
     "source": [
      "Strings: operations"
     ]
    },
    {
     "cell_type": "markdown",
     "metadata": {
      "slideshow": {
       "slide_type": "fragment"
      }
     },
     "source": [
      "**R does not provide** the same level of **syntactical conveniences** as Python for **string manipulations**:\n",
      "\n",
      "$\\longrightarrow$ **no special syntax** for string **formatting** in R\n",
      "\n",
      "$\\longrightarrow$ **no addition operator** for string **concatenation** in R\n",
      "\n",
      "$\\longrightarrow$ **no multiplication operator** for string **repetition** in R\n",
      "\n",
      "$\\longrightarrow$ **no bracket operator** for **substring access** in R\n",
      "\n",
      "### All string operations are done through plain old functions"
     ]
    },
    {
     "cell_type": "heading",
     "level": 4,
     "metadata": {
      "slideshow": {
       "slide_type": "slide"
      }
     },
     "source": [
      "String formatting:  <code>sprintf(\"... %d ...\", x, etc.)</code>"
     ]
    },
    {
     "cell_type": "markdown",
     "metadata": {
      "slideshow": {
       "slide_type": "fragment"
      }
     },
     "source": [
      "In Python, one way to format a string is to use the **place holder syntax**:\n",
      "\n",
      "    \"...%d...%s...etc.\" % (digit, string, etc.)\n",
      "\n",
      "\n",
      "In R, one uses the function\n",
      "\n",
      "    sprintf(\"...%d...%s...etc.\", digit, string, etc.)\n",
      "which **returns the formatted string**.\n",
      "    "
     ]
    },
    {
     "cell_type": "code",
     "collapsed": false,
     "input": [
      "%%R\n",
      "\n",
      "var  = sprintf(\"%-10s\\t%-10s\\t%-10s\\n\", 'Name', 'Age', 'Weigth')\n",
      "\n",
      "obs1 = sprintf(\"%-10s\\t%-10d\\t%-10.2f\\n\", 'Benoit', 56, 300)\n",
      "\n",
      "obs2 = sprintf(\"%-10s\\t%-10d\\t%-10.2f\\n\", 'Claude', 12, 400)\n",
      "\n",
      "cat(var); cat(obs1); cat(obs2)"
     ],
     "language": "python",
     "metadata": {
      "slideshow": {
       "slide_type": "fragment"
      }
     },
     "outputs": [
      {
       "metadata": {},
       "output_type": "display_data",
       "text": [
        "Name      \tAge       \tWeigth    \n",
        "Benoit    \t56        \t300.00    \n",
        "Claude    \t12        \t400.00    \n"
       ]
      }
     ],
     "prompt_number": 53
    },
    {
     "cell_type": "heading",
     "level": 4,
     "metadata": {
      "slideshow": {
       "slide_type": "slide"
      }
     },
     "source": [
      "String concatenation: <code>paste(x, y, etc., sep=s)</code>"
     ]
    },
    {
     "cell_type": "markdown",
     "metadata": {
      "slideshow": {
       "slide_type": "fragment"
      }
     },
     "source": [
      "The R function\n",
      "\n",
      "    paste(x, y, etc., sep=s)\n",
      "\n",
      "* **returns** the concatenations of the strings stored in <code>x, y,</code> etc.\n",
      "\n",
      "\n",
      "* places the **separator** <code>s</code> passed to the argument <code>sep</code> in between those strings"
     ]
    },
    {
     "cell_type": "code",
     "collapsed": false,
     "input": [
      "%%R\n",
      "\n",
      "x = paste('a', 'b', 'c', 'd', sep='::')\n",
      "cat(x)"
     ],
     "language": "python",
     "metadata": {
      "slideshow": {
       "slide_type": "fragment"
      }
     },
     "outputs": [
      {
       "metadata": {},
       "output_type": "display_data",
       "text": [
        "a::b::c::d"
       ]
      }
     ],
     "prompt_number": 54
    },
    {
     "cell_type": "heading",
     "level": 4,
     "metadata": {
      "slideshow": {
       "slide_type": "slide"
      }
     },
     "source": [
      "String slicing: <code>substr(x, start=i, stop=j)</code>"
     ]
    },
    {
     "cell_type": "markdown",
     "metadata": {
      "slideshow": {
       "slide_type": "fragment"
      }
     },
     "source": [
      "The R function\n",
      "\n",
      "    substr(x, start=i, stop=j)\n",
      "* **returns** the **subtring** of the string <code>x</code> that\n",
      " * **starts** at character position $i^{th}$ \n",
      " * **stops** at character position $j^{th}$ (**INCLUDED!!!!**)"
     ]
    },
    {
     "cell_type": "code",
     "collapsed": false,
     "input": [
      "%%R\n",
      "\n",
      "x = '123456789'\n",
      "y = substr(x, 2,6)\n",
      "\n",
      "cat(y)"
     ],
     "language": "python",
     "metadata": {
      "slideshow": {
       "slide_type": "fragment"
      }
     },
     "outputs": [
      {
       "metadata": {},
       "output_type": "display_data",
       "text": [
        "23456"
       ]
      }
     ],
     "prompt_number": 55
    },
    {
     "cell_type": "markdown",
     "metadata": {
      "slideshow": {
       "slide_type": "slide"
      }
     },
     "source": [
      " \n",
      ">**Differences with Python:** \n",
      "\n",
      "> (1) All **ranges** in R always **start a $1$ instead of $0$**\n",
      ">\n",
      "> (2) All **ranges** in R always **include the upper-bound**\n",
      ">\n",
      "> This is valid whenever any type of ranges are around\n",
      "\n",
      "\n",
      "**Example:** In the string\n",
      "\n",
      "    x = \"abcde\"\n",
      "\n",
      "*  **the first character 'a' has index** $1$ (and not $0$ as in Python)\n",
      "\n",
      "\n",
      "* <code>substr(x, 1, 3)</code> returns 'abc' (while <code>x[1:3]</code> returns 'bc' in Python)"
     ]
    },
    {
     "cell_type": "heading",
     "level": 2,
     "metadata": {
      "slideshow": {
       "slide_type": "slide"
      }
     },
     "source": [
      "A deeper view on R basic data types and data structures"
     ]
    },
    {
     "cell_type": "heading",
     "level": 3,
     "metadata": {},
     "source": [
      "Python basic data types and data structures"
     ]
    },
    {
     "cell_type": "markdown",
     "metadata": {
      "slideshow": {
       "slide_type": "fragment"
      }
     },
     "source": [
      "Python is a **general purpose** language.\n",
      "\n",
      "Its **basic types** and **basic data structures** are very standard among such programming languages: "
     ]
    },
    {
     "cell_type": "markdown",
     "metadata": {
      "slideshow": {
       "slide_type": "fragment"
      }
     },
     "source": [
      "You have"
     ]
    },
    {
     "cell_type": "markdown",
     "metadata": {
      "slideshow": {
       "slide_type": "fragment"
      }
     },
     "source": [
      "* **First**, the **basic types**: <code>int</code>, <code>float</code>, <code>str</code>, and <code>bool</code>\n",
      "\n",
      "that represent **scalar quantities** (i.e. single elements) of **Booleans**, **numbers**, and **strings**."
     ]
    },
    {
     "cell_type": "markdown",
     "metadata": {
      "slideshow": {
       "slide_type": "fragment"
      }
     },
     "source": [
      "* **Second**, the **basic data structures**: <code>list</code>, <code>dict</code>, <code>sets</code>\n",
      "\n",
      "that represent **vectorial** quantities (i.e. collections) of the **basic types**."
     ]
    },
    {
     "cell_type": "markdown",
     "metadata": {},
     "source": [
      "In most general purpose languages:"
     ]
    },
    {
     "cell_type": "markdown",
     "metadata": {
      "slideshow": {
       "slide_type": "fragment"
      }
     },
     "source": [
      "**Basic Data Structures**  =  **structured collections** of **basic types**\n",
      "\n",
      "Depeding on their structures, these collections can be:"
     ]
    },
    {
     "cell_type": "markdown",
     "metadata": {
      "slideshow": {
       "slide_type": "fragment"
      }
     },
     "source": [
      "* **homogeneous**: collections of **identical basic types**\n",
      " \n",
      "$\\longrightarrow$  **Numpy arrays** and **Pandas Series**\n",
      " "
     ]
    },
    {
     "cell_type": "markdown",
     "metadata": {
      "slideshow": {
       "slide_type": "fragment"
      }
     },
     "source": [
      " \n",
      "* **heterogeneous**: collections of **different basic types**\n",
      "\n",
      "\n",
      "$\\longrightarrow$   **Python lists**, **Python Dictionaries**, and **Pandas DataFrames**\n",
      " \n",
      " "
     ]
    },
    {
     "cell_type": "markdown",
     "metadata": {
      "slideshow": {
       "slide_type": "fragment"
      }
     },
     "source": [
      "* **labelled**: The collection elements carry **names** or **labels**\n",
      "\n",
      "\n",
      "$\\longrightarrow$   **Python Dictionaries**, **Pandas Series**, and **Pandas DataFrames**\n",
      " \n",
      " "
     ]
    },
    {
     "cell_type": "markdown",
     "metadata": {
      "slideshow": {
       "slide_type": "fragment"
      }
     },
     "source": [
      "* **vectorized**: Functions defined at the element level can be **applied** to the **collection as a whole**\n",
      "\n",
      "\n",
      "$\\longrightarrow$  **Numpy arrays**, **Pandas Series**, and **Pandas Dataframes**"
     ]
    },
    {
     "cell_type": "heading",
     "level": 4,
     "metadata": {},
     "source": [
      "A view on types and structures inspired by data tables"
     ]
    },
    {
     "cell_type": "markdown",
     "metadata": {
      "slideshow": {
       "slide_type": "slide"
      }
     },
     "source": [
      "> * **R was created with STATISTICS IN MIND**.\n",
      "\n",
      "\n",
      "> * **The main object of statistics is that of a DATA TABLE**. \n",
      "\n",
      "\n",
      "> * **The BASICS DATA TYPES and DATA STRUCTURES in R are reflecting this purpose!**"
     ]
    },
    {
     "cell_type": "markdown",
     "metadata": {
      "slideshow": {
       "slide_type": "slide"
      }
     },
     "source": [
      "Actually, R doesn't really have **SEPARATE**\n",
      "\n",
      "\n",
      "* basic **scalar** data types\n",
      "\n",
      "\n",
      "* basic **vectorial** data structures"
     ]
    },
    {
     "cell_type": "markdown",
     "metadata": {
      "slideshow": {
       "slide_type": "slide"
      }
     },
     "source": [
      "R has only\n",
      "\n",
      "2 BASICS **VECTORIZED LABELLED DATA STRUCTURES**\n",
      "\n",
      "* (1) **VECTORS** $\\longrightarrow$  corresponding to data table COLUMNS (hence: HOMOGENEOUS)\n",
      "\n",
      "* (1) **LISTS** $\\longrightarrow$  corresponding to data table ROWS (hence: HETEROGENEOUS)\n",
      "\n",
      "... **AND NO BASIC SCALAR DATA TYPES!!!!**\n"
     ]
    },
    {
     "cell_type": "markdown",
     "metadata": {
      "slideshow": {
       "slide_type": "slide"
      }
     },
     "source": [
      "The \"basic scalar types\" that we just saw are in reallity ...\n",
      "\n",
      "... VECTORS WITH ONLY ONE ELEMENT!!!!"
     ]
    },
    {
     "cell_type": "markdown",
     "metadata": {
      "slideshow": {
       "slide_type": "fragment"
      }
     },
     "source": [
      "There are 3 basic data types in R separated in 3 MODES:\n",
      "\n",
      "* (1) Numerical Vectors: elements are numbers $\\rightarrow$ <code>numeric mode</code>\n",
      "\n",
      "\n",
      "* (2) Logical Vectors: elements are Booleans $\\rightarrow$ <code>logical mode</code>\n",
      "\n",
      "\n",
      "* (3) Character Vectors (elements are strings) $\\rightarrow$ <code>character mode</code>\n",
      "\n"
     ]
    },
    {
     "cell_type": "markdown",
     "metadata": {
      "slideshow": {
       "slide_type": "slide"
      }
     },
     "source": [
      "Remarks:\n",
      "\n",
      "* In R, the **basic data types** are already **vectorized** and **labelled**!\n",
      "\n",
      "\n",
      "* In statistics, **mode** = (data table) **column type**\n",
      "\n",
      "\n",
      "* The **mode** of a variable is **rougher** than its **type**:\n",
      "\n",
      "R distinguishes between two types in <code>numeric</code>  mode:\n",
      "\n",
      "$\\longrightarrow$  <code>int</code> for **integers**\n",
      "\n",
      "\n",
      "$\\longrightarrow$ <code>doubles</code> for **doubles**\n"
     ]
    },
    {
     "cell_type": "code",
     "collapsed": false,
     "input": [
      "%%R\n",
      "\n",
      "print(typeof(3))\n",
      "print(mode(3))"
     ],
     "language": "python",
     "metadata": {
      "slideshow": {
       "slide_type": "fragment"
      }
     },
     "outputs": [
      {
       "metadata": {},
       "output_type": "display_data",
       "text": [
        "[1] \"double\"\n",
        "[1] \"numeric\"\n"
       ]
      }
     ],
     "prompt_number": 56
    },
    {
     "cell_type": "code",
     "collapsed": false,
     "input": [
      "%%R\n",
      "\n",
      "a = as.integer(3)\n",
      "\n",
      "print(typeof(a))\n",
      "print(mode(a))"
     ],
     "language": "python",
     "metadata": {
      "slideshow": {
       "slide_type": "fragment"
      }
     },
     "outputs": [
      {
       "metadata": {},
       "output_type": "display_data",
       "text": [
        "[1] \"integer\"\n",
        "[1] \"numeric\"\n"
       ]
      }
     ],
     "prompt_number": 57
    },
    {
     "cell_type": "heading",
     "level": 3,
     "metadata": {
      "slideshow": {
       "slide_type": "slide"
      }
     },
     "source": [
      "Similar data structures in Python and in R"
     ]
    },
    {
     "cell_type": "markdown",
     "metadata": {
      "slideshow": {
       "slide_type": "fragment"
      }
     },
     "source": [
      "R vectors $\\simeq$ Pandas Series\n",
      "\n",
      "From a data type perspective:\n",
      "\n",
      "R $\\simeq$ what we would obtain if were allowed to program in Python only with \n",
      "\n",
      "\n",
      "$\\longrightarrow$ quantitative Pandas Series instead of numbers\n",
      "\n",
      "\n",
      "$\\longrightarrow$ logical Pandas Series instead of Booleans\n",
      "\n",
      "\n",
      "$\\longrightarrow$ categorical Pandas Series instead of strings"
     ]
    },
    {
     "cell_type": "heading",
     "level": 2,
     "metadata": {
      "slideshow": {
       "slide_type": "slide"
      }
     },
     "source": [
      "R vectors: basic manipulations"
     ]
    },
    {
     "cell_type": "heading",
     "level": 3,
     "metadata": {},
     "source": [
      "Vector creation"
     ]
    },
    {
     "cell_type": "markdown",
     "metadata": {
      "slideshow": {
       "slide_type": "fragment"
      }
     },
     "source": [
      "R vectors are created using the special **concatenate** function\n",
      "\n",
      "    c(a=x1, b=x2, c=x3, d=x4, etc)\n",
      "that returns a R vector with \n",
      "\n",
      "* element values <code>x1, x2, x3, x4</code> etc.\n",
      "\n",
      "* **labelled by the passed argument names**: <code>a, b, c, d, </code> etc.\n",
      "\n",
      "The **element values** in a R vector should all be of **the same type** (i.e. numbers, Booleans, or strings).\n",
      "\n",
      "###Type of R vector  = type of its elements\n",
      "\n",
      "**Remark**: As for Pandas Series, the **labels** (i.e. **parameter names**) may be omitted.\n",
      "\n"
     ]
    },
    {
     "cell_type": "code",
     "collapsed": false,
     "input": [
      "%%R\n",
      "\n",
      "x = c(a=12, b=34, c=45, d=34)\n",
      "\n",
      "\n",
      "y = c('Hello', 'Bonjour', 'Guten Tag')\n",
      "\n",
      "\n",
      "z = c(T, F, T, F, F)\n",
      "\n",
      "\n",
      "cat(\"x = \\n\");print(x); print(typeof(x)); cat('\\n\\n')\n",
      "cat(\"y = \\n\");print(y); print(typeof(y)); cat('\\n\\n')\n",
      "cat(\"z = \\n\");print(z); print(typeof(z)); cat('\\n\\n')"
     ],
     "language": "python",
     "metadata": {
      "slideshow": {
       "slide_type": "fragment"
      }
     },
     "outputs": [
      {
       "metadata": {},
       "output_type": "display_data",
       "text": [
        "x = \n",
        " a  b  c  d \n",
        "12 34 45 34 \n",
        "[1] \"double\"\n",
        "\n",
        "\n",
        "y = \n",
        "[1] \"Hello\"     \"Bonjour\"   \"Guten Tag\"\n",
        "[1] \"character\"\n",
        "\n",
        "\n",
        "z = \n",
        "          Bob Julien  Julie           Bob Julien  Julie    Bob Julien  Julie \n",
        "     1     62     39     84      1     62     39     84     62     39     84 \n",
        "[1] \"double\"\n",
        "\n",
        "\n"
       ]
      }
     ],
     "prompt_number": 58
    },
    {
     "cell_type": "markdown",
     "metadata": {
      "slideshow": {
       "slide_type": "slide"
      }
     },
     "source": [
      "We may want to create an empty vector, which we will populate later on. \n",
      "\n",
      "For that, we need to invoke the **vector class constructor** explictely: \n",
      "\n",
      "    x = vector(lenght, mode)\n",
      "where\n",
      "\n",
      "* <code>lenght</code> is the **vector length**\n",
      "\n",
      "* <code>mode</code> is the **vector mode**:\n",
      "\n",
      "    'numeric' \n",
      "    'logical' \n",
      "    'character' "
     ]
    },
    {
     "cell_type": "code",
     "collapsed": false,
     "input": [
      "%%R\n",
      "\n",
      "x = vector(length=3, mode='character')\n",
      "\n",
      "cat('The mode of the vector x is', mode(x),'its length is', length(x),'\\n')\n",
      "\n",
      "x[1] = 'elephant'\n",
      "x[2] = 'raccoon'\n",
      "x[3] = 'monkey'\n",
      "\n",
      "print(x)"
     ],
     "language": "python",
     "metadata": {},
     "outputs": [
      {
       "metadata": {},
       "output_type": "display_data",
       "text": [
        "The mode of the vector x is character its length is 3 \n",
        "[1] \"elephant\" \"raccoon\"  \"monkey\"  \n"
       ]
      }
     ],
     "prompt_number": 59
    },
    {
     "cell_type": "heading",
     "level": 3,
     "metadata": {
      "slideshow": {
       "slide_type": "slide"
      }
     },
     "source": [
      "Element access"
     ]
    },
    {
     "cell_type": "markdown",
     "metadata": {
      "slideshow": {
       "slide_type": "fragment"
      }
     },
     "source": [
      "**Element indexing** and **element retrieval** in R vectorized basic types (i.e vectors and lists) are very similar to that of Python:\n",
      "\n",
      "On a **vector** <code>x</code>, the **BRACKET OPERATOR** \n",
      "\n",
      "    x[range] \n",
      "\n",
      "gives us access to the elements specified by the <code>range</code>, which can be:\n",
      "\n",
      "* a **single index** from 1 to <code>length(x)</code> (retrieving the corresponding element)\n",
      "\n",
      "\n",
      "* a **vector of indices** (retrieving the corresponding sublist)\n",
      "\n",
      "\n",
      "* one can replace indices by **element names** if provided\n",
      "\n",
      "\n",
      ">**Differences with Python:**\n",
      ">\n",
      "> * Indices always start at 1 (instead of 0)\n",
      ">\n",
      ">\n",
      "> * The slice notation n:m actually creates the integer vector $(n, n+1, \\dots, m-1, m)$\n",
      ">\n"
     ]
    },
    {
     "cell_type": "code",
     "collapsed": false,
     "input": [
      "%%R\n",
      "\n",
      "scores = c(Mark=88, John=24, Lucie=54, Bob=100)\n",
      "\n",
      "a = scores['Mark']\n",
      "print(a)\n",
      "\n",
      "b = scores[1]\n",
      "print(b)\n",
      "\n",
      "c = scores[1:3]\n",
      "print(c)\n",
      "\n",
      "d = scores[-2]\n",
      "print(d)"
     ],
     "language": "python",
     "metadata": {
      "slideshow": {
       "slide_type": "fragment"
      }
     },
     "outputs": [
      {
       "metadata": {},
       "output_type": "display_data",
       "text": [
        "Mark \n",
        "  88 \n",
        "Mark \n",
        "  88 \n",
        " Mark  John Lucie \n",
        "   88    24    54 \n",
        " Mark Lucie   Bob \n",
        "   88    54   100 \n"
       ]
      }
     ],
     "prompt_number": 60
    },
    {
     "cell_type": "heading",
     "level": 2,
     "metadata": {
      "slideshow": {
       "slide_type": "slide"
      }
     },
     "source": [
      "The **muscles** of Mr. R: **LOOPING MECHANISMS**"
     ]
    },
    {
     "cell_type": "heading",
     "level": 3,
     "metadata": {
      "slideshow": {
       "slide_type": "fragment"
      }
     },
     "source": [
      "<code>for</code> looping mechanism"
     ]
    },
    {
     "cell_type": "markdown",
     "metadata": {
      "slideshow": {
       "slide_type": "fragment"
      }
     },
     "source": [
      "As in Python, we have <code>for</code> loops. \n",
      "\n",
      "The main difference is that \n",
      "\n",
      "**code blocks are indicated by curly brackets instead of special indentation**\n",
      "\n",
      "The are also other minor syntactical differences, as you will see below.\n",
      "\n",
      "The fact that \n",
      "\n",
      "    x = n:m\n",
      "creates a integer vector <code>x</code> on which a for loop can iterate is very practical. \n",
      "\n",
      "There is also the function\n",
      "\n",
      "    seq(from=a, to=b, by=c)\n",
      "that creates integer vectors, very useful to loop over, and a function\n",
      "\n",
      "    rep(x, n)\n",
      "that returns a the vector <code>x</code> repeated n times.\n",
      "\n"
     ]
    },
    {
     "cell_type": "code",
     "collapsed": false,
     "input": [
      "%%R\n",
      "\n",
      "DNA   = rep(c('A','C','T'),4)\n",
      "RANGE = 1:10\n",
      "SEQ   = seq(0,100,20)\n",
      "\n",
      "print(DNA)\n",
      "print(RANGE)\n",
      "print(SEQ)"
     ],
     "language": "python",
     "metadata": {
      "slideshow": {
       "slide_type": "fragment"
      }
     },
     "outputs": [
      {
       "metadata": {},
       "output_type": "display_data",
       "text": [
        " [1] \"A\" \"C\" \"T\" \"A\" \"C\" \"T\" \"A\" \"C\" \"T\" \"A\" \"C\" \"T\"\n",
        " [1]  1  2  3  4  5  6  7  8  9 10\n",
        "[1]   0  20  40  60  80 100\n"
       ]
      }
     ],
     "prompt_number": 61
    },
    {
     "cell_type": "code",
     "collapsed": false,
     "input": [
      "%%R\n",
      "\n",
      "for(x in 1:10){\n",
      "    print(x^2)\n",
      "}"
     ],
     "language": "python",
     "metadata": {
      "slideshow": {
       "slide_type": "fragment"
      }
     },
     "outputs": [
      {
       "metadata": {},
       "output_type": "display_data",
       "text": [
        "[1] 1\n",
        "[1] 4\n",
        "[1] 9\n",
        "[1] 16\n",
        "[1] 25\n",
        "[1] 36\n",
        "[1] 49\n",
        "[1] 64\n",
        "[1] 81\n",
        "[1] 100\n"
       ]
      }
     ],
     "prompt_number": 62
    },
    {
     "cell_type": "markdown",
     "metadata": {
      "slideshow": {
       "slide_type": "fragment"
      }
     },
     "source": [
      "Since basic types are vectors, one can loop on any 'numeric', 'logical', or 'character' types, even with a single element:"
     ]
    },
    {
     "cell_type": "code",
     "collapsed": false,
     "input": [
      "%%R\n",
      "# Try the loop in with different a by uncommenting some lines below\n",
      "a = 3\n",
      "#a = c(3, 4, 5)\n",
      "#a = 'Hello'\n",
      "#a = c('Hello', 'Bonjour', 'Gutent Tag')\n",
      "\n",
      "for( x in a) print(x) # We don't need curly braces with just one command"
     ],
     "language": "python",
     "metadata": {},
     "outputs": [
      {
       "metadata": {},
       "output_type": "display_data",
       "text": [
        "[1] 3\n"
       ]
      }
     ],
     "prompt_number": 63
    },
    {
     "cell_type": "markdown",
     "metadata": {
      "slideshow": {
       "slide_type": "fragment"
      }
     },
     "source": [
      "One can also retrieve the vector element names using the function:\n",
      "\n",
      "    names(x)\n",
      "Then we can iterate over this names."
     ]
    },
    {
     "cell_type": "code",
     "collapsed": false,
     "input": [
      "%%R\n",
      "scores = c(Mark=88, John=24, Lucie=54, Bob=100)\n",
      "\n",
      "for (student in names(scores)) cat(student, 'got', scores[student], '\\n')"
     ],
     "language": "python",
     "metadata": {
      "slideshow": {
       "slide_type": "fragment"
      }
     },
     "outputs": [
      {
       "metadata": {},
       "output_type": "display_data",
       "text": [
        "Mark got 88 \n",
        "John got 24 \n",
        "Lucie got 54 \n",
        "Bob got 100 \n"
       ]
      }
     ],
     "prompt_number": 64
    },
    {
     "cell_type": "heading",
     "level": 3,
     "metadata": {
      "slideshow": {
       "slide_type": "slide"
      }
     },
     "source": [
      "Vectorized loops"
     ]
    },
    {
     "cell_type": "markdown",
     "metadata": {
      "slideshow": {
       "slide_type": "fragment"
      }
     },
     "source": [
      "When possible\n",
      "\n",
      "**Loops should be implemented the vectorized way!!!**\n",
      "\n",
      "since \n",
      "\n",
      "**All the operations for basic types are vectorized!!!**\n",
      "\n",
      "This works exactly the same way as for Numpy arrays:"
     ]
    },
    {
     "cell_type": "heading",
     "level": 3,
     "metadata": {
      "slideshow": {
       "slide_type": "slide"
      }
     },
     "source": [
      "Vectorized numerical operations"
     ]
    },
    {
     "cell_type": "code",
     "collapsed": false,
     "input": [
      "%%R\n",
      "\n",
      "## VECTORIZED OPERATION ON NUMERIC TYPES\n",
      "\n",
      "x = c(1,3,2,4)\n",
      "y = c(4,1,4,2)\n",
      "\n",
      "print(x+y)\n",
      "print(x*y)\n",
      "print(x/y)\n",
      "print(x^y)\n",
      "print(x%%y)\n",
      "print(x%/%y)"
     ],
     "language": "python",
     "metadata": {
      "slideshow": {
       "slide_type": "fragment"
      }
     },
     "outputs": [
      {
       "metadata": {},
       "output_type": "display_data",
       "text": [
        "[1] 5 4 6 6\n",
        "[1] 4 3 8 8\n",
        "[1] 0.25 3.00 0.50 2.00\n",
        "[1]  1  3 16 16\n",
        "[1] 1 0 2 0\n",
        "[1] 0 3 0 2\n"
       ]
      }
     ],
     "prompt_number": 65
    },
    {
     "cell_type": "code",
     "collapsed": false,
     "input": [
      "%%R\n",
      "# OTHER BASIC MATH and STAT OPERATIONS ON THE NUMERICAL TYPE\n",
      "x = c(2, 1, 54, 21, 56, 7, 1, 4)\n",
      "\n",
      "mean(x)\n",
      "median(x)\n",
      "sd(x)\n",
      "quantile(x,0.2)\n",
      "\n",
      "sum(x)\n",
      "prod(x)\n",
      "cumsum(x)\n",
      "cumprod(x)\n",
      "\n",
      "sqrt(x)\n",
      "cos(x)\n",
      "sin(x)"
     ],
     "language": "python",
     "metadata": {
      "slideshow": {
       "slide_type": "slide"
      }
     },
     "outputs": [],
     "prompt_number": 66
    },
    {
     "cell_type": "markdown",
     "metadata": {
      "slideshow": {
       "slide_type": "fragment"
      }
     },
     "source": [
      "For instance, to normalize a sequence of numbers:"
     ]
    },
    {
     "cell_type": "code",
     "collapsed": false,
     "input": [
      "%%R\n",
      "numbers = c(2, 1, 54, 21, 56, 7, 1, 4)"
     ],
     "language": "python",
     "metadata": {
      "slideshow": {
       "slide_type": "fragment"
      }
     },
     "outputs": [],
     "prompt_number": 67
    },
    {
     "cell_type": "markdown",
     "metadata": {
      "slideshow": {
       "slide_type": "fragment"
      }
     },
     "source": [
      "one could use a for loops as follows:"
     ]
    },
    {
     "cell_type": "code",
     "collapsed": false,
     "input": [
      "%%R\n",
      "m = mean(numbers)\n",
      "s = sd(numbers)\n",
      "normalized = vector(length=length(x), mode=mode(x))\n",
      "\n",
      "for (i in 1:length(numbers)){\n",
      "    normalized[i] = (numbers[i] - m)/s\n",
      "}\n",
      "\n",
      "print(normalized)"
     ],
     "language": "python",
     "metadata": {
      "slideshow": {
       "slide_type": "fragment"
      }
     },
     "outputs": [
      {
       "metadata": {},
       "output_type": "display_data",
       "text": [
        "[1] -0.6884905 -0.7308591  1.5146790  0.1165138  1.5994163 -0.4766472 -0.7308591\n",
        "[8] -0.6037532\n"
       ]
      }
     ],
     "prompt_number": 68
    },
    {
     "cell_type": "markdown",
     "metadata": {
      "slideshow": {
       "slide_type": "fragment"
      }
     },
     "source": [
      "The following vectorized version is much preferred:"
     ]
    },
    {
     "cell_type": "code",
     "collapsed": false,
     "input": [
      "%%R\n",
      "\n",
      "normalized = (numbers-mean(numbers))/sd(numbers)\n",
      "\n",
      "print(normalized)"
     ],
     "language": "python",
     "metadata": {
      "slideshow": {
       "slide_type": "fragment"
      }
     },
     "outputs": [
      {
       "metadata": {},
       "output_type": "display_data",
       "text": [
        "[1] -0.6884905 -0.7308591  1.5146790  0.1165138  1.5994163 -0.4766472 -0.7308591\n",
        "[8] -0.6037532\n"
       ]
      }
     ],
     "prompt_number": 69
    },
    {
     "cell_type": "heading",
     "level": 2,
     "metadata": {
      "slideshow": {
       "slide_type": "slide"
      }
     },
     "source": [
      "The brain of Mr. R: BRANCHING MECHANISMS"
     ]
    },
    {
     "cell_type": "heading",
     "level": 3,
     "metadata": {
      "slideshow": {
       "slide_type": "fragment"
      }
     },
     "source": [
      "<code>If</code> looping mechanisms"
     ]
    },
    {
     "cell_type": "markdown",
     "metadata": {
      "slideshow": {
       "slide_type": "fragment"
      }
     },
     "source": [
      "They function exactly as in Python, except for \n",
      "\n",
      "* the curly brace to define the code blocks\n",
      "\n",
      "* the round parenthesis surrounding the Boolean condition"
     ]
    },
    {
     "cell_type": "code",
     "collapsed": false,
     "input": [
      "%%R\n",
      "\n",
      "condition = F\n",
      "\n",
      "if(condition){\n",
      "    print('If the boolean variable \"condition\" is True, this statement is executed.')\n",
      "} else {   \n",
      "    print('Otherwise, this statement here is executed')\n",
      "}"
     ],
     "language": "python",
     "metadata": {
      "slideshow": {
       "slide_type": "fragment"
      }
     },
     "outputs": [
      {
       "metadata": {},
       "output_type": "display_data",
       "text": [
        "[1] \"If the boolean variable \\\"condition\\\" is True, this statement is executed.\"\n"
       ]
      }
     ],
     "prompt_number": 70
    },
    {
     "cell_type": "code",
     "collapsed": false,
     "input": [
      "%%R\n",
      "# The else part may be omitted in case there is nothing to do when \"condition\" is False\n",
      "condition = T\n",
      "\n",
      "if(condition){\n",
      "    print('Great! Condition was True')\n",
      "}   "
     ],
     "language": "python",
     "metadata": {
      "slideshow": {
       "slide_type": "fragment"
      }
     },
     "outputs": [
      {
       "metadata": {},
       "output_type": "display_data",
       "text": [
        "[1] \"Great! Condition was True\"\n"
       ]
      }
     ],
     "prompt_number": 71
    },
    {
     "cell_type": "code",
     "collapsed": false,
     "input": [
      "%%R\n",
      "\n",
      "# try with number = 0, 1, 2, 3, 4\n",
      "# the block of code corresponding to the first matching condition is executed;\n",
      "# the remaining conditions are then skipped\n",
      "\n",
      "number = 0.5\n",
      "\n",
      "if (number < 1){\n",
      "    cat('number is smaller than', 1)\n",
      "} else if (number < 2){\n",
      "    cat('number\"is smaller than', 2)\n",
      "} else if (number < 3){\n",
      "    cat('number is smaller than', 3)\n",
      "} else{\n",
      "    print('number is big!')\n",
      "}   "
     ],
     "language": "python",
     "metadata": {
      "slideshow": {
       "slide_type": "slide"
      }
     },
     "outputs": [
      {
       "metadata": {},
       "output_type": "display_data",
       "text": [
        "number is smaller than 1"
       ]
      }
     ],
     "prompt_number": 72
    },
    {
     "cell_type": "heading",
     "level": 3,
     "metadata": {
      "slideshow": {
       "slide_type": "slide"
      }
     },
     "source": [
      "Vectorized branching mechanisms"
     ]
    },
    {
     "cell_type": "markdown",
     "metadata": {
      "slideshow": {
       "slide_type": "slide"
      }
     },
     "source": [
      "When possible:\n",
      "\n",
      "**Branching should be implemented the vectorized way!!!**\n",
      "\n",
      "since:\n",
      "\n",
      "**All the operations for basic types are vectorized!!!**\n",
      "\n",
      "This works exactly the same way as Numpy arrays:"
     ]
    },
    {
     "cell_type": "heading",
     "level": 3,
     "metadata": {
      "slideshow": {
       "slide_type": "slide"
      }
     },
     "source": [
      "Vectorized boolean operations"
     ]
    },
    {
     "cell_type": "code",
     "collapsed": false,
     "input": [
      "%%R\n",
      "\n",
      "a = c(T, F, F, T, T, F)\n",
      "b = c(F, T, T, F, F, T)\n",
      "\n",
      "print(a & b) # & = Python's 'and'\n",
      "print(a | b) # | = Python's 'or'\n",
      "print(!a)    # ! = Python's 'not'\n",
      "print( a | (!b & a))"
     ],
     "language": "python",
     "metadata": {
      "slideshow": {
       "slide_type": "fragment"
      }
     },
     "outputs": [
      {
       "metadata": {},
       "output_type": "display_data",
       "text": [
        "          Bob Julien  Julie    Bob Julien  Julie                  Bob Julien \n",
        "  TRUE   TRUE   TRUE   TRUE   TRUE   TRUE   TRUE   TRUE   TRUE   TRUE   TRUE \n",
        " Julie \n",
        "  TRUE \n",
        "          Bob Julien  Julie    Bob Julien  Julie                  Bob Julien \n",
        "  TRUE   TRUE   TRUE   TRUE   TRUE   TRUE   TRUE   TRUE   TRUE   TRUE   TRUE \n",
        " Julie \n",
        "  TRUE \n",
        "          Bob Julien  Julie    Bob Julien  Julie                  Bob Julien \n",
        " FALSE  FALSE  FALSE  FALSE  FALSE  FALSE  FALSE  FALSE  FALSE  FALSE  FALSE \n",
        " Julie \n",
        " FALSE \n",
        "          Bob Julien  Julie    Bob Julien  Julie                  Bob Julien \n",
        "  TRUE   TRUE   TRUE   TRUE   TRUE   TRUE   TRUE   TRUE   TRUE   TRUE   TRUE \n",
        " Julie \n",
        "  TRUE \n"
       ]
      }
     ],
     "prompt_number": 73
    },
    {
     "cell_type": "code",
     "collapsed": false,
     "input": [
      "%%R\n",
      "a = c(1, 2, 3, 4, 5)\n",
      "b = c(9, 8, 7, 6, 5)\n",
      "\n",
      "print(a == b)\n",
      "print(a <= b)\n",
      "print(a >= b)\n",
      "print(a < b)\n",
      "print(a > b)"
     ],
     "language": "python",
     "metadata": {
      "slideshow": {
       "slide_type": "slide"
      }
     },
     "outputs": [
      {
       "metadata": {},
       "output_type": "display_data",
       "text": [
        "[1] FALSE FALSE FALSE FALSE  TRUE\n",
        "[1] TRUE TRUE TRUE TRUE TRUE\n",
        "[1] FALSE FALSE FALSE FALSE  TRUE\n",
        "[1]  TRUE  TRUE  TRUE  TRUE FALSE\n",
        "[1] FALSE FALSE FALSE FALSE FALSE\n"
       ]
      }
     ],
     "prompt_number": 74
    },
    {
     "cell_type": "markdown",
     "metadata": {
      "slideshow": {
       "slide_type": "slide"
      }
     },
     "source": [
      "As for Numpy arrays, one can retrieve elements from an R vector by logical indexing:"
     ]
    },
    {
     "cell_type": "code",
     "collapsed": false,
     "input": [
      "%%R\n",
      "\n",
      "dat = c(1, 2, 3, 4, 5, 6)\n",
      "ind = c(T, F, T, T, F, F)\n",
      "\n",
      "print(dat[ind])"
     ],
     "language": "python",
     "metadata": {
      "slideshow": {
       "slide_type": "fragment"
      }
     },
     "outputs": [
      {
       "metadata": {},
       "output_type": "display_data",
       "text": [
        " [1]  1 NA NA NA  1  1 NA NA NA NA NA NA\n"
       ]
      }
     ],
     "prompt_number": 75
    },
    {
     "cell_type": "code",
     "collapsed": false,
     "input": [
      "%%R\n",
      "\n",
      "dat = c(1, 2, 3, 4, 5, 6)\n",
      "ind = dat < 4\n",
      "\n",
      "print(ind)"
     ],
     "language": "python",
     "metadata": {
      "slideshow": {
       "slide_type": "fragment"
      }
     },
     "outputs": [
      {
       "metadata": {},
       "output_type": "display_data",
       "text": [
        "[1]  TRUE  TRUE  TRUE FALSE FALSE FALSE\n"
       ]
      }
     ],
     "prompt_number": 76
    },
    {
     "cell_type": "markdown",
     "metadata": {
      "slideshow": {
       "slide_type": "fragment"
      }
     },
     "source": [
      "Putting everything together:"
     ]
    },
    {
     "cell_type": "code",
     "collapsed": false,
     "input": [
      "%%R\n",
      "\n",
      "filtered_data = dat[dat < 4]\n",
      "print(filtered_data)"
     ],
     "language": "python",
     "metadata": {
      "slideshow": {
       "slide_type": "fragment"
      }
     },
     "outputs": [
      {
       "metadata": {},
       "output_type": "display_data",
       "text": [
        "[1] 1 2 3\n"
       ]
      }
     ],
     "prompt_number": 77
    },
    {
     "cell_type": "markdown",
     "metadata": {
      "slideshow": {
       "slide_type": "slide"
      }
     },
     "source": [
      "**Problem**: extracting the ouliers from a sequence of data points using\n",
      "\n",
      "(1) conventional for loop and if statement\n",
      "\n",
      "(2) vectorized logical indexing"
     ]
    },
    {
     "cell_type": "code",
     "collapsed": false,
     "input": [
      "%%R\n",
      "# DATA POINTS\n",
      "x = c(1,2, 89, 50, 44, 53, 60, 45, 62, 53, 37, 48, 70, 100, 55)\n",
      "\n",
      "# FIRST AND THIRD QUARTILES\n",
      "Q1 = quantile(x, 0.25)\n",
      "Q3 = quantile(x, 0.75)\n",
      "\n",
      "# OUTLIER LOWER AND UPPER CUTOFFS\n",
      "L = Q1 - 1.5*(Q3 - Q1)\n",
      "U = Q3 + 1.5*(Q3 - Q1)"
     ],
     "language": "python",
     "metadata": {
      "slideshow": {
       "slide_type": "slide"
      }
     },
     "outputs": [],
     "prompt_number": 78
    },
    {
     "cell_type": "markdown",
     "metadata": {},
     "source": [
      "(1) using conventional if and for"
     ]
    },
    {
     "cell_type": "code",
     "collapsed": false,
     "input": [
      "%%R\n",
      "upper_outliers = c()\n",
      "lower_outliers = c()\n",
      "\n",
      "for(a in x){\n",
      "    if (a > U) upper_outliers = c(upper_outliers, a)\n",
      "    if (a < L) lower_outliers = c(lower_outliers, a)\n",
      "}\n",
      "        \n",
      "cat('Upper Outliers:', upper_outliers, '\\n')\n",
      "cat('Lower Outliers:', lower_outliers, '\\n')"
     ],
     "language": "python",
     "metadata": {},
     "outputs": [
      {
       "metadata": {},
       "output_type": "display_data",
       "text": [
        "Upper Outliers: 89 100 \n",
        "Lower Outliers: 1 2 \n"
       ]
      }
     ],
     "prompt_number": 79
    },
    {
     "cell_type": "markdown",
     "metadata": {},
     "source": [
      "(2) vectorized version"
     ]
    },
    {
     "cell_type": "code",
     "collapsed": false,
     "input": [
      "%%R\n",
      "\n",
      "upper_outliers = x[x > U]\n",
      "lower_outliers = x[x < L]\n",
      "\n",
      "cat('Upper Outliers:', upper_outliers, '\\n')\n",
      "cat('Lower Outliers:', lower_outliers, '\\n')"
     ],
     "language": "python",
     "metadata": {
      "slideshow": {
       "slide_type": "fragment"
      }
     },
     "outputs": [
      {
       "metadata": {},
       "output_type": "display_data",
       "text": [
        "Upper Outliers: 89 100 \n",
        "Lower Outliers: 1 2 \n"
       ]
      }
     ],
     "prompt_number": 80
    },
    {
     "cell_type": "heading",
     "level": 3,
     "metadata": {
      "slideshow": {
       "slide_type": "slide"
      }
     },
     "source": [
      "Useful functions for vectorized computations"
     ]
    },
    {
     "cell_type": "markdown",
     "metadata": {
      "slideshow": {
       "slide_type": "fragment"
      }
     },
     "source": [
      "Let <code>x</code> be a logical vector. The functions\n",
      "    \n",
      "    any(x)\n",
      "returns <code>TRUE</code> if **ONE** of the elements in <code>x</code> is <code>TRUE</code>\n",
      "and <code>FALSE</code> otherwise.\n",
      "\n",
      "    all(x)\n",
      "returns <code>TRUE</code> if **ALL** the elements in <code>x</code> are <code>TRUE</code> and <code>FALSE</code> otherwise."
     ]
    },
    {
     "cell_type": "code",
     "collapsed": false,
     "input": [
      "%%R\n",
      "x = c(T, F, T)\n",
      "\n",
      "print(any(x))\n",
      "print(all(x))"
     ],
     "language": "python",
     "metadata": {
      "slideshow": {
       "slide_type": "fragment"
      }
     },
     "outputs": [
      {
       "metadata": {},
       "output_type": "display_data",
       "text": [
        "[1] TRUE\n",
        "[1] TRUE\n"
       ]
      }
     ],
     "prompt_number": 81
    },
    {
     "cell_type": "markdown",
     "metadata": {
      "slideshow": {
       "slide_type": "slide"
      }
     },
     "source": [
      "The function\n",
      "\n",
      "    z = ifelse(cond, x, y)\n",
      "\n",
      "* takes a logical vector <code>cond</code> \n",
      "* returns a vector from <code>x</code> and <code>y</code> as follows:\n",
      "\n",
      "    \n",
      "    z[i] = x[i] if cond[i] == TRUE\n",
      "    \n",
      "    z[i] = y[i] if cond[i] == FALSE\n",
      "\n",
      "\n",
      "    "
     ]
    },
    {
     "cell_type": "markdown",
     "metadata": {
      "slideshow": {
       "slide_type": "slide"
      }
     },
     "source": [
      "Suppose, we have two series of observations, and we want to keep to the highest value for each observation.\n",
      "\n",
      "We can do that with a classical for/if statement, or use vectorization with <code>ifelse</code>:"
     ]
    },
    {
     "cell_type": "code",
     "collapsed": false,
     "input": [
      "%%R\n",
      "obs1 = c(12, 34, 55, 21, 54, 22, 78 ,65, 34)\n",
      "obs2 = c(24, 14, 85, 12, 99, 10, 1 ,9, 100)"
     ],
     "language": "python",
     "metadata": {
      "slideshow": {
       "slide_type": "fragment"
      }
     },
     "outputs": [],
     "prompt_number": 82
    },
    {
     "cell_type": "code",
     "collapsed": false,
     "input": [
      "%%R\n",
      "# CLASSICAL FOR/IF\n",
      "\n",
      "max_obs = c()\n",
      "for (i in 1:length(obs1)){\n",
      "    if (obs1[i] >= obs2[i]) max_obs = c(max_obs, obs1[i])\n",
      "    else max_obs = c(max_obs, obs2[i])\n",
      "}\n",
      "print(max_obs)"
     ],
     "language": "python",
     "metadata": {},
     "outputs": [
      {
       "metadata": {},
       "output_type": "display_data",
       "text": [
        "[1]  24  34  85  21  99  22  78  65 100\n"
       ]
      }
     ],
     "prompt_number": 83
    },
    {
     "cell_type": "code",
     "collapsed": false,
     "input": [
      "%%R\n",
      "# VECTORIZED VERSION\n",
      "\n",
      "max_obs = ifelse(obs1 > obs2, obs1, obs2)\n",
      "\n",
      "cat('\\n','obs1:', obs1,'\\n','obs2: ', obs2,'\\n','maxo: ', max_obs)"
     ],
     "language": "python",
     "metadata": {},
     "outputs": [
      {
       "metadata": {},
       "output_type": "display_data",
       "text": [
        "\n",
        " obs1: 12 34 55 21 54 22 78 65 34 \n",
        " obs2:  24 14 85 12 99 10 1 9 100 \n",
        " maxo:  24 34 85 21 99 22 78 65 100"
       ]
      }
     ],
     "prompt_number": 84
    },
    {
     "cell_type": "heading",
     "level": 2,
     "metadata": {
      "slideshow": {
       "slide_type": "slide"
      }
     },
     "source": [
      "The hands of Mr. R: FUNCTIONS"
     ]
    },
    {
     "cell_type": "markdown",
     "metadata": {
      "slideshow": {
       "slide_type": "fragment"
      }
     },
     "source": [
      "R way of defining functions ressembles much **Python inline** function definitions:"
     ]
    },
    {
     "cell_type": "code",
     "collapsed": false,
     "input": [
      "f = lambda x, y : x + 2*y\n",
      "\n",
      "f(3, 2)"
     ],
     "language": "python",
     "metadata": {
      "slideshow": {
       "slide_type": "fragment"
      }
     },
     "outputs": [
      {
       "metadata": {},
       "output_type": "pyout",
       "prompt_number": 85,
       "text": [
        "7"
       ]
      }
     ],
     "prompt_number": 85
    },
    {
     "cell_type": "markdown",
     "metadata": {
      "slideshow": {
       "slide_type": "fragment"
      }
     },
     "source": [
      "The Python keyword <code>lambda</code> creates a function whose\n",
      "\n",
      "* input variables are the variables defined before the colon\n",
      "\n",
      "* output is the evaluation of the statement after the colon\n",
      "\n",
      "The function is then stored into the variable (here: <code>f</code>), which becomes the function name."
     ]
    },
    {
     "cell_type": "markdown",
     "metadata": {
      "slideshow": {
       "slide_type": "fragment"
      }
     },
     "source": [
      "In R,\n",
      "\n",
      "* The keyword <code>lambda</code> is replaced by the keyword <code>function</code>\n",
      "\n",
      "\n",
      "* The **function output** is preceeded by the keyword <code>return</code> \n",
      "\n",
      "\n",
      "> **Difference with Python:**\n",
      ">\n",
      "> If the keyword <code>return</code> is omitted in a R function, the **function output** will coincide with the **last statement output** in the function body. \n",
      "\n",
      "> In R, returning nothing corresponds to returning the object <code>NULL</code> (corresponding to the object <code>None</code> in Python).\n",
      "\n",
      "Other than that, it's very much the same business:"
     ]
    },
    {
     "cell_type": "code",
     "collapsed": false,
     "input": [
      "%%R \n",
      "\n",
      "print_and_return_nothing = function(string='Hello!'){\n",
      "    print(string)\n",
      "    return(NULL)\n",
      "    }\n",
      "    \n",
      "a = print_and_return_nothing()\n",
      "\n",
      "print(a)"
     ],
     "language": "python",
     "metadata": {
      "slideshow": {
       "slide_type": "fragment"
      }
     },
     "outputs": [
      {
       "metadata": {},
       "output_type": "display_data",
       "text": [
        "[1] \"Hello!\"\n",
        "NULL\n"
       ]
      }
     ],
     "prompt_number": 86
    },
    {
     "cell_type": "code",
     "collapsed": false,
     "input": [
      "%%R\n",
      "\n",
      "# the code in the previous cell above is the same as the following one that returns None\n",
      "\n",
      "print_and_return_nothing = function(string='Hello!'){\n",
      "print(string)\n",
      "return(NULL)\n",
      "}\n",
      "\n",
      "a = print_and_return_nothing()\n",
      "\n",
      "print(a)"
     ],
     "language": "python",
     "metadata": {
      "slideshow": {
       "slide_type": "fragment"
      }
     },
     "outputs": [
      {
       "metadata": {},
       "output_type": "display_data",
       "text": [
        "[1] \"Hello!\"\n",
        "NULL\n"
       ]
      }
     ],
     "prompt_number": 87
    },
    {
     "cell_type": "code",
     "collapsed": false,
     "input": [
      "%%R\n",
      "dont_print_but_return_something = function(string='Hello!') string\n",
      "\n",
      "xxx = dont_print_but_return_something()\n",
      "\n",
      "print(xxx)\n"
     ],
     "language": "python",
     "metadata": {
      "slideshow": {
       "slide_type": "fragment"
      }
     },
     "outputs": [
      {
       "metadata": {},
       "output_type": "display_data",
       "text": [
        "[1] \"Hello!\"\n"
       ]
      }
     ],
     "prompt_number": 88
    }
   ],
   "metadata": {}
  }
 ]
}