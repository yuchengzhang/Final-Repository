{
 "metadata": {
  "name": ""
 },
 "nbformat": 3,
 "nbformat_minor": 0,
 "worksheets": [
  {
   "cells": [
    {
     "cell_type": "markdown",
     "metadata": {
      "slideshow": {
       "slide_type": "fragment"
      }
     },
     "source": [
      "###Lecture outline\n",
      "\n",
      "* Reminder: **Vectors** as basic **data types** \n",
      "\n",
      "\n",
      "* **Lists** as basic **data structures**\n",
      "\n",
      "\n",
      "* Relation between data tables, vectors, and lists\n",
      "\n",
      "\n",
      "* Using **lists** to write **classes**\n",
      "\n",
      "\n",
      "* Generic programming in R\n"
     ]
    },
    {
     "cell_type": "code",
     "collapsed": false,
     "input": [
      "%load_ext rmagic"
     ],
     "language": "python",
     "metadata": {
      "slideshow": {
       "slide_type": "fragment"
      }
     },
     "outputs": [],
     "prompt_number": 1
    },
    {
     "cell_type": "heading",
     "level": 2,
     "metadata": {},
     "source": [
      "Data table columns, R vectors, and R types"
     ]
    },
    {
     "cell_type": "markdown",
     "metadata": {},
     "source": [
      "As we saw, R basic types are **vectors** and not **scalars**. They are already vectorized container! This allows for vectorized looping, branching, and function application. \n",
      "\n",
      "The mains basic vectorized types are:\n",
      "\n",
      "* **numeric** vectors\n",
      "* **logical** vectors\n",
      "* **character** vectors\n",
      "\n",
      "and they correspond to the **columns** of a data table.\n",
      "\n",
      "The data table columns contain the values of the population **characteristics** we are studying. Here are several equivalent names (associated with different fields) to denote these population characteristics:\n",
      "\n",
      "* programming: **attributes**\n",
      "* machine learning: **features**\n",
      "* statistics: **variables**\n",
      "* physics: **observables** \n",
      "* mathematics: **functions**\n",
      "\n",
      "Mathematically, a population characteristic is a function $X:\\Omega\\rightarrow A$ from the **population** (also called **universe**) under study to a given set of **values** $A$ that the characteristic can take. \n",
      "\n",
      "The values in a given data table column constitute a **sample** of the function $X:\\Omega\\rightarrow A$:\n",
      "\n",
      "$$X(s_1),\\, X(s_2),\\,\\dots,X(s_n)$$\n",
      "\n",
      "where $s_1,\\dots, s_n\\in S$ and $S\\subset \\Omega$ is a subset of our population, called a **population sample** (which, in some case as the student grade example, can coincide with the total population). \n",
      "\n",
      "In statistics, the **mode** of a variable corresponds roughly to the notion of **type** in programming. In statistics, one is interesteed in knowing only if the values of $A$ are **numercial**, in which case the variable is **quantitative**, **characters**, in which case the variable is **categorical**, or **logical** (which is a special case of a categorical variable).\n",
      "\n",
      "In programming, one needs to distinguish between integer or float, since they take different amoung of storage room in the computer memory. \n",
      "\n",
      "R offers two functions reflecting this distinction between programming and statistics:\n",
      "\n",
      "    mode(x) and typeof(x),\n",
      "the former corresponding to the **statistical mode** and the latter corresponding to the **programming type** of a given variable <code>x</code>."
     ]
    },
    {
     "cell_type": "code",
     "collapsed": false,
     "input": [
      "%%R\n",
      "\n",
      "X = c(1, 2, 3) ; print(mode(X))\n",
      "Y = c('a', 'b') ; print(mode(Y))\n",
      "Z = c(T, T, F) ; print(mode(Z))"
     ],
     "language": "python",
     "metadata": {},
     "outputs": [
      {
       "metadata": {},
       "output_type": "display_data",
       "text": [
        "[1] \"numeric\"\n",
        "[1] \"character\"\n",
        "[1] \"logical\"\n"
       ]
      }
     ],
     "prompt_number": 6
    },
    {
     "cell_type": "heading",
     "level": 2,
     "metadata": {},
     "source": [
      "Data table rows, R lists, and R classes"
     ]
    },
    {
     "cell_type": "heading",
     "level": 3,
     "metadata": {},
     "source": [
      "Lists as data table rows"
     ]
    },
    {
     "cell_type": "markdown",
     "metadata": {},
     "source": [
      "Since data tables are central and statistics, and since R was designed with statistics in mind, there should be a mechanism to group R vectors, corresponding to values of certain population characteristics together into a kind of data table. \n",
      "\n",
      "Why not use vectors to group vectors together? Each vector component would then be a vector containing the value of our statistical variable. Let's try."
     ]
    },
    {
     "cell_type": "code",
     "collapsed": false,
     "input": [
      "%%R\n",
      "midterm = c(1, 3, 4)\n",
      "major = c('MATH', 'STAT', 'ECON')\n",
      "\n",
      "table = c(midterm, major)\n",
      "print(table)"
     ],
     "language": "python",
     "metadata": {},
     "outputs": [
      {
       "metadata": {},
       "output_type": "display_data",
       "text": [
        "[1] \"1\"    \"3\"    \"4\"    \"MATH\" \"STAT\" \"ECON\"\n"
       ]
      }
     ],
     "prompt_number": 8
    },
    {
     "cell_type": "markdown",
     "metadata": {},
     "source": [
      "Two things happened here that are not to our taste:\n",
      "\n",
      "1. The <code>c</code> function has **flattened** our table: what we obtained is  again a vector and not a _table_!\n",
      "\n",
      "2. The types have been also flattened out, and **converted** to the **lowest common multiple**: i.e., numbers have been interpreteed as strings, such that the resulting vector has a the **same** type for all of its components.\n",
      "\n",
      "This reflects the facts that, as we have seen, vectors ARE types, and, as such, must contained elements of the same nature: all numbers, all character string, or all Boolean.\n",
      "\n",
      "Luckily, R has also a **basic data structure**: the **lists**. \n",
      "\n",
      "At contrast with vectors, **lists can have elements of different nature** for their componets (including list themselves). \n",
      "\n",
      ">**Lists** are **heterogeneous** collections, while **vectors** are **homogeneous** collections. \n",
      "\n",
      ">**Lists** represent **data table rows**, while **vectors** represent **datatable columns**!\n",
      "\n",
      ">**Lists** represent **data structures**, while **vectors** represent **data types**!\n",
      "\n",
      "Here's now how to create a list in R:"
     ]
    },
    {
     "cell_type": "code",
     "collapsed": false,
     "input": [
      "%%R\n",
      "\n",
      "student = list(firstname='Bob', SID='1343243', Year='Sophomore', GPA=3.4, age=23)\n",
      "print(student)"
     ],
     "language": "python",
     "metadata": {},
     "outputs": [
      {
       "metadata": {},
       "output_type": "display_data",
       "text": [
        "$firstname\n",
        "[1] \"Bob\"\n",
        "\n",
        "$SID\n",
        "[1] \"1343243\"\n",
        "\n",
        "$Year\n",
        "[1] \"Sophomore\"\n",
        "\n",
        "$GPA\n",
        "[1] 3.4\n",
        "\n",
        "$age\n",
        "[1] 23\n",
        "\n"
       ]
      }
     ],
     "prompt_number": 9
    },
    {
     "cell_type": "heading",
     "level": 3,
     "metadata": {},
     "source": [
      "Retrieving elements with the dollar sign notation"
     ]
    },
    {
     "cell_type": "markdown",
     "metadata": {},
     "source": [
      "So lists are also **labelled** collections, as vectors, since we can assign **names** or **labels** to their elements, using the same construct as for vectors, **naming the arguments** passed to the function <code>list</code>:\n",
      "\n",
      "    list(name1=value1, name2=value2, etc.)\n",
      "\n",
      "The function <code>print</code> prints the list components, indicating the label by suffixing it with a dollar sign, the corresponding value below, is a regular R type, that is, a vector (in our previous example with only one component.)\n",
      "\n",
      "One can also use the **dollar notation**\n",
      "\n",
      "    list$element_name\n",
      "to retrieve the corresponding element of a list. \n",
      "\n",
      "**The dollar notation is extremely close to the period notation for Python classes, allowing us to retrive the attributes of a given Python class!**"
     ]
    },
    {
     "cell_type": "code",
     "collapsed": false,
     "input": [
      "%%R\n",
      "\n",
      "print(student$firstname)\n",
      "print(student$SID)"
     ],
     "language": "python",
     "metadata": {},
     "outputs": [
      {
       "metadata": {},
       "output_type": "display_data",
       "text": [
        "[1] \"Bob\"\n",
        "[1] \"1343243\"\n"
       ]
      }
     ],
     "prompt_number": 6
    },
    {
     "cell_type": "heading",
     "level": 3,
     "metadata": {},
     "source": [
      "Retrieving elements using the bracket operator"
     ]
    },
    {
     "cell_type": "markdown",
     "metadata": {},
     "source": [
      "**R lists** are very much like **Python dictionaries**, or better, like  **Pandas DataFrames** with a single row.\n",
      "\n",
      "As Python dictionaries, or Pandas DataFrame, list elements can be also accessed using the **bracket operator**:\n",
      "\n",
      "    list[range]\n",
      "where <code>range</code> works exactly as for R vectors.\n",
      "\n"
     ]
    },
    {
     "cell_type": "code",
     "collapsed": false,
     "input": [
      "%%R \n",
      "a = student['firstname']\n",
      "print(a)"
     ],
     "language": "python",
     "metadata": {},
     "outputs": [
      {
       "metadata": {},
       "output_type": "display_data",
       "text": [
        "$firstname\n",
        "[1] \"Bob\"\n",
        "\n"
       ]
      }
     ],
     "prompt_number": 7
    },
    {
     "cell_type": "code",
     "collapsed": false,
     "input": [
      "%%R\n",
      "b = student[c('firstname','SID')]\n",
      "print(b)"
     ],
     "language": "python",
     "metadata": {},
     "outputs": [
      {
       "metadata": {},
       "output_type": "display_data",
       "text": [
        "$firstname\n",
        "[1] \"Bob\"\n",
        "\n",
        "$SID\n",
        "[1] \"1343243\"\n",
        "\n"
       ]
      }
     ],
     "prompt_number": 8
    },
    {
     "cell_type": "code",
     "collapsed": false,
     "input": [
      "%%R\n",
      "c = student[1]\n",
      "print(c)"
     ],
     "language": "python",
     "metadata": {},
     "outputs": [
      {
       "metadata": {},
       "output_type": "display_data",
       "text": [
        "$firstname\n",
        "[1] \"Bob\"\n",
        "\n"
       ]
      }
     ],
     "prompt_number": 9
    },
    {
     "cell_type": "code",
     "collapsed": false,
     "input": [
      "%%R\n",
      "d = student[c(1,2,3)]\n",
      "print(d)"
     ],
     "language": "python",
     "metadata": {},
     "outputs": [
      {
       "metadata": {},
       "output_type": "display_data",
       "text": [
        "$firstname\n",
        "[1] \"Bob\"\n",
        "\n",
        "$SID\n",
        "[1] \"1343243\"\n",
        "\n",
        "$Year\n",
        "[1] \"Sophomore\"\n",
        "\n"
       ]
      }
     ],
     "prompt_number": 10
    },
    {
     "cell_type": "code",
     "collapsed": false,
     "input": [
      "%%R\n",
      "e = student[1:3]\n",
      "print(e)"
     ],
     "language": "python",
     "metadata": {},
     "outputs": [
      {
       "metadata": {},
       "output_type": "display_data",
       "text": [
        "$firstname\n",
        "[1] \"Bob\"\n",
        "\n",
        "$SID\n",
        "[1] \"1343243\"\n",
        "\n",
        "$Year\n",
        "[1] \"Sophomore\"\n",
        "\n"
       ]
      }
     ],
     "prompt_number": 11
    },
    {
     "cell_type": "code",
     "collapsed": false,
     "input": [
      "%%R\n",
      "\n",
      "f = student[-2]\n",
      "print(f)"
     ],
     "language": "python",
     "metadata": {},
     "outputs": [
      {
       "metadata": {},
       "output_type": "display_data",
       "text": [
        "$firstname\n",
        "[1] \"Bob\"\n",
        "\n",
        "$Year\n",
        "[1] \"Sophomore\"\n",
        "\n",
        "$GPA\n",
        "[1] 3.4\n",
        "\n",
        "$age\n",
        "[1] 23\n",
        "\n"
       ]
      }
     ],
     "prompt_number": 12
    },
    {
     "cell_type": "heading",
     "level": 3,
     "metadata": {},
     "source": [
      "A simple data table representation using lists"
     ]
    },
    {
     "cell_type": "markdown",
     "metadata": {},
     "source": [
      "Using a list, we can store the first column of our data table as a vector of a certain mode in the list first element, the second column in the list second element, and so on.\n",
      "\n",
      "This gives us a quick and dirty way to represent a data table in R:"
     ]
    },
    {
     "cell_type": "code",
     "collapsed": false,
     "input": [
      "%%R\n",
      "\n",
      "F = c (Bob=62, Julien=39, Julie=84)\n",
      "M = c (Bob=12, Julien=34, Julie=64)\n",
      "sid = c(Bob=23513, Julien=4532, Julie=5424)\n",
      "\n",
      "grades= list(SID=sid, midterm=M, final=F)\n",
      "\n",
      "print(grades)"
     ],
     "language": "python",
     "metadata": {},
     "outputs": [
      {
       "metadata": {},
       "output_type": "display_data",
       "text": [
        "$SID\n",
        "   Bob Julien  Julie \n",
        " 23513   4532   5424 \n",
        "\n",
        "$midterm\n",
        "   Bob Julien  Julie \n",
        "    12     34     64 \n",
        "\n",
        "$final\n",
        "   Bob Julien  Julie \n",
        "    62     39     84 \n",
        "\n"
       ]
      }
     ],
     "prompt_number": 13
    },
    {
     "cell_type": "markdown",
     "metadata": {},
     "source": [
      "Since, lists elements are vectors one can compute with them **in a vectorized way**, provided that the vectorized operations make sense between the list elements (for instance, it makes sense to add only numerical vectors, etc.)\n",
      "\n",
      "To illustrate this, let us compute the total grade for each stdudent in our previous example,and add the result back to our grade table:"
     ]
    },
    {
     "cell_type": "code",
     "collapsed": false,
     "input": [
      "%%R\n",
      "\n",
      "TG = 0.5*grades$midterm + 0.6*grades$final\n",
      "\n",
      "grades$TG = TG\n",
      "print(grades)"
     ],
     "language": "python",
     "metadata": {},
     "outputs": [
      {
       "metadata": {},
       "output_type": "display_data",
       "text": [
        "$SID\n",
        "   Bob Julien  Julie \n",
        " 23513   4532   5424 \n",
        "\n",
        "$midterm\n",
        "   Bob Julien  Julie \n",
        "    12     34     64 \n",
        "\n",
        "$final\n",
        "   Bob Julien  Julie \n",
        "    62     39     84 \n",
        "\n",
        "$TG\n",
        "   Bob Julien  Julie \n",
        "  43.2   40.4   82.4 \n",
        "\n"
       ]
      }
     ],
     "prompt_number": 14
    },
    {
     "cell_type": "heading",
     "level": 2,
     "metadata": {},
     "source": [
      "Lists as classes"
     ]
    },
    {
     "cell_type": "markdown",
     "metadata": {},
     "source": [
      "If we stop to think of it, the rows in a data table ressemble much the notion of **class instances** or  **objects** that we saw in Python. \n",
      "\n",
      "Namely, one can think as the **column labels** in a data table as the various **attributes** defining a class. In this way of thinking, the actual **data table rows** correspond to the **actual class instances**, or **objects**.\n",
      "\n",
      "In our previous example, the list <code>student</code>, representing a data table row, encapsulates five **variables**, or better five **attributes** representing the notion (or class) _student_: Namely,\n",
      "\n",
      "    name, SID, Year, GPA, age\n",
      "    \n",
      "To summarize, we have:\n",
      "\n",
      "* **list elements = class attributes**\n",
      "\n",
      "R supports very much this interpretation of list elements as class attributes: Namely, R provides a function\n",
      "\n",
      "    attributes(x)\n",
      "that takes a list <code>x</code> and **returns the names of the list attributes**(or elements):"
     ]
    },
    {
     "cell_type": "code",
     "collapsed": false,
     "input": [
      "%%R\n",
      "\n",
      "student=list(name='Bob', SID='1234', Year='Sophomore', GPA=3.4, age=12)\n",
      "print(student)\n",
      "print(class(student))\n",
      "#print(attributes(student))"
     ],
     "language": "python",
     "metadata": {},
     "outputs": [
      {
       "metadata": {},
       "output_type": "display_data",
       "text": [
        "$name\n",
        "[1] \"Bob\"\n",
        "\n",
        "$SID\n",
        "[1] \"1234\"\n",
        "\n",
        "$Year\n",
        "[1] \"Sophomore\"\n",
        "\n",
        "$GPA\n",
        "[1] 3.4\n",
        "\n",
        "$age\n",
        "[1] 12\n",
        "\n",
        "[1] \"list\"\n"
       ]
      }
     ],
     "prompt_number": 4
    },
    {
     "cell_type": "markdown",
     "metadata": {},
     "source": [
      "    \n",
      "Moreover, one accesses a list attributes very much the same way as for Python classes, except that the **period** is replaced by a **dollar sign**."
     ]
    },
    {
     "cell_type": "heading",
     "level": 3,
     "metadata": {},
     "source": [
      "The class mechanism: attributes and constructor"
     ]
    },
    {
     "cell_type": "markdown",
     "metadata": {},
     "source": [
      "Actually, R provides a few mechanisms that allow us to define **classes** using lists.\n",
      "\n",
      "First of all there is a function\n",
      "\n",
      "    class(x)\n",
      "that returns the \"class\" of an object:"
     ]
    },
    {
     "cell_type": "code",
     "collapsed": false,
     "input": [
      "%%R\n",
      "print(class(student))"
     ],
     "language": "python",
     "metadata": {},
     "outputs": [
      {
       "metadata": {},
       "output_type": "display_data",
       "text": [
        "[1] \"list\"\n"
       ]
      }
     ],
     "prompt_number": 5
    },
    {
     "cell_type": "markdown",
     "metadata": {},
     "source": [
      "So, the **class** of our object <code>student</code> is: <code>list</code>. This is not completely satisfactory, since we'd like to define our on class: <code>Student</code>\n",
      "\n",
      "The trick here is that the return value of the function <code>class(x)</code> is a **reference** to a special string contained in a list: the **class** string. \n",
      "\n",
      "Defining our own class amounts to setting this **class string** to whatever we wish to:"
     ]
    },
    {
     "cell_type": "code",
     "collapsed": false,
     "input": [
      "%%R\n",
      "class(student) = 'Student'"
     ],
     "language": "python",
     "metadata": {},
     "outputs": [],
     "prompt_number": 9
    },
    {
     "cell_type": "markdown",
     "metadata": {},
     "source": [
      "Now our student list is of class <code>student</code>!"
     ]
    },
    {
     "cell_type": "code",
     "collapsed": false,
     "input": [
      "%%R\n",
      "print(class(student))"
     ],
     "language": "python",
     "metadata": {},
     "outputs": [
      {
       "metadata": {},
       "output_type": "display_data",
       "text": [
        "[1] \"Student\"\n"
       ]
      }
     ],
     "prompt_number": 10
    },
    {
     "cell_type": "markdown",
     "metadata": {},
     "source": [
      "The function attributes returns now a list with two character vectors as elements:\n",
      "\n",
      "* the first containing the **attribute names**\n",
      "\n",
      "* the second (of length 1) containing the **class name**"
     ]
    },
    {
     "cell_type": "code",
     "collapsed": false,
     "input": [
      "%%R\n",
      "attr = attributes(student)\n",
      "print(attr)"
     ],
     "language": "python",
     "metadata": {},
     "outputs": [
      {
       "metadata": {},
       "output_type": "display_data",
       "text": [
        "$names\n",
        "[1] \"name\" \"SID\"  \"Year\" \"GPA\"  \"age\" \n",
        "\n",
        "$class\n",
        "[1] \"Student\"\n",
        "\n"
       ]
      }
     ],
     "prompt_number": 11
    },
    {
     "cell_type": "markdown",
     "metadata": {},
     "source": [
      "To emulate Python classes, we are still lacking a few things. One of them is the notion of a **constructor**, that is a function that will construct objects of our class from the values we pass to it as arguement. \n",
      "\n",
      "The way to do so in R is very simple: just write a function that does the job:"
     ]
    },
    {
     "cell_type": "code",
     "collapsed": false,
     "input": [
      "%%R\n",
      "\n",
      "Student = function(firstname, SID, Year, GPA, age)\n",
      "{\n",
      "    student = list(firstname=firstname, SID=SID, Year=Year, GPA=GPA, age=age)\n",
      "    class(student) = 'Student'\n",
      "    return(student) \n",
      "}"
     ],
     "language": "python",
     "metadata": {},
     "outputs": [],
     "prompt_number": 12
    },
    {
     "cell_type": "markdown",
     "metadata": {},
     "source": [
      "Now we can construct many student objects, with always the same attribute structure thanks to our constructor:"
     ]
    },
    {
     "cell_type": "code",
     "collapsed": false,
     "input": [
      "%%R\n",
      "\n",
      "Bob = Student('Bob', '24213', 'Freshman', 3.4, 24)"
     ],
     "language": "python",
     "metadata": {},
     "outputs": [],
     "prompt_number": 13
    },
    {
     "cell_type": "markdown",
     "metadata": {},
     "source": [
      "Let's check the attributes of our object:"
     ]
    },
    {
     "cell_type": "code",
     "collapsed": false,
     "input": [
      "%%R\n",
      "\n",
      "print(attributes(Bob))"
     ],
     "language": "python",
     "metadata": {},
     "outputs": [
      {
       "metadata": {},
       "output_type": "display_data",
       "text": [
        "$names\n",
        "[1] \"firstname\" \"SID\"       \"Year\"      \"GPA\"       \"age\"      \n",
        "\n",
        "$class\n",
        "[1] \"Student\"\n",
        "\n"
       ]
      }
     ],
     "prompt_number": 14
    },
    {
     "cell_type": "code",
     "collapsed": false,
     "input": [
      "%%R\n",
      "#print(Bob)\n",
      "print(class(Bob))"
     ],
     "language": "python",
     "metadata": {},
     "outputs": [
      {
       "metadata": {},
       "output_type": "display_data",
       "text": [
        "[1] \"Student\"\n"
       ]
      }
     ],
     "prompt_number": 14
    },
    {
     "cell_type": "markdown",
     "metadata": {},
     "source": [
      "We are still missing half of the story if we want to compete with Python classes: the **methods**."
     ]
    },
    {
     "cell_type": "heading",
     "level": 3,
     "metadata": {},
     "source": [
      "The class mechanism: methods and generic functions"
     ]
    },
    {
     "cell_type": "markdown",
     "metadata": {},
     "source": [
      "Recall that we introduced classes in Python as being a convenience offered by the language allowing us to **encapsulate**\n",
      "\n",
      "* **data** in the form of a collection of variables: **the class attributes**\n",
      "\n",
      "* **functions** acting naturally on this data: **the class methods**\n",
      "\n",
      "Writing methods for our own class relies in R on **naming conventions**. This means that a method for a given classis a **regular** function, whose name follows the following convention:\n",
      "\n",
      "    function_name.class_name = function(object, arg1, arg1, etc.){ function body }\n",
      "    \n",
      "**Remark:** The <code>object</code> argument has the same function as the <code>self</code> argument that we need to pass as first parameter to Python class methods.\n",
      "    \n",
      "For instance, let us write a <code>display</code> method for our class <code>Student</code> that will display nicely student information:"
     ]
    },
    {
     "cell_type": "code",
     "collapsed": false,
     "input": [
      "%%R\n",
      "\n",
      "display.Student = function(student)\n",
      "{\n",
      "        for (attr in attributes(student)$name)\n",
      "        {\n",
      "            display_str = sprintf(\"%10s: %s\\n\", attr, student[[attr]])\n",
      "            cat(display_str)\n",
      "        }\n",
      "    \n",
      "}"
     ],
     "language": "python",
     "metadata": {},
     "outputs": [],
     "prompt_number": 15
    },
    {
     "cell_type": "markdown",
     "metadata": {},
     "source": [
      "**Remark:** To retrieve the  **value** of the attribute <code>attr</code>, we used the **double bracket** operator\n",
      "\n",
      "    student[[attr]]\n",
      "instead of the **single bracket operator**. The reason for that is the following: accessing a list element with the\n",
      "\n",
      "*  **single bracket operator** will return a list of one element containing the correponding value\n",
      "\n",
      "* **double bracket operator** will return the value itself (i.e. here a character vector with one element)\n",
      "\n"
     ]
    },
    {
     "cell_type": "markdown",
     "metadata": {},
     "source": [
      "Invoking our method now is no different than invoking any other function, since methods are just function with a special convention for their names:"
     ]
    },
    {
     "cell_type": "code",
     "collapsed": false,
     "input": [
      "%%R\n",
      "\n",
      "display.Student(Bob)"
     ],
     "language": "python",
     "metadata": {},
     "outputs": [
      {
       "metadata": {},
       "output_type": "display_data",
       "text": [
        " firstname: Bob\n",
        "       SID: 24213\n",
        "      Year: Freshman\n",
        "       GPA: 3.4\n",
        "       age: 24\n"
       ]
      }
     ],
     "prompt_number": 16
    },
    {
     "cell_type": "markdown",
     "metadata": {},
     "source": [
      "So far, the naming convention for methods is just a good practice for book keeping. In R, methods starts to become interresant in R when used in conjunction with **generic functions**.\n",
      "\n",
      "A **generic function**, like <code>print</code> is a function that, if applied to an object of a certain class, will lookup to find a corresponding class method named using the convention we outlined above. \n",
      "\n",
      "For example, \n",
      "\n",
      "    print(student)\n",
      "\n",
      "will search for a method named \n",
      "\n",
      "    print.Student(x)\n",
      "    \n",
      "defined for our class, and invoke this method if found. If not, print will invoke the method of the class <code>list</code> and print the list underlying our Student object. \n",
      "\n",
      "To see what classes implement a method for a generic function, you can use the following command:"
     ]
    },
    {
     "cell_type": "code",
     "collapsed": false,
     "input": [
      "%%R\n",
      "\n",
      "methods(print)"
     ],
     "language": "python",
     "metadata": {},
     "outputs": [],
     "prompt_number": 26
    },
    {
     "cell_type": "markdown",
     "metadata": {},
     "source": [
      "We see that our class does not implement this method. So when we print a Student object, in fact, the underlying list is printed:"
     ]
    },
    {
     "cell_type": "code",
     "collapsed": false,
     "input": [
      "%%R\n",
      "print(student)"
     ],
     "language": "python",
     "metadata": {},
     "outputs": [
      {
       "metadata": {},
       "output_type": "display_data",
       "text": [
        "$firstname\n",
        "[1] \"Bob\"\n",
        "\n",
        "$SID\n",
        "[1] \"1343243\"\n",
        "\n",
        "$Year\n",
        "[1] \"Sophomore\"\n",
        "\n",
        "$GPA\n",
        "[1] 3.4\n",
        "\n",
        "$age\n",
        "[1] 23\n",
        "\n",
        "attr(,\"class\")\n",
        "[1] \"Student\"\n"
       ]
      }
     ],
     "prompt_number": 21
    },
    {
     "cell_type": "markdown",
     "metadata": {},
     "source": [
      "Let's implement the **method print** for the class <code>Student</code> and see how the **generic function print** is affected:"
     ]
    },
    {
     "cell_type": "code",
     "collapsed": false,
     "input": [
      "%%R\n",
      "\n",
      "print.Student = function(student)\n",
      "{\n",
      "    display.Student(student)\n",
      "}"
     ],
     "language": "python",
     "metadata": {},
     "outputs": [],
     "prompt_number": 23
    },
    {
     "cell_type": "markdown",
     "metadata": {},
     "source": [
      "Now, let's call again the generic <code>print</code> on a Student object:"
     ]
    },
    {
     "cell_type": "code",
     "collapsed": false,
     "input": [
      "%%R\n",
      "\n",
      "print(student)"
     ],
     "language": "python",
     "metadata": {},
     "outputs": [
      {
       "metadata": {},
       "output_type": "display_data",
       "text": [
        "      name: Bob\n",
        "       SID: 1234\n",
        "      Year: Sophomore\n",
        "       GPA: 3.4\n",
        "       age: 12\n"
       ]
      }
     ],
     "prompt_number": 22
    },
    {
     "cell_type": "markdown",
     "metadata": {},
     "source": [
      "Great! Now what if we whant to **promote our method**\n",
      "\n",
      "    display.Student(x)\n",
      "    \n",
      "to a **generic function**?\n",
      "\n",
      "We simply need to write a function\n",
      "\n",
      "    display(x)\n",
      "    \n",
      "that will invoke the **special function**\n",
      "\n",
      "    UseMethod(name, x)\n",
      "    \n",
      "This function will \n",
      "\n",
      "* **lookup the class** of the object <code>x</code> \n",
      "* **lookup for a method** with name <code>name</code> implemented for this class\n",
      "* pass the object <code>x</code> as argument to this method"
     ]
    },
    {
     "cell_type": "code",
     "collapsed": false,
     "input": [
      "%%R\n",
      "\n",
      "display = function(object)\n",
      "{\n",
      "    UseMethod('display',object)\n",
      "}\n"
     ],
     "language": "python",
     "metadata": {},
     "outputs": [],
     "prompt_number": 18
    },
    {
     "cell_type": "code",
     "collapsed": false,
     "input": [
      "%%R\n",
      "print(methods(display))"
     ],
     "language": "python",
     "metadata": {},
     "outputs": [
      {
       "metadata": {},
       "output_type": "display_data",
       "text": [
        "[1] display.Student\n"
       ]
      }
     ],
     "prompt_number": 19
    },
    {
     "cell_type": "code",
     "collapsed": false,
     "input": [
      "%%R\n",
      "display(student)"
     ],
     "language": "python",
     "metadata": {},
     "outputs": [
      {
       "metadata": {},
       "output_type": "display_data",
       "text": [
        "      name: Bob\n",
        "       SID: 1234\n",
        "      Year: Sophomore\n",
        "       GPA: 3.4\n",
        "       age: 12\n"
       ]
      }
     ],
     "prompt_number": 20
    },
    {
     "cell_type": "markdown",
     "metadata": {},
     "source": [
      "**BREAKOUT:**\n",
      "\n",
      "Write a class <code>employee</code> with attributes\n",
      "\n",
      "* name\n",
      "* employer\n",
      "* job title\n",
      "* hourly rate\n",
      "* number of hours worked per month\n",
      "\n",
      "\n",
      "and generic functions\n",
      "\n",
      "* print\n",
      "* salary"
     ]
    },
    {
     "cell_type": "code",
     "collapsed": false,
     "input": [],
     "language": "python",
     "metadata": {},
     "outputs": [],
     "prompt_number": 32
    },
    {
     "cell_type": "code",
     "collapsed": false,
     "input": [],
     "language": "python",
     "metadata": {},
     "outputs": []
    }
   ],
   "metadata": {}
  }
 ]
}