{
 "metadata": {
  "name": ""
 },
 "nbformat": 3,
 "nbformat_minor": 0,
 "worksheets": [
  {
   "cells": [
    {
     "cell_type": "code",
     "collapsed": false,
     "input": [
      "%load_ext rmagic"
     ],
     "language": "python",
     "metadata": {},
     "outputs": [],
     "prompt_number": 2
    },
    {
     "cell_type": "heading",
     "level": 2,
     "metadata": {},
     "source": [
      "Vectors"
     ]
    },
    {
     "cell_type": "code",
     "collapsed": false,
     "input": [
      "%%R\n",
      "\n",
      "x = sample(100) # same as sample(1:100, 100, replace=T)\n",
      "names(x) = paste(rep('SID', 100), sample(1:100, 100, replace=F), sep='')\n",
      "print(x) \n",
      "\n"
     ],
     "language": "python",
     "metadata": {},
     "outputs": [
      {
       "metadata": {},
       "output_type": "display_data",
       "text": [
        " SID87  SID63  SID34  SID42  SID46  SID51  SID38  SID47  SID25  SID49  SID64 \n",
        "    20     46     80     48      8     75     55     38     84     17     45 \n",
        " SID71  SID53  SID80  SID68  SID59  SID19  SID56  SID50  SID28   SID8  SID55 \n",
        "    23    100     29     42     51     54     15     25     35     70     49 \n",
        " SID83  SID14  SID58   SID9  SID99  SID82  SID20  SID78  SID95  SID35  SID37 \n",
        "    97     78     57     28     44     77      7     64     89     31      1 \n",
        " SID16  SID93  SID97  SID65  SID17  SID54  SID29  SID27   SID7  SID31  SID96 \n",
        "    71      4     47     37     27     81     22      6     94     41     53 \n",
        " SID22  SID74  SID18  SID57  SID75  SID62  SID81  SID76   SID5  SID30  SID77 \n",
        "    62     11     40     90     83     65     67      3     69     33     66 \n",
        " SID43 SID100  SID79   SID3  SID85  SID44   SID1  SID24  SID41  SID73  SID13 \n",
        "    50     18     79     82     99     93     58     74      9     13     88 \n",
        " SID60  SID23  SID48  SID52  SID91  SID10  SID21  SID70  SID45  SID36  SID90 \n",
        "    96     61     68     91     39     87     86     92     10     72     36 \n",
        " SID92  SID26  SID84  SID61   SID4   SID6  SID66   SID2  SID67  SID12  SID40 \n",
        "    43     24     16     21     60     63     14      5      2     26     73 \n",
        " SID89  SID11  SID39  SID69  SID86  SID94  SID15  SID88  SID98  SID72  SID32 \n",
        "    12     32     19     98     76     95     52     56     34     30     59 \n",
        " SID33 \n",
        "    85 \n"
       ]
      }
     ],
     "prompt_number": 12
    },
    {
     "cell_type": "code",
     "collapsed": false,
     "input": [
      "%%R\n",
      "\n",
      "print(length(x))\n",
      "print(names(x)) # names(x) vector of all the labels you can give to x\n",
      "print(dim(x)) # dimension of x\n",
      "print(class(x))\n",
      "print(mode(x))"
     ],
     "language": "python",
     "metadata": {},
     "outputs": [
      {
       "metadata": {},
       "output_type": "display_data",
       "text": [
        "[1] 100\n",
        "  [1] \"SID87\"  \"SID63\"  \"SID34\"  \"SID42\"  \"SID46\"  \"SID51\"  \"SID38\"  \"SID47\" \n",
        "  [9] \"SID25\"  \"SID49\"  \"SID64\"  \"SID71\"  \"SID53\"  \"SID80\"  \"SID68\"  \"SID59\" \n",
        " [17] \"SID19\"  \"SID56\"  \"SID50\"  \"SID28\"  \"SID8\"   \"SID55\"  \"SID83\"  \"SID14\" \n",
        " [25] \"SID58\"  \"SID9\"   \"SID99\"  \"SID82\"  \"SID20\"  \"SID78\"  \"SID95\"  \"SID35\" \n",
        " [33] \"SID37\"  \"SID16\"  \"SID93\"  \"SID97\"  \"SID65\"  \"SID17\"  \"SID54\"  \"SID29\" \n",
        " [41] \"SID27\"  \"SID7\"   \"SID31\"  \"SID96\"  \"SID22\"  \"SID74\"  \"SID18\"  \"SID57\" \n",
        " [49] \"SID75\"  \"SID62\"  \"SID81\"  \"SID76\"  \"SID5\"   \"SID30\"  \"SID77\"  \"SID43\" \n",
        " [57] \"SID100\" \"SID79\"  \"SID3\"   \"SID85\"  \"SID44\"  \"SID1\"   \"SID24\"  \"SID41\" \n",
        " [65] \"SID73\"  \"SID13\"  \"SID60\"  \"SID23\"  \"SID48\"  \"SID52\"  \"SID91\"  \"SID10\" \n",
        " [73] \"SID21\"  \"SID70\"  \"SID45\"  \"SID36\"  \"SID90\"  \"SID92\"  \"SID26\"  \"SID84\" \n",
        " [81] \"SID61\"  \"SID4\"   \"SID6\"   \"SID66\"  \"SID2\"   \"SID67\"  \"SID12\"  \"SID40\" \n",
        " [89] \"SID89\"  \"SID11\"  \"SID39\"  \"SID69\"  \"SID86\"  \"SID94\"  \"SID15\"  \"SID88\" \n",
        " [97] \"SID98\"  \"SID72\"  \"SID32\"  \"SID33\" \n",
        "NULL\n",
        "[1] \"integer\"\n",
        "[1] \"numeric\"\n"
       ]
      }
     ],
     "prompt_number": 16
    },
    {
     "cell_type": "heading",
     "level": 2,
     "metadata": {},
     "source": [
      "Matrices"
     ]
    },
    {
     "cell_type": "code",
     "collapsed": false,
     "input": [
      "%%R\n",
      "\n",
      "x = 1:18\n",
      "\n",
      "print(x)\n",
      "print(class(x))\n",
      "print(dim(x))\n"
     ],
     "language": "python",
     "metadata": {},
     "outputs": [
      {
       "metadata": {},
       "output_type": "display_data",
       "text": [
        " [1]  1  2  3  4  5  6  7  8  9 10 11 12 13 14 15 16 17 18\n",
        "[1] \"integer\"\n",
        "NULL\n"
       ]
      }
     ],
     "prompt_number": 28
    },
    {
     "cell_type": "code",
     "collapsed": false,
     "input": [
      "%%R\n",
      "\n",
      "dim(x) = c(9, 2) # shape of the array of numbers\n",
      "\n",
      "print(x)\n",
      "print(class(x))\n",
      "print(dim(x))"
     ],
     "language": "python",
     "metadata": {},
     "outputs": [
      {
       "metadata": {},
       "output_type": "display_data",
       "text": [
        "      [,1] [,2]\n",
        " [1,]    1   10\n",
        " [2,]    2   11\n",
        " [3,]    3   12\n",
        " [4,]    4   13\n",
        " [5,]    5   14\n",
        " [6,]    6   15\n",
        " [7,]    7   16\n",
        " [8,]    8   17\n",
        " [9,]    9   18\n",
        "[1] \"matrix\"\n",
        "[1] 9 2\n"
       ]
      }
     ],
     "prompt_number": 29
    },
    {
     "cell_type": "heading",
     "level": 2,
     "metadata": {},
     "source": [
      "Arrays"
     ]
    },
    {
     "cell_type": "code",
     "collapsed": false,
     "input": [
      "%%R\n",
      "\n",
      "A = matrix(data = 1:18, nrow=2, ncol=9, byrow=FALSE, dimnames=NULL)\n",
      "B = matrix(data = 1:18, nrow=2, ncol=9, byrow=FALSE, dimnames=NULL)"
     ],
     "language": "python",
     "metadata": {},
     "outputs": [],
     "prompt_number": 58
    },
    {
     "cell_type": "heading",
     "level": 4,
     "metadata": {},
     "source": [
      "Elementwise Multiplication"
     ]
    },
    {
     "cell_type": "code",
     "collapsed": false,
     "input": [
      "%%R\n",
      "\n",
      "print(A * B)"
     ],
     "language": "python",
     "metadata": {},
     "outputs": [
      {
       "metadata": {},
       "output_type": "display_data",
       "text": [
        "     [,1] [,2] [,3] [,4] [,5] [,6] [,7] [,8] [,9]\n",
        "[1,]    1    9   25   49   81  121  169  225  289\n",
        "[2,]    4   16   36   64  100  144  196  256  324\n"
       ]
      }
     ],
     "prompt_number": 60
    },
    {
     "cell_type": "heading",
     "level": 4,
     "metadata": {},
     "source": [
      "Matrix Multiplication"
     ]
    },
    {
     "cell_type": "code",
     "collapsed": false,
     "input": [
      "%%R\n",
      "\n",
      "print(A %*% t(B)) # t(B) = transpose B"
     ],
     "language": "python",
     "metadata": {},
     "outputs": [
      {
       "metadata": {},
       "output_type": "display_data",
       "text": [
        "     [,1] [,2]\n",
        "[1,]  525 1254\n",
        "[2,]  570 1380\n"
       ]
      }
     ],
     "prompt_number": 65
    },
    {
     "cell_type": "heading",
     "level": 4,
     "metadata": {},
     "source": [
      "Numerical Arrays"
     ]
    },
    {
     "cell_type": "code",
     "collapsed": false,
     "input": [
      "%%R\n",
      "\n",
      "dim(x) = c(2, 3, 3)\n",
      "print(class(x))\n",
      "print(dim(x))\n",
      "print(x)"
     ],
     "language": "python",
     "metadata": {},
     "outputs": [
      {
       "metadata": {},
       "output_type": "display_data",
       "text": [
        "[1] \"array\"\n",
        "[1] 2 3 3\n",
        ", , 1\n",
        "\n",
        "     [,1] [,2] [,3]\n",
        "[1,]    1    3    5\n",
        "[2,]    2    4    6\n",
        "\n",
        ", , 2\n",
        "\n",
        "     [,1] [,2] [,3]\n",
        "[1,]    7    9   11\n",
        "[2,]    8   10   12\n",
        "\n",
        ", , 3\n",
        "\n",
        "     [,1] [,2] [,3]\n",
        "[1,]   13   15   17\n",
        "[2,]   14   16   18\n",
        "\n"
       ]
      }
     ],
     "prompt_number": 31
    },
    {
     "cell_type": "code",
     "collapsed": false,
     "input": [
      "%%R\n",
      "\n",
      "x = sample(18)\n",
      "dim(x) = c(2, 3, 3)\n",
      "y = sample(18)\n",
      "dim(y) = c(2, 3, 3)"
     ],
     "language": "python",
     "metadata": {},
     "outputs": [],
     "prompt_number": 32
    },
    {
     "cell_type": "code",
     "collapsed": false,
     "input": [
      "%%R\n",
      "\n",
      "print(x)"
     ],
     "language": "python",
     "metadata": {},
     "outputs": [
      {
       "metadata": {},
       "output_type": "display_data",
       "text": [
        ", , 1\n",
        "\n",
        "     [,1] [,2] [,3]\n",
        "[1,]    1    8    2\n",
        "[2,]    6   18    3\n",
        "\n",
        ", , 2\n",
        "\n",
        "     [,1] [,2] [,3]\n",
        "[1,]   15    7    9\n",
        "[2,]   13   17   10\n",
        "\n",
        ", , 3\n",
        "\n",
        "     [,1] [,2] [,3]\n",
        "[1,]   14   16   11\n",
        "[2,]    5   12    4\n",
        "\n"
       ]
      }
     ],
     "prompt_number": 35
    },
    {
     "cell_type": "code",
     "collapsed": false,
     "input": [
      "%%R\n",
      "\n",
      "print(y)"
     ],
     "language": "python",
     "metadata": {},
     "outputs": [
      {
       "metadata": {},
       "output_type": "display_data",
       "text": [
        ", , 1\n",
        "\n",
        "     [,1] [,2] [,3]\n",
        "[1,]   16   11   15\n",
        "[2,]   12   17    5\n",
        "\n",
        ", , 2\n",
        "\n",
        "     [,1] [,2] [,3]\n",
        "[1,]    3    2   13\n",
        "[2,]   10    9    7\n",
        "\n",
        ", , 3\n",
        "\n",
        "     [,1] [,2] [,3]\n",
        "[1,]    8    1   18\n",
        "[2,]    4   14    6\n",
        "\n"
       ]
      }
     ],
     "prompt_number": 36
    },
    {
     "cell_type": "code",
     "collapsed": false,
     "input": [
      "%%R\n",
      "\n",
      "z = x + y\n",
      "z = x * y \n",
      "z = x ^ y\n",
      "\n",
      "print(z)"
     ],
     "language": "python",
     "metadata": {},
     "outputs": [
      {
       "metadata": {},
       "output_type": "display_data",
       "text": [
        ", , 1\n",
        "\n",
        "           [,1]         [,2]  [,3]\n",
        "[1,]          1 8.589935e+09 32768\n",
        "[2,] 2176782336 2.185912e+21   243\n",
        "\n",
        ", , 2\n",
        "\n",
        "             [,1]         [,2]         [,3]\n",
        "[1,]         3375           49 2.541866e+12\n",
        "[2,] 137858491849 118587876497 1.000000e+07\n",
        "\n",
        ", , 3\n",
        "\n",
        "           [,1]         [,2]         [,3]\n",
        "[1,] 1475789056 1.600000e+01 5.559917e+18\n",
        "[2,]        625 1.283918e+15 4.096000e+03\n",
        "\n"
       ]
      }
     ],
     "prompt_number": 39
    },
    {
     "cell_type": "heading",
     "level": 4,
     "metadata": {},
     "source": [
      "Boolean Arrays"
     ]
    },
    {
     "cell_type": "code",
     "collapsed": false,
     "input": [
      "%%R\n",
      "\n",
      "x = sample(c(T, F), 18, replace=T)\n",
      "y = sample(c(T, F), 18, replace=T)"
     ],
     "language": "python",
     "metadata": {},
     "outputs": [],
     "prompt_number": 40
    },
    {
     "cell_type": "code",
     "collapsed": false,
     "input": [
      "%%R\n",
      "\n",
      "dim(x) = c(2, 3, 3)\n",
      "dim(y) = c(2, 3, 3)\n",
      "\n",
      "print(x | y) # x or y\n",
      "print(x & y) # x and y\n",
      "print(!x) # not x"
     ],
     "language": "python",
     "metadata": {},
     "outputs": [
      {
       "metadata": {},
       "output_type": "display_data",
       "text": [
        ", , 1\n",
        "\n",
        "      [,1]  [,2] [,3]\n",
        "[1,]  TRUE FALSE TRUE\n",
        "[2,] FALSE FALSE TRUE\n",
        "\n",
        ", , 2\n",
        "\n",
        "      [,1]  [,2]  [,3]\n",
        "[1,]  TRUE  TRUE FALSE\n",
        "[2,] FALSE FALSE FALSE\n",
        "\n",
        ", , 3\n",
        "\n",
        "      [,1]  [,2]  [,3]\n",
        "[1,]  TRUE  TRUE FALSE\n",
        "[2,] FALSE FALSE  TRUE\n",
        "\n",
        ", , 1\n",
        "\n",
        "      [,1] [,2]  [,3]\n",
        "[1,] FALSE TRUE FALSE\n",
        "[2,]  TRUE TRUE FALSE\n",
        "\n",
        ", , 2\n",
        "\n",
        "      [,1]  [,2] [,3]\n",
        "[1,] FALSE FALSE TRUE\n",
        "[2,]  TRUE  TRUE TRUE\n",
        "\n",
        ", , 3\n",
        "\n",
        "      [,1]  [,2]  [,3]\n",
        "[1,] FALSE FALSE  TRUE\n",
        "[2,]  TRUE  TRUE FALSE\n",
        "\n"
       ]
      }
     ],
     "prompt_number": 44
    },
    {
     "cell_type": "heading",
     "level": 4,
     "metadata": {},
     "source": [
      "Character Arrays"
     ]
    },
    {
     "cell_type": "code",
     "collapsed": false,
     "input": [
      "%%R\n",
      "\n",
      "x = sample(c('A', 'C', 'T', 'G'), 18, replace=T)\n",
      "y = sample(c('A', 'C', 'T', 'G'), 18, replace=T)\n",
      "dim(x) = c(2, 3, 3)\n",
      "dim(y) = c(2, 3, 3)"
     ],
     "language": "python",
     "metadata": {},
     "outputs": [],
     "prompt_number": 49
    },
    {
     "cell_type": "code",
     "collapsed": false,
     "input": [
      "%%R \n",
      "\n",
      "z = paste(x, y, sep='') \n",
      "\n",
      "print(z) # got a vector not a cube, the cube has been flattened out "
     ],
     "language": "python",
     "metadata": {},
     "outputs": [
      {
       "metadata": {},
       "output_type": "display_data",
       "text": [
        " [1] \"TA\" \"AT\" \"TG\" \"CG\" \"CT\" \"AG\" \"AC\" \"AT\" \"CA\" \"CC\" \"TT\" \"GT\" \"TG\" \"GA\" \"AC\"\n",
        "[16] \"AA\" \"TT\" \"AA\"\n"
       ]
      }
     ],
     "prompt_number": 52
    },
    {
     "cell_type": "code",
     "collapsed": false,
     "input": [
      "%%R\n",
      "\n",
      "dim(z) = c(2, 3, 3)\n",
      "print(z)"
     ],
     "language": "python",
     "metadata": {},
     "outputs": [
      {
       "metadata": {},
       "output_type": "display_data",
       "text": [
        ", , 1\n",
        "\n",
        "     [,1] [,2] [,3]\n",
        "[1,] \"TA\" \"TG\" \"CT\"\n",
        "[2,] \"AT\" \"CG\" \"AG\"\n",
        "\n",
        ", , 2\n",
        "\n",
        "     [,1] [,2] [,3]\n",
        "[1,] \"AC\" \"CA\" \"TT\"\n",
        "[2,] \"AT\" \"CC\" \"GT\"\n",
        "\n",
        ", , 3\n",
        "\n",
        "     [,1] [,2] [,3]\n",
        "[1,] \"TG\" \"AC\" \"TT\"\n",
        "[2,] \"GA\" \"AA\" \"AA\"\n",
        "\n"
       ]
      }
     ],
     "prompt_number": 53
    },
    {
     "cell_type": "code",
     "collapsed": false,
     "input": [
      "%%R\n",
      "\n",
      "A = array(sample(64), dim=c(8, 8))\n",
      "\n",
      "ind = (A > 40) | (A < 20)\n",
      "\n",
      "A[ind] = 999\n",
      "\n",
      "print(A)"
     ],
     "language": "python",
     "metadata": {},
     "outputs": [
      {
       "metadata": {},
       "output_type": "display_data",
       "text": [
        "     [,1] [,2] [,3] [,4] [,5] [,6] [,7] [,8]\n",
        "[1,]  999   30  999  999  999  999  999   29\n",
        "[2,]  999  999  999   20   23   38   26   21\n",
        "[3,]   35   33  999   37  999   28  999  999\n",
        "[4,]  999   39  999  999  999  999  999  999\n",
        "[5,]  999  999  999  999  999  999  999   27\n",
        "[6,]  999   34  999  999  999  999   36  999\n",
        "[7,]  999  999   31  999  999  999   32   24\n",
        "[8,]  999   40  999   25  999  999  999   22\n"
       ]
      }
     ],
     "prompt_number": 112
    },
    {
     "cell_type": "heading",
     "level": 4,
     "metadata": {},
     "source": [
      "Recycling"
     ]
    },
    {
     "cell_type": "code",
     "collapsed": false,
     "input": [
      "%%R\n",
      "\n",
      "x = c(1, 2, 3, 4)\n",
      "y = 10"
     ],
     "language": "python",
     "metadata": {},
     "outputs": [],
     "prompt_number": 96
    },
    {
     "cell_type": "code",
     "collapsed": false,
     "input": [
      "%%R \n",
      "\n",
      "z = x + y\n",
      "\n",
      "print(z)"
     ],
     "language": "python",
     "metadata": {},
     "outputs": [
      {
       "metadata": {},
       "output_type": "display_data",
       "text": [
        "[1] 11 12 13 14\n"
       ]
      }
     ],
     "prompt_number": 103
    },
    {
     "cell_type": "code",
     "collapsed": false,
     "input": [
      "%%R\n",
      "\n",
      "x = c(1, 2, 3, 4)\n",
      "y = c(10, 100, 0)\n",
      "z = x - y # when adding recycles the smallest vector \n",
      "\n",
      "print(z)"
     ],
     "language": "python",
     "metadata": {},
     "outputs": [
      {
       "metadata": {},
       "output_type": "display_data",
       "text": [
        "[1]  -9 -98   3  -6\n"
       ]
      }
     ],
     "prompt_number": 115
    },
    {
     "cell_type": "heading",
     "level": 4,
     "metadata": {},
     "source": [
      "Applying"
     ]
    },
    {
     "cell_type": "code",
     "collapsed": false,
     "input": [
      "%%R\n",
      "\n",
      "x = sample(5)\n",
      "print(x)"
     ],
     "language": "python",
     "metadata": {},
     "outputs": [
      {
       "metadata": {},
       "output_type": "display_data",
       "text": [
        "[1] 1 3 4 2 5\n"
       ]
      }
     ],
     "prompt_number": 117
    },
    {
     "cell_type": "code",
     "collapsed": false,
     "input": [
      "%%R\n",
      "\n",
      "f = function(x){x^x}"
     ],
     "language": "python",
     "metadata": {},
     "outputs": [],
     "prompt_number": 124
    },
    {
     "cell_type": "code",
     "collapsed": false,
     "input": [
      "%%R\n",
      "\n",
      "z = f(x)\n",
      "print(z)"
     ],
     "language": "python",
     "metadata": {},
     "outputs": [
      {
       "metadata": {},
       "output_type": "display_data",
       "text": [
        "[1]    1   27  256    4 3125\n"
       ]
      }
     ],
     "prompt_number": 125
    },
    {
     "cell_type": "code",
     "collapsed": false,
     "input": [
      "%%R\n",
      "\n",
      "g = function(x){c(x^x, x*x, x+x)}"
     ],
     "language": "python",
     "metadata": {},
     "outputs": [],
     "prompt_number": 126
    },
    {
     "cell_type": "code",
     "collapsed": false,
     "input": [
      "%%R\n",
      "\n",
      "z = g(2)\n",
      "print(z)"
     ],
     "language": "python",
     "metadata": {},
     "outputs": [
      {
       "metadata": {},
       "output_type": "display_data",
       "text": [
        "[1] 4 4 4\n"
       ]
      }
     ],
     "prompt_number": 130
    },
    {
     "cell_type": "code",
     "collapsed": false,
     "input": [
      "%%R\n",
      "\n",
      "z = g(c(2, 3))\n",
      "print(z)"
     ],
     "language": "python",
     "metadata": {},
     "outputs": [
      {
       "metadata": {},
       "output_type": "display_data",
       "text": [
        "[1]  4 27  4  9  4  6\n"
       ]
      }
     ],
     "prompt_number": 131
    },
    {
     "cell_type": "code",
     "collapsed": false,
     "input": [
      "%%R\n",
      "\n",
      "y = c(1, 2, 3)\n",
      "z = sapply(y, FUN=g)\n",
      "\n",
      "print(z)"
     ],
     "language": "python",
     "metadata": {},
     "outputs": [
      {
       "metadata": {},
       "output_type": "display_data",
       "text": [
        "     [,1] [,2] [,3]\n",
        "[1,]    1    4   27\n",
        "[2,]    1    4    9\n",
        "[3,]    2    4    6\n"
       ]
      }
     ],
     "prompt_number": 142
    },
    {
     "cell_type": "code",
     "collapsed": false,
     "input": [
      "%%R\n",
      "\n",
      "S = sum(z)\n",
      "print(S)\n",
      "\n",
      "stdGrade = apply(z, 1, mean)\n",
      "\n",
      "print(stdGrade)"
     ],
     "language": "python",
     "metadata": {},
     "outputs": [
      {
       "metadata": {},
       "output_type": "display_data",
       "text": [
        "[1] 58\n",
        "[1] 10.666667  4.666667  4.000000\n"
       ]
      }
     ],
     "prompt_number": 148
    },
    {
     "cell_type": "code",
     "collapsed": false,
     "input": [
      "%%R\n",
      "\n",
      "examAvg = apply(z, 2, mean) # mean along column\n",
      "\n",
      "print(examAvg)"
     ],
     "language": "python",
     "metadata": {},
     "outputs": [
      {
       "metadata": {},
       "output_type": "display_data",
       "text": [
        "[1]  1.333333  4.000000 14.000000\n"
       ]
      }
     ],
     "prompt_number": 150
    },
    {
     "cell_type": "code",
     "collapsed": false,
     "input": [
      "%%R\n",
      "\n",
      "A = sample(27)\n",
      "dim(A) = c(3, 3, 3)\n",
      "\n",
      "print(A)"
     ],
     "language": "python",
     "metadata": {},
     "outputs": [
      {
       "metadata": {},
       "output_type": "display_data",
       "text": [
        ", , 1\n",
        "\n",
        "     [,1] [,2] [,3]\n",
        "[1,]    6   20   18\n",
        "[2,]   22    9   21\n",
        "[3,]   10    2   16\n",
        "\n",
        ", , 2\n",
        "\n",
        "     [,1] [,2] [,3]\n",
        "[1,]   23   12   15\n",
        "[2,]   24    5   11\n",
        "[3,]   19   25   26\n",
        "\n",
        ", , 3\n",
        "\n",
        "     [,1] [,2] [,3]\n",
        "[1,]    4   27    7\n",
        "[2,]   14    3    1\n",
        "[3,]   17    8   13\n",
        "\n"
       ]
      }
     ],
     "prompt_number": 152
    },
    {
     "cell_type": "code",
     "collapsed": false,
     "input": [
      "%%R\n",
      "\n",
      "z1 = apply(A, 1, mean) # along rows\n",
      "z2 = apply(A, 2, mean) # along columns\n",
      "z3 = apply(A, 3, mean) # along height"
     ],
     "language": "python",
     "metadata": {},
     "outputs": [],
     "prompt_number": 154
    },
    {
     "cell_type": "code",
     "collapsed": false,
     "input": [
      "%%R\n",
      "\n",
      "print(z1)\n",
      "print(z2)\n",
      "print(z3)"
     ],
     "language": "python",
     "metadata": {},
     "outputs": [
      {
       "metadata": {},
       "output_type": "display_data",
       "text": [
        "[1] 14.66667 12.22222 15.11111\n",
        "[1] 15.44444 12.33333 14.22222\n",
        "[1] 13.77778 17.77778 10.44444\n"
       ]
      }
     ],
     "prompt_number": 156
    },
    {
     "cell_type": "heading",
     "level": 4,
     "metadata": {},
     "source": [
      "Simulating"
     ]
    },
    {
     "cell_type": "code",
     "collapsed": false,
     "input": [
      "%%R \n",
      "\n",
      "# to sample from distribution do r<name of distribution> for example, rnorm, rbinom\n",
      "\n",
      "n = 81\n",
      "x = rnorm(n, mean=50, sd=10)\n",
      "x = runif(n, min=0, max=100)\n",
      "#print(x)\n",
      "\n",
      "hist(x, xlim=c(-10, 110), ylim=c(0, n/2)) # xlim fixes limits for x axis"
     ],
     "language": "python",
     "metadata": {},
     "outputs": [
      {
       "metadata": {},
       "output_type": "display_data",
       "png": "[encoded data removed]"
      }
     ],
     "prompt_number": 170
    },
    {
     "cell_type": "code",
     "collapsed": false,
     "input": [
      "%%R\n",
      "\n",
      "x = round(x) \n",
      "dim(x) = c(9, 9)\n",
      "print(x)"
     ],
     "language": "python",
     "metadata": {},
     "outputs": [
      {
       "metadata": {},
       "output_type": "display_data",
       "text": [
        "      [,1] [,2] [,3] [,4] [,5] [,6] [,7] [,8] [,9]\n",
        " [1,]   41   63   93    6   39   15   52   84   77\n",
        " [2,]   18   82   58   69   80   47   43   57   43\n",
        " [3,]   25   82   84   28   58   19    6   10   88\n",
        " [4,]   38   28   82   62    1   97   89    6   65\n",
        " [5,]   34   70   70    8   80   20   35   70   25\n",
        " [6,]    6   30   20    7   98   26    6   66   30\n",
        " [7,]   38   85   96   38   62    7   97   25   29\n",
        " [8,]   95   76   18   36   91   35    8   53    3\n",
        " [9,]   45   39   80   36   33   12   87   69   21\n"
       ]
      }
     ],
     "prompt_number": 172
    },
    {
     "cell_type": "code",
     "collapsed": false,
     "input": [
      "%%R\n",
      "\n",
      "exam = rnorm(10, mean=70, sd=30)\n",
      "print(exam)"
     ],
     "language": "python",
     "metadata": {},
     "outputs": [
      {
       "metadata": {},
       "output_type": "display_data",
       "text": [
        " [1]  31.59139  48.18364  37.00686 124.79057  67.12202  91.48640  42.69255\n",
        " [8]  45.25108  84.21137  55.85621\n"
       ]
      }
     ],
     "prompt_number": 182
    },
    {
     "cell_type": "code",
     "collapsed": false,
     "input": [
      "%%R\n",
      "\n",
      "grade = rnorm(10, mean=c(50, 800), sd=c(1,1))\n",
      "gradeBook = replicate(2, grade)\n",
      "\n",
      "print(gradeBook)"
     ],
     "language": "python",
     "metadata": {},
     "outputs": [
      {
       "metadata": {},
       "output_type": "display_data",
       "text": [
        "           [,1]      [,2]\n",
        " [1,]  50.00925  50.00925\n",
        " [2,] 800.05052 800.05052\n",
        " [3,]  49.27207  49.27207\n",
        " [4,] 798.29080 798.29080\n",
        " [5,]  49.40042  49.40042\n",
        " [6,] 799.94720 799.94720\n",
        " [7,]  50.70481  50.70481\n",
        " [8,] 799.96942 799.96942\n",
        " [9,]  50.64470  50.64470\n",
        "[10,] 798.61986 798.61986\n"
       ]
      }
     ],
     "prompt_number": 189
    },
    {
     "cell_type": "heading",
     "level": 4,
     "metadata": {},
     "source": [
      "Linear Algebra"
     ]
    },
    {
     "cell_type": "code",
     "collapsed": false,
     "input": [
      "%%R\n",
      "\n",
      "A = sample(25)\n",
      "dim(A) = c(5, 5)\n",
      "print(A)"
     ],
     "language": "python",
     "metadata": {},
     "outputs": [
      {
       "metadata": {},
       "output_type": "display_data",
       "text": [
        "     [,1] [,2] [,3] [,4] [,5]\n",
        "[1,]   17    3   20    8   12\n",
        "[2,]   24   21   13   18   10\n",
        "[3,]   23   25   11    6    2\n",
        "[4,]    1   22    9   19    7\n",
        "[5,]   14   16   15    4    5\n"
       ]
      }
     ],
     "prompt_number": 191
    },
    {
     "cell_type": "code",
     "collapsed": false,
     "input": [
      "%%R\n",
      "\n",
      "B = sample(1:100, 5)\n",
      "dim(B) = c(5, 1)\n",
      "print(B)"
     ],
     "language": "python",
     "metadata": {},
     "outputs": [
      {
       "metadata": {},
       "output_type": "display_data",
       "text": [
        "     [,1]\n",
        "[1,]   69\n",
        "[2,]   38\n",
        "[3,]   34\n",
        "[4,]   68\n",
        "[5,]   53\n"
       ]
      }
     ],
     "prompt_number": 205
    },
    {
     "cell_type": "code",
     "collapsed": false,
     "input": [
      "%%R\n",
      "\n",
      "z = A %*% A\n",
      "y = A %*% B\n",
      "\n",
      "print(z)\n",
      "print(y)"
     ],
     "language": "python",
     "metadata": {},
     "outputs": [
      {
       "metadata": {},
       "output_type": "display_data",
       "text": [
        "     [,1] [,2] [,3] [,4] [,5]\n",
        "[1,]  997  982  851  510  390\n",
        "[2,] 1369 1394 1208 1030  700\n",
        "[3,] 1278 1033  990  822  600\n",
        "[4,]  869 1220  681  847  418\n",
        "[5,] 1041  921  764  586  411\n",
        "     [,1]\n",
        "[1,] 3147\n",
        "[2,] 4650\n",
        "[3,] 3425\n",
        "[4,] 2874\n",
        "[5,] 2621\n"
       ]
      }
     ],
     "prompt_number": 206
    },
    {
     "cell_type": "code",
     "collapsed": false,
     "input": [
      "%%R\n",
      "\n",
      "AInv = solve(A) # gives you inverse of the matrix\n",
      "\n",
      "print(AInv)"
     ],
     "language": "python",
     "metadata": {},
     "outputs": [
      {
       "metadata": {},
       "output_type": "display_data",
       "text": [
        "            [,1]         [,2]        [,3]        [,4]       [,5]\n",
        "[1,]  0.04632574 -0.008106376  0.08303694 -0.01568489 -0.1062249\n",
        "[2,] -0.23362701  0.203388339 -0.27253761 -0.09018814  0.3892066\n",
        "[3,]  0.36767755 -0.404816067  0.46452675  0.19347217 -0.5294657\n",
        "[4,]  0.38659243 -0.367702691  0.52311888  0.22342177 -0.7144545\n",
        "[5,] -0.79441226  0.880465520 -1.17245843 -0.42663416  1.4119296\n"
       ]
      }
     ],
     "prompt_number": 216
    },
    {
     "cell_type": "code",
     "collapsed": false,
     "input": [
      "%%R\n",
      "\n",
      "D = A %*% AInv\n",
      "\n",
      "print(D)\n",
      "print(typeof(D[1, 1]))"
     ],
     "language": "python",
     "metadata": {},
     "outputs": [
      {
       "metadata": {},
       "output_type": "display_data",
       "text": [
        "              [,1]          [,2]          [,3]          [,4]          [,5]\n",
        "[1,]  1.000000e+00  0.000000e+00  3.552714e-15  8.881784e-16 -3.552714e-15\n",
        "[2,]  0.000000e+00  1.000000e+00  0.000000e+00  0.000000e+00  0.000000e+00\n",
        "[3,] -8.881784e-16 -8.881784e-16  1.000000e+00 -3.330669e-16  0.000000e+00\n",
        "[4,] -8.881784e-16  0.000000e+00 -1.776357e-15  1.000000e+00  0.000000e+00\n",
        "[5,]  0.000000e+00  0.000000e+00  0.000000e+00  4.440892e-16  1.000000e+00\n",
        "[1] \"double\"\n"
       ]
      }
     ],
     "prompt_number": 218
    },
    {
     "cell_type": "code",
     "collapsed": false,
     "input": [
      "%%R\n",
      "\n",
      "d = det(A)\n",
      "\n",
      "print(d)"
     ],
     "language": "python",
     "metadata": {},
     "outputs": [
      {
       "metadata": {},
       "output_type": "display_data",
       "text": [
        "[1] 79567\n"
       ]
      }
     ],
     "prompt_number": 219
    },
    {
     "cell_type": "code",
     "collapsed": false,
     "input": [],
     "language": "python",
     "metadata": {},
     "outputs": [],
     "prompt_number": 11
    },
    {
     "cell_type": "code",
     "collapsed": false,
     "input": [],
     "language": "python",
     "metadata": {},
     "outputs": [],
     "prompt_number": 11
    },
    {
     "cell_type": "code",
     "collapsed": false,
     "input": [],
     "language": "python",
     "metadata": {},
     "outputs": [],
     "prompt_number": 11
    },
    {
     "cell_type": "code",
     "collapsed": false,
     "input": [],
     "language": "python",
     "metadata": {},
     "outputs": []
    }
   ],
   "metadata": {}
  }
 ]
}