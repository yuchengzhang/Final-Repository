{
 "metadata": {
  "name": ""
 },
 "nbformat": 3,
 "nbformat_minor": 0,
 "worksheets": [
  {
   "cells": [
    {
     "cell_type": "heading",
     "level": 1,
     "metadata": {},
     "source": [
      "Functions"
     ]
    },
    {
     "cell_type": "heading",
     "level": 3,
     "metadata": {},
     "source": [
      "Function definition"
     ]
    },
    {
     "cell_type": "markdown",
     "metadata": {},
     "source": [
      "**Definition:** A function in Python is the programmatic realization of the idea of a math function $f:A \\rightarrow B$, that is, a rule that tells you how to associate any value $a$ in an *input set* a *unique value* $b$ in an *output set*.\n",
      "\n",
      "**Example:** Consider the math function $f:\\mathbb R\\rightarrow \\mathbb R$ given by \n",
      "\n",
      "$$f(x) = \\cos(x) e^{-\\frac{x^2}{5}}.$$"
     ]
    },
    {
     "cell_type": "code",
     "collapsed": false,
     "input": [],
     "language": "python",
     "metadata": {},
     "outputs": []
    },
    {
     "cell_type": "code",
     "collapsed": false,
     "input": [],
     "language": "python",
     "metadata": {},
     "outputs": []
    },
    {
     "cell_type": "heading",
     "level": 3,
     "metadata": {},
     "source": [
      "Function call"
     ]
    },
    {
     "cell_type": "markdown",
     "metadata": {},
     "source": [
      "A **function call** is an expression of the form\n",
      "\n",
      "    function_name(val1, val2, val3)\n",
      "    \n",
      "where now <code>val1, val2, val3</code> are concrete values and not *parameters*. The interpreter evaluates a function call by **replacing the function call by the function output.**"
     ]
    },
    {
     "cell_type": "code",
     "collapsed": false,
     "input": [],
     "language": "python",
     "metadata": {},
     "outputs": []
    },
    {
     "cell_type": "code",
     "collapsed": false,
     "input": [],
     "language": "python",
     "metadata": {},
     "outputs": []
    },
    {
     "cell_type": "heading",
     "level": 3,
     "metadata": {},
     "source": [
      "Function Compostion"
     ]
    },
    {
     "cell_type": "markdown",
     "metadata": {},
     "source": [
      "In math, if you have two functions $f:A\\rightarrow B$ and $g:B\\rightarrow C$, you can compose these functions by appliying first $f$ to and element $a\\in A$ and then the second function $g$ to the output $f(a)\\in B$. The result is a *new function* called the *composition*: $g \\circ f(a):= g(f(a))$ yielding the function $g\\circ f:A \\rightarrow C$. "
     ]
    },
    {
     "cell_type": "markdown",
     "metadata": {},
     "source": [
      "In Python (and in any other programming languages), one composes function the same way:"
     ]
    },
    {
     "cell_type": "code",
     "collapsed": false,
     "input": [],
     "language": "python",
     "metadata": {},
     "outputs": []
    },
    {
     "cell_type": "heading",
     "level": 2,
     "metadata": {},
     "source": [
      "Return values"
     ]
    },
    {
     "cell_type": "code",
     "collapsed": false,
     "input": [],
     "language": "python",
     "metadata": {},
     "outputs": []
    },
    {
     "cell_type": "heading",
     "level": 2,
     "metadata": {},
     "source": [
      "Main parameter and options"
     ]
    },
    {
     "cell_type": "markdown",
     "metadata": {},
     "source": [
      "We can separate the parameter of function in two types:\n",
      "\n",
      "* main parameters, that are required for the function to work: it's the **INPUT**\n",
      "\n",
      "* optional parameter, that are not required, and that customize the function behaviour: they are the **OPTIONS**\n",
      "\n",
      "*Remark:* Optional parameter are not required because they have **default values**\n",
      "\n",
      "    f(x, option1=value1, option2=value2, etc.)\n",
      "\n",
      "If the function call is as follows:\n",
      "\n",
      "    f(4)\n",
      "    \n",
      "then, behind the scene, Python calls the function with the default arguments\n",
      "\n",
      "    f(4, value1, value2)"
     ]
    },
    {
     "cell_type": "code",
     "collapsed": false,
     "input": [],
     "language": "python",
     "metadata": {},
     "outputs": []
    },
    {
     "cell_type": "markdown",
     "metadata": {},
     "source": [
      "The function above represent the family of functions\n",
      "\n",
      "$$ f_\\mu (x) = \\mu^x\\exp(\\mu x),$$\n",
      "\n",
      "where $x$ is the function input and $\\mu$ is the family parameter. "
     ]
    },
    {
     "cell_type": "code",
     "collapsed": false,
     "input": [],
     "language": "python",
     "metadata": {},
     "outputs": []
    },
    {
     "cell_type": "code",
     "collapsed": false,
     "input": [],
     "language": "python",
     "metadata": {},
     "outputs": []
    },
    {
     "cell_type": "code",
     "collapsed": false,
     "input": [],
     "language": "python",
     "metadata": {},
     "outputs": []
    },
    {
     "cell_type": "code",
     "collapsed": false,
     "input": [],
     "language": "python",
     "metadata": {},
     "outputs": []
    }
   ],
   "metadata": {}
  }
 ]
}