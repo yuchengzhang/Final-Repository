{
 "metadata": {
  "name": ""
 },
 "nbformat": 3,
 "nbformat_minor": 0,
 "worksheets": [
  {
   "cells": [
    {
     "cell_type": "code",
     "collapsed": false,
     "input": [
      "%load_ext rmagic"
     ],
     "language": "python",
     "metadata": {},
     "outputs": [],
     "prompt_number": 1
    },
    {
     "cell_type": "code",
     "collapsed": false,
     "input": [
      "%%R\n",
      "\n",
      "# 1\n",
      "\n",
      "A = matrix(c(1, 5, -2, 1, 2, -1, 3, 6, -3), nrow=3, ncol=3)\n",
      "\n",
      "# a\n",
      "print(A %*% A %*% A)\n",
      "\n",
      "# b\n",
      "A[,3] = A[,2] + A[,3]\n",
      "print(A)"
     ],
     "language": "python",
     "metadata": {},
     "outputs": [
      {
       "metadata": {},
       "output_type": "display_data",
       "text": [
        "     [,1] [,2] [,3]\n",
        "[1,]    0    0    0\n",
        "[2,]    0    0    0\n",
        "[3,]    0    0    0\n",
        "     [,1] [,2] [,3]\n",
        "[1,]    1    1    4\n",
        "[2,]    5    2    8\n",
        "[3,]   -2   -1   -4\n"
       ]
      }
     ],
     "prompt_number": 2
    },
    {
     "cell_type": "code",
     "collapsed": false,
     "input": [
      "%%R\n",
      "\n",
      "# 2\n",
      "z1 = matrix(c(10), nrow=15, ncol=1)\n",
      "z2 = matrix(c(-10), nrow=15, ncol=1)\n",
      "z3 = matrix(c(10), nrow=15, ncol=1)\n",
      "z = cbind(z1, z2, z3) # concatenate matrices horizontally\n",
      "\n",
      "# or z = matrix(c(10, -10, 10), byrow=T, nrow=15, ncol=3)\n",
      "\n",
      "print(crossprod(z)) # or t(z) %*% z"
     ],
     "language": "python",
     "metadata": {},
     "outputs": [
      {
       "metadata": {},
       "output_type": "display_data",
       "text": [
        "      [,1]  [,2]  [,3]\n",
        "[1,]  1500 -1500  1500\n",
        "[2,] -1500  1500 -1500\n",
        "[3,]  1500 -1500  1500\n"
       ]
      }
     ],
     "prompt_number": 3
    },
    {
     "cell_type": "code",
     "collapsed": false,
     "input": [
      "%%R\n",
      "\n",
      "# 3\n",
      "matE = matrix(c(0, 0, 0, 0, 0, 0), byrow=T, nrow=6, ncol=6)\n",
      "\n",
      "print(row(matE))\n",
      "print(col(matE))\n",
      "\n",
      "matE[abs(col(matE) - row(matE)) == 1] = 1\n",
      "\n",
      "print(matE)"
     ],
     "language": "python",
     "metadata": {},
     "outputs": [
      {
       "metadata": {},
       "output_type": "display_data",
       "text": [
        "     [,1] [,2] [,3] [,4] [,5] [,6]\n",
        "[1,]    1    1    1    1    1    1\n",
        "[2,]    2    2    2    2    2    2\n",
        "[3,]    3    3    3    3    3    3\n",
        "[4,]    4    4    4    4    4    4\n",
        "[5,]    5    5    5    5    5    5\n",
        "[6,]    6    6    6    6    6    6\n",
        "     [,1] [,2] [,3] [,4] [,5] [,6]\n",
        "[1,]    1    2    3    4    5    6\n",
        "[2,]    1    2    3    4    5    6\n",
        "[3,]    1    2    3    4    5    6\n",
        "[4,]    1    2    3    4    5    6\n",
        "[5,]    1    2    3    4    5    6\n",
        "[6,]    1    2    3    4    5    6\n",
        "     [,1] [,2] [,3] [,4] [,5] [,6]\n",
        "[1,]    0    1    0    0    0    0\n",
        "[2,]    1    0    1    0    0    0\n",
        "[3,]    0    1    0    1    0    0\n",
        "[4,]    0    0    1    0    1    0\n",
        "[5,]    0    0    0    1    0    1\n",
        "[6,]    0    0    0    0    1    0\n"
       ]
      }
     ],
     "prompt_number": 4
    },
    {
     "cell_type": "code",
     "collapsed": false,
     "input": [
      "%%R\n",
      "\n",
      "# 4\n",
      "x = c(0, 1, 2, 3, 4)\n",
      "y = c(0, 1, 2, 3, 4)\n",
      "\n",
      "# outer adds elements in y one by one to all elements in x\n",
      "\n",
      "print(y)\n",
      "\n",
      "print(outer(x, y, '+'))"
     ],
     "language": "python",
     "metadata": {},
     "outputs": [
      {
       "metadata": {},
       "output_type": "display_data",
       "text": [
        "[1] 0 1 2 3 4\n",
        "     [,1] [,2] [,3] [,4] [,5]\n",
        "[1,]    0    1    2    3    4\n",
        "[2,]    1    2    3    4    5\n",
        "[3,]    2    3    4    5    6\n",
        "[4,]    3    4    5    6    7\n",
        "[5,]    4    5    6    7    8\n"
       ]
      }
     ],
     "prompt_number": 5
    },
    {
     "cell_type": "code",
     "collapsed": false,
     "input": [
      "%%R\n",
      "\n",
      "# 5\n",
      "\n",
      "# a\n",
      "print(outer(0:4, 0:4, '+')%%5)\n",
      "\n",
      "# b\n",
      "print(outer(0:9, 0:9, '+')%%10)\n",
      "\n",
      "# c\n",
      "x = matrix(0, nrow=9, ncol=9)\n",
      "y = row(x) - col(x)\n",
      "y[which(y<0)] = y[which(y<0)] + 9\n",
      "#print(y)\n",
      "\n",
      "print(abs(outer(0:8, 0:8, '-')))\n"
     ],
     "language": "python",
     "metadata": {},
     "outputs": [
      {
       "metadata": {},
       "output_type": "display_data",
       "text": [
        "     [,1] [,2] [,3] [,4] [,5]\n",
        "[1,]    0    1    2    3    4\n",
        "[2,]    1    2    3    4    0\n",
        "[3,]    2    3    4    0    1\n",
        "[4,]    3    4    0    1    2\n",
        "[5,]    4    0    1    2    3\n",
        "      [,1] [,2] [,3] [,4] [,5] [,6] [,7] [,8] [,9] [,10]\n",
        " [1,]    0    1    2    3    4    5    6    7    8     9\n",
        " [2,]    1    2    3    4    5    6    7    8    9     0\n",
        " [3,]    2    3    4    5    6    7    8    9    0     1\n",
        " [4,]    3    4    5    6    7    8    9    0    1     2\n",
        " [5,]    4    5    6    7    8    9    0    1    2     3\n",
        " [6,]    5    6    7    8    9    0    1    2    3     4\n",
        " [7,]    6    7    8    9    0    1    2    3    4     5\n",
        " [8,]    7    8    9    0    1    2    3    4    5     6\n",
        " [9,]    8    9    0    1    2    3    4    5    6     7\n",
        "[10,]    9    0    1    2    3    4    5    6    7     8\n",
        "      [,1] [,2] [,3] [,4] [,5] [,6] [,7] [,8] [,9]\n",
        " [1,]    0    1    2    3    4    5    6    7    8\n",
        " [2,]    1    0    1    2    3    4    5    6    7\n",
        " [3,]    2    1    0    1    2    3    4    5    6\n",
        " [4,]    3    2    1    0    1    2    3    4    5\n",
        " [5,]    4    3    2    1    0    1    2    3    4\n",
        " [6,]    5    4    3    2    1    0    1    2    3\n",
        " [7,]    6    5    4    3    2    1    0    1    2\n",
        " [8,]    7    6    5    4    3    2    1    0    1\n",
        " [9,]    8    7    6    5    4    3    2    1    0\n"
       ]
      }
     ],
     "prompt_number": 6
    },
    {
     "cell_type": "code",
     "collapsed": false,
     "input": [
      "%%R\n",
      "\n",
      "# 6\n",
      "A = outer(2:6, 1:5, '-')\n",
      "ind = upper.tri(A)\n",
      "A[ind] = t(A)[ind]\n",
      "\n",
      "y = c(7, -1, -3, 5, 17)\n",
      "\n",
      "print(solve(A, y))"
     ],
     "language": "python",
     "metadata": {},
     "outputs": [
      {
       "metadata": {},
       "output_type": "display_data",
       "text": [
        "[1] -2  3  5  2 -4\n"
       ]
      }
     ],
     "prompt_number": 7
    },
    {
     "cell_type": "code",
     "collapsed": false,
     "input": [
      "%%R\n",
      "\n",
      "# 7\n",
      "set.seed(75)\n",
      "aMat = matrix( sample(10, size=60, replace=T), nr=6)\n",
      "\n",
      "# a\n",
      "aMat1 = aMat > 4\n",
      "print(rowSums(aMat1)) # or apply(aMat, 1, function(x){sum(x>4)}) \n",
      "# margin: 1 is for apply function over rows, 2 is for apply function over columns\n",
      "\n",
      "# b \n",
      "aMat2 = aMat == 7\n",
      "aMat2 = rowSums(aMat2)\n",
      "print(which(aMat2 == 2)) # or which(apply(aMat, 1, function(x){sum(x==7)==2}))\n",
      "\n",
      "# c\n",
      "aMat3 = apply(aMat, 2, function(x){sum(x)}) # or colSums(aMat)\n",
      "print(which(outer(aMat3, aMat3, '+') > 75, arr.ind=T))\n",
      "\n",
      "# or cbind(rep(1:10,rep(10,10)), rep(1:10,10)))[outer(aMat3, aMat3, '+') > 75]\n",
      "\n",
      "\n",
      "\n"
     ],
     "language": "python",
     "metadata": {},
     "outputs": [
      {
       "metadata": {},
       "output_type": "display_data",
       "text": [
        "[1] 4 7 6 2 6 7\n",
        "[1] 5\n",
        "     row col\n",
        "[1,]   2   2\n",
        "[2,]   6   2\n",
        "[3,]   8   2\n",
        "[4,]   2   6\n",
        "[5,]   8   6\n",
        "[6,]   2   8\n",
        "[7,]   6   8\n",
        "[8,]   8   8\n"
       ]
      }
     ],
     "prompt_number": 8
    },
    {
     "cell_type": "code",
     "collapsed": false,
     "input": [
      "%%R\n",
      "\n",
      "# 8 \n",
      "\n",
      "# a \n",
      "i = 1:20\n",
      "j = 1:5\n",
      "mat = matrix(rep(i, 20), nrow=20, ncol=5)\n",
      "\n",
      "denom1 = matrix(rep(j, 20), byrow=TRUE, nrow=20, ncol=5) + 3\n",
      "mat2 = mat^4 / denom1\n",
      "print(sum(mat2))\n",
      "\n",
      "# or sum(outer((1:20)^4, 4:8, '/'))\n",
      "\n",
      "# b\n",
      "denom2 = outer(i, j, '*') + 3\n",
      "mat3 = mat^4 / denom2\n",
      "print(sum(mat3))\n",
      "\n",
      "# or ) sum( (1:20)^4 / (3 + outer(1:20,1:5,\"*\")))\n",
      "\n",
      "# c\n",
      "i = 1:10\n",
      "j = 1:10\n",
      "mat = matrix(rep(i, 10), nrow=10, ncol=10)\n",
      "mat[upper.tri(mat)] = 0\n",
      "denom = outer(i, j, '*') + 3\n",
      "mat4 = mat^4 / denom\n",
      "print(sum(mat4))\n",
      "\n",
      "# or sum( outer(1:10,1:10,function(i,j){ (i>=j)*i^4/(3+i*j) }) )\n",
      "\n"
     ],
     "language": "python",
     "metadata": {},
     "outputs": [
      {
       "metadata": {},
       "output_type": "display_data",
       "text": [
        "[1] 639215.3\n",
        "[1] 89912.02\n",
        "[1] 6944.743\n"
       ]
      }
     ],
     "prompt_number": 9
    },
    {
     "cell_type": "code",
     "collapsed": false,
     "input": [
      "\n",
      "\n",
      "\n",
      "\n"
     ],
     "language": "python",
     "metadata": {},
     "outputs": [],
     "prompt_number": 9
    },
    {
     "cell_type": "code",
     "collapsed": false,
     "input": [],
     "language": "python",
     "metadata": {},
     "outputs": [],
     "prompt_number": 9
    }
   ],
   "metadata": {}
  }
 ]
}