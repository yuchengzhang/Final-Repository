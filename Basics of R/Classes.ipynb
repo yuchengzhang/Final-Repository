{
 "metadata": {
  "name": ""
 },
 "nbformat": 3,
 "nbformat_minor": 0,
 "worksheets": [
  {
   "cells": [
    {
     "cell_type": "heading",
     "level": 2,
     "metadata": {},
     "source": [
      "Classes\n"
     ]
    },
    {
     "cell_type": "markdown",
     "metadata": {},
     "source": [
      "*Definition:* A class is a collection of functions grouped together with the data these functions act upon (i.e. a collection of variables). In the context of classes functions are no longer called functions but methods, and variables are called attributes."
     ]
    },
    {
     "cell_type": "heading",
     "level": 2,
     "metadata": {},
     "source": [
      "Lists"
     ]
    },
    {
     "cell_type": "code",
     "collapsed": false,
     "input": [
      "%load_ext rmagic"
     ],
     "language": "python",
     "metadata": {},
     "outputs": [],
     "prompt_number": 1
    },
    {
     "cell_type": "code",
     "collapsed": false,
     "input": [
      "%%R\n",
      "\n",
      "a = list(x1='Bob', x2='Marcel', x3=list(1, 2, 3))\n",
      "\n",
      "print(a)"
     ],
     "language": "python",
     "metadata": {},
     "outputs": [
      {
       "metadata": {},
       "output_type": "display_data",
       "text": [
        "$x1\n",
        "[1] \"Bob\"\n",
        "\n",
        "$x2\n",
        "[1] \"Marcel\"\n",
        "\n",
        "$x3\n",
        "$x3[[1]]\n",
        "[1] 1\n",
        "\n",
        "$x3[[2]]\n",
        "[1] 2\n",
        "\n",
        "$x3[[3]]\n",
        "[1] 3\n",
        "\n",
        "\n"
       ]
      }
     ],
     "prompt_number": 2
    },
    {
     "cell_type": "heading",
     "level": 2,
     "metadata": {},
     "source": [
      "Subsetting"
     ]
    },
    {
     "cell_type": "markdown",
     "metadata": {},
     "source": [
      "See the Data Structure method\n"
     ]
    },
    {
     "cell_type": "heading",
     "level": 2,
     "metadata": {},
     "source": [
      "Applying"
     ]
    },
    {
     "cell_type": "markdown",
     "metadata": {},
     "source": [
      "For lists, you have essentially two apply functions, 'sapply' (simplify apply), and 'lapply' (list apply)."
     ]
    },
    {
     "cell_type": "code",
     "collapsed": false,
     "input": [
      "%%R\n",
      "\n",
      "x = 1:100\n",
      "\n",
      "f = function(x){cat(sprintf('This is iteration %d\\n', x))}\n",
      "    \n",
      "lapply(x, f)"
     ],
     "language": "python",
     "metadata": {},
     "outputs": [
      {
       "metadata": {},
       "output_type": "display_data",
       "text": [
        "This is iteration 1\n",
        "This is iteration 2\n",
        "This is iteration 3\n",
        "This is iteration 4\n",
        "This is iteration 5\n",
        "This is iteration 6\n",
        "This is iteration 7\n",
        "This is iteration 8\n",
        "This is iteration 9\n",
        "This is iteration 10\n",
        "This is iteration 11\n",
        "This is iteration 12\n",
        "This is iteration 13\n",
        "This is iteration 14\n",
        "This is iteration 15\n",
        "This is iteration 16\n",
        "This is iteration 17\n",
        "This is iteration 18\n",
        "This is iteration 19\n",
        "This is iteration 20\n",
        "This is iteration 21\n",
        "This is iteration 22\n",
        "This is iteration 23\n",
        "This is iteration 24\n",
        "This is iteration 25\n",
        "This is iteration 26\n",
        "This is iteration 27\n",
        "This is iteration 28\n",
        "This is iteration 29\n",
        "This is iteration 30\n",
        "This is iteration 31\n",
        "This is iteration 32\n",
        "This is iteration 33\n",
        "This is iteration 34\n",
        "This is iteration 35\n",
        "This is iteration 36\n",
        "This is iteration 37\n",
        "This is iteration 38\n",
        "This is iteration 39\n",
        "This is iteration 40\n",
        "This is iteration 41\n",
        "This is iteration 42\n",
        "This is iteration 43\n",
        "This is iteration 44\n",
        "This is iteration 45\n",
        "This is iteration 46\n",
        "This is iteration 47\n",
        "This is iteration 48\n",
        "This is iteration 49\n",
        "This is iteration 50\n",
        "This is iteration 51\n",
        "This is iteration 52\n",
        "This is iteration 53\n",
        "This is iteration 54\n",
        "This is iteration 55\n",
        "This is iteration 56\n",
        "This is iteration 57\n",
        "This is iteration 58\n",
        "This is iteration 59\n",
        "This is iteration 60\n",
        "This is iteration 61\n",
        "This is iteration 62\n",
        "This is iteration 63\n",
        "This is iteration 64\n",
        "This is iteration 65\n",
        "This is iteration 66\n",
        "This is iteration 67\n",
        "This is iteration 68\n",
        "This is iteration 69\n",
        "This is iteration 70\n",
        "This is iteration 71\n",
        "This is iteration 72\n",
        "This is iteration 73\n",
        "This is iteration 74\n",
        "This is iteration 75\n",
        "This is iteration 76\n",
        "This is iteration 77\n",
        "This is iteration 78\n",
        "This is iteration 79\n",
        "This is iteration 80\n",
        "This is iteration 81\n",
        "This is iteration 82\n",
        "This is iteration 83\n",
        "This is iteration 84\n",
        "This is iteration 85\n",
        "This is iteration 86\n",
        "This is iteration 87\n",
        "This is iteration 88\n",
        "This is iteration 89\n",
        "This is iteration 90\n",
        "This is iteration 91\n",
        "This is iteration 92\n",
        "This is iteration 93\n",
        "This is iteration 94\n",
        "This is iteration 95\n",
        "This is iteration 96\n",
        "This is iteration 97\n",
        "This is iteration 98\n",
        "This is iteration 99\n",
        "This is iteration 100\n"
       ]
      }
     ],
     "prompt_number": 8
    },
    {
     "cell_type": "code",
     "collapsed": false,
     "input": [
      "%%R\n",
      "\n",
      "# two ways to print things\n",
      "\n",
      "print('hello\\n') # first row\n",
      "cat('hello\\n') # raw print out\n",
      "cat('end')"
     ],
     "language": "python",
     "metadata": {},
     "outputs": [
      {
       "metadata": {},
       "output_type": "display_data",
       "text": [
        "[1] \"hello\\n\"\n",
        "hello\n",
        "end"
       ]
      }
     ],
     "prompt_number": 12
    },
    {
     "cell_type": "heading",
     "level": 2,
     "metadata": {},
     "source": [
      "Classes and Lists"
     ]
    },
    {
     "cell_type": "code",
     "collapsed": false,
     "input": [
      "%%R\n",
      "\n",
      "bob = list(Name='Bob Durant', Section='ECON', GPA=5)\n",
      "\n",
      "print(class(bob))"
     ],
     "language": "python",
     "metadata": {},
     "outputs": [
      {
       "metadata": {},
       "output_type": "display_data",
       "text": [
        "[1] \"list\"\n"
       ]
      }
     ],
     "prompt_number": 14
    },
    {
     "cell_type": "code",
     "collapsed": false,
     "input": [
      "%%R\n",
      "\n",
      "class(bob) = 'Student'"
     ],
     "language": "python",
     "metadata": {},
     "outputs": [],
     "prompt_number": 15
    },
    {
     "cell_type": "heading",
     "level": 2,
     "metadata": {},
     "source": [
      "Defining a Class object"
     ]
    },
    {
     "cell_type": "code",
     "collapsed": false,
     "input": [
      "%%R\n",
      "\n",
      "print(class(bob))"
     ],
     "language": "python",
     "metadata": {},
     "outputs": [
      {
       "metadata": {},
       "output_type": "display_data",
       "text": [
        "[1] \"Student\"\n"
       ]
      }
     ],
     "prompt_number": 16
    },
    {
     "cell_type": "code",
     "collapsed": false,
     "input": [
      "%%R\n",
      "\n",
      "print(bob)"
     ],
     "language": "python",
     "metadata": {},
     "outputs": [
      {
       "metadata": {},
       "output_type": "display_data",
       "text": [
        "$Name\n",
        "[1] \"Bob Durant\"\n",
        "\n",
        "$Section\n",
        "[1] \"ECON\"\n",
        "\n",
        "$GPA\n",
        "[1] 5\n",
        "\n",
        "attr(,\"class\")\n",
        "[1] \"Student\"\n"
       ]
      }
     ],
     "prompt_number": 17
    },
    {
     "cell_type": "code",
     "collapsed": false,
     "input": [
      "%%R\n",
      "\n",
      "print(bob$Name)"
     ],
     "language": "python",
     "metadata": {},
     "outputs": [
      {
       "metadata": {},
       "output_type": "display_data",
       "text": [
        "[1] \"Bob Durant\"\n"
       ]
      }
     ],
     "prompt_number": 23
    },
    {
     "cell_type": "heading",
     "level": 2,
     "metadata": {},
     "source": [
      "Class methods"
     ]
    },
    {
     "cell_type": "code",
     "collapsed": false,
     "input": [
      "%%R\n",
      "\n",
      "# customizing methods for the class\n",
      "print.Student = function(object){\n",
      "                         name = object$Name\n",
      "                         section = object$Section\n",
      "                         gpa = object$GPA\n",
      "                         output = sprintf(\"Name: %s\\tSection: %s\\tGPA: %0.1f\", name, section, gpa)\n",
      "                         cat(output)\n",
      "                         }\n"
     ],
     "language": "python",
     "metadata": {},
     "outputs": [],
     "prompt_number": 33
    },
    {
     "cell_type": "code",
     "collapsed": false,
     "input": [
      "%%R\n",
      "\n",
      "print(bob)\n",
      "print(bob$Name) # because the name of Bob is a character\n",
      "print(typeof(bob$Name))"
     ],
     "language": "python",
     "metadata": {},
     "outputs": [
      {
       "metadata": {},
       "output_type": "display_data",
       "text": [
        "Name: Bob Durant\tSection: ECON\tGPA: 5.0[1] \"Bob Durant\"\n",
        "[1] \"character\"\n"
       ]
      }
     ],
     "prompt_number": 38
    },
    {
     "cell_type": "heading",
     "level": 2,
     "metadata": {},
     "source": [
      "Writing your own generic function"
     ]
    },
    {
     "cell_type": "code",
     "collapsed": false,
     "input": [
      "%%R\n",
      "\n",
      "display = function(object){UseMethod('display', object)}"
     ],
     "language": "python",
     "metadata": {},
     "outputs": [],
     "prompt_number": 29
    },
    {
     "cell_type": "code",
     "collapsed": false,
     "input": [
      "%%R\n",
      "\n",
      "display(bob)"
     ],
     "language": "python",
     "metadata": {},
     "outputs": [
      {
       "output_type": "stream",
       "stream": "stdout",
       "text": [
        "Error in UseMethod(\"display\", object) : \n",
        "  no applicable method for 'display' applied to an object of class \"Student\"\n"
       ]
      }
     ],
     "prompt_number": 30
    },
    {
     "cell_type": "code",
     "collapsed": false,
     "input": [
      "%%R\n",
      "\n",
      "display.Student = function(object){print('HELLO')}\n"
     ],
     "language": "python",
     "metadata": {},
     "outputs": [],
     "prompt_number": 31
    },
    {
     "cell_type": "code",
     "collapsed": false,
     "input": [
      "%%R\n",
      "\n",
      "display(bob)"
     ],
     "language": "python",
     "metadata": {},
     "outputs": [
      {
       "metadata": {},
       "output_type": "display_data",
       "text": [
        "[1] \"HELLO\"\n"
       ]
      }
     ],
     "prompt_number": 32
    },
    {
     "cell_type": "code",
     "collapsed": false,
     "input": [
      "%%R\n",
      "\n",
      "luc = list(Name='Luc Gourdot', Age=34)\n",
      "class(luc) = 'Student'\n",
      "print(class(luc))"
     ],
     "language": "python",
     "metadata": {},
     "outputs": [
      {
       "metadata": {},
       "output_type": "display_data",
       "text": [
        "[1] \"Student\"\n"
       ]
      }
     ],
     "prompt_number": 39
    },
    {
     "cell_type": "code",
     "collapsed": false,
     "input": [
      "%%R\n",
      "\n",
      "print(luc)"
     ],
     "language": "python",
     "metadata": {},
     "outputs": [],
     "prompt_number": 43
    },
    {
     "cell_type": "heading",
     "level": 2,
     "metadata": {},
     "source": [
      "Constructor"
     ]
    },
    {
     "cell_type": "code",
     "collapsed": false,
     "input": [
      "%%R\n",
      "\n",
      "Student = function(Name, Section, GPA)\n",
      "{\n",
      "    object = list(Name=Name, Section=Section, GPA=GPA)\n",
      "    class(object) = 'Student'\n",
      "    return(object)\n",
      "}"
     ],
     "language": "python",
     "metadata": {},
     "outputs": [],
     "prompt_number": 51
    },
    {
     "cell_type": "code",
     "collapsed": false,
     "input": [
      "%%R\n",
      "\n",
      "Marc = Student('Marc Polux', 'ECON', 8)\n",
      "\n",
      "print(class(Marc))"
     ],
     "language": "python",
     "metadata": {},
     "outputs": [
      {
       "metadata": {},
       "output_type": "display_data",
       "text": [
        "[1] \"Student\"\n"
       ]
      }
     ],
     "prompt_number": 52
    },
    {
     "cell_type": "code",
     "collapsed": false,
     "input": [
      "%%R\n",
      "\n",
      "display(Marc)"
     ],
     "language": "python",
     "metadata": {},
     "outputs": [
      {
       "metadata": {},
       "output_type": "display_data",
       "text": [
        "[1] \"HELLO\"\n"
       ]
      }
     ],
     "prompt_number": 53
    },
    {
     "cell_type": "code",
     "collapsed": false,
     "input": [
      "%%R\n",
      "\n",
      "print(Marc)"
     ],
     "language": "python",
     "metadata": {},
     "outputs": [
      {
       "metadata": {},
       "output_type": "display_data",
       "text": [
        "Name: Marc Polux\tSection: ECON\tGPA: 8.0"
       ]
      }
     ],
     "prompt_number": 54
    },
    {
     "cell_type": "code",
     "collapsed": false,
     "input": [
      "%%R\n",
      "\n",
      "bob$Section = 'MATH'\n",
      "print(bob)"
     ],
     "language": "python",
     "metadata": {},
     "outputs": [
      {
       "metadata": {},
       "output_type": "display_data",
       "text": [
        "Name: Bob Durant\tSection: MATH\tGPA: 5.0"
       ]
      }
     ],
     "prompt_number": 55
    },
    {
     "cell_type": "code",
     "collapsed": false,
     "input": [],
     "language": "python",
     "metadata": {},
     "outputs": []
    }
   ],
   "metadata": {}
  }
 ]
}