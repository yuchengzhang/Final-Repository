{
 "metadata": {
  "name": ""
 },
 "nbformat": 3,
 "nbformat_minor": 0,
 "worksheets": [
  {
   "cells": [
    {
     "cell_type": "code",
     "collapsed": false,
     "input": [
      "%load_ext rmagic"
     ],
     "language": "python",
     "metadata": {},
     "outputs": [
      {
       "output_type": "stream",
       "stream": "stdout",
       "text": [
        "The rmagic extension is already loaded. To reload it, use:\n",
        "  %reload_ext rmagic\n"
       ]
      }
     ],
     "prompt_number": 6
    },
    {
     "cell_type": "heading",
     "level": 2,
     "metadata": {},
     "source": [
      "One variable over a population at a fixed time (time fixed and variable fixed)"
     ]
    },
    {
     "cell_type": "markdown",
     "metadata": {},
     "source": [
      "data over a population at a fixed time and for a fixed variable\n"
     ]
    },
    {
     "cell_type": "markdown",
     "metadata": {},
     "source": [
      "Example:\n",
      "\n",
      "* Population(omega) = students in a given class\n",
      "* Variable(X) = the student grades at a given exam"
     ]
    },
    {
     "cell_type": "code",
     "collapsed": false,
     "input": [
      "%%R\n",
      "\n",
      "n = 100\n",
      "X = rnorm(n, mean=50, sd=10)\n",
      "X[ X<0 ] = 0; X[ 100<X ] = 100\n",
      "\n",
      "stdNames = paste('S', 1:n)\n",
      "names(X) = stdNames\n",
      "print(head(X))"
     ],
     "language": "python",
     "metadata": {},
     "outputs": [
      {
       "metadata": {},
       "output_type": "display_data",
       "text": [
        "     S 1      S 2      S 3      S 4      S 5      S 6 \n",
        "56.85679 51.54837 55.89704 36.18449 51.94523 48.85631 \n"
       ]
      }
     ],
     "prompt_number": 18
    },
    {
     "cell_type": "code",
     "collapsed": false,
     "input": [
      "%%R\n",
      "\n",
      "boxplot(X)\n",
      "\n",
      "# interquartile range = Q3 - Q1, measure of spread \n",
      "# upper whisker = Q3 + (1.5 * IQR)\n",
      "# lower whisker = Q1 - (1.5 * IQR)\n",
      "# anything above upper whisker and below lower whisker is an outlier "
     ],
     "language": "python",
     "metadata": {},
     "outputs": [
      {
       "metadata": {},
       "output_type": "display_data",
       "png": "[encoded data removed]"
      }
     ],
     "prompt_number": 19
    },
    {
     "cell_type": "code",
     "collapsed": false,
     "input": [
      "%%R\n",
      "\n",
      "hist(X)"
     ],
     "language": "python",
     "metadata": {},
     "outputs": [
      {
       "metadata": {},
       "output_type": "display_data",
       "png": "[encoded data removed]"
      }
     ],
     "prompt_number": 20
    },
    {
     "cell_type": "heading",
     "level": 2,
     "metadata": {},
     "source": [
      "One variable for one individual at different times (individual and variable fixed)"
     ]
    },
    {
     "cell_type": "markdown",
     "metadata": {},
     "source": [
      "Data at different times for one variable and for one fixed individual"
     ]
    },
    {
     "cell_type": "code",
     "collapsed": false,
     "input": [],
     "language": "python",
     "metadata": {},
     "outputs": [],
     "prompt_number": 8
    },
    {
     "cell_type": "heading",
     "level": 2,
     "metadata": {},
     "source": [
      "Values for several variables for a given individual and a given time (individual and time fixed)"
     ]
    },
    {
     "cell_type": "markdown",
     "metadata": {},
     "source": [
      "Data for several variables for a fixed individual at a fixed time"
     ]
    },
    {
     "cell_type": "code",
     "collapsed": false,
     "input": [],
     "language": "python",
     "metadata": {},
     "outputs": [],
     "prompt_number": 8
    }
   ],
   "metadata": {}
  }
 ]
}