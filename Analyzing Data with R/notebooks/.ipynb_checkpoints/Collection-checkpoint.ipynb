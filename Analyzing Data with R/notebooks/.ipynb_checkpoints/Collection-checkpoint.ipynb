{
 "metadata": {
  "name": ""
 },
 "nbformat": 3,
 "nbformat_minor": 0,
 "worksheets": [
  {
   "cells": [
    {
     "cell_type": "markdown",
     "metadata": {},
     "source": [
      ".xml is a tree like data-structure, has nodes and you have to travel links between nodes, not like an array\n",
      "\n",
      "you have cubical data (doesn't occur naturally) data that comes in arrays, and data (occurs naturally)"
     ]
    },
    {
     "cell_type": "code",
     "collapsed": false,
     "input": [
      "%load_ext rmagic"
     ],
     "language": "python",
     "metadata": {},
     "outputs": [],
     "prompt_number": 1
    },
    {
     "cell_type": "markdown",
     "metadata": {},
     "source": [
      "**list files in a directory**\n",
      "\n",
      "* list.files(path='.')\n",
      "* list.dirs(path='.')\n",
      "\n",
      "**create and modify files**\n",
      "\n",
      "* file.create(path1, path2, etc...)\n",
      "* file.remove(path1, path2, etc...)\n",
      "\n",
      "**create directories**\n",
      "\n",
      "* dir.create(path)\n",
      "\n",
      "**the file system in R**\n",
      "\n",
      "* getwd()\n",
      "* setwd(dir)"
     ]
    },
    {
     "cell_type": "code",
     "collapsed": false,
     "input": [
      "%%R\n",
      "\n",
      "print(getwd())"
     ],
     "language": "python",
     "metadata": {},
     "outputs": [
      {
       "metadata": {},
       "output_type": "display_data",
       "text": [
        "[1] \"/home/oski/Desktop/src/data-analysis-with-R/notebooks\"\n"
       ]
      }
     ],
     "prompt_number": 6
    },
    {
     "cell_type": "code",
     "collapsed": false,
     "input": [
      "%%R\n",
      "\n",
      "file.create(\"A\")\n",
      "print(list.files(path='.'))"
     ],
     "language": "python",
     "metadata": {},
     "outputs": [
      {
       "metadata": {},
       "output_type": "display_data",
       "text": [
        "[1] \"A\"                     \"Collection.ipynb\"      \"Dimensions.ipynb\"     \n",
        "[4] \"Population.ipynb\"      \"Preparation.ipynb\"     \"Reproducibility.ipynb\"\n",
        "[7] \"Space.ipynb\"           \"Time.ipynb\"            \"Variables.ipynb\"      \n"
       ]
      }
     ],
     "prompt_number": 8
    },
    {
     "cell_type": "code",
     "collapsed": false,
     "input": [
      "%%R\n",
      "\n",
      "file.remove(\"A\")\n",
      "print(list.files(path='.'))"
     ],
     "language": "python",
     "metadata": {},
     "outputs": [
      {
       "metadata": {},
       "output_type": "display_data",
       "text": [
        "[1] \"Collection.ipynb\"      \"Dimensions.ipynb\"      \"Population.ipynb\"     \n",
        "[4] \"Preparation.ipynb\"     \"Reproducibility.ipynb\" \"Space.ipynb\"          \n",
        "[7] \"Time.ipynb\"            \"Variables.ipynb\"      \n"
       ]
      }
     ],
     "prompt_number": 12
    },
    {
     "cell_type": "code",
     "collapsed": false,
     "input": [
      "!curl https://data.baltimorecity.gov/api/views/dz54-2aru/rows.csv?accessType=DOWNLOAD > myFile.csv\n",
      "!curl https://data.baltimorecity.gov/api/views/dz54-2aru/rows.xml?accessType=DOWNLOAD > myFile.xml\n",
      "!curl https://data.baltimorecity.gov/api/views/dz54-2aru/rows.json?accessType=DOWNLOAD > myFile.json"
     ],
     "language": "python",
     "metadata": {},
     "outputs": [
      {
       "output_type": "stream",
       "stream": "stdout",
       "text": [
        "  % Total    % Received % Xferd  Average Speed   Time    Time     Time  Current\r\n",
        "                                 Dload  Upload   Total   Spent    Left  Speed\r\n",
        "\r",
        "  0     0    0     0    0     0      0      0 --:--:-- --:--:-- --:--:--     0"
       ]
      },
      {
       "output_type": "stream",
       "stream": "stdout",
       "text": [
        "\r",
        "100  9294    0  9294    0     0  19534      0 --:--:-- --:--:-- --:--:-- 21074\r\n"
       ]
      },
      {
       "output_type": "stream",
       "stream": "stdout",
       "text": [
        "  % Total    % Received % Xferd  Average Speed   Time    Time     Time  Current\r\n",
        "                                 Dload  Upload   Total   Spent    Left  Speed\r\n",
        "\r",
        "  0     0    0     0    0     0      0      0 --:--:-- --:--:-- --:--:--     0"
       ]
      },
      {
       "output_type": "stream",
       "stream": "stdout",
       "text": [
        "\r",
        "100 34393    0 34393    0     0  79544      0 --:--:-- --:--:-- --:--:-- 87291\r\n"
       ]
      },
      {
       "output_type": "stream",
       "stream": "stdout",
       "text": [
        "  % Total    % Received % Xferd  Average Speed   Time    Time     Time  Current\r\n",
        "                                 Dload  Upload   Total   Spent    Left  Speed\r\n",
        "\r",
        "  0     0    0     0    0     0      0      0 --:--:-- --:--:-- --:--:--     0"
       ]
      },
      {
       "output_type": "stream",
       "stream": "stdout",
       "text": [
        "\r",
        "  0     0    0     0    0     0      0      0 --:--:-- --:--:-- --:--:--     0"
       ]
      },
      {
       "output_type": "stream",
       "stream": "stdout",
       "text": [
        "\r",
        "100 39242    0 39242    0     0  49558      0 --:--:-- --:--:-- --:--:-- 52183\r\n"
       ]
      }
     ],
     "prompt_number": 15
    },
    {
     "cell_type": "code",
     "collapsed": false,
     "input": [
      "protocol = 'https://'\n",
      "website = 'data.baltimorecity.gov'\n",
      "location = '/api/views/dz54-2aru/'\n",
      "csvRequest = 'rows.csv?accessType=DOWNLOAD'\n",
      "xmlRequest = 'rows.xml?accessType=DOWNLOAD'\n",
      "jsonRequest = 'rows.json?accessType=DOWNLOAD'"
     ],
     "language": "python",
     "metadata": {},
     "outputs": [],
     "prompt_number": 17
    },
    {
     "cell_type": "code",
     "collapsed": false,
     "input": [
      "csv_url = protocol + website + location + csvRequest\n",
      "xml_url = protocol + website + location + xmlRequest\n",
      "json_url = protocol + website + location + jsonRequest\n",
      "\n",
      "print csv_url; print xml_url; print json_url\n",
      "!curl $csv_url > baltimore.csv\n",
      "!curl $xml_url > baltimore.xml\n",
      "!curl $json_url > baltimore.json"
     ],
     "language": "python",
     "metadata": {},
     "outputs": [
      {
       "output_type": "stream",
       "stream": "stdout",
       "text": [
        "https://data.baltimorecity.gov/api/views/dz54-2aru/rows.csv?accessType=DOWNLOAD\n",
        "https://data.baltimorecity.gov/api/views/dz54-2aru/rows.xml?accessType=DOWNLOAD\n",
        "https://data.baltimorecity.gov/api/views/dz54-2aru/rows.json?accessType=DOWNLOAD\n"
       ]
      },
      {
       "output_type": "stream",
       "stream": "stdout",
       "text": [
        "  % Total    % Received % Xferd  Average Speed   Time    Time     Time  Current\r\n",
        "                                 Dload  Upload   Total   Spent    Left  Speed\r\n",
        "\r",
        "  0     0    0     0    0     0      0      0 --:--:-- --:--:-- --:--:--     0"
       ]
      },
      {
       "output_type": "stream",
       "stream": "stdout",
       "text": [
        "\r",
        "100  9294    0  9294    0     0  10579      0 --:--:-- --:--:-- --:--:-- 11197\r\n"
       ]
      },
      {
       "output_type": "stream",
       "stream": "stdout",
       "text": [
        "  % Total    % Received % Xferd  Average Speed   Time    Time     Time  Current\r\n",
        "                                 Dload  Upload   Total   Spent    Left  Speed\r\n",
        "\r",
        "  0     0    0     0    0     0      0      0 --:--:-- --:--:-- --:--:--     0"
       ]
      },
      {
       "output_type": "stream",
       "stream": "stdout",
       "text": [
        "\r",
        "100 34393    0 34393    0     0  79388      0 --:--:-- --:--:-- --:--:-- 85982\r\n"
       ]
      },
      {
       "output_type": "stream",
       "stream": "stdout",
       "text": [
        "  % Total    % Received % Xferd  Average Speed   Time    Time     Time  Current\r\n",
        "                                 Dload  Upload   Total   Spent    Left  Speed\r\n",
        "\r",
        "  0     0    0     0    0     0      0      0 --:--:-- --:--:-- --:--:--     0"
       ]
      },
      {
       "output_type": "stream",
       "stream": "stdout",
       "text": [
        "\r",
        "  0     0    0     0    0     0      0      0 --:--:-- --:--:-- --:--:--     0"
       ]
      },
      {
       "output_type": "stream",
       "stream": "stdout",
       "text": [
        "\r",
        "100 39242    0 39242    0     0  47895      0 --:--:-- --:--:-- --:--:-- 50053\r\n"
       ]
      }
     ],
     "prompt_number": 18
    },
    {
     "cell_type": "code",
     "collapsed": false,
     "input": [
      "%%R\n",
      "\n",
      "df = read.table('baltimore.csv', sep=',', header=TRUE)\n",
      "print(head(df))"
     ],
     "language": "python",
     "metadata": {},
     "outputs": [
      {
       "metadata": {},
       "output_type": "display_data",
       "text": [
        "                         address direction      street  crossStreet\n",
        "1       S CATON AVE & BENSON AVE       N/B   Caton Ave   Benson Ave\n",
        "2       S CATON AVE & BENSON AVE       S/B   Caton Ave   Benson Ave\n",
        "3 WILKENS AVE & PINE HEIGHTS AVE       E/B Wilkens Ave Pine Heights\n",
        "4        THE ALAMEDA & E 33RD ST       S/B The Alameda      33rd St\n",
        "5        E 33RD ST & THE ALAMEDA       E/B      E 33rd  The Alameda\n",
        "6        ERDMAN AVE & N MACON ST       E/B      Erdman     Macon St\n",
        "                intersection                      Location.1\n",
        "1     Caton Ave & Benson Ave (39.2693779962, -76.6688185297)\n",
        "2     Caton Ave & Benson Ave (39.2693157898, -76.6689698176)\n",
        "3 Wilkens Ave & Pine Heights  (39.2720252302, -76.676960806)\n",
        "4     The Alameda  & 33rd St (39.3285013141, -76.5953545714)\n",
        "5      E 33rd  & The Alameda (39.3283410623, -76.5953594625)\n",
        "6         Erdman  & Macon St (39.3068045671, -76.5593167803)\n"
       ]
      }
     ],
     "prompt_number": 20
    },
    {
     "cell_type": "code",
     "collapsed": false,
     "input": [
      "%%file course.csv\n",
      "\n",
      "name, midterm, final, homework, section, major\n",
      "Bob Durant, 55, 88, 99, 1, STAT\n",
      "Agnes Thomas, 99, 90, 99, 2, ECON"
     ],
     "language": "python",
     "metadata": {},
     "outputs": [
      {
       "output_type": "stream",
       "stream": "stdout",
       "text": [
        "Writing course.csv\n"
       ]
      }
     ],
     "prompt_number": 21
    },
    {
     "cell_type": "code",
     "collapsed": false,
     "input": [
      "%%R\n",
      "\n",
      "df = read.csv('course.csv')\n",
      "print(df)"
     ],
     "language": "python",
     "metadata": {},
     "outputs": [
      {
       "metadata": {},
       "output_type": "display_data",
       "text": [
        "          name midterm final homework section major\n",
        "1   Bob Durant      55    88       99       1  STAT\n",
        "2 Agnes Thomas      99    90       99       2  ECON\n"
       ]
      }
     ],
     "prompt_number": 22
    },
    {
     "cell_type": "code",
     "collapsed": false,
     "input": [
      "%%file stat133.xml\n",
      "<?xml version=\"1.0\" encoding=\"ISO-8859-1\"?>  \n",
      "\n",
      "\n",
      "<stat133 name='Computing with Data' department='STAT'>\n",
      "        \n",
      "    <student sid='1232243'>\n",
      "        <name>Bob Durant</name>\n",
      "        <midterm>55</midterm>\n",
      "        <final>88</final>\n",
      "        <homework>99</homework>\n",
      "        <section>1</section>\n",
      "        <major>STAT</major>\n",
      "    </student>\n",
      "    \n",
      "    <student sid='3213453'>\n",
      "        <name>Agnes Thomas</name>\n",
      "        <midterm>99</midterm>\n",
      "        <final>90</final>\n",
      "        <homework>99</homework>\n",
      "        <section>2</section>\n",
      "        <major>ECON</major>\n",
      "    </student>\n",
      "    \n",
      "</stat133>"
     ],
     "language": "python",
     "metadata": {},
     "outputs": [
      {
       "output_type": "stream",
       "stream": "stdout",
       "text": [
        "Writing stat133.xml\n"
       ]
      }
     ],
     "prompt_number": 23
    },
    {
     "cell_type": "code",
     "collapsed": false,
     "input": [
      "%%R\n",
      "\n",
      "library(XML)"
     ],
     "language": "python",
     "metadata": {},
     "outputs": [],
     "prompt_number": 26
    },
    {
     "cell_type": "markdown",
     "metadata": {},
     "source": [
      "To **navigate the XML tree**\n",
      "\n",
      "xmlAttrs(node)\n",
      "xmlValue(node)\n",
      "xmlChildren(node)\n",
      "xmlParent(node)"
     ]
    },
    {
     "cell_type": "code",
     "collapsed": false,
     "input": [
      "%%R\n",
      "\n",
      "xml_doc = xmlParse('stat133.xml')\n",
      "\n",
      "stat133_node = xmlRoot(xml_doc)"
     ],
     "language": "python",
     "metadata": {},
     "outputs": [],
     "prompt_number": 30
    },
    {
     "cell_type": "code",
     "collapsed": false,
     "input": [
      "%%R\n",
      "\n",
      "stat133_attrs = xmlAttrs(stat133_node)\n",
      "print(stat133_attrs)"
     ],
     "language": "python",
     "metadata": {},
     "outputs": [
      {
       "metadata": {},
       "output_type": "display_data",
       "text": [
        "                 name            department \n",
        "\"Computing with Data\"                \"STAT\" \n"
       ]
      }
     ],
     "prompt_number": 31
    },
    {
     "cell_type": "code",
     "collapsed": false,
     "input": [
      "%%R\n",
      "\n",
      "stat133_children = xmlChildren(stat133_node)\n",
      "\n",
      "print(stat133_children)"
     ],
     "language": "python",
     "metadata": {},
     "outputs": [
      {
       "metadata": {},
       "output_type": "display_data",
       "text": [
        "$student\n",
        "<student sid=\"1232243\">\n",
        "  <name>Bob Durant</name>\n",
        "  <midterm>55</midterm>\n",
        "  <final>88</final>\n",
        "  <homework>99</homework>\n",
        "  <section>1</section>\n",
        "  <major>STAT</major>\n",
        "</student> \n",
        "\n",
        "$student\n",
        "<student sid=\"3213453\">\n",
        "  <name>Agnes Thomas</name>\n",
        "  <midterm>99</midterm>\n",
        "  <final>90</final>\n",
        "  <homework>99</homework>\n",
        "  <section>2</section>\n",
        "  <major>ECON</major>\n",
        "</student> \n",
        "\n",
        "attr(,\"class\")\n",
        "[1] \"XMLInternalNodeList\" \"XMLNodeList\"        \n"
       ]
      }
     ],
     "prompt_number": 32
    },
    {
     "cell_type": "code",
     "collapsed": false,
     "input": [
      "%%R\n",
      "\n",
      "student1_node = stat133_children[[1]]\n",
      "student2_node = stat133_children[[2]]\n",
      "\n",
      "print(student1_node)"
     ],
     "language": "python",
     "metadata": {},
     "outputs": [
      {
       "metadata": {},
       "output_type": "display_data",
       "text": [
        "<student sid=\"1232243\">\n",
        "  <name>Bob Durant</name>\n",
        "  <midterm>55</midterm>\n",
        "  <final>88</final>\n",
        "  <homework>99</homework>\n",
        "  <section>1</section>\n",
        "  <major>STAT</major>\n",
        "</student> \n"
       ]
      }
     ],
     "prompt_number": 34
    },
    {
     "cell_type": "code",
     "collapsed": false,
     "input": [
      "%%R\n",
      "\n",
      "parent_node = xmlParent(student1_node)\n",
      "print(parent_node)"
     ],
     "language": "python",
     "metadata": {},
     "outputs": [
      {
       "metadata": {},
       "output_type": "display_data",
       "text": [
        "<stat133 name=\"Computing with Data\" department=\"STAT\">\n",
        "  <student sid=\"1232243\">\n",
        "    <name>Bob Durant</name>\n",
        "    <midterm>55</midterm>\n",
        "    <final>88</final>\n",
        "    <homework>99</homework>\n",
        "    <section>1</section>\n",
        "    <major>STAT</major>\n",
        "  </student>\n",
        "  <student sid=\"3213453\">\n",
        "    <name>Agnes Thomas</name>\n",
        "    <midterm>99</midterm>\n",
        "    <final>90</final>\n",
        "    <homework>99</homework>\n",
        "    <section>2</section>\n",
        "    <major>ECON</major>\n",
        "  </student>\n",
        "</stat133> \n"
       ]
      }
     ],
     "prompt_number": 36
    },
    {
     "cell_type": "code",
     "collapsed": false,
     "input": [
      "%%R\n",
      "\n",
      "for(student in xmlChildren(stat133_node){\n",
      "    for(node in xmlChildren(student)) print(xmlValue(node))\n",
      "    }"
     ],
     "language": "python",
     "metadata": {},
     "outputs": [
      {
       "output_type": "stream",
       "stream": "stdout",
       "text": [
        "\n",
        "Error while parsing the string.\n"
       ]
      }
     ],
     "prompt_number": 38
    },
    {
     "cell_type": "code",
     "collapsed": false,
     "input": [],
     "language": "python",
     "metadata": {},
     "outputs": []
    }
   ],
   "metadata": {}
  }
 ]
}