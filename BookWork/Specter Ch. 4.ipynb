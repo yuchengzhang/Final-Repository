{
 "metadata": {
  "name": ""
 },
 "nbformat": 3,
 "nbformat_minor": 0,
 "worksheets": [
  {
   "cells": [
    {
     "cell_type": "code",
     "collapsed": false,
     "input": [
      "%load_ext rmagic"
     ],
     "language": "python",
     "metadata": {},
     "outputs": [],
     "prompt_number": 1
    },
    {
     "cell_type": "markdown",
     "metadata": {},
     "source": [
      "R has [date class](http://www.stat.berkeley.edu/classes/s133/R-5a.html) used to represent **temporal data**. \n",
      "\n",
      "One can create a date out of a _date string_ in using the function: \n",
      "\n",
      "    as.Date(date_string, pattern)\n",
      "    \n",
      "where `pattern` is a string indicating how the date in `date_string` is formatted using the _date place holders_:\n",
      "\n",
      "    %d (day)\n",
      "    %m (month as a number)\n",
      "    %B (month written out)\n",
      "    %b (abbreviated month)\n",
      "    %y (year: two digits)\n",
      "    %Y (year: four digits)\n",
      "\n",
      "This function returns a `Date` object, on which we can perform numerical operations:\n",
      "\n",
      "R provides a [collection of function](http://stat.ethz.ch/R-manual/R-devel/library/base/html/grep.html) to find and replace **regular expressions** in character vectors:\n",
      "\n",
      "    grep(pattern, x, value=FALSE) # if value=TRUE returns matching elements, else returns matching indices\n",
      "    sub(pattern, replacement, x)\n",
      "    gsub(pattern, replacement, x)\n",
      "    gregexpr(pattern, x)\n",
      "\n",
      "<code>gregexpr</code> returns a list of vectors of the indices on which the matches were found, each list also has\n",
      "the attribute <code>match.length</code> which is a vector corresponding to the length of each match \n",
      "    \n",
      "where \n",
      "\n",
      "* `x` is a character vector\n",
      "* `pattern` is regular expression to match and replace\n",
      "* `replacement` is the replacement regular expression\n",
      "\n",
      "`grep` returns the indices of elements matching `pattern` in the character vector `x`, while the two other functions, `sub` and `gsub` replace the matched pattern by `replacement` (the difference being that `sub` replaces only the first occurence of the matched pattern.\n",
      "\n",
      "R uses the set of **extended regular expressions**.\n",
      "\n",
      "*'\\' is the escape character, but when '\\' is to be interpreted literally you have to type two of them '\\\\'*\n",
      "\n",
      "**REMEMBER: regular expression program will always try to find the longest match possible**\n",
      "\n",
      "**Groups:**\n",
      "\n",
      "     ( ) delimits a group of characters\n",
      "     |   means \"either the group or character on the left or on the rigth of |\"\n",
      "     \n",
      "**Ranges:**\n",
      "\n",
      "       .    means \"any character except the newline character\"\n",
      "     [...]  means \"any character enclosed between the brackets\"\n",
      "     [^...] means \"any character not enclosed between the brackets\"\n",
      "     [0-9]\n",
      "     [a-z]\n",
      "     [A-Z]\n",
      "     \n",
      "     \n",
      "**Modifiers:**\n",
      "\n",
      "     *      means \"the previous character or group occurs zero or many times\"\n",
      "     +      means \"the previous character or group occurs one or many times\"\n",
      "     ?      means \"the previous character or group occurs zero or one time\"\n",
      "     {n,m}  means \"the previous character or group occurs between n or m times\"\n",
      "     {n}    means \"the previous character or group occurs exactly n times\"\n",
      "     {n,}   means \"the previous character or groups occurs at least n times\"\n",
      "     \\      escape special characters\n",
      "     \\< \\>  means \"the previous character or group is surrounded by whitespace, punctuation, or line beginnings and endings\"\n",
      "     \n",
      "   **Note: if you include '?' after '*' or '+', you indicate you want to find the smallest string that matches the pattern**\n",
      "\n",
      "**Positions:**\n",
      "\n",
      "     ^ means \"at the beginning of the line\"\n",
      "     $ means \"at the end of the line\"\n",
      "    \n",
      "**Types**\n",
      "\n",
      "    \\ w Alphanumerics and _\n",
      "    \\ d Digits\n",
      "    \\ s Whitespace\n",
      "    \\ W Non-alphanumerics\n",
      "    \\ D Non-digits\n",
      "    \\ S Non-whitespace"
     ]
    },
    {
     "cell_type": "code",
     "collapsed": false,
     "input": [
      "%%R\n",
      "\n",
      "chk = c('abc nobody@stat.berkeley.edu', 'text with no email', 'first me@mything.com also you@yourspace.com')\n",
      "emailpat = '[A-Za-z0-9_.%]+@[A-Za-z0-9_.%]+\\\\.[A-Za-z]+'\n",
      "\n",
      "emails = grep(emailpat, chk)\n",
      "print(emails)"
     ],
     "language": "python",
     "metadata": {},
     "outputs": [
      {
       "metadata": {},
       "output_type": "display_data",
       "text": [
        "[1] 1 3\n"
       ]
      }
     ],
     "prompt_number": 2
    },
    {
     "cell_type": "code",
     "collapsed": false,
     "input": [
      "%%R\n",
      "\n",
      "# gregexpr returns a list of vectors of the indices on which the matches were found, each list also has\n",
      "# the attribute match.length which is a vector corresponding to the length of each match \n",
      "\n",
      "gregout = gregexpr(emailpat, chk)\n",
      "print(gregout)"
     ],
     "language": "python",
     "metadata": {},
     "outputs": [
      {
       "metadata": {},
       "output_type": "display_data",
       "text": [
        "[[1]]\n",
        "[1] 5\n",
        "attr(,\"match.length\")\n",
        "[1] 24\n",
        "attr(,\"useBytes\")\n",
        "[1] TRUE\n",
        "\n",
        "[[2]]\n",
        "[1] -1\n",
        "attr(,\"match.length\")\n",
        "[1] -1\n",
        "attr(,\"useBytes\")\n",
        "[1] TRUE\n",
        "\n",
        "[[3]]\n",
        "[1]  7 27\n",
        "attr(,\"match.length\")\n",
        "[1] 14 17\n",
        "attr(,\"useBytes\")\n",
        "[1] TRUE\n",
        "\n"
       ]
      }
     ],
     "prompt_number": 3
    },
    {
     "cell_type": "code",
     "collapsed": false,
     "input": [
      "%%R\n",
      "\n",
      "print(substring(chk[1], gregout[[1]], gregout[[1]] + attr(gregout[[1]], 'match.length') - 1))"
     ],
     "language": "python",
     "metadata": {},
     "outputs": [
      {
       "metadata": {},
       "output_type": "display_data",
       "text": [
        "[1] \"nobody@stat.berkeley.edu\"\n"
       ]
      }
     ],
     "prompt_number": 4
    },
    {
     "cell_type": "code",
     "collapsed": false,
     "input": [
      "%%R\n",
      "\n",
      "getexpr = function(s, g){substring(s, g, g + attr(g, 'match.length') - 1)}\n",
      "\n",
      "print(getexpr(chk[2], gregout[[2]]))\n",
      "print(getexpr(chk[3], gregout[[3]]))"
     ],
     "language": "python",
     "metadata": {},
     "outputs": [
      {
       "metadata": {},
       "output_type": "display_data",
       "text": [
        "[1] \"\"\n",
        "[1] \"me@mything.com\"    \"you@yourspace.com\"\n"
       ]
      }
     ],
     "prompt_number": 5
    },
    {
     "cell_type": "code",
     "collapsed": false,
     "input": [
      "%%R\n",
      "\n",
      "# mapply will repeatedly call a function of your choice, cycling through the elements in as many\n",
      "# vectors as you provide to that function\n",
      "\n",
      "emails = mapply(getexpr, chk, gregout)\n",
      "\n",
      "print(emails)"
     ],
     "language": "python",
     "metadata": {},
     "outputs": [
      {
       "metadata": {},
       "output_type": "display_data",
       "text": [
        "$`abc nobody@stat.berkeley.edu`\n",
        "[1] \"nobody@stat.berkeley.edu\"\n",
        "\n",
        "$`text with no email`\n",
        "[1] \"\"\n",
        "\n",
        "$`first me@mything.com also you@yourspace.com`\n",
        "[1] \"me@mything.com\"    \"you@yourspace.com\"\n",
        "\n"
       ]
      }
     ],
     "prompt_number": 6
    },
    {
     "cell_type": "code",
     "collapsed": false,
     "input": [
      "%%R\n",
      "\n",
      "names(emails) = NULL\n",
      "print(emails)"
     ],
     "language": "python",
     "metadata": {},
     "outputs": [
      {
       "metadata": {},
       "output_type": "display_data",
       "text": [
        "[[1]]\n",
        "[1] \"nobody@stat.berkeley.edu\"\n",
        "\n",
        "[[2]]\n",
        "[1] \"\"\n",
        "\n",
        "[[3]]\n",
        "[1] \"me@mything.com\"    \"you@yourspace.com\"\n",
        "\n"
       ]
      }
     ],
     "prompt_number": 7
    },
    {
     "cell_type": "code",
     "collapsed": false,
     "input": [
      "%%R\n",
      "\n",
      "# use function unlist to turn a list into a vector\n",
      "\n",
      "emails = unlist(emails)\n",
      "emails = emails[emails != ''] # or subset(emails, emails != '')\n",
      "print(emails)"
     ],
     "language": "python",
     "metadata": {},
     "outputs": [
      {
       "metadata": {},
       "output_type": "display_data",
       "text": [
        "[1] \"nobody@stat.berkeley.edu\" \"me@mything.com\"          \n",
        "[3] \"you@yourspace.com\"       \n"
       ]
      }
     ],
     "prompt_number": 8
    },
    {
     "cell_type": "code",
     "collapsed": false,
     "input": [
      "%%R\n",
      "\n",
      "emails = mapply(getexpr,chk, gregout)\n",
      "names(emails) = NULL\n",
      "\n",
      "print(emails)\n",
      "\n",
      "# nchar function counts the number of characters\n",
      "print(sapply(emails, function(x){if(nchar(x[1])>0){return(length(x))}else{return(0)}}))"
     ],
     "language": "python",
     "metadata": {},
     "outputs": [
      {
       "metadata": {},
       "output_type": "display_data",
       "text": [
        "[[1]]\n",
        "[1] \"nobody@stat.berkeley.edu\"\n",
        "\n",
        "[[2]]\n",
        "[1] \"\"\n",
        "\n",
        "[[3]]\n",
        "[1] \"me@mything.com\"    \"you@yourspace.com\"\n",
        "\n",
        "[1] 1 0 2\n"
       ]
      }
     ],
     "prompt_number": 9
    },
    {
     "cell_type": "code",
     "collapsed": false,
     "input": [
      "%%R\n",
      "\n",
      "htmls = c('This is an image: <IMG SRC=\"img/rxb.gif\">', '<a href=\"somepage.html\">click here</a>')\n",
      "pat = '<[^>]*>'\n",
      "\n",
      "print(grep(pat, htmls))\n",
      "\n",
      "matches = mapply(getexpr, htmls, gregexpr(pat, htmls))\n",
      "names(matches) = NULL\n",
      "print(matches)\n"
     ],
     "language": "python",
     "metadata": {},
     "outputs": [
      {
       "metadata": {},
       "output_type": "display_data",
       "text": [
        "[1] 1 2\n",
        "[[1]]\n",
        "[1] \"<IMG SRC=\\\"img/rxb.gif\\\">\"\n",
        "\n",
        "[[2]]\n",
        "[1] \"<a href=\\\"somepage.html\\\">\" \"</a>\"                      \n",
        "\n"
       ]
      }
     ],
     "prompt_number": 10
    },
    {
     "cell_type": "code",
     "collapsed": false,
     "input": [
      "%%R\n",
      "\n",
      "htmls = c('This is an image: <IMG SRC=\"img/rxb.gif\">', '<a href=\"somepage.html\">click here</a>')\n",
      "pat = '<.*?>'\n",
      "\n",
      "print(grep(pat, htmls))\n",
      "\n",
      "matches = mapply(getexpr, htmls, gregexpr(pat, htmls))\n",
      "names(matches) = NULL\n",
      "print(matches)"
     ],
     "language": "python",
     "metadata": {},
     "outputs": [
      {
       "metadata": {},
       "output_type": "display_data",
       "text": [
        "[1] 1 2\n",
        "[[1]]\n",
        "[1] \"<IMG SRC=\\\"img/rxb.gif\\\">\"\n",
        "\n",
        "[[2]]\n",
        "[1] \"<a href=\\\"somepage.html\\\">\" \"</a>\"                      \n",
        "\n"
       ]
      }
     ],
     "prompt_number": 11
    },
    {
     "cell_type": "code",
     "collapsed": false,
     "input": [
      "%%R\n",
      "\n",
      "link = '<a href=\"http://www.stat.berkeley.edu\">UC Berkeley Stat Dept Home Page</a><br />'\n",
      "pat = 'href *= *[\"\\']?([^\"\\'>]+)[\"\\']? *>'\n",
      "gregout = gregexpr(pat, link, ignore.case=TRUE)\n",
      "thematch = mapply(getexpr, link, gregout)\n",
      "names(thematch) = NULL\n",
      "\n",
      "# notice the part you want is in parenthese, this allows you to refer to the tagged expression as\n",
      "# \\1 in a call to gsub, additional tagged expressions are referred to as \\2, \\3, etc...\n",
      "\n",
      "answer = gsub(pat, '\\\\1', thematch)\n",
      "\n",
      "print(answer)"
     ],
     "language": "python",
     "metadata": {},
     "outputs": [
      {
       "metadata": {},
       "output_type": "display_data",
       "text": [
        "[1] \"http://www.stat.berkeley.edu\"\n"
       ]
      }
     ],
     "prompt_number": 12
    },
    {
     "cell_type": "code",
     "collapsed": false,
     "input": [
      "%%R\n",
      "\n",
      "# readLines function, takes the name of a URL or file that you want to read, and it returns a character\n",
      "# vector with one element for each line of the file or url, containing the contents of each line. \n",
      "# can pass in optional argument 'n' for the amount of lines you want to read \n",
      "\n",
      "x = readLines('http://www.stat.berkeley.edu/classes/s133/schedule.html')\n"
     ],
     "language": "python",
     "metadata": {},
     "outputs": [],
     "prompt_number": 13
    },
    {
     "cell_type": "code",
     "collapsed": false,
     "input": [
      "%%R\n",
      "\n",
      "baseurl = 'http://www.stat.berkeley.edu/classes/s133'\n",
      "linkpat = '^.*<td> *<a href=[\"\\'](.*)[\"\\']>.*$'\n",
      "\n",
      "\n",
      "x = readLines('http://www.stat.berkeley.edu/classes/s133/schedule.html')\n",
      "y = grep(linkpat, x, value=TRUE)\n",
      "\n",
      "answer = sub(linkpat, '\\\\1', y)\n",
      "\n",
      "print(paste(baseurl, answer, sep='/'))"
     ],
     "language": "python",
     "metadata": {},
     "outputs": [
      {
       "metadata": {},
       "output_type": "display_data",
       "text": [
        " [1] \"http://www.stat.berkeley.edu/classes/s133/Intro.html\"      \n",
        " [2] \"http://www.stat.berkeley.edu/classes/s133/R-1a.html\"       \n",
        " [3] \"http://www.stat.berkeley.edu/classes/s133/R-2a.html\"       \n",
        " [4] \"http://www.stat.berkeley.edu/classes/s133/R-3a.html\"       \n",
        " [5] \"http://www.stat.berkeley.edu/classes/s133/R-4a.html\"       \n",
        " [6] \"http://www.stat.berkeley.edu/classes/s133/Unix.html\"       \n",
        " [7] \"http://www.stat.berkeley.edu/classes/s133/R-5a.html\"       \n",
        " [8] \"http://www.stat.berkeley.edu/classes/s133/R-6a.html\"       \n",
        " [9] \"http://www.stat.berkeley.edu/classes/s133/R-6b.html\"       \n",
        "[10] \"http://www.stat.berkeley.edu/classes/s133/R-7.html\"        \n",
        "[11] \"http://www.stat.berkeley.edu/classes/s133/Regexp-a.html\"   \n",
        "[12] \"http://www.stat.berkeley.edu/classes/s133/Regexp1a.html\"   \n",
        "[13] \"http://www.stat.berkeley.edu/classes/s133/Regexp2a.html\"   \n",
        "[14] \"http://www.stat.berkeley.edu/classes/s133/Regexp3a.html\"   \n",
        "[15] \"http://www.stat.berkeley.edu/classes/s133/Graphics0a.html\" \n",
        "[16] \"http://www.stat.berkeley.edu/classes/s133/Graphics1a.html\" \n",
        "[17] \"http://www.stat.berkeley.edu/classes/s133/Graphics2a.html\" \n",
        "[18] \"http://www.stat.berkeley.edu/classes/s133/Db1a.html\"       \n",
        "[19] \"http://www.stat.berkeley.edu/classes/s133/Db2a.html\"       \n",
        "[20] \"http://www.stat.berkeley.edu/classes/s133/Db3a.html\"       \n",
        "[21] \"http://www.stat.berkeley.edu/classes/s133/Db4a.html\"       \n",
        "[22] \"http://www.stat.berkeley.edu/classes/s133/Cluster1.html\"   \n",
        "[23] \"http://www.stat.berkeley.edu/classes/s133/Cluster2a.html\"  \n",
        "[24] \"http://www.stat.berkeley.edu/classes/s133/XML-a.html\"      \n",
        "[25] \"http://www.stat.berkeley.edu/classes/s133/Programming.html\"\n",
        "[26] \"http://www.stat.berkeley.edu/classes/s133/Class1a.html\"    \n",
        "[27] \"http://www.stat.berkeley.edu/classes/s133/Class2a.html\"    \n",
        "[28] \"http://www.stat.berkeley.edu/classes/s133/Random1.html\"    \n",
        "[29] \"http://www.stat.berkeley.edu/classes/s133/Random2a.html\"   \n",
        "[30] \"http://www.stat.berkeley.edu/classes/s133/Gui-a.html\"      \n",
        "[31] \"http://www.stat.berkeley.edu/classes/s133/Gui2a.html\"      \n",
        "[32] \"http://www.stat.berkeley.edu/classes/s133/Cgi0a.html\"      \n",
        "[33] \"http://www.stat.berkeley.edu/classes/s133/Cgi1a.html\"      \n",
        "[34] \"http://www.stat.berkeley.edu/classes/s133/Smooth-a.html\"   \n",
        "[35] \"http://www.stat.berkeley.edu/classes/s133/Smooth1a.html\"   \n",
        "[36] \"http://www.stat.berkeley.edu/classes/s133/Lr-a.html\"       \n",
        "[37] \"http://www.stat.berkeley.edu/classes/s133/Aov0a.html\"      \n",
        "[38] \"http://www.stat.berkeley.edu/classes/s133/Aov1a.html\"      \n",
        "[39] \"http://www.stat.berkeley.edu/classes/s133/Aov2a.html\"      \n"
       ]
      }
     ],
     "prompt_number": 14
    },
    {
     "cell_type": "code",
     "collapsed": false,
     "input": [
      "%%R\n",
      "\n",
      "baseurl = 'http://www.stat.berkeley.edu/classes/s133'\n",
      "linkpat = '^.*<td> *<a href=[\"\\'](.*)[\"\\']>.*$'\n",
      "\n",
      "\n",
      "getexpr_fixed = function(s, g){substring(s, g, g + attr(g, 'match.length') - 1)}\n",
      "\n",
      "\n",
      "x = readLines('http://www.stat.berkeley.edu/classes/s133/schedule.html')\n",
      "y = gregexpr(linkpat, x)\n",
      "\n",
      "\n",
      "exprs = mapply(getexpr, x, y)\n",
      "exprs = subset(exprs, exprs != '')\n",
      "names(exprs) = NULL\n",
      "\n",
      "answer = sub(linkpat, '\\\\1', exprs)\n",
      "\n",
      "\n",
      "print(paste(baseurl, answer, sep='/'))"
     ],
     "language": "python",
     "metadata": {},
     "outputs": [
      {
       "metadata": {},
       "output_type": "display_data",
       "text": [
        " [1] \"http://www.stat.berkeley.edu/classes/s133/Intro.html\"      \n",
        " [2] \"http://www.stat.berkeley.edu/classes/s133/R-1a.html\"       \n",
        " [3] \"http://www.stat.berkeley.edu/classes/s133/R-2a.html\"       \n",
        " [4] \"http://www.stat.berkeley.edu/classes/s133/R-3a.html\"       \n",
        " [5] \"http://www.stat.berkeley.edu/classes/s133/R-4a.html\"       \n",
        " [6] \"http://www.stat.berkeley.edu/classes/s133/Unix.html\"       \n",
        " [7] \"http://www.stat.berkeley.edu/classes/s133/R-5a.html\"       \n",
        " [8] \"http://www.stat.berkeley.edu/classes/s133/R-6a.html\"       \n",
        " [9] \"http://www.stat.berkeley.edu/classes/s133/R-6b.html\"       \n",
        "[10] \"http://www.stat.berkeley.edu/classes/s133/R-7.html\"        \n",
        "[11] \"http://www.stat.berkeley.edu/classes/s133/Regexp-a.html\"   \n",
        "[12] \"http://www.stat.berkeley.edu/classes/s133/Regexp1a.html\"   \n",
        "[13] \"http://www.stat.berkeley.edu/classes/s133/Regexp2a.html\"   \n",
        "[14] \"http://www.stat.berkeley.edu/classes/s133/Regexp3a.html\"   \n",
        "[15] \"http://www.stat.berkeley.edu/classes/s133/Graphics0a.html\" \n",
        "[16] \"http://www.stat.berkeley.edu/classes/s133/Graphics1a.html\" \n",
        "[17] \"http://www.stat.berkeley.edu/classes/s133/Graphics2a.html\" \n",
        "[18] \"http://www.stat.berkeley.edu/classes/s133/Db1a.html\"       \n",
        "[19] \"http://www.stat.berkeley.edu/classes/s133/Db2a.html\"       \n",
        "[20] \"http://www.stat.berkeley.edu/classes/s133/Db3a.html\"       \n",
        "[21] \"http://www.stat.berkeley.edu/classes/s133/Db4a.html\"       \n",
        "[22] \"http://www.stat.berkeley.edu/classes/s133/Cluster1.html\"   \n",
        "[23] \"http://www.stat.berkeley.edu/classes/s133/Cluster2a.html\"  \n",
        "[24] \"http://www.stat.berkeley.edu/classes/s133/XML-a.html\"      \n",
        "[25] \"http://www.stat.berkeley.edu/classes/s133/Programming.html\"\n",
        "[26] \"http://www.stat.berkeley.edu/classes/s133/Class1a.html\"    \n",
        "[27] \"http://www.stat.berkeley.edu/classes/s133/Class2a.html\"    \n",
        "[28] \"http://www.stat.berkeley.edu/classes/s133/Random1.html\"    \n",
        "[29] \"http://www.stat.berkeley.edu/classes/s133/Random2a.html\"   \n",
        "[30] \"http://www.stat.berkeley.edu/classes/s133/Gui-a.html\"      \n",
        "[31] \"http://www.stat.berkeley.edu/classes/s133/Gui2a.html\"      \n",
        "[32] \"http://www.stat.berkeley.edu/classes/s133/Cgi0a.html\"      \n",
        "[33] \"http://www.stat.berkeley.edu/classes/s133/Cgi1a.html\"      \n",
        "[34] \"http://www.stat.berkeley.edu/classes/s133/Smooth-a.html\"   \n",
        "[35] \"http://www.stat.berkeley.edu/classes/s133/Smooth1a.html\"   \n",
        "[36] \"http://www.stat.berkeley.edu/classes/s133/Lr-a.html\"       \n",
        "[37] \"http://www.stat.berkeley.edu/classes/s133/Aov0a.html\"      \n",
        "[38] \"http://www.stat.berkeley.edu/classes/s133/Aov1a.html\"      \n",
        "[39] \"http://www.stat.berkeley.edu/classes/s133/Aov2a.html\"      \n"
       ]
      }
     ],
     "prompt_number": "*"
    },
    {
     "cell_type": "code",
     "collapsed": false,
     "input": [
      "%%R\n",
      "\n",
      "x = readLines('http://www.imdb.com/chart')\n",
      "\n",
      "pattern = ' *<a href=\\\\\"/title[^>]*>(.*)</a>.*$|.*(\\\\$.*M).*'\n",
      "datalines = grep(pattern, x[2100:2240], value=TRUE)\n",
      "print(datalines)\n"
     ],
     "language": "python",
     "metadata": {},
     "outputs": [
      {
       "metadata": {},
       "output_type": "display_data",
       "text": [
        " [1] \"                    <a href=\\\"/title/tt2203939?ref_=cht_bo_1\\\" title=\\\"Nick Cassavetes (dir.), Cameron Diaz, Leslie Mann\\\" >The Other Woman</a> \"                       \n",
        " [2] \"                <td class=\\\"ratingColumn\\\">$24.8M</td>\"                                                                                                                 \n",
        " [3] \"                <td class=\\\"ratingColumn\\\"><span class=\\\"secondaryInfo\\\">$24.8M</span></td>\"                                                                            \n",
        " [4] \"                    <a href=\\\"/title/tt1843866?ref_=cht_bo_2\\\" title=\\\"Anthony Russo (dir.), Chris Evans, Samuel L. Jackson\\\" >Captain America: The Winter Soldier</a> \"\n",
        " [5] \"                <td class=\\\"ratingColumn\\\">$16.2M</td>\"                                                                                                                 \n",
        " [6] \"                <td class=\\\"ratingColumn\\\"><span class=\\\"secondaryInfo\\\">$225.1M</span></td>\"                                                                           \n",
        " [7] \"                    <a href=\\\"/title/tt1929263?ref_=cht_bo_3\\\" title=\\\"Randall Wallace (dir.), Greg Kinnear, Kelly Reilly\\\" >Heaven Is for Real</a> \"                   \n",
        " [8] \"                <td class=\\\"ratingColumn\\\">$14.4M</td>\"                                                                                                                 \n",
        " [9] \"                <td class=\\\"ratingColumn\\\"><span class=\\\"secondaryInfo\\\">$52.5M</span></td>\"                                                                            \n",
        "[10] \"                    <a href=\\\"/title/tt2357291?ref_=cht_bo_4\\\" title=\\\"Carlos Saldanha (dir.), Jesse Eisenberg, Anne Hathaway\\\" >Rio 2</a> \"                            \n",
        "[11] \"                <td class=\\\"ratingColumn\\\">$13.9M</td>\"                                                                                                                 \n",
        "[12] \"                <td class=\\\"ratingColumn\\\"><span class=\\\"secondaryInfo\\\">$96.4M</span></td>\"                                                                            \n",
        "[13] \"                    <a href=\\\"/title/tt1430612?ref_=cht_bo_5\\\" title=\\\"Camille Delamarre (dir.), Paul Walker, David Belle\\\" >Brick Mansions</a> \"                       \n",
        "[14] \"                <td class=\\\"ratingColumn\\\">$9.5M</td>\"                                                                                                                  \n",
        "[15] \"                <td class=\\\"ratingColumn\\\"><span class=\\\"secondaryInfo\\\">$9.5M</span></td>\"                                                                             \n",
        "[16] \"                    <a href=\\\"/title/tt2209764?ref_=cht_bo_6\\\" title=\\\"Wally Pfister (dir.), Johnny Depp, Rebecca Hall\\\" >Transcendence</a> \"                           \n",
        "[17] \"                <td class=\\\"ratingColumn\\\">$4.3M</td>\"                                                                                                                  \n",
        "[18] \"                <td class=\\\"ratingColumn\\\"><span class=\\\"secondaryInfo\\\">$18.6M</span></td>\"                                                                            \n",
        "[19] \"                    <a href=\\\"/title/tt2235779?ref_=cht_bo_7\\\" title=\\\"John Pogue (dir.), Jared Harris, Sam Claflin\\\" >The Quiet Ones</a> \"                             \n",
        "[20] \"                <td class=\\\"ratingColumn\\\">$3.9M</td>\"                                                                                                                  \n",
        "[21] \"                <td class=\\\"ratingColumn\\\"><span class=\\\"secondaryInfo\\\">$3.9M</span></td>\"                                                                             \n",
        "[22] \"                    <a href=\\\"/title/tt2458776?ref_=cht_bo_8\\\" title=\\\"Alastair Fothergill (dir.), John C. Reilly\\\" >Bears</a> \"                                        \n",
        "[23] \"                <td class=\\\"ratingColumn\\\">$3.7M</td>\"                                                                                                                  \n",
        "[24] \"                <td class=\\\"ratingColumn\\\"><span class=\\\"secondaryInfo\\\">$11.3M</span></td>\"                                                                            \n",
        "[25] \"                    <a href=\\\"/title/tt1840309?ref_=cht_bo_9\\\" title=\\\"Neil Burger (dir.), Shailene Woodley, Theo James\\\" >Divergent</a> \"                              \n",
        "[26] \"                <td class=\\\"ratingColumn\\\">$3.7M</td>\"                                                                                                                  \n",
        "[27] \"                <td class=\\\"ratingColumn\\\"><span class=\\\"secondaryInfo\\\">$139.5M</span></td>\"                                                                           \n",
        "[28] \"                    <a href=\\\"/title/tt2828996?ref_=cht_bo_10\\\" title=\\\"Michael Tiddes (dir.), Marlon Wayans, Jaime Pressly\\\" >A Haunted House 2</a> \"                  \n",
        "[29] \"                <td class=\\\"ratingColumn\\\">$3.2M</td>\"                                                                                                                  \n",
        "[30] \"                <td class=\\\"ratingColumn\\\"><span class=\\\"secondaryInfo\\\">$14.2M</span></td>\"                                                                            \n"
       ]
      }
     ],
     "prompt_number": 30
    },
    {
     "cell_type": "code",
     "collapsed": false,
     "input": [
      "%%R\n",
      "\n",
      "datalines = sub(pattern, '\\\\1 \\\\2', datalines)\n",
      "datalines = sub('^ *', '', datalines)\n",
      "\n",
      "print(datalines)"
     ],
     "language": "python",
     "metadata": {},
     "outputs": [
      {
       "metadata": {},
       "output_type": "display_data",
       "text": [
        " [1] \"The Other Woman\"                     \"$24.8M\"                             \n",
        " [3] \"$24.8M\"                              \"Captain America: The Winter Soldier\"\n",
        " [5] \"$16.2M\"                              \"$225.1M\"                            \n",
        " [7] \"Heaven Is for Real\"                  \"$14.4M\"                             \n",
        " [9] \"$52.5M\"                              \"Rio 2\"                              \n",
        "[11] \"$13.9M\"                              \"$96.4M\"                             \n",
        "[13] \"Brick Mansions\"                      \"$9.5M\"                              \n",
        "[15] \"$9.5M\"                               \"Transcendence\"                      \n",
        "[17] \"$4.3M\"                               \"$18.6M\"                             \n",
        "[19] \"The Quiet Ones\"                      \"$3.9M\"                              \n",
        "[21] \"$3.9M\"                               \"Bears\"                              \n",
        "[23] \"$3.7M\"                               \"$11.3M\"                             \n",
        "[25] \"Divergent\"                           \"$3.7M\"                              \n",
        "[27] \"$139.5M\"                             \"A Haunted House 2\"                  \n",
        "[29] \"$3.2M\"                               \"$14.2M\"                             \n"
       ]
      }
     ],
     "prompt_number": 35
    },
    {
     "cell_type": "code",
     "collapsed": false,
     "input": [
      "%%R\n",
      "\n",
      "movies = data.frame(matrix(datalines, ncol=3, byrow=TRUE))\n",
      "names(movies) = c('Title', 'Weekend', 'Gross')\n",
      "print(movies)"
     ],
     "language": "python",
     "metadata": {},
     "outputs": [
      {
       "metadata": {},
       "output_type": "display_data",
       "text": [
        "                                 Title Weekend   Gross\n",
        "1                      The Other Woman  $24.8M  $24.8M\n",
        "2  Captain America: The Winter Soldier  $16.2M $225.1M\n",
        "3                   Heaven Is for Real  $14.4M  $52.5M\n",
        "4                                Rio 2  $13.9M  $96.4M\n",
        "5                       Brick Mansions   $9.5M   $9.5M\n",
        "6                        Transcendence   $4.3M  $18.6M\n",
        "7                       The Quiet Ones   $3.9M   $3.9M\n",
        "8                                Bears   $3.7M  $11.3M\n",
        "9                            Divergent   $3.7M $139.5M\n",
        "10                   A Haunted House 2   $3.2M  $14.2M\n"
       ]
      }
     ],
     "prompt_number": 37
    },
    {
     "cell_type": "code",
     "collapsed": false,
     "input": [
      "%%R\n",
      "\n",
      "download.file('http://finance.yahoo.com/q?s=aapl&x=0&y=0', 'quote.html')\n",
      "x = readLines('quote.html')\n"
     ],
     "language": "python",
     "metadata": {},
     "outputs": [
      {
       "metadata": {},
       "output_type": "display_data",
       "text": [
        "trying URL 'http://finance.yahoo.com/q?s=aapl&x=0&y=0'\n",
        "Content type 'text/html; charset=utf-8' length unknown\n",
        "opened URL\n",
        ".......... .......... .......... .......... ..........\n",
        ".......... .......... .....\n",
        "downloaded 75 Kb\n",
        "\n"
       ]
      }
     ],
     "prompt_number": 38
    },
    {
     "cell_type": "code",
     "collapsed": false,
     "input": [
      "%%R\n",
      "\n",
      "print(grep('Prev Close', x))\n",
      "print(nchar(x[180]))\n",
      "print(gregexpr('Prev Close', x[180]))\n",
      "print(substring(x[180], 456, 600))"
     ],
     "language": "python",
     "metadata": {},
     "outputs": [
      {
       "metadata": {},
       "output_type": "display_data",
       "text": [
        "[1] \"integer\"\n",
        "[1] 8370\n",
        "[[1]]\n",
        "[1] 456\n",
        "attr(,\"match.length\")\n",
        "[1] 10\n",
        "\n",
        "[1] \"Prev Close:</th><td class=\\\"yfnc_tabledata1\\\">590.09</td></tr><tr><th scope=\\\"row\\\" width=\\\"48%\\\">Open:</th><td class=\\\"yfnc_tabledata1\\\">592.00</td></tr\"\n"
       ]
      }
     ],
     "prompt_number": 58
    },
    {
     "cell_type": "code",
     "collapsed": false,
     "input": [
      "%%R\n",
      "\n",
      "pattern = '^.*Prev Close:</th><td class=\\\\\"[^>]*>(.*)</td></tr>.*Open:.*'\n",
      "\n",
      "print(gsub(pattern, '\\\\1', x[180]))"
     ],
     "language": "python",
     "metadata": {},
     "outputs": [
      {
       "metadata": {},
       "output_type": "display_data",
       "text": [
        "[1] \"590.09\"\n"
       ]
      }
     ],
     "prompt_number": 57
    },
    {
     "cell_type": "code",
     "collapsed": false,
     "input": [
      "%%R\n",
      "\n",
      "getquote = function(sym){\n",
      "                         info = readLines(paste('http://finance.yahoo.com/q?s=', sym, '&x=0&y=0', sep=''))\n",
      "                         line = grep('Prev Close', info)\n",
      "                         pattern = '^.*Prev Close:</th><td class=\\\\\"[^>]*>(.*)</td></tr>.*Open:.*'\n",
      "                         return(gsub(pattern, '\\\\1', info[line]))}\n",
      "\n",
      "print(getquote('aapl'))\n",
      "print(getquote('ibm'))\n",
      "print(getquote('nok'))"
     ],
     "language": "python",
     "metadata": {},
     "outputs": [
      {
       "metadata": {},
       "output_type": "display_data",
       "text": [
        "[1] \"590.09\"\n",
        "[1] \"196.47\"\n",
        "[1] \"7.50\"\n"
       ]
      }
     ],
     "prompt_number": 61
    },
    {
     "cell_type": "code",
     "collapsed": false,
     "input": [
      "%%R\n",
      "\n",
      "gethistory = function(sym){\n",
      "                           history = read.csv(paste('http://ichart.finance.yahoo.com/table.csv?s=', sym, sep=''), stringsAsFactors=FALSE)\n",
      "                           history$Date = as.Date(history$Date)\n",
      "                           return(history)\n",
      "                          }"
     ],
     "language": "python",
     "metadata": {},
     "outputs": [],
     "prompt_number": 64
    },
    {
     "cell_type": "code",
     "collapsed": false,
     "input": [
      "%%R\n",
      "\n",
      "aapl = gethistory('aapl')\n",
      "\n",
      "print(head(aapl))"
     ],
     "language": "python",
     "metadata": {},
     "outputs": [
      {
       "metadata": {},
       "output_type": "display_data",
       "text": [
        "        Date   Open   High    Low  Close   Volume Adj.Close\n",
        "1 2014-05-01 592.00 594.80 586.36 591.48  8716000    591.48\n",
        "2 2014-04-30 592.64 599.43 589.80 590.09 16308600    590.09\n",
        "3 2014-04-29 593.74 595.98 589.51 592.33 12049200    592.33\n",
        "4 2014-04-28 572.80 595.75 572.55 594.09 23910200    594.09\n",
        "5 2014-04-25 564.53 571.99 563.96 571.94 13938400    571.94\n",
        "6 2014-04-24 568.21 570.00 560.73 567.77 27139700    567.77\n"
       ]
      }
     ],
     "prompt_number": 71
    },
    {
     "cell_type": "code",
     "collapsed": false,
     "input": [
      "%%R\n",
      "\n",
      "plot(aapl$Date, aapl$Close, main='Closing price for AAPL', type='l')"
     ],
     "language": "python",
     "metadata": {},
     "outputs": [
      {
       "metadata": {},
       "output_type": "display_data",
       "png": "[encoded data removed]"
      }
     ],
     "prompt_number": 76
    },
    {
     "cell_type": "markdown",
     "metadata": {},
     "source": [
      "**R Plot function**\n",
      "\n",
      "type\n",
      "what type of plot should be drawn. Possible types are\n",
      "\n",
      "\"p\" for points,\n",
      "\n",
      "\"l\" for lines,\n",
      "\n",
      "\"b\" for both,\n",
      "\n",
      "\"c\" for the lines part alone of \"b\",\n",
      "\n",
      "\"o\" for both \u2018overplotted\u2019,\n",
      "\n",
      "\"h\" for \u2018histogram\u2019 like (or \u2018high-density\u2019) vertical lines,\n",
      "\n",
      "\"s\" for stair steps,\n",
      "\n",
      "\"S\" for other steps, see \u2018Details\u2019 below,\n",
      "\n",
      "\"n\" for no plotting."
     ]
    },
    {
     "cell_type": "code",
     "collapsed": false,
     "input": [],
     "language": "python",
     "metadata": {},
     "outputs": []
    }
   ],
   "metadata": {}
  }
 ]
}