{
 "metadata": {
  "name": ""
 },
 "nbformat": 3,
 "nbformat_minor": 0,
 "worksheets": [
  {
   "cells": [
    {
     "cell_type": "code",
     "collapsed": false,
     "input": [
      "%load_ext rmagic"
     ],
     "language": "python",
     "metadata": {},
     "outputs": [],
     "prompt_number": 1
    },
    {
     "cell_type": "code",
     "collapsed": false,
     "input": [
      "%%R\n",
      "\n",
      "# 1\n",
      "\n",
      "# a\n",
      "\n",
      "x = 1:20\n",
      "print(x)\n",
      "\n",
      "# b \n",
      "\n",
      "y = rev(x) # or y=20:1\n",
      "print(y)\n",
      "\n",
      "# c\n",
      "\n",
      "z = c(x, 19:1)\n",
      "print(z)\n",
      "\n",
      "# d\n",
      "\n",
      "tmp = c(4, 6, 3)\n",
      "print(tmp)\n",
      "\n",
      "# e\n",
      "\n",
      "ans = rep(tmp, 10)\n",
      "print(ans)\n",
      "\n",
      "# f\n",
      "\n",
      "ans = rep(tmp, length=31)\n",
      "print(ans)\n",
      "\n",
      "# g\n",
      "\n",
      "ans = rep(c(4, 6, 3), times=c(10, 20, 30))\n",
      "print(ans)"
     ],
     "language": "python",
     "metadata": {},
     "outputs": [
      {
       "metadata": {},
       "output_type": "display_data",
       "text": [
        " [1]  1  2  3  4  5  6  7  8  9 10 11 12 13 14 15 16 17 18 19 20\n",
        " [1] 20 19 18 17 16 15 14 13 12 11 10  9  8  7  6  5  4  3  2  1\n",
        " [1]  1  2  3  4  5  6  7  8  9 10 11 12 13 14 15 16 17 18 19 20 19 18 17 16 15\n",
        "[26] 14 13 12 11 10  9  8  7  6  5  4  3  2  1\n",
        "[1] 4 6 3\n",
        " [1] 4 6 3 4 6 3 4 6 3 4 6 3 4 6 3 4 6 3 4 6 3 4 6 3 4 6 3 4 6 3\n",
        " [1] 4 6 3 4 6 3 4 6 3 4 6 3 4 6 3 4 6 3 4 6 3 4 6 3 4 6 3 4 6 3 4\n",
        " [1] 4 4 4 4 4 4 4 4 4 4 6 6 6 6 6 6 6 6 6 6 6 6 6 6 6 6 6 6 6 6 3 3 3 3 3 3 3 3\n",
        "[39] 3 3 3 3 3 3 3 3 3 3 3 3 3 3 3 3 3 3 3 3 3 3\n"
       ]
      }
     ],
     "prompt_number": 10
    },
    {
     "cell_type": "code",
     "collapsed": false,
     "input": [
      "%%R\n",
      "\n",
      "# 2\n",
      "\n",
      "x = seq(3, 6, by=0.1)\n",
      "\n",
      "ans = exp(x) * cos(x)\n",
      "print(ans)\n"
     ],
     "language": "python",
     "metadata": {},
     "outputs": [
      {
       "metadata": {},
       "output_type": "display_data",
       "text": [
        " [1] -19.884531 -22.178753 -24.490697 -26.773182 -28.969238 -31.011186\n",
        " [7] -32.819775 -34.303360 -35.357194 -35.862834 -35.687732 -34.685042\n",
        "[13] -32.693695 -29.538816 -25.032529 -18.975233 -11.157417  -1.362099\n",
        "[19]  10.632038  25.046705  42.099201  61.996630  84.929067 111.061586\n",
        "[25] 140.525075 173.405776 209.733494 249.468441 292.486707 338.564378\n",
        "[31] 387.360340\n"
       ]
      }
     ],
     "prompt_number": 13
    },
    {
     "cell_type": "code",
     "collapsed": false,
     "input": [
      "%%R\n",
      "\n",
      "# 3\n",
      "\n",
      "# a\n",
      "\n",
      "x = seq(3, 36, by=3)\n",
      "y = seq(1, 34, by=3)\n",
      "\n",
      "ans = (0.1^x)*(0.2^y)\n",
      "print(ans)\n",
      "\n",
      "# b\n",
      "\n",
      "n = 1:25\n",
      "\n",
      "ans = (2^n)/n\n",
      "print(ans)"
     ],
     "language": "python",
     "metadata": {},
     "outputs": [
      {
       "metadata": {},
       "output_type": "display_data",
       "text": [
        " [1] 2.000000e-04 1.600000e-09 1.280000e-14 1.024000e-19 8.192000e-25\n",
        " [6] 6.553600e-30 5.242880e-35 4.194304e-40 3.355443e-45 2.684355e-50\n",
        "[11] 2.147484e-55 1.717987e-60\n",
        " [1] 2.000000e+00 2.000000e+00 2.666667e+00 4.000000e+00 6.400000e+00\n",
        " [6] 1.066667e+01 1.828571e+01 3.200000e+01 5.688889e+01 1.024000e+02\n",
        "[11] 1.861818e+02 3.413333e+02 6.301538e+02 1.170286e+03 2.184533e+03\n",
        "[16] 4.096000e+03 7.710118e+03 1.456356e+04 2.759411e+04 5.242880e+04\n",
        "[21] 9.986438e+04 1.906502e+05 3.647221e+05 6.990507e+05 1.342177e+06\n"
       ]
      }
     ],
     "prompt_number": 16
    },
    {
     "cell_type": "code",
     "collapsed": false,
     "input": [
      "%%R\n",
      "\n",
      "# 4 \n",
      "\n",
      "# a\n",
      "\n",
      "i = 10:100\n",
      "ans = sum( (i^3) + (4*(i^2)) )\n",
      "\n",
      "print(ans)\n",
      "\n",
      "# b \n",
      "\n",
      "i = 1:25\n",
      "ans = sum( ((2^i)/i) + ((3^i)/(i^2)) )\n",
      "\n",
      "print(ans)"
     ],
     "language": "python",
     "metadata": {},
     "outputs": [
      {
       "metadata": {},
       "output_type": "display_data",
       "text": [
        "[1] 26852735\n",
        "[1] 2129170437\n"
       ]
      }
     ],
     "prompt_number": 18
    },
    {
     "cell_type": "code",
     "collapsed": false,
     "input": [
      "%%R\n",
      "\n",
      "# 5\n",
      "\n",
      "# a\n",
      "\n",
      "ans = paste('label', 1:30, sep=' ')\n",
      "print(ans)\n",
      "\n",
      "# b \n",
      "\n",
      "ans = paste('fn', 1:30, sep='')\n",
      "print(ans)"
     ],
     "language": "python",
     "metadata": {},
     "outputs": [
      {
       "metadata": {},
       "output_type": "display_data",
       "text": [
        " [1] \"label 1\"  \"label 2\"  \"label 3\"  \"label 4\"  \"label 5\"  \"label 6\" \n",
        " [7] \"label 7\"  \"label 8\"  \"label 9\"  \"label 10\" \"label 11\" \"label 12\"\n",
        "[13] \"label 13\" \"label 14\" \"label 15\" \"label 16\" \"label 17\" \"label 18\"\n",
        "[19] \"label 19\" \"label 20\" \"label 21\" \"label 22\" \"label 23\" \"label 24\"\n",
        "[25] \"label 25\" \"label 26\" \"label 27\" \"label 28\" \"label 29\" \"label 30\"\n",
        " [1] \"fn1\"  \"fn2\"  \"fn3\"  \"fn4\"  \"fn5\"  \"fn6\"  \"fn7\"  \"fn8\"  \"fn9\"  \"fn10\"\n",
        "[11] \"fn11\" \"fn12\" \"fn13\" \"fn14\" \"fn15\" \"fn16\" \"fn17\" \"fn18\" \"fn19\" \"fn20\"\n",
        "[21] \"fn21\" \"fn22\" \"fn23\" \"fn24\" \"fn25\" \"fn26\" \"fn27\" \"fn28\" \"fn29\" \"fn30\"\n"
       ]
      }
     ],
     "prompt_number": 24
    },
    {
     "cell_type": "code",
     "collapsed": false,
     "input": [
      "%%R\n",
      "\n",
      "# 6\n",
      "\n",
      "xVec = sample(0:999, size=250, replace=TRUE)\n",
      "yVec = sample(0:999, size=250, replace=TRUE)\n",
      "\n",
      "# a\n",
      "\n",
      "n = 250\n",
      "ans = yVec[2:n] - xVec[1:(n-1)]\n",
      "# print(ans)\n",
      "\n",
      "# b \n",
      "\n",
      "numer = sin(yVec[1:(n-1)])\n",
      "denom = cos(xVec[2:n])\n",
      "ans = numer/denom\n",
      "# print(ans)\n",
      "\n",
      "# c\n",
      "\n",
      "x1 = xVec[1:(n-2)]\n",
      "x2 = xVec[2:(n-1)]\n",
      "x3 = xVec[3:n]\n",
      "\n",
      "ans = x1 + (2*x2) + x3\n",
      "# print(ans)\n",
      "\n",
      "# d\n",
      "\n",
      "ans = sum(exp(-xVec[2:n])/(xVec[1:(n-1)] + 10))\n",
      "print(ans)"
     ],
     "language": "python",
     "metadata": {},
     "outputs": [
      {
       "metadata": {},
       "output_type": "display_data",
       "text": [
        "[1] 0.0001660231\n"
       ]
      }
     ],
     "prompt_number": 35
    },
    {
     "cell_type": "code",
     "collapsed": false,
     "input": [
      "%%R\n",
      "\n",
      "# 7 \n",
      "\n",
      "# a\n",
      "\n",
      "greater_600 = yVec[yVec > 600]\n",
      "# print(greater_600)\n",
      "\n",
      "# b\n",
      "\n",
      "index_600 = which(yVec > 600)\n",
      "# print(index_600)\n",
      "\n",
      "# c\n",
      "\n",
      "# print(xVec[index_600])\n",
      "\n",
      "# d\n",
      "\n",
      "avg = mean(xVec)\n",
      "abs_square = (abs(xVec-avg))^(0.5)\n",
      "# print(abs_square)\n",
      "\n",
      "# e\n",
      "\n",
      "amount = sum((max(yVec) - yVec) < 200) \n",
      "\n",
      "#print(amount)\n",
      "\n",
      "# f\n",
      " \n",
      "divisible_by_two = sum((xVec %% 2) == 0)\n",
      "# print(divisible_by_two)\n",
      "\n",
      "# g\n",
      "\n",
      "ordered_x = xVec[order(yVec)]\n",
      "# print(ordered_x)\n",
      "\n",
      "# h\n",
      "\n",
      "by_three = seq(1, 250, by=3)\n",
      "y_three = yVec[by_three]\n",
      "print(y_three)\n",
      "\n",
      "# or yVec[c(T, F, F)]\n"
     ],
     "language": "python",
     "metadata": {},
     "outputs": [
      {
       "metadata": {},
       "output_type": "display_data",
       "text": [
        " [1] 379 269 229 307 394 490 634 313 693 575 676  80  63 518  56 234 369 250 339\n",
        "[20]  30 135 280 502 646 867 470 767  69 959 555 892 228 104 518 868 861 165 589\n",
        "[39] 497 538  88 595 626  83 253 919  58 840  61 419  59 340 449 301  65 455 258\n",
        "[58] 325  81 365  87 290 673 306 887 272 326  47 360 915 810  38 765 280 977  87\n",
        "[77] 263 611 950 174 640 359 668  62\n",
        " [1] 379 269 229 307 394 490 634 313 693 575 676  80  63 518  56 234 369 250 339\n",
        "[20]  30 135 280 502 646 867 470 767  69 959 555 892 228 104 518 868 861 165 589\n",
        "[39] 497 538  88 595 626  83 253 919  58 840  61 419  59 340 449 301  65 455 258\n",
        "[58] 325  81 365  87 290 673 306 887 272 326  47 360 915 810  38 765 280 977  87\n",
        "[77] 263 611 950 174 640 359 668  62\n"
       ]
      }
     ],
     "prompt_number": 53
    },
    {
     "cell_type": "code",
     "collapsed": false,
     "input": [
      "%%R\n",
      "\n",
      "# 8 \n",
      "\n",
      "numer = seq(2, 38, by=2)\n",
      "denom = seq(3, 39, by=2)\n",
      "\n",
      "seq = cumprod(numer/denom)\n",
      "ans = 1 + sum(seq)\n",
      "\n",
      "print(ans)\n"
     ],
     "language": "python",
     "metadata": {},
     "outputs": [
      {
       "metadata": {},
       "output_type": "display_data",
       "text": [
        "[1] 6.976346\n"
       ]
      }
     ],
     "prompt_number": 56
    },
    {
     "cell_type": "code",
     "collapsed": false,
     "input": [],
     "language": "python",
     "metadata": {},
     "outputs": []
    }
   ],
   "metadata": {}
  }
 ]
}