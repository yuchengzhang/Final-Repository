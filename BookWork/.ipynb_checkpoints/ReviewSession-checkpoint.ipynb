{
 "metadata": {
  "name": ""
 },
 "nbformat": 3,
 "nbformat_minor": 0,
 "worksheets": [
  {
   "cells": [
    {
     "cell_type": "heading",
     "level": 1,
     "metadata": {
      "slideshow": {
       "slide_type": "slide"
      }
     },
     "source": [
      "Review Final - Vectors, Lists, Functions, and Classes in R"
     ]
    },
    {
     "cell_type": "code",
     "collapsed": false,
     "input": [
      "%load_ext rmagic\n",
      "%R rm()"
     ],
     "language": "python",
     "metadata": {
      "slideshow": {
       "slide_type": "fragment"
      }
     },
     "outputs": [],
     "prompt_number": 1
    },
    {
     "cell_type": "code",
     "collapsed": false,
     "input": [
      "%%R\n",
      "\n",
      "NL = function() cat('\\n\\n')"
     ],
     "language": "python",
     "metadata": {
      "slideshow": {
       "slide_type": "skip"
      }
     },
     "outputs": [],
     "prompt_number": 2
    },
    {
     "cell_type": "markdown",
     "metadata": {
      "slideshow": {
       "slide_type": "fragment"
      }
     },
     "source": [
      "**Review Session Topics:**\n",
      "\n",
      "In this review section, we will focus on some of the key features of the R language: Vectorized computation, arrays, lists, and classes:\n",
      "\n",
      "\n",
      "* **Vectorized programming in R**: vectors and functions\n",
      "\n",
      "\n",
      "* **Object-oriented programming in R**: lists and classes\n",
      "\n",
      "\n"
     ]
    },
    {
     "cell_type": "markdown",
     "metadata": {
      "slideshow": {
       "slide_type": "slide"
      }
     },
     "source": [
      "R is an [array programming language](http://en.wikipedia.org/wiki/Array_programming) (or vectorized language) which means that its **basic data types** (i.e. numbers, Booleans, and strings) come in the form of **vectors**, which are **homogeneous containers** (or collections) of numbers, strings, or Boolean. This vectorized basic types are particular suited for data analysis, since they are used to store values of **statistical variables** from a **population samble**. A vectors in R corresponds thus to the information stored in  **a data table column**. "
     ]
    },
    {
     "cell_type": "markdown",
     "metadata": {
      "slideshow": {
       "slide_type": "fragment"
      }
     },
     "source": [
      "Parallely, R has a single **basic data structure**, called <code>list</code>, whihc is a **heterogenous container**. List can store collection of element with different types, and can be thought of as representing the information stored in a **data table row**. \n",
      "\n",
      "Both vectors and lists are **labelled containers**, which means that their elements can be assigned **labels** or **names**. In terms of statistics, vector labels can be regarded as the **population indivudual names** in a data sample, while list labels can be thought of as the **variable names** in a data table (i.e. the **header labels**)."
     ]
    },
    {
     "cell_type": "markdown",
     "metadata": {
      "slideshow": {
       "slide_type": "fragment"
      }
     },
     "source": [
      "Programming with R would have a similar feels, as programming in Python if one is only allowed to use **dictionaries** and **Numpy arrays**. \n",
      "\n",
      "There are two ways of programming with **classes and objects** in R. The less used one (**S4 classes**) ressembles much the object-oriented framework in Python, but we didn't see it in class. The most popular one object-oriented framework in R (**S3 classes**) is very diffent from Python. It is more a set of programming convention to deal with classes and objects, than a strongly enforced OO framework provided by the language. S3 programming is quick and dirty, as one says in programming, and instanciating classes with wrong attributes is very easy...\n",
      "\n",
      "Basically, **basic data types (vectors) and basic data structures (lists) can be promoted to classes by setting an the hidden attribute \"class\"** to a custom name: the name of the class to which we are promoting the given vector or list to. \n",
      "\n",
      "Class attributes are stored as named elements of the underlying list, using the **dollar sign operator** <code>X$attributeName</code>, corresponding to the **period operator** in Python: <code>X.attributeName</code>.\n",
      "\n",
      "Methods are then normal functions that check the class name and act accordingly. It would be totally possible to program with classes in objects in the R S3 style in Python by using dictionaries, in which we reserve a certain key value pair for holding the class name. \n",
      "\n",
      "Data frame are S3 classes used to represent data tables. They come up with a variety of methods to transform, analyse, and visualyse the data contained in the data frame. "
     ]
    },
    {
     "cell_type": "heading",
     "level": 2,
     "metadata": {
      "slideshow": {
       "slide_type": "slide"
      }
     },
     "source": [
      "Vectorized programming in R: vectors and functions"
     ]
    },
    {
     "cell_type": "markdown",
     "metadata": {
      "slideshow": {
       "slide_type": "fragment"
      }
     },
     "source": [
      "**Ressources:** Phil Spector Stat 133 lecture notes\n",
      "\n",
      "* [Vectors and Matrices](http://www.stat.berkeley.edu/users/spector/s133/R-2a.html)\n",
      "* [Functions](http://www.stat.berkeley.edu/users/spector/s133/R-6a.html)\n"
     ]
    },
    {
     "cell_type": "markdown",
     "metadata": {
      "slideshow": {
       "slide_type": "slide"
      }
     },
     "source": [
      "Basic types in R are **vectors**. R does not have **scalar** types as in Python: a single string or a single number is always understood by R as a character or numeric vector **with one element**.\n",
      "\n",
      "The elements of a vector are all of the same **mode** or **type**, which are queried using the functions <code>mode(x)</code> and <code>typeof(x)</code> (the latter function having a \"finer grain\" than the former, since it distinguishes between <code>integer</code> and <code>double</code>. Here are the different types in R:\n",
      "\n",
      "* **numeric vectors:** elements are *numbers*\n",
      "    * <code>mode(x)</code> $\\longrightarrow$ <code>numeric</code> \n",
      "    * <code>typeof(x)</code> $\\longrightarrow$ <code>integer</code> or <code>double</code>\n",
      "\n",
      "\n",
      "\n",
      "* **character vectors:** elements are *strings*\n",
      "    * <code>mode(x), typeof(x)</code> $\\longrightarrow$ <code>character</code> \n",
      "\n",
      "\n",
      "* **logical vectors:** elements are *Booleans*, i.e., either <code>TRUE</code> (short: <code>T</code>) or <code>FALSE</code> (short: <code>F</code>)\n",
      "\n",
      "    * <code>mode(x), typeof(x)</code> $\\longrightarrow$ <code>logical</code> \n"
     ]
    },
    {
     "cell_type": "heading",
     "level": 3,
     "metadata": {},
     "source": [
      "Convertion between types"
     ]
    },
    {
     "cell_type": "markdown",
     "metadata": {
      "slideshow": {
       "slide_type": "slide"
      }
     },
     "source": [
      "Convertions between basic types are possible using the **convertion function family**\n",
      "\n",
      "    as.logical(x)\n",
      "    as.integer(x)\n",
      "    as.double(x)\n",
      "    as.numeric(x)\n",
      "    as.character(x)\n",
      "    \n",
      "However, not all convertions are possible without loss of information (i.e. one can not or loose information by converting back to the original type). Here is the convertion chain with **no information loss** or errors:\n",
      "\n",
      "<code>logical</code>$\\longrightarrow$<code>integer</code>$\\longrightarrow$<code>double</code>\n",
      "$\\longrightarrow$<code>character</code>\n",
      "\n",
      "**Forcing conversion by going in the opposite arrow direction may result in an error or in a loss of information:**\n",
      "\n",
      "* <code>integer</code> $\\longrightarrow$ <code>logical</code> will only keep the information of whether the integer is zero or non-zero (see below)\n",
      "\n",
      "\n",
      "* <code>double</code> $\\longrightarrow$ <code>integer</code> results in the **decimal part is being lost**\n",
      "\n",
      "\n",
      "\n",
      "* <code>character</code> $\\longrightarrow$ <code>double</code> returns **missing value** <code>NA</code> provided the string is not a string resulting from the conversion of the lower types to <code>character</code> types (e.g. \"34.5\" or \"0\")\n",
      "\n",
      "**Conversion involving Booleans are a bit special:** \n",
      "\n",
      "* <code>T</code> $\\longleftrightarrow$ 1 and <code>F</code> $\\longleftrightarrow$ 0\n",
      "\n",
      "\n",
      "* <code>T</code> $\\longleftrightarrow$ \"1\" and <code>F</code> $\\longleftrightarrow$ \"0\"\n",
      "\n",
      "\n",
      "* <code>T</code> $\\longleftrightarrow$ \"TRUE\" and <code>F</code> $\\longleftrightarrow$ \"FALSE\"\n",
      "\n",
      "\n",
      "* <code>T</code> $\\longleftrightarrow$ \"true\" and <code>F</code> $\\longleftrightarrow$ \"false\"\n",
      "\n",
      "\n",
      "* non-zero number $\\longleftrightarrow$ <code>T</code>\n",
      "\n",
      "\n",
      "\n",
      "**Remark:** These convertions are important when creating data frame for text files in order to understand which **mode** will be assigned to the data frame columns."
     ]
    },
    {
     "cell_type": "code",
     "collapsed": false,
     "input": [
      "%%R\n",
      "\n",
      "a = c(T, F, T, F, F)\n",
      "\n",
      "char = as.character(a)\n",
      "numb = as.integer(a)\n",
      "\n",
      "print(char)\n",
      "print(numb)"
     ],
     "language": "python",
     "metadata": {
      "slideshow": {
       "slide_type": "fragment"
      }
     },
     "outputs": [
      {
       "metadata": {},
       "output_type": "display_data",
       "text": [
        "[1] \"TRUE\"  \"FALSE\" \"TRUE\"  \"FALSE\" \"FALSE\"\n",
        "[1] 1 0 1 0 0\n"
       ]
      }
     ],
     "prompt_number": 150
    },
    {
     "cell_type": "heading",
     "level": 3,
     "metadata": {},
     "source": [
      "Generating vectors"
     ]
    },
    {
     "cell_type": "markdown",
     "metadata": {},
     "source": [
      "There are several way to generate vectors in R. In term of statistics, vectors corresponds to **statitical variables**. Simulating (or generating) variables is an important task in statistics.\n",
      "\n",
      "**Remark:** Do not confuse the term *variable* as used in programming (which is just a **name** used to hold a **value**) and the term  *variable* as used in statistics. Statistical variables correspond to vectors in R. Statistical variables, i.e. vectors, can be stored in R variables. However, R variables can also be used to store lists, data frames, or instances of classes. \n",
      "\n",
      "Here is a list of function very useful to generate vectors (hence: statistical variables)."
     ]
    },
    {
     "cell_type": "markdown",
     "metadata": {},
     "source": [
      "\n",
      "\n",
      "* [The **concatenate** function](http://stat.ethz.ch/R-manual/R-devel/library/base/html/c.html) "
     ]
    },
    {
     "cell_type": "code",
     "collapsed": false,
     "input": [
      "%%R\n",
      "\n",
      "x = c('a', 'b', 'c')\n",
      "print(x)"
     ],
     "language": "python",
     "metadata": {},
     "outputs": [
      {
       "metadata": {},
       "output_type": "display_data",
       "text": [
        "[1] \"a\" \"b\" \"c\"\n"
       ]
      }
     ],
     "prompt_number": 152
    },
    {
     "cell_type": "markdown",
     "metadata": {},
     "source": [
      "* [The **replicate** function](http://stat.ethz.ch/R-manual/R-devel/library/base/html/rep.html) "
     ]
    },
    {
     "cell_type": "code",
     "collapsed": false,
     "input": [
      "%%R\n",
      "x = rep(T, times=30)\n",
      "print(x)\n",
      "x = rep(c(1,2,4), length=5)\n",
      "print(x)\n",
      "\n"
     ],
     "language": "python",
     "metadata": {},
     "outputs": [
      {
       "metadata": {},
       "output_type": "display_data",
       "text": [
        " [1] TRUE TRUE TRUE TRUE TRUE TRUE TRUE TRUE TRUE TRUE TRUE TRUE TRUE TRUE TRUE\n",
        "[16] TRUE TRUE TRUE TRUE TRUE TRUE TRUE TRUE TRUE TRUE TRUE TRUE TRUE TRUE TRUE\n",
        "[1] 1 2 4 1 2\n"
       ]
      }
     ],
     "prompt_number": 154
    },
    {
     "cell_type": "markdown",
     "metadata": {},
     "source": [
      "* [The **sequence generation** function](http://stat.ethz.ch/R-manual/R-devel/library/base/html/seq.html)"
     ]
    },
    {
     "cell_type": "code",
     "collapsed": false,
     "input": [
      "%%R\n",
      "x = seq(1, 100, by=5)\n",
      "print(x)"
     ],
     "language": "python",
     "metadata": {},
     "outputs": [
      {
       "metadata": {},
       "output_type": "display_data",
       "text": [
        " [1]  1  6 11 16 21 26 31 36 41 46 51 56 61 66 71 76 81 86 91 96\n"
       ]
      }
     ],
     "prompt_number": 158
    },
    {
     "cell_type": "markdown",
     "metadata": {},
     "source": [
      "* [The **string concatenate** function](http://stat.ethz.ch/R-manual/R-devel/library/base/html/paste.html) \n",
      "       "
     ]
    },
    {
     "cell_type": "code",
     "collapsed": false,
     "input": [
      "%%R      \n",
      "x = paste(c('X', 'Y', 'Z'), c(1,2,3), sep='')\n",
      "print(x)"
     ],
     "language": "python",
     "metadata": {},
     "outputs": [
      {
       "metadata": {},
       "output_type": "display_data",
       "text": [
        "[1] \"X1\" \"Y2\" \"Z3\"\n"
       ]
      }
     ],
     "prompt_number": 160
    },
    {
     "cell_type": "markdown",
     "metadata": {},
     "source": [
      "* [The **colon operator**](http://stat.ethz.ch/R-manual/R-devel/library/base/html/Colon.html) "
     ]
    },
    {
     "cell_type": "code",
     "collapsed": false,
     "input": [
      "%%R\n",
      "x = 12:49\n",
      "print(x)"
     ],
     "language": "python",
     "metadata": {},
     "outputs": [
      {
       "metadata": {},
       "output_type": "display_data",
       "text": [
        " [1] 12 13 14 15 16 17 18 19 20 21 22 23 24 25 26 27 28 29 30 31 32 33 34 35 36\n",
        "[26] 37 38 39 40 41 42 43 44 45 46 47 48 49\n"
       ]
      }
     ],
     "prompt_number": 161
    },
    {
     "cell_type": "markdown",
     "metadata": {},
     "source": [
      "      \n",
      "* [The **random sample and permutation** function](http://stat.ethz.ch/R-manual/R-devel/library/base/html/sample.html)"
     ]
    },
    {
     "cell_type": "code",
     "collapsed": false,
     "input": [
      "%%R\n",
      "\n",
      "x = sample(100)\n",
      "y = sample(c('Bob', 'Luc', 'Martin'), 100, replace=T, prob=c(0.2, 0.5, 0.3))\n",
      "           \n",
      "print(x)\n",
      "print(y)"
     ],
     "language": "python",
     "metadata": {},
     "outputs": [
      {
       "metadata": {},
       "output_type": "display_data",
       "text": [
        "  [1]  51  53  95  11  43  98  30  45 100   1  87  77  25  27  91  66  68  97\n",
        " [19]  57  21  78  62  96  74  75  39  94  40  29  85  48  26  41  20  64  15\n",
        " [37]   5   8  83  89  90  38  84  22   2  42  49  17  72  86  54   3  14  28\n",
        " [55]  36  71  60   9  76  18  82  19  81  16  70  67  24   4  33  59  99  12\n",
        " [73]  46  23  61  93  52  44  50  63  73  10  47  88  80  65  56  32  35  58\n",
        " [91]   7  37  79  34  92  31  13   6  69  55\n",
        "  [1] \"Luc\"    \"Luc\"    \"Luc\"    \"Luc\"    \"Luc\"    \"Martin\" \"Luc\"    \"Martin\"\n",
        "  [9] \"Luc\"    \"Luc\"    \"Luc\"    \"Luc\"    \"Bob\"    \"Martin\" \"Luc\"    \"Luc\"   \n",
        " [17] \"Luc\"    \"Martin\" \"Bob\"    \"Martin\" \"Martin\" \"Luc\"    \"Luc\"    \"Bob\"   \n",
        " [25] \"Luc\"    \"Bob\"    \"Martin\" \"Luc\"    \"Martin\" \"Luc\"    \"Luc\"    \"Bob\"   \n",
        " [33] \"Luc\"    \"Martin\" \"Martin\" \"Luc\"    \"Martin\" \"Bob\"    \"Luc\"    \"Luc\"   \n",
        " [41] \"Luc\"    \"Martin\" \"Luc\"    \"Luc\"    \"Luc\"    \"Bob\"    \"Luc\"    \"Luc\"   \n",
        " [49] \"Luc\"    \"Luc\"    \"Luc\"    \"Bob\"    \"Bob\"    \"Luc\"    \"Luc\"    \"Luc\"   \n",
        " [57] \"Bob\"    \"Luc\"    \"Martin\" \"Luc\"    \"Bob\"    \"Bob\"    \"Bob\"    \"Luc\"   \n",
        " [65] \"Luc\"    \"Luc\"    \"Luc\"    \"Martin\" \"Martin\" \"Bob\"    \"Luc\"    \"Luc\"   \n",
        " [73] \"Martin\" \"Martin\" \"Luc\"    \"Martin\" \"Martin\" \"Bob\"    \"Martin\" \"Luc\"   \n",
        " [81] \"Martin\" \"Martin\" \"Bob\"    \"Luc\"    \"Luc\"    \"Martin\" \"Martin\" \"Martin\"\n",
        " [89] \"Luc\"    \"Luc\"    \"Luc\"    \"Martin\" \"Bob\"    \"Luc\"    \"Luc\"    \"Bob\"   \n",
        " [97] \"Martin\" \"Martin\" \"Luc\"    \"Luc\"   \n"
       ]
      }
     ],
     "prompt_number": 162
    },
    {
     "cell_type": "markdown",
     "metadata": {},
     "source": [
      "* [The normal random sample function](http://stat.ethz.ch/R-manual/R-devel/library/stats/html/Normal.html) and  [the uniform random sample function](http://stat.ethz.ch/R-manual/R-devel/library/stats/html/Uniform.html)"
     ]
    },
    {
     "cell_type": "code",
     "collapsed": false,
     "input": [
      "%%R\n",
      "\n",
      "x = rnorm(100, mean=0, sd=1)\n",
      "print(x)\n",
      "x = runif(100, min=0, max=1)\n",
      "print(x)\n",
      "        "
     ],
     "language": "python",
     "metadata": {},
     "outputs": [
      {
       "metadata": {},
       "output_type": "display_data",
       "text": [
        "  [1] -0.11187168  0.50733388  1.03045589  0.46095914 -0.02152315 -1.56219303\n",
        "  [7]  0.11758116  0.26813048 -0.08167937 -1.15118947 -0.19919960  1.13415873\n",
        " [13] -0.64630257 -0.63677652 -0.36474956  0.19167555 -2.42573659  0.23833237\n",
        " [19]  1.71015870 -0.22968569  0.82209649  1.13845951 -2.17822631  0.14442774\n",
        " [25] -0.68549056 -0.01027162 -0.91933979  0.02259485  1.07875156 -0.70304610\n",
        " [31] -0.46441037 -0.60487785 -1.99512520 -0.20622712 -0.28201007 -3.02115920\n",
        " [37] -0.66607401 -1.33940337 -0.26215389 -0.15030642  0.63770429  2.93375418\n",
        " [43]  0.75675134 -1.49991489  0.65364173  2.75917948 -1.21787791  1.23929698\n",
        " [49] -2.64177323  0.06330547  0.74267263 -0.92403036 -1.21858332  0.65773025\n",
        " [55]  0.68957291 -0.26290932 -0.30500226  0.52116241 -0.28390838 -1.08450818\n",
        " [61]  0.42635258  0.64472112 -0.32251703 -2.49555449 -0.27304583  2.29408073\n",
        " [67]  0.99286960  1.08872237  1.17058322  0.02345140  0.20739093  0.65462442\n",
        " [73] -0.68434657  0.13244242  0.74307607 -1.36712124  1.66136563  0.76096724\n",
        " [79] -2.40259845 -1.36037216 -0.11287602  0.86571849 -0.89303033 -0.13689162\n",
        " [85]  0.05102346 -1.20997330 -0.18492161 -0.36062228  0.24846337 -0.14157392\n",
        " [91]  1.54806295  0.82047095  0.31576175  0.68727074 -0.60543222 -0.33300320\n",
        " [97]  0.03072277  0.59872721 -1.29995913  1.33608349\n",
        "  [1] 0.63840388 0.98708836 0.14855800 0.61359730 0.26040992 0.64069818\n",
        "  [7] 0.93008429 0.91605942 0.87913997 0.21042165 0.19900017 0.62175052\n",
        " [13] 0.08284334 0.49664786 0.84495531 0.09369823 0.86528752 0.96378349\n",
        " [19] 0.96049547 0.63713592 0.68031901 0.16512885 0.77971369 0.39455357\n",
        " [25] 0.59091636 0.87987467 0.33640819 0.80883338 0.03802419 0.16809108\n",
        " [31] 0.62260728 0.15114958 0.31584117 0.74249164 0.34128854 0.62365927\n",
        " [37] 0.53485537 0.65887829 0.61391373 0.45078050 0.49171487 0.89103428\n",
        " [43] 0.74871928 0.93030331 0.35170829 0.41290770 0.78757444 0.26589342\n",
        " [49] 0.62901932 0.83282200 0.69216242 0.98067333 0.57657435 0.04338813\n",
        " [55] 0.29787016 0.61889622 0.03834292 0.83118740 0.78668420 0.24875302\n",
        " [61] 0.35986888 0.52549997 0.52859274 0.55987611 0.59156893 0.76412104\n",
        " [67] 0.74267324 0.84416612 0.84901744 0.17502687 0.13068884 0.58650958\n",
        " [73] 0.97187529 0.69099604 0.69611355 0.44339927 0.87499422 0.40038215\n",
        " [79] 0.60536932 0.79049458 0.10395833 0.79524571 0.85867159 0.94113415\n",
        " [85] 0.98492508 0.69730382 0.25784206 0.83151992 0.32717573 0.76671848\n",
        " [91] 0.54894738 0.80649497 0.97915355 0.33441832 0.01775715 0.31956384\n",
        " [97] 0.51711558 0.33226158 0.20557880 0.53938567\n"
       ]
      }
     ],
     "prompt_number": 163
    },
    {
     "cell_type": "heading",
     "level": 3,
     "metadata": {},
     "source": [
      "Vectorized code"
     ]
    },
    {
     "cell_type": "markdown",
     "metadata": {},
     "source": [
      "R is a **vectorized** programming language (or [array programming language](http://en.wikipedia.org/wiki/Array_programming)): i.e., operations involving **vectors** (1D array), **matrices** (2D array), or more generally $n$-dimensional **array** can be performed with **single** or **atomic instructions**, instead of **loops** accessing the array elements one at a time. For instance, the core of the Python language is not vectorized (one uses loops or list comprehension to iterate over collections), but the Numpy part of the language is vectorized. \n",
      "\n",
      "Languages allowing for vectorized computations offer several advantages over standard \"collection looping languages:\"\n",
      "\n",
      "* The code involving array computations is **clearer** and **shorter**, resulting into a gain of developping time and an easier maintenance\n",
      "\n",
      "* When using computers with multiple processors, atomic vectorized instructions will be distributed in parallely over the processors, resulting into a **speed gain**. \n",
      "\n",
      "The main three array programming languages in the spot lights in data science nowdays are **R**, **Octave** (a GNU version of Mathlab), and **Python with Numpy**. You already know how to use two of them, and learning Octave after this course will be very easy. \n",
      "\n",
      "Here is an example of a **non-vectorized code**, where we add two vectors <code>x</code> and <code>y</code> by accessing the elments one at a time in a <code>for</code> loop, add them and store the result into the corresponding component of a previously intialized vector <code>z</code>:"
     ]
    },
    {
     "cell_type": "code",
     "collapsed": false,
     "input": [
      "%%R\n",
      "\n",
      "x = sample(10)\n",
      "y = sample(10)\n",
      "\n",
      "z = rep(0, 10)\n",
      "for(i in 1:length(x)){\n",
      "    z[i] = x[i] + y[i]\n",
      "}\n",
      "\n",
      "print(x); print(y); print(z)"
     ],
     "language": "python",
     "metadata": {},
     "outputs": [
      {
       "metadata": {},
       "output_type": "display_data",
       "text": [
        " [1] 10  4  2  3  6  8  1  7  5  9\n",
        " [1]  7  4  6  9  5  8 10  2  3  1\n",
        " [1] 17  8  8 12 11 16 11  9  8 10\n"
       ]
      }
     ],
     "prompt_number": 164
    },
    {
     "cell_type": "markdown",
     "metadata": {},
     "source": [
      "Now we do the same with **vectorized code**, using the **vectorized addition operation:**"
     ]
    },
    {
     "cell_type": "code",
     "collapsed": false,
     "input": [
      "%%R\n",
      "\n",
      "z = x + y\n",
      "print(x); print(y); print(z)"
     ],
     "language": "python",
     "metadata": {},
     "outputs": [
      {
       "metadata": {},
       "output_type": "display_data",
       "text": [
        " [1]  7  9  6  5  1  2  3 10  8  4\n",
        " [1]  9  7  5  8  2  6  4 10  3  1\n",
        " [1] 16 16 11 13  3  8  7 20 11  5\n"
       ]
      }
     ],
     "prompt_number": 12
    },
    {
     "cell_type": "markdown",
     "metadata": {},
     "source": [
      "Another example of standard looping and branching code together with the equivalent vectorized code. Given a vector <code>x</code> of integers between 1 and 10, we want to keep only those integers that are above 5. \n",
      "\n",
      "**Make sure that you understand that the vectorized equivalent of branching statements in a loop is usually achieved using logical indexing.**"
     ]
    },
    {
     "cell_type": "code",
     "collapsed": false,
     "input": [
      "%%R\n",
      "\n",
      "x = sample(10)\n",
      "z = c()\n",
      "j = 1\n",
      "for (i in 1:10){\n",
      "    if(x[i] >= 5){\n",
      "        z[j] = x[i]\n",
      "        j = j + 1\n",
      "    }\n",
      "}\n",
      "\n",
      "print(z)"
     ],
     "language": "python",
     "metadata": {},
     "outputs": [
      {
       "metadata": {},
       "output_type": "display_data",
       "text": [
        "[1]  7 10  8  5  9  6\n"
       ]
      }
     ],
     "prompt_number": 165
    },
    {
     "cell_type": "code",
     "collapsed": false,
     "input": [
      "%%R\n",
      "\n",
      "#Equivalent vectorized code\n",
      "\n",
      "z = x[x >= 5]\n",
      "print(z)"
     ],
     "language": "python",
     "metadata": {},
     "outputs": [
      {
       "metadata": {},
       "output_type": "display_data",
       "text": [
        "[1]  7 10  8  5  9  6\n"
       ]
      }
     ],
     "prompt_number": 166
    },
    {
     "cell_type": "markdown",
     "metadata": {},
     "source": [
      "To make a long story short, **writing vectorized code is nothing but using only vectorized opearations when dealing with vectors, or more generally with arrays**. You should be able to go back an forth between standard <code>for</code>, <code>if</code>, <code>else</code> code and corresponding vectorized code. \n",
      "\n",
      "Using only the following functions and operations on the basic types will generate vectorized code:\n",
      "\n",
      "* **[Numeric fuctions and operations](http://www.statmethods.net/management/functions.html):** \n",
      "\n",
      "        abs(x)\n",
      "        sqrt(x) \t\n",
      "        ceiling(x) \n",
      "        floor(x) \t\n",
      "        trunc(x) \n",
      "        round(x, digits=n) \n",
      "        cos(x), sin(x), tan(x) \talso acos(x), cosh(x), acosh(x), etc.\n",
      "        log(x) \n",
      "  \n",
      "        +   -   *   /   %% (modulo)   %/% (integer division)   ^ \n",
      "    \n",
      "* **Boolean functions and operations:**\n",
      "\n",
      "        any(x) (returns true if any of the elements in x is true, otherwise false)\n",
      "        all(x) (returns true if all the elements in x are true, otherwise false)\n",
      "        & (and)   | (or)   ! (not)\n",
      "        <   >   <=   >=   ==   !=\n",
      "\n",
      "* **[Character functions and operations](http://www.statmethods.net/management/functions.html):** \n",
      "\n",
      "        paste(x, y, etc., sep=s)\n",
      "        substr(x, start=i, stop=j)\n",
      "        grep(pattern, x , ignore.case=FALSE, fixed=FALSE)\n",
      "        sub(pattern, replacement, x, ignore.case =FALSE, fixed=FALSE)\n",
      "        strsplit(x, split)\n",
      "        toupper(x)\n",
      "        tolower(x)\n",
      "        \n",
      "* **R Linear Algebra**\n",
      "\n",
      "        A * B\tElement-wise multiplication\n",
      "        A %*% B\tMatrix multiplication\n",
      "        A %o% B\tOuter product. AB'\n",
      "        crossprod(A,B)\n",
      "        crossprod(A)\tA'B and A'A respectively.\n",
      "        t(A)\tTranspose\n",
      "        diag(x)\tCreates diagonal matrix with elements of x in the principal diagonal\n",
      "        diag(A)\tReturns a vector containing the elements of the principal diagonal\n",
      "        diag(k)\tIf k is a scalar, this creates a k x k identity matrix. Go figure.\n",
      "        solve(A, b)\tReturns vector x in the equation b = Ax (i.e., A-1b)\n",
      "        solve(A)\tInverse of A where A is a square matrix.\n",
      "        ginv(A)\tMoore-Penrose Generalized Inverse of A. \n",
      "        ginv(A) requires loading the MASS package.\n",
      "        y<-eigen(A)\ty$val are the eigenvalues of A\n",
      "        y$vec are the eigenvectors of A\n",
      "        y<-svd(A)\tSingle value decomposition of A.\n",
      "        y$d = vector containing the singular values of A\n",
      "        y$u = matrix with columns contain the left singular vectors of A \n",
      "        y$v = matrix with columns contain the right singular vectors of A\n",
      "        R <- chol(A)\tCholeski factorization of A. Returns the upper triangular factor, such that R'R = A.\n",
      "        y <- qr(A)\tQR decomposition of A. \n",
      "        y$qr has an upper triangle that contains the decomposition and a lower triangle that contains information on the Q decomposition.\n",
      "        y$rank is the rank of A. \n",
      "        y$qraux a vector which contains additional information on Q. \n",
      "        y$pivot contains information on the pivoting strategy used.\n",
      "        cbind(A,B,...)\tCombine matrices(vectors) horizontally. Returns a matrix.\n",
      "        rbind(A,B,...)\tCombine matrices(vectors) vertically. Returns a matrix.\n",
      "        rowMeans(A)\tReturns vector of row means.\n",
      "        rowSums(A)\tReturns vector of row sums.\n",
      "        colMeans(A)\tReturns vector of column means.\n",
      "        colSums(A)\tReturns vector of coumn means."
     ]
    },
    {
     "cell_type": "markdown",
     "metadata": {},
     "source": [
      "These operation are **vectorized** way: i.e., they are performed **component wise**. "
     ]
    },
    {
     "cell_type": "heading",
     "level": 3,
     "metadata": {},
     "source": [
      "Vector hidden attributes: names, class, and dim"
     ]
    },
    {
     "cell_type": "markdown",
     "metadata": {},
     "source": [
      "R vectors have a number of **attributes** (different from the vector elements) that can be set using **special functions**. These attributes condition the way vectors are handled in computation and the way vectors are displayed while printed or evaluated. Attributes can be displayed using the function\n",
      "\n",
      "    attributes(x)\n",
      "which returns a list of the attributes set for <code>x</code>.\n",
      "\n",
      "By default, a vector has no attributes set, and the function <code>attributes</code> will return NULL upon a vector with no attribute set. Here is a list of the special functions that will set vector attributes:\n",
      "\n",
      "The function <code>names</code> used as followed\n",
      "\n",
      "    names(x) = labels\n",
      "    \n",
      "will set the names attribute specifying the vector element labels using the strings in the character vector <code>labels</code>.\n",
      "    \n",
      "    "
     ]
    },
    {
     "cell_type": "code",
     "collapsed": false,
     "input": [
      "%%R\n",
      "\n",
      "x = c(1,2,3,4,5,6,7,8)\n",
      "print(x)\n",
      "\n",
      "names(x) = c('A','B','C','D','E','F','G','H')\n",
      "NL()\n",
      "print(x)"
     ],
     "language": "python",
     "metadata": {},
     "outputs": [
      {
       "metadata": {},
       "output_type": "display_data",
       "text": [
        "[1] 1 2 3 4 5 6 7 8\n",
        "\n",
        "\n",
        "A B C D E F G H \n",
        "1 2 3 4 5 6 7 8 \n"
       ]
      }
     ],
     "prompt_number": 167
    },
    {
     "cell_type": "markdown",
     "metadata": {},
     "source": [
      "The function <code>class</code> used as followed\n",
      "\n",
      "    class(x) = className\n",
      "    \n",
      "will give the vector <code>x</code> the class name stored in the string <code>className</code>. We will come back to classes in the <code>list</code> section.     "
     ]
    },
    {
     "cell_type": "code",
     "collapsed": false,
     "input": [
      "%%R\n",
      "\n",
      "print(class(x))\n",
      "\n",
      "class(x) = 'Cookie'\n",
      "\n",
      "print(class(x))\n",
      "\n"
     ],
     "language": "python",
     "metadata": {},
     "outputs": [
      {
       "metadata": {},
       "output_type": "display_data",
       "text": [
        "[1] \"numeric\"\n",
        "[1] \"Cookie\"\n"
       ]
      }
     ],
     "prompt_number": 168
    },
    {
     "cell_type": "markdown",
     "metadata": {},
     "source": [
      "The function <code>dim</code> used as followed\n",
      "\n",
      "    dim(x) = dimVect\n",
      "    \n",
      "will set the dimension attribute of <code>x</code> to the integer vector <code>dimVect</code>. For instance, setting the dimension attribute to $(2,3)$ will tell R to organize the elements contained in the vector <code>x</code> as an **array** (or here a **matrix**) with 2 rows and 3 colums. "
     ]
    },
    {
     "cell_type": "code",
     "collapsed": false,
     "input": [
      "%%R\n",
      "\n",
      "dim(x) = c(2,4)\n",
      "print(x)"
     ],
     "language": "python",
     "metadata": {},
     "outputs": [
      {
       "metadata": {},
       "output_type": "display_data",
       "text": [
        "     [,1] [,2] [,3] [,4]\n",
        "[1,]    1    3    5    7\n",
        "[2,]    2    4    6    8\n",
        "attr(,\"class\")\n",
        "[1] \"Cookie\"\n"
       ]
      }
     ],
     "prompt_number": 17
    },
    {
     "cell_type": "markdown",
     "metadata": {},
     "source": [
      "If we set the dimenstion attribute to be $(2,2,2)$, this will tell R to interpret <code>x</code> has a 3D array of numbers, the first **axis** having 2 columns, the second and the third axis as well:"
     ]
    },
    {
     "cell_type": "code",
     "collapsed": false,
     "input": [
      "%%R\n",
      "\n",
      "dim(x) = c(2,2,2)\n",
      "print(x)"
     ],
     "language": "python",
     "metadata": {},
     "outputs": [
      {
       "metadata": {},
       "output_type": "display_data",
       "text": [
        ", , 1\n",
        "\n",
        "     [,1] [,2]\n",
        "[1,]    1    3\n",
        "[2,]    2    4\n",
        "\n",
        ", , 2\n",
        "\n",
        "     [,1] [,2]\n",
        "[1,]    5    7\n",
        "[2,]    6    8\n",
        "\n",
        "attr(,\"class\")\n",
        "[1] \"Cookie\"\n"
       ]
      }
     ],
     "prompt_number": 172
    },
    {
     "cell_type": "markdown",
     "metadata": {},
     "source": [
      "To create multidimensional arrays directly, without first creating a vector and setting its dimension attribute, one can use the function\n",
      "\n",
      "    x = matrix(aVect, ncol=k, nrow=l) (for 2D arrays or matrix)\n",
      "    x = array(aVect, dim=c(k,l,m,o,p))\n",
      "    \n",
      "All the vectorized operations we show above will be performed on the underlying \"flat\" vector, and the result will be interpreted back as an array of the corresponding dimension.\n",
      "\n",
      "Conclusion: basic types in R are vectors with dimension: hence **arrays**!!!! That's why some people call this vector programming, **array programming**. This is completely similar to what we saw with Numpy arrays!\n",
      "\n",
      "\n",
      "    "
     ]
    },
    {
     "cell_type": "code",
     "collapsed": false,
     "input": [
      "%%R\n",
      "\n",
      "A = matrix(1:25, ncol=5, byrow=TRUE)\n",
      "B = matrix(1:25, ncol=5)\n",
      "print(A)\n",
      "print(B)"
     ],
     "language": "python",
     "metadata": {},
     "outputs": [
      {
       "metadata": {},
       "output_type": "display_data",
       "text": [
        "     [,1] [,2] [,3] [,4] [,5]\n",
        "[1,]    1    2    3    4    5\n",
        "[2,]    6    7    8    9   10\n",
        "[3,]   11   12   13   14   15\n",
        "[4,]   16   17   18   19   20\n",
        "[5,]   21   22   23   24   25\n",
        "     [,1] [,2] [,3] [,4] [,5]\n",
        "[1,]    1    6   11   16   21\n",
        "[2,]    2    7   12   17   22\n",
        "[3,]    3    8   13   18   23\n",
        "[4,]    4    9   14   19   24\n",
        "[5,]    5   10   15   20   25\n"
       ]
      }
     ],
     "prompt_number": 176
    },
    {
     "cell_type": "code",
     "collapsed": false,
     "input": [
      "%%R\n",
      "\n",
      "B = array(1:8, dim=c(2,2,2))\n",
      "print(B)"
     ],
     "language": "python",
     "metadata": {},
     "outputs": [
      {
       "metadata": {},
       "output_type": "display_data",
       "text": [
        ", , 1\n",
        "\n",
        "     [,1] [,2]\n",
        "[1,]    1    3\n",
        "[2,]    2    4\n",
        "\n",
        ", , 2\n",
        "\n",
        "     [,1] [,2]\n",
        "[1,]    5    7\n",
        "[2,]    6    8\n",
        "\n"
       ]
      }
     ],
     "prompt_number": 177
    },
    {
     "cell_type": "heading",
     "level": 3,
     "metadata": {},
     "source": [
      "Recycling or Broadcasting (Python term)"
     ]
    },
    {
     "cell_type": "markdown",
     "metadata": {},
     "source": [
      "When vectorial operations involve vectors of **different size**, R will **cycle** through the elements of the smallest vector, as to make the two involved vectors of **equal length**. Then the vectorized operation will be performed on the equal length vectors that result:"
     ]
    },
    {
     "cell_type": "code",
     "collapsed": false,
     "input": [
      "%%R\n",
      "\n",
      "a = c(2,3); b=c(1,1,1,1)\n",
      "print(a+b)\n",
      "print(a*b)"
     ],
     "language": "python",
     "metadata": {},
     "outputs": [
      {
       "metadata": {},
       "output_type": "display_data",
       "text": [
        "[1] 3 4 3 4\n",
        "[1] 2 3 2 3\n"
       ]
      }
     ],
     "prompt_number": 21
    },
    {
     "cell_type": "code",
     "collapsed": false,
     "input": [
      "%%R\n",
      "\n",
      "x = paste(c('X','Y'), c(1,2,3,4), '#', sep='')\n",
      "print(x)"
     ],
     "language": "python",
     "metadata": {},
     "outputs": [
      {
       "metadata": {},
       "output_type": "display_data",
       "text": [
        "[1] \"X1#\" \"Y2#\" \"X3#\" \"Y4#\"\n"
       ]
      }
     ],
     "prompt_number": 22
    },
    {
     "cell_type": "heading",
     "level": 3,
     "metadata": {},
     "source": [
      "Applying function to vectors"
     ]
    },
    {
     "cell_type": "markdown",
     "metadata": {},
     "source": [
      "Suppose we have a function that takes a scalar $a$ (i.e. a vector of length 1) and return a vector $y$ of a fixed length $m$:\n",
      "\n",
      "$$f:a \\longrightarrow \\big(f_1(a),\\,\\dots,\\, f_m(a)\\big)$$\n",
      "\n",
      "At times, we'd like to apply the function $f$ to each component of a given vector $x=(x_1,\\dots, x_n)$ and have the $m$ vectors that result stored into a $m \\times n$ matrix:\n",
      "\n",
      "$$\\left( \\begin{array}{ccc}\n",
      "f_1(x_{1}) & f_1(x_{2}) & \\cdots & f_1(x_{n}) \\\\\n",
      "f_2(x_{1}) & f_2(x_{2}) & \\cdots & f_2(x_{n}) \\\\\n",
      "\\vdots &        &        & \\vdots \\\\\n",
      "f_m(x_{1}) & f_m(x_{2}) & \\cdots & f_m(x_{n})\n",
      "\\end{array} \\right)\n",
      "$$"
     ]
    },
    {
     "cell_type": "markdown",
     "metadata": {},
     "source": [
      "Let's try to do that with the following function that, given a scalar, returns a vector of length 3:"
     ]
    },
    {
     "cell_type": "code",
     "collapsed": false,
     "input": [
      "%%R\n",
      "\n",
      "f = function(a) return(c(a, a^2, a^3))"
     ],
     "language": "python",
     "metadata": {},
     "outputs": [],
     "prompt_number": 23
    },
    {
     "cell_type": "markdown",
     "metadata": {},
     "source": [
      "A non-vectorized way to do that would be the following:"
     ]
    },
    {
     "cell_type": "code",
     "collapsed": false,
     "input": [
      "%%R\n",
      "\n",
      "x = 1:5\n",
      "\n",
      "M = matrix(rep(0,15), ncol=5)\n",
      "\n",
      "for (j in 1:5){\n",
      "    for(i in 1:3){\n",
      "        M[i, j] = f(x[j])[i]\n",
      "    }\n",
      "}\n",
      "\n",
      "print(M)"
     ],
     "language": "python",
     "metadata": {},
     "outputs": [
      {
       "metadata": {},
       "output_type": "display_data",
       "text": [
        "     [,1] [,2] [,3] [,4] [,5]\n",
        "[1,]    1    2    3    4    5\n",
        "[2,]    1    4    9   16   25\n",
        "[3,]    1    8   27   64  125\n"
       ]
      }
     ],
     "prompt_number": 24
    },
    {
     "cell_type": "markdown",
     "metadata": {},
     "source": [
      "The **vectorized way** of doing this is to use one of the **[apply family functions](http://www.stat.berkeley.edu/users/spector/s133/R-6a.html)**\n",
      "\n",
      "    sapply(x, f)\n",
      "that will do just that:"
     ]
    },
    {
     "cell_type": "code",
     "collapsed": false,
     "input": [
      "%%R\n",
      "\n",
      "M = sapply(x, f)\n",
      "print(M)"
     ],
     "language": "python",
     "metadata": {},
     "outputs": [
      {
       "metadata": {},
       "output_type": "display_data",
       "text": [
        "     [,1] [,2] [,3] [,4] [,5]\n",
        "[1,]    1    2    3    4    5\n",
        "[2,]    1    4    9   16   25\n",
        "[3,]    1    8   27   64  125\n"
       ]
      }
     ],
     "prompt_number": 25
    },
    {
     "cell_type": "heading",
     "level": 3,
     "metadata": {},
     "source": [
      "Applying function to matrices"
     ]
    },
    {
     "cell_type": "markdown",
     "metadata": {},
     "source": [
      "Suppose now that we want to apply a given function $f$ to the rows or columns of a matrix $A$ and that the result be organized into a matrix whose columns contained the outputs of $f$ when applied to the rows or columns of $A$.  \n",
      "\n",
      "For that one can use the following function from the **apply family**:\n",
      "\n",
      "    apply(A, axis, f)\n",
      "\n",
      "where $f$ will be applied sequencially to the **rows** of <code>A,</code> if <code>axis=1</code>, or to the **columns** of <code>A</code> if <code>axis=2</code>."
     ]
    },
    {
     "cell_type": "code",
     "collapsed": false,
     "input": [
      "%%R\n",
      "\n",
      "A = matrix(1:9, ncol=3)\n",
      "\n",
      "row.sum = apply(A, 1, sum) # 1 does rows\n",
      "col.sum = apply(A, 2, sum) # 2 does columns\n",
      "\n",
      "print(A);NL(); print(row.sum); NL(); print(col.sum)"
     ],
     "language": "python",
     "metadata": {},
     "outputs": [
      {
       "metadata": {},
       "output_type": "display_data",
       "text": [
        "     [,1] [,2] [,3]\n",
        "[1,]    1    4    7\n",
        "[2,]    2    5    8\n",
        "[3,]    3    6    9\n",
        "\n",
        "\n",
        "[1] 12 15 18\n",
        "\n",
        "\n",
        "[1]  6 15 24\n"
       ]
      }
     ],
     "prompt_number": 45
    },
    {
     "cell_type": "heading",
     "level": 3,
     "metadata": {},
     "source": [
      "Subsetting vectors (and arrays)"
     ]
    },
    {
     "cell_type": "markdown",
     "metadata": {},
     "source": [
      "You need to know how to retrieve (and modify if needed) **subsets** of vectors (and matrices), using the **bracket operator:**\n",
      "\n",
      "    y = x[ind] (copy of a subset of x into the variable y)\n",
      "    x[ind] = a (modification of x itself)\n",
      "    \n",
      "    \n",
      "where <code>ind</code> is a vector of the same size of the vector x, which can be\n",
      "\n",
      "* **Boolean vectors:**  <code>x[ind]</code> is a handle on the elements of <code>x</code> whose indices correspond to elements in <code>ind</code> with value <code>TRUE</code>.  \n",
      "\n",
      "\n",
      "* **integer vectors:** <code>x[ind]</code> is a handle on the elements of <code>x</code> whose indices are in <code>ind</code>.  \n",
      "\n",
      "\n",
      "\n",
      "* **character vectors:** <code>x[ind]</code> is a handle on the elements of <code>x</code> whose labels (or names) are in <code>ind</code>. \n",
      "\n",
      "\n",
      "\n",
      "**Remark:** Recall the two ways of naming to elements of a vector:"
     ]
    },
    {
     "cell_type": "code",
     "collapsed": false,
     "input": [
      "%%R\n",
      "\n",
      "v = c('a'=1, 'b'=2)\n",
      "print(v)"
     ],
     "language": "python",
     "metadata": {},
     "outputs": [
      {
       "metadata": {},
       "output_type": "display_data",
       "text": [
        "a b \n",
        "1 2 \n"
       ]
      }
     ],
     "prompt_number": 178
    },
    {
     "cell_type": "code",
     "collapsed": false,
     "input": [
      "%%R\n",
      "\n",
      "w = c(3,4)\n",
      "names(w) = c('Bob', 'Luc')\n",
      "\n",
      "print(w)"
     ],
     "language": "python",
     "metadata": {},
     "outputs": [
      {
       "metadata": {},
       "output_type": "display_data",
       "text": [
        "Bob Luc \n",
        "  3   4 \n"
       ]
      }
     ],
     "prompt_number": 179
    },
    {
     "cell_type": "markdown",
     "metadata": {},
     "source": [
      "**Remark:** If <code>ind</code> is an integer vector with non-negative entries, than <code>x[-ind]</code> will keep only the elements in <code>x</code> whose indices are not in <code>ind</code>."
     ]
    },
    {
     "cell_type": "code",
     "collapsed": false,
     "input": [
      "%%R\n",
      "\n",
      "x = 1:10\n",
      "names(x) = LETTERS[1:10]\n",
      "\n",
      "\n",
      "print(x)\n",
      "\n",
      "y = x[-c(2,3,4)]\n",
      "\n",
      "print(y)\n",
      "\n",
      "x[-c(2,3,4)] = 444\n",
      "\n",
      "print(x)"
     ],
     "language": "python",
     "metadata": {},
     "outputs": [
      {
       "metadata": {},
       "output_type": "display_data",
       "text": [
        " A  B  C  D  E  F  G  H  I  J \n",
        " 1  2  3  4  5  6  7  8  9 10 \n",
        " A  E  F  G  H  I  J \n",
        " 1  5  6  7  8  9 10 \n",
        "  A   B   C   D   E   F   G   H   I   J \n",
        "444   2   3   4 444 444 444 444 444 444 \n"
       ]
      }
     ],
     "prompt_number": 180
    },
    {
     "cell_type": "markdown",
     "metadata": {},
     "source": [
      "**Remark:** Subsetting for matrices, arrays, and data frames works exactly the same, except that we have now several axis to specify ranges to:\n",
      "\n",
      "    A[ind1, ind2]\n",
      "In this case: \n",
      "\n",
      "    A[ind1, ] \"means\" only rows as specified by ind1 BUT ALL COLUMNS\n",
      "    A[, ind2] \"means\" only col as specified by ind2, BUT ALL ROWS"
     ]
    },
    {
     "cell_type": "heading",
     "level": 2,
     "metadata": {},
     "source": [
      "Object-oriented programming in R: List and Classes"
     ]
    },
    {
     "cell_type": "markdown",
     "metadata": {},
     "source": [
      "In R, **vectors** are the **basic data types** (representing statistical variables or columns in a data table), while **lists** are the **basic data structures** (representing variable values for sample individuals or data table rows). \n",
      "\n",
      "Lists are **heterogeneous and labelled containers**. Its elements can have a **name** or **label** and they can be of any type, including lists. \n",
      "\n",
      "Lists are the building block of (S3) object oriented programming in R. \n",
      "\n",
      "Similarly to vectors, list can have **special attributes set** through **special functions**:\n",
      "\n",
      "    names(x) = labels\n",
      "    class(x) = className\n",
      "    \n",
      "These functions works the same as for vectors. "
     ]
    },
    {
     "cell_type": "heading",
     "level": 3,
     "metadata": {},
     "source": [
      "List creation"
     ]
    },
    {
     "cell_type": "markdown",
     "metadata": {},
     "source": [
      "As example, we create a list whose elements are named according the variable names:\n",
      "\n",
      "**list() creates the empty list**\n",
      "\n",
      "* **first element** (with label 'employee'): a character vector with element\n",
      "\n",
      "\n",
      "* **second element** (with label 'childrenAges'): a character vector with two elements\n",
      "\n",
      "\n",
      "* **third element** (with label 'luckyMatrix'): a $5\\times 5$ matrix"
     ]
    },
    {
     "cell_type": "code",
     "collapsed": false,
     "input": [
      "%%R\n",
      "\n",
      "x = list(Employee='Bob Durant', childrenAges=c(1,3), luckyMatrix=matrix(1:25,ncol=5))\n",
      "print(x)"
     ],
     "language": "python",
     "metadata": {},
     "outputs": [
      {
       "metadata": {},
       "output_type": "display_data",
       "text": [
        "$Employee\n",
        "[1] \"Bob Durant\"\n",
        "\n",
        "$childrenAges\n",
        "[1] 1 3\n",
        "\n",
        "$luckyMatrix\n",
        "     [,1] [,2] [,3] [,4] [,5]\n",
        "[1,]    1    6   11   16   21\n",
        "[2,]    2    7   12   17   22\n",
        "[3,]    3    8   13   18   23\n",
        "[4,]    4    9   14   19   24\n",
        "[5,]    5   10   15   20   25\n",
        "\n"
       ]
      }
     ],
     "prompt_number": 182
    },
    {
     "cell_type": "heading",
     "level": 3,
     "metadata": {},
     "source": [
      "Subsetting with the single bracket operator"
     ]
    },
    {
     "cell_type": "markdown",
     "metadata": {},
     "source": [
      "One can retrieve a sublist $y$ from a list $x$ as for vectors using the **single bracket operator:**\n",
      "\n",
      "    y = x[ind]\n",
      "    \n",
      "where, again, the range <code>ind</code> can be \n",
      "\n",
      "* a integer vector of indices\n",
      "* a character vector of labels\n",
      "\n",
      "**Remark** Since the single bracket operator return a **sublist**, the following subsetting\n",
      "\n",
      "    y = x[i]\n",
      "    y = x[label]\n",
      "    \n",
      "will return **a list with one element** and not the **element itself**. For instance, in our example\n",
      "\n",
      "    x[3]\n",
      "    \n",
      "is not a matrix, but a list with one element containing a matrix. This can lead to nasty errors, if not paid due care."
     ]
    },
    {
     "cell_type": "code",
     "collapsed": false,
     "input": [
      "%%R\n",
      "\n",
      "print(x[3])\n",
      "print(class(x[3]))"
     ],
     "language": "python",
     "metadata": {},
     "outputs": [
      {
       "metadata": {},
       "output_type": "display_data",
       "text": [
        "$luckyMatrix\n",
        "     [,1] [,2] [,3] [,4] [,5]\n",
        "[1,]    1    6   11   16   21\n",
        "[2,]    2    7   12   17   22\n",
        "[3,]    3    8   13   18   23\n",
        "[4,]    4    9   14   19   24\n",
        "[5,]    5   10   15   20   25\n",
        "\n",
        "[1] \"list\"\n"
       ]
      }
     ],
     "prompt_number": 183
    },
    {
     "cell_type": "heading",
     "level": 3,
     "metadata": {},
     "source": [
      "Double bracket operator and dollar sign"
     ]
    },
    {
     "cell_type": "markdown",
     "metadata": {},
     "source": [
      "To retrieve the actual list elements, one needs to use the **double bracket operator** or the **dollar sign**:\n",
      "\n",
      "    y = x$elementLabel\n",
      "    y = x[['elementLabel']]\n",
      "    y = x[[i]]"
     ]
    },
    {
     "cell_type": "code",
     "collapsed": false,
     "input": [
      "%%R\n",
      "print(x[[3]])"
     ],
     "language": "python",
     "metadata": {},
     "outputs": [
      {
       "metadata": {},
       "output_type": "display_data",
       "text": [
        "     [,1] [,2] [,3] [,4] [,5]\n",
        "[1,]    1    6   11   16   21\n",
        "[2,]    2    7   12   17   22\n",
        "[3,]    3    8   13   18   23\n",
        "[4,]    4    9   14   19   24\n",
        "[5,]    5   10   15   20   25\n"
       ]
      }
     ],
     "prompt_number": 32
    },
    {
     "cell_type": "code",
     "collapsed": false,
     "input": [
      "%%R\n",
      "\n",
      "print(x$Employee)"
     ],
     "language": "python",
     "metadata": {},
     "outputs": [
      {
       "metadata": {},
       "output_type": "display_data",
       "text": [
        "[1] \"Bob Durant\"\n"
       ]
      }
     ],
     "prompt_number": 33
    },
    {
     "cell_type": "code",
     "collapsed": false,
     "input": [
      "%%R\n",
      "print(x[['childrenAges']])"
     ],
     "language": "python",
     "metadata": {},
     "outputs": [
      {
       "metadata": {},
       "output_type": "display_data",
       "text": [
        "[1] 1 3\n"
       ]
      }
     ],
     "prompt_number": 34
    },
    {
     "cell_type": "heading",
     "level": 3,
     "metadata": {},
     "source": [
      "Applying a function to a list"
     ]
    },
    {
     "cell_type": "markdown",
     "metadata": {},
     "source": [
      "Let us consider the function"
     ]
    },
    {
     "cell_type": "code",
     "collapsed": false,
     "input": [
      "%%R\n",
      "\n",
      "f = function(x) return(x*x)"
     ],
     "language": "python",
     "metadata": {},
     "outputs": [],
     "prompt_number": 35
    },
    {
     "cell_type": "markdown",
     "metadata": {},
     "source": [
      "and the list"
     ]
    },
    {
     "cell_type": "code",
     "collapsed": false,
     "input": [
      "%%R\n",
      "\n",
      "L = list(number=3, vector=1:10,matrix=matrix(1:9, ncol=3))\n",
      "print(L)\n",
      "print(names(L))"
     ],
     "language": "python",
     "metadata": {},
     "outputs": [
      {
       "metadata": {},
       "output_type": "display_data",
       "text": [
        "$number\n",
        "[1] 3\n",
        "\n",
        "$vector\n",
        " [1]  1  2  3  4  5  6  7  8  9 10\n",
        "\n",
        "$matrix\n",
        "     [,1] [,2] [,3]\n",
        "[1,]    1    4    7\n",
        "[2,]    2    5    8\n",
        "[3,]    3    6    9\n",
        "\n",
        "[1] \"number\" \"vector\" \"matrix\"\n"
       ]
      }
     ],
     "prompt_number": 187
    },
    {
     "cell_type": "markdown",
     "metadata": {},
     "source": [
      "Suppose we want to apply the function $f$ above to each of the elements of the list $L$ so that the output is store back into a list. \n",
      "\n",
      "A **non-vectorized way** to do that would be:"
     ]
    },
    {
     "cell_type": "code",
     "collapsed": false,
     "input": [
      "%%R\n",
      "\n",
      "Lout = list(NULL, NULL, NULL)\n",
      "names(Lout) = names(L)\n",
      "\n",
      "\n",
      "for(name in names(L)){\n",
      "       Lout[[name]] = f(L[[name]])\n",
      "}\n",
      "\n",
      "print(Lout)\n"
     ],
     "language": "python",
     "metadata": {},
     "outputs": [
      {
       "metadata": {},
       "output_type": "display_data",
       "text": [
        "$number\n",
        "[1] 9\n",
        "\n",
        "$vector\n",
        " [1]   1   4   9  16  25  36  49  64  81 100\n",
        "\n",
        "$matrix\n",
        "     [,1] [,2] [,3]\n",
        "[1,]    1   16   49\n",
        "[2,]    4   25   64\n",
        "[3,]    9   36   81\n",
        "\n"
       ]
      }
     ],
     "prompt_number": 188
    },
    {
     "cell_type": "markdown",
     "metadata": {},
     "source": [
      "The corresponding **vectorized code** makes us the the **apply family function**\n",
      "\n",
      "    lapply(L, f)\n",
      "which return a list of whose elements are the output of the function $f$ while iterating on the elements of $L$."
     ]
    },
    {
     "cell_type": "code",
     "collapsed": false,
     "input": [
      "%%R\n",
      "\n",
      "Lout = lapply(L, f)\n",
      "\n",
      "print(Lout)"
     ],
     "language": "python",
     "metadata": {},
     "outputs": [
      {
       "metadata": {},
       "output_type": "display_data",
       "text": [
        "$number\n",
        "[1] 9\n",
        "\n",
        "$vector\n",
        " [1]   1   4   9  16  25  36  49  64  81 100\n",
        "\n",
        "$matrix\n",
        "     [,1] [,2] [,3]\n",
        "[1,]    1   16   49\n",
        "[2,]    4   25   64\n",
        "[3,]    9   36   81\n",
        "\n"
       ]
      }
     ],
     "prompt_number": 190
    },
    {
     "cell_type": "markdown",
     "metadata": {},
     "source": [
      "If one uses the **apply family function**\n",
      "\n",
      "    sapply(L, f)\n",
      "the output list will be **simplified** into an array (i.e. vector, matrix, etc.) whenever it makes sense. "
     ]
    },
    {
     "cell_type": "code",
     "collapsed": false,
     "input": [
      "%%R\n",
      "\n",
      "L = list(sample(5), sample(5), sample(5))\n",
      "Lout = sapply(L, f)\n",
      "\n",
      "print(Lout)"
     ],
     "language": "python",
     "metadata": {},
     "outputs": [
      {
       "metadata": {},
       "output_type": "display_data",
       "text": [
        "     [,1] [,2] [,3]\n",
        "[1,]   16   25    9\n",
        "[2,]    1    9    1\n",
        "[3,]   25    1   16\n",
        "[4,]    4    4   25\n",
        "[5,]    9   16    4\n"
       ]
      }
     ],
     "prompt_number": 191
    },
    {
     "cell_type": "heading",
     "level": 3,
     "metadata": {},
     "source": [
      "Oject and classes in R using lists"
     ]
    },
    {
     "cell_type": "markdown",
     "metadata": {},
     "source": [
      "In R, one create a class by simply setting the **class attribute** of a list. \n",
      "\n",
      "To insure that **instances** of a given class are always instansiated the same way, it is recommended to write a **constructor** for your class that will take care of creating the right number of elements with the right names, and setting the class attribute to the correct value.\n",
      "\n",
      "Access to the attributes is given using the **dollar sign operator**\n",
      "\n",
      "    myClass$attribute\n",
      "using the fact that underlying our object is a mere list. This is the analog to the **period operator** in Python."
     ]
    },
    {
     "cell_type": "code",
     "collapsed": false,
     "input": [
      "%%R\n",
      "\n",
      "bankAccount = function(holderName, checking, saving)\n",
      "{\n",
      "    object = list(holderName=holderName, checking=checking, saving=saving)\n",
      "    class(object) = 'bankAccount'\n",
      "    return(object)\n",
      "}"
     ],
     "language": "python",
     "metadata": {},
     "outputs": [],
     "prompt_number": 192
    },
    {
     "cell_type": "code",
     "collapsed": false,
     "input": [
      "%%R\n",
      "\n",
      "BobAccount = bankAccount(holderName='Bob Durant', checking=12, saving=0)\n",
      "\n",
      "print(class(BobAccount))\n",
      "\n",
      "saving = BobAccount$saving\n",
      "\n",
      "print(saving)"
     ],
     "language": "python",
     "metadata": {},
     "outputs": [
      {
       "metadata": {},
       "output_type": "display_data",
       "text": [
        "[1] \"bankAccount\"\n",
        "[1] 0\n"
       ]
      }
     ],
     "prompt_number": 193
    },
    {
     "cell_type": "markdown",
     "metadata": {},
     "source": [
      "**Methods** are just usual function whose names should follow a **naming convention**\n",
      "\n",
      "    action.className(object, arg1, arg2, etc.)\n",
      "    \n",
      "Then **associated generic functions** are created according to the <code>action</code>\n",
      "\n",
      "    action = function(object, arg1, arg2, etc.)\n",
      "    {\n",
      "         UseMethod('action',object)\n",
      "    }\n",
      "    \n",
      "Now if <code>x</code> is an object of <code>className</code>, invoking\n",
      "\n",
      "    action(x)\n",
      "    \n",
      "will trigger the function \n",
      "    \n",
      "    UseMethod('action',object)\n",
      "    \n",
      "that will retrieve the string <code>className</code> from <code>object</code> and look up if a function with name\n",
      "\n",
      "    action.className\n",
      "    \n",
      "exists. If yes, <code>UseMethod</code> will invoke this function with the corresponding argument.\n",
      "    "
     ]
    },
    {
     "cell_type": "code",
     "collapsed": false,
     "input": [
      "%%R\n",
      "\n",
      "display.bankAccount = function(object)\n",
      "{\n",
      "    cat('Account holder', object$holderName, 'has', object$checking,\n",
      "        'dollars in checking and', object$saving, 'dollars in saving.') \n",
      "}\n",
      "\n",
      "display = function(object)\n",
      "{\n",
      "    UseMethod('display', object)\n",
      "}"
     ],
     "language": "python",
     "metadata": {},
     "outputs": [],
     "prompt_number": 194
    },
    {
     "cell_type": "code",
     "collapsed": false,
     "input": [
      "%%R\n",
      "\n",
      "display(BobAccount)"
     ],
     "language": "python",
     "metadata": {},
     "outputs": [
      {
       "metadata": {},
       "output_type": "display_data",
       "text": [
        "Account holder Bob Durant has 12 dollars in checking and 0 dollars in saving."
       ]
      }
     ],
     "prompt_number": 195
    },
    {
     "cell_type": "heading",
     "level": 1,
     "metadata": {},
     "source": [
      "Examples"
     ]
    },
    {
     "cell_type": "code",
     "collapsed": false,
     "input": [
      "%%R\n",
      "\n",
      "text = c('Hello', 'Hella', 'Hellu')\n",
      "\n",
      "print(sub('Hell', 'Paradiz', text))"
     ],
     "language": "python",
     "metadata": {},
     "outputs": [
      {
       "metadata": {},
       "output_type": "display_data",
       "text": [
        "[1] \"Paradizo\" \"Paradiza\" \"Paradizu\"\n"
       ]
      }
     ],
     "prompt_number": 50
    },
    {
     "cell_type": "code",
     "collapsed": false,
     "input": [
      "%%R\n",
      "\n",
      "texto = sub('Hell', 'HellHell', text)\n",
      "print(texto)"
     ],
     "language": "python",
     "metadata": {},
     "outputs": [
      {
       "metadata": {},
       "output_type": "display_data",
       "text": [
        "[1] \"HellHello\" \"HellHella\" \"HellHellu\"\n"
       ]
      }
     ],
     "prompt_number": 51
    },
    {
     "cell_type": "code",
     "collapsed": false,
     "input": [
      "%%R\n",
      "\n",
      "texta = gsub('Hell', 'Paradiz', texto) # gsub = global substitute \n",
      "print(texta)"
     ],
     "language": "python",
     "metadata": {},
     "outputs": [
      {
       "metadata": {},
       "output_type": "display_data",
       "text": [
        "[1] \"ParadizParadizo\" \"ParadizParadiza\" \"ParadizParadizu\"\n"
       ]
      }
     ],
     "prompt_number": 53
    },
    {
     "cell_type": "code",
     "collapsed": false,
     "input": [
      "%%R\n",
      "textooo = c('HellHellHello', 'HellHellHella', 'HellHellHellu')\n",
      "print(gsub('Hell', 'Paradiz', textooo))"
     ],
     "language": "python",
     "metadata": {},
     "outputs": [
      {
       "metadata": {},
       "output_type": "display_data",
       "text": [
        "[1] \"ParadizParadizParadizo\" \"ParadizParadizParadiza\" \"ParadizParadizParadizu\"\n"
       ]
      }
     ],
     "prompt_number": 54
    },
    {
     "cell_type": "code",
     "collapsed": false,
     "input": [
      "%%R\n",
      "\n",
      "print(gsub('^(Hell){1,2}', 'Paradiz', textooo)) # notice that it found the longest possible match"
     ],
     "language": "python",
     "metadata": {},
     "outputs": [
      {
       "metadata": {},
       "output_type": "display_data",
       "text": [
        "[1] \"ParadizHello\" \"ParadizHella\" \"ParadizHellu\"\n"
       ]
      }
     ],
     "prompt_number": 70
    },
    {
     "cell_type": "code",
     "collapsed": false,
     "input": [
      "%%R\n",
      "\n",
      "print(grep('^(Hell){1,2}', textooo))\n",
      "# print(gregexpr('^(Hell){1,2}', textooo))\n",
      "print(sub('^(Hell){3}', '\\\\1', textooo))"
     ],
     "language": "python",
     "metadata": {},
     "outputs": [
      {
       "metadata": {},
       "output_type": "display_data",
       "text": [
        "[1] 1 2 3\n",
        "[1] \"Hello\" \"Hella\" \"Hellu\"\n"
       ]
      }
     ],
     "prompt_number": 80
    },
    {
     "cell_type": "code",
     "collapsed": false,
     "input": [
      "%%R\n",
      "\n",
      "x = list(name='Bob', SID='897839', gpa='5', major='ECON', year='junior')\n",
      "\n",
      "print(class(x))"
     ],
     "language": "python",
     "metadata": {},
     "outputs": [
      {
       "metadata": {},
       "output_type": "display_data",
       "text": [
        "[1] \"list\"\n"
       ]
      }
     ],
     "prompt_number": 82
    },
    {
     "cell_type": "code",
     "collapsed": false,
     "input": [
      "%%R\n",
      "\n",
      "class(x) = 'Student'\n",
      "print(class(x))"
     ],
     "language": "python",
     "metadata": {},
     "outputs": [
      {
       "metadata": {},
       "output_type": "display_data",
       "text": [
        "[1] \"Student\"\n"
       ]
      }
     ],
     "prompt_number": 83
    },
    {
     "cell_type": "code",
     "collapsed": false,
     "input": [
      "%%R\n",
      "\n",
      "Student = function(name, SID, gpa, major, year){\n",
      "                   object = list(name=name, SID=SID, gpa=gpa, major=major, year=year)\n",
      "                   class(object) = 'Student'\n",
      "                   return(object)\n",
      "                   }"
     ],
     "language": "python",
     "metadata": {},
     "outputs": [],
     "prompt_number": 129
    },
    {
     "cell_type": "code",
     "collapsed": false,
     "input": [
      "%%R\n",
      "\n",
      "print.Student = function(object){\n",
      "                        cat(object$name, object$SID, object$gpa, object$major, object$year)\n",
      "                        }\n",
      "\n",
      "Bob = Student(name='Bob', SID='234325', gpa='5', major='English', year='Junior')\n",
      "\n",
      "print(Bob)"
     ],
     "language": "python",
     "metadata": {},
     "outputs": [
      {
       "metadata": {},
       "output_type": "display_data",
       "text": [
        "Bob 234325 5 English Junior"
       ]
      }
     ],
     "prompt_number": 130
    },
    {
     "cell_type": "code",
     "collapsed": false,
     "input": [
      "%%R\n",
      "\n",
      "display.Student = function(object){\n",
      "                   cat(paste('\\n', object$name, '\\t', object$SID))\n",
      "                   }\n",
      "\n",
      "display = function(object){\n",
      "                  UseMethod('display', object)\n",
      "                   }\n",
      "\n"
     ],
     "language": "python",
     "metadata": {},
     "outputs": [],
     "prompt_number": 131
    },
    {
     "cell_type": "code",
     "collapsed": false,
     "input": [
      "%%R\n",
      "\n",
      "display(Bob)\n"
     ],
     "language": "python",
     "metadata": {},
     "outputs": [
      {
       "metadata": {},
       "output_type": "display_data",
       "text": [
        "\n",
        " Bob \t 234325"
       ]
      }
     ],
     "prompt_number": 132
    },
    {
     "cell_type": "code",
     "collapsed": false,
     "input": [
      "%%R\n",
      "\n",
      "Monkey = function(furType, height, forest){\n",
      "                    object = list(furType=furType, height=height, forest=forest)\n",
      "                    class(object) = 'Monkey'\n",
      "                    return(object)}\n"
     ],
     "language": "python",
     "metadata": {},
     "outputs": [],
     "prompt_number": 133
    },
    {
     "cell_type": "code",
     "collapsed": false,
     "input": [
      "%%R\n",
      "\n",
      "panda = Monkey(furType='large', height=50, forest='Amazon')"
     ],
     "language": "python",
     "metadata": {},
     "outputs": [],
     "prompt_number": 134
    },
    {
     "cell_type": "code",
     "collapsed": false,
     "input": [
      "%%R\n",
      "\n",
      "display.Monkey = function(object){\n",
      "                         str1 = paste('Type of Fur:', object$furType)\n",
      "                         str2 = paste('Height:', object$height)\n",
      "                         str3 = paste('Forest:', object$forest)\n",
      "                         cat('\\n', str1, '\\n', str2, '\\n', str3)}\n",
      "\n",
      "display = function(object){\n",
      "                   UseMethod('display', object)}\n"
     ],
     "language": "python",
     "metadata": {},
     "outputs": [],
     "prompt_number": 135
    },
    {
     "cell_type": "code",
     "collapsed": false,
     "input": [
      "%%R\n",
      "\n",
      "display(panda)"
     ],
     "language": "python",
     "metadata": {},
     "outputs": [
      {
       "metadata": {},
       "output_type": "display_data",
       "text": [
        "\n",
        " Type of Fur: large \n",
        " Height: 50 \n",
        " Forest: Amazon"
       ]
      }
     ],
     "prompt_number": 136
    },
    {
     "cell_type": "code",
     "collapsed": false,
     "input": [
      "%%R\n",
      "\n",
      "print(methods(class='Monkey'))\n",
      "print(methods(class='Student'))\n",
      "\n",
      "print(attributes(panda))\n",
      "print(attributes(Bob))"
     ],
     "language": "python",
     "metadata": {},
     "outputs": [
      {
       "metadata": {},
       "output_type": "display_data",
       "text": [
        "[1] display.Monkey\n",
        "[1] display.Student print.Student  \n",
        "$names\n",
        "[1] \"furType\" \"height\"  \"forest\" \n",
        "\n",
        "$class\n",
        "[1] \"Monkey\"\n",
        "\n",
        "$names\n",
        "[1] \"name\"  \"SID\"   \"gpa\"   \"major\" \"year\" \n",
        "\n",
        "$class\n",
        "[1] \"Student\"\n",
        "\n"
       ]
      }
     ],
     "prompt_number": 137
    },
    {
     "cell_type": "code",
     "collapsed": false,
     "input": [
      "%%R\n",
      "\n",
      "print(Bob$SID)"
     ],
     "language": "python",
     "metadata": {},
     "outputs": [
      {
       "metadata": {},
       "output_type": "display_data",
       "text": [
        "[1] \"234325\"\n"
       ]
      }
     ],
     "prompt_number": 138
    },
    {
     "cell_type": "code",
     "collapsed": false,
     "input": [
      "%%R\n",
      "\n",
      "print(Bob)\n",
      "display(Bob)"
     ],
     "language": "python",
     "metadata": {},
     "outputs": [
      {
       "metadata": {},
       "output_type": "display_data",
       "text": [
        "Bob 234325 5 English Junior\n",
        " Bob \t 234325"
       ]
      }
     ],
     "prompt_number": 139
    },
    {
     "cell_type": "code",
     "collapsed": false,
     "input": [
      "%%R\n",
      "\n",
      "print(?display.Student)"
     ],
     "language": "python",
     "metadata": {},
     "outputs": [
      {
       "metadata": {},
       "output_type": "display_data",
       "text": [
        "No documentation for \u2018display.Student\u2019 in specified packages and libraries:\n",
        "you could try \u2018??display.Student\u2019\n"
       ]
      }
     ],
     "prompt_number": 141
    },
    {
     "cell_type": "code",
     "collapsed": false,
     "input": [
      "%%R\n",
      "\n",
      "x = sample(100)\n",
      "y = sample(100)\n",
      "\n",
      "fit = lm(y~x)\n",
      "print(attributes(fit))\n",
      "print(methods(class='lm'))"
     ],
     "language": "python",
     "metadata": {},
     "outputs": [
      {
       "metadata": {},
       "output_type": "display_data",
       "text": [
        "$names\n",
        " [1] \"coefficients\"  \"residuals\"     \"effects\"       \"rank\"         \n",
        " [5] \"fitted.values\" \"assign\"        \"qr\"            \"df.residual\"  \n",
        " [9] \"xlevels\"       \"call\"          \"terms\"         \"model\"        \n",
        "\n",
        "$class\n",
        "[1] \"lm\"\n",
        "\n",
        " [1] add1.lm*           alias.lm*          anova.lm           case.names.lm*    \n",
        " [5] confint.lm*        cooks.distance.lm* deviance.lm*       dfbeta.lm*        \n",
        " [9] dfbetas.lm*        drop1.lm*          dummy.coef.lm*     effects.lm*       \n",
        "[13] extractAIC.lm*     family.lm*         formula.lm*        hatvalues.lm      \n",
        "[17] influence.lm*      kappa.lm           labels.lm*         logLik.lm*        \n",
        "[21] model.frame.lm     model.matrix.lm    nobs.lm*           plot.lm           \n",
        "[25] predict.lm         print.lm           proj.lm*           qr.lm*            \n",
        "[29] residuals.lm       rstandard.lm       rstudent.lm        simulate.lm*      \n",
        "[33] summary.lm         variable.names.lm* vcov.lm*          \n",
        "\n",
        "   Non-visible functions are asterisked\n"
       ]
      }
     ],
     "prompt_number": 149
    },
    {
     "cell_type": "code",
     "collapsed": false,
     "input": [
      "%%R\n",
      "\n",
      "plot(fit$model)"
     ],
     "language": "python",
     "metadata": {},
     "outputs": [
      {
       "metadata": {},
       "output_type": "display_data",
       "png": "[encoded data removed]"
      }
     ],
     "prompt_number": 147
    },
    {
     "cell_type": "code",
     "collapsed": false,
     "input": [],
     "language": "python",
     "metadata": {},
     "outputs": []
    }
   ],
   "metadata": {}
  }
 ]
}