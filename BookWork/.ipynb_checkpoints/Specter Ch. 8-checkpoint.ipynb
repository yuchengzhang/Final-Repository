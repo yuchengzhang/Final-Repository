{
 "metadata": {
  "name": ""
 },
 "nbformat": 3,
 "nbformat_minor": 0,
 "worksheets": [
  {
   "cells": [
    {
     "cell_type": "code",
     "collapsed": false,
     "input": [
      "%load_ext rmagic"
     ],
     "language": "python",
     "metadata": {},
     "outputs": [],
     "prompt_number": 1
    },
    {
     "cell_type": "markdown",
     "metadata": {},
     "source": [
      "XML documents always begin with:\n",
      "\n",
      "    <?xml .... ?>\n",
      "    \n",
      "Information is identified with tags, an indentifier surrounded by angle brackets, and every opening tag has a corresponding closing tag (unless there is a tag with no information use).\n",
      "\n",
      "    <coursename>\n",
      "       Stat 133\n",
      "    </coursename>\n",
      "    \n",
      "* tags are case sensitive, opening and closing tabs must match exactly\n",
      "* no spaces between opening angle bracket and the tag name\n",
      "* tag names must begin with a letter and can only contain letters and numbers\n",
      "* angle brackets will always be interpreted as parts of tags, to get literal angle brackets use:\n",
      "\n",
      "    <code>&lt</code>\n",
      "    <code>&gt</code>\n",
      "    \n",
      "* additional information can be stored in the form of attributes \n",
      "\n",
      "\n",
      "    <coursename department='Statistics'>\n",
      "        Stat 133\n",
      "    </coursename>\n",
      "    \n",
      "    <course>\n",
      "        <name>\n",
      "            Stat 133\n",
      "        </name>\n",
      "        <department>\n",
      "            Statistics\n",
      "        </department>\n",
      "    </course>\n",
      "\n",
      "* comments in XML documents begin with \n",
      "\n",
      "    <!-- \n",
      "    \n",
      "    and end with \n",
      "    \n",
      "    -->, and can appear anywhere in the document \n",
      "\n",
      "**IMPORTANT FUNCTIONS**\n",
      "\n",
      "    xmlTreeParse\n",
      "    xmlValue\n",
      "    xmlAttrs\n",
      "    xmlRoot\n",
      "    xmlSApply\n",
      "    xmlApply\n",
      "    xmlElementsByTagName (extracts nodes with those tags)\n",
      "    \n",
      "**YOU CAN ACCESS DOCUMENTATION TO A FUNCTION BY TYPING ?(function name)**\n"
     ]
    },
    {
     "cell_type": "code",
     "collapsed": false,
     "input": [
      "%%R\n",
      "\n",
      "install.packages('XML')"
     ],
     "language": "python",
     "metadata": {},
     "outputs": [
      {
       "metadata": {},
       "output_type": "display_data",
       "text": [
        "Installing package into \u2018/home/oski/R/x86_64-pc-linux-gnu-library/3.0\u2019\n",
        "(as \u2018lib\u2019 is unspecified)\n",
        "trying URL 'http://cran.stat.ucla.edu/src/contrib/XML_3.98-1.1.tar.gz'\n",
        "Content type 'application/x-tar' length 1582216 bytes (1.5 Mb)\n",
        "opened URL\n",
        "==================================================\n",
        "downloaded 1.5 Mb\n",
        "\n",
        "\n",
        "The downloaded source packages are in\n",
        "\t\u2018/tmp/RtmpIqLrWv/downloaded_packages\u2019\n"
       ]
      }
     ],
     "prompt_number": 76
    },
    {
     "cell_type": "code",
     "collapsed": false,
     "input": [
      "%%R\n",
      "\n",
      "library(XML)"
     ],
     "language": "python",
     "metadata": {},
     "outputs": [],
     "prompt_number": 67
    },
    {
     "cell_type": "code",
     "collapsed": false,
     "input": [
      "%%R\n",
      "\n",
      "url = 'http://www.stat.berkeley.edu/classes/s133/data/plant_catalog.xml'\n",
      "download.file(url, destfile='../BookWork/plant_catalog.xml')"
     ],
     "language": "python",
     "metadata": {},
     "outputs": [
      {
       "metadata": {},
       "output_type": "display_data",
       "text": [
        "trying URL 'http://www.stat.berkeley.edu/classes/s133/data/plant_catalog.xml'\n",
        "Content type 'application/xml' length 7581 bytes\n",
        "opened URL\n",
        "==================================================\n",
        "downloaded 7581 bytes\n",
        "\n"
       ]
      }
     ],
     "prompt_number": 20
    },
    {
     "cell_type": "code",
     "collapsed": false,
     "input": [
      "%%R\n",
      "\n",
      "doc = xmlTreeParse('plant_catalog.xml')\n",
      "\n",
      "# xmlTreeParse can read from local gzipped files, urls representing xml documents, or gzipped xml documents\n",
      "\n",
      "root = xmlRoot(doc) # this is a list"
     ],
     "language": "python",
     "metadata": {},
     "outputs": [],
     "prompt_number": 32
    },
    {
     "cell_type": "code",
     "collapsed": false,
     "input": [
      "%%R\n",
      "\n",
      "print(class(root))\n",
      "print(table(names(root)))"
     ],
     "language": "python",
     "metadata": {},
     "outputs": [
      {
       "metadata": {},
       "output_type": "display_data",
       "text": [
        "[1] \"XMLNode\"          \"RXMLAbstractNode\" \"XMLAbstractNode\"  \"oldClass\"        \n",
        "\n",
        "PLANT \n",
        "   36 \n"
       ]
      }
     ],
     "prompt_number": 33
    },
    {
     "cell_type": "code",
     "collapsed": false,
     "input": [
      "%%R\n",
      "\n",
      "oneplant = root[[1]]\n",
      "print(class(oneplant))\n",
      "print(oneplant)"
     ],
     "language": "python",
     "metadata": {},
     "outputs": [
      {
       "metadata": {},
       "output_type": "display_data",
       "text": [
        "[1] \"XMLNode\"          \"RXMLAbstractNode\" \"XMLAbstractNode\"  \"oldClass\"        \n",
        "<PLANT>\n",
        " <COMMON>Bloodroot</COMMON>\n",
        " <BOTANICAL>Sanguinaria canadensis</BOTANICAL>\n",
        " <ZONE>4</ZONE>\n",
        " <LIGHT>Mostly Shady</LIGHT>\n",
        " <PRICE>$2.44</PRICE>\n",
        " <AVAILABILITY>031599</AVAILABILITY>\n",
        "</PLANT>\n"
       ]
      }
     ],
     "prompt_number": 35
    },
    {
     "cell_type": "code",
     "collapsed": false,
     "input": [
      "%%R\n",
      "\n",
      "print(xmlValue(oneplant[['COMMON']]))\n",
      "print(xmlValue(oneplant[['BOTANICAL']]))"
     ],
     "language": "python",
     "metadata": {},
     "outputs": [
      {
       "metadata": {},
       "output_type": "display_data",
       "text": [
        "[1] \"Bloodroot\"\n",
        "[1] \"Sanguinaria canadensis\"\n"
       ]
      }
     ],
     "prompt_number": 39
    },
    {
     "cell_type": "code",
     "collapsed": false,
     "input": [
      "%%R\n",
      "\n",
      "# use xmlSApply on xml nodes\n",
      "\n",
      "commons = xmlSApply(root, function(x){return(xmlValue(x[['COMMON']]))})\n",
      "print(head(commons))"
     ],
     "language": "python",
     "metadata": {},
     "outputs": [
      {
       "metadata": {},
       "output_type": "display_data",
       "text": [
        "                PLANT                 PLANT                 PLANT \n",
        "          \"Bloodroot\"           \"Columbine\"      \"Marsh Marigold\" \n",
        "                PLANT                 PLANT                 PLANT \n",
        "            \"Cowslip\" \"Dutchman's-Breeches\"        \"Ginger, Wild\" \n"
       ]
      }
     ],
     "prompt_number": 51
    },
    {
     "cell_type": "code",
     "collapsed": false,
     "input": [
      "%%R\n",
      "\n",
      "getVar = function(x, var){return(xmlValue(x[[var]]))}\n",
      "res = lapply(names(root[[1]]), function(var){return(xmlSApply(root, getVar, var))})\n",
      "plants = data.frame(res)\n",
      "\n",
      "print(head(plants))"
     ],
     "language": "python",
     "metadata": {},
     "outputs": [
      {
       "metadata": {},
       "output_type": "display_data",
       "text": [
        "               COMMON              BOTANICAL ZONE        LIGHT PRICE\n",
        "1           Bloodroot Sanguinaria canadensis    4 Mostly Shady $2.44\n",
        "2           Columbine   Aquilegia canadensis    3 Mostly Shady $9.37\n",
        "3      Marsh Marigold       Caltha palustris    4 Mostly Sunny $6.81\n",
        "4             Cowslip       Caltha palustris    4 Mostly Shady $9.90\n",
        "5 Dutchman's-Breeches    Dicentra cucullaria    3 Mostly Shady $6.44\n",
        "6        Ginger, Wild       Asarum canadense    3 Mostly Shady $9.03\n",
        "  AVAILABILITY\n",
        "1       031599\n",
        "2       030699\n",
        "3       051799\n",
        "4       030699\n",
        "5       012099\n",
        "6       041899\n"
       ]
      }
     ],
     "prompt_number": 54
    },
    {
     "cell_type": "code",
     "collapsed": false,
     "input": [
      "%%R\n",
      "\n",
      "doc = xmlTreeParse('http://www.stat.berkeley.edu/classes/s133/data/counties.gml')\n",
      "root = xmlRoot(doc)\n",
      "\n",
      "print(table(names(root)))"
     ],
     "language": "python",
     "metadata": {},
     "outputs": [
      {
       "metadata": {},
       "output_type": "display_data",
       "text": [
        "\n",
        "state \n",
        "   51 \n"
       ]
      }
     ],
     "prompt_number": 58
    },
    {
     "cell_type": "code",
     "collapsed": false,
     "input": [
      "%%R\n",
      "\n",
      "onestate = root[[1]]\n",
      "print(class(onestate))\n",
      "\n",
      "print(table(names(onestate)))"
     ],
     "language": "python",
     "metadata": {},
     "outputs": [
      {
       "metadata": {},
       "output_type": "display_data",
       "text": [
        "[1] \"XMLNode\"          \"RXMLAbstractNode\" \"XMLAbstractNode\"  \"oldClass\"        \n",
        "\n",
        "county   name \n",
        "    67      1 \n"
       ]
      }
     ],
     "prompt_number": 69
    },
    {
     "cell_type": "code",
     "collapsed": false,
     "input": [
      "%%R\n",
      "\n",
      "states = xmlSApply(root, function(x){return(xmlValue(x[['name']]))})\n",
      "stateabbs = xmlSApply(root, function(x){return(xmlAttrs(x[['name']]))}) \n",
      "\n",
      "# use xmlSApply when only one attribute (returns a vector)\n",
      "# use xmlApply when multiple attributes (returns a list so preserves structure of the data)\n",
      "\n",
      "print(head(states))\n",
      "print(head(stateabbs))"
     ],
     "language": "python",
     "metadata": {},
     "outputs": [
      {
       "metadata": {},
       "output_type": "display_data",
       "text": [
        "       state        state        state        state        state        state \n",
        "   \"ALABAMA\"     \"ALASKA\"    \"ARIZONA\"   \"ARKANSAS\" \"CALIFORNIA\"   \"COLORADO\" \n",
        "state.abbreviation state.abbreviation state.abbreviation state.abbreviation \n",
        "              \"AL\"               \"AK\"               \"AZ\"               \"AR\" \n",
        "state.abbreviation state.abbreviation \n",
        "              \"CA\"               \"CO\" \n"
       ]
      }
     ],
     "prompt_number": 75
    },
    {
     "cell_type": "code",
     "collapsed": false,
     "input": [
      "%%R\n",
      "\n",
      "counties = xmlElementsByTagName(onestate, \"county\")\n",
      "\n",
      "print(class(counties))\n",
      "print(length(counties))"
     ],
     "language": "python",
     "metadata": {},
     "outputs": [
      {
       "metadata": {},
       "output_type": "display_data",
       "text": [
        "[1] \"list\"\n",
        "[1] 67\n"
       ]
      }
     ],
     "prompt_number": 78
    },
    {
     "cell_type": "code",
     "collapsed": false,
     "input": [
      "%%R\n",
      "\n",
      "onecounty = counties[[1]]\n",
      "print(class(onecounty))\n",
      "print(names(onecounty))\n",
      "\n",
      "print(onecounty)"
     ],
     "language": "python",
     "metadata": {},
     "outputs": [
      {
       "metadata": {},
       "output_type": "display_data",
       "text": [
        "[1] \"XMLNode\"          \"RXMLAbstractNode\" \"XMLAbstractNode\"  \"oldClass\"        \n",
        "      name   location \n",
        "    \"name\" \"location\" \n",
        "<county>\n",
        " <gml:name>Autauga County</gml:name>\n",
        " <gml:location>\n",
        "  <gml:coord>\n",
        "   <gml:X>-86641472</gml:X>\n",
        "   <gml:Y>32542207</gml:Y>\n",
        "  </gml:coord>\n",
        " </gml:location>\n",
        "</county>\n"
       ]
      }
     ],
     "prompt_number": 81
    },
    {
     "cell_type": "code",
     "collapsed": false,
     "input": [
      "%%R\n",
      "\n",
      "coords = lapply(counties, function(x){return(xmlElementsByTagName(x[['location']], 'coord')[[1]])})\n",
      "print(class(coords))\n",
      "\n",
      "print(coords[[1]])"
     ],
     "language": "python",
     "metadata": {},
     "outputs": [
      {
       "metadata": {},
       "output_type": "display_data",
       "text": [
        "[1] \"list\"\n",
        "<gml:coord>\n",
        " <gml:X>-86641472</gml:X>\n",
        " <gml:Y>32542207</gml:Y>\n",
        "</gml:coord>\n"
       ]
      }
     ],
     "prompt_number": 88
    },
    {
     "cell_type": "code",
     "collapsed": false,
     "input": [
      "%%R\n",
      "\n",
      "x = as.numeric(sapply(coords, function(x){return(xmlValue(x[['X']]))}))\n",
      "y = as.numeric(sapply(coords, function(x){return(xmlValue(x[['Y']]))}))\n",
      "\n",
      "print(head(x))\n",
      "print(head(y))"
     ],
     "language": "python",
     "metadata": {},
     "outputs": [
      {
       "metadata": {},
       "output_type": "display_data",
       "text": [
        "[1] -86641472 -87754736 -85388993 -87126855 -86566214 -85717786\n",
        "[1] 32542207 30654881 31863073 32996943 33979740 32101773\n"
       ]
      }
     ],
     "prompt_number": 154
    },
    {
     "cell_type": "code",
     "collapsed": false,
     "input": [
      "%%R\n",
      "\n",
      "onestate = function(state){\n",
      "                       counties = xmlElementsByTagName(state,'county')\n",
      "                       countynames = sapply(counties,function(x){return(xmlValue(x[['name']]))})\n",
      "                       coords = lapply(counties,function(x){return(xmlElementsByTagName(x[['location']],'coord')[[1]])})\n",
      "                       x = as.numeric(sapply(coords, function(x){return(xmlValue(x[['X']]))}))\n",
      "                       y = as.numeric(sapply(coords, function(x){return(xmlValue(x[['Y']]))}))\n",
      "                       return(data.frame(county=countynames,x=x,y=y))\n",
      "                       }\n"
     ],
     "language": "python",
     "metadata": {},
     "outputs": [],
     "prompt_number": 180
    },
    {
     "cell_type": "code",
     "collapsed": false,
     "input": [
      "%%R\n",
      "\n",
      "state_county = xmlApply(root, onestate)\n",
      "names(state_county) = xmlSApply(root, function(x){return(xmlValue(x[['name']]))})\n",
      "\n",
      "print(head(state_county))"
     ],
     "language": "python",
     "metadata": {},
     "outputs": [
      {
       "metadata": {},
       "output_type": "display_data",
       "text": [
        "$ALABAMA\n",
        "              county         x        y\n",
        "1     Autauga County -86641472 32542207\n",
        "2     Baldwin County -87754736 30654881\n",
        "3     Barbour County -85388993 31863073\n",
        "4        Bibb County -87126855 32996943\n",
        "5      Blount County -86566214 33979740\n",
        "6     Bullock County -85717786 32101773\n",
        "7      Butler County -86682302 31751982\n",
        "8     Calhoun County -85825619 33774548\n",
        "9    Chambers County -85389802 32915184\n",
        "10   Cherokee County -85605750 34187088\n",
        "11    Chilton County -86718688 32844987\n",
        "12    Choctaw County -88265781 32024863\n",
        "13     Clarke County -87835981 31677523\n",
        "14       Clay County -85859858 33268721\n",
        "15   Cleburne County -85517385 33670870\n",
        "16     Coffee County -85989130 31402888\n",
        "17    Colbert County -87796569 34707296\n",
        "18    Conecuh County -86992999 31428183\n",
        "19      Coosa County -86239249 32935503\n",
        "20  Covington County -86453162 31248133\n",
        "21   Crenshaw County -86311599 31731354\n",
        "22    Cullman County -86866896 34131670\n",
        "23       Dale County -85612338 31426115\n",
        "24     Dallas County -87109517 32329593\n",
        "25     DeKalb County -85798731 34459830\n",
        "26     Elmore County -86138157 32599910\n",
        "27   Escambia County -87162695 31136909\n",
        "28     Etowah County -86038250 34047533\n",
        "29    Fayette County -87735378 33729772\n",
        "30   Franklin County -87843648 34435932\n",
        "31     Geneva County -85837337 31094395\n",
        "32     Greene County -87951231 32854779\n",
        "33       Hale County -87625424 32755765\n",
        "34      Henry County -85239835 31516095\n",
        "35    Houston County -85304578 31151186\n",
        "36    Jackson County -86002129 34776174\n",
        "37  Jefferson County -86896716 33552433\n",
        "38      Lamar County -88096415 33775081\n",
        "39 Lauderdale County -87647581 34903733\n",
        "40   Lawrence County -87310217 34519990\n",
        "41        Lee County -85355886 32597367\n",
        "42  Limestone County -86981426 34810321\n",
        "43    Lowndes County -86642632 32157500\n",
        "44      Macon County -85692573 32384887\n",
        "45    Madison County -86548777 34760002\n",
        "46    Marengo County -87790375 32248548\n",
        "47     Marion County -87886567 34134472\n",
        "48   Marshall County -86313058 34365158\n",
        "49     Mobile County -88198527 30684350\n",
        "50     Monroe County -87353102 31562730\n",
        "51 Montgomery County -86203795 32224349\n",
        "52     Morgan County -86857298 34453298\n",
        "53      Perry County -87293685 32638846\n",
        "54    Pickens County -88084083 33283797\n",
        "55       Pike County -85938912 31806086\n",
        "56   Randolph County -85456433 33290802\n",
        "57    Russell County -85184114 32287341\n",
        "58  St. Clair County -86318306 33712571\n",
        "59     Shelby County -86654667 33266792\n",
        "60     Sumter County -88193795 32593446\n",
        "61  Talladega County -86169488 33383988\n",
        "62 Tallapoosa County -85797597 32860832\n",
        "63 Tuscaloosa County -87523765 33287940\n",
        "64     Walker County -87295532 33807130\n",
        "65 Washington County -88202751 31402696\n",
        "66     Wilcox County -87308887 31990903\n",
        "67    Winston County -87373481 34154535\n",
        "\n",
        "$ALASKA\n",
        "                                        county          x        y\n",
        "1                       Aleutians East Borough -161915191 55229183\n",
        "2                   Aleutians West Census Area -175129755 52242645\n",
        "3                            Anchorage Borough -149186416 61178368\n",
        "4                           Bethel Census Area -160147317 60939161\n",
        "5                          Bristol Bay Borough -156988097 58744623\n",
        "6                       Dillingham Census Area -158429855 59949649\n",
        "7                 Fairbanks North Star Borough -146643388 64846315\n",
        "8                               Haines Borough -135443717 59155973\n",
        "9                               Juneau Borough -134133421 58388588\n",
        "10                     Kenai Peninsula Borough -151629576 60202478\n",
        "11                   Ketchikan Gateway Borough -131408008 55541150\n",
        "12                       Kodiak Island Borough -153782518 57707368\n",
        "13                  Lake and Peninsula Borough -156184669 58401493\n",
        "14                   Matanuska-Susitna Borough -149575328 62395317\n",
        "15                            Nome Census Area -164186608 64735328\n",
        "16                         North Slope Borough -153448095 69296886\n",
        "17                    Northwest Arctic Borough -159998166 67000678\n",
        "18 Prince of Wales-Outer Ketchikan Census Area -132050372 55454038\n",
        "19                               Sitka Borough -135446833 57214050\n",
        "20          Skagway-Yakutat-Angoon Census Area -136622061 58811136\n",
        "21             Southeast Fairbanks Census Area -143598085 63765233\n",
        "22                  Valdez-Cordova Census Area -144503102 61400254\n",
        "23                    Wade Hampton Census Area -163529421 62087611\n",
        "24             Wrangell-Petersburg Census Area -132961816 56518015\n",
        "25                   Yukon-Koyukuk Census Area -151646937 65285776\n",
        "\n",
        "$ARIZONA\n",
        "              county          x        y\n",
        "1      Apache County -109488456 35383620\n",
        "2     Cochise County -109736956 31890821\n",
        "3    Coconino County -111768163 35835573\n",
        "4        Gila County -110818155 33797288\n",
        "5      Graham County -109891347 32936517\n",
        "6    Greenlee County -109232988 33185081\n",
        "7      La Paz County -113979016 33727923\n",
        "8    Maricopa County -112490919 33342656\n",
        "9      Mohave County -113753337 35708232\n",
        "10     Navajo County -110319661 35387551\n",
        "11       Pima County -111814821 32103960\n",
        "12      Pinal County -111346897 32909084\n",
        "13 Santa Cruz County -110836469 31523864\n",
        "14    Yavapai County -112554041 34595236\n",
        "15       Yuma County -113897214 32764761\n",
        "\n",
        "$ARKANSAS\n",
        "                county         x        y\n",
        "1      Arkansas County -91376344 34288872\n",
        "2        Ashley County -91772262 33190783\n",
        "3        Baxter County -92339841 36286225\n",
        "4        Benton County -94257842 36337987\n",
        "5         Boone County -93092833 36313592\n",
        "6       Bradley County -92168367 33463242\n",
        "7       Calhoun County -92497141 33554153\n",
        "8       Carroll County -93541961 36337153\n",
        "9        Chicot County -91297700 33266340\n",
        "10        Clark County -93176507 34053832\n",
        "11         Clay County -90421474 36376360\n",
        "12     Cleburne County -92028995 35542425\n",
        "13    Cleveland County -92187914 33894438\n",
        "14     Columbia County -93226530 33215092\n",
        "15       Conway County -92695052 35263495\n",
        "16    Craighead County -90631882 35828124\n",
        "17     Crawford County -94246370 35579452\n",
        "18   Crittenden County -90314064 35212638\n",
        "19        Cross County -90771434 35300011\n",
        "20       Dallas County -92657033 33966853\n",
        "21        Desha County -91259304 33831260\n",
        "22         Drew County -91716904 33589683\n",
        "23     Faulkner County -92335289 35147169\n",
        "24     Franklin County -93891926 35512250\n",
        "25       Fulton County -91818910 36383112\n",
        "26      Garland County -93153957 34573320\n",
        "27        Grant County -92423425 34287458\n",
        "28       Greene County -90562264 36119053\n",
        "29    Hempstead County -93664959 33731300\n",
        "30   Hot Spring County -92945112 34320144\n",
        "31       Howard County -93989511 34089827\n",
        "32 Independence County -91566218 35744099\n",
        "33        Izard County -91911006 36094609\n",
        "34      Jackson County -91213910 35600258\n",
        "35    Jefferson County -91929077 34269210\n",
        "36      Johnson County -93461165 35569018\n",
        "37    Lafayette County -93610593 33235524\n",
        "38     Lawrence County -91114974 36043049\n",
        "39          Lee County -90780318 34779637\n",
        "40      Lincoln County -91733936 33953221\n",
        "41 Little River County -94235637 33700236\n",
        "42        Logan County -93712628 35215114\n",
        "43       Lonoke County -91853009 34740315\n",
        "44      Madison County -93723070 36012240\n",
        "45       Marion County -92679917 36262962\n",
        "46       Miller County -93880562 33311498\n",
        "47  Mississippi County -90054475 35764082\n",
        "48       Monroe County -91203053 34680279\n",
        "49   Montgomery County -93660190 34545966\n",
        "50       Nevada County -93302881 33666725\n",
        "51       Newton County -93223087 35917735\n",
        "52     Ouachita County -92879263 33591134\n",
        "53        Perry County -92934055 34946973\n",
        "54     Phillips County -90852019 34425633\n",
        "55         Pike County -93654743 34166363\n",
        "56     Poinsett County -90663212 35577391\n",
        "57         Polk County -94224002 34474769\n",
        "58         Pope County -93035762 35446432\n",
        "59      Prairie County -91557246 34827607\n",
        "60      Pulaski County -92310815 34770100\n",
        "61     Randolph County -91028073 36342062\n",
        "62  St. Francis County -90747325 35021644\n",
        "63       Saline County -92674589 34648426\n",
        "64        Scott County -94063491 34858644\n",
        "65       Searcy County -92703260 35917529\n",
        "66    Sebastian County -94275394 35199151\n",
        "67       Sevier County -94237697 33998508\n",
        "68        Sharp County -91481513 36153912\n",
        "69        Stone County -92153495 35862902\n",
        "70        Union County -92594441 33170291\n",
        "71    Van Buren County -92519040 35581189\n",
        "72   Washington County -94214352 35985741\n",
        "73        White County -91745790 35254806\n",
        "74     Woodruff County -91241026 35187551\n",
        "75         Yell County -93406902 34997776\n",
        "\n",
        "$CALIFORNIA\n",
        "                   county          x        y\n",
        "1          Alameda County -121913948 37653853\n",
        "2           Alpine County -119804453 38579180\n",
        "3           Amador County -120655265 38444419\n",
        "4            Butte County -121596065 39662375\n",
        "5        Calaveras County -120551793 38207542\n",
        "6           Colusa County -122235120 39176482\n",
        "7     Contra Costa County -121948700 37933350\n",
        "8        Del Norte County -123956960 41737320\n",
        "9        El Dorado County -120527585 38775488\n",
        "10          Fresno County -119647934 36753992\n",
        "11           Glenn County -122391742 39594777\n",
        "12        Humboldt County -123911969 40700416\n",
        "13        Imperial County -115352917 33038512\n",
        "14            Inyo County -117483183 36589328\n",
        "15            Kern County -118724910 35338498\n",
        "16           Kings County -119814766 36072642\n",
        "17            Lake County -122762036 39090857\n",
        "18          Lassen County -120577604 40652341\n",
        "19     Los Angeles County -118261988 34184667\n",
        "20          Madera County -119765135 37219685\n",
        "21           Marin County -122743465 38035300\n",
        "22        Mariposa County -119909601 37578193\n",
        "23       Mendocino County -123431626 39431152\n",
        "24          Merced County -120711131 37189464\n",
        "25           Modoc County -120718555 41595361\n",
        "26            Mono County -118873970 37910550\n",
        "27        Monterey County -121310622 36239310\n",
        "28            Napa County -122323151 38502833\n",
        "29          Nevada County -120766234 39304003\n",
        "30          Orange County -117777399 33674967\n",
        "31          Placer County -120727661 39064980\n",
        "32          Plumas County -120834136 40010792\n",
        "33       Riverside County -115977297 33727917\n",
        "34      Sacramento County -121349033 38445368\n",
        "35      San Benito County -121084212 36611964\n",
        "36  San Bernardino County -116191349 34828251\n",
        "37       San Diego County -116771868 33020561\n",
        "38   San Francisco County -122554783 37793250\n",
        "39     San Joaquin County -121270600 37932561\n",
        "40 San Luis Obispo County -120445529 35381635\n",
        "41       San Mateo County -122356471 37436567\n",
        "42   Santa Barbara County -120025949 34536645\n",
        "43     Santa Clara County -121686315 37232600\n",
        "44      Santa Cruz County -122007235 37025900\n",
        "45          Shasta County -122038133 40760008\n",
        "46          Sierra County -120499150 39590741\n",
        "47        Siskiyou County -122533064 41589207\n",
        "48          Solano County -121938347 38267400\n",
        "49          Sonoma County -122928697 38512470\n",
        "50      Stanislaus County -120993750 37562401\n",
        "51          Sutter County -121689128 39039974\n",
        "52          Tehama County -122233448 40129251\n",
        "53         Trinity County -123118229 40657296\n",
        "54          Tulare County -118796611 36227815\n",
        "55        Tuolumne County -119944921 38018666\n",
        "56         Ventura County -119146228 34356248\n",
        "57            Yolo County -121882611 38701200\n",
        "58            Yuba County -121352619 39270692\n",
        "\n",
        "$COLORADO\n",
        "               county          x        y\n",
        "1        Adams County -104350313 39870594\n",
        "2      Alamosa County -105784847 37571634\n",
        "3     Arapahoe County -104331552 39644335\n",
        "4    Archuleta County -107052349 37186710\n",
        "5         Baca County -102556991 37320937\n",
        "6         Bent County -103076652 37954862\n",
        "7      Boulder County -105357295 40088471\n",
        "8      Chaffee County -106175994 38737034\n",
        "9     Cheyenne County -102587596 38820224\n",
        "10 Clear Creek County -105635856 39687705\n",
        "11     Conejos County -106194112 37206085\n",
        "12    Costilla County -105427953 37276261\n",
        "13     Crowley County -103785398 38327049\n",
        "14      Custer County -105360548 38092794\n",
        "15       Delta County -107861186 38862219\n",
        "16      Denver County -104872655 39768035\n",
        "17     Dolores County -108521796 37754722\n",
        "18     Douglas County -104930454 39346424\n",
        "19       Eagle County -106703546 39624387\n",
        "20      Elbert County -104128464 39282065\n",
        "21     El Paso County -104521087 38837901\n",
        "22     Fremont County -105437970 38476215\n",
        "23    Garfield County -107896925 39603247\n",
        "24      Gilpin County -105519522 39858816\n",
        "25       Grand County -106118050 40101500\n",
        "26    Gunnison County -107013567 38668937\n",
        "27    Hinsdale County -107279829 37821179\n",
        "28    Huerfano County -104958585 37686839\n",
        "29     Jackson County -106338973 40662438\n",
        "30   Jefferson County -105246813 39587467\n",
        "31       Kiowa County -102740735 38433599\n",
        "32  Kit Carson County -102602452 39305339\n",
        "33        Lake County -106358091 39189931\n",
        "34    La Plata County -107846076 37285784\n",
        "35     Larimer County -105456325 40648764\n",
        "36  Las Animas County -104043298 37320189\n",
        "37     Lincoln County -103523258 38978727\n",
        "38       Logan County -103105037 40729106\n",
        "39        Mesa County -108468152 39021885\n",
        "40     Mineral County -106926879 37692655\n",
        "41      Moffat County -108202444 40608316\n",
        "42   Montezuma County -108595519 37335739\n",
        "43    Montrose County -108269076 38405803\n",
        "44      Morgan County -103807282 40263386\n",
        "45       Otero County -103711148 37895624\n",
        "46       Ouray County -107765790 38156773\n",
        "47        Park County -105713562 39116743\n",
        "48    Phillips County -102348564 40593813\n",
        "49      Pitkin County -106921365 39220673\n",
        "50     Prowers County -102395291 37955682\n",
        "51      Pueblo County -104506384 38152996\n",
        "52  Rio Blanco County -108199107 39975262\n",
        "53  Rio Grande County -106388011 37606496\n",
        "54       Routt County -106987384 40484190\n",
        "55    Saguache County -106298793 38079466\n",
        "56    San Juan County -107667201 37770293\n",
        "57  San Miguel County -108426142 38013248\n",
        "58    Sedgwick County -102352967 40877059\n",
        "59      Summit County -106107845 39618528\n",
        "60      Teller County -105154213 38881039\n",
        "61  Washington County -103200802 39975530\n",
        "62        Weld County -104403026 40544755\n",
        "63        Yuma County -102422375 40000314\n",
        "\n"
       ]
      }
     ],
     "prompt_number": 181
    },
    {
     "cell_type": "code",
     "collapsed": false,
     "input": [
      "%%R\n",
      "\n",
      "doc = xmlTreeParse('http://www.weather.gov/data/current_obs/KOAK.xml')\n",
      "root = xmlRoot(doc)"
     ],
     "language": "python",
     "metadata": {},
     "outputs": [],
     "prompt_number": 182
    },
    {
     "cell_type": "code",
     "collapsed": false,
     "input": [
      "%%R\n",
      "\n",
      "print(names(root))\n",
      "\n",
      "# so basically all information is in the root node"
     ],
     "language": "python",
     "metadata": {},
     "outputs": [
      {
       "metadata": {},
       "output_type": "display_data",
       "text": [
        "                   credit                credit_URL                     image \n",
        "                 \"credit\"              \"credit_URL\"                   \"image\" \n",
        "         suggested_pickup   suggested_pickup_period                  location \n",
        "       \"suggested_pickup\" \"suggested_pickup_period\"                \"location\" \n",
        "               station_id                  latitude                 longitude \n",
        "             \"station_id\"                \"latitude\"               \"longitude\" \n",
        "         observation_time   observation_time_rfc822                   weather \n",
        "       \"observation_time\" \"observation_time_rfc822\"                 \"weather\" \n",
        "       temperature_string                    temp_f                    temp_c \n",
        "     \"temperature_string\"                  \"temp_f\"                  \"temp_c\" \n",
        "        relative_humidity               wind_string                  wind_dir \n",
        "      \"relative_humidity\"             \"wind_string\"                \"wind_dir\" \n",
        "             wind_degrees                  wind_mph                   wind_kt \n",
        "           \"wind_degrees\"                \"wind_mph\"                 \"wind_kt\" \n",
        "          pressure_string               pressure_mb               pressure_in \n",
        "        \"pressure_string\"             \"pressure_mb\"             \"pressure_in\" \n",
        "          dewpoint_string                dewpoint_f                dewpoint_c \n",
        "        \"dewpoint_string\"              \"dewpoint_f\"              \"dewpoint_c\" \n",
        "        heat_index_string              heat_index_f              heat_index_c \n",
        "      \"heat_index_string\"            \"heat_index_f\"            \"heat_index_c\" \n",
        "            visibility_mi             icon_url_base       two_day_history_url \n",
        "          \"visibility_mi\"           \"icon_url_base\"     \"two_day_history_url\" \n",
        "            icon_url_name                    ob_url            disclaimer_url \n",
        "          \"icon_url_name\"                  \"ob_url\"          \"disclaimer_url\" \n",
        "            copyright_url        privacy_policy_url \n",
        "          \"copyright_url\"      \"privacy_policy_url\" \n"
       ]
      }
     ],
     "prompt_number": 184
    },
    {
     "cell_type": "code",
     "collapsed": false,
     "input": [
      "%%R\n",
      "\n",
      "print(xmlValue(root[['temp_f']]))\n",
      "print(xmlValue(root[['wind_mph']]))"
     ],
     "language": "python",
     "metadata": {},
     "outputs": [
      {
       "metadata": {},
       "output_type": "display_data",
       "text": [
        "[1] \"85.0\"\n",
        "[1] \"6.9\"\n"
       ]
      }
     ],
     "prompt_number": 191
    },
    {
     "cell_type": "code",
     "collapsed": false,
     "input": [
      "%%R\n",
      "\n",
      "getweather = function(loc='KOAK', vars='temp_f'){\n",
      "              require(XML)\n",
      "              url = paste('http://www.weather.gov/data/current_obs/', loc, '.xml', sep='')\n",
      "              root = xmlRoot(xmlTreeParse(url))\n",
      "              vals = sapply(vars, function(x){return(xmlValue(root[[x]]))})\n",
      "              return(vals)\n",
      "    }"
     ],
     "language": "python",
     "metadata": {},
     "outputs": [],
     "prompt_number": 199
    },
    {
     "cell_type": "code",
     "collapsed": false,
     "input": [
      "%%R\n",
      "\n",
      "print(getweather())"
     ],
     "language": "python",
     "metadata": {},
     "outputs": [
      {
       "metadata": {},
       "output_type": "display_data",
       "text": [
        "temp_f \n",
        "\"85.0\" \n"
       ]
      }
     ],
     "prompt_number": 201
    },
    {
     "cell_type": "code",
     "collapsed": false,
     "input": [
      "%%R\n",
      "\n",
      "result = sapply(c('KOAK', 'KACV', 'KSDM'), getweather, var=c('temp_f', 'wind_mph', 'wind_dir'))\n",
      "print(t(data.frame(result)))"
     ],
     "language": "python",
     "metadata": {},
     "outputs": [
      {
       "metadata": {},
       "output_type": "display_data",
       "text": [
        "     temp_f wind_mph wind_dir   \n",
        "KOAK \"85.0\" \"6.9\"    \"Northwest\"\n",
        "KACV \"76.0\" \"3.5\"    \"Southwest\"\n",
        "KSDM \"86.0\" \"10.4\"   \"Northeast\"\n"
       ]
      }
     ],
     "prompt_number": 210
    },
    {
     "cell_type": "code",
     "collapsed": false,
     "input": [
      "%%R\n",
      "\n",
      "print(result)"
     ],
     "language": "python",
     "metadata": {},
     "outputs": [
      {
       "metadata": {},
       "output_type": "display_data",
       "text": [
        "         KOAK        KACV        KSDM       \n",
        "temp_f   \"85.0\"      \"76.0\"      \"86.0\"     \n",
        "wind_mph \"6.9\"       \"3.5\"       \"10.4\"     \n",
        "wind_dir \"Northwest\" \"Southwest\" \"Northeast\"\n"
       ]
      }
     ],
     "prompt_number": 206
    },
    {
     "cell_type": "code",
     "collapsed": false,
     "input": [
      "%%R\n",
      "\n",
      "print(as.POSIXct(getweather('KOAK', 'observation_time_rfc822'), format='%a, %d %b %Y %H:%M:%S'))"
     ],
     "language": "python",
     "metadata": {},
     "outputs": [
      {
       "metadata": {},
       "output_type": "display_data",
       "text": [
        "  observation_time_rfc822 \n",
        "\"2014-04-30 18:53:00 PDT\" \n"
       ]
      }
     ],
     "prompt_number": 214
    },
    {
     "cell_type": "code",
     "collapsed": false,
     "input": [],
     "language": "python",
     "metadata": {},
     "outputs": []
    }
   ],
   "metadata": {}
  }
 ]
}