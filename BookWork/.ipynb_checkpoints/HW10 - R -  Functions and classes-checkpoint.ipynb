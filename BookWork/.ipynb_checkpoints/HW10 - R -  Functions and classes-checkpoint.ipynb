{
 "metadata": {
  "name": ""
 },
 "nbformat": 3,
 "nbformat_minor": 0,
 "worksheets": [
  {
   "cells": [
    {
     "cell_type": "heading",
     "level": 1,
     "metadata": {},
     "source": [
      "Homework 10 - R - Functions and classes"
     ]
    },
    {
     "cell_type": "code",
     "collapsed": false,
     "input": [
      "%load_ext rmagic"
     ],
     "language": "python",
     "metadata": {
      "slideshow": {
       "slide_type": "fragment"
      }
     },
     "outputs": [
      {
       "output_type": "stream",
       "stream": "stdout",
       "text": [
        "The rmagic extension is already loaded. To reload it, use:\n",
        "  %reload_ext rmagic\n"
       ]
      }
     ],
     "prompt_number": 47
    },
    {
     "cell_type": "markdown",
     "metadata": {},
     "source": [
      "**Exercise 1**\n",
      "\n",
      "Write three functions with names <code>tmpFn1(x)</code>, <code>tmpFn2(x)</code>, and <code>tmpFn3(x,n)</code> such that if $x$ is the vector $x=(x_1,\\dots, x_n)$, then \n",
      "\n",
      "* <code>tmpFn1(x)</code> returns the vector $(x_1, x_2^2, \\dots, x_n^n)$\n"
     ]
    },
    {
     "cell_type": "code",
     "collapsed": false,
     "input": [
      "%%R \n",
      "\n",
      "x = rep(2, 10)\n",
      "\n",
      "tmpFn1 = function(x){\n",
      "                  n = 1:length(x)\n",
      "                  return(x^n)\n",
      "                  }\n",
      "\n",
      "print(tmpFn1(x))"
     ],
     "language": "python",
     "metadata": {},
     "outputs": [
      {
       "metadata": {},
       "output_type": "display_data",
       "text": [
        " [1]    2    4    8   16   32   64  128  256  512 1024\n"
       ]
      }
     ],
     "prompt_number": 48
    },
    {
     "cell_type": "markdown",
     "metadata": {},
     "source": [
      "* <code>tmpFn2(x)</code> returns the vector $\\left(x_1, \\frac{x_2^2}2, \\dots, \\frac{x_n^n}n\\right)$"
     ]
    },
    {
     "cell_type": "code",
     "collapsed": false,
     "input": [
      "%%R\n",
      "\n",
      "tmpFn2 = function(x){\n",
      "                  denom = 1:length(x)\n",
      "                  numer = tmpFn1(x)\n",
      "                  return(numer/denom)\n",
      "                  }\n",
      "\n",
      "print(tmpFn2(x))"
     ],
     "language": "python",
     "metadata": {},
     "outputs": [
      {
       "metadata": {},
       "output_type": "display_data",
       "text": [
        " [1]   2.000000   2.000000   2.666667   4.000000   6.400000  10.666667\n",
        " [7]  18.285714  32.000000  56.888889 102.400000\n"
       ]
      }
     ],
     "prompt_number": 49
    },
    {
     "cell_type": "markdown",
     "metadata": {},
     "source": [
      "Now suppose that $x$ is a single number and $n$ is a positive integer. Write a function <code>tmpFn3(x, n)</code> with two arguments such that"
     ]
    },
    {
     "cell_type": "markdown",
     "metadata": {},
     "source": [
      "* <code>tmpFn3(x, n)</code> returns the value $1+\\frac x1 + \\frac{x^2}2 + \\dots + \\frac{x^n}n$"
     ]
    },
    {
     "cell_type": "code",
     "collapsed": false,
     "input": [
      "%%R\n",
      "\n",
      "tmpFn3 = function(x, n){\n",
      "                        n = 1:n\n",
      "                        ans = 1 + sum((x^n) / n)\n",
      "                        return(ans)\n",
      "                        }\n",
      "\n",
      "print(tmpFn3(x, 4))"
     ],
     "language": "python",
     "metadata": {},
     "outputs": [
      {
       "metadata": {},
       "output_type": "display_data",
       "text": [
        "[1] 26.33333\n"
       ]
      }
     ],
     "prompt_number": 50
    },
    {
     "cell_type": "markdown",
     "metadata": {},
     "source": [
      "**Exercise 2**\n",
      "\n",
      "Write a function <code>tmpFn(x)</code> such that if $x$ is the vector $x=(x_1,\\dots, x_n)$ then <code>tmpFn(x)</code> returns the vector of **moving averages**:\n",
      "\n",
      "$$\\left(\\frac{x_1+x_2+x_3}3,\\,\\frac{x_2+x_3+x_4}3,\\dots,\\,\\frac{x_{n-2}+x_{n-1}+x_n}3\\right)$$"
     ]
    },
    {
     "cell_type": "markdown",
     "metadata": {},
     "source": [
      "**Solution:** A simple solution can be achieved by regarding the vector above as the sum of three vectors\n",
      "\n",
      "$$(x_1,\\dots, x_{n-2}) + (x_2,\\dots, x_{n-1}) + (x_3,\\dots, x_n)$$\n",
      "\n",
      "multiplied by a factor $1/3$."
     ]
    },
    {
     "cell_type": "code",
     "collapsed": false,
     "input": [
      "%%R\n",
      "\n",
      "tmpFn = function(x){\n",
      "                    n = length(x)\n",
      "                    x1 = x[1:(n-2)]\n",
      "                    x2 = x[2:(n-1)]\n",
      "                    x3 = x[3:n]\n",
      "                    \n",
      "                    ans = (x1 + x2 + x3) / 3\n",
      "                    return(ans)\n",
      "                    }\n",
      "\n",
      "y = tmpFn(rnorm(10))\n",
      "print(y)\n"
     ],
     "language": "python",
     "metadata": {},
     "outputs": [
      {
       "metadata": {},
       "output_type": "display_data",
       "text": [
        "[1] -0.4641331 -0.1826431  0.6152467 -0.0918878 -0.6128259 -1.3755951 -0.9228141\n",
        "[8] -0.2750495\n"
       ]
      }
     ],
     "prompt_number": 51
    },
    {
     "cell_type": "markdown",
     "metadata": {},
     "source": [
      "**Exercise 3**\n",
      "\n",
      "Consider the function\n",
      "\n",
      "$$\n",
      "\\begin{eqnarray}\n",
      "f(x) & = & \\left\\{\n",
      "\\begin{array}\n",
      "ax^2 + 2x + 3 & \\textrm{if}\\quad x < 0\\\\\n",
      "x +3  & \\textrm{if}\\quad 0\\leq x < 2\\\\\n",
      "x^2 + 4x -7 & \\textrm{if}\\quad 2\\leq x\n",
      "\\end{array}\n",
      "\\right.\n",
      "\\end{eqnarray}\n",
      "$$\n",
      "\n",
      "* Write a function <code>tmpFn</code> which takes a numeric vector <code>xVal</code> as input, and returns a vector containing the values of the function $f$ above evaluated at the numbers $x$ contained in the vector <code>xVal</code>."
     ]
    },
    {
     "cell_type": "code",
     "collapsed": false,
     "input": [
      "%%R\n",
      "\n",
      "\n",
      "tmpFn = function(xVal){\n",
      "                      x = xVal < 0\n",
      "                      y = (xVal >= 0) & (xVal < 2)\n",
      "                      z = xVal >= 2\n",
      "                      xVal[x] = xVal[x]^2 + (2*xVal[x]) + 3\n",
      "                      xVal[y] = xVal[y] + 3\n",
      "                      xVal[z] = xVal[z]^2 + (4*xVal[z]) - 7\n",
      "                      return(xVal)\n",
      "                      }\n",
      "\n",
      "x = rnorm(20, mean=0, sd=10)\n",
      "\n",
      "print(tmpFn(x))\n"
     ],
     "language": "python",
     "metadata": {},
     "outputs": [
      {
       "metadata": {},
       "output_type": "display_data",
       "text": [
        " [1]   4.893494  66.408367  29.959225  47.718469  88.453410   2.737548\n",
        " [7] 223.863910 161.839067  18.604393 207.568003  96.641026  85.783310\n",
        "[13] 158.300153   3.027029   2.146897  80.971176  23.180944 134.844678\n",
        "[19]   4.931349   2.393244\n"
       ]
      }
     ],
     "prompt_number": 52
    },
    {
     "cell_type": "markdown",
     "metadata": {},
     "source": [
      "**Exercise 4**\n",
      "\n",
      "Suppose an angle $\\theta$ is given as a positive real number of degrees. We can associate a quadrant number to angle values in the following way:\n",
      "\n",
      "* if $0\\leq \\theta < 90$ then $\\theta$ is in **quadrant 1**\n",
      "* if $90\\leq \\theta < 180$ then $\\theta$ is in **quadrant 2**\n",
      "* if $180\\leq \\theta < 270$ then $\\theta$ is in **quadrant 3**\n",
      "* if $270\\leq \\theta < 360$ then $\\theta$ is in **quadrant 4**\n",
      "\n",
      "Write a function <code>quadrant(theta)</code> which returns the quadrant of the angle $\\theta$.\n"
     ]
    },
    {
     "cell_type": "code",
     "collapsed": false,
     "input": [
      "%%R\n",
      "\n",
      "quadrant = function(theta){\n",
      "                    quadrant = ((theta %% 360) %/% 90) + 1\n",
      "                    return(paste('quadrant', quadrant, sep=' '))}\n",
      "                           \n"
     ],
     "language": "python",
     "metadata": {},
     "outputs": [],
     "prompt_number": 53
    },
    {
     "cell_type": "markdown",
     "metadata": {},
     "source": [
      "**Exercise 5**"
     ]
    },
    {
     "cell_type": "markdown",
     "metadata": {},
     "source": [
      "**Zeller\u2019s congruence** is the formula:\n",
      "\n",
      "$$f(d,y,c,m) =([2.6m - 0.2] + d + y + [y/4] + [c/4] - 2c)\\mod 7 $$\n",
      "\n",
      "where $[x]$ denotes the integer part of $x$; for example $[7.5] = 7$.\n",
      "\n",
      "Zeller\u2019s congruence returns the **day of the week** $f(d, y, c, m)$ given:\n",
      "\n",
      "* $d$ = the day of the month,\n",
      "* $y$ = the year in the century\n",
      "* $c$ = the \ufb01rst 2 digits of the year (the century number)\n",
      "* $m$ = the month number (**where January is month 11 of the preceding year, February is month 12 of the preceding year, March is month 1**, etc.)\n",
      "\n",
      "\n",
      "For example, the date \n",
      "\n",
      "* 7/21/1963 has $m = 5$, $d = 21$, $c = 19$, $y = 63$\n",
      "\n",
      "* 2/21/1963 has $m = 12$, $d = 21$, $c = 19$, and $y = 62$.\n",
      "\n",
      "\n",
      "* Write a function <code>weekday(day,month,year)</code> which returns the day of the week when given the numerical inputs of the day, month and year.\n",
      "\n",
      "\n",
      "Note that the value of 1 for $f$ denotes Sunday, 2 denotes Monday, etc."
     ]
    },
    {
     "cell_type": "heading",
     "level": 5,
     "metadata": {},
     "source": [
      "ceiling and floor"
     ]
    },
    {
     "cell_type": "code",
     "collapsed": false,
     "input": [
      "%%R\n",
      "\n",
      "print(ceiling(7.6))\n",
      "print(floor(7.6))"
     ],
     "language": "python",
     "metadata": {},
     "outputs": [
      {
       "metadata": {},
       "output_type": "display_data",
       "text": [
        "[1] 8\n",
        "[1] 7\n"
       ]
      }
     ],
     "prompt_number": 54
    },
    {
     "cell_type": "code",
     "collapsed": false,
     "input": [
      "%%R\n",
      "\n",
      "weekday = function(day, month, year){\n",
      "                                     d = day\n",
      "                                     y = year %% 100\n",
      "                                     c = year %/% 100\n",
      "                                     months = c(11, 12, 1, 2, 3, 4, 5, 6, 7, 8, 9, 10)\n",
      "                                     m = months[month]\n",
      "                                     \n",
      "                                     week = ((floor((2.6*m) - 0.2) + d + y + floor(y/4) + floor(c/4) - 2*c) %% 7) + 1\n",
      "                                     weeks = c('Sunday', 'Monday', 'Tuesday', 'Wednesday', 'Thursday', 'Friday', 'Saturday')\n",
      "                                     return(weeks[week])\n",
      "                                     }\n",
      "\n",
      "print(weekday(19, 12, 2013))\n",
      "print(weekday(6, 5, 2014))\n",
      "print(weekday(4, 5, 2014))\n",
      "print(weekday(3, 5, 2014))"
     ],
     "language": "python",
     "metadata": {},
     "outputs": [
      {
       "metadata": {},
       "output_type": "display_data",
       "text": [
        "[1] \"Thursday\"\n",
        "[1] \"Tuesday\"\n",
        "[1] \"Sunday\"\n",
        "[1] \"Saturday\"\n"
       ]
      }
     ],
     "prompt_number": 55
    },
    {
     "cell_type": "markdown",
     "metadata": {},
     "source": [
      "* Does your function work if the input parameters day, month and year are vectors with the same length and with valid entries?"
     ]
    },
    {
     "cell_type": "markdown",
     "metadata": {},
     "source": [
      "**Solution:** Yes, since the operations used in the body of <code>weekday</code> are vectorized. See below:"
     ]
    },
    {
     "cell_type": "code",
     "collapsed": false,
     "input": [
      "%%R\n",
      "\n",
      "print(weekday(c(19, 6, 4, 3), c(12, 5, 5, 5), c(2013, 2014, 2014, 2014)))"
     ],
     "language": "python",
     "metadata": {},
     "outputs": [
      {
       "metadata": {},
       "output_type": "display_data",
       "text": [
        "[1] \"Thursday\" \"Tuesday\"  \"Sunday\"   \"Saturday\"\n"
       ]
      }
     ],
     "prompt_number": 56
    },
    {
     "cell_type": "markdown",
     "metadata": {},
     "source": [
      "**Exercise 6**\n",
      "\n",
      "Write a class called <code>employee</code> that has the following attributes\n",
      "\n",
      "* <code>name</code> = employee's name\n",
      "* <code>nhours</code> = number of hours worked per day\n",
      "* <code>ndays</code> = number of days worked per month\n",
      "* <code>hourlywage</code> = the amount of money earned in one hour of work\n",
      "\n",
      "You should write:\n",
      "\n",
      "* the **class contructor** that creates the class instances\n",
      "\n",
      "* a **method** <code>print.employee</code> that displays the employee information nicely formated in a data table (use the function <code>sprintf</code> for that).\n",
      "\n",
      "* a **method** <code>earnings.employee</code> that computes the employee monthly salary\n",
      "\n",
      "* a **generic function** <code>earnings</code> corresponding to the previous method"
     ]
    },
    {
     "cell_type": "code",
     "collapsed": false,
     "input": [
      "%%R\n",
      "\n",
      "employee = function(name, nhours, ndays, hourlywage){\n",
      "                   object = list(name=name, nhours=as.numeric(nhours), ndays=as.numeric(ndays), hourlywage=as.numeric(hourlywage))\n",
      "                   class(object) = 'employee'\n",
      "                   return(object)}\n",
      "\n",
      "tabletop = function(object){\n",
      "                   format = '%-10s%-10s%-10s%-10s'\n",
      "                   cat(sprintf(format, 'Name', 'Hours', 'Days', 'Wage'), '\\n')}\n",
      "\n",
      "tabledata = function(object){\n",
      "                   format = '%-10s%-10d%-10d%-10f'\n",
      "                   cat(sprintf(format, object$name, object$nhours, object$ndays, object$hourlywage), '\\n')}\n",
      "\n",
      "print.employee = function(object){\n",
      "                   cat(tabletop(object), tabledata(object))}\n",
      "\n",
      "Bob = employee('Bob', 5, 10, 12)\n",
      "print(Bob)"
     ],
     "language": "python",
     "metadata": {},
     "outputs": [
      {
       "metadata": {},
       "output_type": "display_data",
       "text": [
        "Name      Hours     Days      Wage       \n",
        "Bob       5         10        12.000000  \n"
       ]
      }
     ],
     "prompt_number": 70
    },
    {
     "cell_type": "code",
     "collapsed": false,
     "input": [
      "%%R\n",
      "\n",
      "earnings.employee = function(object){\n",
      "                             return(object$nhours * object$ndays * object$hourlywage)}\n",
      "\n",
      "earnings = function(object){\n",
      "                     UseMethod('earnings', object)}\n"
     ],
     "language": "python",
     "metadata": {},
     "outputs": [],
     "prompt_number": 110
    },
    {
     "cell_type": "code",
     "collapsed": false,
     "input": [
      "%%R\n",
      "\n",
      "print(?sprintf)"
     ],
     "language": "python",
     "metadata": {},
     "outputs": [
      {
       "output_type": "stream",
       "stream": "stdout",
       "text": [
        "R Help on \u2018sprintf\u2019sprintf                  package:base                  R Documentation\n",
        "\n",
        "_\bU_\bs_\be _\bC-_\bs_\bt_\by_\bl_\be _\bS_\bt_\br_\bi_\bn_\bg _\bF_\bo_\br_\bm_\ba_\bt_\bt_\bi_\bn_\bg _\bC_\bo_\bm_\bm_\ba_\bn_\bd_\bs\n",
        "\n",
        "_\bD_\be_\bs_\bc_\br_\bi_\bp_\bt_\bi_\bo_\bn:\n",
        "\n",
        "     A wrapper for the C function \u2018sprintf\u2019, that returns a character\n",
        "     vector containing a formatted combination of text and variable\n",
        "     values.\n",
        "\n",
        "_\bU_\bs_\ba_\bg_\be:\n",
        "\n",
        "     sprintf(fmt, ...)\n",
        "     gettextf(fmt, ..., domain = NULL)\n",
        "     \n",
        "_\bA_\br_\bg_\bu_\bm_\be_\bn_\bt_\bs:\n",
        "\n",
        "     fmt: a character vector of format strings, each of up to 8192\n",
        "          bytes.\n",
        "\n",
        "     ...: values to be passed into \u2018fmt\u2019.  Only logical, integer, real\n",
        "          and character vectors are supported, but some coercion will\n",
        "          be done: see the \u2018Details\u2019 section.\n",
        "\n",
        "  domain: see \u2018gettext\u2019.\n",
        "\n",
        "_\bD_\be_\bt_\ba_\bi_\bl_\bs:\n",
        "\n",
        "     \u2018sprintf\u2019 is a wrapper for the system \u2018sprintf\u2019 C-library\n",
        "     function.  Attempts are made to check that the mode of the values\n",
        "     passed match the format supplied, and R's special values (\u2018NA\u2019,\n",
        "     \u2018Inf\u2019, \u2018-Inf\u2019 and \u2018NaN\u2019) are handled correctly.\n",
        "\n",
        "     \u2018gettextf\u2019 is a convenience function which provides C-style string\n",
        "     formatting with possible translation of the format string.\n",
        "\n",
        "     The arguments (including \u2018fmt\u2019) are recycled if possible a whole\n",
        "     number of times to the length of the longest, and then the\n",
        "     formatting is done in parallel.  Zero-length arguments are allowed\n",
        "     and will give a zero-length result.  All arguments are evaluated\n",
        "     even if unused, and hence some types (e.g., \u2018\"symbol\"\u2019 or\n",
        "     \u2018\"language\"\u2019, see \u2018typeof\u2019) are not allowed.\n",
        "\n",
        "     The following is abstracted from Kernighan and Ritchie (see\n",
        "     References): however the actual implementation will follow the C99\n",
        "     standard and fine details (especially the behaviour under user\n",
        "     error) may depend on the platform.\n",
        "\n",
        "     The string \u2018fmt\u2019 contains normal characters, which are passed\n",
        "     through to the output string, and also conversion specifications\n",
        "     which operate on the arguments provided through \u2018...\u2019.  The\n",
        "     allowed conversion specifications start with a \u2018%\u2019 and end with\n",
        "     one of the letters in the set \u2018aAdifeEgGosxX%\u2019.  These letters\n",
        "     denote the following types:\n",
        "\n",
        "     \u2018d\u2019, \u2018i\u2019, \u2018o\u2019, \u2018x\u2019, \u2018X\u2019 Integer value, \u2018o\u2019 being octal, \u2018x\u2019 and\n",
        "          \u2018X\u2019 being hexadecimal (using the same case for \u2018a-f\u2019 as the\n",
        "          code).  Numeric variables with exactly integer values will be\n",
        "          coerced to integer.  Formats \u2018d\u2019 and \u2018i\u2019 can also be used for\n",
        "          logical variables, which will be converted to \u20180\u2019, \u20181\u2019 or\n",
        "          \u2018NA\u2019.\n",
        "\n",
        "     \u2018f\u2019 Double precision value, in \u201c*f*ixed point\u201d decimal notation of\n",
        "          the form \"[-]mmm.ddd\".  The number of decimal places (\"d\") is\n",
        "          specified by the precision: the default is 6; a precision of\n",
        "          0 suppresses the decimal point.  Non-finite values are\n",
        "          converted to \u2018NA\u2019, \u2018NaN\u2019 or (perhaps a sign followed by)\n",
        "          \u2018Inf\u2019.\n",
        "\n",
        "     \u2018e\u2019, \u2018E\u2019 Double precision value, in \u201c*e*xponential\u201d decimal\n",
        "          notation of the form \u2018[-]m.ddde[+-]xx\u2019 or \u2018[-]m.dddE[+-]xx\u2019.\n",
        "\n",
        "     \u2018g\u2019, \u2018G\u2019 Double precision value, in \u2018%e\u2019 or \u2018%E\u2019 format if the\n",
        "          exponent is less than -4 or greater than or equal to the\n",
        "          precision, and \u2018%f\u2019 format otherwise.  (The precision\n",
        "          (default 6) specifies the number of _significant_ digits\n",
        "          here, whereas in \u2018%f, %e\u2019, it is the number of digits after\n",
        "          the decimal point.)\n",
        "\n",
        "     \u2018a\u2019, \u2018A\u2019 Double precision value, in binary notation of the form\n",
        "          \u2018[-]0xh.hhhp[+-]d\u2019.  This is a binary fraction expressed in\n",
        "          hex multiplied by a (decimal) power of 2.  The number of hex\n",
        "          digits after the decimal point is specified by the precision:\n",
        "          the default is enough digits to represent exactly the\n",
        "          internal binary representation.  Non-finite values are\n",
        "          converted to \u2018NA\u2019, \u2018NaN\u2019 or (perhaps a sign followed by)\n",
        "          \u2018Inf\u2019.  Format \u2018%a\u2019 uses lower-case for \u2018x\u2019, \u2018p\u2019 and the hex\n",
        "          values: format \u2018%A\u2019 uses upper-case.\n",
        "\n",
        "          This should be supported on all platforms as it is a feature\n",
        "          of C99.  The format is not uniquely defined: although it\n",
        "          would be possible to make the leading \u2018h\u2019 always zero or one,\n",
        "          this is not always done.  Most systems will suppress trailing\n",
        "          zeros, but a few do not.  On a well-written platform, for\n",
        "          normal numbers there will be a leading one before the decimal\n",
        "          point plus (by default) 13 hexadecimal digits, hence 53 bits.\n",
        "          The treatment of denormalized (aka \u2018subnormal\u2019) numbers is\n",
        "          very platform-dependent.\n",
        "\n",
        "     \u2018s\u2019 Character string.  Character \u2018NA\u2019s are converted to \u2018\"NA\"\u2019.\n",
        "\n",
        "     \u2018%\u2019 Literal \u2018%\u2019 (none of the extra formatting characters given\n",
        "          below are permitted in this case).\n",
        "\n",
        "     Conversion by \u2018as.character\u2019 is used for non-character arguments\n",
        "     with \u2018s\u2019 and by \u2018as.double\u2019 for non-double arguments with \u2018f, e,\n",
        "     E, g, G\u2019.  NB: the length is determined before conversion, so do\n",
        "     not rely on the internal coercion if this would change the length.\n",
        "     The coercion is done only once, so if \u2018length(fmt) > 1\u2019 then all\n",
        "     elements must expect the same types of arguments.\n",
        "\n",
        "     In addition, between the initial \u2018%\u2019 and the terminating\n",
        "     conversion character there may be, in any order:\n",
        "\n",
        "     \u2018m.n\u2019 Two numbers separated by a period, denoting the field width\n",
        "          (\u2018m\u2019) and the precision (\u2018n\u2019).\n",
        "\n",
        "     \u2018-\u2019 Left adjustment of converted argument in its field.\n",
        "\n",
        "     \u2018+\u2019 Always print number with sign: by default only negative\n",
        "          numbers are printed with a sign.\n",
        "\n",
        "     a space Prefix a space if the first character is not a sign.\n",
        "\n",
        "     \u20180\u2019 For numbers, pad to the field width with leading zeros.\n",
        "\n",
        "     \u2018#\u2019 specifies \u201calternate output\u201d for numbers, its action depending\n",
        "          on the type: For \u2018x\u2019 or \u2018X\u2019, \u20180x\u2019 or \u20180X\u2019 will be prefixed to\n",
        "          a non-zero result.  For \u2018e\u2019, \u2018e\u2019, \u2018f\u2019, \u2018g\u2019 and \u2018G\u2019, the\n",
        "          output will always have a decimal point; for \u2018g\u2019 and \u2018G\u2019,\n",
        "          trailing zeros will not be removed.\n",
        "\n",
        "     Further, immediately after \u2018%\u2019 may come \u20181$\u2019 to \u201899$\u2019 to refer to\n",
        "     numbered argument: this allows arguments to be referenced out of\n",
        "     order and is mainly intended for translators of error messages.\n",
        "     If this is done it is best if all formats are numbered: if not the\n",
        "     unnumbered ones process the arguments in order.  See the examples.\n",
        "     This notation allows arguments to be used more than once, in which\n",
        "     case they must be used as the same type (integer, double or\n",
        "     character).\n",
        "\n",
        "     A field width or precision (but not both) may be indicated by an\n",
        "     asterisk \u2018*\u2019: in this case an argument specifies the desired\n",
        "     number.  A negative field width is taken as a '-' flag followed by\n",
        "     a positive field width.  A negative precision is treated as if the\n",
        "     precision were omitted.  The argument should be integer, but a\n",
        "     double argument will be coerced to integer.\n",
        "\n",
        "     There is a limit of 8192 bytes on elements of \u2018fmt\u2019, and on\n",
        "     strings included from a single \u2018%\u2019_letter_ conversion\n",
        "     specification.\n",
        "\n",
        "     Field widths and precisions of \u2018%s\u2019 conversions are interpreted as\n",
        "     bytes, not characters, as described in the C standard.\n",
        "\n",
        "_\bV_\ba_\bl_\bu_\be:\n",
        "\n",
        "     A character vector of length that of the longest input.  If any\n",
        "     element of \u2018fmt\u2019 or any character argument is declared as UTF-8,\n",
        "     the element of the result will be in UTF-8 and have the encoding\n",
        "     declared as UTF-8.  Otherwise it will be in the current locale's\n",
        "     encoding.\n",
        "\n",
        "_\bW_\ba_\br_\bn_\bi_\bn_\bg:\n",
        "\n",
        "     The format string is passed down the OS's \u2018sprintf\u2019 function, and\n",
        "     incorrect formats can cause the latter to crash the R process .  R\n",
        "     does perform sanity checks on the format, and since R 2.10.0, we\n",
        "     have not seen crashes anymore.  But not all possible user errors\n",
        "     on all platforms have been tested, and some might be terminal.\n",
        "\n",
        "     The behaviour on inputs not documented here is \u2018undefined\u2019, which\n",
        "     means it is allowed to differ by platform.\n",
        "\n",
        "_\bA_\bu_\bt_\bh_\bo_\br(_\bs):\n",
        "\n",
        "     Original code by Jonathan Rougier.\n",
        "\n",
        "_\bR_\be_\bf_\be_\br_\be_\bn_\bc_\be_\bs:\n",
        "\n",
        "     Kernighan, B. W. and Ritchie, D. M. (1988) _The C Programming\n",
        "     Language._ Second edition, Prentice Hall.  Describes the format\n",
        "     options in table B-1 in the Appendix.\n",
        "\n",
        "     The C Standards, especially ISO/IEC 9899:1999 for \u2018C99\u2019.  Links\n",
        "     can be found at <URL:\n",
        "     http://developer.r-project.org/Portability.html>.\n",
        "\n",
        "     \u2018man sprintf\u2019 on a Unix-alike system.\n",
        "\n",
        "_\bS_\be_\be _\bA_\bl_\bs_\bo:\n",
        "\n",
        "     \u2018formatC\u2019 for a way of formatting vectors of numbers in a similar\n",
        "     fashion.\n",
        "\n",
        "     \u2018paste\u2019 for another way of creating a vector combining text and\n",
        "     values.\n",
        "\n",
        "     \u2018gettext\u2019 for the mechanisms for the automated translation of\n",
        "     text.\n",
        "\n",
        "_\bE_\bx_\ba_\bm_\bp_\bl_\be_\bs:\n",
        "\n",
        "     ## be careful with the format: most things in R are floats\n",
        "     ## only integer-valued reals get coerced to integer.\n",
        "     \n",
        "     sprintf(\"%s is %f feet tall\\n\", \"Sven\", 7.1)      # OK\n",
        "     try(sprintf(\"%s is %i feet tall\\n\", \"Sven\", 7.1)) # not OK\n",
        "         sprintf(\"%s is %i feet tall\\n\", \"Sven\", 7  )  # OK\n",
        "     \n",
        "     ## use a literal % :\n",
        "     \n",
        "     sprintf(\"%.0f%% said yes (out of a sample of size %.0f)\", 66.666, 3)\n",
        "     \n",
        "     ## various formats of pi :\n",
        "     \n",
        "     sprintf(\"%f\", pi)\n",
        "     sprintf(\"%.3f\", pi)\n",
        "     sprintf(\"%1.0f\", pi)\n",
        "     sprintf(\"%5.1f\", pi)\n",
        "     sprintf(\"%05.1f\", pi)\n",
        "     sprintf(\"%+f\", pi)\n",
        "     sprintf(\"% f\", pi)\n",
        "     sprintf(\"%-10f\", pi) # left justified\n",
        "     sprintf(\"%e\", pi)\n",
        "     sprintf(\"%E\", pi)\n",
        "     sprintf(\"%g\", pi)\n",
        "     sprintf(\"%g\",   1e6 * pi) # -> exponential\n",
        "     sprintf(\"%.9g\", 1e6 * pi) # -> \"fixed\"\n",
        "     sprintf(\"%G\", 1e-6 * pi)\n",
        "     \n",
        "     ## no truncation:\n",
        "     sprintf(\"%1.f\", 101)\n",
        "     \n",
        "     ## re-use one argument three times, show difference between %x and %X\n",
        "     xx <- sprintf(\"%1$d %1$x %1$X\", 0:15)\n",
        "     xx <- matrix(xx, dimnames = list(rep(\"\", 16), \"%d%x%X\"))\n",
        "     noquote(format(xx, justify = \"right\"))\n",
        "     \n",
        "     ## More sophisticated:\n",
        "     \n",
        "     sprintf(\"min 10-char string '%10s'\",\n",
        "             c(\"a\", \"ABC\", \"and an even longer one\"))\n",
        "     \n",
        "     n <- 1:18\n",
        "     sprintf(paste0(\"e with %2d digits = %.\", n, \"g\"), n, exp(1))\n",
        "     \n",
        "     ## Using arguments out of order\n",
        "     sprintf(\"second %2$1.0f, first %1$5.2f, third %3$1.0f\", pi, 2, 3)\n",
        "     \n",
        "     ## Using asterisk for width or precision\n",
        "     sprintf(\"precision %.*f, width '%*.3f'\", 3, pi, 8, pi)\n",
        "     \n",
        "     ## Asterisk and argument re-use, 'e' example reiterated:\n",
        "     sprintf(\"e with %1$2d digits = %2$.*1$g\", n, exp(1))\n",
        "     \n",
        "     ## re-cycle arguments\n",
        "     sprintf(\"%s %d\", \"test\", 1:3)\n",
        "     \n",
        "     ## binary output showing rounding/representation errors\n",
        "     x <- seq(0, 1.0, 0.1); y <- c(0,.1,.2,.3,.4,.5,.6,.7,.8,.9,1)\n",
        "     cbind(x, sprintf(\"%a\", x), sprintf(\"%a\", y))\n",
        "     \n"
       ]
      }
     ],
     "prompt_number": 99
    },
    {
     "cell_type": "markdown",
     "metadata": {},
     "source": [
      "**Exercise 7**\n",
      "\n",
      "Write a class <code>company</code> that has the following attribues:\n",
      "\n",
      "* <code>name</code> = company name\n",
      "* <code>roster</code> = a list of the company's employees\n",
      "* <code>benefits</code> = the total amount of money that the company earned\n",
      "\n",
      "* Write the **class constructor** allowing you to create an object in the following way, given that the variable <code>employees</code> contains a **list** of employees:\n",
      "\n",
      "    CISCO = company(name='CISCO', roster=employees, benefits=500000)\n",
      "    "
     ]
    },
    {
     "cell_type": "code",
     "collapsed": false,
     "input": [
      "%%R\n",
      "\n",
      "company = function(name, roster, benefits){\n",
      "                   object = list(name=name, roster=roster, benefits=benefits)\n",
      "                   class(object) = 'company'\n",
      "                   return(object)}\n"
     ],
     "language": "python",
     "metadata": {},
     "outputs": [],
     "prompt_number": 100
    },
    {
     "cell_type": "markdown",
     "metadata": {},
     "source": [
      "Create a list of employees that you will store in the variable employees, and create the object CISCO as above:"
     ]
    },
    {
     "cell_type": "code",
     "collapsed": false,
     "input": [
      "%%R\n",
      "\n",
      "employees = list(\n",
      "                 employee('Bob', 5, 10, 12),\n",
      "                 employee('Paul', 2, 7, 34),\n",
      "                 employee('Jessica', 4, 5, 10),\n",
      "                 employee('Jim', 4, 45, 10))"
     ],
     "language": "python",
     "metadata": {},
     "outputs": [],
     "prompt_number": 101
    },
    {
     "cell_type": "code",
     "collapsed": false,
     "input": [
      "%%R\n",
      "\n",
      "CISCO = company(name='CISCO', roster=employees, benefits=500000)"
     ],
     "language": "python",
     "metadata": {},
     "outputs": [],
     "prompt_number": 102
    },
    {
     "cell_type": "markdown",
     "metadata": {},
     "source": [
      "* Write a class method <code>print.company</code> that displays nicely the employee roster in the form of a data table: the rows should be indexed by the employee names, while the column names should be the employee attribute names. Then invoke the generic method <code>print</code> on the object <code>CISCO</code> you have constructed above:"
     ]
    },
    {
     "cell_type": "code",
     "collapsed": false,
     "input": [
      "%%R\n",
      "\n",
      "print.company = function(object){\n",
      "                                 employees = object$roster\n",
      "                                 cat(tabletop(object))\n",
      "                                 data = sapply(object$roster, tabledata)\n",
      "                                 }\n",
      "\n",
      "print(CISCO)\n",
      "\n",
      "\n",
      "\n"
     ],
     "language": "python",
     "metadata": {},
     "outputs": [
      {
       "metadata": {},
       "output_type": "display_data",
       "text": [
        "Name      Hours     Days      Wage       \n",
        "Bob       5         10        12.000000  \n",
        "Paul      2         7         34.000000  \n",
        "Jessica   4         5         10.000000  \n",
        "Jim       4         45        10.000000  \n"
       ]
      }
     ],
     "prompt_number": 103
    },
    {
     "cell_type": "markdown",
     "metadata": {},
     "source": [
      "* Write a class method <code>earnings.company</code> that returns the company profit: i.e.,\n",
      "\n",
      "profits = company benefits - amount paid to all the employees in a year"
     ]
    },
    {
     "cell_type": "code",
     "collapsed": false,
     "input": [
      "%%R\n",
      "\n",
      "earnings.company = function(object){\n",
      "                                   benefits = object$benefits\n",
      "                                   liabilities = sum(sapply(object$roster, function(x) earnings(x)))\n",
      "                                   return(benefits - liabilities)}\n",
      "                                       \n",
      "                                       \n",
      "earnings = function(object){\n",
      "                    UseMethod('earnings', object)}\n",
      "                                                 "
     ],
     "language": "python",
     "metadata": {},
     "outputs": [],
     "prompt_number": 112
    },
    {
     "cell_type": "markdown",
     "metadata": {},
     "source": [
      "* Invoke the generic function <code>earnings</code> that you wrote in the previous exercise on the object <code>CISCO</code>:"
     ]
    },
    {
     "cell_type": "code",
     "collapsed": false,
     "input": [
      "%%R\n",
      "\n",
      "print(earnings(CISCO))"
     ],
     "language": "python",
     "metadata": {},
     "outputs": [
      {
       "metadata": {},
       "output_type": "display_data",
       "text": [
        "[1] 496924\n"
       ]
      }
     ],
     "prompt_number": 114
    },
    {
     "cell_type": "markdown",
     "metadata": {},
     "source": [
      "**Exercise 8**\n",
      "\n",
      "* Write a class of your own choosing. Try to make it so nice and useful, that you want to brag about it all the time and to everybody!\n"
     ]
    },
    {
     "cell_type": "code",
     "collapsed": false,
     "input": [
      "%%R\n",
      "\n",
      "animal = function(type, food, name, nhands, nteeth){\n",
      "                  object = list(type=type, food=food, name=name, nhands=nhands, nteeth=nteeth)\n",
      "                  class(object) = 'animal'\n",
      "    \n",
      "                  return(object)}\n",
      "\n",
      "print.animal = function(object){\n",
      "                  cat(sprintf(\"This %s's name is %s, and it eats %s. It has %d hands and %d teeth\",\n",
      "                          object$type, object$name, object$food, object$nhands, object$nteeth))}\n",
      "\n",
      "penguin = animal('Penguin', 'fish', 'Happy Feet', 2, 2)\n",
      "print(penguin)"
     ],
     "language": "python",
     "metadata": {},
     "outputs": [
      {
       "metadata": {},
       "output_type": "display_data",
       "text": [
        "This Penguin's name is Happy Feet, and it eats fish. It has 2 hands and 2 teeth"
       ]
      }
     ],
     "prompt_number": 119
    },
    {
     "cell_type": "code",
     "collapsed": false,
     "input": [
      "%%R\n",
      "\n",
      "eat.animal = function(object){\n",
      "                  cat(sprintf(\"%s has eaten a %s.\", object$name, object$food))}\n",
      "\n",
      "eat = function(object){\n",
      "                  UseMethod('eat', object)}\n",
      "\n",
      "eat(penguin)\n"
     ],
     "language": "python",
     "metadata": {},
     "outputs": [
      {
       "metadata": {},
       "output_type": "display_data",
       "text": [
        "Happy Feet has eaten a fish."
       ]
      }
     ],
     "prompt_number": 123
    },
    {
     "cell_type": "code",
     "collapsed": false,
     "input": [
      "\n",
      "\n"
     ],
     "language": "python",
     "metadata": {},
     "outputs": [],
     "prompt_number": 123
    },
    {
     "cell_type": "code",
     "collapsed": false,
     "input": [
      "\n",
      "\n",
      "\n"
     ],
     "language": "python",
     "metadata": {},
     "outputs": [],
     "prompt_number": 66
    },
    {
     "cell_type": "code",
     "collapsed": false,
     "input": [],
     "language": "python",
     "metadata": {},
     "outputs": [],
     "prompt_number": 66
    }
   ],
   "metadata": {}
  }
 ]
}