{
 "metadata": {
  "name": ""
 },
 "nbformat": 3,
 "nbformat_minor": 0,
 "worksheets": [
  {
   "cells": [
    {
     "cell_type": "code",
     "collapsed": false,
     "input": [
      "%load_ext rmagic"
     ],
     "language": "python",
     "metadata": {},
     "outputs": [],
     "prompt_number": 1
    },
    {
     "cell_type": "code",
     "collapsed": false,
     "input": [
      "%%R\n",
      "\n",
      "# 1\n",
      "\n",
      "A = matrix(c(1, 1, 3, 5, 2, 6, -2, -1, -3), byrow=TRUE, nrow=3)\n",
      "print(A)\n",
      "# a\n",
      "\n",
      "print(A %*% A %*% A)\n",
      "\n",
      "# b \n",
      "\n",
      "A[, 3] = A[, 2] + A[, 3]\n",
      "print(A)"
     ],
     "language": "python",
     "metadata": {},
     "outputs": [
      {
       "metadata": {},
       "output_type": "display_data",
       "text": [
        "     [,1] [,2] [,3]\n",
        "[1,]    1    1    3\n",
        "[2,]    5    2    6\n",
        "[3,]   -2   -1   -3\n",
        "     [,1] [,2] [,3]\n",
        "[1,]    0    0    0\n",
        "[2,]    0    0    0\n",
        "[3,]    0    0    0\n",
        "     [,1] [,2] [,3]\n",
        "[1,]    1    1    4\n",
        "[2,]    5    2    8\n",
        "[3,]   -2   -1   -4\n"
       ]
      }
     ],
     "prompt_number": 2
    },
    {
     "cell_type": "code",
     "collapsed": false,
     "input": [
      "%%R\n",
      "\n",
      "# 2 \n",
      "\n",
      "B = matrix(rep(c(10, -10, 10), 15), byrow=TRUE, nrow=15)\n",
      "print(B)\n",
      "\n",
      "print(crossprod(B))\n"
     ],
     "language": "python",
     "metadata": {},
     "outputs": [
      {
       "metadata": {},
       "output_type": "display_data",
       "text": [
        "      [,1] [,2] [,3]\n",
        " [1,]   10  -10   10\n",
        " [2,]   10  -10   10\n",
        " [3,]   10  -10   10\n",
        " [4,]   10  -10   10\n",
        " [5,]   10  -10   10\n",
        " [6,]   10  -10   10\n",
        " [7,]   10  -10   10\n",
        " [8,]   10  -10   10\n",
        " [9,]   10  -10   10\n",
        "[10,]   10  -10   10\n",
        "[11,]   10  -10   10\n",
        "[12,]   10  -10   10\n",
        "[13,]   10  -10   10\n",
        "[14,]   10  -10   10\n",
        "[15,]   10  -10   10\n",
        "      [,1]  [,2]  [,3]\n",
        "[1,]  1500 -1500  1500\n",
        "[2,] -1500  1500 -1500\n",
        "[3,]  1500 -1500  1500\n"
       ]
      }
     ],
     "prompt_number": 3
    },
    {
     "cell_type": "code",
     "collapsed": false,
     "input": [
      "%%R\n",
      "\n",
      "# 3 \n",
      "matE = matrix(c(0), nrow=6, ncol=6)\n",
      "\n",
      "temp1 = row(matE)-col(matE)\n",
      "temp1[abs(temp1) != 1] = 0\n",
      "result = abs(temp1)\n",
      "\n",
      "print(result)"
     ],
     "language": "python",
     "metadata": {},
     "outputs": [
      {
       "metadata": {},
       "output_type": "display_data",
       "text": [
        "     [,1] [,2] [,3] [,4] [,5] [,6]\n",
        "[1,]    0    1    0    0    0    0\n",
        "[2,]    1    0    1    0    0    0\n",
        "[3,]    0    1    0    1    0    0\n",
        "[4,]    0    0    1    0    1    0\n",
        "[5,]    0    0    0    1    0    1\n",
        "[6,]    0    0    0    0    1    0\n"
       ]
      }
     ],
     "prompt_number": 4
    },
    {
     "cell_type": "code",
     "collapsed": false,
     "input": [
      "%%R\n",
      "\n",
      "# 4\n",
      "\n",
      "result = outer(c(0:4), c(0:4), FUN='+')\n",
      "print(result)"
     ],
     "language": "python",
     "metadata": {},
     "outputs": [
      {
       "metadata": {},
       "output_type": "display_data",
       "text": [
        "     [,1] [,2] [,3] [,4] [,5]\n",
        "[1,]    0    1    2    3    4\n",
        "[2,]    1    2    3    4    5\n",
        "[3,]    2    3    4    5    6\n",
        "[4,]    3    4    5    6    7\n",
        "[5,]    4    5    6    7    8\n"
       ]
      }
     ],
     "prompt_number": 5
    },
    {
     "cell_type": "code",
     "collapsed": false,
     "input": [
      "%%R\n",
      "\n",
      "# 5\n",
      "\n",
      "# a\n",
      "\n",
      "result1 = outer(0:4, 0:4, FUN='+') %%5\n",
      "print(result1)\n",
      "\n",
      "\n",
      "# b \n",
      "\n",
      "result2 = outer(0:9, 0:9, FUN='+') %%10\n",
      "print(result2)\n",
      "\n",
      "# c\n",
      "\n",
      "result3 = outer(0:8, 0:8, FUN='-')\n",
      "result3[upper.tri(result3)] = result3[upper.tri(result3)] + 9\n",
      "print(result3)"
     ],
     "language": "python",
     "metadata": {},
     "outputs": [
      {
       "metadata": {},
       "output_type": "display_data",
       "text": [
        "     [,1] [,2] [,3] [,4] [,5]\n",
        "[1,]    0    1    2    3    4\n",
        "[2,]    1    2    3    4    0\n",
        "[3,]    2    3    4    0    1\n",
        "[4,]    3    4    0    1    2\n",
        "[5,]    4    0    1    2    3\n",
        "      [,1] [,2] [,3] [,4] [,5] [,6] [,7] [,8] [,9] [,10]\n",
        " [1,]    0    1    2    3    4    5    6    7    8     9\n",
        " [2,]    1    2    3    4    5    6    7    8    9     0\n",
        " [3,]    2    3    4    5    6    7    8    9    0     1\n",
        " [4,]    3    4    5    6    7    8    9    0    1     2\n",
        " [5,]    4    5    6    7    8    9    0    1    2     3\n",
        " [6,]    5    6    7    8    9    0    1    2    3     4\n",
        " [7,]    6    7    8    9    0    1    2    3    4     5\n",
        " [8,]    7    8    9    0    1    2    3    4    5     6\n",
        " [9,]    8    9    0    1    2    3    4    5    6     7\n",
        "[10,]    9    0    1    2    3    4    5    6    7     8\n",
        "      [,1] [,2] [,3] [,4] [,5] [,6] [,7] [,8] [,9]\n",
        " [1,]    0    8    7    6    5    4    3    2    1\n",
        " [2,]    1    0    8    7    6    5    4    3    2\n",
        " [3,]    2    1    0    8    7    6    5    4    3\n",
        " [4,]    3    2    1    0    8    7    6    5    4\n",
        " [5,]    4    3    2    1    0    8    7    6    5\n",
        " [6,]    5    4    3    2    1    0    8    7    6\n",
        " [7,]    6    5    4    3    2    1    0    8    7\n",
        " [8,]    7    6    5    4    3    2    1    0    8\n",
        " [9,]    8    7    6    5    4    3    2    1    0\n"
       ]
      }
     ],
     "prompt_number": 6
    },
    {
     "cell_type": "code",
     "collapsed": false,
     "input": [
      "%%R\n",
      "\n",
      "# 6\n",
      "\n",
      "A = outer(0:4, 0:4, FUN='-')\n",
      "A = abs(A) + 1\n",
      "\n",
      "ans = solve(A, c(7, -1, -3, 5, 17))\n",
      "print(A)\n",
      "print(ans)"
     ],
     "language": "python",
     "metadata": {},
     "outputs": [
      {
       "metadata": {},
       "output_type": "display_data",
       "text": [
        "     [,1] [,2] [,3] [,4] [,5]\n",
        "[1,]    1    2    3    4    5\n",
        "[2,]    2    1    2    3    4\n",
        "[3,]    3    2    1    2    3\n",
        "[4,]    4    3    2    1    2\n",
        "[5,]    5    4    3    2    1\n",
        "[1] -2  3  5  2 -4\n"
       ]
      }
     ],
     "prompt_number": 7
    },
    {
     "cell_type": "markdown",
     "metadata": {},
     "source": [
      "*    colSums (x, na.rm = FALSE, dims = 1)\n",
      "*    rowSums (x, na.rm = FALSE, dims = 1)\n",
      "*    colMeans(x, na.rm = FALSE, dims = 1)\n",
      "*    rowMeans(x, na.rm = FALSE, dims = 1)\n",
      "\n",
      "*    .colSums(X, m, n, na.rm = FALSE)\n",
      "*    .rowSums(X, m, n, na.rm = FALSE)\n",
      "*    .colMeans(X, m, n, na.rm = FALSE)\n",
      "*    .rowMeans(X, m, n, na.rm = FALSE)"
     ]
    },
    {
     "cell_type": "code",
     "collapsed": false,
     "input": [
      "%%R\n",
      "\n",
      "# 7\n",
      "\n",
      "set.seed(75)\n",
      "\n",
      "aMat = matrix(sample(10, size=60, replace=T), ncol=10)\n",
      "\n",
      "# a \n",
      "\n",
      "mat4 = aMat > 4\n",
      "each_row_greater_four = apply(mat4, 1, FUN=sum)\n",
      "print(each_row_greater_four)\n",
      "\n",
      "# print(apply(aMat, 1, function(x){sum(x>4)}))\n",
      "\n",
      "# b\n",
      "\n",
      "mat7 = aMat == 7\n",
      "each_row_sevens = apply(mat7, 1, FUN=sum)\n",
      "result = aMat[which(each_row_sevens == 2), ]\n",
      "print(result)\n",
      "\n",
      "# print(which(each_row_sevens == 2))\n",
      "# print(which( apply(aMat,1,function(x){sum(x==7)==2}) ))\n",
      "\n",
      "\n",
      "# c\n",
      "\n",
      "cols = c()\n",
      "\n",
      "for(i in 1:10){\n",
      "    for(j in 1:10){\n",
      "        if( (sum(aMat[, i]) + sum(aMat[, j])) > 75){\n",
      "            cols = c(cols, i, j)\n",
      "                                                   } \n",
      "                  }\n",
      "              }\n",
      "\n",
      "cols = matrix(cols, byrow=TRUE, ncol=2)\n",
      "print(cols)\n",
      "\n",
      "# aMatColSums <- colSums(aMat)\n",
      "# print(cbind( rep(1:10,rep(10,10)), rep(1:10,10) ) [outer(aMatColSums,aMatColSums,\"+\")>75,])"
     ],
     "language": "python",
     "metadata": {},
     "outputs": [
      {
       "metadata": {},
       "output_type": "display_data",
       "text": [
        "[1] 4 7 6 2 6 7\n",
        " [1] 1 8 1 9 9 8 1 3 7 7\n",
        "     [,1] [,2]\n",
        "[1,]    2    2\n",
        "[2,]    2    6\n",
        "[3,]    2    8\n",
        "[4,]    6    2\n",
        "[5,]    6    8\n",
        "[6,]    8    2\n",
        "[7,]    8    6\n",
        "[8,]    8    8\n"
       ]
      }
     ],
     "prompt_number": 47
    },
    {
     "cell_type": "code",
     "collapsed": false,
     "input": [
      "%%R\n",
      "\n",
      "# 8 \n",
      "\n",
      "# a\n",
      "\n",
      "i = 1:20\n",
      "j = 1:5\n",
      "\n",
      "denom = j+3\n",
      "ans = sum(sapply(i, function(x){\n",
      "                      j = 1:5\n",
      "                      denom = j+3\n",
      "                      return(sum(x^4/denom))}))\n",
      "\n",
      "print(ans)\n",
      "\n",
      "# b\n",
      "\n",
      "i = i^4\n",
      "ans = sum(sapply(i, function(x){\n",
      "                                j = 1:5\n",
      "                                i = x^(0.25)\n",
      "                                denom = 3 + (i*j)\n",
      "                                return(sum(x/denom))}))\n",
      "print(ans)\n",
      "\n",
      "# c\n",
      "\n",
      "i = 1:10\n",
      "ans = sum(sapply(i, function(x){\n",
      "                                j = 1:x\n",
      "                                numer = x^4\n",
      "                                denom = 3 + (x*j)\n",
      "                                return(sum(numer/denom))}))\n",
      "\n",
      "print(ans)"
     ],
     "language": "python",
     "metadata": {},
     "outputs": [
      {
       "metadata": {},
       "output_type": "display_data",
       "text": [
        "[1] 639215.3\n",
        "[1] 89912.02\n",
        "[1] 6944.743\n"
       ]
      }
     ],
     "prompt_number": 70
    },
    {
     "cell_type": "code",
     "collapsed": false,
     "input": [],
     "language": "python",
     "metadata": {},
     "outputs": []
    }
   ],
   "metadata": {}
  }
 ]
}