{
 "metadata": {
  "name": ""
 },
 "nbformat": 3,
 "nbformat_minor": 0,
 "worksheets": [
  {
   "cells": [
    {
     "cell_type": "heading",
     "level": 1,
     "metadata": {},
     "source": [
      "Homework 9 - R - Vectors and types"
     ]
    },
    {
     "cell_type": "code",
     "collapsed": false,
     "input": [
      "%load_ext rmagic"
     ],
     "language": "python",
     "metadata": {
      "slideshow": {
       "slide_type": "fragment"
      }
     },
     "outputs": [],
     "prompt_number": 1
    },
    {
     "cell_type": "markdown",
     "metadata": {},
     "source": [
      "**Exercise 1**\n",
      "\n",
      "Create the vectors, store each of them in a variable of your convenience, and print these variables:\n",
      "\n",
      "* $(1,2,3,\\dots, 19, 20)$"
     ]
    },
    {
     "cell_type": "code",
     "collapsed": false,
     "input": [
      "%%R\n",
      "\n",
      "x = 1:20\n",
      "\n",
      "print(x)"
     ],
     "language": "python",
     "metadata": {},
     "outputs": [
      {
       "metadata": {},
       "output_type": "display_data",
       "text": [
        " [1]  1  2  3  4  5  6  7  8  9 10 11 12 13 14 15 16 17 18 19 20\n"
       ]
      }
     ],
     "prompt_number": 2
    },
    {
     "cell_type": "markdown",
     "metadata": {},
     "source": [
      "* $(20, 10,\\dots, 2, 1)$"
     ]
    },
    {
     "cell_type": "code",
     "collapsed": false,
     "input": [
      "%%R\n",
      "\n",
      "x = rev(1:20)\n",
      "\n",
      "print(x)"
     ],
     "language": "python",
     "metadata": {},
     "outputs": [
      {
       "metadata": {},
       "output_type": "display_data",
       "text": [
        " [1] 20 19 18 17 16 15 14 13 12 11 10  9  8  7  6  5  4  3  2  1\n"
       ]
      }
     ],
     "prompt_number": 3
    },
    {
     "cell_type": "markdown",
     "metadata": {},
     "source": [
      "* $(1, 2, 3, \\dots, 19, 20, 19, 18, \\dots, 2, 1)$"
     ]
    },
    {
     "cell_type": "code",
     "collapsed": false,
     "input": [
      "%%R\n",
      "\n",
      "x = c(1:20, 19:1)\n",
      "\n",
      "print(x)\n",
      "\n"
     ],
     "language": "python",
     "metadata": {},
     "outputs": [
      {
       "metadata": {},
       "output_type": "display_data",
       "text": [
        " [1]  1  2  3  4  5  6  7  8  9 10 11 12 13 14 15 16 17 18 19 20 19 18 17 16 15\n",
        "[26] 14 13 12 11 10  9  8  7  6  5  4  3  2  1\n"
       ]
      }
     ],
     "prompt_number": 4
    },
    {
     "cell_type": "markdown",
     "metadata": {},
     "source": [
      "* $(4, 6, 3)$ "
     ]
    },
    {
     "cell_type": "code",
     "collapsed": false,
     "input": [
      "%%R\n",
      "\n",
      "x = c(4, 6, 3)"
     ],
     "language": "python",
     "metadata": {},
     "outputs": [],
     "prompt_number": 5
    },
    {
     "cell_type": "markdown",
     "metadata": {},
     "source": [
      "Look at the online help for the function [rep](http://stat.ethz.ch/R-manual/R-devel/library/base/html/rep.html), and repeat the previous question the following vectors:\n",
      "\n",
      "* $(4, 6, 3, 4, 6, 3,\\dots, 4, 6, 3)$ where 4 appears 10 times"
     ]
    },
    {
     "cell_type": "code",
     "collapsed": false,
     "input": [
      "%%R\n",
      "\n",
      "y = rep(x, 10)\n",
      "\n",
      "print(y)\n",
      "print(sum(y == 4))"
     ],
     "language": "python",
     "metadata": {},
     "outputs": [
      {
       "metadata": {},
       "output_type": "display_data",
       "text": [
        " [1] 4 6 3 4 6 3 4 6 3 4 6 3 4 6 3 4 6 3 4 6 3 4 6 3 4 6 3 4 6 3\n",
        "[1] 10\n"
       ]
      }
     ],
     "prompt_number": 7
    },
    {
     "cell_type": "markdown",
     "metadata": {},
     "source": [
      "* $(4, 6, 3, 4, 6, 3,\\dots, 4, 6, 3, 4)$ where 4 appears 11 times, and 6 appears 10 times, and 3 appears 10 times"
     ]
    },
    {
     "cell_type": "code",
     "collapsed": false,
     "input": [
      "%%R\n",
      "\n",
      "y = rep(x, length.out=31)\n",
      "\n",
      "print(y)\n",
      "print(sum(y == 4))\n",
      "print(sum(y == 6))\n",
      "print(sum(y == 3))"
     ],
     "language": "python",
     "metadata": {},
     "outputs": [
      {
       "metadata": {},
       "output_type": "display_data",
       "text": [
        " [1] 4 6 3 4 6 3 4 6 3 4 6 3 4 6 3 4 6 3 4 6 3 4 6 3 4 6 3 4 6 3 4\n",
        "[1] 11\n",
        "[1] 10\n",
        "[1] 10\n"
       ]
      }
     ],
     "prompt_number": 10
    },
    {
     "cell_type": "markdown",
     "metadata": {},
     "source": [
      "* $(4, 4,\\dots, 4, 6, 6, \\dots, 6, 3, 3, \\dots, 3)$  where 4 appears 10 times, 6 appears 20 times, and 3 appears 30 times"
     ]
    },
    {
     "cell_type": "code",
     "collapsed": false,
     "input": [
      "%%R\n",
      "\n",
      "z = rep(x, times=c(10, 20, 30))\n",
      "\n",
      "print(z)\n"
     ],
     "language": "python",
     "metadata": {},
     "outputs": [
      {
       "metadata": {},
       "output_type": "display_data",
       "text": [
        " [1] 4 4 4 4 4 4 4 4 4 4 6 6 6 6 6 6 6 6 6 6 6 6 6 6 6 6 6 6 6 6 3 3 3 3 3 3 3 3\n",
        "[39] 3 3 3 3 3 3 3 3 3 3 3 3 3 3 3 3 3 3 3 3 3 3\n"
       ]
      }
     ],
     "prompt_number": 11
    },
    {
     "cell_type": "markdown",
     "metadata": {},
     "source": [
      "**Exercise 2**\n",
      "\n",
      "Create a vector of the values $e^x\\cos(x)$ at $x=3, 3.1, 3.2, \\dots, 6$."
     ]
    },
    {
     "cell_type": "code",
     "collapsed": false,
     "input": [
      "%%R\n",
      "\n",
      "x = seq(from=3, to=6, by=0.1)\n",
      "\n",
      "ans = exp(x) * cos(x)\n",
      "\n",
      "print(ans)"
     ],
     "language": "python",
     "metadata": {},
     "outputs": [
      {
       "metadata": {},
       "output_type": "display_data",
       "text": [
        " [1] -19.884531 -22.178753 -24.490697 -26.773182 -28.969238 -31.011186\n",
        " [7] -32.819775 -34.303360 -35.357194 -35.862834 -35.687732 -34.685042\n",
        "[13] -32.693695 -29.538816 -25.032529 -18.975233 -11.157417  -1.362099\n",
        "[19]  10.632038  25.046705  42.099201  61.996630  84.929067 111.061586\n",
        "[25] 140.525075 173.405776 209.733494 249.468441 292.486707 338.564378\n",
        "[31] 387.360340\n"
       ]
      }
     ],
     "prompt_number": 13
    },
    {
     "cell_type": "markdown",
     "metadata": {},
     "source": [
      "**Exercise 3**\n",
      "\n",
      "Create vectors containing the values:\n",
      "\n",
      "*  $(0.1^30.2^1, 0.1^60.2^4, \\dots, 0.1^{36}0.2^{34})$"
     ]
    },
    {
     "cell_type": "code",
     "collapsed": false,
     "input": [
      "%%R\n",
      "\n",
      "x = seq(from=3, to=36, by=3)\n",
      "y = seq(from=1, to=34, by=3)\n",
      "\n",
      "ans = (0.1^x) * (0.2^y)\n",
      "\n",
      "print(ans)"
     ],
     "language": "python",
     "metadata": {},
     "outputs": [
      {
       "metadata": {},
       "output_type": "display_data",
       "text": [
        " [1] 2.000000e-04 1.600000e-09 1.280000e-14 1.024000e-19 8.192000e-25\n",
        " [6] 6.553600e-30 5.242880e-35 4.194304e-40 3.355443e-45 2.684355e-50\n",
        "[11] 2.147484e-55 1.717987e-60\n"
       ]
      }
     ],
     "prompt_number": 14
    },
    {
     "cell_type": "markdown",
     "metadata": {},
     "source": [
      "*  $(2,  \\frac{2^2}2, \\frac{2^3}3,\\dots, \\frac{2^{25}}{25})$"
     ]
    },
    {
     "cell_type": "code",
     "collapsed": false,
     "input": [
      "%%R\n",
      "\n",
      "x = 1:25\n",
      "\n",
      "ans = (2^x) / x\n",
      "\n",
      "print(ans)"
     ],
     "language": "python",
     "metadata": {},
     "outputs": [
      {
       "metadata": {},
       "output_type": "display_data",
       "text": [
        " [1] 2.000000e+00 2.000000e+00 2.666667e+00 4.000000e+00 6.400000e+00\n",
        " [6] 1.066667e+01 1.828571e+01 3.200000e+01 5.688889e+01 1.024000e+02\n",
        "[11] 1.861818e+02 3.413333e+02 6.301538e+02 1.170286e+03 2.184533e+03\n",
        "[16] 4.096000e+03 7.710118e+03 1.456356e+04 2.759411e+04 5.242880e+04\n",
        "[21] 9.986438e+04 1.906502e+05 3.647221e+05 6.990507e+05 1.342177e+06\n"
       ]
      }
     ],
     "prompt_number": 15
    },
    {
     "cell_type": "markdown",
     "metadata": {},
     "source": [
      "**Execise 4**\n",
      "\n",
      "Calculate the following sums:\n",
      "\n",
      "* $$\\sum_{i=10}^{100}(i^3 + 4i^2)$$"
     ]
    },
    {
     "cell_type": "code",
     "collapsed": false,
     "input": [
      "%%R\n",
      "\n",
      "i = 10:100\n",
      "\n",
      "ans = sum(i^3 + (4*(i^2)))\n",
      "print(ans)"
     ],
     "language": "python",
     "metadata": {},
     "outputs": [
      {
       "metadata": {},
       "output_type": "display_data",
       "text": [
        "[1] 26852735\n"
       ]
      }
     ],
     "prompt_number": 17
    },
    {
     "cell_type": "markdown",
     "metadata": {},
     "source": [
      "* $$\\sum_{i=1}^{25}\\left(\\frac{2^i}i + \\frac{3^i}{i^2}\\right)$$"
     ]
    },
    {
     "cell_type": "code",
     "collapsed": false,
     "input": [
      "%%R\n",
      "\n",
      "i = 1:25\n",
      "\n",
      "ans = sum( ((2^i)/i) + ((3^i) / i^2) )\n",
      "\n",
      "print(ans)"
     ],
     "language": "python",
     "metadata": {},
     "outputs": [
      {
       "metadata": {},
       "output_type": "display_data",
       "text": [
        "[1] 2129170437\n"
       ]
      }
     ],
     "prompt_number": 18
    },
    {
     "cell_type": "markdown",
     "metadata": {},
     "source": [
      "**Exercise 5**\n",
      "\n",
      "Use the function <code>paste</code> to create the following character vectors of length $30$:\n",
      "\n",
      "* ('label 1', 'label 2',..., 'label 30')"
     ]
    },
    {
     "cell_type": "code",
     "collapsed": false,
     "input": [
      "%%R\n",
      "\n",
      "ans = paste('label', 1:30, sep=' ')\n",
      "\n",
      "print(ans)"
     ],
     "language": "python",
     "metadata": {},
     "outputs": [
      {
       "metadata": {},
       "output_type": "display_data",
       "text": [
        " [1] \"label 1\"  \"label 2\"  \"label 3\"  \"label 4\"  \"label 5\"  \"label 6\" \n",
        " [7] \"label 7\"  \"label 8\"  \"label 9\"  \"label 10\" \"label 11\" \"label 12\"\n",
        "[13] \"label 13\" \"label 14\" \"label 15\" \"label 16\" \"label 17\" \"label 18\"\n",
        "[19] \"label 19\" \"label 20\" \"label 21\" \"label 22\" \"label 23\" \"label 24\"\n",
        "[25] \"label 25\" \"label 26\" \"label 27\" \"label 28\" \"label 29\" \"label 30\"\n"
       ]
      }
     ],
     "prompt_number": 19
    },
    {
     "cell_type": "markdown",
     "metadata": {},
     "source": [
      "* ('fn1', 'fn2', ..., 'fn30')"
     ]
    },
    {
     "cell_type": "code",
     "collapsed": false,
     "input": [
      "%%R\n",
      "\n",
      "\n",
      "ans = paste('fn', 1:30, sep='')\n",
      "\n",
      "print(ans)"
     ],
     "language": "python",
     "metadata": {},
     "outputs": [
      {
       "metadata": {},
       "output_type": "display_data",
       "text": [
        " [1] \"fn1\"  \"fn2\"  \"fn3\"  \"fn4\"  \"fn5\"  \"fn6\"  \"fn7\"  \"fn8\"  \"fn9\"  \"fn10\"\n",
        "[11] \"fn11\" \"fn12\" \"fn13\" \"fn14\" \"fn15\" \"fn16\" \"fn17\" \"fn18\" \"fn19\" \"fn20\"\n",
        "[21] \"fn21\" \"fn22\" \"fn23\" \"fn24\" \"fn25\" \"fn26\" \"fn27\" \"fn28\" \"fn29\" \"fn30\"\n"
       ]
      }
     ],
     "prompt_number": 20
    },
    {
     "cell_type": "markdown",
     "metadata": {},
     "source": [
      "**Exercise 6**\n",
      "\n",
      "Let's construct the following vectors \n",
      "\n",
      "$$x=(x_1,\\dots,x_{250})\\qquad\\textrm{and}\\qquad y=(y_1,\\dots,y_{250})$$\n",
      "\n",
      "\n",
      "of random integers in the range $0, 1, \\dots, 999$, using the random number generator function <code>sample</code>:"
     ]
    },
    {
     "cell_type": "code",
     "collapsed": false,
     "input": [
      "%%R\n",
      "\n",
      "n = 250\n",
      "x = sample(0:999, n, replace=TRUE)\n",
      "y = sample(0:999, n, replace=TRUE)\n",
      "\n",
      "print(head(x))\n",
      "print(head(y))\n"
     ],
     "language": "python",
     "metadata": {},
     "outputs": [
      {
       "metadata": {},
       "output_type": "display_data",
       "text": [
        "[1] 414 542 417 304 445  33\n",
        "[1] 210 311 438 518 901 308\n"
       ]
      }
     ],
     "prompt_number": 32
    },
    {
     "cell_type": "markdown",
     "metadata": {},
     "source": [
      "You can find [here](http://stat.ethz.ch/R-manual/R-devel/library/base/html/sample.html) a description of the function <code>sample</code>."
     ]
    },
    {
     "cell_type": "markdown",
     "metadata": {},
     "source": [
      "Let $n$ be the length of the vectors $x$ and $y$ (i.e. $n=250$). From $x$ and $y$, create now the vectors:\n",
      "\n",
      "* $(y_2 - x_1, \\dots, y_n - x_{n-1})$"
     ]
    },
    {
     "cell_type": "code",
     "collapsed": false,
     "input": [
      "%%R\n",
      "\n",
      "ans = y[2:n] - x[1:(n-1)]\n",
      "\n",
      "print(ans)"
     ],
     "language": "python",
     "metadata": {},
     "outputs": [
      {
       "metadata": {},
       "output_type": "display_data",
       "text": [
        "  [1] -103 -104  101  597 -137  957  291  512 -679 -303  693   50 -612 -529 -565\n",
        " [16]    8  109  182 -467 -955  532  224 -697 -617   57  125  488 -610  205 -355\n",
        " [31]   -1 -314 -209  620  398 -222   60  522  677  188  307 -868  619 -129 -200\n",
        " [46] -100  433  312   12  454  -34 -121  -61  308 -166  131  350 -660 -179  661\n",
        " [61] -626 -265 -554    7   23 -203  372   21 -172 -202 -287  -29 -234 -243  678\n",
        " [76] -698 -160 -488 -290  254 -399  -11 -227 -574 -107 -264 -161 -338 -842  540\n",
        " [91]  715 -893   86 -521  234 -144 -287  840 -264 -953  225 -229  339  364   98\n",
        "[106] -151 -461  421 -115  775 -478 -132   67 -117  690  288  220  720  190  503\n",
        "[121] -418 -369 -408   55 -696 -462  124 -510  587  407 -153    1 -510   43 -334\n",
        "[136]  -89 -138   93  386  182  -91 -136 -104 -446   99  225  -94  443 -100  610\n",
        "[151] -504 -332 -743  362   52 -470   78 -286   62  736  529  -54  378 -616 -275\n",
        "[166]  668  -84  310 -288   94  558  115 -189 -605  -93 -328  350  529 -854 -597\n",
        "[181] -254 -514  583  327 -655  547 -284  -64   71   90 -465  245  196 -166   -4\n",
        "[196] -447  703  153  117  840 -565 -360 -499 -735 -180  -28  -73 -396 -814   50\n",
        "[211]  151  207  -50  283 -323 -103  477  240 -366  -48  165   14 -364  247  -46\n",
        "[226] -589  403    6 -336  137  125  260 -191 -306 -687   44  337 -256 -359 -140\n",
        "[241]  550  490  374 -113 -529 -337  -77 -406   35\n"
       ]
      }
     ],
     "prompt_number": 33
    },
    {
     "cell_type": "markdown",
     "metadata": {},
     "source": [
      "* $\\left(\\frac{\\sin(y_1)}{\\cos(x_2)},\\dots, \\frac{\\sin(y_{n-1})}{\\cos(x_n)}\\right)$"
     ]
    },
    {
     "cell_type": "code",
     "collapsed": false,
     "input": [
      "%%R\n",
      "\n",
      "sines = sin(y[1:(n-1)])\n",
      "cosines = cos(x[2:n])\n",
      "\n",
      "tans = sines/cosines\n",
      "\n",
      "print(head(tans))"
     ],
     "language": "python",
     "metadata": {},
     "outputs": [
      {
       "metadata": {},
       "output_type": "display_data",
       "text": [
        "[1]  -6.21997471  -0.02623758   1.30477686   0.79196953 -44.80465567\n",
        "[6]  -0.32913630\n"
       ]
      }
     ],
     "prompt_number": 34
    },
    {
     "cell_type": "markdown",
     "metadata": {},
     "source": [
      "* $(x_1 + 2x_2 - x_3,\\dots, x_2 + 2x_3 -x_4, \\dots, x_{n-2} + 2x_{n-1}- x_n)$"
     ]
    },
    {
     "cell_type": "code",
     "collapsed": false,
     "input": [
      "%%R\n",
      "\n",
      "x1 = x[1:(n-2)]\n",
      "x2 = x[2:(n-1)]\n",
      "x3 = x[3:n]\n",
      "\n",
      "ans = x1 + (2 * x2) - x3\n",
      "\n",
      "print(ans)"
     ],
     "language": "python",
     "metadata": {},
     "outputs": [
      {
       "metadata": {},
       "output_type": "display_data",
       "text": [
        "  [1] 1081 1072  580 1161  264  299   13  799 2224  665  -89 1156 1556 2165  374\n",
        " [16]  586  625 1200 2530 1433 -634  979 2630  815  689 -240 1027 1754 1929 -193\n",
        " [31]  979 1924  225  438 1135 1261 1386  493 -128  531 2335  594  532   61 1791\n",
        " [46] 1640   -5 1404  195  408 1724 1925 -335 1595 1627   92 1336 1253 -576 1180\n",
        " [61] 1998 2353  541  364  476  -22 1487 1857  809  970  -24 1802 1465  251 1378\n",
        " [76] 1069 1268 1927  583  820  466   26  757 1078 2124 1200  167 1981 1130  -85\n",
        " [91] 1581 1093 1931  832  -66 1468  107  244 2045 1351 1308  888  502  989 1684\n",
        "[106] 2383  497 1979  584  490 1936 1744  927  839  218  550  317  206 -124  817\n",
        "[121] 2040 1500 1678 1961 2252  661 1354  610  673  570  429 1760 1348 1621 1307\n",
        "[136] 1049 1239 1168 1403  869  592 1652 1888  932 1824  705  -93 1710  669 1534\n",
        "[151]  771 1497 1209  915 1384 1423 2594  836   26  173 1808  -23 1349 1661 -152\n",
        "[166] 1384 1410 1676  779  456   62 1419 1922  971 2113  705   93 1597 1904 1028\n",
        "[181] 1770  552  183 1573  432  805 1682 1836   60 1048  790  453  448 -142 1353\n",
        "[196]  244  162 1825    7  634 1636 1591 1664 1632 1959 1544 1384 2322 1015  421\n",
        "[211]  998  678  278 1148 1193  294 -174  366  687 2118  396  355  907 1282 2304\n",
        "[226]  471  675  987  183 1436   30  594 1594 1880 1621  843 1268 2162 1734 1192\n",
        "[241]  505    5 1136 1590 1510 2026 1278 1634\n"
       ]
      }
     ],
     "prompt_number": 35
    },
    {
     "cell_type": "markdown",
     "metadata": {},
     "source": [
      "Then calculate\n",
      "\n",
      "$$\\sum_{i=1}^{n-1}\\frac{e^{-x_{i+1}}}{x_i+10}$$"
     ]
    },
    {
     "cell_type": "code",
     "collapsed": false,
     "input": [
      "%%R\n",
      "\n",
      "ans = exp(-x[2:n]) / (x[1:(n-1)] + 10)\n",
      "\n",
      "print(sum(ans))"
     ],
     "language": "python",
     "metadata": {},
     "outputs": [
      {
       "metadata": {},
       "output_type": "display_data",
       "text": [
        "[1] 0.0007164393\n"
       ]
      }
     ],
     "prompt_number": 38
    },
    {
     "cell_type": "markdown",
     "metadata": {},
     "source": [
      "**Exercise 7**\n",
      "\n",
      "This question uses the vectors $x$ and $y$ created in the previous question and the functions \n",
      "[sort](http://stat.ethz.ch/R-manual/R-devel/library/base/html/sort.html),\n",
      "[order](http://stat.ethz.ch/R-manual/R-devel/library/base/html/order.html),\n",
      "[mean](http://stat.ethz.ch/R-manual/R-devel/library/base/html/mean.html),\n",
      "[sqrt](http://stat.ethz.ch/R-manual/R-devel/library/base/html/MathFun.html),\n",
      "[sum](http://stat.ethz.ch/R-manual/R-devel/library/base/html/sum.html),\n",
      "[abs](http://stat.ethz.ch/R-manual/R-devel/library/base/html/MathFun.html).\n",
      "\n",
      "\n",
      "* Pick out the values in $x$ which are > 600"
     ]
    },
    {
     "cell_type": "code",
     "collapsed": false,
     "input": [
      "%%R\n",
      "\n",
      "ans = x[x > 600]\n",
      "\n",
      "print(ans)\n",
      "\n"
     ],
     "language": "python",
     "metadata": {},
     "outputs": [
      {
       "metadata": {},
       "output_type": "display_data",
       "text": [
        "  [1] 690 809 797 750 741 842 967 932 911 830 756 787 603 614 886 947 669 845\n",
        " [19] 985 719 998 878 756 903 634 977 783 722 680 601 684 891 925 895 786 639\n",
        " [37] 970 733 912 873 926 638 934 782 990 722 934 912 797 644 926 602 782 626\n",
        " [55] 614 913 725 743 854 805 806 784 783 927 746 879 908 654 921 767 862 941\n",
        " [73] 730 696 700 686 776 617 709 734 850 798 855 844 911 707 781 885 802 749\n",
        " [91] 813 631 703 863 835 653 850 952 809 787 793 863\n"
       ]
      }
     ],
     "prompt_number": 40
    },
    {
     "cell_type": "markdown",
     "metadata": {},
     "source": [
      "* What are the index positions in $y$ of the values which are > 600?"
     ]
    },
    {
     "cell_type": "code",
     "collapsed": false,
     "input": [
      "%%R\n",
      "\n",
      "ans = which(x > 600)\n",
      "\n",
      "print(ans)"
     ],
     "language": "python",
     "metadata": {},
     "outputs": [
      {
       "metadata": {},
       "output_type": "display_data",
       "text": [
        "  [1]   9  10  13  14  15  19  20  23  24  28  29  32  36  41  42  46  49  52\n",
        " [19]  55  58  61  62  63  68  69  73  76  78  79  84  85  86  89  92  94  97\n",
        " [37] 100 105 106 107 109 111 112 121 122 123 124 125 126 128 133 134 135 138\n",
        " [55] 140 143 144 146 149 151 153 156 157 158 162 164 167 169 173 174 176 179\n",
        " [73] 180 182 185 187 188 196 199 201 202 203 204 205 206 207 208 209 221 225\n",
        " [91] 226 231 233 234 235 236 238 239 244 245 246 247\n"
       ]
      }
     ],
     "prompt_number": 41
    },
    {
     "cell_type": "markdown",
     "metadata": {},
     "source": [
      "* What are the values in $x$ which correspond to the values in $y$ which are > 600? (By correspond, we mean at the same index positions.)"
     ]
    },
    {
     "cell_type": "code",
     "collapsed": false,
     "input": [
      "%%R\n",
      "\n",
      "ans = x[y > 600]\n",
      "\n",
      "print(ans)\n"
     ],
     "language": "python",
     "metadata": {},
     "outputs": [
      {
       "metadata": {},
       "output_type": "display_data",
       "text": [
        " [1] 445 247 690 312 483 842  26 830 588 491 603 466 108 189 886 394 410 127  61\n",
        "[20] 562 419 998 756 903 634 402 783 342 283 895 592 593 435 733 912 873 926 148\n",
        "[39] 638 570 330  97 172 782 722 912 410 335 782 578 614 403 725 137 854 310 805\n",
        "[58] 599 784 927  43 371 746  55 908 578 654 344 767 941 382 700 686 556  52 423\n",
        "[77]  16 734 911 707 781 258  28 749 813  51 520 850 204 305 809 787 493   1\n"
       ]
      }
     ],
     "prompt_number": 43
    },
    {
     "cell_type": "markdown",
     "metadata": {},
     "source": [
      "* Create the vector $\\left(|x_1 - \\bar{x}|^{\\frac12}, |x_2 - \\bar{x}|^{\\frac12}, \\dots, |x_3 - \\bar{x}|^{\\frac12}\\right)$, where $\\bar{x}$ denotes the mean of the vector $x=(x_1,\\dots, x_n)$."
     ]
    },
    {
     "cell_type": "code",
     "collapsed": false,
     "input": [
      "%%R\n",
      "\n",
      "mu = mean(x)\n",
      "\n",
      "ans = sqrt(abs(x - mu))\n",
      "\n",
      "print(head(ans))"
     ],
     "language": "python",
     "metadata": {},
     "outputs": [
      {
       "metadata": {},
       "output_type": "display_data",
       "text": [
        "[1]  9.840122  5.583189  9.686485 14.381516  8.113446 21.859277\n"
       ]
      }
     ],
     "prompt_number": 46
    },
    {
     "cell_type": "markdown",
     "metadata": {},
     "source": [
      "* How many values in $y$ are within 200 of the maximum value of the terms in $y$?"
     ]
    },
    {
     "cell_type": "code",
     "collapsed": false,
     "input": [
      "%%R\n",
      "\n",
      "max_y = max(y)\n",
      "\n",
      "print(sum( (max_y - y) < 200 & y < max_y))"
     ],
     "language": "python",
     "metadata": {},
     "outputs": [
      {
       "metadata": {},
       "output_type": "display_data",
       "text": [
        "[1] 41\n"
       ]
      }
     ],
     "prompt_number": 52
    },
    {
     "cell_type": "markdown",
     "metadata": {},
     "source": [
      "* How many numbers in $x$ are divisible by 2? (Note that the modulo operator is denoted <code>%%</code>.)"
     ]
    },
    {
     "cell_type": "code",
     "collapsed": false,
     "input": [
      "%%R\n",
      "\n",
      "print(sum(x %% 2 == 0))"
     ],
     "language": "python",
     "metadata": {},
     "outputs": [
      {
       "metadata": {},
       "output_type": "display_data",
       "text": [
        "[1] 127\n"
       ]
      }
     ],
     "prompt_number": 53
    },
    {
     "cell_type": "markdown",
     "metadata": {},
     "source": [
      "* Sort the numbers in the vector $x$ in the order of increasing values in $y$."
     ]
    },
    {
     "cell_type": "markdown",
     "metadata": {},
     "source": [
      "**Solution:** The function <code>order(x)</code> returns an integer vector of the same length as <code>x</code> with the positions of the elments of <code>x</code> sorted in ascenting order."
     ]
    },
    {
     "cell_type": "code",
     "collapsed": false,
     "input": [
      "%%R\n",
      "\n",
      "ans = x[order(y)]\n",
      "\n",
      "print(ans)"
     ],
     "language": "python",
     "metadata": {},
     "outputs": [
      {
       "metadata": {},
       "output_type": "display_data",
       "text": [
        "  [1] 787 492 149 809 246 601 487  51 144 684 225 925 542 462 312 289 209 315\n",
        " [19] 806 298 501 229 501 639 244 504 730 571 597 177 947 453  62 844 497 188\n",
        " [37] 204 239 617 600 653 316 934 533 250 850  25  67 344 375 510 119 750 146\n",
        " [55]  37 302 414 303 797  35 756 741 977  71   3 680 911 696 932 793 322 464\n",
        " [73] 307 133 475 328 124 855 386 295  33 542 703 251 551 934 783 970 254 405\n",
        " [91] 722 985  30 797 243 631 365 990 210 220 878 967 614 644 562 279 885  59\n",
        "[109] 155 776 407 275 187 913 602 626 879 417 669 862 545 218 402 565 863 921\n",
        "[127] 314 123 598 484 464 798 364 445 802 105  44  84 926  98 863 596 304 144\n",
        "[145] 228 719 196 835 845 743 709 891 786 584 592 952   1 483 830 756 722 466\n",
        "[163] 342  52 781 330  43 782 784 911 842 394 258 491 809  61 903  55 305 926\n",
        "[181] 787 520 382 813 435 700 593 556 578 998 562 423 767 690 402 782 310 854\n",
        "[199] 686  51 873 410 312  26 283 189 493 403 733 570 725 148 908 335 419 578\n",
        "[217] 172  16 912 127 749 410 344 734 850 927 599 592 707 654 603 746 445 371\n",
        "[235] 805 886 638 634 204 588 614  28 137 941 108 912 247  97 783 895\n"
       ]
      }
     ],
     "prompt_number": 54
    },
    {
     "cell_type": "markdown",
     "metadata": {},
     "source": [
      "* Pick out the elements in $y$ at index positions $1, 4, 7, 10, 13, \\dots$ "
     ]
    },
    {
     "cell_type": "code",
     "collapsed": false,
     "input": [
      "%%R\n",
      "\n",
      "ans = y[seq(from=1, to=250, by=3)]\n",
      "\n",
      "print(ans)"
     ],
     "language": "python",
     "metadata": {},
     "outputs": [
      {
       "metadata": {},
       "output_type": "display_data",
       "text": [
        " [1] 210 518 990  11 362 176 665 778 294 611 233 389 381 785  18 107 439 562 352\n",
        "[20] 546 723 202  48 462 221 994 234   8  27 181 784 578  76 328 364 831 696 160\n",
        "[39] 213 499 746 314 335 775 511 448 719 312 279  43 920  63 314 105 692 189 888\n",
        "[58] 853 162 494 133 702 756 627 449 140 576 169 120 634 279 208 219  39  42 703\n",
        "[77] 490 756 557 857 452 679 456 606\n"
       ]
      }
     ],
     "prompt_number": 56
    },
    {
     "cell_type": "markdown",
     "metadata": {},
     "source": [
      "**Exercise 8**\n",
      "\n",
      "* By using the function [cumprod](http://stat.ethz.ch/R-manual/R-devel/library/base/html/cumsum.html) or otherwise, calculate\n",
      "\n",
      "$$1 + \\frac23 + \\left(\\frac23\\frac45\\right) + \\left(\\frac23\\frac45\\frac67\\right) + \\left(\\frac23\\frac45\\frac67\\dots\\frac{38}{39}\\right) $$"
     ]
    },
    {
     "cell_type": "code",
     "collapsed": false,
     "input": [
      "%%R\n",
      "\n",
      "num = seq(from=2, to=38, by=2)\n",
      "denom = seq(from=3, to=39, by=2)\n",
      "\n",
      "z = cumprod(num/denom)\n",
      "ans = 1 + sum(z)\n",
      "\n",
      "print(ans)"
     ],
     "language": "python",
     "metadata": {},
     "outputs": [
      {
       "metadata": {},
       "output_type": "display_data",
       "text": [
        "[1] 6.976346\n"
       ]
      }
     ],
     "prompt_number": 59
    },
    {
     "cell_type": "code",
     "collapsed": false,
     "input": [],
     "language": "python",
     "metadata": {},
     "outputs": []
    }
   ],
   "metadata": {}
  }
 ]
}