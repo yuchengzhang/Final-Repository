{
 "metadata": {
  "name": "",
  "signature": "sha256:ebfa730a25f1d90a260e51eab3656463ce521295d033beb2e0ee101aa718c89c"
 },
 "nbformat": 3,
 "nbformat_minor": 0,
 "worksheets": [
  {
   "cells": [
    {
     "cell_type": "heading",
     "level": 1,
     "metadata": {},
     "source": [
      "Stat 133 - Final Exam - Guideline"
     ]
    },
    {
     "cell_type": "heading",
     "level": 2,
     "metadata": {},
     "source": [
      "Exam Info"
     ]
    },
    {
     "cell_type": "markdown",
     "metadata": {},
     "source": [
      "The final exam will take place on **Wednesday, May 14 from 11:30 to 2:30 **.\n",
      "\n",
      "The class will be split into two groups during exam time. One group will take the exam in 212 Wheeler Hall (HMF) and the other group in 1435 Tolman Hall (TMF):\n",
      "\n",
      "* If the **first letter of your last name is in the range A-K** go to **212 Wheeler Hall** to take the exam.\n",
      "* If the **first letter of your last name is in the range L-Z** go to **1535 Tolman Hall** to take the exam.\n",
      "\n",
      "**Please bring your SID card.**\n",
      "\n",
      "At the exam start, and before we shut down the internet, you'll be able to download your github repository with all the documentation you chose to pu in it. Make sure that you have in there all you need before the exam.\n",
      "\n",
      "The final exam will be similar to the midterm: you'll write real code, using tests to help you, that will be auto-graded. So it's very important that you write running code, otherwise you'll receive no points. "
     ]
    },
    {
     "cell_type": "heading",
     "level": 2,
     "metadata": {},
     "source": [
      "Final Exam Topics"
     ]
    },
    {
     "cell_type": "markdown",
     "metadata": {},
     "source": [
      "This final exam will be exclusively on R. \n",
      "\n",
      "**You are responsible for all the material covered in the R notebooks and the R homework assignments.** \n",
      "\n",
      "Here is a list on the main focus points:\n",
      "\n",
      "\n",
      "* **Vectors and Matrices:** creation, type convertion, recycling, subsetting and logical indexing, apply function familly\n",
      "\n",
      "\n",
      "* **Lists and Classes:** creation, subsetting, dollar sign, double and single bracket operator, apply function family; class contructor, class attributes, and calls methods; generic functions\n",
      "\n",
      "\n",
      "* **Data Frames and Basic Statistics:** creation, subsetting (both ways: list style and matric style) and logical indexing, column arithmetic, apply function familly, basic stat and math functions (mean, median, summary, sqrt, exp, etc.)\n",
      "\n",
      "\n",
      "* **Array Programming:** coding using only vectorized operations plus the apply function family on arrays (vectors, matrices, and $n$-dimensional arrays); replace if statements by logical indexing and for statements by vectorized operations and apply functions\n",
      "\n",
      "\n",
      "* **Data Analysis and Visualization:** basic plots (boxplots, histograms, scatterplots, and dendrograms), clustering functions and linear regression functions\n",
      "\n",
      "\n",
      "* **Data Gathering and Data Cleaning:** XML (document struture, data extraction, and conversion into data frame) and regular expressions (grep, sub, and the extended set of regular expressions)"
     ]
    },
    {
     "cell_type": "heading",
     "level": 2,
     "metadata": {},
     "source": [
      "Exam Structure"
     ]
    },
    {
     "cell_type": "markdown",
     "metadata": {},
     "source": [
      "The exam will be **very similar to the graded labs** and to the midterm: You'll be given files with **empty function bodies to implement in R**, along with some tests from the R library `RUnit` to help you figure out the correctness of your implementation. The goal is to pass a maximum of the tests. \n",
      "\n",
      "Each of the tests will focus on an aspect of your implementation and be worth a certain number of points (which will be specified in the exam file). We will use the same number and same kind of tests as the ones in your exam to compute your grade, but with possibly different numeric values and slightly different cases. Thus, **it is important that you are comfortable running these `RUnit` tests**: Executing the R exam files as follows from the terminal\n",
      "\n",
      "```$ Rscript file.R ```\n",
      "\n",
      "will output which of the tests successed and which of them triggered an error. Please redo your R labs to make sure you are confortable with the output of these tests. "
     ]
    },
    {
     "cell_type": "heading",
     "level": 2,
     "metadata": {},
     "source": [
      "Advices for the preparation"
     ]
    },
    {
     "cell_type": "markdown",
     "metadata": {},
     "source": [
      "Start with  [the review session notebook](http://nbviewer.ipython.org/urls/db.tt/4onLImB0?create=1). Try to understand what's in it, and focus on the examples. Try to play with them within the notebook to make sure you are really understanding, what's happening.\n",
      "\n",
      "If you get stuck, then go back to the [class R lecture notes](https://bspace.berkeley.edu/portal/site/926cb4c1-a81d-4707-adc6-5e3615945025/page/c380b033-e58e-40c3-ac95-c4db7a8a27d7) (Lectures 10 to 17), and read just enough to get you though the part you don't understand in the review session notebook. If the these notebooks are not enough to help you get though, please review the corresponding material either in [Phil Spector Stat 133 lecture notes](http://www.stat.berkeley.edu/users/spector/s133/schedule.html), or in [The Art of R Programming](http://sens.tistory.com/attachment/cfile8.uf@2375DC3D515423F9110CA1.pdf). Once done, make sure your are comfortable with all the R programming topics listed in [here](http://benoitdherin.github.io/R-basics/) and with the [data analysis notebooks](http://benoitdherin.github.io/data-analysis-with-R/).  Then, make sure you do (and redo) all the [R homework assignments](http://berkeley-stat133.github.io/pages/schedule.html) listed in the weekly schedule. \n",
      "\n",
      "During the review wekk, I will hold two review sessions during usual lecture time.\n",
      "\n",
      "I wish you the best of luck with your final exam preparation!"
     ]
    },
    {
     "cell_type": "heading",
     "level": 1,
     "metadata": {},
     "source": [
      "Practice Final Exam"
     ]
    },
    {
     "cell_type": "markdown",
     "metadata": {},
     "source": [
      "You'll find below the practice exam from last semester. The format of the exam will be different, since you will be doing the exam on real computer and not on a sheet of paper, but trying it will nevertheless be a very good exercise to help you prepare for the final."
     ]
    },
    {
     "cell_type": "code",
     "collapsed": false,
     "input": [
      "%load_ext rmagic\n",
      "%R rm()"
     ],
     "language": "python",
     "metadata": {},
     "outputs": [],
     "prompt_number": 2
    },
    {
     "cell_type": "heading",
     "level": 2,
     "metadata": {},
     "source": [
      "PART I: Vector and Function Basics"
     ]
    },
    {
     "cell_type": "markdown",
     "metadata": {},
     "source": [
      "In the cell below, write **vectorized code** (i.e. no for loops or if statements) to create the following vectors:"
     ]
    },
    {
     "cell_type": "markdown",
     "metadata": {},
     "source": [
      "*  $(1, 2, 3, \\dots, 19, 20, 19, 18, \\dots, 2, 1)$"
     ]
    },
    {
     "cell_type": "code",
     "collapsed": false,
     "input": [
      "%%R\n",
      "\n",
      "x = 1:20\n",
      "y = 19:1\n",
      "ans = c(x, y)\n",
      "\n",
      "print(ans)"
     ],
     "language": "python",
     "metadata": {},
     "outputs": [
      {
       "metadata": {},
       "output_type": "display_data",
       "text": [
        " [1]  1  2  3  4  5  6  7  8  9 10 11 12 13 14 15 16 17 18 19 20 19 18 17 16 15\n",
        "[26] 14 13 12 11 10  9  8  7  6  5  4  3  2  1\n"
       ]
      }
     ],
     "prompt_number": 3
    },
    {
     "cell_type": "markdown",
     "metadata": {},
     "source": [
      "* $(4, 4,\\dots, 4, 6, 6, \\dots, 6, 3, 3, \\dots, 3)$  where 4 appears 10 times, 6 appears 20 times, and 3 appears 30 times"
     ]
    },
    {
     "cell_type": "code",
     "collapsed": false,
     "input": [
      "%%R\n",
      "\n",
      "x = rep(4, 10)\n",
      "y = rep(6, 20)\n",
      "z = rep(3, 30)\n",
      "ans = c(x, y, z)\n",
      "\n",
      "# or ans = rep(c(4, 6, 3), c(10, 20, 30))\n",
      "\n",
      "print(ans)"
     ],
     "language": "python",
     "metadata": {},
     "outputs": [
      {
       "metadata": {},
       "output_type": "display_data",
       "text": [
        " [1] 4 4 4 4 4 4 4 4 4 4 6 6 6 6 6 6 6 6 6 6 6 6 6 6 6 6 6 6 6 6 3 3 3 3 3 3 3 3\n",
        "[39] 3 3 3 3 3 3 3 3 3 3 3 3 3 3 3 3 3 3 3 3 3 3\n"
       ]
      }
     ],
     "prompt_number": 4
    },
    {
     "cell_type": "markdown",
     "metadata": {},
     "source": [
      "* ('label 1', 'label 2',..., 'label 30')"
     ]
    },
    {
     "cell_type": "code",
     "collapsed": false,
     "input": [
      "%%R\n",
      "\n",
      "ans = paste('label', 1:30, sep=' ')\n",
      "\n",
      "print(ans)"
     ],
     "language": "python",
     "metadata": {},
     "outputs": [
      {
       "metadata": {},
       "output_type": "display_data",
       "text": [
        " [1] \"label 1\"  \"label 2\"  \"label 3\"  \"label 4\"  \"label 5\"  \"label 6\" \n",
        " [7] \"label 7\"  \"label 8\"  \"label 9\"  \"label 10\" \"label 11\" \"label 12\"\n",
        "[13] \"label 13\" \"label 14\" \"label 15\" \"label 16\" \"label 17\" \"label 18\"\n",
        "[19] \"label 19\" \"label 20\" \"label 21\" \"label 22\" \"label 23\" \"label 24\"\n",
        "[25] \"label 25\" \"label 26\" \"label 27\" \"label 28\" \"label 29\" \"label 30\"\n"
       ]
      }
     ],
     "prompt_number": 5
    },
    {
     "cell_type": "markdown",
     "metadata": {},
     "source": [
      "* Create a vector containing the values $e^x\\cos(x)$ at $x=3, 3.1, 3.2, \\dots, 6$."
     ]
    },
    {
     "cell_type": "code",
     "collapsed": false,
     "input": [
      "%%R\n",
      "\n",
      "x = seq(3, 6, by=.1)\n",
      "ans = exp(x) * cos(x)\n",
      "\n",
      "print(ans)"
     ],
     "language": "python",
     "metadata": {},
     "outputs": [
      {
       "metadata": {},
       "output_type": "display_data",
       "text": [
        " [1] -19.884531 -22.178753 -24.490697 -26.773182 -28.969238 -31.011186\n",
        " [7] -32.819775 -34.303360 -35.357194 -35.862834 -35.687732 -34.685042\n",
        "[13] -32.693695 -29.538816 -25.032529 -18.975233 -11.157417  -1.362099\n",
        "[19]  10.632038  25.046705  42.099201  61.996630  84.929067 111.061586\n",
        "[25] 140.525075 173.405776 209.733494 249.468441 292.486707 338.564378\n",
        "[31] 387.360340\n"
       ]
      }
     ],
     "prompt_number": 6
    },
    {
     "cell_type": "markdown",
     "metadata": {},
     "source": [
      "* Create the vector $x=(1/2^1,\\dots,1/2^{200})$ and then calculate the following sum in a vectorized way \n",
      "\n",
      "$$\\sum_{i=1}^{199}\\frac{e^{-x_{i+1}}}{x_i+10}$$"
     ]
    },
    {
     "cell_type": "code",
     "collapsed": false,
     "input": [
      "%%R\n",
      "\n",
      "y = rep(.5, 200)\n",
      "z = 1:200\n",
      "x = y^z\n",
      "\n",
      "num = exp(-1*x[2:200])\n",
      "denom = x[1:199] + 10\n",
      "\n",
      "ans = sum(num/denom)\n",
      "print(ans)\n"
     ],
     "language": "python",
     "metadata": {},
     "outputs": [
      {
       "metadata": {},
       "output_type": "display_data",
       "text": [
        "[1] 19.84565\n"
       ]
      }
     ],
     "prompt_number": 7
    },
    {
     "cell_type": "markdown",
     "metadata": {},
     "source": [
      "* Write a function <code>simulate.weatherFrame(n, T.freq, H.freq)</code> that return a randomly generated data frame with $n$ observations of the two categorical variables: <code>Temperature</code> whose values can \"Cold\", \"Warm\", and \"Hot\" and <code>Humidity</code> whose values can be \"Low\", \"Normal\", and \"High\". The <code>T.freq</code> argument should specify the occurence frequencies of \"Cold\", \"Warm\", and \"Hot\", while the <code>H.freq</code> argument should specify the occurence frequencies of \"Low\", \"Normal\", and \"High\". The type of both variables should be <code>factor</code>."
     ]
    },
    {
     "cell_type": "code",
     "collapsed": false,
     "input": [
      "%%R\n",
      "\n",
      "simulate.weatherFrame = function(n, T.freq, H.freq){\n",
      "                        temps = c('Cold', 'Warm', 'Hot')\n",
      "                        humidity = c('Low', 'Normal', 'High')\n",
      "                        sim_temp = factor(sample(temps, n, replace=TRUE, prob=T.freq))\n",
      "                        sim_humidity = factor(sample(humidity, n, replace=TRUE, prob=H.freq))\n",
      "                        return(data.frame(Temperature=sim_temp, Humidity=sim_humidity))\n",
      "    }"
     ],
     "language": "python",
     "metadata": {},
     "outputs": [],
     "prompt_number": 8
    },
    {
     "cell_type": "code",
     "collapsed": false,
     "input": [
      "%%R\n",
      "\n",
      "Arizona = simulate.weatherFrame(n=20, T.freq=c(.1, .3, .6), H.freq=c(0.7, 0.2, 0.1))\n",
      "\n",
      "print(Arizona)\n"
     ],
     "language": "python",
     "metadata": {},
     "outputs": [
      {
       "metadata": {},
       "output_type": "display_data",
       "text": [
        "   Temperature Humidity\n",
        "1          Hot     High\n",
        "2          Hot     High\n",
        "3          Hot   Normal\n",
        "4         Warm      Low\n",
        "5         Warm     High\n",
        "6          Hot      Low\n",
        "7          Hot      Low\n",
        "8         Warm      Low\n",
        "9         Warm   Normal\n",
        "10         Hot     High\n",
        "11        Cold      Low\n",
        "12         Hot      Low\n",
        "13        Cold   Normal\n",
        "14         Hot      Low\n",
        "15         Hot      Low\n",
        "16         Hot   Normal\n",
        "17         Hot   Normal\n",
        "18         Hot      Low\n",
        "19        Warm   Normal\n",
        "20        Warm      Low\n"
       ]
      }
     ],
     "prompt_number": 9
    },
    {
     "cell_type": "heading",
     "level": 2,
     "metadata": {},
     "source": [
      "Part II: Writting and Using Classes"
     ]
    },
    {
     "cell_type": "markdown",
     "metadata": {},
     "source": [
      "Consider the following character vector containing personal information:"
     ]
    },
    {
     "cell_type": "markdown",
     "metadata": {},
     "source": [
      "* Write the constructor of a class <code>contact</code> that has the following attributes: <code>Name</code>, <code>Phone</code>, <code>Email</code>, and <code>Age</code>."
     ]
    },
    {
     "cell_type": "code",
     "collapsed": false,
     "input": [
      "%%R\n",
      "\n",
      "contact = function(Name, Phone, Email, Age){\n",
      "                   object = list(Name=Name, Phone=Phone, Email=Email, Age=Age)\n",
      "                   class(object) = 'contact'\n",
      "                   return(object)}\n",
      "\n"
     ],
     "language": "python",
     "metadata": {},
     "outputs": [],
     "prompt_number": 143
    },
    {
     "cell_type": "code",
     "collapsed": false,
     "input": [
      "%%R\n",
      "\n",
      "Bob = contact('Bob Durant', '234-3452', 'bobdurant@bob.com', 13)\n",
      "Paul = contact('Paul Bishop', '894-4532', 'pauljohnones@bob.com', 17)\n",
      "Jane = contact('Jane Donda', '324-6542', 'janemastermike@bob.com', 23)\n",
      "\n",
      "print(class(Bob))\n",
      "print(class(Paul))\n",
      "print(class(Jane))"
     ],
     "language": "python",
     "metadata": {},
     "outputs": [
      {
       "metadata": {},
       "output_type": "display_data",
       "text": [
        "[1] \"contact\"\n",
        "[1] \"contact\"\n",
        "[1] \"contact\"\n"
       ]
      }
     ],
     "prompt_number": 144
    },
    {
     "cell_type": "markdown",
     "metadata": {},
     "source": [
      "* Write the constructor of a class <code>addressBook</code> that has the following attributes: <code>owner</code>, which is a string containing the address book owner name, <code>contacts</code> which is meant to store a list of <code>contact</code> objects, and <code>fields</code> which is a character vector containing the contact fields (i.e. \"Name\", \"Phone\", and \"Email\").\n",
      "\n",
      "The class constructor should set the contact list attribute to the empty list if no <code>contact</code> argument is passsed to it.\n",
      "\n",
      "\n",
      "The class constructor should also create the attribute <code>fields</code> and store the contact fields. Because of that, there is no need of a <code>fields</code> argument for the class constructor."
     ]
    },
    {
     "cell_type": "code",
     "collapsed": false,
     "input": [
      "%%R\n",
      "\n",
      "addressBook = function(owner, contacts=list()){\n",
      "                       if(length(contacts) != 0){\n",
      "                            fields = names(contacts[[1]])}\n",
      "                       else{\n",
      "                            fields = c('Name', 'Phone', 'Email', 'Age')}\n",
      "                       object = list(owner=owner, contacts=contacts, fields=fields)\n",
      "                       class(object) = 'addressBook'\n",
      "                       \n",
      "                       return(object)\n",
      "                       }\n",
      "\n"
     ],
     "language": "python",
     "metadata": {},
     "outputs": [],
     "prompt_number": 145
    },
    {
     "cell_type": "code",
     "collapsed": false,
     "input": [
      "%%R\n",
      "\n",
      "\n",
      "my_book = addressBook(owner='Earl', contacts=list(Bob, Paul, Jane))\n",
      "\n",
      "print(my_book$owner)\n",
      "print(my_book$contacts)\n",
      "print(my_book$fields)\n"
     ],
     "language": "python",
     "metadata": {},
     "outputs": [
      {
       "metadata": {},
       "output_type": "display_data",
       "text": [
        "[1] \"Earl\"\n",
        "[[1]]\n",
        "$Name\n",
        "[1] \"Bob Durant\"\n",
        "\n",
        "$Phone\n",
        "[1] \"234-3452\"\n",
        "\n",
        "$Email\n",
        "[1] \"bobdurant@bob.com\"\n",
        "\n",
        "$Age\n",
        "[1] 13\n",
        "\n",
        "attr(,\"class\")\n",
        "[1] \"contact\"\n",
        "\n",
        "[[2]]\n",
        "$Name\n",
        "[1] \"Paul Bishop\"\n",
        "\n",
        "$Phone\n",
        "[1] \"894-4532\"\n",
        "\n",
        "$Email\n",
        "[1] \"pauljohnones@bob.com\"\n",
        "\n",
        "$Age\n",
        "[1] 17\n",
        "\n",
        "attr(,\"class\")\n",
        "[1] \"contact\"\n",
        "\n",
        "[[3]]\n",
        "$Name\n",
        "[1] \"Jane Donda\"\n",
        "\n",
        "$Phone\n",
        "[1] \"324-6542\"\n",
        "\n",
        "$Email\n",
        "[1] \"janemastermike@bob.com\"\n",
        "\n",
        "$Age\n",
        "[1] 23\n",
        "\n",
        "attr(,\"class\")\n",
        "[1] \"contact\"\n",
        "\n",
        "[1] \"Name\"  \"Phone\" \"Email\" \"Age\"  \n"
       ]
      }
     ],
     "prompt_number": 146
    },
    {
     "cell_type": "markdown",
     "metadata": {},
     "source": [
      "* Write a method <code>as.data.frame</code> for the class <code>addressBook</code> that returns a data frame of the contacts in the address book. (The column should have labels 'Name', 'Phone', 'Email', and 'Age' and be of  the appropriate column types.)\n",
      "\n",
      "**You should use the apply function family here and vectorized code. If you can not do it this way, try with for loops, but points will be deducted.**"
     ]
    },
    {
     "cell_type": "code",
     "collapsed": false,
     "input": [
      "%%R\n",
      "\n",
      "retrieve = function(contact){\n",
      "                             info = list(Name=contact$Name, Phone=contact$Phone, Email=contact$Email, Age=contact$Age)\n",
      "                             return(info)\n",
      "                            }\n",
      "\n",
      "as.data.frame.addressBook = function(object){\n",
      "                                     contacts = object$contacts\n",
      "                                     info = sapply(contacts, retrieve)\n",
      "                                     return(data.frame(t(info)))\n",
      "                                     }\n",
      "    \n",
      "as.data.frame = function(object){\n",
      "                        UseMethod('as.data.frame', object)\n",
      "                        }"
     ],
     "language": "python",
     "metadata": {},
     "outputs": [],
     "prompt_number": 147
    },
    {
     "cell_type": "code",
     "collapsed": false,
     "input": [
      "%%R\n",
      "\n",
      "print(as.data.frame(my_book))"
     ],
     "language": "python",
     "metadata": {},
     "outputs": [
      {
       "metadata": {},
       "output_type": "display_data",
       "text": [
        "         Name    Phone                  Email Age\n",
        "1  Bob Durant 234-3452      bobdurant@bob.com  13\n",
        "2 Paul Bishop 894-4532   pauljohnones@bob.com  17\n",
        "3  Jane Donda 324-6542 janemastermike@bob.com  23\n"
       ]
      }
     ],
     "prompt_number": 148
    },
    {
     "cell_type": "markdown",
     "metadata": {},
     "source": [
      "* Using the method you just created, write a <code>print</code> method for the class <code>addressBook</code> that displays the name of the address book owner followed by the contact information displayed as a data table:"
     ]
    },
    {
     "cell_type": "code",
     "collapsed": false,
     "input": [
      "%%R\n",
      "\n",
      "print.addressBook = function(object){\n",
      "                                     cat('Owner: ', object$owner, '\\n')\n",
      "                                     print(as.data.frame(object))\n",
      "                                     }\n",
      "\n"
     ],
     "language": "python",
     "metadata": {},
     "outputs": [],
     "prompt_number": 218
    },
    {
     "cell_type": "code",
     "collapsed": false,
     "input": [
      "%%R\n",
      "\n",
      "print(my_book)\n"
     ],
     "language": "python",
     "metadata": {},
     "outputs": [
      {
       "metadata": {},
       "output_type": "display_data",
       "text": [
        "Owner:  Earl \n",
        "         Name    Phone                  Email Age\n",
        "1  Bob Durant 234-3452      bobdurant@bob.com  13\n",
        "2 Paul Bishop 894-4532   pauljohnones@bob.com  17\n",
        "3  Jane Donda 324-6542 janemastermike@bob.com  23\n"
       ]
      }
     ],
     "prompt_number": 219
    },
    {
     "cell_type": "markdown",
     "metadata": {},
     "source": [
      "* Suppose our contact data are gathered in the form of character vectors as below:"
     ]
    },
    {
     "cell_type": "code",
     "collapsed": false,
     "input": [
      "%%R\n",
      "\n",
      "info = c('Bob Durant 56years bob@bibishop.com',\n",
      "         'Dan Bribri 10years 415 7838',\n",
      "         'Brig Farty 38years 510 3478',\n",
      "         'Cart Shuok 34years Cart@RATROU.com',\n",
      "         'Krug Erbil 54years Cart@RATROU.com 510 230 450')\n"
     ],
     "language": "python",
     "metadata": {},
     "outputs": [],
     "prompt_number": 151
    },
    {
     "cell_type": "markdown",
     "metadata": {},
     "source": [
      "* Using regular expressions, write a function <code>create.addressBook(info, owner)</code> that takes a character vector as above and returns an <code>addressBook</code> object with the contact attribute set appropriately for each element of <code>info</code>. Write helper functions to break down the problem and your code in small chunks: for instance, you may want to write  getName, getPhone, etc. fucntions"
     ]
    },
    {
     "cell_type": "code",
     "collapsed": false,
     "input": [
      "%%R\n",
      "\n",
      "getName = function(info){\n",
      "                     sub('[0-9]{1,2}years .*$', '', info)\n",
      "                     }\n",
      "\n",
      "getPhone = function(info){\n",
      "                     sub('^[^0-9]*', '', sub('^.*years *', '', info))\n",
      "                    }\n",
      "\n",
      "getEmail = function(info){\n",
      "                     sub('[ 0-9]*$', '', sub('^.*years ', '', info))\n",
      "                     }\n",
      "\n",
      "getAge = function(info){\n",
      "                     sub('.*([0-9]{2})years.*', '\\\\1', info)\n",
      "                     }\n",
      "\n",
      "\n",
      "create.addressBook = function(info, owner){\n",
      "                              names = unlist(getName(info))\n",
      "                              phones = unlist(getPhone(info))\n",
      "                              emails = unlist(getEmail(info))\n",
      "                              ages = unlist(getAge(info))\n",
      "                              contact.list = list()\n",
      "    \n",
      "                              for(i in 1:length(names)){\n",
      "                                  contact.list[[i]] = contact(names[i], phones[i], emails[i], ages[i])}\n",
      "\n",
      "    \n",
      "    return(addressBook(owner, contact.list))\n",
      "    \n",
      "}"
     ],
     "language": "python",
     "metadata": {},
     "outputs": [],
     "prompt_number": 166
    },
    {
     "cell_type": "code",
     "collapsed": false,
     "input": [
      "%%R\n",
      "\n",
      "book = create.addressBook(info, 'Paul RastaBoom')\n",
      "print(book)"
     ],
     "language": "python",
     "metadata": {},
     "outputs": [
      {
       "metadata": {},
       "output_type": "display_data",
       "text": [
        "         Name       Phone            Email Age\n",
        "1 Bob Durant              bob@bibishop.com  56\n",
        "2 Dan Bribri     415 7838                   10\n",
        "3 Brig Farty     510 3478                   38\n",
        "4 Cart Shuok               Cart@RATROU.com  34\n",
        "5 Krug Erbil  510 230 450  Cart@RATROU.com  54\n"
       ]
      }
     ],
     "prompt_number": 167
    },
    {
     "cell_type": "heading",
     "level": 2,
     "metadata": {},
     "source": [
      "Part III: Refactoring Code"
     ]
    },
    {
     "cell_type": "markdown",
     "metadata": {},
     "source": [
      "The following code simulates a data frame containing the homework, midterm, and final grades of a given class. The grades and the student names are randomly generated. This code is not optimal for two reasons:\n",
      "\n",
      "* it is not broken into simple **functions**, which we may reuse to simulate data frame of the same type\n",
      "\n",
      "* it is not **vectorized**, since it loops and branches over vector elements with <code>for</code> and <code>if</code> statements\n"
     ]
    },
    {
     "cell_type": "code",
     "collapsed": false,
     "input": [
      "%%R\n",
      "\n",
      "student.number = 200\n",
      "\n",
      "Homework = rnorm(student.number, mean=50, sd=30)\n",
      "Midterm  = rnorm(student.number, mean=50, sd=30)\n",
      "Final    = rnorm(student.number, mean=50, sd=30)\n",
      "grades   = data.frame(F=Final, M=Midterm, H=Homework)\n",
      "\n",
      "for(i in 1:nrow(grades)){\n",
      "    for(j in 1:ncol(grades)){\n",
      "        if(grades[i,j] > 100) grades[i,j] = 100\n",
      "        if(grades[i,j] < 0  ) grades[i,j] = 0           \n",
      "    }\n",
      "}\n",
      "\n",
      "\n",
      "V = c('a', 'e', 'i','o','u','au','in','an','on','ou')\n",
      "C = letters[-grep('a|e|i|o|u', letters)]\n",
      "I = toupper(C)\n",
      "\n",
      "simulated.names = c()\n",
      "\n",
      "for (i in 1:student.number){\n",
      "    first.name = paste(sample(I,1), sample(V,1), sample(C,1), sample(V,1), sep='')\n",
      "    last.name  = paste(sample(I,1), sample(V,1), sample(C,1), sample(V,1), sep='')\n",
      "    name       = paste(first.name, last.name, sep=' ')\n",
      "    simulated.names = c(simulated.names, name)\n",
      "}\n",
      "\n",
      "\n",
      "row.names(grades) = simulated.names"
     ],
     "language": "python",
     "metadata": {},
     "outputs": [],
     "prompt_number": 168
    },
    {
     "cell_type": "markdown",
     "metadata": {},
     "source": [
      "Here is what the first entries in the simulated data frame <code>grades</code> look like:"
     ]
    },
    {
     "cell_type": "code",
     "collapsed": false,
     "input": [
      "%%R\n",
      "print(head(grades))"
     ],
     "language": "python",
     "metadata": {},
     "outputs": [
      {
       "metadata": {},
       "output_type": "display_data",
       "text": [
        "                      F        M         H\n",
        "Kecou Linje   48.716638 92.23370  35.08272\n",
        "Banhau Xounou 61.823097 55.57104  77.86622\n",
        "Xudau Husau   70.552772 85.06998  84.62782\n",
        "Qiwon Jonfu   38.288890 29.02272  32.51345\n",
        "Bohin Panzin  76.469700 35.72235 100.00000\n",
        "Cajo Couhon    1.741807 31.02126  34.00783\n"
       ]
      }
     ],
     "prompt_number": 169
    },
    {
     "cell_type": "markdown",
     "metadata": {},
     "source": [
      "The goal of this exercise is to **break this code into reusable functions and to vectorized it**. \n",
      "In the cell below, you'll break this code into the following functions:\n",
      "\n",
      "* a function <code>simulate.names(n)</code> returning a character vector of $n$ randomly generated names in the format above\n",
      "\n",
      "\n",
      "* a function <code>clean.grades(df, min=0, max=100)</code> that takes a grade dataframe with any number of columns and rows and set the grades above <code>max</code> to <code>max</code> and the grades below <code>min</code> to <code>min</code>. The function should return the data frame with cleaned grades.\n",
      "\n",
      "\n",
      "* a function <code>simulate.gradeFrame(col.names, student.number, grade.range)</code> that takes a character vector <code>col.names</code> containing the column names and returns a data frame with as many columns as elements in the first argument and as many rows as specified by the integer <code>student.number</code>. The grades should be between <code>grade.range[1]</code> and <code>grade.range[2]</code>, which is an numeric vector with two elements. The rows should be labelled with randomly generated student names. Use the function you wrote before in this function body.\n",
      "\n",
      "In the last cell, use your <code>simulate.gradeFrame</code> function to simulate the same type of grade frame as above.\n",
      "\n",
      "**CAUTION:** Your code should be **vectorized**. Points will be removed for any <code>for</code> loops and <code>if</code> statements your write: ideally, you should write note of theses. You can write as many helper functions as you wish, if you feel the need to."
     ]
    },
    {
     "cell_type": "code",
     "collapsed": false,
     "input": [
      "%%R\n",
      "\n",
      "concatenate.names = function(first){\n",
      "                             paste(first,  paste(sample(I, 1, replace=TRUE), sample(V, 1, replace=TRUE), sample(C, 1, replace=TRUE), sample(V, 1, replace=TRUE), sep=''), sep=' ')\n",
      "                             }\n",
      "\n",
      "simulate.names = function(n){\n",
      "    V = c('a', 'e', 'i','o','u','au','in','an','on','ou')\n",
      "    C = letters[-grep('a|e|i|o|u', letters)]\n",
      "    I = toupper(C)\n",
      "\n",
      "    first.name = paste(sample(I, n, replace=TRUE), sample(V, n, replace=TRUE), sample(C, n, replace=TRUE), sample(V, n, replace=TRUE), sep='')\n",
      "    \n",
      "    simulated.names = sapply(first.name, concatenate.names)\n",
      "    names(simulated.names) = NULL\n",
      "    return(simulated.names)\n",
      "}\n",
      "\n",
      "\n"
     ],
     "language": "python",
     "metadata": {},
     "outputs": [],
     "prompt_number": 193
    },
    {
     "cell_type": "code",
     "collapsed": false,
     "input": [
      "%%R\n",
      "\n",
      "sim_names = simulate.names(200)\n",
      "\n",
      "print(head(sim_names))"
     ],
     "language": "python",
     "metadata": {},
     "outputs": [
      {
       "metadata": {},
       "output_type": "display_data",
       "text": [
        "[1] \"Zela Banqau\"   \"Vauvin Juqau\"  \"Xusin Ceco\"    \"Quwo Donno\"   \n",
        "[5] \"Zintou Tanlau\" \"Kauyo Peku\"   \n"
       ]
      }
     ],
     "prompt_number": 195
    },
    {
     "cell_type": "code",
     "collapsed": false,
     "input": [
      "%%R\n",
      "\n",
      "clean.grades = function(df, min=0, max=100){\n",
      "                        df[df > max] = max\n",
      "                        df[df < min] = min\n",
      "                        return(df)}\n"
     ],
     "language": "python",
     "metadata": {},
     "outputs": [],
     "prompt_number": 197
    },
    {
     "cell_type": "code",
     "collapsed": false,
     "input": [
      "%%R\n",
      "\n",
      "grade_sim = function(n){\n",
      "                       return(rnorm(n, mean=50, sd=20))\n",
      "                       }\n",
      "    \n",
      "simulate.gradeFrame = function(col.names, student.number, grade.range){\n",
      "                               student.names = simulate.names(student.number)\n",
      "                               cols = rep(student.number, length(col.names))\n",
      "                               sim_grades = data.frame(lapply(cols, grade_sim))\n",
      "                               sim_grades = clean.grades(sim_grades, min=grade.range[1], max=grade.range[2])\n",
      "    \n",
      "                               colnames(sim_grades) = col.names\n",
      "                               #sim_grades$Students = student.names\n",
      "                               #sim_grades = sim_grades[,c(length(col.names)+1, 1:length(col.names))]\n",
      "                               rownames(sim_grades) = student.names\n",
      "    \n",
      "                               return(sim_grades)\n",
      "                               }"
     ],
     "language": "python",
     "metadata": {},
     "outputs": [],
     "prompt_number": 224
    },
    {
     "cell_type": "code",
     "collapsed": false,
     "input": [
      "%%R\n",
      "\n",
      "simulate = simulate.gradeFrame(col.names=c('Midterm', 'Final', 'Homework'), student.number=100, grade.range=c(0, 100))\n",
      "\n",
      "print(head(simulate))"
     ],
     "language": "python",
     "metadata": {},
     "outputs": [
      {
       "metadata": {},
       "output_type": "display_data",
       "text": [
        "             Midterm    Final Homework\n",
        "Cauga Motan 78.04585 24.10427 35.46659\n",
        "Pinxo Didin 82.06733 33.85295 33.32662\n",
        "Noqo Gumou  68.83929 87.42470 63.63116\n",
        "Cubin Quhin 77.80330 34.02462 42.59066\n",
        "Lonci Qonta 37.82150 97.55343 49.99012\n",
        "Govi Gaqe   26.81998 66.22499 57.52487\n"
       ]
      }
     ],
     "prompt_number": 225
    },
    {
     "cell_type": "code",
     "collapsed": false,
     "input": [],
     "language": "python",
     "metadata": {},
     "outputs": [],
     "prompt_number": 26
    }
   ],
   "metadata": {}
  }
 ]
}