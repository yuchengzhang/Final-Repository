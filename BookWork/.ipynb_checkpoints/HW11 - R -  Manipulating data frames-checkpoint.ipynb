{
 "metadata": {
  "name": ""
 },
 "nbformat": 3,
 "nbformat_minor": 0,
 "worksheets": [
  {
   "cells": [
    {
     "cell_type": "heading",
     "level": 1,
     "metadata": {},
     "source": [
      "Homework 11 - R - Manipulating data frames"
     ]
    },
    {
     "cell_type": "code",
     "collapsed": false,
     "input": [
      "%load_ext rmagic"
     ],
     "language": "python",
     "metadata": {
      "slideshow": {
       "slide_type": "fragment"
      }
     },
     "outputs": [],
     "prompt_number": 1
    },
    {
     "cell_type": "markdown",
     "metadata": {},
     "source": [
      "In this homework assignment, you'll learn how to simulate data in order to create the ideal data frame for analysis. \n",
      "\n",
      "I encourage you, for your class project, to simulate (in the <code>NB3_data_analysis.pynb</code> notebook) the ideal data frame on which you'll perform your analysis and visualizations.\n",
      "\n",
      "This way, the part of your team in charge of data analysis and visualization will be able to start the analysis, while the other part of the team, in charge of gathering and cleaning the data, is working on creating this ideal data frames from real data.\n",
      "\n",
      "One by-product of doing so is that you'll be able to see how the real data deviates from the simulated one, pointing you possibly to interesting features in the real data. "
     ]
    },
    {
     "cell_type": "heading",
     "level": 2,
     "metadata": {},
     "source": [
      "1. Simulating categorical variables"
     ]
    },
    {
     "cell_type": "heading",
     "level": 3,
     "metadata": {},
     "source": [
      "[The sample function](http://stat.ethz.ch/R-manual/R-devel/library/base/html/sample.html)"
     ]
    },
    {
     "cell_type": "markdown",
     "metadata": {},
     "source": [
      "The function  used to generate vector samples, which can be used to simulate variables. One invokes the function as follows\n",
      "\n",
      "    sample(X, size, prob, replace=True)\n",
      "    \n",
      "where\n",
      "\n",
      "* <code>X</code> is a vector of values to be chosen from\n",
      "* <code>size</code> is the number of observations we want\n",
      "* <code>prob</code> is a vector of probabilities specifying the probability of picking the corresponding value in the vector <code>x</code>\n",
      "* <code>replace</code> is a Boolean argument which doesn't matter right now "
     ]
    },
    {
     "cell_type": "markdown",
     "metadata": {},
     "source": [
      "**EXERCISE: Simulate a categorical variable <code>temp</code> with values \"Cold\", \"Warm\", \"Hot\" such that these values appear in the simulated vector with frequencies 0.2, 0.5, and 0.3 respectively. Display the first values of this variable:**"
     ]
    },
    {
     "cell_type": "code",
     "collapsed": false,
     "input": [
      "%%R\n",
      "\n",
      "temp = sample(c('Cold', 'Warm', 'Hot'), 10000, prob=c(0.2, 0.5, 0.3), replace=TRUE)\n",
      "\n",
      "print(head(temp))"
     ],
     "language": "python",
     "metadata": {},
     "outputs": [
      {
       "metadata": {},
       "output_type": "display_data",
       "text": [
        "[1] \"Hot\"  \"Warm\" \"Warm\" \"Warm\" \"Hot\"  \"Hot\" \n"
       ]
      }
     ],
     "prompt_number": 4
    },
    {
     "cell_type": "heading",
     "level": 3,
     "metadata": {},
     "source": [
      "[The table function](http://stat.ethz.ch/R-manual/R-devel/library/base/html/table.html)"
     ]
    },
    {
     "cell_type": "markdown",
     "metadata": {},
     "source": [
      "The function \n",
      "    \n",
      "    occ = table(X)\n",
      "takes a vector <code>X</code> and returns a data frame containing the number of occurences for each values in <code>X</code>. This function can be further combined with the function\n",
      "\n",
      "    prop.table(occ)\n",
      "    \n",
      "with will display a data frame with the **frequencies** instead of the number of **occurences**."
     ]
    },
    {
     "cell_type": "markdown",
     "metadata": {},
     "source": [
      "**EXERCISE: Display the occurence frequencies of 'Cold', 'Warm', and 'Hot' in <code>temp</code> and verify that they correspond to the value you speficy in the <code>prob</code> argument of <code>sample</code>**"
     ]
    },
    {
     "cell_type": "code",
     "collapsed": false,
     "input": [
      "%%R\n",
      "\n",
      "occ = table(temp)\n",
      "print(prop.table(occ))"
     ],
     "language": "python",
     "metadata": {},
     "outputs": [
      {
       "metadata": {},
       "output_type": "display_data",
       "text": [
        "temp\n",
        "  Cold    Hot   Warm \n",
        "0.1985 0.2980 0.5035 \n"
       ]
      }
     ],
     "prompt_number": 11
    },
    {
     "cell_type": "heading",
     "level": 3,
     "metadata": {},
     "source": [
      "[The barplot function](http://stat.ethz.ch/R-manual/R-devel/library/graphics/html/barplot.html)"
     ]
    },
    {
     "cell_type": "markdown",
     "metadata": {},
     "source": [
      "The function \n",
      "\n",
      "    barplot(X, main='a title')\n",
      "will plot the values contained in the variable <code>X</code> as vertical bars an use the labels of the elements in <code>X</code> as legend. The plot title can be specified through the <code>main</code>, present for most of the R plotting functions."
     ]
    },
    {
     "cell_type": "markdown",
     "metadata": {},
     "source": [
      "**EXERCISE: Display a barplot of the occurence frequencies of 'Cold', 'Warm', and 'Hot' in <code>temp</code> and use \"Temp frequencies\" as title for your plot:**"
     ]
    },
    {
     "cell_type": "code",
     "collapsed": false,
     "input": [
      "%%R\n",
      "\n",
      "barplot(prop.table(occ), main='Temp frequencies')"
     ],
     "language": "python",
     "metadata": {},
     "outputs": [
      {
       "metadata": {},
       "output_type": "display_data",
       "png": "[encoded data removed]"
      }
     ],
     "prompt_number": 12
    },
    {
     "cell_type": "heading",
     "level": 3,
     "metadata": {},
     "source": [
      "[The factor class](http://stat.ethz.ch/R-manual/R-devel/library/base/html/factor.html)"
     ]
    },
    {
     "cell_type": "markdown",
     "metadata": {},
     "source": [
      "The class <code>factor</code> also described [here](http://www.stat.berkeley.edu/classes/s133/factors.html) is used in R to represent **categorical variables**. The class constructor\n",
      "\n",
      "    factor(X, levels=values, ordered=TRUE)\n",
      "    \n",
      "takes \n",
      "\n",
      "* a vector <code>X</code> containing the **values** of our categorical variable\n",
      "\n",
      "* a vector <code>levels</code> containing the **category names**\n",
      "\n",
      "* a Boolean argument <code>ordered</code> specifying whether the **categories** are **ordered or not** (e.g. 'Cold', 'Warm', and 'Hot' are ordered, but 'Male' and 'Female' are not)\n",
      "\n",
      "and returns a **factor** representing the categorical variable. \n",
      "\n",
      "**EXERCISE: Create an ordered categorical variable <code>T</code> out of the character vector <code>Temp</code>. Then display a barplot of the number of occurences of \"Cold\", \"Warm\", and \"Hot\".**\n",
      "\n",
      "**Remark:** You'll observe that the barplot preserves the order in which you specify the category names in the <code>levels</code> argument of the <code>factor</code> constructor."
     ]
    },
    {
     "cell_type": "code",
     "collapsed": false,
     "input": [
      "%%R\n",
      "\n",
      "T = factor(temp, levels=c('Cold', 'Warm', 'Hot'), ordered=TRUE)\n",
      "\n",
      "barplot(table(T), main='Occurrences of Cold, Warm, and Hot')"
     ],
     "language": "python",
     "metadata": {},
     "outputs": [
      {
       "metadata": {},
       "output_type": "display_data",
       "png": "[encoded data removed]"
      }
     ],
     "prompt_number": 16
    },
    {
     "cell_type": "heading",
     "level": 3,
     "metadata": {},
     "source": [
      "[The paste function](http://stat.ethz.ch/R-manual/R-devel/library/base/html/paste.html)"
     ]
    },
    {
     "cell_type": "markdown",
     "metadata": {},
     "source": [
      "Simulating a data frame will most probably involve **generating character vectors for row or column names**. For that task, use the function\n",
      "\n",
      "    paste(v1, v2, v3, etc., sep='_')\n",
      "    \n",
      "that takes an argument <code>sep</code> containing the separator to use and a collection of vectors\n",
      "\n",
      "$$v_1 = (a,\\, b,\\, c, \\dots), \\quad v_2 = (x,\\, y,\\, z,\\dots),\\quad v_3 = (k,\\, l,\\, m,\\dots)$$\n",
      "\n",
      "and returns the _**element-wise concatenated character vector**_\n",
      "\n",
      "\n",
      "$$\\Big(\\textrm{'a_x_k'},\\, \\textrm{'b_y_l'},\\, \\textrm{'c_z_m'}, \\dots\\Big).$$\n",
      "\n",
      "\n",
      "**RECYCLING:** If the vectors $v_1, v_2,$ and $v_3$ are not of the same size, the vectors of smallest length will be **recycled** into vectors of length equal to the maximal length by repeating the elements in a cycle. For instance:\n",
      "Before concatenation of the two vectors\n",
      "     \n",
      "     (1, 2, 3, 4, 5)\n",
      "     (x, y)\n",
      "<code>paste</code> will first recycle the smallest vector and then perform an element-wise concatenation of the vectors     \n",
      "    \n",
      "     (1, 2, 3, 4, 5)\n",
      "     (x, y, x, y, x)\n",
      "resulting into the vector\n",
      "\n",
      "    ('1_x', '2_y', '3_x', '4_y', '5_x')\n",
      "in case the separator was chosen to be '_'."
     ]
    },
    {
     "cell_type": "markdown",
     "metadata": {},
     "source": [
      "**EXERCISE: Construct a character vector of 100 elements of the form \"Student 1\", \"Student 2\", ..., \"Student 100\" and display the last entries**\n",
      "\n",
      "**Hint:** Recall that <code>n:m</code> generates a integer vector containing the integer from <code>n</code> to <code>m</code>."
     ]
    },
    {
     "cell_type": "code",
     "collapsed": false,
     "input": [
      "%%R\n",
      "\n",
      "students = paste('Student', 1:100, sep=' ')\n",
      "\n",
      "print(head(students))\n"
     ],
     "language": "python",
     "metadata": {},
     "outputs": [
      {
       "metadata": {},
       "output_type": "display_data",
       "text": [
        "[1] \"Student 1\" \"Student 2\" \"Student 3\" \"Student 4\" \"Student 5\" \"Student 6\"\n"
       ]
      }
     ],
     "prompt_number": 17
    },
    {
     "cell_type": "heading",
     "level": 3,
     "metadata": {},
     "source": [
      "The built-in vectors <code>letters</code> and <code>LETTERS</code>"
     ]
    },
    {
     "cell_type": "markdown",
     "metadata": {},
     "source": [
      "R has two convenient built-in character vectors\n",
      "\n",
      "    letters toupper(letters) = LETTERS\n",
      "    LETTERS tolower(LETTERS) = letters\n",
      "containing the alphabet letters in lower-case for the former and in upper-case for the later. \n",
      "\n",
      "One can use them to generate dummy names."
     ]
    },
    {
     "cell_type": "markdown",
     "metadata": {},
     "source": [
      "**EXERCISE: Using paste, construct a character vector <code>letter_order</code> containing the strings** \n",
      "\n",
      "    \"A -> letter 1\"\n",
      "    \"B -> letter 2\"\n",
      "    ...\n",
      "    \"Z -> letter 26\".\n",
      "\n",
      "**Then create a character vector <code>voyels</code> containing only the vowels and a character vector <code>consonants</code> containing only the consonants.**"
     ]
    },
    {
     "cell_type": "code",
     "collapsed": false,
     "input": [
      "%%R\n",
      "\n",
      "letter_order = paste(LETTERS, 1:26, sep=' -> letter ')\n",
      "vowels = c('A', 'E', 'I', 'O', 'U')\n",
      "consonants = LETTERS[which(!(LETTERS %in% vowels))]\n",
      "\n",
      "\n",
      "print(head(letter_order))\n",
      "print(consonants)"
     ],
     "language": "python",
     "metadata": {},
     "outputs": [
      {
       "metadata": {},
       "output_type": "display_data",
       "text": [
        "[1] \"A -> letter 1\" \"B -> letter 2\" \"C -> letter 3\" \"D -> letter 4\"\n",
        "[5] \"E -> letter 5\" \"F -> letter 6\"\n",
        " [1] \"B\" \"C\" \"D\" \"F\" \"G\" \"H\" \"J\" \"K\" \"L\" \"M\" \"N\" \"P\" \"Q\" \"R\" \"S\" \"T\" \"V\" \"W\" \"X\"\n",
        "[20] \"Y\" \"Z\"\n"
       ]
      }
     ],
     "prompt_number": 31
    },
    {
     "cell_type": "markdown",
     "metadata": {},
     "source": [
      "**EXERCISE (harder): Write a function <code>create.names(n)</code> that takes a positive integer $n$ and returns a character vector with $n$ randomly generated names of form CVV where C stands for a consonant and V for a voyel, as in for instance, \"GEU\", HAE\", \"ZOA\", etc. \n",
      "Then use this function to create a list of 1000 randomly generated names of the form**\n",
      "\n",
      "    \"CAA KEU GUU\"\n",
      "    \"NEU DOA ZUA\"\n",
      "    \"LAI VEU ZUI\"\n",
      "    etc.\n",
      "\n",
      "**Hint: For this exercise, you'll need to use both <code>sample</code> and <code>paste</code>.**"
     ]
    },
    {
     "cell_type": "code",
     "collapsed": false,
     "input": [
      "%%R\n",
      "\n",
      "create.names = function(n){\n",
      "                           first = paste(sample(consonants, n, replace=TRUE), sample(vowels, n, replace=TRUE), sample(vowels, n, replace=TRUE), sep='')\n",
      "                           middle = paste(sample(consonants, n, replace=TRUE), sample(vowels, n, replace=TRUE), sample(vowels, n, replace=TRUE), sep='')\n",
      "                           last = paste(sample(consonants, n, replace=TRUE), sample(vowels, n, replace=TRUE), sample(vowels, n, replace=TRUE), sep='')\n",
      "                           return(paste(first, middle, last, sep=' '))\n",
      "                           }\n",
      "\n",
      "names = create.names(1000)\n",
      "\n",
      "print(head(names))"
     ],
     "language": "python",
     "metadata": {},
     "outputs": [
      {
       "metadata": {},
       "output_type": "display_data",
       "text": [
        "[1] \"ZUE FUO CUO\" \"YUO RAI QIE\" \"NAE TUA XUA\" \"XII MOE PIO\" \"HUO ZEI QAO\"\n",
        "[6] \"VAE HIA WIE\"\n"
       ]
      }
     ],
     "prompt_number": 32
    },
    {
     "cell_type": "markdown",
     "metadata": {},
     "source": [
      "**Exercise: Create a data frame containing 1000 simulated observation about a population of individual with columns**\n",
      "\n",
      "    name country sex occupation\n",
      "    \n",
      "**where you'll simulate the names using the <code>create.names</code> function of the previous exercise (or, in case you didn't succeed in implementing this function, just forget about this column). Here are the values you'll use for the three categorical variables above:**\n",
      "\n",
      "    country values: 'US', 'Italy', 'France', 'Brazil', 'China', 'Japan', 'Bolivia', 'Canada', 'Australia'\n",
      "    sex values: 'M', 'F'\n",
      "    occupation: 'Programmer', 'Teacher', 'CEO', 'Manager', 'Researcher', 'Unemployed', 'Lawyer', 'Student'\n",
      "\n",
      "**Once done write this data in your working directory using <code>write.csv</code>.**\n",
      "\n",
      "\n",
      "    \n",
      "\n",
      "    "
     ]
    },
    {
     "cell_type": "code",
     "collapsed": false,
     "input": [
      "%%R\n",
      "\n",
      "countries = c('US', 'Italy', 'France', 'Brazil', 'China', 'Japan', 'Bolivia', 'Canada', 'Australia')\n",
      "sex = c('M', 'F')\n",
      "occupation = c('Programmer', 'Teacher', 'CEO', 'Manager', 'Researcher', 'Unemployed', 'Lawyer', 'Student')"
     ],
     "language": "python",
     "metadata": {},
     "outputs": [],
     "prompt_number": 33
    },
    {
     "cell_type": "code",
     "collapsed": false,
     "input": [
      "%%R\n",
      "\n",
      "sim_names = create.names(1000)\n",
      "sim_country = sample(countries, 1000, replace=TRUE)\n",
      "sim_sex = sample(sex, 1000, replace=TRUE)\n",
      "sim_occupation = sample(occupation, 1000, replace=TRUE)"
     ],
     "language": "python",
     "metadata": {},
     "outputs": [],
     "prompt_number": 34
    },
    {
     "cell_type": "code",
     "collapsed": false,
     "input": [
      "%%R\n",
      "\n",
      "sim_df = data.frame(name=sim_names, country=sim_country, sex=sim_sex, occupation=sim_occupation)\n",
      "\n",
      "print(head(sim_df, 10))\n",
      "print(tail(sim_df, 10))"
     ],
     "language": "python",
     "metadata": {},
     "outputs": [
      {
       "metadata": {},
       "output_type": "display_data",
       "text": [
        "          name country sex occupation\n",
        "1  SEI XIO XII  France   M Researcher\n",
        "2  GAO QIU XOU  France   F Programmer\n",
        "3  CEE RUA BAO   Italy   M    Teacher\n",
        "4  JEO WAI MAE  France   F    Manager\n",
        "5  JAU PIE WIA   Italy   M Programmer\n",
        "6  PIU SII NEO   China   F        CEO\n",
        "7  VOA HUE JEI   Italy   F        CEO\n",
        "8  DAA FIE YUO   China   M    Teacher\n",
        "9  DUA PII GIO  France   F        CEO\n",
        "10 BUE XOO HAA   China   M     Lawyer\n",
        "            name country sex occupation\n",
        "991  PAA NAI GIA  France   F    Manager\n",
        "992  DUO WAA JII      US   F Programmer\n",
        "993  CAI SEE KAA      US   F    Manager\n",
        "994  FEE REU QOU   Japan   F    Student\n",
        "995  YAA LOE VUE  Brazil   F     Lawyer\n",
        "996  LAI GUA KOU  Brazil   F Unemployed\n",
        "997  NOA MAU DEI  Brazil   F    Manager\n",
        "998  WOU SAA NUE   Italy   F Unemployed\n",
        "999  FUE JAO CIA   Japan   F        CEO\n",
        "1000 QEE KIA PAE  Canada   F    Teacher\n"
       ]
      }
     ],
     "prompt_number": 37
    },
    {
     "cell_type": "heading",
     "level": 2,
     "metadata": {},
     "source": [
      "2. Simulating quantitative variables"
     ]
    },
    {
     "cell_type": "heading",
     "level": 3,
     "metadata": {},
     "source": [
      "[The rnorm function](http://stat.ethz.ch/R-manual/R-patched/library/stats/html/Normal.html)"
     ]
    },
    {
     "cell_type": "markdown",
     "metadata": {},
     "source": [
      "The function\n",
      "\n",
      "    rnorm(n, mean, sd)\n",
      "returns a numeric vector with $n$ real numbers **normally distributed** around <code>mean</code> and with standard deviation <code>sd</code>.\n",
      "\n",
      "This function is very useful to simulate quantitative variables. If the variable to be simulated, takes values only in a given range $[a,b]$, one can set the simulated values past the range to the range values:\n",
      "\n",
      "    X = rnorm(100, mean=50, sd=20)\n",
      "    X[X < a] = a\n",
      "    X[X > b] = b\n"
     ]
    },
    {
     "cell_type": "markdown",
     "metadata": {},
     "source": [
      "**EXERCISE: Write a function <code>create.grades(n, score.max)</code> that returns a numeric vector of $n$ grades between 0 and <code>score.max</code>. The mean (resp. standard deviation) of this vector should be a number between 40 and 70 (resp. 10 and 30) randomly generated each time the function is called. Generate a few grade samples and display their histogram to make sure that your function works**\n",
      "\n",
      "**Hint:** To simplify chose the mean and standard deviation to be natural numbers that you'll obtain using the <code>sample</code> function. "
     ]
    },
    {
     "cell_type": "code",
     "collapsed": false,
     "input": [
      "%%R\n",
      "\n",
      "create.grades = function(n, score.max){\n",
      "                         mean = sample(40:70, 1)\n",
      "                         sd = sample(10:30, 1)\n",
      "                         sample = rnorm(n, mean=mean, sd=sd)\n",
      "                         sample = abs(sample)\n",
      "                         sample[sample > score.max] = score.max\n",
      "                         return(sample)}\n",
      "\n",
      "my_grades = create.grades(1000, 110)\n",
      "\n",
      "hist(my_grades, main='Histogram of Grades', xlab='Grades', ylab='Number of People')"
     ],
     "language": "python",
     "metadata": {},
     "outputs": [
      {
       "metadata": {},
       "output_type": "display_data",
       "png": "[encoded data removed]"
      }
     ],
     "prompt_number": 43
    },
    {
     "cell_type": "heading",
     "level": 3,
     "metadata": {},
     "source": [
      "[The function runif](http://stat.ethz.ch/R-manual/R-devel/library/stats/html/Uniform.html)"
     ]
    },
    {
     "cell_type": "markdown",
     "metadata": {},
     "source": [
      "The function \n",
      "\n",
      "    runif(n, min, max)\n",
      "return a numeric vector of $n$ real numbers **uniformally choosen** between <code>min</code> and <code>max</code>.\n",
      "\n",
      "This function is very useful to generated random numbers in a certain range. "
     ]
    },
    {
     "cell_type": "markdown",
     "metadata": {},
     "source": [
      "**EXERCISE: Write a function <code>create.categories(n, categ)</code> that returns a character vector with $n$ values taken from the categories specified in the character vector argument <code>categ</code>. The frequencies in which each of the categories in <code>categ</code> appears should be at each call of the function created randomly.**\n",
      "\n",
      "**Hint:** Write a _helper_ function <code>create.prob(n)</code> that returns a probability vector of length $n$ (i.e. the numbers in this vector should be between 0 and 1, and add up to 1). The function <code>diff</code> that returns the vector of differences of a given vector can be useful here."
     ]
    },
    {
     "cell_type": "markdown",
     "metadata": {},
     "source": [
      "* **sort**, rearranges elements of the vector in increasing order\n",
      "* **order** returns the indices of the vector in increasing order"
     ]
    },
    {
     "cell_type": "code",
     "collapsed": false,
     "input": [
      "%%R\n",
      "\n",
      "create.prob = function(n){\n",
      "                         cuts = c(0, runif(n-1, 0, 1), 1)\n",
      "                         cuts = cuts[order(cuts)]\n",
      "                         x = length(cuts)\n",
      "                         return(cuts[2:x] - cuts[1:(x-1)])}\n",
      "                         #return(diff(cuts))}\n",
      "                        \n",
      "    \n",
      "create.categories = function(n, categ){\n",
      "                             freqs = create.prob(length(categ))\n",
      "                             data = sample(categ, n, prob=freqs, replace=TRUE)\n",
      "                             return(data)}"
     ],
     "language": "python",
     "metadata": {},
     "outputs": [],
     "prompt_number": 65
    },
    {
     "cell_type": "markdown",
     "metadata": {},
     "source": [
      "**EXERCISE: Create a simulated data frame <code>grades</code> containing the midterm, final, and homework grades of 200 students with names simulated using the <code>create.names</code> function your wrote previously. You'll add a column containing simulated values for the student majors (STAT, MATH, ECON, BIOL) and the student sections (s001, s002, s003).**"
     ]
    },
    {
     "cell_type": "code",
     "collapsed": false,
     "input": [
      "%%R\n",
      "\n",
      "sim.midterm = create.grades(200, 100)\n",
      "sim.final = create.grades(200, 100)\n",
      "sim.homework = create.grades(200, 100)\n",
      "sim.names = create.names(200)\n",
      "sim.majors = create.categories(200, c('STAT', 'MATH', 'ECON', 'BIOL'))\n",
      "sim.sections = create.categories(200, c('s001', 's002', 's003'))\n",
      "\n"
     ],
     "language": "python",
     "metadata": {},
     "outputs": [],
     "prompt_number": 66
    },
    {
     "cell_type": "code",
     "collapsed": false,
     "input": [
      "%%R\n",
      "\n",
      "class.frame = data.frame(major=sim.majors, section=sim.sections, midterm=sim.midterm, final=sim.final, homework=sim.homework)\n",
      "rownames(class.frame) = sim.names\n",
      "\n",
      "print(head(class.frame))"
     ],
     "language": "python",
     "metadata": {},
     "outputs": [
      {
       "metadata": {},
       "output_type": "display_data",
       "text": [
        "            major section  midterm     final  homework\n",
        "TEO VEE YUI  MATH    s001 33.03613 56.890007  39.83750\n",
        "FIU SEO KIA  BIOL    s001 36.37140 34.592254 100.00000\n",
        "KUU ZIO BOO  BIOL    s001 49.04600 35.750005  14.81116\n",
        "PAU DII WIE  ECON    s003 19.30374 56.238115  62.08215\n",
        "BOO NEA BOO  BIOL    s001 49.97492  2.781754  21.28049\n",
        "NOU YII XUA  BIOL    s003 40.25301 62.028617  48.75310\n"
       ]
      }
     ],
     "prompt_number": 68
    }
   ],
   "metadata": {}
  }
 ]
}