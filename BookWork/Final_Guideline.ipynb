{
 "metadata": {
  "name": "",
  "signature": "sha256:ebfa730a25f1d90a260e51eab3656463ce521295d033beb2e0ee101aa718c89c"
 },
 "nbformat": 3,
 "nbformat_minor": 0,
 "worksheets": [
  {
   "cells": [
    {
     "cell_type": "heading",
     "level": 1,
     "metadata": {},
     "source": [
      "Stat 133 - Final Exam - Guideline"
     ]
    },
    {
     "cell_type": "heading",
     "level": 2,
     "metadata": {},
     "source": [
      "Exam Info"
     ]
    },
    {
     "cell_type": "markdown",
     "metadata": {},
     "source": [
      "The final exam will take place on **Wednesday, May 14 from 11:30 to 2:30 **.\n",
      "\n",
      "The class will be split into two groups during exam time. One group will take the exam in 212 Wheeler Hall (HMF) and the other group in 1435 Tolman Hall (TMF):\n",
      "\n",
      "* If the **first letter of your last name is in the range A-K** go to **212 Wheeler Hall** to take the exam.\n",
      "* If the **first letter of your last name is in the range L-Z** go to **1535 Tolman Hall** to take the exam.\n",
      "\n",
      "**Please bring your SID card.**\n",
      "\n",
      "At the exam start, and before we shut down the internet, you'll be able to download your github repository with all the documentation you chose to pu in it. Make sure that you have in there all you need before the exam.\n",
      "\n",
      "The final exam will be similar to the midterm: you'll write real code, using tests to help you, that will be auto-graded. So it's very important that you write running code, otherwise you'll receive no points. "
     ]
    },
    {
     "cell_type": "heading",
     "level": 2,
     "metadata": {},
     "source": [
      "Final Exam Topics"
     ]
    },
    {
     "cell_type": "markdown",
     "metadata": {},
     "source": [
      "This final exam will be exclusively on R. \n",
      "\n",
      "**You are responsible for all the material covered in the R notebooks and the R homework assignments.** \n",
      "\n",
      "Here is a list on the main focus points:\n",
      "\n",
      "\n",
      "* **Vectors and Matrices:** creation, type convertion, recycling, subsetting and logical indexing, apply function familly\n",
      "\n",
      "\n",
      "* **Lists and Classes:** creation, subsetting, dollar sign, double and single bracket operator, apply function family; class contructor, class attributes, and calls methods; generic functions\n",
      "\n",
      "\n",
      "* **Data Frames and Basic Statistics:** creation, subsetting (both ways: list style and matric style) and logical indexing, column arithmetic, apply function familly, basic stat and math functions (mean, median, summary, sqrt, exp, etc.)\n",
      "\n",
      "\n",
      "* **Array Programming:** coding using only vectorized operations plus the apply function family on arrays (vectors, matrices, and $n$-dimensional arrays); replace if statements by logical indexing and for statements by vectorized operations and apply functions\n",
      "\n",
      "\n",
      "* **Data Analysis and Visualization:** basic plots (boxplots, histograms, scatterplots, and dendrograms), clustering functions and linear regression functions\n",
      "\n",
      "\n",
      "* **Data Gathering and Data Cleaning:** XML (document struture, data extraction, and conversion into data frame) and regular expressions (grep, sub, and the extended set of regular expressions)"
     ]
    },
    {
     "cell_type": "heading",
     "level": 2,
     "metadata": {},
     "source": [
      "Exam Structure"
     ]
    },
    {
     "cell_type": "markdown",
     "metadata": {},
     "source": [
      "The exam will be **very similar to the graded labs** and to the midterm: You'll be given files with **empty function bodies to implement in R**, along with some tests from the R library `RUnit` to help you figure out the correctness of your implementation. The goal is to pass a maximum of the tests. \n",
      "\n",
      "Each of the tests will focus on an aspect of your implementation and be worth a certain number of points (which will be specified in the exam file). We will use the same number and same kind of tests as the ones in your exam to compute your grade, but with possibly different numeric values and slightly different cases. Thus, **it is important that you are comfortable running these `RUnit` tests**: Executing the R exam files as follows from the terminal\n",
      "\n",
      "```$ Rscript file.R ```\n",
      "\n",
      "will output which of the tests successed and which of them triggered an error. Please redo your R labs to make sure you are confortable with the output of these tests. "
     ]
    },
    {
     "cell_type": "heading",
     "level": 2,
     "metadata": {},
     "source": [
      "Advices for the preparation"
     ]
    },
    {
     "cell_type": "markdown",
     "metadata": {},
     "source": [
      "Start with  [the review session notebook](http://nbviewer.ipython.org/urls/db.tt/4onLImB0?create=1). Try to understand what's in it, and focus on the examples. Try to play with them within the notebook to make sure you are really understanding, what's happening.\n",
      "\n",
      "If you get stuck, then go back to the [class R lecture notes](https://bspace.berkeley.edu/portal/site/926cb4c1-a81d-4707-adc6-5e3615945025/page/c380b033-e58e-40c3-ac95-c4db7a8a27d7) (Lectures 10 to 17), and read just enough to get you though the part you don't understand in the review session notebook. If the these notebooks are not enough to help you get though, please review the corresponding material either in [Phil Spector Stat 133 lecture notes](http://www.stat.berkeley.edu/users/spector/s133/schedule.html), or in [The Art of R Programming](http://sens.tistory.com/attachment/cfile8.uf@2375DC3D515423F9110CA1.pdf). Once done, make sure your are comfortable with all the R programming topics listed in [here](http://benoitdherin.github.io/R-basics/) and with the [data analysis notebooks](http://benoitdherin.github.io/data-analysis-with-R/).  Then, make sure you do (and redo) all the [R homework assignments](http://berkeley-stat133.github.io/pages/schedule.html) listed in the weekly schedule. \n",
      "\n",
      "During the review wekk, I will hold two review sessions during usual lecture time.\n",
      "\n",
      "I wish you the best of luck with your final exam preparation!"
     ]
    },
    {
     "cell_type": "heading",
     "level": 1,
     "metadata": {},
     "source": [
      "Practice Final Exam"
     ]
    },
    {
     "cell_type": "markdown",
     "metadata": {},
     "source": [
      "You'll find below the practice exam from last semester. The format of the exam will be different, since you will be doing the exam on real computer and not on a sheet of paper, but trying it will nevertheless be a very good exercise to help you prepare for the final."
     ]
    },
    {
     "cell_type": "code",
     "collapsed": false,
     "input": [
      "%load_ext rmagic\n",
      "%R rm()"
     ],
     "language": "python",
     "metadata": {},
     "outputs": [
      {
       "output_type": "stream",
       "stream": "stdout",
       "text": [
        "The rmagic extension is already loaded. To reload it, use:\n",
        "  %reload_ext rmagic\n"
       ]
      }
     ],
     "prompt_number": 130
    },
    {
     "cell_type": "heading",
     "level": 2,
     "metadata": {},
     "source": [
      "PART I: Vector and Function Basics"
     ]
    },
    {
     "cell_type": "markdown",
     "metadata": {},
     "source": [
      "In the cell below, write **vectorized code** (i.e. no for loops or if statements) to create the following vectors:"
     ]
    },
    {
     "cell_type": "markdown",
     "metadata": {},
     "source": [
      "*  $(1, 2, 3, \\dots, 19, 20, 19, 18, \\dots, 2, 1)$"
     ]
    },
    {
     "cell_type": "code",
     "collapsed": false,
     "input": [
      "%%R\n",
      "x = c(1:19,20:1); print(x)"
     ],
     "language": "python",
     "metadata": {},
     "outputs": [
      {
       "metadata": {},
       "output_type": "display_data",
       "text": [
        " [1]  1  2  3  4  5  6  7  8  9 10 11 12 13 14 15 16 17 18 19 20 19 18 17 16 15\n",
        "[26] 14 13 12 11 10  9  8  7  6  5  4  3  2  1\n"
       ]
      }
     ],
     "prompt_number": 131
    },
    {
     "cell_type": "markdown",
     "metadata": {},
     "source": [
      "* $(4, 4,\\dots, 4, 6, 6, \\dots, 6, 3, 3, \\dots, 3)$  where 4 appears 10 times, 6 appears 20 times, and 3 appears 30 times"
     ]
    },
    {
     "cell_type": "code",
     "collapsed": false,
     "input": [
      "%%R\n",
      "x = rep(c(4,6,3), c(10, 20, 30)); print(x)"
     ],
     "language": "python",
     "metadata": {},
     "outputs": [
      {
       "metadata": {},
       "output_type": "display_data",
       "text": [
        " [1] 4 4 4 4 4 4 4 4 4 4 6 6 6 6 6 6 6 6 6 6 6 6 6 6 6 6 6 6 6 6 3 3 3 3 3 3 3 3\n",
        "[39] 3 3 3 3 3 3 3 3 3 3 3 3 3 3 3 3 3 3 3 3 3 3\n"
       ]
      }
     ],
     "prompt_number": 132
    },
    {
     "cell_type": "markdown",
     "metadata": {},
     "source": [
      "* ('label 1', 'label 2',..., 'label 30')"
     ]
    },
    {
     "cell_type": "code",
     "collapsed": false,
     "input": [
      "%%R\n",
      "\n",
      "labels = paste('label', 1:30); print(labels)"
     ],
     "language": "python",
     "metadata": {},
     "outputs": [
      {
       "metadata": {},
       "output_type": "display_data",
       "text": [
        " [1] \"label 1\"  \"label 2\"  \"label 3\"  \"label 4\"  \"label 5\"  \"label 6\" \n",
        " [7] \"label 7\"  \"label 8\"  \"label 9\"  \"label 10\" \"label 11\" \"label 12\"\n",
        "[13] \"label 13\" \"label 14\" \"label 15\" \"label 16\" \"label 17\" \"label 18\"\n",
        "[19] \"label 19\" \"label 20\" \"label 21\" \"label 22\" \"label 23\" \"label 24\"\n",
        "[25] \"label 25\" \"label 26\" \"label 27\" \"label 28\" \"label 29\" \"label 30\"\n"
       ]
      }
     ],
     "prompt_number": 133
    },
    {
     "cell_type": "markdown",
     "metadata": {},
     "source": [
      "* Create a vector containing the values $e^x\\cos(x)$ at $x=3, 3.1, 3.2, \\dots, 6$."
     ]
    },
    {
     "cell_type": "code",
     "collapsed": false,
     "input": [
      "%%R\n",
      "x = seq(3, 6, by=0.1)\n",
      "y = exp(x)*cos(x); print(y)"
     ],
     "language": "python",
     "metadata": {},
     "outputs": [
      {
       "metadata": {},
       "output_type": "display_data",
       "text": [
        " [1] -19.884531 -22.178753 -24.490697 -26.773182 -28.969238 -31.011186\n",
        " [7] -32.819775 -34.303360 -35.357194 -35.862834 -35.687732 -34.685042\n",
        "[13] -32.693695 -29.538816 -25.032529 -18.975233 -11.157417  -1.362099\n",
        "[19]  10.632038  25.046705  42.099201  61.996630  84.929067 111.061586\n",
        "[25] 140.525075 173.405776 209.733494 249.468441 292.486707 338.564378\n",
        "[31] 387.360340\n"
       ]
      }
     ],
     "prompt_number": 134
    },
    {
     "cell_type": "markdown",
     "metadata": {},
     "source": [
      "* Create the vector $x=(1/2^1,\\dots,1/2^{200})$ and then calculate the following sum in a vectorized way \n",
      "\n",
      "$$\\sum_{i=1}^{199}\\frac{e^{-x_{i+1}}}{x_i+10}$$"
     ]
    },
    {
     "cell_type": "code",
     "collapsed": false,
     "input": [
      "%%R\n",
      "\n",
      "x = 1/2^(1:200)\n",
      "i = 1:199\n",
      "result = sum(exp(-x[i+1])/(x[i] + 10)); print(result)"
     ],
     "language": "python",
     "metadata": {},
     "outputs": [
      {
       "metadata": {},
       "output_type": "display_data",
       "text": [
        "[1] 19.84565\n"
       ]
      }
     ],
     "prompt_number": 135
    },
    {
     "cell_type": "markdown",
     "metadata": {},
     "source": [
      "* Write a function <code>simulate.weatherFrame(n, T.freq, H.freq)</code> that return a randomly generated data frame with $n$ observations of the two categorical variables: <code>Temperature</code> whose values can \"Cold\", \"Warm\", and \"Hot\" and <code>Humidity</code> whose values can be \"Low\", \"Normal\", and \"High\". The <code>T.freq</code> argument should specify the occurence frequencies of \"Cold\", \"Warm\", and \"Hot\", while the <code>H.freq</code> argument should specify the occurence frequencies of \"Low\", \"Normal\", and \"High\". The type of both variables should be <code>factor</code>."
     ]
    },
    {
     "cell_type": "code",
     "collapsed": false,
     "input": [
      "%%R\n",
      "\n",
      "simulate.weatherFrame = function(n, T.freq, H.freq)\n",
      "{\n",
      "    Temp = factor(sample(c('Cold', 'Warm', 'Hot')  , n, replace=T, prob=T.freq))\n",
      "    Humi = factor(sample(c('Low', 'Normal', 'High'), n, replace=T, prob=H.freq))\n",
      "    df = data.frame(Temperature=Temp, Humidity=Humi)\n",
      "    return(df)  \n",
      "}"
     ],
     "language": "python",
     "metadata": {},
     "outputs": [],
     "prompt_number": 175
    },
    {
     "cell_type": "code",
     "collapsed": false,
     "input": [
      "%%R\n",
      "\n",
      "df = simulate.weatherFrame(200, c(0.2, 0.3, 0.5), c(0.2, 0.3, 0.5))\n",
      "print(head(df))"
     ],
     "language": "python",
     "metadata": {},
     "outputs": [
      {
       "metadata": {},
       "output_type": "display_data",
       "text": [
        "  Temperature Humidity\n",
        "1        Warm   Normal\n",
        "2        Warm   Normal\n",
        "3        Cold     High\n",
        "4         Hot   Normal\n",
        "5        Warm   Normal\n",
        "6         Hot     High\n"
       ]
      }
     ],
     "prompt_number": 177
    },
    {
     "cell_type": "heading",
     "level": 2,
     "metadata": {},
     "source": [
      "Part II: Writting and Using Classes"
     ]
    },
    {
     "cell_type": "markdown",
     "metadata": {},
     "source": [
      "Consider the following character vector containing personal information:"
     ]
    },
    {
     "cell_type": "markdown",
     "metadata": {},
     "source": [
      "* Write the constructor of a class <code>contact</code> that has the following attributes: <code>Name</code>, <code>Phone</code>, <code>Email</code>, and <code>Age</code>."
     ]
    },
    {
     "cell_type": "code",
     "collapsed": false,
     "input": [
      "%%R\n",
      "\n",
      "contact = function(name, phone, email, age)\n",
      "{\n",
      "    object = list(Name=name, Phone=phone, Email=email, Age=age)\n",
      "    class(object) = 'contact'\n",
      "    return(object)\n",
      "}"
     ],
     "language": "python",
     "metadata": {},
     "outputs": [],
     "prompt_number": 138
    },
    {
     "cell_type": "code",
     "collapsed": false,
     "input": [
      "%%R\n",
      "\n",
      "bob = contact('Bob Duran', '324 5342', '234@ljlj.com', 12)\n",
      "paul = contact('Paul Duran', '324 5342', '234@ljlj.com', 12)\n",
      "jane = contact('Jane Duran', '324 5342', '234@ljlj.com', 12)\n",
      "\n",
      "print(bob$Phone)\n",
      "print(class(bob))"
     ],
     "language": "python",
     "metadata": {},
     "outputs": [
      {
       "metadata": {},
       "output_type": "display_data",
       "text": [
        "[1] \"324 5342\"\n",
        "[1] \"contact\"\n"
       ]
      }
     ],
     "prompt_number": 139
    },
    {
     "cell_type": "markdown",
     "metadata": {},
     "source": [
      "* Write the constructor of a class <code>addressBook</code> that has the following attributes: <code>owner</code>, which is a string containing the address book owner name, <code>contacts</code> which is meant to store a list of <code>contact</code> objects, and <code>fields</code> which is a character vector containing the contact fields (i.e. \"Name\", \"Phone\", and \"Email\").\n",
      "\n",
      "The class constructor should set the contact list attribute to the empty list if no <code>contact</code> argument is passsed to it.\n",
      "\n",
      "\n",
      "The class constructor should also create the attribute <code>fields</code> and store the contact fields. Because of that, there is no need of a <code>fields</code> argument for the class constructor."
     ]
    },
    {
     "cell_type": "code",
     "collapsed": false,
     "input": [
      "%%R\n",
      "\n",
      "addressBook = function(owner, contacts=list())\n",
      "{\n",
      "    object = list(owner=owner, \n",
      "                  contacts=contacts, \n",
      "                  fields=c('Name', 'Phone', 'Email', 'Age')\n",
      "                 )\n",
      "    class(object) = 'addressBook'\n",
      "    return(object) \n",
      "}"
     ],
     "language": "python",
     "metadata": {},
     "outputs": [],
     "prompt_number": 140
    },
    {
     "cell_type": "code",
     "collapsed": false,
     "input": [
      "%%R\n",
      "\n",
      "a = addressBook('Bertrant Blue', list(bob, paul, jane))\n"
     ],
     "language": "python",
     "metadata": {},
     "outputs": [],
     "prompt_number": 141
    },
    {
     "cell_type": "markdown",
     "metadata": {},
     "source": [
      "* Write a method <code>as.data.frame</code> for the class <code>addressBook</code> that returns a data frame of the contacts in the address book. (The column should have labels 'Name', 'Phone', 'Email', and 'Age' and be of  the appropriate column types.)\n",
      "\n",
      "**You should use the apply function family here and vectorized code. If you can not do it this way, try with for loops, but points will be deducted.**"
     ]
    },
    {
     "cell_type": "code",
     "collapsed": false,
     "input": [
      "%%R\n",
      "\n",
      "as.data.frame.addressBook = function(object)\n",
      "{\n",
      "    getField = function(field) \n",
      "    {\n",
      "        sapply(object$contacts, function(contact) contact[[field]]\n",
      "    )\n",
      "    df = as.data.frame(lapply(object$fields, getField))\n",
      "    colnames(df) = object$fields\n",
      "    return(df)\n",
      "}"
     ],
     "language": "python",
     "metadata": {},
     "outputs": [],
     "prompt_number": 142
    },
    {
     "cell_type": "code",
     "collapsed": false,
     "input": [
      "%%R\n",
      "\n",
      "df= as.data.frame(a)\n",
      "print(df)"
     ],
     "language": "python",
     "metadata": {},
     "outputs": [
      {
       "metadata": {},
       "output_type": "display_data",
       "text": [
        "        Name    Phone        Email Age\n",
        "1  Bob Duran 324 5342 234@ljlj.com  12\n",
        "2 Paul Duran 324 5342 234@ljlj.com  12\n",
        "3 Jane Duran 324 5342 234@ljlj.com  12\n"
       ]
      }
     ],
     "prompt_number": 143
    },
    {
     "cell_type": "markdown",
     "metadata": {},
     "source": [
      "* Using the method you just created, write a <code>print</code> method for the class <code>addressBook</code> that displays the name of the address book owner followed by the contact information displayed as a data table:"
     ]
    },
    {
     "cell_type": "code",
     "collapsed": false,
     "input": [
      "%%R\n",
      "\n",
      "print.addressBook = function(object) print(as.data.frame(object))"
     ],
     "language": "python",
     "metadata": {},
     "outputs": [],
     "prompt_number": 144
    },
    {
     "cell_type": "code",
     "collapsed": false,
     "input": [
      "%%R\n",
      "\n",
      "print(a)"
     ],
     "language": "python",
     "metadata": {},
     "outputs": [
      {
       "metadata": {},
       "output_type": "display_data",
       "text": [
        "        Name    Phone        Email Age\n",
        "1  Bob Duran 324 5342 234@ljlj.com  12\n",
        "2 Paul Duran 324 5342 234@ljlj.com  12\n",
        "3 Jane Duran 324 5342 234@ljlj.com  12\n"
       ]
      }
     ],
     "prompt_number": 145
    },
    {
     "cell_type": "markdown",
     "metadata": {},
     "source": [
      "* Suppose our contact data are gathered in the form of character vectors as below:"
     ]
    },
    {
     "cell_type": "code",
     "collapsed": false,
     "input": [
      "%%R\n",
      "\n",
      "info = c('Bob Durant 56years bob@bibishop.com',\n",
      "         'Dan Bribri 10years 415 7838',\n",
      "         'Brig Farty 38years 510 3478',\n",
      "         'Cart Shuok 34years Cart@RATROU.com',\n",
      "         'Krug Erbil 54years Cart@RATROU.com 510 230 450')\n"
     ],
     "language": "python",
     "metadata": {},
     "outputs": [],
     "prompt_number": 146
    },
    {
     "cell_type": "markdown",
     "metadata": {},
     "source": [
      "* Using regular expressions, write a function <code>create.addressBook(info, owner)</code> that takes a character vector as above and returns an <code>addressBook</code> object with the contact attribute set appropriately for each element of <code>info</code>. Write helper functions to break down the problemn and your code in small chunks: for instance, you may want to write  getName, getPhone, etc. fucntions"
     ]
    },
    {
     "cell_type": "code",
     "collapsed": false,
     "input": [
      "%%R\n",
      "\n",
      "getName  = function(info) sub('[0-9]{2}years.*', '', info)\n",
      "getPhone = function(info) sub('^[^0-9 ]*', '', sub('^.*years *', '', info))\n",
      "getEmail = function(info) sub('[ 0-9]*$', '', sub('^.*years *', '', info))\n",
      "getAge   = function(info) as.numeric(sub('years.*', '', sub('^[^0-9]+', '', info)))\n",
      "    \n",
      "create.addressBook = function(info, owner)\n",
      "{\n",
      "    info.df = data.frame(getName(info), \n",
      "                         getPhone(info), \n",
      "                         getEmail(info), \n",
      "                         getAge(info)\n",
      "                        )\n",
      "    contact.df = as.data.frame(t(info.df), stringsAsFactors=F)\n",
      "    contact.list = lapply(contact.df, \n",
      "                          function(X) contact(name=X[1], \n",
      "                                              phone=X[2], \n",
      "                                              email=X[3], \n",
      "                                              age=X[4])\n",
      "                              )\n",
      "    return(addressBook(owner, contact.list))\n",
      "    \n",
      "}"
     ],
     "language": "python",
     "metadata": {},
     "outputs": [],
     "prompt_number": 172
    },
    {
     "cell_type": "code",
     "collapsed": false,
     "input": [
      "%%R\n",
      "\n",
      "clist = create.addressBook(info, 'Paul Rastaboom')\n",
      "print(clist)"
     ],
     "language": "python",
     "metadata": {},
     "outputs": [
      {
       "metadata": {},
       "output_type": "display_data",
       "text": [
        "          Name        Phone            Email Age\n",
        "V1 Bob Durant               bob@bibishop.com  56\n",
        "V2 Dan Bribri      415 7838                   10\n",
        "V3 Brig Farty      510 3478                   38\n",
        "V4 Cart Shuok                Cart@RATROU.com  34\n",
        "V5 Krug Erbil   510 230 450  Cart@RATROU.com  54\n"
       ]
      }
     ],
     "prompt_number": 173
    },
    {
     "cell_type": "heading",
     "level": 2,
     "metadata": {},
     "source": [
      "Part III: Refactoring Code"
     ]
    },
    {
     "cell_type": "markdown",
     "metadata": {},
     "source": [
      "The following code simulates a data frame containing the homework, midterm, and final grades of a given class. The grades and the student names are randomly generated. This code is not optimal for two reasons:\n",
      "\n",
      "* it is not broken into simple **functions**, which we may reuse to simulate data frame of the same type\n",
      "\n",
      "* it is not **vectorized**, since it loops and branches over vector elements with <code>for</code> and <code>if</code> statements\n"
     ]
    },
    {
     "cell_type": "code",
     "collapsed": false,
     "input": [
      "%%R\n",
      "\n",
      "student.number = 200\n",
      "\n",
      "Homework = rnorm(student.number, mean=50, sd=30)\n",
      "Midterm  = rnorm(student.number, mean=50, sd=30)\n",
      "Final    = rnorm(student.number, mean=50, sd=30)\n",
      "grades   = data.frame(F=Final, M=Midterm, H=Homework)\n",
      "\n",
      "for(i in 1:nrow(grades)){\n",
      "    for(j in 1:ncol(grades)){\n",
      "        if(grades[i,j] > 100) grades[i,j] = 100\n",
      "        if(grades[i,j] < 0  ) grades[i,j] = 0           \n",
      "    }\n",
      "}\n",
      "\n",
      "\n",
      "V = c('a', 'e', 'i','o','u','au','in','an','on','ou')\n",
      "C = letters[-grep('a|e|i|o|u', letters)]\n",
      "I = toupper(C)\n",
      "\n",
      "simulated.names = c()\n",
      "\n",
      "for (i in 1:student.number){\n",
      "    first.name = paste(sample(I,1), sample(V,1), sample(C,1), sample(V,1), sep='')\n",
      "    last.name  = paste(sample(I,1), sample(V,1), sample(C,1), sample(V,1), sep='')\n",
      "    name       = paste(first.name, last.name, sep=' ')\n",
      "    simulated.names = c(simulated.names, name)\n",
      "}\n",
      "\n",
      "\n",
      "row.names(grades) = simulated.names"
     ],
     "language": "python",
     "metadata": {},
     "outputs": [],
     "prompt_number": 35
    },
    {
     "cell_type": "markdown",
     "metadata": {},
     "source": [
      "Here is what the first entries in the simulated data frame <code>grades</code> look like:"
     ]
    },
    {
     "cell_type": "code",
     "collapsed": false,
     "input": [
      "%%R\n",
      "print(head(grades))"
     ],
     "language": "python",
     "metadata": {},
     "outputs": [
      {
       "metadata": {},
       "output_type": "display_data",
       "text": [
        "                     F        M         H\n",
        "Hujan Sinyon  26.11236 68.18481   0.00000\n",
        "Cigon Lagau   14.68318 30.65834  39.24186\n",
        "Naju Kanu     60.51722 87.85363 100.00000\n",
        "Wongan Doube   0.00000 49.46895  37.94274\n",
        "Dinli Qohu    50.92315 33.16281  59.40605\n",
        "Ronnau Fonman  3.82837 87.45357  35.60847\n"
       ]
      }
     ],
     "prompt_number": 36
    },
    {
     "cell_type": "markdown",
     "metadata": {},
     "source": [
      "The goal of this exercise is to **break this code into reusable functions and to vectorized it**. \n",
      "In the cell below, you'll break this code into the following functions:\n",
      "\n",
      "* a function <code>simulate.names(n)</code> returning a character vector of $n$ randomly generated names in the format above\n",
      "\n",
      "\n",
      "* a function <code>clean.grades(df, min=0, max=100)</code> that takes a grade dataframe with any number of columns and rows and set the grades above <code>max</code> to <code>max</code> and the grades below <code>min</code> to <code>min</code>. The function should return the data frame with cleaned grades.\n",
      "\n",
      "\n",
      "* a function <code>simulate.gradeFrame(col.names, student.number, grade.range)</code> that takes a character vector <code>col.names</code> containing the column names and returns a data frame with as many columns as elements in the first argument and as many rows as specified by the integer <code>student.number</code>. The grades should be between <code>grade.range[1]</code> and <code>grade.range[2]</code>, which is an numeric vector with two elements. The rows should be labelled with randomly generated student names. Use the function you wrote before in this function body.\n",
      "\n",
      "In the last cell, use your <code>simulate.gradeFrame</code> function to simulate the same type of grade frame as above.\n",
      "\n",
      "**CAUTION:** Your code should be **vectorized**. Points will be removed for any <code>for</code> loops and <code>if</code> statements your write: ideally, you should write note of theses. You can write as many helper functions as you wish, if you feel the need to."
     ]
    },
    {
     "cell_type": "code",
     "collapsed": false,
     "input": [
      "%%R\n",
      "\n",
      "chunks = function(A, n) sample(A, n, replace=T, prob=rep(1/length(A), length(A)))\n",
      "    \n",
      "singleNames = function(n) paste(chunks(I,n), \n",
      "                                chunks(V,n), \n",
      "                                chunks(C,n), \n",
      "                                chunks(V,n), \n",
      "                                sep=''\n",
      "                               )\n",
      "    \n",
      "simulate.names = function(n) paste(singleNames(n), \n",
      "                                   singleNames(n), \n",
      "                                   sep=' '\n",
      "                                  )\n"
     ],
     "language": "python",
     "metadata": {},
     "outputs": [],
     "prompt_number": 37
    },
    {
     "cell_type": "code",
     "collapsed": false,
     "input": [
      "%%R\n",
      "\n",
      "clean.grades = function(df, min=0, max=100)\n",
      "{\n",
      "    df[df < min] = min\n",
      "    df[df > max] = max\n",
      "    return(df)\n",
      "}"
     ],
     "language": "python",
     "metadata": {},
     "outputs": [],
     "prompt_number": 38
    },
    {
     "cell_type": "code",
     "collapsed": false,
     "input": [
      "%%R\n",
      "\n",
      "simulate.gradeFrame = function(col.names, student.number, grade.range)\n",
      "{\n",
      "    grades = sapply(1:length(col.names), \n",
      "                    function(x) rnorm(student.number, mean=50, sd=30)\n",
      "                    )\n",
      "                        \n",
      "    grades = as.data.frame(clean.grades(grades))\n",
      "        \n",
      "    colnames(grades) = col.names \n",
      "    rownames(grades) = simulate.names(student.number)\n",
      "    return(grades)\n",
      "}"
     ],
     "language": "python",
     "metadata": {},
     "outputs": [],
     "prompt_number": 39
    },
    {
     "cell_type": "code",
     "collapsed": false,
     "input": [
      "%%R\n",
      "grades = simulate.gradeFrame(c('F', 'M', 'H'), 200)\n",
      "print(head(grades))"
     ],
     "language": "python",
     "metadata": {},
     "outputs": [
      {
       "metadata": {},
       "output_type": "display_data",
       "text": [
        "                    F        M        H\n",
        "Zonfon Vija  36.65617 89.60199 75.28259\n",
        "Hako Noyan   54.05560 67.66865 25.17915\n",
        "Penon Kosu   72.88547 27.47065 71.28733\n",
        "Vonzo Yeqau  28.38218 28.54643 71.88899\n",
        "Minhau Kanca 80.24022 50.67674 66.28161\n",
        "Cinzu Kinau  55.19146 30.61899 19.83443\n"
       ]
      }
     ],
     "prompt_number": 40
    },
    {
     "cell_type": "code",
     "collapsed": false,
     "input": [],
     "language": "python",
     "metadata": {},
     "outputs": [],
     "prompt_number": 40
    },
    {
     "cell_type": "code",
     "collapsed": false,
     "input": [],
     "language": "python",
     "metadata": {},
     "outputs": [],
     "prompt_number": 40
    },
    {
     "cell_type": "code",
     "collapsed": false,
     "input": [],
     "language": "python",
     "metadata": {},
     "outputs": []
    }
   ],
   "metadata": {}
  }
 ]
}